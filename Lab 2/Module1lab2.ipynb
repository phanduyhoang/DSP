








<!DOCTYPE html>
<html lang="en">

<head>
  <meta charset="utf-8">
  <title>Jupyter Notebook Viewer</title>
  <meta name="viewport" content="width=device-width, initial-scale=1.0">
  <meta name="description" content="">
  <meta name="author" content="">
  
  <meta name="robots" content="noindex,nofollow">
  

  <!--NEW RELIC Start Perf Measurement-->
  
  <!--NREND-->

  <!-- Le styles -->
  <link href="/static/build/styles.css" rel="stylesheet">

  <!-- Le HTML5 shim, for IE6-8 support of HTML5 elements -->
  <!--[if lt IE 9]>
    <script src="http://html5shim.googlecode.com/svn/trunk/html5.js"></script>
  <![endif]-->

  <!-- Le fav and touch icons -->
  <link rel="shortcut icon" href="/static/ico/ipynb_icon_16x16.png">
  <link rel="apple-touch-icon-precomposed" sizes="144x144"
        href="/static/ico/apple-touch-icon-144-precomposed.png">
  <link rel="apple-touch-icon-precomposed" sizes="114x114"
        href="/static/ico/apple-touch-icon-114-precomposed.png">
  <link rel="apple-touch-icon-precomposed" sizes="72x72"
        href="/static/ico/apple-touch-icon-72-precomposed.png">
  <link rel="apple-touch-icon-precomposed"
        href="/static/ico/apple-touch-icon-57-precomposed.png">
  <!--block extra head layout.html-->
  
  

  

  
  <meta name="twitter:card" content="summary">
  <meta name="twitter:title" content="Notebook on nbviewer">
  <meta name="twitter:description" content="Check out this Jupyter notebook!">

  
  <meta name="twitter:domain" content="nbviewer.jupyter.org">
  <meta name="twitter:image:src" content="http://ipython.org/ipython-doc/dev/_images/ipynb_icon_128x128.png">

  
    <link href="/static/build/notebook.css" rel="stylesheet">
  

  

  
    <script src="https://cdnjs.cloudflare.com/ajax/libs/mathjax/2.7.1/MathJax.js?config=TeX-AMS_HTML" type="text/javascript">
    </script>
    <script type="text/javascript">
      init_mathjax = function() {
        if (window.MathJax) {
          // MathJax loaded
          MathJax.Hub.Config({
            TeX: {
              equationNumbers: {
                autoNumber: "AMS",
                useLabelIds: true
              }
            },
            tex2jax: {
              inlineMath: [ ['$','$'], ["\\(","\\)"] ],
              displayMath: [ ['$$','$$'], ["\\[","\\]"] ],
              processEscapes: true,
              processEnvironments: true
            },
            displayAlign: 'center',
            "HTML-CSS": {
              styles: {'.MathJax_Display': {"margin": 0}},
              linebreaks: { automatic: true }
            }
          });
          MathJax.Hub.Queue(["Typeset", MathJax.Hub]);
        }
      }
      init_mathjax();
    </script>
  

  
    <!-- block ipywidgets notebook.html -->
    <script>
      (function() {
        function addWidgetsRenderer() {
          var mimeElement = document.querySelector('script[type="application/vnd.jupyter.widget-view+json"]');
          var scriptElement = document.createElement('script');
          var widgetRendererSrc = 'https://unpkg.com/@jupyter-widgets/html-manager@0.15/dist/embed-amd.js';
          var widgetState;

          try {
            widgetState = mimeElement && JSON.parse(mimeElement.innerHTML);

            if (widgetState && (widgetState.version_major < 2 || !widgetState.version_major)) {
              widgetRendererSrc = 'https://unpkg.com/jupyter-js-widgets@2.1/dist/embed.js';
            }
          } catch(e) {}

          scriptElement.src = widgetRendererSrc;

          document.body.appendChild(scriptElement);
        }

        document.addEventListener('DOMContentLoaded', addWidgetsRenderer);
      }());
    </script>
    <!-- end block ipywidgets notebook.html -->
  

  <!--end block extra head layout.html-->
  <link rel="stylesheet" href="https://cdn.jsdelivr.net/npm/@fortawesome/fontawesome-free@^5/css/all.min.css" type="text/css" />
  <link rel="stylesheet" href="https://cdn.jsdelivr.net/npm/@fortawesome/fontawesome-free@^5/css/v4-shims.min.css" type="text/css" />
</head>

<body class="nbviewer">

  <!-- These are loaded at the top of the body so they are available to
       notebook cells when they are loaded below. -->
  <script src="/static/components/jquery/dist/jquery.min.js"></script>
  <script src="/static/components/requirejs/require.js"></script>
  <script src="/static/components/moment/min/moment.min.js"></script>
<!-- Navbar
================================================== -->
  <nav id="menubar" class="navbar navbar-default navbar-fixed-top" data-spy="affix">
    <div class="container">
      <div class="navbar-header">
        <button type="button" class="navbar-toggle collapsed" data-toggle="collapse" data-target=".navbar-collapse">
          <span class="sr-only">Toggle navigation</span>
          <i class="fa fa-bars"></i>
        </button>
        <a class="navbar-brand" href="/">
          <img src="/static/img/nav_logo.svg" width="159"/>
        </a>
      </div>

      <div class="collapse navbar-collapse">
        <ul class="nav navbar-nav navbar-right">
          <li>
            <a class="active" href="http://jupyter.org">JUPYTER</a>
          </li>
          <li>
    <a href="/faq" title="FAQ" >
      
        <span>FAQ</span>
      
    </a>
  </li>

          
  
    
  
    
      
        <li>
    <a href="/format/slides/url/kprf.mipt.ru/attachments/article/73/Module1lab2.ipynb" title="View as Slides" >
      <span class="fa fa-gift fa-2x menu-icon"></span>
      <span class="menu-text">View as Slides</span>
    </a>
  </li>
      
    
  
    
      
        <li>
    <a href="/format/script/url/kprf.mipt.ru/attachments/article/73/Module1lab2.ipynb" title="View as Code" >
      <span class="fa fa-code fa-2x menu-icon"></span>
      <span class="menu-text">View as Code</span>
    </a>
  </li>
      
    
  

  
    <li>
    <a href="#" title="Python 3 (ipykernel) Kernel" >
      <span class="fa fa-server fa-2x menu-icon"></span>
      <span class="menu-text">Python 3 (ipykernel) Kernel</span>
    </a>
  </li>
  

  

  

  <li>
    <a href="http://kprf.mipt.ru/attachments/article/73/Module1lab2.ipynb" title="Download Notebook" download>
      <span class="fa fa-download fa-2x menu-icon"></span>
      <span class="menu-text">Download Notebook</span>
    </a>
  </li>

        </ul>
      </div><!-- /.navbar-collapse -->
      
      
    </div>
  </nav>

  <div class="container container-main">
    
  <!-- block body safe notebook.html -->
  
  <!DOCTYPE html>
<html>
<head><meta charset="utf-8" />
<meta name="viewport" content="width=device-width, initial-scale=1.0">

<title>Notebook</title><script src="https://cdnjs.cloudflare.com/ajax/libs/require.js/2.1.10/require.min.js"></script>




<style type="text/css">
    pre { line-height: 125%; }
td.linenos .normal { color: inherit; background-color: transparent; padding-left: 5px; padding-right: 5px; }
span.linenos { color: inherit; background-color: transparent; padding-left: 5px; padding-right: 5px; }
td.linenos .special { color: #000000; background-color: #ffffc0; padding-left: 5px; padding-right: 5px; }
span.linenos.special { color: #000000; background-color: #ffffc0; padding-left: 5px; padding-right: 5px; }
.highlight .hll { background-color: var(--jp-cell-editor-active-background) }
.highlight { background: var(--jp-cell-editor-background); color: var(--jp-mirror-editor-variable-color) }
.highlight .c { color: var(--jp-mirror-editor-comment-color); font-style: italic } /* Comment */
.highlight .err { color: var(--jp-mirror-editor-error-color) } /* Error */
.highlight .k { color: var(--jp-mirror-editor-keyword-color); font-weight: bold } /* Keyword */
.highlight .o { color: var(--jp-mirror-editor-operator-color); font-weight: bold } /* Operator */
.highlight .p { color: var(--jp-mirror-editor-punctuation-color) } /* Punctuation */
.highlight .ch { color: var(--jp-mirror-editor-comment-color); font-style: italic } /* Comment.Hashbang */
.highlight .cm { color: var(--jp-mirror-editor-comment-color); font-style: italic } /* Comment.Multiline */
.highlight .cp { color: var(--jp-mirror-editor-comment-color); font-style: italic } /* Comment.Preproc */
.highlight .cpf { color: var(--jp-mirror-editor-comment-color); font-style: italic } /* Comment.PreprocFile */
.highlight .c1 { color: var(--jp-mirror-editor-comment-color); font-style: italic } /* Comment.Single */
.highlight .cs { color: var(--jp-mirror-editor-comment-color); font-style: italic } /* Comment.Special */
.highlight .kc { color: var(--jp-mirror-editor-keyword-color); font-weight: bold } /* Keyword.Constant */
.highlight .kd { color: var(--jp-mirror-editor-keyword-color); font-weight: bold } /* Keyword.Declaration */
.highlight .kn { color: var(--jp-mirror-editor-keyword-color); font-weight: bold } /* Keyword.Namespace */
.highlight .kp { color: var(--jp-mirror-editor-keyword-color); font-weight: bold } /* Keyword.Pseudo */
.highlight .kr { color: var(--jp-mirror-editor-keyword-color); font-weight: bold } /* Keyword.Reserved */
.highlight .kt { color: var(--jp-mirror-editor-keyword-color); font-weight: bold } /* Keyword.Type */
.highlight .m { color: var(--jp-mirror-editor-number-color) } /* Literal.Number */
.highlight .s { color: var(--jp-mirror-editor-string-color) } /* Literal.String */
.highlight .ow { color: var(--jp-mirror-editor-operator-color); font-weight: bold } /* Operator.Word */
.highlight .pm { color: var(--jp-mirror-editor-punctuation-color) } /* Punctuation.Marker */
.highlight .w { color: var(--jp-mirror-editor-variable-color) } /* Text.Whitespace */
.highlight .mb { color: var(--jp-mirror-editor-number-color) } /* Literal.Number.Bin */
.highlight .mf { color: var(--jp-mirror-editor-number-color) } /* Literal.Number.Float */
.highlight .mh { color: var(--jp-mirror-editor-number-color) } /* Literal.Number.Hex */
.highlight .mi { color: var(--jp-mirror-editor-number-color) } /* Literal.Number.Integer */
.highlight .mo { color: var(--jp-mirror-editor-number-color) } /* Literal.Number.Oct */
.highlight .sa { color: var(--jp-mirror-editor-string-color) } /* Literal.String.Affix */
.highlight .sb { color: var(--jp-mirror-editor-string-color) } /* Literal.String.Backtick */
.highlight .sc { color: var(--jp-mirror-editor-string-color) } /* Literal.String.Char */
.highlight .dl { color: var(--jp-mirror-editor-string-color) } /* Literal.String.Delimiter */
.highlight .sd { color: var(--jp-mirror-editor-string-color) } /* Literal.String.Doc */
.highlight .s2 { color: var(--jp-mirror-editor-string-color) } /* Literal.String.Double */
.highlight .se { color: var(--jp-mirror-editor-string-color) } /* Literal.String.Escape */
.highlight .sh { color: var(--jp-mirror-editor-string-color) } /* Literal.String.Heredoc */
.highlight .si { color: var(--jp-mirror-editor-string-color) } /* Literal.String.Interpol */
.highlight .sx { color: var(--jp-mirror-editor-string-color) } /* Literal.String.Other */
.highlight .sr { color: var(--jp-mirror-editor-string-color) } /* Literal.String.Regex */
.highlight .s1 { color: var(--jp-mirror-editor-string-color) } /* Literal.String.Single */
.highlight .ss { color: var(--jp-mirror-editor-string-color) } /* Literal.String.Symbol */
.highlight .il { color: var(--jp-mirror-editor-number-color) } /* Literal.Number.Integer.Long */
  </style>



<style type="text/css">
/*-----------------------------------------------------------------------------
| Copyright (c) Jupyter Development Team.
| Distributed under the terms of the Modified BSD License.
|----------------------------------------------------------------------------*/

/*
 * Mozilla scrollbar styling
 */

/* use standard opaque scrollbars for most nodes */
[data-jp-theme-scrollbars='true'] {
  scrollbar-color: rgb(var(--jp-scrollbar-thumb-color))
    var(--jp-scrollbar-background-color);
}

/* for code nodes, use a transparent style of scrollbar. These selectors
 * will match lower in the tree, and so will override the above */
[data-jp-theme-scrollbars='true'] .CodeMirror-hscrollbar,
[data-jp-theme-scrollbars='true'] .CodeMirror-vscrollbar {
  scrollbar-color: rgba(var(--jp-scrollbar-thumb-color), 0.5) transparent;
}

/* tiny scrollbar */

.jp-scrollbar-tiny {
  scrollbar-color: rgba(var(--jp-scrollbar-thumb-color), 0.5) transparent;
  scrollbar-width: thin;
}

/*
 * Webkit scrollbar styling
 */

/* use standard opaque scrollbars for most nodes */

[data-jp-theme-scrollbars='true'] ::-webkit-scrollbar,
[data-jp-theme-scrollbars='true'] ::-webkit-scrollbar-corner {
  background: var(--jp-scrollbar-background-color);
}

[data-jp-theme-scrollbars='true'] ::-webkit-scrollbar-thumb {
  background: rgb(var(--jp-scrollbar-thumb-color));
  border: var(--jp-scrollbar-thumb-margin) solid transparent;
  background-clip: content-box;
  border-radius: var(--jp-scrollbar-thumb-radius);
}

[data-jp-theme-scrollbars='true'] ::-webkit-scrollbar-track:horizontal {
  border-left: var(--jp-scrollbar-endpad) solid
    var(--jp-scrollbar-background-color);
  border-right: var(--jp-scrollbar-endpad) solid
    var(--jp-scrollbar-background-color);
}

[data-jp-theme-scrollbars='true'] ::-webkit-scrollbar-track:vertical {
  border-top: var(--jp-scrollbar-endpad) solid
    var(--jp-scrollbar-background-color);
  border-bottom: var(--jp-scrollbar-endpad) solid
    var(--jp-scrollbar-background-color);
}

/* for code nodes, use a transparent style of scrollbar */

[data-jp-theme-scrollbars='true'] .CodeMirror-hscrollbar::-webkit-scrollbar,
[data-jp-theme-scrollbars='true'] .CodeMirror-vscrollbar::-webkit-scrollbar,
[data-jp-theme-scrollbars='true']
  .CodeMirror-hscrollbar::-webkit-scrollbar-corner,
[data-jp-theme-scrollbars='true']
  .CodeMirror-vscrollbar::-webkit-scrollbar-corner {
  background-color: transparent;
}

[data-jp-theme-scrollbars='true']
  .CodeMirror-hscrollbar::-webkit-scrollbar-thumb,
[data-jp-theme-scrollbars='true']
  .CodeMirror-vscrollbar::-webkit-scrollbar-thumb {
  background: rgba(var(--jp-scrollbar-thumb-color), 0.5);
  border: var(--jp-scrollbar-thumb-margin) solid transparent;
  background-clip: content-box;
  border-radius: var(--jp-scrollbar-thumb-radius);
}

[data-jp-theme-scrollbars='true']
  .CodeMirror-hscrollbar::-webkit-scrollbar-track:horizontal {
  border-left: var(--jp-scrollbar-endpad) solid transparent;
  border-right: var(--jp-scrollbar-endpad) solid transparent;
}

[data-jp-theme-scrollbars='true']
  .CodeMirror-vscrollbar::-webkit-scrollbar-track:vertical {
  border-top: var(--jp-scrollbar-endpad) solid transparent;
  border-bottom: var(--jp-scrollbar-endpad) solid transparent;
}

/* tiny scrollbar */

.jp-scrollbar-tiny::-webkit-scrollbar,
.jp-scrollbar-tiny::-webkit-scrollbar-corner {
  background-color: transparent;
  height: 4px;
  width: 4px;
}

.jp-scrollbar-tiny::-webkit-scrollbar-thumb {
  background: rgba(var(--jp-scrollbar-thumb-color), 0.5);
}

.jp-scrollbar-tiny::-webkit-scrollbar-track:horizontal {
  border-left: 0px solid transparent;
  border-right: 0px solid transparent;
}

.jp-scrollbar-tiny::-webkit-scrollbar-track:vertical {
  border-top: 0px solid transparent;
  border-bottom: 0px solid transparent;
}

/*
 * Phosphor
 */

.lm-ScrollBar[data-orientation='horizontal'] {
  min-height: 16px;
  max-height: 16px;
  min-width: 45px;
  border-top: 1px solid #a0a0a0;
}

.lm-ScrollBar[data-orientation='vertical'] {
  min-width: 16px;
  max-width: 16px;
  min-height: 45px;
  border-left: 1px solid #a0a0a0;
}

.lm-ScrollBar-button {
  background-color: #f0f0f0;
  background-position: center center;
  min-height: 15px;
  max-height: 15px;
  min-width: 15px;
  max-width: 15px;
}

.lm-ScrollBar-button:hover {
  background-color: #dadada;
}

.lm-ScrollBar-button.lm-mod-active {
  background-color: #cdcdcd;
}

.lm-ScrollBar-track {
  background: #f0f0f0;
}

.lm-ScrollBar-thumb {
  background: #cdcdcd;
}

.lm-ScrollBar-thumb:hover {
  background: #bababa;
}

.lm-ScrollBar-thumb.lm-mod-active {
  background: #a0a0a0;
}

.lm-ScrollBar[data-orientation='horizontal'] .lm-ScrollBar-thumb {
  height: 100%;
  min-width: 15px;
  border-left: 1px solid #a0a0a0;
  border-right: 1px solid #a0a0a0;
}

.lm-ScrollBar[data-orientation='vertical'] .lm-ScrollBar-thumb {
  width: 100%;
  min-height: 15px;
  border-top: 1px solid #a0a0a0;
  border-bottom: 1px solid #a0a0a0;
}

.lm-ScrollBar[data-orientation='horizontal']
  .lm-ScrollBar-button[data-action='decrement'] {
  background-image: var(--jp-icon-caret-left);
  background-size: 17px;
}

.lm-ScrollBar[data-orientation='horizontal']
  .lm-ScrollBar-button[data-action='increment'] {
  background-image: var(--jp-icon-caret-right);
  background-size: 17px;
}

.lm-ScrollBar[data-orientation='vertical']
  .lm-ScrollBar-button[data-action='decrement'] {
  background-image: var(--jp-icon-caret-up);
  background-size: 17px;
}

.lm-ScrollBar[data-orientation='vertical']
  .lm-ScrollBar-button[data-action='increment'] {
  background-image: var(--jp-icon-caret-down);
  background-size: 17px;
}

/*-----------------------------------------------------------------------------
| Copyright (c) Jupyter Development Team.
| Copyright (c) 2014-2017, PhosphorJS Contributors
|
| Distributed under the terms of the BSD 3-Clause License.
|
| The full license is in the file LICENSE, distributed with this software.
|----------------------------------------------------------------------------*/


/* <DEPRECATED> */ .p-Widget, /* </DEPRECATED> */
.lm-Widget {
  box-sizing: border-box;
  position: relative;
  overflow: hidden;
  cursor: default;
}


/* <DEPRECATED> */ .p-Widget.p-mod-hidden, /* </DEPRECATED> */
.lm-Widget.lm-mod-hidden {
  display: none !important;
}

/*-----------------------------------------------------------------------------
| Copyright (c) Jupyter Development Team.
| Copyright (c) 2014-2017, PhosphorJS Contributors
|
| Distributed under the terms of the BSD 3-Clause License.
|
| The full license is in the file LICENSE, distributed with this software.
|----------------------------------------------------------------------------*/


/* <DEPRECATED> */ .p-CommandPalette, /* </DEPRECATED> */
.lm-CommandPalette {
  display: flex;
  flex-direction: column;
  -webkit-user-select: none;
  -moz-user-select: none;
  -ms-user-select: none;
  user-select: none;
}


/* <DEPRECATED> */ .p-CommandPalette-search, /* </DEPRECATED> */
.lm-CommandPalette-search {
  flex: 0 0 auto;
}


/* <DEPRECATED> */ .p-CommandPalette-content, /* </DEPRECATED> */
.lm-CommandPalette-content {
  flex: 1 1 auto;
  margin: 0;
  padding: 0;
  min-height: 0;
  overflow: auto;
  list-style-type: none;
}


/* <DEPRECATED> */ .p-CommandPalette-header, /* </DEPRECATED> */
.lm-CommandPalette-header {
  overflow: hidden;
  white-space: nowrap;
  text-overflow: ellipsis;
}


/* <DEPRECATED> */ .p-CommandPalette-item, /* </DEPRECATED> */
.lm-CommandPalette-item {
  display: flex;
  flex-direction: row;
}


/* <DEPRECATED> */ .p-CommandPalette-itemIcon, /* </DEPRECATED> */
.lm-CommandPalette-itemIcon {
  flex: 0 0 auto;
}


/* <DEPRECATED> */ .p-CommandPalette-itemContent, /* </DEPRECATED> */
.lm-CommandPalette-itemContent {
  flex: 1 1 auto;
  overflow: hidden;
}


/* <DEPRECATED> */ .p-CommandPalette-itemShortcut, /* </DEPRECATED> */
.lm-CommandPalette-itemShortcut {
  flex: 0 0 auto;
}


/* <DEPRECATED> */ .p-CommandPalette-itemLabel, /* </DEPRECATED> */
.lm-CommandPalette-itemLabel {
  overflow: hidden;
  white-space: nowrap;
  text-overflow: ellipsis;
}

.lm-close-icon {
	border:1px solid transparent;
  background-color: transparent;
  position: absolute;
	z-index:1;
	right:3%;
	top: 0;
	bottom: 0;
	margin: auto;
	padding: 7px 0;
	display: none;
	vertical-align: middle;
  outline: 0;
  cursor: pointer;
}
.lm-close-icon:after {
	content: "X";
	display: block;
	width: 15px;
	height: 15px;
	text-align: center;
	color:#000;
	font-weight: normal;
	font-size: 12px;
	cursor: pointer;
}

/*-----------------------------------------------------------------------------
| Copyright (c) Jupyter Development Team.
| Copyright (c) 2014-2017, PhosphorJS Contributors
|
| Distributed under the terms of the BSD 3-Clause License.
|
| The full license is in the file LICENSE, distributed with this software.
|----------------------------------------------------------------------------*/


/* <DEPRECATED> */ .p-DockPanel, /* </DEPRECATED> */
.lm-DockPanel {
  z-index: 0;
}


/* <DEPRECATED> */ .p-DockPanel-widget, /* </DEPRECATED> */
.lm-DockPanel-widget {
  z-index: 0;
}


/* <DEPRECATED> */ .p-DockPanel-tabBar, /* </DEPRECATED> */
.lm-DockPanel-tabBar {
  z-index: 1;
}


/* <DEPRECATED> */ .p-DockPanel-handle, /* </DEPRECATED> */
.lm-DockPanel-handle {
  z-index: 2;
}


/* <DEPRECATED> */ .p-DockPanel-handle.p-mod-hidden, /* </DEPRECATED> */
.lm-DockPanel-handle.lm-mod-hidden {
  display: none !important;
}


/* <DEPRECATED> */ .p-DockPanel-handle:after, /* </DEPRECATED> */
.lm-DockPanel-handle:after {
  position: absolute;
  top: 0;
  left: 0;
  width: 100%;
  height: 100%;
  content: '';
}


/* <DEPRECATED> */
.p-DockPanel-handle[data-orientation='horizontal'],
/* </DEPRECATED> */
.lm-DockPanel-handle[data-orientation='horizontal'] {
  cursor: ew-resize;
}


/* <DEPRECATED> */
.p-DockPanel-handle[data-orientation='vertical'],
/* </DEPRECATED> */
.lm-DockPanel-handle[data-orientation='vertical'] {
  cursor: ns-resize;
}


/* <DEPRECATED> */
.p-DockPanel-handle[data-orientation='horizontal']:after,
/* </DEPRECATED> */
.lm-DockPanel-handle[data-orientation='horizontal']:after {
  left: 50%;
  min-width: 8px;
  transform: translateX(-50%);
}


/* <DEPRECATED> */
.p-DockPanel-handle[data-orientation='vertical']:after,
/* </DEPRECATED> */
.lm-DockPanel-handle[data-orientation='vertical']:after {
  top: 50%;
  min-height: 8px;
  transform: translateY(-50%);
}


/* <DEPRECATED> */ .p-DockPanel-overlay, /* </DEPRECATED> */
.lm-DockPanel-overlay {
  z-index: 3;
  box-sizing: border-box;
  pointer-events: none;
}


/* <DEPRECATED> */ .p-DockPanel-overlay.p-mod-hidden, /* </DEPRECATED> */
.lm-DockPanel-overlay.lm-mod-hidden {
  display: none !important;
}

/*-----------------------------------------------------------------------------
| Copyright (c) Jupyter Development Team.
| Copyright (c) 2014-2017, PhosphorJS Contributors
|
| Distributed under the terms of the BSD 3-Clause License.
|
| The full license is in the file LICENSE, distributed with this software.
|----------------------------------------------------------------------------*/


/* <DEPRECATED> */ .p-Menu, /* </DEPRECATED> */
.lm-Menu {
  z-index: 10000;
  position: absolute;
  white-space: nowrap;
  overflow-x: hidden;
  overflow-y: auto;
  outline: none;
  -webkit-user-select: none;
  -moz-user-select: none;
  -ms-user-select: none;
  user-select: none;
}


/* <DEPRECATED> */ .p-Menu-content, /* </DEPRECATED> */
.lm-Menu-content {
  margin: 0;
  padding: 0;
  display: table;
  list-style-type: none;
}


/* <DEPRECATED> */ .p-Menu-item, /* </DEPRECATED> */
.lm-Menu-item {
  display: table-row;
}


/* <DEPRECATED> */
.p-Menu-item.p-mod-hidden,
.p-Menu-item.p-mod-collapsed,
/* </DEPRECATED> */
.lm-Menu-item.lm-mod-hidden,
.lm-Menu-item.lm-mod-collapsed {
  display: none !important;
}


/* <DEPRECATED> */
.p-Menu-itemIcon,
.p-Menu-itemSubmenuIcon,
/* </DEPRECATED> */
.lm-Menu-itemIcon,
.lm-Menu-itemSubmenuIcon {
  display: table-cell;
  text-align: center;
}


/* <DEPRECATED> */ .p-Menu-itemLabel, /* </DEPRECATED> */
.lm-Menu-itemLabel {
  display: table-cell;
  text-align: left;
}


/* <DEPRECATED> */ .p-Menu-itemShortcut, /* </DEPRECATED> */
.lm-Menu-itemShortcut {
  display: table-cell;
  text-align: right;
}

/*-----------------------------------------------------------------------------
| Copyright (c) Jupyter Development Team.
| Copyright (c) 2014-2017, PhosphorJS Contributors
|
| Distributed under the terms of the BSD 3-Clause License.
|
| The full license is in the file LICENSE, distributed with this software.
|----------------------------------------------------------------------------*/


/* <DEPRECATED> */ .p-MenuBar, /* </DEPRECATED> */
.lm-MenuBar {
  outline: none;
  -webkit-user-select: none;
  -moz-user-select: none;
  -ms-user-select: none;
  user-select: none;
}


/* <DEPRECATED> */ .p-MenuBar-content, /* </DEPRECATED> */
.lm-MenuBar-content {
  margin: 0;
  padding: 0;
  display: flex;
  flex-direction: row;
  list-style-type: none;
}


/* <DEPRECATED> */ .p--MenuBar-item, /* </DEPRECATED> */
.lm-MenuBar-item {
  box-sizing: border-box;
}


/* <DEPRECATED> */
.p-MenuBar-itemIcon,
.p-MenuBar-itemLabel,
/* </DEPRECATED> */
.lm-MenuBar-itemIcon,
.lm-MenuBar-itemLabel {
  display: inline-block;
}

/*-----------------------------------------------------------------------------
| Copyright (c) Jupyter Development Team.
| Copyright (c) 2014-2017, PhosphorJS Contributors
|
| Distributed under the terms of the BSD 3-Clause License.
|
| The full license is in the file LICENSE, distributed with this software.
|----------------------------------------------------------------------------*/


/* <DEPRECATED> */ .p-ScrollBar, /* </DEPRECATED> */
.lm-ScrollBar {
  display: flex;
  -webkit-user-select: none;
  -moz-user-select: none;
  -ms-user-select: none;
  user-select: none;
}


/* <DEPRECATED> */
.p-ScrollBar[data-orientation='horizontal'],
/* </DEPRECATED> */
.lm-ScrollBar[data-orientation='horizontal'] {
  flex-direction: row;
}


/* <DEPRECATED> */
.p-ScrollBar[data-orientation='vertical'],
/* </DEPRECATED> */
.lm-ScrollBar[data-orientation='vertical'] {
  flex-direction: column;
}


/* <DEPRECATED> */ .p-ScrollBar-button, /* </DEPRECATED> */
.lm-ScrollBar-button {
  box-sizing: border-box;
  flex: 0 0 auto;
}


/* <DEPRECATED> */ .p-ScrollBar-track, /* </DEPRECATED> */
.lm-ScrollBar-track {
  box-sizing: border-box;
  position: relative;
  overflow: hidden;
  flex: 1 1 auto;
}


/* <DEPRECATED> */ .p-ScrollBar-thumb, /* </DEPRECATED> */
.lm-ScrollBar-thumb {
  box-sizing: border-box;
  position: absolute;
}

/*-----------------------------------------------------------------------------
| Copyright (c) Jupyter Development Team.
| Copyright (c) 2014-2017, PhosphorJS Contributors
|
| Distributed under the terms of the BSD 3-Clause License.
|
| The full license is in the file LICENSE, distributed with this software.
|----------------------------------------------------------------------------*/


/* <DEPRECATED> */ .p-SplitPanel-child, /* </DEPRECATED> */
.lm-SplitPanel-child {
  z-index: 0;
}


/* <DEPRECATED> */ .p-SplitPanel-handle, /* </DEPRECATED> */
.lm-SplitPanel-handle {
  z-index: 1;
}


/* <DEPRECATED> */ .p-SplitPanel-handle.p-mod-hidden, /* </DEPRECATED> */
.lm-SplitPanel-handle.lm-mod-hidden {
  display: none !important;
}


/* <DEPRECATED> */ .p-SplitPanel-handle:after, /* </DEPRECATED> */
.lm-SplitPanel-handle:after {
  position: absolute;
  top: 0;
  left: 0;
  width: 100%;
  height: 100%;
  content: '';
}


/* <DEPRECATED> */
.p-SplitPanel[data-orientation='horizontal'] > .p-SplitPanel-handle,
/* </DEPRECATED> */
.lm-SplitPanel[data-orientation='horizontal'] > .lm-SplitPanel-handle {
  cursor: ew-resize;
}


/* <DEPRECATED> */
.p-SplitPanel[data-orientation='vertical'] > .p-SplitPanel-handle,
/* </DEPRECATED> */
.lm-SplitPanel[data-orientation='vertical'] > .lm-SplitPanel-handle {
  cursor: ns-resize;
}


/* <DEPRECATED> */
.p-SplitPanel[data-orientation='horizontal'] > .p-SplitPanel-handle:after,
/* </DEPRECATED> */
.lm-SplitPanel[data-orientation='horizontal'] > .lm-SplitPanel-handle:after {
  left: 50%;
  min-width: 8px;
  transform: translateX(-50%);
}


/* <DEPRECATED> */
.p-SplitPanel[data-orientation='vertical'] > .p-SplitPanel-handle:after,
/* </DEPRECATED> */
.lm-SplitPanel[data-orientation='vertical'] > .lm-SplitPanel-handle:after {
  top: 50%;
  min-height: 8px;
  transform: translateY(-50%);
}

/*-----------------------------------------------------------------------------
| Copyright (c) Jupyter Development Team.
| Copyright (c) 2014-2017, PhosphorJS Contributors
|
| Distributed under the terms of the BSD 3-Clause License.
|
| The full license is in the file LICENSE, distributed with this software.
|----------------------------------------------------------------------------*/


/* <DEPRECATED> */ .p-TabBar, /* </DEPRECATED> */
.lm-TabBar {
  display: flex;
  -webkit-user-select: none;
  -moz-user-select: none;
  -ms-user-select: none;
  user-select: none;
}


/* <DEPRECATED> */ .p-TabBar[data-orientation='horizontal'], /* </DEPRECATED> */
.lm-TabBar[data-orientation='horizontal'] {
  flex-direction: row;
  align-items: flex-end;
}


/* <DEPRECATED> */ .p-TabBar[data-orientation='vertical'], /* </DEPRECATED> */
.lm-TabBar[data-orientation='vertical'] {
  flex-direction: column;
  align-items: flex-end;
}


/* <DEPRECATED> */ .p-TabBar-content, /* </DEPRECATED> */
.lm-TabBar-content {
  margin: 0;
  padding: 0;
  display: flex;
  flex: 1 1 auto;
  list-style-type: none;
}


/* <DEPRECATED> */
.p-TabBar[data-orientation='horizontal'] > .p-TabBar-content,
/* </DEPRECATED> */
.lm-TabBar[data-orientation='horizontal'] > .lm-TabBar-content {
  flex-direction: row;
}


/* <DEPRECATED> */
.p-TabBar[data-orientation='vertical'] > .p-TabBar-content,
/* </DEPRECATED> */
.lm-TabBar[data-orientation='vertical'] > .lm-TabBar-content {
  flex-direction: column;
}


/* <DEPRECATED> */ .p-TabBar-tab, /* </DEPRECATED> */
.lm-TabBar-tab {
  display: flex;
  flex-direction: row;
  box-sizing: border-box;
  overflow: hidden;
}


/* <DEPRECATED> */
.p-TabBar-tabIcon,
.p-TabBar-tabCloseIcon,
/* </DEPRECATED> */
.lm-TabBar-tabIcon,
.lm-TabBar-tabCloseIcon {
  flex: 0 0 auto;
}


/* <DEPRECATED> */ .p-TabBar-tabLabel, /* </DEPRECATED> */
.lm-TabBar-tabLabel {
  flex: 1 1 auto;
  overflow: hidden;
  white-space: nowrap;
}


.lm-TabBar-tabInput {
  user-select: all;
  width: 100%;
  box-sizing : border-box;
}


/* <DEPRECATED> */ .p-TabBar-tab.p-mod-hidden, /* </DEPRECATED> */
.lm-TabBar-tab.lm-mod-hidden {
  display: none !important;
}


.lm-TabBar-addButton.lm-mod-hidden {
  display: none !important;
}


/* <DEPRECATED> */ .p-TabBar.p-mod-dragging .p-TabBar-tab, /* </DEPRECATED> */
.lm-TabBar.lm-mod-dragging .lm-TabBar-tab {
  position: relative;
}


/* <DEPRECATED> */
.p-TabBar.p-mod-dragging[data-orientation='horizontal'] .p-TabBar-tab,
/* </DEPRECATED> */
.lm-TabBar.lm-mod-dragging[data-orientation='horizontal'] .lm-TabBar-tab {
  left: 0;
  transition: left 150ms ease;
}


/* <DEPRECATED> */
.p-TabBar.p-mod-dragging[data-orientation='vertical'] .p-TabBar-tab,
/* </DEPRECATED> */
.lm-TabBar.lm-mod-dragging[data-orientation='vertical'] .lm-TabBar-tab {
  top: 0;
  transition: top 150ms ease;
}


/* <DEPRECATED> */
.p-TabBar.p-mod-dragging .p-TabBar-tab.p-mod-dragging,
/* </DEPRECATED> */
.lm-TabBar.lm-mod-dragging .lm-TabBar-tab.lm-mod-dragging {
  transition: none;
}

.lm-TabBar-tabLabel .lm-TabBar-tabInput {
  user-select: all;
  width: 100%;
  box-sizing : border-box;
  background: inherit;
}

/*-----------------------------------------------------------------------------
| Copyright (c) Jupyter Development Team.
| Copyright (c) 2014-2017, PhosphorJS Contributors
|
| Distributed under the terms of the BSD 3-Clause License.
|
| The full license is in the file LICENSE, distributed with this software.
|----------------------------------------------------------------------------*/


/* <DEPRECATED> */ .p-TabPanel-tabBar, /* </DEPRECATED> */
.lm-TabPanel-tabBar {
  z-index: 1;
}


/* <DEPRECATED> */ .p-TabPanel-stackedPanel, /* </DEPRECATED> */
.lm-TabPanel-stackedPanel {
  z-index: 0;
}

/*-----------------------------------------------------------------------------
| Copyright (c) Jupyter Development Team.
| Copyright (c) 2014-2017, PhosphorJS Contributors
|
| Distributed under the terms of the BSD 3-Clause License.
|
| The full license is in the file LICENSE, distributed with this software.
|----------------------------------------------------------------------------*/

@charset "UTF-8";
html{
  -webkit-box-sizing:border-box;
          box-sizing:border-box; }

*,
*::before,
*::after{
  -webkit-box-sizing:inherit;
          box-sizing:inherit; }

body{
  font-size:14px;
  font-weight:400;
  letter-spacing:0;
  line-height:1.28581;
  text-transform:none;
  color:#182026;
  font-family:-apple-system, "BlinkMacSystemFont", "Segoe UI", "Roboto", "Oxygen", "Ubuntu", "Cantarell", "Open Sans", "Helvetica Neue", "Icons16", sans-serif; }

p{
  margin-bottom:10px;
  margin-top:0; }

small{
  font-size:12px; }

strong{
  font-weight:600; }

::-moz-selection{
  background:rgba(125, 188, 255, 0.6); }

::selection{
  background:rgba(125, 188, 255, 0.6); }
.bp3-heading{
  color:#182026;
  font-weight:600;
  margin:0 0 10px;
  padding:0; }
  .bp3-dark .bp3-heading{
    color:#f5f8fa; }

h1.bp3-heading, .bp3-running-text h1{
  font-size:36px;
  line-height:40px; }

h2.bp3-heading, .bp3-running-text h2{
  font-size:28px;
  line-height:32px; }

h3.bp3-heading, .bp3-running-text h3{
  font-size:22px;
  line-height:25px; }

h4.bp3-heading, .bp3-running-text h4{
  font-size:18px;
  line-height:21px; }

h5.bp3-heading, .bp3-running-text h5{
  font-size:16px;
  line-height:19px; }

h6.bp3-heading, .bp3-running-text h6{
  font-size:14px;
  line-height:16px; }
.bp3-ui-text{
  font-size:14px;
  font-weight:400;
  letter-spacing:0;
  line-height:1.28581;
  text-transform:none; }

.bp3-monospace-text{
  font-family:monospace;
  text-transform:none; }

.bp3-text-muted{
  color:#5c7080; }
  .bp3-dark .bp3-text-muted{
    color:#a7b6c2; }

.bp3-text-disabled{
  color:rgba(92, 112, 128, 0.6); }
  .bp3-dark .bp3-text-disabled{
    color:rgba(167, 182, 194, 0.6); }

.bp3-text-overflow-ellipsis{
  overflow:hidden;
  text-overflow:ellipsis;
  white-space:nowrap;
  word-wrap:normal; }
.bp3-running-text{
  font-size:14px;
  line-height:1.5; }
  .bp3-running-text h1{
    color:#182026;
    font-weight:600;
    margin-bottom:20px;
    margin-top:40px; }
    .bp3-dark .bp3-running-text h1{
      color:#f5f8fa; }
  .bp3-running-text h2{
    color:#182026;
    font-weight:600;
    margin-bottom:20px;
    margin-top:40px; }
    .bp3-dark .bp3-running-text h2{
      color:#f5f8fa; }
  .bp3-running-text h3{
    color:#182026;
    font-weight:600;
    margin-bottom:20px;
    margin-top:40px; }
    .bp3-dark .bp3-running-text h3{
      color:#f5f8fa; }
  .bp3-running-text h4{
    color:#182026;
    font-weight:600;
    margin-bottom:20px;
    margin-top:40px; }
    .bp3-dark .bp3-running-text h4{
      color:#f5f8fa; }
  .bp3-running-text h5{
    color:#182026;
    font-weight:600;
    margin-bottom:20px;
    margin-top:40px; }
    .bp3-dark .bp3-running-text h5{
      color:#f5f8fa; }
  .bp3-running-text h6{
    color:#182026;
    font-weight:600;
    margin-bottom:20px;
    margin-top:40px; }
    .bp3-dark .bp3-running-text h6{
      color:#f5f8fa; }
  .bp3-running-text hr{
    border:none;
    border-bottom:1px solid rgba(16, 22, 26, 0.15);
    margin:20px 0; }
    .bp3-dark .bp3-running-text hr{
      border-color:rgba(255, 255, 255, 0.15); }
  .bp3-running-text p{
    margin:0 0 10px;
    padding:0; }

.bp3-text-large{
  font-size:16px; }

.bp3-text-small{
  font-size:12px; }
a{
  color:#106ba3;
  text-decoration:none; }
  a:hover{
    color:#106ba3;
    cursor:pointer;
    text-decoration:underline; }
  a .bp3-icon, a .bp3-icon-standard, a .bp3-icon-large{
    color:inherit; }
  a code,
  .bp3-dark a code{
    color:inherit; }
  .bp3-dark a,
  .bp3-dark a:hover{
    color:#48aff0; }
    .bp3-dark a .bp3-icon, .bp3-dark a .bp3-icon-standard, .bp3-dark a .bp3-icon-large,
    .bp3-dark a:hover .bp3-icon,
    .bp3-dark a:hover .bp3-icon-standard,
    .bp3-dark a:hover .bp3-icon-large{
      color:inherit; }
.bp3-running-text code, .bp3-code{
  font-family:monospace;
  text-transform:none;
  background:rgba(255, 255, 255, 0.7);
  border-radius:3px;
  -webkit-box-shadow:inset 0 0 0 1px rgba(16, 22, 26, 0.2);
          box-shadow:inset 0 0 0 1px rgba(16, 22, 26, 0.2);
  color:#5c7080;
  font-size:smaller;
  padding:2px 5px; }
  .bp3-dark .bp3-running-text code, .bp3-running-text .bp3-dark code, .bp3-dark .bp3-code{
    background:rgba(16, 22, 26, 0.3);
    -webkit-box-shadow:inset 0 0 0 1px rgba(16, 22, 26, 0.4);
            box-shadow:inset 0 0 0 1px rgba(16, 22, 26, 0.4);
    color:#a7b6c2; }
  .bp3-running-text a > code, a > .bp3-code{
    color:#137cbd; }
    .bp3-dark .bp3-running-text a > code, .bp3-running-text .bp3-dark a > code, .bp3-dark a > .bp3-code{
      color:inherit; }

.bp3-running-text pre, .bp3-code-block{
  font-family:monospace;
  text-transform:none;
  background:rgba(255, 255, 255, 0.7);
  border-radius:3px;
  -webkit-box-shadow:inset 0 0 0 1px rgba(16, 22, 26, 0.15);
          box-shadow:inset 0 0 0 1px rgba(16, 22, 26, 0.15);
  color:#182026;
  display:block;
  font-size:13px;
  line-height:1.4;
  margin:10px 0;
  padding:13px 15px 12px;
  word-break:break-all;
  word-wrap:break-word; }
  .bp3-dark .bp3-running-text pre, .bp3-running-text .bp3-dark pre, .bp3-dark .bp3-code-block{
    background:rgba(16, 22, 26, 0.3);
    -webkit-box-shadow:inset 0 0 0 1px rgba(16, 22, 26, 0.4);
            box-shadow:inset 0 0 0 1px rgba(16, 22, 26, 0.4);
    color:#f5f8fa; }
  .bp3-running-text pre > code, .bp3-code-block > code{
    background:none;
    -webkit-box-shadow:none;
            box-shadow:none;
    color:inherit;
    font-size:inherit;
    padding:0; }

.bp3-running-text kbd, .bp3-key{
  -webkit-box-align:center;
      -ms-flex-align:center;
          align-items:center;
  background:#ffffff;
  border-radius:3px;
  -webkit-box-shadow:0 0 0 1px rgba(16, 22, 26, 0.1), 0 0 0 rgba(16, 22, 26, 0), 0 1px 1px rgba(16, 22, 26, 0.2);
          box-shadow:0 0 0 1px rgba(16, 22, 26, 0.1), 0 0 0 rgba(16, 22, 26, 0), 0 1px 1px rgba(16, 22, 26, 0.2);
  color:#5c7080;
  display:-webkit-inline-box;
  display:-ms-inline-flexbox;
  display:inline-flex;
  font-family:inherit;
  font-size:12px;
  height:24px;
  -webkit-box-pack:center;
      -ms-flex-pack:center;
          justify-content:center;
  line-height:24px;
  min-width:24px;
  padding:3px 6px;
  vertical-align:middle; }
  .bp3-running-text kbd .bp3-icon, .bp3-key .bp3-icon, .bp3-running-text kbd .bp3-icon-standard, .bp3-key .bp3-icon-standard, .bp3-running-text kbd .bp3-icon-large, .bp3-key .bp3-icon-large{
    margin-right:5px; }
  .bp3-dark .bp3-running-text kbd, .bp3-running-text .bp3-dark kbd, .bp3-dark .bp3-key{
    background:#394b59;
    -webkit-box-shadow:0 0 0 1px rgba(16, 22, 26, 0.2), 0 0 0 rgba(16, 22, 26, 0), 0 1px 1px rgba(16, 22, 26, 0.4);
            box-shadow:0 0 0 1px rgba(16, 22, 26, 0.2), 0 0 0 rgba(16, 22, 26, 0), 0 1px 1px rgba(16, 22, 26, 0.4);
    color:#a7b6c2; }
.bp3-running-text blockquote, .bp3-blockquote{
  border-left:solid 4px rgba(167, 182, 194, 0.5);
  margin:0 0 10px;
  padding:0 20px; }
  .bp3-dark .bp3-running-text blockquote, .bp3-running-text .bp3-dark blockquote, .bp3-dark .bp3-blockquote{
    border-color:rgba(115, 134, 148, 0.5); }
.bp3-running-text ul,
.bp3-running-text ol, .bp3-list{
  margin:10px 0;
  padding-left:30px; }
  .bp3-running-text ul li:not(:last-child), .bp3-running-text ol li:not(:last-child), .bp3-list li:not(:last-child){
    margin-bottom:5px; }
  .bp3-running-text ul ol, .bp3-running-text ol ol, .bp3-list ol,
  .bp3-running-text ul ul,
  .bp3-running-text ol ul,
  .bp3-list ul{
    margin-top:5px; }

.bp3-list-unstyled{
  list-style:none;
  margin:0;
  padding:0; }
  .bp3-list-unstyled li{
    padding:0; }
.bp3-rtl{
  text-align:right; }

.bp3-dark{
  color:#f5f8fa; }

:focus{
  outline:rgba(19, 124, 189, 0.6) auto 2px;
  outline-offset:2px;
  -moz-outline-radius:6px; }

.bp3-focus-disabled :focus{
  outline:none !important; }
  .bp3-focus-disabled :focus ~ .bp3-control-indicator{
    outline:none !important; }

.bp3-alert{
  max-width:400px;
  padding:20px; }

.bp3-alert-body{
  display:-webkit-box;
  display:-ms-flexbox;
  display:flex; }
  .bp3-alert-body .bp3-icon{
    font-size:40px;
    margin-right:20px;
    margin-top:0; }

.bp3-alert-contents{
  word-break:break-word; }

.bp3-alert-footer{
  display:-webkit-box;
  display:-ms-flexbox;
  display:flex;
  -webkit-box-orient:horizontal;
  -webkit-box-direction:reverse;
      -ms-flex-direction:row-reverse;
          flex-direction:row-reverse;
  margin-top:10px; }
  .bp3-alert-footer .bp3-button{
    margin-left:10px; }
.bp3-breadcrumbs{
  -webkit-box-align:center;
      -ms-flex-align:center;
          align-items:center;
  cursor:default;
  display:-webkit-box;
  display:-ms-flexbox;
  display:flex;
  -ms-flex-wrap:wrap;
      flex-wrap:wrap;
  height:30px;
  list-style:none;
  margin:0;
  padding:0; }
  .bp3-breadcrumbs > li{
    -webkit-box-align:center;
        -ms-flex-align:center;
            align-items:center;
    display:-webkit-box;
    display:-ms-flexbox;
    display:flex; }
    .bp3-breadcrumbs > li::after{
      background:url("data:image/svg+xml,%3csvg xmlns='http://www.w3.org/2000/svg' viewBox='0 0 16 16'%3e%3cpath fill-rule='evenodd' clip-rule='evenodd' d='M10.71 7.29l-4-4a1.003 1.003 0 00-1.42 1.42L8.59 8 5.3 11.29c-.19.18-.3.43-.3.71a1.003 1.003 0 001.71.71l4-4c.18-.18.29-.43.29-.71 0-.28-.11-.53-.29-.71z' fill='%235C7080'/%3e%3c/svg%3e");
      content:"";
      display:block;
      height:16px;
      margin:0 5px;
      width:16px; }
    .bp3-breadcrumbs > li:last-of-type::after{
      display:none; }

.bp3-breadcrumb,
.bp3-breadcrumb-current,
.bp3-breadcrumbs-collapsed{
  -webkit-box-align:center;
      -ms-flex-align:center;
          align-items:center;
  display:-webkit-inline-box;
  display:-ms-inline-flexbox;
  display:inline-flex;
  font-size:16px; }

.bp3-breadcrumb,
.bp3-breadcrumbs-collapsed{
  color:#5c7080; }

.bp3-breadcrumb:hover{
  text-decoration:none; }

.bp3-breadcrumb.bp3-disabled{
  color:rgba(92, 112, 128, 0.6);
  cursor:not-allowed; }

.bp3-breadcrumb .bp3-icon{
  margin-right:5px; }

.bp3-breadcrumb-current{
  color:inherit;
  font-weight:600; }
  .bp3-breadcrumb-current .bp3-input{
    font-size:inherit;
    font-weight:inherit;
    vertical-align:baseline; }

.bp3-breadcrumbs-collapsed{
  background:#ced9e0;
  border:none;
  border-radius:3px;
  cursor:pointer;
  margin-right:2px;
  padding:1px 5px;
  vertical-align:text-bottom; }
  .bp3-breadcrumbs-collapsed::before{
    background:url("data:image/svg+xml,%3csvg xmlns='http://www.w3.org/2000/svg' viewBox='0 0 16 16'%3e%3cg fill='%235C7080'%3e%3ccircle cx='2' cy='8.03' r='2'/%3e%3ccircle cx='14' cy='8.03' r='2'/%3e%3ccircle cx='8' cy='8.03' r='2'/%3e%3c/g%3e%3c/svg%3e") center no-repeat;
    content:"";
    display:block;
    height:16px;
    width:16px; }
  .bp3-breadcrumbs-collapsed:hover{
    background:#bfccd6;
    color:#182026;
    text-decoration:none; }

.bp3-dark .bp3-breadcrumb,
.bp3-dark .bp3-breadcrumbs-collapsed{
  color:#a7b6c2; }

.bp3-dark .bp3-breadcrumbs > li::after{
  color:#a7b6c2; }

.bp3-dark .bp3-breadcrumb.bp3-disabled{
  color:rgba(167, 182, 194, 0.6); }

.bp3-dark .bp3-breadcrumb-current{
  color:#f5f8fa; }

.bp3-dark .bp3-breadcrumbs-collapsed{
  background:rgba(16, 22, 26, 0.4); }
  .bp3-dark .bp3-breadcrumbs-collapsed:hover{
    background:rgba(16, 22, 26, 0.6);
    color:#f5f8fa; }
.bp3-button{
  display:-webkit-inline-box;
  display:-ms-inline-flexbox;
  display:inline-flex;
  -webkit-box-orient:horizontal;
  -webkit-box-direction:normal;
      -ms-flex-direction:row;
          flex-direction:row;
  -webkit-box-align:center;
      -ms-flex-align:center;
          align-items:center;
  border:none;
  border-radius:3px;
  cursor:pointer;
  font-size:14px;
  -webkit-box-pack:center;
      -ms-flex-pack:center;
          justify-content:center;
  padding:5px 10px;
  text-align:left;
  vertical-align:middle;
  min-height:30px;
  min-width:30px; }
  .bp3-button > *{
    -webkit-box-flex:0;
        -ms-flex-positive:0;
            flex-grow:0;
    -ms-flex-negative:0;
        flex-shrink:0; }
  .bp3-button > .bp3-fill{
    -webkit-box-flex:1;
        -ms-flex-positive:1;
            flex-grow:1;
    -ms-flex-negative:1;
        flex-shrink:1; }
  .bp3-button::before,
  .bp3-button > *{
    margin-right:7px; }
  .bp3-button:empty::before,
  .bp3-button > :last-child{
    margin-right:0; }
  .bp3-button:empty{
    padding:0 !important; }
  .bp3-button:disabled, .bp3-button.bp3-disabled{
    cursor:not-allowed; }
  .bp3-button.bp3-fill{
    display:-webkit-box;
    display:-ms-flexbox;
    display:flex;
    width:100%; }
  .bp3-button.bp3-align-right,
  .bp3-align-right .bp3-button{
    text-align:right; }
  .bp3-button.bp3-align-left,
  .bp3-align-left .bp3-button{
    text-align:left; }
  .bp3-button:not([class*="bp3-intent-"]){
    background-color:#f5f8fa;
    background-image:-webkit-gradient(linear, left top, left bottom, from(rgba(255, 255, 255, 0.8)), to(rgba(255, 255, 255, 0)));
    background-image:linear-gradient(to bottom, rgba(255, 255, 255, 0.8), rgba(255, 255, 255, 0));
    -webkit-box-shadow:inset 0 0 0 1px rgba(16, 22, 26, 0.2), inset 0 -1px 0 rgba(16, 22, 26, 0.1);
            box-shadow:inset 0 0 0 1px rgba(16, 22, 26, 0.2), inset 0 -1px 0 rgba(16, 22, 26, 0.1);
    color:#182026; }
    .bp3-button:not([class*="bp3-intent-"]):hover{
      background-clip:padding-box;
      background-color:#ebf1f5;
      -webkit-box-shadow:inset 0 0 0 1px rgba(16, 22, 26, 0.2), inset 0 -1px 0 rgba(16, 22, 26, 0.1);
              box-shadow:inset 0 0 0 1px rgba(16, 22, 26, 0.2), inset 0 -1px 0 rgba(16, 22, 26, 0.1); }
    .bp3-button:not([class*="bp3-intent-"]):active, .bp3-button:not([class*="bp3-intent-"]).bp3-active{
      background-color:#d8e1e8;
      background-image:none;
      -webkit-box-shadow:inset 0 0 0 1px rgba(16, 22, 26, 0.2), inset 0 1px 2px rgba(16, 22, 26, 0.2);
              box-shadow:inset 0 0 0 1px rgba(16, 22, 26, 0.2), inset 0 1px 2px rgba(16, 22, 26, 0.2); }
    .bp3-button:not([class*="bp3-intent-"]):disabled, .bp3-button:not([class*="bp3-intent-"]).bp3-disabled{
      background-color:rgba(206, 217, 224, 0.5);
      background-image:none;
      -webkit-box-shadow:none;
              box-shadow:none;
      color:rgba(92, 112, 128, 0.6);
      cursor:not-allowed;
      outline:none; }
      .bp3-button:not([class*="bp3-intent-"]):disabled.bp3-active, .bp3-button:not([class*="bp3-intent-"]):disabled.bp3-active:hover, .bp3-button:not([class*="bp3-intent-"]).bp3-disabled.bp3-active, .bp3-button:not([class*="bp3-intent-"]).bp3-disabled.bp3-active:hover{
        background:rgba(206, 217, 224, 0.7); }
  .bp3-button.bp3-intent-primary{
    background-color:#137cbd;
    background-image:-webkit-gradient(linear, left top, left bottom, from(rgba(255, 255, 255, 0.1)), to(rgba(255, 255, 255, 0)));
    background-image:linear-gradient(to bottom, rgba(255, 255, 255, 0.1), rgba(255, 255, 255, 0));
    -webkit-box-shadow:inset 0 0 0 1px rgba(16, 22, 26, 0.4), inset 0 -1px 0 rgba(16, 22, 26, 0.2);
            box-shadow:inset 0 0 0 1px rgba(16, 22, 26, 0.4), inset 0 -1px 0 rgba(16, 22, 26, 0.2);
    color:#ffffff; }
    .bp3-button.bp3-intent-primary:hover, .bp3-button.bp3-intent-primary:active, .bp3-button.bp3-intent-primary.bp3-active{
      color:#ffffff; }
    .bp3-button.bp3-intent-primary:hover{
      background-color:#106ba3;
      -webkit-box-shadow:inset 0 0 0 1px rgba(16, 22, 26, 0.4), inset 0 -1px 0 rgba(16, 22, 26, 0.2);
              box-shadow:inset 0 0 0 1px rgba(16, 22, 26, 0.4), inset 0 -1px 0 rgba(16, 22, 26, 0.2); }
    .bp3-button.bp3-intent-primary:active, .bp3-button.bp3-intent-primary.bp3-active{
      background-color:#0e5a8a;
      background-image:none;
      -webkit-box-shadow:inset 0 0 0 1px rgba(16, 22, 26, 0.4), inset 0 1px 2px rgba(16, 22, 26, 0.2);
              box-shadow:inset 0 0 0 1px rgba(16, 22, 26, 0.4), inset 0 1px 2px rgba(16, 22, 26, 0.2); }
    .bp3-button.bp3-intent-primary:disabled, .bp3-button.bp3-intent-primary.bp3-disabled{
      background-color:rgba(19, 124, 189, 0.5);
      background-image:none;
      border-color:transparent;
      -webkit-box-shadow:none;
              box-shadow:none;
      color:rgba(255, 255, 255, 0.6); }
  .bp3-button.bp3-intent-success{
    background-color:#0f9960;
    background-image:-webkit-gradient(linear, left top, left bottom, from(rgba(255, 255, 255, 0.1)), to(rgba(255, 255, 255, 0)));
    background-image:linear-gradient(to bottom, rgba(255, 255, 255, 0.1), rgba(255, 255, 255, 0));
    -webkit-box-shadow:inset 0 0 0 1px rgba(16, 22, 26, 0.4), inset 0 -1px 0 rgba(16, 22, 26, 0.2);
            box-shadow:inset 0 0 0 1px rgba(16, 22, 26, 0.4), inset 0 -1px 0 rgba(16, 22, 26, 0.2);
    color:#ffffff; }
    .bp3-button.bp3-intent-success:hover, .bp3-button.bp3-intent-success:active, .bp3-button.bp3-intent-success.bp3-active{
      color:#ffffff; }
    .bp3-button.bp3-intent-success:hover{
      background-color:#0d8050;
      -webkit-box-shadow:inset 0 0 0 1px rgba(16, 22, 26, 0.4), inset 0 -1px 0 rgba(16, 22, 26, 0.2);
              box-shadow:inset 0 0 0 1px rgba(16, 22, 26, 0.4), inset 0 -1px 0 rgba(16, 22, 26, 0.2); }
    .bp3-button.bp3-intent-success:active, .bp3-button.bp3-intent-success.bp3-active{
      background-color:#0a6640;
      background-image:none;
      -webkit-box-shadow:inset 0 0 0 1px rgba(16, 22, 26, 0.4), inset 0 1px 2px rgba(16, 22, 26, 0.2);
              box-shadow:inset 0 0 0 1px rgba(16, 22, 26, 0.4), inset 0 1px 2px rgba(16, 22, 26, 0.2); }
    .bp3-button.bp3-intent-success:disabled, .bp3-button.bp3-intent-success.bp3-disabled{
      background-color:rgba(15, 153, 96, 0.5);
      background-image:none;
      border-color:transparent;
      -webkit-box-shadow:none;
              box-shadow:none;
      color:rgba(255, 255, 255, 0.6); }
  .bp3-button.bp3-intent-warning{
    background-color:#d9822b;
    background-image:-webkit-gradient(linear, left top, left bottom, from(rgba(255, 255, 255, 0.1)), to(rgba(255, 255, 255, 0)));
    background-image:linear-gradient(to bottom, rgba(255, 255, 255, 0.1), rgba(255, 255, 255, 0));
    -webkit-box-shadow:inset 0 0 0 1px rgba(16, 22, 26, 0.4), inset 0 -1px 0 rgba(16, 22, 26, 0.2);
            box-shadow:inset 0 0 0 1px rgba(16, 22, 26, 0.4), inset 0 -1px 0 rgba(16, 22, 26, 0.2);
    color:#ffffff; }
    .bp3-button.bp3-intent-warning:hover, .bp3-button.bp3-intent-warning:active, .bp3-button.bp3-intent-warning.bp3-active{
      color:#ffffff; }
    .bp3-button.bp3-intent-warning:hover{
      background-color:#bf7326;
      -webkit-box-shadow:inset 0 0 0 1px rgba(16, 22, 26, 0.4), inset 0 -1px 0 rgba(16, 22, 26, 0.2);
              box-shadow:inset 0 0 0 1px rgba(16, 22, 26, 0.4), inset 0 -1px 0 rgba(16, 22, 26, 0.2); }
    .bp3-button.bp3-intent-warning:active, .bp3-button.bp3-intent-warning.bp3-active{
      background-color:#a66321;
      background-image:none;
      -webkit-box-shadow:inset 0 0 0 1px rgba(16, 22, 26, 0.4), inset 0 1px 2px rgba(16, 22, 26, 0.2);
              box-shadow:inset 0 0 0 1px rgba(16, 22, 26, 0.4), inset 0 1px 2px rgba(16, 22, 26, 0.2); }
    .bp3-button.bp3-intent-warning:disabled, .bp3-button.bp3-intent-warning.bp3-disabled{
      background-color:rgba(217, 130, 43, 0.5);
      background-image:none;
      border-color:transparent;
      -webkit-box-shadow:none;
              box-shadow:none;
      color:rgba(255, 255, 255, 0.6); }
  .bp3-button.bp3-intent-danger{
    background-color:#db3737;
    background-image:-webkit-gradient(linear, left top, left bottom, from(rgba(255, 255, 255, 0.1)), to(rgba(255, 255, 255, 0)));
    background-image:linear-gradient(to bottom, rgba(255, 255, 255, 0.1), rgba(255, 255, 255, 0));
    -webkit-box-shadow:inset 0 0 0 1px rgba(16, 22, 26, 0.4), inset 0 -1px 0 rgba(16, 22, 26, 0.2);
            box-shadow:inset 0 0 0 1px rgba(16, 22, 26, 0.4), inset 0 -1px 0 rgba(16, 22, 26, 0.2);
    color:#ffffff; }
    .bp3-button.bp3-intent-danger:hover, .bp3-button.bp3-intent-danger:active, .bp3-button.bp3-intent-danger.bp3-active{
      color:#ffffff; }
    .bp3-button.bp3-intent-danger:hover{
      background-color:#c23030;
      -webkit-box-shadow:inset 0 0 0 1px rgba(16, 22, 26, 0.4), inset 0 -1px 0 rgba(16, 22, 26, 0.2);
              box-shadow:inset 0 0 0 1px rgba(16, 22, 26, 0.4), inset 0 -1px 0 rgba(16, 22, 26, 0.2); }
    .bp3-button.bp3-intent-danger:active, .bp3-button.bp3-intent-danger.bp3-active{
      background-color:#a82a2a;
      background-image:none;
      -webkit-box-shadow:inset 0 0 0 1px rgba(16, 22, 26, 0.4), inset 0 1px 2px rgba(16, 22, 26, 0.2);
              box-shadow:inset 0 0 0 1px rgba(16, 22, 26, 0.4), inset 0 1px 2px rgba(16, 22, 26, 0.2); }
    .bp3-button.bp3-intent-danger:disabled, .bp3-button.bp3-intent-danger.bp3-disabled{
      background-color:rgba(219, 55, 55, 0.5);
      background-image:none;
      border-color:transparent;
      -webkit-box-shadow:none;
              box-shadow:none;
      color:rgba(255, 255, 255, 0.6); }
  .bp3-button[class*="bp3-intent-"] .bp3-button-spinner .bp3-spinner-head{
    stroke:#ffffff; }
  .bp3-button.bp3-large,
  .bp3-large .bp3-button{
    min-height:40px;
    min-width:40px;
    font-size:16px;
    padding:5px 15px; }
    .bp3-button.bp3-large::before,
    .bp3-button.bp3-large > *,
    .bp3-large .bp3-button::before,
    .bp3-large .bp3-button > *{
      margin-right:10px; }
    .bp3-button.bp3-large:empty::before,
    .bp3-button.bp3-large > :last-child,
    .bp3-large .bp3-button:empty::before,
    .bp3-large .bp3-button > :last-child{
      margin-right:0; }
  .bp3-button.bp3-small,
  .bp3-small .bp3-button{
    min-height:24px;
    min-width:24px;
    padding:0 7px; }
  .bp3-button.bp3-loading{
    position:relative; }
    .bp3-button.bp3-loading[class*="bp3-icon-"]::before{
      visibility:hidden; }
    .bp3-button.bp3-loading .bp3-button-spinner{
      margin:0;
      position:absolute; }
    .bp3-button.bp3-loading > :not(.bp3-button-spinner){
      visibility:hidden; }
  .bp3-button[class*="bp3-icon-"]::before{
    font-family:"Icons16", sans-serif;
    font-size:16px;
    font-style:normal;
    font-weight:400;
    line-height:1;
    -moz-osx-font-smoothing:grayscale;
    -webkit-font-smoothing:antialiased;
    color:#5c7080; }
  .bp3-button .bp3-icon, .bp3-button .bp3-icon-standard, .bp3-button .bp3-icon-large{
    color:#5c7080; }
    .bp3-button .bp3-icon.bp3-align-right, .bp3-button .bp3-icon-standard.bp3-align-right, .bp3-button .bp3-icon-large.bp3-align-right{
      margin-left:7px; }
  .bp3-button .bp3-icon:first-child:last-child,
  .bp3-button .bp3-spinner + .bp3-icon:last-child{
    margin:0 -7px; }
  .bp3-dark .bp3-button:not([class*="bp3-intent-"]){
    background-color:#394b59;
    background-image:-webkit-gradient(linear, left top, left bottom, from(rgba(255, 255, 255, 0.05)), to(rgba(255, 255, 255, 0)));
    background-image:linear-gradient(to bottom, rgba(255, 255, 255, 0.05), rgba(255, 255, 255, 0));
    -webkit-box-shadow:0 0 0 1px rgba(16, 22, 26, 0.4);
            box-shadow:0 0 0 1px rgba(16, 22, 26, 0.4);
    color:#f5f8fa; }
    .bp3-dark .bp3-button:not([class*="bp3-intent-"]):hover, .bp3-dark .bp3-button:not([class*="bp3-intent-"]):active, .bp3-dark .bp3-button:not([class*="bp3-intent-"]).bp3-active{
      color:#f5f8fa; }
    .bp3-dark .bp3-button:not([class*="bp3-intent-"]):hover{
      background-color:#30404d;
      -webkit-box-shadow:0 0 0 1px rgba(16, 22, 26, 0.4);
              box-shadow:0 0 0 1px rgba(16, 22, 26, 0.4); }
    .bp3-dark .bp3-button:not([class*="bp3-intent-"]):active, .bp3-dark .bp3-button:not([class*="bp3-intent-"]).bp3-active{
      background-color:#202b33;
      background-image:none;
      -webkit-box-shadow:0 0 0 1px rgba(16, 22, 26, 0.6), inset 0 1px 2px rgba(16, 22, 26, 0.2);
              box-shadow:0 0 0 1px rgba(16, 22, 26, 0.6), inset 0 1px 2px rgba(16, 22, 26, 0.2); }
    .bp3-dark .bp3-button:not([class*="bp3-intent-"]):disabled, .bp3-dark .bp3-button:not([class*="bp3-intent-"]).bp3-disabled{
      background-color:rgba(57, 75, 89, 0.5);
      background-image:none;
      -webkit-box-shadow:none;
              box-shadow:none;
      color:rgba(167, 182, 194, 0.6); }
      .bp3-dark .bp3-button:not([class*="bp3-intent-"]):disabled.bp3-active, .bp3-dark .bp3-button:not([class*="bp3-intent-"]).bp3-disabled.bp3-active{
        background:rgba(57, 75, 89, 0.7); }
    .bp3-dark .bp3-button:not([class*="bp3-intent-"]) .bp3-button-spinner .bp3-spinner-head{
      background:rgba(16, 22, 26, 0.5);
      stroke:#8a9ba8; }
    .bp3-dark .bp3-button:not([class*="bp3-intent-"])[class*="bp3-icon-"]::before{
      color:#a7b6c2; }
    .bp3-dark .bp3-button:not([class*="bp3-intent-"]) .bp3-icon, .bp3-dark .bp3-button:not([class*="bp3-intent-"]) .bp3-icon-standard, .bp3-dark .bp3-button:not([class*="bp3-intent-"]) .bp3-icon-large{
      color:#a7b6c2; }
  .bp3-dark .bp3-button[class*="bp3-intent-"]{
    -webkit-box-shadow:0 0 0 1px rgba(16, 22, 26, 0.4);
            box-shadow:0 0 0 1px rgba(16, 22, 26, 0.4); }
    .bp3-dark .bp3-button[class*="bp3-intent-"]:hover{
      -webkit-box-shadow:0 0 0 1px rgba(16, 22, 26, 0.4);
              box-shadow:0 0 0 1px rgba(16, 22, 26, 0.4); }
    .bp3-dark .bp3-button[class*="bp3-intent-"]:active, .bp3-dark .bp3-button[class*="bp3-intent-"].bp3-active{
      -webkit-box-shadow:0 0 0 1px rgba(16, 22, 26, 0.4), inset 0 1px 2px rgba(16, 22, 26, 0.2);
              box-shadow:0 0 0 1px rgba(16, 22, 26, 0.4), inset 0 1px 2px rgba(16, 22, 26, 0.2); }
    .bp3-dark .bp3-button[class*="bp3-intent-"]:disabled, .bp3-dark .bp3-button[class*="bp3-intent-"].bp3-disabled{
      background-image:none;
      -webkit-box-shadow:none;
              box-shadow:none;
      color:rgba(255, 255, 255, 0.3); }
    .bp3-dark .bp3-button[class*="bp3-intent-"] .bp3-button-spinner .bp3-spinner-head{
      stroke:#8a9ba8; }
  .bp3-button:disabled::before,
  .bp3-button:disabled .bp3-icon, .bp3-button:disabled .bp3-icon-standard, .bp3-button:disabled .bp3-icon-large, .bp3-button.bp3-disabled::before,
  .bp3-button.bp3-disabled .bp3-icon, .bp3-button.bp3-disabled .bp3-icon-standard, .bp3-button.bp3-disabled .bp3-icon-large, .bp3-button[class*="bp3-intent-"]::before,
  .bp3-button[class*="bp3-intent-"] .bp3-icon, .bp3-button[class*="bp3-intent-"] .bp3-icon-standard, .bp3-button[class*="bp3-intent-"] .bp3-icon-large{
    color:inherit !important; }
  .bp3-button.bp3-minimal{
    background:none;
    -webkit-box-shadow:none;
            box-shadow:none; }
    .bp3-button.bp3-minimal:hover{
      background:rgba(167, 182, 194, 0.3);
      -webkit-box-shadow:none;
              box-shadow:none;
      color:#182026;
      text-decoration:none; }
    .bp3-button.bp3-minimal:active, .bp3-button.bp3-minimal.bp3-active{
      background:rgba(115, 134, 148, 0.3);
      -webkit-box-shadow:none;
              box-shadow:none;
      color:#182026; }
    .bp3-button.bp3-minimal:disabled, .bp3-button.bp3-minimal:disabled:hover, .bp3-button.bp3-minimal.bp3-disabled, .bp3-button.bp3-minimal.bp3-disabled:hover{
      background:none;
      color:rgba(92, 112, 128, 0.6);
      cursor:not-allowed; }
      .bp3-button.bp3-minimal:disabled.bp3-active, .bp3-button.bp3-minimal:disabled:hover.bp3-active, .bp3-button.bp3-minimal.bp3-disabled.bp3-active, .bp3-button.bp3-minimal.bp3-disabled:hover.bp3-active{
        background:rgba(115, 134, 148, 0.3); }
    .bp3-dark .bp3-button.bp3-minimal{
      background:none;
      -webkit-box-shadow:none;
              box-shadow:none;
      color:inherit; }
      .bp3-dark .bp3-button.bp3-minimal:hover, .bp3-dark .bp3-button.bp3-minimal:active, .bp3-dark .bp3-button.bp3-minimal.bp3-active{
        background:none;
        -webkit-box-shadow:none;
                box-shadow:none; }
      .bp3-dark .bp3-button.bp3-minimal:hover{
        background:rgba(138, 155, 168, 0.15); }
      .bp3-dark .bp3-button.bp3-minimal:active, .bp3-dark .bp3-button.bp3-minimal.bp3-active{
        background:rgba(138, 155, 168, 0.3);
        color:#f5f8fa; }
      .bp3-dark .bp3-button.bp3-minimal:disabled, .bp3-dark .bp3-button.bp3-minimal:disabled:hover, .bp3-dark .bp3-button.bp3-minimal.bp3-disabled, .bp3-dark .bp3-button.bp3-minimal.bp3-disabled:hover{
        background:none;
        color:rgba(167, 182, 194, 0.6);
        cursor:not-allowed; }
        .bp3-dark .bp3-button.bp3-minimal:disabled.bp3-active, .bp3-dark .bp3-button.bp3-minimal:disabled:hover.bp3-active, .bp3-dark .bp3-button.bp3-minimal.bp3-disabled.bp3-active, .bp3-dark .bp3-button.bp3-minimal.bp3-disabled:hover.bp3-active{
          background:rgba(138, 155, 168, 0.3); }
    .bp3-button.bp3-minimal.bp3-intent-primary{
      color:#106ba3; }
      .bp3-button.bp3-minimal.bp3-intent-primary:hover, .bp3-button.bp3-minimal.bp3-intent-primary:active, .bp3-button.bp3-minimal.bp3-intent-primary.bp3-active{
        background:none;
        -webkit-box-shadow:none;
                box-shadow:none;
        color:#106ba3; }
      .bp3-button.bp3-minimal.bp3-intent-primary:hover{
        background:rgba(19, 124, 189, 0.15);
        color:#106ba3; }
      .bp3-button.bp3-minimal.bp3-intent-primary:active, .bp3-button.bp3-minimal.bp3-intent-primary.bp3-active{
        background:rgba(19, 124, 189, 0.3);
        color:#106ba3; }
      .bp3-button.bp3-minimal.bp3-intent-primary:disabled, .bp3-button.bp3-minimal.bp3-intent-primary.bp3-disabled{
        background:none;
        color:rgba(16, 107, 163, 0.5); }
        .bp3-button.bp3-minimal.bp3-intent-primary:disabled.bp3-active, .bp3-button.bp3-minimal.bp3-intent-primary.bp3-disabled.bp3-active{
          background:rgba(19, 124, 189, 0.3); }
      .bp3-button.bp3-minimal.bp3-intent-primary .bp3-button-spinner .bp3-spinner-head{
        stroke:#106ba3; }
      .bp3-dark .bp3-button.bp3-minimal.bp3-intent-primary{
        color:#48aff0; }
        .bp3-dark .bp3-button.bp3-minimal.bp3-intent-primary:hover{
          background:rgba(19, 124, 189, 0.2);
          color:#48aff0; }
        .bp3-dark .bp3-button.bp3-minimal.bp3-intent-primary:active, .bp3-dark .bp3-button.bp3-minimal.bp3-intent-primary.bp3-active{
          background:rgba(19, 124, 189, 0.3);
          color:#48aff0; }
        .bp3-dark .bp3-button.bp3-minimal.bp3-intent-primary:disabled, .bp3-dark .bp3-button.bp3-minimal.bp3-intent-primary.bp3-disabled{
          background:none;
          color:rgba(72, 175, 240, 0.5); }
          .bp3-dark .bp3-button.bp3-minimal.bp3-intent-primary:disabled.bp3-active, .bp3-dark .bp3-button.bp3-minimal.bp3-intent-primary.bp3-disabled.bp3-active{
            background:rgba(19, 124, 189, 0.3); }
    .bp3-button.bp3-minimal.bp3-intent-success{
      color:#0d8050; }
      .bp3-button.bp3-minimal.bp3-intent-success:hover, .bp3-button.bp3-minimal.bp3-intent-success:active, .bp3-button.bp3-minimal.bp3-intent-success.bp3-active{
        background:none;
        -webkit-box-shadow:none;
                box-shadow:none;
        color:#0d8050; }
      .bp3-button.bp3-minimal.bp3-intent-success:hover{
        background:rgba(15, 153, 96, 0.15);
        color:#0d8050; }
      .bp3-button.bp3-minimal.bp3-intent-success:active, .bp3-button.bp3-minimal.bp3-intent-success.bp3-active{
        background:rgba(15, 153, 96, 0.3);
        color:#0d8050; }
      .bp3-button.bp3-minimal.bp3-intent-success:disabled, .bp3-button.bp3-minimal.bp3-intent-success.bp3-disabled{
        background:none;
        color:rgba(13, 128, 80, 0.5); }
        .bp3-button.bp3-minimal.bp3-intent-success:disabled.bp3-active, .bp3-button.bp3-minimal.bp3-intent-success.bp3-disabled.bp3-active{
          background:rgba(15, 153, 96, 0.3); }
      .bp3-button.bp3-minimal.bp3-intent-success .bp3-button-spinner .bp3-spinner-head{
        stroke:#0d8050; }
      .bp3-dark .bp3-button.bp3-minimal.bp3-intent-success{
        color:#3dcc91; }
        .bp3-dark .bp3-button.bp3-minimal.bp3-intent-success:hover{
          background:rgba(15, 153, 96, 0.2);
          color:#3dcc91; }
        .bp3-dark .bp3-button.bp3-minimal.bp3-intent-success:active, .bp3-dark .bp3-button.bp3-minimal.bp3-intent-success.bp3-active{
          background:rgba(15, 153, 96, 0.3);
          color:#3dcc91; }
        .bp3-dark .bp3-button.bp3-minimal.bp3-intent-success:disabled, .bp3-dark .bp3-button.bp3-minimal.bp3-intent-success.bp3-disabled{
          background:none;
          color:rgba(61, 204, 145, 0.5); }
          .bp3-dark .bp3-button.bp3-minimal.bp3-intent-success:disabled.bp3-active, .bp3-dark .bp3-button.bp3-minimal.bp3-intent-success.bp3-disabled.bp3-active{
            background:rgba(15, 153, 96, 0.3); }
    .bp3-button.bp3-minimal.bp3-intent-warning{
      color:#bf7326; }
      .bp3-button.bp3-minimal.bp3-intent-warning:hover, .bp3-button.bp3-minimal.bp3-intent-warning:active, .bp3-button.bp3-minimal.bp3-intent-warning.bp3-active{
        background:none;
        -webkit-box-shadow:none;
                box-shadow:none;
        color:#bf7326; }
      .bp3-button.bp3-minimal.bp3-intent-warning:hover{
        background:rgba(217, 130, 43, 0.15);
        color:#bf7326; }
      .bp3-button.bp3-minimal.bp3-intent-warning:active, .bp3-button.bp3-minimal.bp3-intent-warning.bp3-active{
        background:rgba(217, 130, 43, 0.3);
        color:#bf7326; }
      .bp3-button.bp3-minimal.bp3-intent-warning:disabled, .bp3-button.bp3-minimal.bp3-intent-warning.bp3-disabled{
        background:none;
        color:rgba(191, 115, 38, 0.5); }
        .bp3-button.bp3-minimal.bp3-intent-warning:disabled.bp3-active, .bp3-button.bp3-minimal.bp3-intent-warning.bp3-disabled.bp3-active{
          background:rgba(217, 130, 43, 0.3); }
      .bp3-button.bp3-minimal.bp3-intent-warning .bp3-button-spinner .bp3-spinner-head{
        stroke:#bf7326; }
      .bp3-dark .bp3-button.bp3-minimal.bp3-intent-warning{
        color:#ffb366; }
        .bp3-dark .bp3-button.bp3-minimal.bp3-intent-warning:hover{
          background:rgba(217, 130, 43, 0.2);
          color:#ffb366; }
        .bp3-dark .bp3-button.bp3-minimal.bp3-intent-warning:active, .bp3-dark .bp3-button.bp3-minimal.bp3-intent-warning.bp3-active{
          background:rgba(217, 130, 43, 0.3);
          color:#ffb366; }
        .bp3-dark .bp3-button.bp3-minimal.bp3-intent-warning:disabled, .bp3-dark .bp3-button.bp3-minimal.bp3-intent-warning.bp3-disabled{
          background:none;
          color:rgba(255, 179, 102, 0.5); }
          .bp3-dark .bp3-button.bp3-minimal.bp3-intent-warning:disabled.bp3-active, .bp3-dark .bp3-button.bp3-minimal.bp3-intent-warning.bp3-disabled.bp3-active{
            background:rgba(217, 130, 43, 0.3); }
    .bp3-button.bp3-minimal.bp3-intent-danger{
      color:#c23030; }
      .bp3-button.bp3-minimal.bp3-intent-danger:hover, .bp3-button.bp3-minimal.bp3-intent-danger:active, .bp3-button.bp3-minimal.bp3-intent-danger.bp3-active{
        background:none;
        -webkit-box-shadow:none;
                box-shadow:none;
        color:#c23030; }
      .bp3-button.bp3-minimal.bp3-intent-danger:hover{
        background:rgba(219, 55, 55, 0.15);
        color:#c23030; }
      .bp3-button.bp3-minimal.bp3-intent-danger:active, .bp3-button.bp3-minimal.bp3-intent-danger.bp3-active{
        background:rgba(219, 55, 55, 0.3);
        color:#c23030; }
      .bp3-button.bp3-minimal.bp3-intent-danger:disabled, .bp3-button.bp3-minimal.bp3-intent-danger.bp3-disabled{
        background:none;
        color:rgba(194, 48, 48, 0.5); }
        .bp3-button.bp3-minimal.bp3-intent-danger:disabled.bp3-active, .bp3-button.bp3-minimal.bp3-intent-danger.bp3-disabled.bp3-active{
          background:rgba(219, 55, 55, 0.3); }
      .bp3-button.bp3-minimal.bp3-intent-danger .bp3-button-spinner .bp3-spinner-head{
        stroke:#c23030; }
      .bp3-dark .bp3-button.bp3-minimal.bp3-intent-danger{
        color:#ff7373; }
        .bp3-dark .bp3-button.bp3-minimal.bp3-intent-danger:hover{
          background:rgba(219, 55, 55, 0.2);
          color:#ff7373; }
        .bp3-dark .bp3-button.bp3-minimal.bp3-intent-danger:active, .bp3-dark .bp3-button.bp3-minimal.bp3-intent-danger.bp3-active{
          background:rgba(219, 55, 55, 0.3);
          color:#ff7373; }
        .bp3-dark .bp3-button.bp3-minimal.bp3-intent-danger:disabled, .bp3-dark .bp3-button.bp3-minimal.bp3-intent-danger.bp3-disabled{
          background:none;
          color:rgba(255, 115, 115, 0.5); }
          .bp3-dark .bp3-button.bp3-minimal.bp3-intent-danger:disabled.bp3-active, .bp3-dark .bp3-button.bp3-minimal.bp3-intent-danger.bp3-disabled.bp3-active{
            background:rgba(219, 55, 55, 0.3); }
  .bp3-button.bp3-outlined{
    background:none;
    -webkit-box-shadow:none;
            box-shadow:none;
    border:1px solid rgba(24, 32, 38, 0.2);
    -webkit-box-sizing:border-box;
            box-sizing:border-box; }
    .bp3-button.bp3-outlined:hover{
      background:rgba(167, 182, 194, 0.3);
      -webkit-box-shadow:none;
              box-shadow:none;
      color:#182026;
      text-decoration:none; }
    .bp3-button.bp3-outlined:active, .bp3-button.bp3-outlined.bp3-active{
      background:rgba(115, 134, 148, 0.3);
      -webkit-box-shadow:none;
              box-shadow:none;
      color:#182026; }
    .bp3-button.bp3-outlined:disabled, .bp3-button.bp3-outlined:disabled:hover, .bp3-button.bp3-outlined.bp3-disabled, .bp3-button.bp3-outlined.bp3-disabled:hover{
      background:none;
      color:rgba(92, 112, 128, 0.6);
      cursor:not-allowed; }
      .bp3-button.bp3-outlined:disabled.bp3-active, .bp3-button.bp3-outlined:disabled:hover.bp3-active, .bp3-button.bp3-outlined.bp3-disabled.bp3-active, .bp3-button.bp3-outlined.bp3-disabled:hover.bp3-active{
        background:rgba(115, 134, 148, 0.3); }
    .bp3-dark .bp3-button.bp3-outlined{
      background:none;
      -webkit-box-shadow:none;
              box-shadow:none;
      color:inherit; }
      .bp3-dark .bp3-button.bp3-outlined:hover, .bp3-dark .bp3-button.bp3-outlined:active, .bp3-dark .bp3-button.bp3-outlined.bp3-active{
        background:none;
        -webkit-box-shadow:none;
                box-shadow:none; }
      .bp3-dark .bp3-button.bp3-outlined:hover{
        background:rgba(138, 155, 168, 0.15); }
      .bp3-dark .bp3-button.bp3-outlined:active, .bp3-dark .bp3-button.bp3-outlined.bp3-active{
        background:rgba(138, 155, 168, 0.3);
        color:#f5f8fa; }
      .bp3-dark .bp3-button.bp3-outlined:disabled, .bp3-dark .bp3-button.bp3-outlined:disabled:hover, .bp3-dark .bp3-button.bp3-outlined.bp3-disabled, .bp3-dark .bp3-button.bp3-outlined.bp3-disabled:hover{
        background:none;
        color:rgba(167, 182, 194, 0.6);
        cursor:not-allowed; }
        .bp3-dark .bp3-button.bp3-outlined:disabled.bp3-active, .bp3-dark .bp3-button.bp3-outlined:disabled:hover.bp3-active, .bp3-dark .bp3-button.bp3-outlined.bp3-disabled.bp3-active, .bp3-dark .bp3-button.bp3-outlined.bp3-disabled:hover.bp3-active{
          background:rgba(138, 155, 168, 0.3); }
    .bp3-button.bp3-outlined.bp3-intent-primary{
      color:#106ba3; }
      .bp3-button.bp3-outlined.bp3-intent-primary:hover, .bp3-button.bp3-outlined.bp3-intent-primary:active, .bp3-button.bp3-outlined.bp3-intent-primary.bp3-active{
        background:none;
        -webkit-box-shadow:none;
                box-shadow:none;
        color:#106ba3; }
      .bp3-button.bp3-outlined.bp3-intent-primary:hover{
        background:rgba(19, 124, 189, 0.15);
        color:#106ba3; }
      .bp3-button.bp3-outlined.bp3-intent-primary:active, .bp3-button.bp3-outlined.bp3-intent-primary.bp3-active{
        background:rgba(19, 124, 189, 0.3);
        color:#106ba3; }
      .bp3-button.bp3-outlined.bp3-intent-primary:disabled, .bp3-button.bp3-outlined.bp3-intent-primary.bp3-disabled{
        background:none;
        color:rgba(16, 107, 163, 0.5); }
        .bp3-button.bp3-outlined.bp3-intent-primary:disabled.bp3-active, .bp3-button.bp3-outlined.bp3-intent-primary.bp3-disabled.bp3-active{
          background:rgba(19, 124, 189, 0.3); }
      .bp3-button.bp3-outlined.bp3-intent-primary .bp3-button-spinner .bp3-spinner-head{
        stroke:#106ba3; }
      .bp3-dark .bp3-button.bp3-outlined.bp3-intent-primary{
        color:#48aff0; }
        .bp3-dark .bp3-button.bp3-outlined.bp3-intent-primary:hover{
          background:rgba(19, 124, 189, 0.2);
          color:#48aff0; }
        .bp3-dark .bp3-button.bp3-outlined.bp3-intent-primary:active, .bp3-dark .bp3-button.bp3-outlined.bp3-intent-primary.bp3-active{
          background:rgba(19, 124, 189, 0.3);
          color:#48aff0; }
        .bp3-dark .bp3-button.bp3-outlined.bp3-intent-primary:disabled, .bp3-dark .bp3-button.bp3-outlined.bp3-intent-primary.bp3-disabled{
          background:none;
          color:rgba(72, 175, 240, 0.5); }
          .bp3-dark .bp3-button.bp3-outlined.bp3-intent-primary:disabled.bp3-active, .bp3-dark .bp3-button.bp3-outlined.bp3-intent-primary.bp3-disabled.bp3-active{
            background:rgba(19, 124, 189, 0.3); }
    .bp3-button.bp3-outlined.bp3-intent-success{
      color:#0d8050; }
      .bp3-button.bp3-outlined.bp3-intent-success:hover, .bp3-button.bp3-outlined.bp3-intent-success:active, .bp3-button.bp3-outlined.bp3-intent-success.bp3-active{
        background:none;
        -webkit-box-shadow:none;
                box-shadow:none;
        color:#0d8050; }
      .bp3-button.bp3-outlined.bp3-intent-success:hover{
        background:rgba(15, 153, 96, 0.15);
        color:#0d8050; }
      .bp3-button.bp3-outlined.bp3-intent-success:active, .bp3-button.bp3-outlined.bp3-intent-success.bp3-active{
        background:rgba(15, 153, 96, 0.3);
        color:#0d8050; }
      .bp3-button.bp3-outlined.bp3-intent-success:disabled, .bp3-button.bp3-outlined.bp3-intent-success.bp3-disabled{
        background:none;
        color:rgba(13, 128, 80, 0.5); }
        .bp3-button.bp3-outlined.bp3-intent-success:disabled.bp3-active, .bp3-button.bp3-outlined.bp3-intent-success.bp3-disabled.bp3-active{
          background:rgba(15, 153, 96, 0.3); }
      .bp3-button.bp3-outlined.bp3-intent-success .bp3-button-spinner .bp3-spinner-head{
        stroke:#0d8050; }
      .bp3-dark .bp3-button.bp3-outlined.bp3-intent-success{
        color:#3dcc91; }
        .bp3-dark .bp3-button.bp3-outlined.bp3-intent-success:hover{
          background:rgba(15, 153, 96, 0.2);
          color:#3dcc91; }
        .bp3-dark .bp3-button.bp3-outlined.bp3-intent-success:active, .bp3-dark .bp3-button.bp3-outlined.bp3-intent-success.bp3-active{
          background:rgba(15, 153, 96, 0.3);
          color:#3dcc91; }
        .bp3-dark .bp3-button.bp3-outlined.bp3-intent-success:disabled, .bp3-dark .bp3-button.bp3-outlined.bp3-intent-success.bp3-disabled{
          background:none;
          color:rgba(61, 204, 145, 0.5); }
          .bp3-dark .bp3-button.bp3-outlined.bp3-intent-success:disabled.bp3-active, .bp3-dark .bp3-button.bp3-outlined.bp3-intent-success.bp3-disabled.bp3-active{
            background:rgba(15, 153, 96, 0.3); }
    .bp3-button.bp3-outlined.bp3-intent-warning{
      color:#bf7326; }
      .bp3-button.bp3-outlined.bp3-intent-warning:hover, .bp3-button.bp3-outlined.bp3-intent-warning:active, .bp3-button.bp3-outlined.bp3-intent-warning.bp3-active{
        background:none;
        -webkit-box-shadow:none;
                box-shadow:none;
        color:#bf7326; }
      .bp3-button.bp3-outlined.bp3-intent-warning:hover{
        background:rgba(217, 130, 43, 0.15);
        color:#bf7326; }
      .bp3-button.bp3-outlined.bp3-intent-warning:active, .bp3-button.bp3-outlined.bp3-intent-warning.bp3-active{
        background:rgba(217, 130, 43, 0.3);
        color:#bf7326; }
      .bp3-button.bp3-outlined.bp3-intent-warning:disabled, .bp3-button.bp3-outlined.bp3-intent-warning.bp3-disabled{
        background:none;
        color:rgba(191, 115, 38, 0.5); }
        .bp3-button.bp3-outlined.bp3-intent-warning:disabled.bp3-active, .bp3-button.bp3-outlined.bp3-intent-warning.bp3-disabled.bp3-active{
          background:rgba(217, 130, 43, 0.3); }
      .bp3-button.bp3-outlined.bp3-intent-warning .bp3-button-spinner .bp3-spinner-head{
        stroke:#bf7326; }
      .bp3-dark .bp3-button.bp3-outlined.bp3-intent-warning{
        color:#ffb366; }
        .bp3-dark .bp3-button.bp3-outlined.bp3-intent-warning:hover{
          background:rgba(217, 130, 43, 0.2);
          color:#ffb366; }
        .bp3-dark .bp3-button.bp3-outlined.bp3-intent-warning:active, .bp3-dark .bp3-button.bp3-outlined.bp3-intent-warning.bp3-active{
          background:rgba(217, 130, 43, 0.3);
          color:#ffb366; }
        .bp3-dark .bp3-button.bp3-outlined.bp3-intent-warning:disabled, .bp3-dark .bp3-button.bp3-outlined.bp3-intent-warning.bp3-disabled{
          background:none;
          color:rgba(255, 179, 102, 0.5); }
          .bp3-dark .bp3-button.bp3-outlined.bp3-intent-warning:disabled.bp3-active, .bp3-dark .bp3-button.bp3-outlined.bp3-intent-warning.bp3-disabled.bp3-active{
            background:rgba(217, 130, 43, 0.3); }
    .bp3-button.bp3-outlined.bp3-intent-danger{
      color:#c23030; }
      .bp3-button.bp3-outlined.bp3-intent-danger:hover, .bp3-button.bp3-outlined.bp3-intent-danger:active, .bp3-button.bp3-outlined.bp3-intent-danger.bp3-active{
        background:none;
        -webkit-box-shadow:none;
                box-shadow:none;
        color:#c23030; }
      .bp3-button.bp3-outlined.bp3-intent-danger:hover{
        background:rgba(219, 55, 55, 0.15);
        color:#c23030; }
      .bp3-button.bp3-outlined.bp3-intent-danger:active, .bp3-button.bp3-outlined.bp3-intent-danger.bp3-active{
        background:rgba(219, 55, 55, 0.3);
        color:#c23030; }
      .bp3-button.bp3-outlined.bp3-intent-danger:disabled, .bp3-button.bp3-outlined.bp3-intent-danger.bp3-disabled{
        background:none;
        color:rgba(194, 48, 48, 0.5); }
        .bp3-button.bp3-outlined.bp3-intent-danger:disabled.bp3-active, .bp3-button.bp3-outlined.bp3-intent-danger.bp3-disabled.bp3-active{
          background:rgba(219, 55, 55, 0.3); }
      .bp3-button.bp3-outlined.bp3-intent-danger .bp3-button-spinner .bp3-spinner-head{
        stroke:#c23030; }
      .bp3-dark .bp3-button.bp3-outlined.bp3-intent-danger{
        color:#ff7373; }
        .bp3-dark .bp3-button.bp3-outlined.bp3-intent-danger:hover{
          background:rgba(219, 55, 55, 0.2);
          color:#ff7373; }
        .bp3-dark .bp3-button.bp3-outlined.bp3-intent-danger:active, .bp3-dark .bp3-button.bp3-outlined.bp3-intent-danger.bp3-active{
          background:rgba(219, 55, 55, 0.3);
          color:#ff7373; }
        .bp3-dark .bp3-button.bp3-outlined.bp3-intent-danger:disabled, .bp3-dark .bp3-button.bp3-outlined.bp3-intent-danger.bp3-disabled{
          background:none;
          color:rgba(255, 115, 115, 0.5); }
          .bp3-dark .bp3-button.bp3-outlined.bp3-intent-danger:disabled.bp3-active, .bp3-dark .bp3-button.bp3-outlined.bp3-intent-danger.bp3-disabled.bp3-active{
            background:rgba(219, 55, 55, 0.3); }
    .bp3-button.bp3-outlined:disabled, .bp3-button.bp3-outlined.bp3-disabled, .bp3-button.bp3-outlined:disabled:hover, .bp3-button.bp3-outlined.bp3-disabled:hover{
      border-color:rgba(92, 112, 128, 0.1); }
    .bp3-dark .bp3-button.bp3-outlined{
      border-color:rgba(255, 255, 255, 0.4); }
      .bp3-dark .bp3-button.bp3-outlined:disabled, .bp3-dark .bp3-button.bp3-outlined:disabled:hover, .bp3-dark .bp3-button.bp3-outlined.bp3-disabled, .bp3-dark .bp3-button.bp3-outlined.bp3-disabled:hover{
        border-color:rgba(255, 255, 255, 0.2); }
    .bp3-button.bp3-outlined.bp3-intent-primary{
      border-color:rgba(16, 107, 163, 0.6); }
      .bp3-button.bp3-outlined.bp3-intent-primary:disabled, .bp3-button.bp3-outlined.bp3-intent-primary.bp3-disabled{
        border-color:rgba(16, 107, 163, 0.2); }
      .bp3-dark .bp3-button.bp3-outlined.bp3-intent-primary{
        border-color:rgba(72, 175, 240, 0.6); }
        .bp3-dark .bp3-button.bp3-outlined.bp3-intent-primary:disabled, .bp3-dark .bp3-button.bp3-outlined.bp3-intent-primary.bp3-disabled{
          border-color:rgba(72, 175, 240, 0.2); }
    .bp3-button.bp3-outlined.bp3-intent-success{
      border-color:rgba(13, 128, 80, 0.6); }
      .bp3-button.bp3-outlined.bp3-intent-success:disabled, .bp3-button.bp3-outlined.bp3-intent-success.bp3-disabled{
        border-color:rgba(13, 128, 80, 0.2); }
      .bp3-dark .bp3-button.bp3-outlined.bp3-intent-success{
        border-color:rgba(61, 204, 145, 0.6); }
        .bp3-dark .bp3-button.bp3-outlined.bp3-intent-success:disabled, .bp3-dark .bp3-button.bp3-outlined.bp3-intent-success.bp3-disabled{
          border-color:rgba(61, 204, 145, 0.2); }
    .bp3-button.bp3-outlined.bp3-intent-warning{
      border-color:rgba(191, 115, 38, 0.6); }
      .bp3-button.bp3-outlined.bp3-intent-warning:disabled, .bp3-button.bp3-outlined.bp3-intent-warning.bp3-disabled{
        border-color:rgba(191, 115, 38, 0.2); }
      .bp3-dark .bp3-button.bp3-outlined.bp3-intent-warning{
        border-color:rgba(255, 179, 102, 0.6); }
        .bp3-dark .bp3-button.bp3-outlined.bp3-intent-warning:disabled, .bp3-dark .bp3-button.bp3-outlined.bp3-intent-warning.bp3-disabled{
          border-color:rgba(255, 179, 102, 0.2); }
    .bp3-button.bp3-outlined.bp3-intent-danger{
      border-color:rgba(194, 48, 48, 0.6); }
      .bp3-button.bp3-outlined.bp3-intent-danger:disabled, .bp3-button.bp3-outlined.bp3-intent-danger.bp3-disabled{
        border-color:rgba(194, 48, 48, 0.2); }
      .bp3-dark .bp3-button.bp3-outlined.bp3-intent-danger{
        border-color:rgba(255, 115, 115, 0.6); }
        .bp3-dark .bp3-button.bp3-outlined.bp3-intent-danger:disabled, .bp3-dark .bp3-button.bp3-outlined.bp3-intent-danger.bp3-disabled{
          border-color:rgba(255, 115, 115, 0.2); }

a.bp3-button{
  text-align:center;
  text-decoration:none;
  -webkit-transition:none;
  transition:none; }
  a.bp3-button, a.bp3-button:hover, a.bp3-button:active{
    color:#182026; }
  a.bp3-button.bp3-disabled{
    color:rgba(92, 112, 128, 0.6); }

.bp3-button-text{
  -webkit-box-flex:0;
      -ms-flex:0 1 auto;
          flex:0 1 auto; }

.bp3-button.bp3-align-left .bp3-button-text, .bp3-button.bp3-align-right .bp3-button-text,
.bp3-button-group.bp3-align-left .bp3-button-text,
.bp3-button-group.bp3-align-right .bp3-button-text{
  -webkit-box-flex:1;
      -ms-flex:1 1 auto;
          flex:1 1 auto; }
.bp3-button-group{
  display:-webkit-inline-box;
  display:-ms-inline-flexbox;
  display:inline-flex; }
  .bp3-button-group .bp3-button{
    -webkit-box-flex:0;
        -ms-flex:0 0 auto;
            flex:0 0 auto;
    position:relative;
    z-index:4; }
    .bp3-button-group .bp3-button:focus{
      z-index:5; }
    .bp3-button-group .bp3-button:hover{
      z-index:6; }
    .bp3-button-group .bp3-button:active, .bp3-button-group .bp3-button.bp3-active{
      z-index:7; }
    .bp3-button-group .bp3-button:disabled, .bp3-button-group .bp3-button.bp3-disabled{
      z-index:3; }
    .bp3-button-group .bp3-button[class*="bp3-intent-"]{
      z-index:9; }
      .bp3-button-group .bp3-button[class*="bp3-intent-"]:focus{
        z-index:10; }
      .bp3-button-group .bp3-button[class*="bp3-intent-"]:hover{
        z-index:11; }
      .bp3-button-group .bp3-button[class*="bp3-intent-"]:active, .bp3-button-group .bp3-button[class*="bp3-intent-"].bp3-active{
        z-index:12; }
      .bp3-button-group .bp3-button[class*="bp3-intent-"]:disabled, .bp3-button-group .bp3-button[class*="bp3-intent-"].bp3-disabled{
        z-index:8; }
  .bp3-button-group:not(.bp3-minimal) > .bp3-popover-wrapper:not(:first-child) .bp3-button,
  .bp3-button-group:not(.bp3-minimal) > .bp3-button:not(:first-child){
    border-bottom-left-radius:0;
    border-top-left-radius:0; }
  .bp3-button-group:not(.bp3-minimal) > .bp3-popover-wrapper:not(:last-child) .bp3-button,
  .bp3-button-group:not(.bp3-minimal) > .bp3-button:not(:last-child){
    border-bottom-right-radius:0;
    border-top-right-radius:0;
    margin-right:-1px; }
  .bp3-button-group.bp3-minimal .bp3-button{
    background:none;
    -webkit-box-shadow:none;
            box-shadow:none; }
    .bp3-button-group.bp3-minimal .bp3-button:hover{
      background:rgba(167, 182, 194, 0.3);
      -webkit-box-shadow:none;
              box-shadow:none;
      color:#182026;
      text-decoration:none; }
    .bp3-button-group.bp3-minimal .bp3-button:active, .bp3-button-group.bp3-minimal .bp3-button.bp3-active{
      background:rgba(115, 134, 148, 0.3);
      -webkit-box-shadow:none;
              box-shadow:none;
      color:#182026; }
    .bp3-button-group.bp3-minimal .bp3-button:disabled, .bp3-button-group.bp3-minimal .bp3-button:disabled:hover, .bp3-button-group.bp3-minimal .bp3-button.bp3-disabled, .bp3-button-group.bp3-minimal .bp3-button.bp3-disabled:hover{
      background:none;
      color:rgba(92, 112, 128, 0.6);
      cursor:not-allowed; }
      .bp3-button-group.bp3-minimal .bp3-button:disabled.bp3-active, .bp3-button-group.bp3-minimal .bp3-button:disabled:hover.bp3-active, .bp3-button-group.bp3-minimal .bp3-button.bp3-disabled.bp3-active, .bp3-button-group.bp3-minimal .bp3-button.bp3-disabled:hover.bp3-active{
        background:rgba(115, 134, 148, 0.3); }
    .bp3-dark .bp3-button-group.bp3-minimal .bp3-button{
      background:none;
      -webkit-box-shadow:none;
              box-shadow:none;
      color:inherit; }
      .bp3-dark .bp3-button-group.bp3-minimal .bp3-button:hover, .bp3-dark .bp3-button-group.bp3-minimal .bp3-button:active, .bp3-dark .bp3-button-group.bp3-minimal .bp3-button.bp3-active{
        background:none;
        -webkit-box-shadow:none;
                box-shadow:none; }
      .bp3-dark .bp3-button-group.bp3-minimal .bp3-button:hover{
        background:rgba(138, 155, 168, 0.15); }
      .bp3-dark .bp3-button-group.bp3-minimal .bp3-button:active, .bp3-dark .bp3-button-group.bp3-minimal .bp3-button.bp3-active{
        background:rgba(138, 155, 168, 0.3);
        color:#f5f8fa; }
      .bp3-dark .bp3-button-group.bp3-minimal .bp3-button:disabled, .bp3-dark .bp3-button-group.bp3-minimal .bp3-button:disabled:hover, .bp3-dark .bp3-button-group.bp3-minimal .bp3-button.bp3-disabled, .bp3-dark .bp3-button-group.bp3-minimal .bp3-button.bp3-disabled:hover{
        background:none;
        color:rgba(167, 182, 194, 0.6);
        cursor:not-allowed; }
        .bp3-dark .bp3-button-group.bp3-minimal .bp3-button:disabled.bp3-active, .bp3-dark .bp3-button-group.bp3-minimal .bp3-button:disabled:hover.bp3-active, .bp3-dark .bp3-button-group.bp3-minimal .bp3-button.bp3-disabled.bp3-active, .bp3-dark .bp3-button-group.bp3-minimal .bp3-button.bp3-disabled:hover.bp3-active{
          background:rgba(138, 155, 168, 0.3); }
    .bp3-button-group.bp3-minimal .bp3-button.bp3-intent-primary{
      color:#106ba3; }
      .bp3-button-group.bp3-minimal .bp3-button.bp3-intent-primary:hover, .bp3-button-group.bp3-minimal .bp3-button.bp3-intent-primary:active, .bp3-button-group.bp3-minimal .bp3-button.bp3-intent-primary.bp3-active{
        background:none;
        -webkit-box-shadow:none;
                box-shadow:none;
        color:#106ba3; }
      .bp3-button-group.bp3-minimal .bp3-button.bp3-intent-primary:hover{
        background:rgba(19, 124, 189, 0.15);
        color:#106ba3; }
      .bp3-button-group.bp3-minimal .bp3-button.bp3-intent-primary:active, .bp3-button-group.bp3-minimal .bp3-button.bp3-intent-primary.bp3-active{
        background:rgba(19, 124, 189, 0.3);
        color:#106ba3; }
      .bp3-button-group.bp3-minimal .bp3-button.bp3-intent-primary:disabled, .bp3-button-group.bp3-minimal .bp3-button.bp3-intent-primary.bp3-disabled{
        background:none;
        color:rgba(16, 107, 163, 0.5); }
        .bp3-button-group.bp3-minimal .bp3-button.bp3-intent-primary:disabled.bp3-active, .bp3-button-group.bp3-minimal .bp3-button.bp3-intent-primary.bp3-disabled.bp3-active{
          background:rgba(19, 124, 189, 0.3); }
      .bp3-button-group.bp3-minimal .bp3-button.bp3-intent-primary .bp3-button-spinner .bp3-spinner-head{
        stroke:#106ba3; }
      .bp3-dark .bp3-button-group.bp3-minimal .bp3-button.bp3-intent-primary{
        color:#48aff0; }
        .bp3-dark .bp3-button-group.bp3-minimal .bp3-button.bp3-intent-primary:hover{
          background:rgba(19, 124, 189, 0.2);
          color:#48aff0; }
        .bp3-dark .bp3-button-group.bp3-minimal .bp3-button.bp3-intent-primary:active, .bp3-dark .bp3-button-group.bp3-minimal .bp3-button.bp3-intent-primary.bp3-active{
          background:rgba(19, 124, 189, 0.3);
          color:#48aff0; }
        .bp3-dark .bp3-button-group.bp3-minimal .bp3-button.bp3-intent-primary:disabled, .bp3-dark .bp3-button-group.bp3-minimal .bp3-button.bp3-intent-primary.bp3-disabled{
          background:none;
          color:rgba(72, 175, 240, 0.5); }
          .bp3-dark .bp3-button-group.bp3-minimal .bp3-button.bp3-intent-primary:disabled.bp3-active, .bp3-dark .bp3-button-group.bp3-minimal .bp3-button.bp3-intent-primary.bp3-disabled.bp3-active{
            background:rgba(19, 124, 189, 0.3); }
    .bp3-button-group.bp3-minimal .bp3-button.bp3-intent-success{
      color:#0d8050; }
      .bp3-button-group.bp3-minimal .bp3-button.bp3-intent-success:hover, .bp3-button-group.bp3-minimal .bp3-button.bp3-intent-success:active, .bp3-button-group.bp3-minimal .bp3-button.bp3-intent-success.bp3-active{
        background:none;
        -webkit-box-shadow:none;
                box-shadow:none;
        color:#0d8050; }
      .bp3-button-group.bp3-minimal .bp3-button.bp3-intent-success:hover{
        background:rgba(15, 153, 96, 0.15);
        color:#0d8050; }
      .bp3-button-group.bp3-minimal .bp3-button.bp3-intent-success:active, .bp3-button-group.bp3-minimal .bp3-button.bp3-intent-success.bp3-active{
        background:rgba(15, 153, 96, 0.3);
        color:#0d8050; }
      .bp3-button-group.bp3-minimal .bp3-button.bp3-intent-success:disabled, .bp3-button-group.bp3-minimal .bp3-button.bp3-intent-success.bp3-disabled{
        background:none;
        color:rgba(13, 128, 80, 0.5); }
        .bp3-button-group.bp3-minimal .bp3-button.bp3-intent-success:disabled.bp3-active, .bp3-button-group.bp3-minimal .bp3-button.bp3-intent-success.bp3-disabled.bp3-active{
          background:rgba(15, 153, 96, 0.3); }
      .bp3-button-group.bp3-minimal .bp3-button.bp3-intent-success .bp3-button-spinner .bp3-spinner-head{
        stroke:#0d8050; }
      .bp3-dark .bp3-button-group.bp3-minimal .bp3-button.bp3-intent-success{
        color:#3dcc91; }
        .bp3-dark .bp3-button-group.bp3-minimal .bp3-button.bp3-intent-success:hover{
          background:rgba(15, 153, 96, 0.2);
          color:#3dcc91; }
        .bp3-dark .bp3-button-group.bp3-minimal .bp3-button.bp3-intent-success:active, .bp3-dark .bp3-button-group.bp3-minimal .bp3-button.bp3-intent-success.bp3-active{
          background:rgba(15, 153, 96, 0.3);
          color:#3dcc91; }
        .bp3-dark .bp3-button-group.bp3-minimal .bp3-button.bp3-intent-success:disabled, .bp3-dark .bp3-button-group.bp3-minimal .bp3-button.bp3-intent-success.bp3-disabled{
          background:none;
          color:rgba(61, 204, 145, 0.5); }
          .bp3-dark .bp3-button-group.bp3-minimal .bp3-button.bp3-intent-success:disabled.bp3-active, .bp3-dark .bp3-button-group.bp3-minimal .bp3-button.bp3-intent-success.bp3-disabled.bp3-active{
            background:rgba(15, 153, 96, 0.3); }
    .bp3-button-group.bp3-minimal .bp3-button.bp3-intent-warning{
      color:#bf7326; }
      .bp3-button-group.bp3-minimal .bp3-button.bp3-intent-warning:hover, .bp3-button-group.bp3-minimal .bp3-button.bp3-intent-warning:active, .bp3-button-group.bp3-minimal .bp3-button.bp3-intent-warning.bp3-active{
        background:none;
        -webkit-box-shadow:none;
                box-shadow:none;
        color:#bf7326; }
      .bp3-button-group.bp3-minimal .bp3-button.bp3-intent-warning:hover{
        background:rgba(217, 130, 43, 0.15);
        color:#bf7326; }
      .bp3-button-group.bp3-minimal .bp3-button.bp3-intent-warning:active, .bp3-button-group.bp3-minimal .bp3-button.bp3-intent-warning.bp3-active{
        background:rgba(217, 130, 43, 0.3);
        color:#bf7326; }
      .bp3-button-group.bp3-minimal .bp3-button.bp3-intent-warning:disabled, .bp3-button-group.bp3-minimal .bp3-button.bp3-intent-warning.bp3-disabled{
        background:none;
        color:rgba(191, 115, 38, 0.5); }
        .bp3-button-group.bp3-minimal .bp3-button.bp3-intent-warning:disabled.bp3-active, .bp3-button-group.bp3-minimal .bp3-button.bp3-intent-warning.bp3-disabled.bp3-active{
          background:rgba(217, 130, 43, 0.3); }
      .bp3-button-group.bp3-minimal .bp3-button.bp3-intent-warning .bp3-button-spinner .bp3-spinner-head{
        stroke:#bf7326; }
      .bp3-dark .bp3-button-group.bp3-minimal .bp3-button.bp3-intent-warning{
        color:#ffb366; }
        .bp3-dark .bp3-button-group.bp3-minimal .bp3-button.bp3-intent-warning:hover{
          background:rgba(217, 130, 43, 0.2);
          color:#ffb366; }
        .bp3-dark .bp3-button-group.bp3-minimal .bp3-button.bp3-intent-warning:active, .bp3-dark .bp3-button-group.bp3-minimal .bp3-button.bp3-intent-warning.bp3-active{
          background:rgba(217, 130, 43, 0.3);
          color:#ffb366; }
        .bp3-dark .bp3-button-group.bp3-minimal .bp3-button.bp3-intent-warning:disabled, .bp3-dark .bp3-button-group.bp3-minimal .bp3-button.bp3-intent-warning.bp3-disabled{
          background:none;
          color:rgba(255, 179, 102, 0.5); }
          .bp3-dark .bp3-button-group.bp3-minimal .bp3-button.bp3-intent-warning:disabled.bp3-active, .bp3-dark .bp3-button-group.bp3-minimal .bp3-button.bp3-intent-warning.bp3-disabled.bp3-active{
            background:rgba(217, 130, 43, 0.3); }
    .bp3-button-group.bp3-minimal .bp3-button.bp3-intent-danger{
      color:#c23030; }
      .bp3-button-group.bp3-minimal .bp3-button.bp3-intent-danger:hover, .bp3-button-group.bp3-minimal .bp3-button.bp3-intent-danger:active, .bp3-button-group.bp3-minimal .bp3-button.bp3-intent-danger.bp3-active{
        background:none;
        -webkit-box-shadow:none;
                box-shadow:none;
        color:#c23030; }
      .bp3-button-group.bp3-minimal .bp3-button.bp3-intent-danger:hover{
        background:rgba(219, 55, 55, 0.15);
        color:#c23030; }
      .bp3-button-group.bp3-minimal .bp3-button.bp3-intent-danger:active, .bp3-button-group.bp3-minimal .bp3-button.bp3-intent-danger.bp3-active{
        background:rgba(219, 55, 55, 0.3);
        color:#c23030; }
      .bp3-button-group.bp3-minimal .bp3-button.bp3-intent-danger:disabled, .bp3-button-group.bp3-minimal .bp3-button.bp3-intent-danger.bp3-disabled{
        background:none;
        color:rgba(194, 48, 48, 0.5); }
        .bp3-button-group.bp3-minimal .bp3-button.bp3-intent-danger:disabled.bp3-active, .bp3-button-group.bp3-minimal .bp3-button.bp3-intent-danger.bp3-disabled.bp3-active{
          background:rgba(219, 55, 55, 0.3); }
      .bp3-button-group.bp3-minimal .bp3-button.bp3-intent-danger .bp3-button-spinner .bp3-spinner-head{
        stroke:#c23030; }
      .bp3-dark .bp3-button-group.bp3-minimal .bp3-button.bp3-intent-danger{
        color:#ff7373; }
        .bp3-dark .bp3-button-group.bp3-minimal .bp3-button.bp3-intent-danger:hover{
          background:rgba(219, 55, 55, 0.2);
          color:#ff7373; }
        .bp3-dark .bp3-button-group.bp3-minimal .bp3-button.bp3-intent-danger:active, .bp3-dark .bp3-button-group.bp3-minimal .bp3-button.bp3-intent-danger.bp3-active{
          background:rgba(219, 55, 55, 0.3);
          color:#ff7373; }
        .bp3-dark .bp3-button-group.bp3-minimal .bp3-button.bp3-intent-danger:disabled, .bp3-dark .bp3-button-group.bp3-minimal .bp3-button.bp3-intent-danger.bp3-disabled{
          background:none;
          color:rgba(255, 115, 115, 0.5); }
          .bp3-dark .bp3-button-group.bp3-minimal .bp3-button.bp3-intent-danger:disabled.bp3-active, .bp3-dark .bp3-button-group.bp3-minimal .bp3-button.bp3-intent-danger.bp3-disabled.bp3-active{
            background:rgba(219, 55, 55, 0.3); }
  .bp3-button-group .bp3-popover-wrapper,
  .bp3-button-group .bp3-popover-target{
    display:-webkit-box;
    display:-ms-flexbox;
    display:flex;
    -webkit-box-flex:1;
        -ms-flex:1 1 auto;
            flex:1 1 auto; }
  .bp3-button-group.bp3-fill{
    display:-webkit-box;
    display:-ms-flexbox;
    display:flex;
    width:100%; }
  .bp3-button-group .bp3-button.bp3-fill,
  .bp3-button-group.bp3-fill .bp3-button:not(.bp3-fixed){
    -webkit-box-flex:1;
        -ms-flex:1 1 auto;
            flex:1 1 auto; }
  .bp3-button-group.bp3-vertical{
    -webkit-box-align:stretch;
        -ms-flex-align:stretch;
            align-items:stretch;
    -webkit-box-orient:vertical;
    -webkit-box-direction:normal;
        -ms-flex-direction:column;
            flex-direction:column;
    vertical-align:top; }
    .bp3-button-group.bp3-vertical.bp3-fill{
      height:100%;
      width:unset; }
    .bp3-button-group.bp3-vertical .bp3-button{
      margin-right:0 !important;
      width:100%; }
    .bp3-button-group.bp3-vertical:not(.bp3-minimal) > .bp3-popover-wrapper:first-child .bp3-button,
    .bp3-button-group.bp3-vertical:not(.bp3-minimal) > .bp3-button:first-child{
      border-radius:3px 3px 0 0; }
    .bp3-button-group.bp3-vertical:not(.bp3-minimal) > .bp3-popover-wrapper:last-child .bp3-button,
    .bp3-button-group.bp3-vertical:not(.bp3-minimal) > .bp3-button:last-child{
      border-radius:0 0 3px 3px; }
    .bp3-button-group.bp3-vertical:not(.bp3-minimal) > .bp3-popover-wrapper:not(:last-child) .bp3-button,
    .bp3-button-group.bp3-vertical:not(.bp3-minimal) > .bp3-button:not(:last-child){
      margin-bottom:-1px; }
  .bp3-button-group.bp3-align-left .bp3-button{
    text-align:left; }
  .bp3-dark .bp3-button-group:not(.bp3-minimal) > .bp3-popover-wrapper:not(:last-child) .bp3-button,
  .bp3-dark .bp3-button-group:not(.bp3-minimal) > .bp3-button:not(:last-child){
    margin-right:1px; }
  .bp3-dark .bp3-button-group.bp3-vertical > .bp3-popover-wrapper:not(:last-child) .bp3-button,
  .bp3-dark .bp3-button-group.bp3-vertical > .bp3-button:not(:last-child){
    margin-bottom:1px; }
.bp3-callout{
  font-size:14px;
  line-height:1.5;
  background-color:rgba(138, 155, 168, 0.15);
  border-radius:3px;
  padding:10px 12px 9px;
  position:relative;
  width:100%; }
  .bp3-callout[class*="bp3-icon-"]{
    padding-left:40px; }
    .bp3-callout[class*="bp3-icon-"]::before{
      font-family:"Icons20", sans-serif;
      font-size:20px;
      font-style:normal;
      font-weight:400;
      line-height:1;
      -moz-osx-font-smoothing:grayscale;
      -webkit-font-smoothing:antialiased;
      color:#5c7080;
      left:10px;
      position:absolute;
      top:10px; }
  .bp3-callout.bp3-callout-icon{
    padding-left:40px; }
    .bp3-callout.bp3-callout-icon > .bp3-icon:first-child{
      color:#5c7080;
      left:10px;
      position:absolute;
      top:10px; }
  .bp3-callout .bp3-heading{
    line-height:20px;
    margin-bottom:5px;
    margin-top:0; }
    .bp3-callout .bp3-heading:last-child{
      margin-bottom:0; }
  .bp3-dark .bp3-callout{
    background-color:rgba(138, 155, 168, 0.2); }
    .bp3-dark .bp3-callout[class*="bp3-icon-"]::before{
      color:#a7b6c2; }
  .bp3-callout.bp3-intent-primary{
    background-color:rgba(19, 124, 189, 0.15); }
    .bp3-callout.bp3-intent-primary[class*="bp3-icon-"]::before,
    .bp3-callout.bp3-intent-primary > .bp3-icon:first-child,
    .bp3-callout.bp3-intent-primary .bp3-heading{
      color:#106ba3; }
    .bp3-dark .bp3-callout.bp3-intent-primary{
      background-color:rgba(19, 124, 189, 0.25); }
      .bp3-dark .bp3-callout.bp3-intent-primary[class*="bp3-icon-"]::before,
      .bp3-dark .bp3-callout.bp3-intent-primary > .bp3-icon:first-child,
      .bp3-dark .bp3-callout.bp3-intent-primary .bp3-heading{
        color:#48aff0; }
  .bp3-callout.bp3-intent-success{
    background-color:rgba(15, 153, 96, 0.15); }
    .bp3-callout.bp3-intent-success[class*="bp3-icon-"]::before,
    .bp3-callout.bp3-intent-success > .bp3-icon:first-child,
    .bp3-callout.bp3-intent-success .bp3-heading{
      color:#0d8050; }
    .bp3-dark .bp3-callout.bp3-intent-success{
      background-color:rgba(15, 153, 96, 0.25); }
      .bp3-dark .bp3-callout.bp3-intent-success[class*="bp3-icon-"]::before,
      .bp3-dark .bp3-callout.bp3-intent-success > .bp3-icon:first-child,
      .bp3-dark .bp3-callout.bp3-intent-success .bp3-heading{
        color:#3dcc91; }
  .bp3-callout.bp3-intent-warning{
    background-color:rgba(217, 130, 43, 0.15); }
    .bp3-callout.bp3-intent-warning[class*="bp3-icon-"]::before,
    .bp3-callout.bp3-intent-warning > .bp3-icon:first-child,
    .bp3-callout.bp3-intent-warning .bp3-heading{
      color:#bf7326; }
    .bp3-dark .bp3-callout.bp3-intent-warning{
      background-color:rgba(217, 130, 43, 0.25); }
      .bp3-dark .bp3-callout.bp3-intent-warning[class*="bp3-icon-"]::before,
      .bp3-dark .bp3-callout.bp3-intent-warning > .bp3-icon:first-child,
      .bp3-dark .bp3-callout.bp3-intent-warning .bp3-heading{
        color:#ffb366; }
  .bp3-callout.bp3-intent-danger{
    background-color:rgba(219, 55, 55, 0.15); }
    .bp3-callout.bp3-intent-danger[class*="bp3-icon-"]::before,
    .bp3-callout.bp3-intent-danger > .bp3-icon:first-child,
    .bp3-callout.bp3-intent-danger .bp3-heading{
      color:#c23030; }
    .bp3-dark .bp3-callout.bp3-intent-danger{
      background-color:rgba(219, 55, 55, 0.25); }
      .bp3-dark .bp3-callout.bp3-intent-danger[class*="bp3-icon-"]::before,
      .bp3-dark .bp3-callout.bp3-intent-danger > .bp3-icon:first-child,
      .bp3-dark .bp3-callout.bp3-intent-danger .bp3-heading{
        color:#ff7373; }
  .bp3-running-text .bp3-callout{
    margin:20px 0; }
.bp3-card{
  background-color:#ffffff;
  border-radius:3px;
  -webkit-box-shadow:0 0 0 1px rgba(16, 22, 26, 0.15), 0 0 0 rgba(16, 22, 26, 0), 0 0 0 rgba(16, 22, 26, 0);
          box-shadow:0 0 0 1px rgba(16, 22, 26, 0.15), 0 0 0 rgba(16, 22, 26, 0), 0 0 0 rgba(16, 22, 26, 0);
  padding:20px;
  -webkit-transition:-webkit-transform 200ms cubic-bezier(0.4, 1, 0.75, 0.9), -webkit-box-shadow 200ms cubic-bezier(0.4, 1, 0.75, 0.9);
  transition:-webkit-transform 200ms cubic-bezier(0.4, 1, 0.75, 0.9), -webkit-box-shadow 200ms cubic-bezier(0.4, 1, 0.75, 0.9);
  transition:transform 200ms cubic-bezier(0.4, 1, 0.75, 0.9), box-shadow 200ms cubic-bezier(0.4, 1, 0.75, 0.9);
  transition:transform 200ms cubic-bezier(0.4, 1, 0.75, 0.9), box-shadow 200ms cubic-bezier(0.4, 1, 0.75, 0.9), -webkit-transform 200ms cubic-bezier(0.4, 1, 0.75, 0.9), -webkit-box-shadow 200ms cubic-bezier(0.4, 1, 0.75, 0.9); }
  .bp3-card.bp3-dark,
  .bp3-dark .bp3-card{
    background-color:#30404d;
    -webkit-box-shadow:0 0 0 1px rgba(16, 22, 26, 0.4), 0 0 0 rgba(16, 22, 26, 0), 0 0 0 rgba(16, 22, 26, 0);
            box-shadow:0 0 0 1px rgba(16, 22, 26, 0.4), 0 0 0 rgba(16, 22, 26, 0), 0 0 0 rgba(16, 22, 26, 0); }

.bp3-elevation-0{
  -webkit-box-shadow:0 0 0 1px rgba(16, 22, 26, 0.15), 0 0 0 rgba(16, 22, 26, 0), 0 0 0 rgba(16, 22, 26, 0);
          box-shadow:0 0 0 1px rgba(16, 22, 26, 0.15), 0 0 0 rgba(16, 22, 26, 0), 0 0 0 rgba(16, 22, 26, 0); }
  .bp3-elevation-0.bp3-dark,
  .bp3-dark .bp3-elevation-0{
    -webkit-box-shadow:0 0 0 1px rgba(16, 22, 26, 0.4), 0 0 0 rgba(16, 22, 26, 0), 0 0 0 rgba(16, 22, 26, 0);
            box-shadow:0 0 0 1px rgba(16, 22, 26, 0.4), 0 0 0 rgba(16, 22, 26, 0), 0 0 0 rgba(16, 22, 26, 0); }

.bp3-elevation-1{
  -webkit-box-shadow:0 0 0 1px rgba(16, 22, 26, 0.1), 0 0 0 rgba(16, 22, 26, 0), 0 1px 1px rgba(16, 22, 26, 0.2);
          box-shadow:0 0 0 1px rgba(16, 22, 26, 0.1), 0 0 0 rgba(16, 22, 26, 0), 0 1px 1px rgba(16, 22, 26, 0.2); }
  .bp3-elevation-1.bp3-dark,
  .bp3-dark .bp3-elevation-1{
    -webkit-box-shadow:0 0 0 1px rgba(16, 22, 26, 0.2), 0 0 0 rgba(16, 22, 26, 0), 0 1px 1px rgba(16, 22, 26, 0.4);
            box-shadow:0 0 0 1px rgba(16, 22, 26, 0.2), 0 0 0 rgba(16, 22, 26, 0), 0 1px 1px rgba(16, 22, 26, 0.4); }

.bp3-elevation-2{
  -webkit-box-shadow:0 0 0 1px rgba(16, 22, 26, 0.1), 0 1px 1px rgba(16, 22, 26, 0.2), 0 2px 6px rgba(16, 22, 26, 0.2);
          box-shadow:0 0 0 1px rgba(16, 22, 26, 0.1), 0 1px 1px rgba(16, 22, 26, 0.2), 0 2px 6px rgba(16, 22, 26, 0.2); }
  .bp3-elevation-2.bp3-dark,
  .bp3-dark .bp3-elevation-2{
    -webkit-box-shadow:0 0 0 1px rgba(16, 22, 26, 0.2), 0 1px 1px rgba(16, 22, 26, 0.4), 0 2px 6px rgba(16, 22, 26, 0.4);
            box-shadow:0 0 0 1px rgba(16, 22, 26, 0.2), 0 1px 1px rgba(16, 22, 26, 0.4), 0 2px 6px rgba(16, 22, 26, 0.4); }

.bp3-elevation-3{
  -webkit-box-shadow:0 0 0 1px rgba(16, 22, 26, 0.1), 0 2px 4px rgba(16, 22, 26, 0.2), 0 8px 24px rgba(16, 22, 26, 0.2);
          box-shadow:0 0 0 1px rgba(16, 22, 26, 0.1), 0 2px 4px rgba(16, 22, 26, 0.2), 0 8px 24px rgba(16, 22, 26, 0.2); }
  .bp3-elevation-3.bp3-dark,
  .bp3-dark .bp3-elevation-3{
    -webkit-box-shadow:0 0 0 1px rgba(16, 22, 26, 0.2), 0 2px 4px rgba(16, 22, 26, 0.4), 0 8px 24px rgba(16, 22, 26, 0.4);
            box-shadow:0 0 0 1px rgba(16, 22, 26, 0.2), 0 2px 4px rgba(16, 22, 26, 0.4), 0 8px 24px rgba(16, 22, 26, 0.4); }

.bp3-elevation-4{
  -webkit-box-shadow:0 0 0 1px rgba(16, 22, 26, 0.1), 0 4px 8px rgba(16, 22, 26, 0.2), 0 18px 46px 6px rgba(16, 22, 26, 0.2);
          box-shadow:0 0 0 1px rgba(16, 22, 26, 0.1), 0 4px 8px rgba(16, 22, 26, 0.2), 0 18px 46px 6px rgba(16, 22, 26, 0.2); }
  .bp3-elevation-4.bp3-dark,
  .bp3-dark .bp3-elevation-4{
    -webkit-box-shadow:0 0 0 1px rgba(16, 22, 26, 0.2), 0 4px 8px rgba(16, 22, 26, 0.4), 0 18px 46px 6px rgba(16, 22, 26, 0.4);
            box-shadow:0 0 0 1px rgba(16, 22, 26, 0.2), 0 4px 8px rgba(16, 22, 26, 0.4), 0 18px 46px 6px rgba(16, 22, 26, 0.4); }

.bp3-card.bp3-interactive:hover{
  -webkit-box-shadow:0 0 0 1px rgba(16, 22, 26, 0.1), 0 2px 4px rgba(16, 22, 26, 0.2), 0 8px 24px rgba(16, 22, 26, 0.2);
          box-shadow:0 0 0 1px rgba(16, 22, 26, 0.1), 0 2px 4px rgba(16, 22, 26, 0.2), 0 8px 24px rgba(16, 22, 26, 0.2);
  cursor:pointer; }
  .bp3-card.bp3-interactive:hover.bp3-dark,
  .bp3-dark .bp3-card.bp3-interactive:hover{
    -webkit-box-shadow:0 0 0 1px rgba(16, 22, 26, 0.2), 0 2px 4px rgba(16, 22, 26, 0.4), 0 8px 24px rgba(16, 22, 26, 0.4);
            box-shadow:0 0 0 1px rgba(16, 22, 26, 0.2), 0 2px 4px rgba(16, 22, 26, 0.4), 0 8px 24px rgba(16, 22, 26, 0.4); }

.bp3-card.bp3-interactive:active{
  -webkit-box-shadow:0 0 0 1px rgba(16, 22, 26, 0.1), 0 0 0 rgba(16, 22, 26, 0), 0 1px 1px rgba(16, 22, 26, 0.2);
          box-shadow:0 0 0 1px rgba(16, 22, 26, 0.1), 0 0 0 rgba(16, 22, 26, 0), 0 1px 1px rgba(16, 22, 26, 0.2);
  opacity:0.9;
  -webkit-transition-duration:0;
          transition-duration:0; }
  .bp3-card.bp3-interactive:active.bp3-dark,
  .bp3-dark .bp3-card.bp3-interactive:active{
    -webkit-box-shadow:0 0 0 1px rgba(16, 22, 26, 0.2), 0 0 0 rgba(16, 22, 26, 0), 0 1px 1px rgba(16, 22, 26, 0.4);
            box-shadow:0 0 0 1px rgba(16, 22, 26, 0.2), 0 0 0 rgba(16, 22, 26, 0), 0 1px 1px rgba(16, 22, 26, 0.4); }

.bp3-collapse{
  height:0;
  overflow-y:hidden;
  -webkit-transition:height 200ms cubic-bezier(0.4, 1, 0.75, 0.9);
  transition:height 200ms cubic-bezier(0.4, 1, 0.75, 0.9); }
  .bp3-collapse .bp3-collapse-body{
    -webkit-transition:-webkit-transform 200ms cubic-bezier(0.4, 1, 0.75, 0.9);
    transition:-webkit-transform 200ms cubic-bezier(0.4, 1, 0.75, 0.9);
    transition:transform 200ms cubic-bezier(0.4, 1, 0.75, 0.9);
    transition:transform 200ms cubic-bezier(0.4, 1, 0.75, 0.9), -webkit-transform 200ms cubic-bezier(0.4, 1, 0.75, 0.9); }
    .bp3-collapse .bp3-collapse-body[aria-hidden="true"]{
      display:none; }

.bp3-context-menu .bp3-popover-target{
  display:block; }

.bp3-context-menu-popover-target{
  position:fixed; }

.bp3-divider{
  border-bottom:1px solid rgba(16, 22, 26, 0.15);
  border-right:1px solid rgba(16, 22, 26, 0.15);
  margin:5px; }
  .bp3-dark .bp3-divider{
    border-color:rgba(16, 22, 26, 0.4); }
.bp3-dialog-container{
  opacity:1;
  -webkit-transform:scale(1);
          transform:scale(1);
  -webkit-box-align:center;
      -ms-flex-align:center;
          align-items:center;
  display:-webkit-box;
  display:-ms-flexbox;
  display:flex;
  -webkit-box-pack:center;
      -ms-flex-pack:center;
          justify-content:center;
  min-height:100%;
  pointer-events:none;
  -webkit-user-select:none;
     -moz-user-select:none;
      -ms-user-select:none;
          user-select:none;
  width:100%; }
  .bp3-dialog-container.bp3-overlay-enter > .bp3-dialog, .bp3-dialog-container.bp3-overlay-appear > .bp3-dialog{
    opacity:0;
    -webkit-transform:scale(0.5);
            transform:scale(0.5); }
  .bp3-dialog-container.bp3-overlay-enter-active > .bp3-dialog, .bp3-dialog-container.bp3-overlay-appear-active > .bp3-dialog{
    opacity:1;
    -webkit-transform:scale(1);
            transform:scale(1);
    -webkit-transition-delay:0;
            transition-delay:0;
    -webkit-transition-duration:300ms;
            transition-duration:300ms;
    -webkit-transition-property:opacity, -webkit-transform;
    transition-property:opacity, -webkit-transform;
    transition-property:opacity, transform;
    transition-property:opacity, transform, -webkit-transform;
    -webkit-transition-timing-function:cubic-bezier(0.54, 1.12, 0.38, 1.11);
            transition-timing-function:cubic-bezier(0.54, 1.12, 0.38, 1.11); }
  .bp3-dialog-container.bp3-overlay-exit > .bp3-dialog{
    opacity:1;
    -webkit-transform:scale(1);
            transform:scale(1); }
  .bp3-dialog-container.bp3-overlay-exit-active > .bp3-dialog{
    opacity:0;
    -webkit-transform:scale(0.5);
            transform:scale(0.5);
    -webkit-transition-delay:0;
            transition-delay:0;
    -webkit-transition-duration:300ms;
            transition-duration:300ms;
    -webkit-transition-property:opacity, -webkit-transform;
    transition-property:opacity, -webkit-transform;
    transition-property:opacity, transform;
    transition-property:opacity, transform, -webkit-transform;
    -webkit-transition-timing-function:cubic-bezier(0.54, 1.12, 0.38, 1.11);
            transition-timing-function:cubic-bezier(0.54, 1.12, 0.38, 1.11); }

.bp3-dialog{
  background:#ebf1f5;
  border-radius:6px;
  -webkit-box-shadow:0 0 0 1px rgba(16, 22, 26, 0.1), 0 4px 8px rgba(16, 22, 26, 0.2), 0 18px 46px 6px rgba(16, 22, 26, 0.2);
          box-shadow:0 0 0 1px rgba(16, 22, 26, 0.1), 0 4px 8px rgba(16, 22, 26, 0.2), 0 18px 46px 6px rgba(16, 22, 26, 0.2);
  display:-webkit-box;
  display:-ms-flexbox;
  display:flex;
  -webkit-box-orient:vertical;
  -webkit-box-direction:normal;
      -ms-flex-direction:column;
          flex-direction:column;
  margin:30px 0;
  padding-bottom:20px;
  pointer-events:all;
  -webkit-user-select:text;
     -moz-user-select:text;
      -ms-user-select:text;
          user-select:text;
  width:500px; }
  .bp3-dialog:focus{
    outline:0; }
  .bp3-dialog.bp3-dark,
  .bp3-dark .bp3-dialog{
    background:#293742;
    -webkit-box-shadow:0 0 0 1px rgba(16, 22, 26, 0.2), 0 4px 8px rgba(16, 22, 26, 0.4), 0 18px 46px 6px rgba(16, 22, 26, 0.4);
            box-shadow:0 0 0 1px rgba(16, 22, 26, 0.2), 0 4px 8px rgba(16, 22, 26, 0.4), 0 18px 46px 6px rgba(16, 22, 26, 0.4);
    color:#f5f8fa; }

.bp3-dialog-header{
  -webkit-box-align:center;
      -ms-flex-align:center;
          align-items:center;
  background:#ffffff;
  border-radius:6px 6px 0 0;
  -webkit-box-shadow:0 1px 0 rgba(16, 22, 26, 0.15);
          box-shadow:0 1px 0 rgba(16, 22, 26, 0.15);
  display:-webkit-box;
  display:-ms-flexbox;
  display:flex;
  -webkit-box-flex:0;
      -ms-flex:0 0 auto;
          flex:0 0 auto;
  min-height:40px;
  padding-left:20px;
  padding-right:5px;
  z-index:30; }
  .bp3-dialog-header .bp3-icon-large,
  .bp3-dialog-header .bp3-icon{
    color:#5c7080;
    -webkit-box-flex:0;
        -ms-flex:0 0 auto;
            flex:0 0 auto;
    margin-right:10px; }
  .bp3-dialog-header .bp3-heading{
    overflow:hidden;
    text-overflow:ellipsis;
    white-space:nowrap;
    word-wrap:normal;
    -webkit-box-flex:1;
        -ms-flex:1 1 auto;
            flex:1 1 auto;
    line-height:inherit;
    margin:0; }
    .bp3-dialog-header .bp3-heading:last-child{
      margin-right:20px; }
  .bp3-dark .bp3-dialog-header{
    background:#30404d;
    -webkit-box-shadow:0 1px 0 rgba(16, 22, 26, 0.4);
            box-shadow:0 1px 0 rgba(16, 22, 26, 0.4); }
    .bp3-dark .bp3-dialog-header .bp3-icon-large,
    .bp3-dark .bp3-dialog-header .bp3-icon{
      color:#a7b6c2; }

.bp3-dialog-body{
  -webkit-box-flex:1;
      -ms-flex:1 1 auto;
          flex:1 1 auto;
  line-height:18px;
  margin:20px; }

.bp3-dialog-footer{
  -webkit-box-flex:0;
      -ms-flex:0 0 auto;
          flex:0 0 auto;
  margin:0 20px; }

.bp3-dialog-footer-actions{
  display:-webkit-box;
  display:-ms-flexbox;
  display:flex;
  -webkit-box-pack:end;
      -ms-flex-pack:end;
          justify-content:flex-end; }
  .bp3-dialog-footer-actions .bp3-button{
    margin-left:10px; }
.bp3-multistep-dialog-panels{
  display:-webkit-box;
  display:-ms-flexbox;
  display:flex; }

.bp3-multistep-dialog-left-panel{
  display:-webkit-box;
  display:-ms-flexbox;
  display:flex;
  -webkit-box-flex:1;
      -ms-flex:1;
          flex:1;
  -webkit-box-orient:vertical;
  -webkit-box-direction:normal;
      -ms-flex-direction:column;
          flex-direction:column; }
  .bp3-dark .bp3-multistep-dialog-left-panel{
    background:#202b33; }

.bp3-multistep-dialog-right-panel{
  background-color:#f5f8fa;
  border-left:1px solid rgba(16, 22, 26, 0.15);
  border-radius:0 0 6px 0;
  -webkit-box-flex:3;
      -ms-flex:3;
          flex:3;
  min-width:0; }
  .bp3-dark .bp3-multistep-dialog-right-panel{
    background-color:#293742;
    border-left:1px solid rgba(16, 22, 26, 0.4); }

.bp3-multistep-dialog-footer{
  background-color:#ffffff;
  border-radius:0 0 6px 0;
  border-top:1px solid rgba(16, 22, 26, 0.15);
  padding:10px; }
  .bp3-dark .bp3-multistep-dialog-footer{
    background:#30404d;
    border-top:1px solid rgba(16, 22, 26, 0.4); }

.bp3-dialog-step-container{
  background-color:#f5f8fa;
  border-bottom:1px solid rgba(16, 22, 26, 0.15); }
  .bp3-dark .bp3-dialog-step-container{
    background:#293742;
    border-bottom:1px solid rgba(16, 22, 26, 0.4); }
  .bp3-dialog-step-container.bp3-dialog-step-viewed{
    background-color:#ffffff; }
    .bp3-dark .bp3-dialog-step-container.bp3-dialog-step-viewed{
      background:#30404d; }

.bp3-dialog-step{
  -webkit-box-align:center;
      -ms-flex-align:center;
          align-items:center;
  background-color:#f5f8fa;
  border-radius:6px;
  cursor:not-allowed;
  display:-webkit-box;
  display:-ms-flexbox;
  display:flex;
  margin:4px;
  padding:6px 14px; }
  .bp3-dark .bp3-dialog-step{
    background:#293742; }
  .bp3-dialog-step-viewed .bp3-dialog-step{
    background-color:#ffffff;
    cursor:pointer; }
    .bp3-dark .bp3-dialog-step-viewed .bp3-dialog-step{
      background:#30404d; }
  .bp3-dialog-step:hover{
    background-color:#f5f8fa; }
    .bp3-dark .bp3-dialog-step:hover{
      background:#293742; }

.bp3-dialog-step-icon{
  -webkit-box-align:center;
      -ms-flex-align:center;
          align-items:center;
  background-color:rgba(92, 112, 128, 0.6);
  border-radius:50%;
  color:#ffffff;
  display:-webkit-box;
  display:-ms-flexbox;
  display:flex;
  height:25px;
  -webkit-box-pack:center;
      -ms-flex-pack:center;
          justify-content:center;
  width:25px; }
  .bp3-dark .bp3-dialog-step-icon{
    background-color:rgba(167, 182, 194, 0.6); }
  .bp3-active.bp3-dialog-step-viewed .bp3-dialog-step-icon{
    background-color:#2b95d6; }
  .bp3-dialog-step-viewed .bp3-dialog-step-icon{
    background-color:#8a9ba8; }

.bp3-dialog-step-title{
  color:rgba(92, 112, 128, 0.6);
  -webkit-box-flex:1;
      -ms-flex:1;
          flex:1;
  padding-left:10px; }
  .bp3-dark .bp3-dialog-step-title{
    color:rgba(167, 182, 194, 0.6); }
  .bp3-active.bp3-dialog-step-viewed .bp3-dialog-step-title{
    color:#2b95d6; }
  .bp3-dialog-step-viewed:not(.bp3-active) .bp3-dialog-step-title{
    color:#182026; }
    .bp3-dark .bp3-dialog-step-viewed:not(.bp3-active) .bp3-dialog-step-title{
      color:#f5f8fa; }
.bp3-drawer{
  background:#ffffff;
  -webkit-box-shadow:0 0 0 1px rgba(16, 22, 26, 0.1), 0 4px 8px rgba(16, 22, 26, 0.2), 0 18px 46px 6px rgba(16, 22, 26, 0.2);
          box-shadow:0 0 0 1px rgba(16, 22, 26, 0.1), 0 4px 8px rgba(16, 22, 26, 0.2), 0 18px 46px 6px rgba(16, 22, 26, 0.2);
  display:-webkit-box;
  display:-ms-flexbox;
  display:flex;
  -webkit-box-orient:vertical;
  -webkit-box-direction:normal;
      -ms-flex-direction:column;
          flex-direction:column;
  margin:0;
  padding:0; }
  .bp3-drawer:focus{
    outline:0; }
  .bp3-drawer.bp3-position-top{
    height:50%;
    left:0;
    right:0;
    top:0; }
    .bp3-drawer.bp3-position-top.bp3-overlay-enter, .bp3-drawer.bp3-position-top.bp3-overlay-appear{
      -webkit-transform:translateY(-100%);
              transform:translateY(-100%); }
    .bp3-drawer.bp3-position-top.bp3-overlay-enter-active, .bp3-drawer.bp3-position-top.bp3-overlay-appear-active{
      -webkit-transform:translateY(0);
              transform:translateY(0);
      -webkit-transition-delay:0;
              transition-delay:0;
      -webkit-transition-duration:200ms;
              transition-duration:200ms;
      -webkit-transition-property:-webkit-transform;
      transition-property:-webkit-transform;
      transition-property:transform;
      transition-property:transform, -webkit-transform;
      -webkit-transition-timing-function:cubic-bezier(0.4, 1, 0.75, 0.9);
              transition-timing-function:cubic-bezier(0.4, 1, 0.75, 0.9); }
    .bp3-drawer.bp3-position-top.bp3-overlay-exit{
      -webkit-transform:translateY(0);
              transform:translateY(0); }
    .bp3-drawer.bp3-position-top.bp3-overlay-exit-active{
      -webkit-transform:translateY(-100%);
              transform:translateY(-100%);
      -webkit-transition-delay:0;
              transition-delay:0;
      -webkit-transition-duration:100ms;
              transition-duration:100ms;
      -webkit-transition-property:-webkit-transform;
      transition-property:-webkit-transform;
      transition-property:transform;
      transition-property:transform, -webkit-transform;
      -webkit-transition-timing-function:cubic-bezier(0.4, 1, 0.75, 0.9);
              transition-timing-function:cubic-bezier(0.4, 1, 0.75, 0.9); }
  .bp3-drawer.bp3-position-bottom{
    bottom:0;
    height:50%;
    left:0;
    right:0; }
    .bp3-drawer.bp3-position-bottom.bp3-overlay-enter, .bp3-drawer.bp3-position-bottom.bp3-overlay-appear{
      -webkit-transform:translateY(100%);
              transform:translateY(100%); }
    .bp3-drawer.bp3-position-bottom.bp3-overlay-enter-active, .bp3-drawer.bp3-position-bottom.bp3-overlay-appear-active{
      -webkit-transform:translateY(0);
              transform:translateY(0);
      -webkit-transition-delay:0;
              transition-delay:0;
      -webkit-transition-duration:200ms;
              transition-duration:200ms;
      -webkit-transition-property:-webkit-transform;
      transition-property:-webkit-transform;
      transition-property:transform;
      transition-property:transform, -webkit-transform;
      -webkit-transition-timing-function:cubic-bezier(0.4, 1, 0.75, 0.9);
              transition-timing-function:cubic-bezier(0.4, 1, 0.75, 0.9); }
    .bp3-drawer.bp3-position-bottom.bp3-overlay-exit{
      -webkit-transform:translateY(0);
              transform:translateY(0); }
    .bp3-drawer.bp3-position-bottom.bp3-overlay-exit-active{
      -webkit-transform:translateY(100%);
              transform:translateY(100%);
      -webkit-transition-delay:0;
              transition-delay:0;
      -webkit-transition-duration:100ms;
              transition-duration:100ms;
      -webkit-transition-property:-webkit-transform;
      transition-property:-webkit-transform;
      transition-property:transform;
      transition-property:transform, -webkit-transform;
      -webkit-transition-timing-function:cubic-bezier(0.4, 1, 0.75, 0.9);
              transition-timing-function:cubic-bezier(0.4, 1, 0.75, 0.9); }
  .bp3-drawer.bp3-position-left{
    bottom:0;
    left:0;
    top:0;
    width:50%; }
    .bp3-drawer.bp3-position-left.bp3-overlay-enter, .bp3-drawer.bp3-position-left.bp3-overlay-appear{
      -webkit-transform:translateX(-100%);
              transform:translateX(-100%); }
    .bp3-drawer.bp3-position-left.bp3-overlay-enter-active, .bp3-drawer.bp3-position-left.bp3-overlay-appear-active{
      -webkit-transform:translateX(0);
              transform:translateX(0);
      -webkit-transition-delay:0;
              transition-delay:0;
      -webkit-transition-duration:200ms;
              transition-duration:200ms;
      -webkit-transition-property:-webkit-transform;
      transition-property:-webkit-transform;
      transition-property:transform;
      transition-property:transform, -webkit-transform;
      -webkit-transition-timing-function:cubic-bezier(0.4, 1, 0.75, 0.9);
              transition-timing-function:cubic-bezier(0.4, 1, 0.75, 0.9); }
    .bp3-drawer.bp3-position-left.bp3-overlay-exit{
      -webkit-transform:translateX(0);
              transform:translateX(0); }
    .bp3-drawer.bp3-position-left.bp3-overlay-exit-active{
      -webkit-transform:translateX(-100%);
              transform:translateX(-100%);
      -webkit-transition-delay:0;
              transition-delay:0;
      -webkit-transition-duration:100ms;
              transition-duration:100ms;
      -webkit-transition-property:-webkit-transform;
      transition-property:-webkit-transform;
      transition-property:transform;
      transition-property:transform, -webkit-transform;
      -webkit-transition-timing-function:cubic-bezier(0.4, 1, 0.75, 0.9);
              transition-timing-function:cubic-bezier(0.4, 1, 0.75, 0.9); }
  .bp3-drawer.bp3-position-right{
    bottom:0;
    right:0;
    top:0;
    width:50%; }
    .bp3-drawer.bp3-position-right.bp3-overlay-enter, .bp3-drawer.bp3-position-right.bp3-overlay-appear{
      -webkit-transform:translateX(100%);
              transform:translateX(100%); }
    .bp3-drawer.bp3-position-right.bp3-overlay-enter-active, .bp3-drawer.bp3-position-right.bp3-overlay-appear-active{
      -webkit-transform:translateX(0);
              transform:translateX(0);
      -webkit-transition-delay:0;
              transition-delay:0;
      -webkit-transition-duration:200ms;
              transition-duration:200ms;
      -webkit-transition-property:-webkit-transform;
      transition-property:-webkit-transform;
      transition-property:transform;
      transition-property:transform, -webkit-transform;
      -webkit-transition-timing-function:cubic-bezier(0.4, 1, 0.75, 0.9);
              transition-timing-function:cubic-bezier(0.4, 1, 0.75, 0.9); }
    .bp3-drawer.bp3-position-right.bp3-overlay-exit{
      -webkit-transform:translateX(0);
              transform:translateX(0); }
    .bp3-drawer.bp3-position-right.bp3-overlay-exit-active{
      -webkit-transform:translateX(100%);
              transform:translateX(100%);
      -webkit-transition-delay:0;
              transition-delay:0;
      -webkit-transition-duration:100ms;
              transition-duration:100ms;
      -webkit-transition-property:-webkit-transform;
      transition-property:-webkit-transform;
      transition-property:transform;
      transition-property:transform, -webkit-transform;
      -webkit-transition-timing-function:cubic-bezier(0.4, 1, 0.75, 0.9);
              transition-timing-function:cubic-bezier(0.4, 1, 0.75, 0.9); }
  .bp3-drawer:not(.bp3-position-top):not(.bp3-position-bottom):not(.bp3-position-left):not(
  .bp3-position-right):not(.bp3-vertical){
    bottom:0;
    right:0;
    top:0;
    width:50%; }
    .bp3-drawer:not(.bp3-position-top):not(.bp3-position-bottom):not(.bp3-position-left):not(
    .bp3-position-right):not(.bp3-vertical).bp3-overlay-enter, .bp3-drawer:not(.bp3-position-top):not(.bp3-position-bottom):not(.bp3-position-left):not(
    .bp3-position-right):not(.bp3-vertical).bp3-overlay-appear{
      -webkit-transform:translateX(100%);
              transform:translateX(100%); }
    .bp3-drawer:not(.bp3-position-top):not(.bp3-position-bottom):not(.bp3-position-left):not(
    .bp3-position-right):not(.bp3-vertical).bp3-overlay-enter-active, .bp3-drawer:not(.bp3-position-top):not(.bp3-position-bottom):not(.bp3-position-left):not(
    .bp3-position-right):not(.bp3-vertical).bp3-overlay-appear-active{
      -webkit-transform:translateX(0);
              transform:translateX(0);
      -webkit-transition-delay:0;
              transition-delay:0;
      -webkit-transition-duration:200ms;
              transition-duration:200ms;
      -webkit-transition-property:-webkit-transform;
      transition-property:-webkit-transform;
      transition-property:transform;
      transition-property:transform, -webkit-transform;
      -webkit-transition-timing-function:cubic-bezier(0.4, 1, 0.75, 0.9);
              transition-timing-function:cubic-bezier(0.4, 1, 0.75, 0.9); }
    .bp3-drawer:not(.bp3-position-top):not(.bp3-position-bottom):not(.bp3-position-left):not(
    .bp3-position-right):not(.bp3-vertical).bp3-overlay-exit{
      -webkit-transform:translateX(0);
              transform:translateX(0); }
    .bp3-drawer:not(.bp3-position-top):not(.bp3-position-bottom):not(.bp3-position-left):not(
    .bp3-position-right):not(.bp3-vertical).bp3-overlay-exit-active{
      -webkit-transform:translateX(100%);
              transform:translateX(100%);
      -webkit-transition-delay:0;
              transition-delay:0;
      -webkit-transition-duration:100ms;
              transition-duration:100ms;
      -webkit-transition-property:-webkit-transform;
      transition-property:-webkit-transform;
      transition-property:transform;
      transition-property:transform, -webkit-transform;
      -webkit-transition-timing-function:cubic-bezier(0.4, 1, 0.75, 0.9);
              transition-timing-function:cubic-bezier(0.4, 1, 0.75, 0.9); }
  .bp3-drawer:not(.bp3-position-top):not(.bp3-position-bottom):not(.bp3-position-left):not(
  .bp3-position-right).bp3-vertical{
    bottom:0;
    height:50%;
    left:0;
    right:0; }
    .bp3-drawer:not(.bp3-position-top):not(.bp3-position-bottom):not(.bp3-position-left):not(
    .bp3-position-right).bp3-vertical.bp3-overlay-enter, .bp3-drawer:not(.bp3-position-top):not(.bp3-position-bottom):not(.bp3-position-left):not(
    .bp3-position-right).bp3-vertical.bp3-overlay-appear{
      -webkit-transform:translateY(100%);
              transform:translateY(100%); }
    .bp3-drawer:not(.bp3-position-top):not(.bp3-position-bottom):not(.bp3-position-left):not(
    .bp3-position-right).bp3-vertical.bp3-overlay-enter-active, .bp3-drawer:not(.bp3-position-top):not(.bp3-position-bottom):not(.bp3-position-left):not(
    .bp3-position-right).bp3-vertical.bp3-overlay-appear-active{
      -webkit-transform:translateY(0);
              transform:translateY(0);
      -webkit-transition-delay:0;
              transition-delay:0;
      -webkit-transition-duration:200ms;
              transition-duration:200ms;
      -webkit-transition-property:-webkit-transform;
      transition-property:-webkit-transform;
      transition-property:transform;
      transition-property:transform, -webkit-transform;
      -webkit-transition-timing-function:cubic-bezier(0.4, 1, 0.75, 0.9);
              transition-timing-function:cubic-bezier(0.4, 1, 0.75, 0.9); }
    .bp3-drawer:not(.bp3-position-top):not(.bp3-position-bottom):not(.bp3-position-left):not(
    .bp3-position-right).bp3-vertical.bp3-overlay-exit{
      -webkit-transform:translateY(0);
              transform:translateY(0); }
    .bp3-drawer:not(.bp3-position-top):not(.bp3-position-bottom):not(.bp3-position-left):not(
    .bp3-position-right).bp3-vertical.bp3-overlay-exit-active{
      -webkit-transform:translateY(100%);
              transform:translateY(100%);
      -webkit-transition-delay:0;
              transition-delay:0;
      -webkit-transition-duration:100ms;
              transition-duration:100ms;
      -webkit-transition-property:-webkit-transform;
      transition-property:-webkit-transform;
      transition-property:transform;
      transition-property:transform, -webkit-transform;
      -webkit-transition-timing-function:cubic-bezier(0.4, 1, 0.75, 0.9);
              transition-timing-function:cubic-bezier(0.4, 1, 0.75, 0.9); }
  .bp3-drawer.bp3-dark,
  .bp3-dark .bp3-drawer{
    background:#30404d;
    -webkit-box-shadow:0 0 0 1px rgba(16, 22, 26, 0.2), 0 4px 8px rgba(16, 22, 26, 0.4), 0 18px 46px 6px rgba(16, 22, 26, 0.4);
            box-shadow:0 0 0 1px rgba(16, 22, 26, 0.2), 0 4px 8px rgba(16, 22, 26, 0.4), 0 18px 46px 6px rgba(16, 22, 26, 0.4);
    color:#f5f8fa; }

.bp3-drawer-header{
  -webkit-box-align:center;
      -ms-flex-align:center;
          align-items:center;
  border-radius:0;
  -webkit-box-shadow:0 1px 0 rgba(16, 22, 26, 0.15);
          box-shadow:0 1px 0 rgba(16, 22, 26, 0.15);
  display:-webkit-box;
  display:-ms-flexbox;
  display:flex;
  -webkit-box-flex:0;
      -ms-flex:0 0 auto;
          flex:0 0 auto;
  min-height:40px;
  padding:5px;
  padding-left:20px;
  position:relative; }
  .bp3-drawer-header .bp3-icon-large,
  .bp3-drawer-header .bp3-icon{
    color:#5c7080;
    -webkit-box-flex:0;
        -ms-flex:0 0 auto;
            flex:0 0 auto;
    margin-right:10px; }
  .bp3-drawer-header .bp3-heading{
    overflow:hidden;
    text-overflow:ellipsis;
    white-space:nowrap;
    word-wrap:normal;
    -webkit-box-flex:1;
        -ms-flex:1 1 auto;
            flex:1 1 auto;
    line-height:inherit;
    margin:0; }
    .bp3-drawer-header .bp3-heading:last-child{
      margin-right:20px; }
  .bp3-dark .bp3-drawer-header{
    -webkit-box-shadow:0 1px 0 rgba(16, 22, 26, 0.4);
            box-shadow:0 1px 0 rgba(16, 22, 26, 0.4); }
    .bp3-dark .bp3-drawer-header .bp3-icon-large,
    .bp3-dark .bp3-drawer-header .bp3-icon{
      color:#a7b6c2; }

.bp3-drawer-body{
  -webkit-box-flex:1;
      -ms-flex:1 1 auto;
          flex:1 1 auto;
  line-height:18px;
  overflow:auto; }

.bp3-drawer-footer{
  -webkit-box-shadow:inset 0 1px 0 rgba(16, 22, 26, 0.15);
          box-shadow:inset 0 1px 0 rgba(16, 22, 26, 0.15);
  -webkit-box-flex:0;
      -ms-flex:0 0 auto;
          flex:0 0 auto;
  padding:10px 20px;
  position:relative; }
  .bp3-dark .bp3-drawer-footer{
    -webkit-box-shadow:inset 0 1px 0 rgba(16, 22, 26, 0.4);
            box-shadow:inset 0 1px 0 rgba(16, 22, 26, 0.4); }
.bp3-editable-text{
  cursor:text;
  display:inline-block;
  max-width:100%;
  position:relative;
  vertical-align:top;
  white-space:nowrap; }
  .bp3-editable-text::before{
    bottom:-3px;
    left:-3px;
    position:absolute;
    right:-3px;
    top:-3px;
    border-radius:3px;
    content:"";
    -webkit-transition:background-color 100ms cubic-bezier(0.4, 1, 0.75, 0.9), -webkit-box-shadow 100ms cubic-bezier(0.4, 1, 0.75, 0.9);
    transition:background-color 100ms cubic-bezier(0.4, 1, 0.75, 0.9), -webkit-box-shadow 100ms cubic-bezier(0.4, 1, 0.75, 0.9);
    transition:background-color 100ms cubic-bezier(0.4, 1, 0.75, 0.9), box-shadow 100ms cubic-bezier(0.4, 1, 0.75, 0.9);
    transition:background-color 100ms cubic-bezier(0.4, 1, 0.75, 0.9), box-shadow 100ms cubic-bezier(0.4, 1, 0.75, 0.9), -webkit-box-shadow 100ms cubic-bezier(0.4, 1, 0.75, 0.9); }
  .bp3-editable-text:hover::before{
    -webkit-box-shadow:0 0 0 0 rgba(19, 124, 189, 0), 0 0 0 0 rgba(19, 124, 189, 0), inset 0 0 0 1px rgba(16, 22, 26, 0.15);
            box-shadow:0 0 0 0 rgba(19, 124, 189, 0), 0 0 0 0 rgba(19, 124, 189, 0), inset 0 0 0 1px rgba(16, 22, 26, 0.15); }
  .bp3-editable-text.bp3-editable-text-editing::before{
    background-color:#ffffff;
    -webkit-box-shadow:0 0 0 1px #137cbd, 0 0 0 3px rgba(19, 124, 189, 0.3), inset 0 1px 1px rgba(16, 22, 26, 0.2);
            box-shadow:0 0 0 1px #137cbd, 0 0 0 3px rgba(19, 124, 189, 0.3), inset 0 1px 1px rgba(16, 22, 26, 0.2); }
  .bp3-editable-text.bp3-disabled::before{
    -webkit-box-shadow:none;
            box-shadow:none; }
  .bp3-editable-text.bp3-intent-primary .bp3-editable-text-input,
  .bp3-editable-text.bp3-intent-primary .bp3-editable-text-content{
    color:#137cbd; }
  .bp3-editable-text.bp3-intent-primary:hover::before{
    -webkit-box-shadow:0 0 0 0 rgba(19, 124, 189, 0), 0 0 0 0 rgba(19, 124, 189, 0), inset 0 0 0 1px rgba(19, 124, 189, 0.4);
            box-shadow:0 0 0 0 rgba(19, 124, 189, 0), 0 0 0 0 rgba(19, 124, 189, 0), inset 0 0 0 1px rgba(19, 124, 189, 0.4); }
  .bp3-editable-text.bp3-intent-primary.bp3-editable-text-editing::before{
    -webkit-box-shadow:0 0 0 1px #137cbd, 0 0 0 3px rgba(19, 124, 189, 0.3), inset 0 1px 1px rgba(16, 22, 26, 0.2);
            box-shadow:0 0 0 1px #137cbd, 0 0 0 3px rgba(19, 124, 189, 0.3), inset 0 1px 1px rgba(16, 22, 26, 0.2); }
  .bp3-editable-text.bp3-intent-success .bp3-editable-text-input,
  .bp3-editable-text.bp3-intent-success .bp3-editable-text-content{
    color:#0f9960; }
  .bp3-editable-text.bp3-intent-success:hover::before{
    -webkit-box-shadow:0 0 0 0 rgba(15, 153, 96, 0), 0 0 0 0 rgba(15, 153, 96, 0), inset 0 0 0 1px rgba(15, 153, 96, 0.4);
            box-shadow:0 0 0 0 rgba(15, 153, 96, 0), 0 0 0 0 rgba(15, 153, 96, 0), inset 0 0 0 1px rgba(15, 153, 96, 0.4); }
  .bp3-editable-text.bp3-intent-success.bp3-editable-text-editing::before{
    -webkit-box-shadow:0 0 0 1px #0f9960, 0 0 0 3px rgba(15, 153, 96, 0.3), inset 0 1px 1px rgba(16, 22, 26, 0.2);
            box-shadow:0 0 0 1px #0f9960, 0 0 0 3px rgba(15, 153, 96, 0.3), inset 0 1px 1px rgba(16, 22, 26, 0.2); }
  .bp3-editable-text.bp3-intent-warning .bp3-editable-text-input,
  .bp3-editable-text.bp3-intent-warning .bp3-editable-text-content{
    color:#d9822b; }
  .bp3-editable-text.bp3-intent-warning:hover::before{
    -webkit-box-shadow:0 0 0 0 rgba(217, 130, 43, 0), 0 0 0 0 rgba(217, 130, 43, 0), inset 0 0 0 1px rgba(217, 130, 43, 0.4);
            box-shadow:0 0 0 0 rgba(217, 130, 43, 0), 0 0 0 0 rgba(217, 130, 43, 0), inset 0 0 0 1px rgba(217, 130, 43, 0.4); }
  .bp3-editable-text.bp3-intent-warning.bp3-editable-text-editing::before{
    -webkit-box-shadow:0 0 0 1px #d9822b, 0 0 0 3px rgba(217, 130, 43, 0.3), inset 0 1px 1px rgba(16, 22, 26, 0.2);
            box-shadow:0 0 0 1px #d9822b, 0 0 0 3px rgba(217, 130, 43, 0.3), inset 0 1px 1px rgba(16, 22, 26, 0.2); }
  .bp3-editable-text.bp3-intent-danger .bp3-editable-text-input,
  .bp3-editable-text.bp3-intent-danger .bp3-editable-text-content{
    color:#db3737; }
  .bp3-editable-text.bp3-intent-danger:hover::before{
    -webkit-box-shadow:0 0 0 0 rgba(219, 55, 55, 0), 0 0 0 0 rgba(219, 55, 55, 0), inset 0 0 0 1px rgba(219, 55, 55, 0.4);
            box-shadow:0 0 0 0 rgba(219, 55, 55, 0), 0 0 0 0 rgba(219, 55, 55, 0), inset 0 0 0 1px rgba(219, 55, 55, 0.4); }
  .bp3-editable-text.bp3-intent-danger.bp3-editable-text-editing::before{
    -webkit-box-shadow:0 0 0 1px #db3737, 0 0 0 3px rgba(219, 55, 55, 0.3), inset 0 1px 1px rgba(16, 22, 26, 0.2);
            box-shadow:0 0 0 1px #db3737, 0 0 0 3px rgba(219, 55, 55, 0.3), inset 0 1px 1px rgba(16, 22, 26, 0.2); }
  .bp3-dark .bp3-editable-text:hover::before{
    -webkit-box-shadow:0 0 0 0 rgba(19, 124, 189, 0), 0 0 0 0 rgba(19, 124, 189, 0), inset 0 0 0 1px rgba(255, 255, 255, 0.15);
            box-shadow:0 0 0 0 rgba(19, 124, 189, 0), 0 0 0 0 rgba(19, 124, 189, 0), inset 0 0 0 1px rgba(255, 255, 255, 0.15); }
  .bp3-dark .bp3-editable-text.bp3-editable-text-editing::before{
    background-color:rgba(16, 22, 26, 0.3);
    -webkit-box-shadow:0 0 0 1px #137cbd, 0 0 0 3px rgba(19, 124, 189, 0.3), inset 0 0 0 1px rgba(16, 22, 26, 0.3), inset 0 1px 1px rgba(16, 22, 26, 0.4);
            box-shadow:0 0 0 1px #137cbd, 0 0 0 3px rgba(19, 124, 189, 0.3), inset 0 0 0 1px rgba(16, 22, 26, 0.3), inset 0 1px 1px rgba(16, 22, 26, 0.4); }
  .bp3-dark .bp3-editable-text.bp3-disabled::before{
    -webkit-box-shadow:none;
            box-shadow:none; }
  .bp3-dark .bp3-editable-text.bp3-intent-primary .bp3-editable-text-content{
    color:#48aff0; }
  .bp3-dark .bp3-editable-text.bp3-intent-primary:hover::before{
    -webkit-box-shadow:0 0 0 0 rgba(72, 175, 240, 0), 0 0 0 0 rgba(72, 175, 240, 0), inset 0 0 0 1px rgba(72, 175, 240, 0.4);
            box-shadow:0 0 0 0 rgba(72, 175, 240, 0), 0 0 0 0 rgba(72, 175, 240, 0), inset 0 0 0 1px rgba(72, 175, 240, 0.4); }
  .bp3-dark .bp3-editable-text.bp3-intent-primary.bp3-editable-text-editing::before{
    -webkit-box-shadow:0 0 0 1px #48aff0, 0 0 0 3px rgba(72, 175, 240, 0.3), inset 0 0 0 1px rgba(16, 22, 26, 0.3), inset 0 1px 1px rgba(16, 22, 26, 0.4);
            box-shadow:0 0 0 1px #48aff0, 0 0 0 3px rgba(72, 175, 240, 0.3), inset 0 0 0 1px rgba(16, 22, 26, 0.3), inset 0 1px 1px rgba(16, 22, 26, 0.4); }
  .bp3-dark .bp3-editable-text.bp3-intent-success .bp3-editable-text-content{
    color:#3dcc91; }
  .bp3-dark .bp3-editable-text.bp3-intent-success:hover::before{
    -webkit-box-shadow:0 0 0 0 rgba(61, 204, 145, 0), 0 0 0 0 rgba(61, 204, 145, 0), inset 0 0 0 1px rgba(61, 204, 145, 0.4);
            box-shadow:0 0 0 0 rgba(61, 204, 145, 0), 0 0 0 0 rgba(61, 204, 145, 0), inset 0 0 0 1px rgba(61, 204, 145, 0.4); }
  .bp3-dark .bp3-editable-text.bp3-intent-success.bp3-editable-text-editing::before{
    -webkit-box-shadow:0 0 0 1px #3dcc91, 0 0 0 3px rgba(61, 204, 145, 0.3), inset 0 0 0 1px rgba(16, 22, 26, 0.3), inset 0 1px 1px rgba(16, 22, 26, 0.4);
            box-shadow:0 0 0 1px #3dcc91, 0 0 0 3px rgba(61, 204, 145, 0.3), inset 0 0 0 1px rgba(16, 22, 26, 0.3), inset 0 1px 1px rgba(16, 22, 26, 0.4); }
  .bp3-dark .bp3-editable-text.bp3-intent-warning .bp3-editable-text-content{
    color:#ffb366; }
  .bp3-dark .bp3-editable-text.bp3-intent-warning:hover::before{
    -webkit-box-shadow:0 0 0 0 rgba(255, 179, 102, 0), 0 0 0 0 rgba(255, 179, 102, 0), inset 0 0 0 1px rgba(255, 179, 102, 0.4);
            box-shadow:0 0 0 0 rgba(255, 179, 102, 0), 0 0 0 0 rgba(255, 179, 102, 0), inset 0 0 0 1px rgba(255, 179, 102, 0.4); }
  .bp3-dark .bp3-editable-text.bp3-intent-warning.bp3-editable-text-editing::before{
    -webkit-box-shadow:0 0 0 1px #ffb366, 0 0 0 3px rgba(255, 179, 102, 0.3), inset 0 0 0 1px rgba(16, 22, 26, 0.3), inset 0 1px 1px rgba(16, 22, 26, 0.4);
            box-shadow:0 0 0 1px #ffb366, 0 0 0 3px rgba(255, 179, 102, 0.3), inset 0 0 0 1px rgba(16, 22, 26, 0.3), inset 0 1px 1px rgba(16, 22, 26, 0.4); }
  .bp3-dark .bp3-editable-text.bp3-intent-danger .bp3-editable-text-content{
    color:#ff7373; }
  .bp3-dark .bp3-editable-text.bp3-intent-danger:hover::before{
    -webkit-box-shadow:0 0 0 0 rgba(255, 115, 115, 0), 0 0 0 0 rgba(255, 115, 115, 0), inset 0 0 0 1px rgba(255, 115, 115, 0.4);
            box-shadow:0 0 0 0 rgba(255, 115, 115, 0), 0 0 0 0 rgba(255, 115, 115, 0), inset 0 0 0 1px rgba(255, 115, 115, 0.4); }
  .bp3-dark .bp3-editable-text.bp3-intent-danger.bp3-editable-text-editing::before{
    -webkit-box-shadow:0 0 0 1px #ff7373, 0 0 0 3px rgba(255, 115, 115, 0.3), inset 0 0 0 1px rgba(16, 22, 26, 0.3), inset 0 1px 1px rgba(16, 22, 26, 0.4);
            box-shadow:0 0 0 1px #ff7373, 0 0 0 3px rgba(255, 115, 115, 0.3), inset 0 0 0 1px rgba(16, 22, 26, 0.3), inset 0 1px 1px rgba(16, 22, 26, 0.4); }

.bp3-editable-text-input,
.bp3-editable-text-content{
  color:inherit;
  display:inherit;
  font:inherit;
  letter-spacing:inherit;
  max-width:inherit;
  min-width:inherit;
  position:relative;
  resize:none;
  text-transform:inherit;
  vertical-align:top; }

.bp3-editable-text-input{
  background:none;
  border:none;
  -webkit-box-shadow:none;
          box-shadow:none;
  padding:0;
  white-space:pre-wrap;
  width:100%; }
  .bp3-editable-text-input::-webkit-input-placeholder{
    color:rgba(92, 112, 128, 0.6);
    opacity:1; }
  .bp3-editable-text-input::-moz-placeholder{
    color:rgba(92, 112, 128, 0.6);
    opacity:1; }
  .bp3-editable-text-input:-ms-input-placeholder{
    color:rgba(92, 112, 128, 0.6);
    opacity:1; }
  .bp3-editable-text-input::-ms-input-placeholder{
    color:rgba(92, 112, 128, 0.6);
    opacity:1; }
  .bp3-editable-text-input::placeholder{
    color:rgba(92, 112, 128, 0.6);
    opacity:1; }
  .bp3-editable-text-input:focus{
    outline:none; }
  .bp3-editable-text-input::-ms-clear{
    display:none; }

.bp3-editable-text-content{
  overflow:hidden;
  padding-right:2px;
  text-overflow:ellipsis;
  white-space:pre; }
  .bp3-editable-text-editing > .bp3-editable-text-content{
    left:0;
    position:absolute;
    visibility:hidden; }
  .bp3-editable-text-placeholder > .bp3-editable-text-content{
    color:rgba(92, 112, 128, 0.6); }
    .bp3-dark .bp3-editable-text-placeholder > .bp3-editable-text-content{
      color:rgba(167, 182, 194, 0.6); }

.bp3-editable-text.bp3-multiline{
  display:block; }
  .bp3-editable-text.bp3-multiline .bp3-editable-text-content{
    overflow:auto;
    white-space:pre-wrap;
    word-wrap:break-word; }
.bp3-divider{
  border-bottom:1px solid rgba(16, 22, 26, 0.15);
  border-right:1px solid rgba(16, 22, 26, 0.15);
  margin:5px; }
  .bp3-dark .bp3-divider{
    border-color:rgba(16, 22, 26, 0.4); }
.bp3-control-group{
  -webkit-transform:translateZ(0);
          transform:translateZ(0);
  display:-webkit-box;
  display:-ms-flexbox;
  display:flex;
  -webkit-box-orient:horizontal;
  -webkit-box-direction:normal;
      -ms-flex-direction:row;
          flex-direction:row;
  -webkit-box-align:stretch;
      -ms-flex-align:stretch;
          align-items:stretch; }
  .bp3-control-group > *{
    -webkit-box-flex:0;
        -ms-flex-positive:0;
            flex-grow:0;
    -ms-flex-negative:0;
        flex-shrink:0; }
  .bp3-control-group > .bp3-fill{
    -webkit-box-flex:1;
        -ms-flex-positive:1;
            flex-grow:1;
    -ms-flex-negative:1;
        flex-shrink:1; }
  .bp3-control-group .bp3-button,
  .bp3-control-group .bp3-html-select,
  .bp3-control-group .bp3-input,
  .bp3-control-group .bp3-select{
    position:relative; }
  .bp3-control-group .bp3-input{
    border-radius:inherit;
    z-index:2; }
    .bp3-control-group .bp3-input:focus{
      border-radius:3px;
      z-index:14; }
    .bp3-control-group .bp3-input[class*="bp3-intent"]{
      z-index:13; }
      .bp3-control-group .bp3-input[class*="bp3-intent"]:focus{
        z-index:15; }
    .bp3-control-group .bp3-input[readonly], .bp3-control-group .bp3-input:disabled, .bp3-control-group .bp3-input.bp3-disabled{
      z-index:1; }
  .bp3-control-group .bp3-input-group[class*="bp3-intent"] .bp3-input{
    z-index:13; }
    .bp3-control-group .bp3-input-group[class*="bp3-intent"] .bp3-input:focus{
      z-index:15; }
  .bp3-control-group .bp3-button,
  .bp3-control-group .bp3-html-select select,
  .bp3-control-group .bp3-select select{
    -webkit-transform:translateZ(0);
            transform:translateZ(0);
    border-radius:inherit;
    z-index:4; }
    .bp3-control-group .bp3-button:focus,
    .bp3-control-group .bp3-html-select select:focus,
    .bp3-control-group .bp3-select select:focus{
      z-index:5; }
    .bp3-control-group .bp3-button:hover,
    .bp3-control-group .bp3-html-select select:hover,
    .bp3-control-group .bp3-select select:hover{
      z-index:6; }
    .bp3-control-group .bp3-button:active,
    .bp3-control-group .bp3-html-select select:active,
    .bp3-control-group .bp3-select select:active{
      z-index:7; }
    .bp3-control-group .bp3-button[readonly], .bp3-control-group .bp3-button:disabled, .bp3-control-group .bp3-button.bp3-disabled,
    .bp3-control-group .bp3-html-select select[readonly],
    .bp3-control-group .bp3-html-select select:disabled,
    .bp3-control-group .bp3-html-select select.bp3-disabled,
    .bp3-control-group .bp3-select select[readonly],
    .bp3-control-group .bp3-select select:disabled,
    .bp3-control-group .bp3-select select.bp3-disabled{
      z-index:3; }
    .bp3-control-group .bp3-button[class*="bp3-intent"],
    .bp3-control-group .bp3-html-select select[class*="bp3-intent"],
    .bp3-control-group .bp3-select select[class*="bp3-intent"]{
      z-index:9; }
      .bp3-control-group .bp3-button[class*="bp3-intent"]:focus,
      .bp3-control-group .bp3-html-select select[class*="bp3-intent"]:focus,
      .bp3-control-group .bp3-select select[class*="bp3-intent"]:focus{
        z-index:10; }
      .bp3-control-group .bp3-button[class*="bp3-intent"]:hover,
      .bp3-control-group .bp3-html-select select[class*="bp3-intent"]:hover,
      .bp3-control-group .bp3-select select[class*="bp3-intent"]:hover{
        z-index:11; }
      .bp3-control-group .bp3-button[class*="bp3-intent"]:active,
      .bp3-control-group .bp3-html-select select[class*="bp3-intent"]:active,
      .bp3-control-group .bp3-select select[class*="bp3-intent"]:active{
        z-index:12; }
      .bp3-control-group .bp3-button[class*="bp3-intent"][readonly], .bp3-control-group .bp3-button[class*="bp3-intent"]:disabled, .bp3-control-group .bp3-button[class*="bp3-intent"].bp3-disabled,
      .bp3-control-group .bp3-html-select select[class*="bp3-intent"][readonly],
      .bp3-control-group .bp3-html-select select[class*="bp3-intent"]:disabled,
      .bp3-control-group .bp3-html-select select[class*="bp3-intent"].bp3-disabled,
      .bp3-control-group .bp3-select select[class*="bp3-intent"][readonly],
      .bp3-control-group .bp3-select select[class*="bp3-intent"]:disabled,
      .bp3-control-group .bp3-select select[class*="bp3-intent"].bp3-disabled{
        z-index:8; }
  .bp3-control-group .bp3-input-group > .bp3-icon,
  .bp3-control-group .bp3-input-group > .bp3-button,
  .bp3-control-group .bp3-input-group > .bp3-input-left-container,
  .bp3-control-group .bp3-input-group > .bp3-input-action{
    z-index:16; }
  .bp3-control-group .bp3-select::after,
  .bp3-control-group .bp3-html-select::after,
  .bp3-control-group .bp3-select > .bp3-icon,
  .bp3-control-group .bp3-html-select > .bp3-icon{
    z-index:17; }
  .bp3-control-group .bp3-select:focus-within{
    z-index:5; }
  .bp3-control-group:not(.bp3-vertical) > *:not(.bp3-divider){
    margin-right:-1px; }
  .bp3-control-group:not(.bp3-vertical) > .bp3-divider:not(:first-child){
    margin-left:6px; }
  .bp3-dark .bp3-control-group:not(.bp3-vertical) > *:not(.bp3-divider){
    margin-right:0; }
  .bp3-dark .bp3-control-group:not(.bp3-vertical) > .bp3-button + .bp3-button{
    margin-left:1px; }
  .bp3-control-group .bp3-popover-wrapper,
  .bp3-control-group .bp3-popover-target{
    border-radius:inherit; }
  .bp3-control-group > :first-child{
    border-radius:3px 0 0 3px; }
  .bp3-control-group > :last-child{
    border-radius:0 3px 3px 0;
    margin-right:0; }
  .bp3-control-group > :only-child{
    border-radius:3px;
    margin-right:0; }
  .bp3-control-group .bp3-input-group .bp3-button{
    border-radius:3px; }
  .bp3-control-group .bp3-numeric-input:not(:first-child) .bp3-input-group{
    border-bottom-left-radius:0;
    border-top-left-radius:0; }
  .bp3-control-group.bp3-fill{
    width:100%; }
  .bp3-control-group > .bp3-fill{
    -webkit-box-flex:1;
        -ms-flex:1 1 auto;
            flex:1 1 auto; }
  .bp3-control-group.bp3-fill > *:not(.bp3-fixed){
    -webkit-box-flex:1;
        -ms-flex:1 1 auto;
            flex:1 1 auto; }
  .bp3-control-group.bp3-vertical{
    -webkit-box-orient:vertical;
    -webkit-box-direction:normal;
        -ms-flex-direction:column;
            flex-direction:column; }
    .bp3-control-group.bp3-vertical > *{
      margin-top:-1px; }
    .bp3-control-group.bp3-vertical > :first-child{
      border-radius:3px 3px 0 0;
      margin-top:0; }
    .bp3-control-group.bp3-vertical > :last-child{
      border-radius:0 0 3px 3px; }
.bp3-control{
  cursor:pointer;
  display:block;
  margin-bottom:10px;
  position:relative;
  text-transform:none; }
  .bp3-control input:checked ~ .bp3-control-indicator{
    background-color:#137cbd;
    background-image:-webkit-gradient(linear, left top, left bottom, from(rgba(255, 255, 255, 0.1)), to(rgba(255, 255, 255, 0)));
    background-image:linear-gradient(to bottom, rgba(255, 255, 255, 0.1), rgba(255, 255, 255, 0));
    -webkit-box-shadow:inset 0 0 0 1px rgba(16, 22, 26, 0.4), inset 0 -1px 0 rgba(16, 22, 26, 0.2);
            box-shadow:inset 0 0 0 1px rgba(16, 22, 26, 0.4), inset 0 -1px 0 rgba(16, 22, 26, 0.2);
    color:#ffffff; }
  .bp3-control:hover input:checked ~ .bp3-control-indicator{
    background-color:#106ba3;
    -webkit-box-shadow:inset 0 0 0 1px rgba(16, 22, 26, 0.4), inset 0 -1px 0 rgba(16, 22, 26, 0.2);
            box-shadow:inset 0 0 0 1px rgba(16, 22, 26, 0.4), inset 0 -1px 0 rgba(16, 22, 26, 0.2); }
  .bp3-control input:not(:disabled):active:checked ~ .bp3-control-indicator{
    background:#0e5a8a;
    -webkit-box-shadow:inset 0 0 0 1px rgba(16, 22, 26, 0.4), inset 0 1px 2px rgba(16, 22, 26, 0.2);
            box-shadow:inset 0 0 0 1px rgba(16, 22, 26, 0.4), inset 0 1px 2px rgba(16, 22, 26, 0.2); }
  .bp3-control input:disabled:checked ~ .bp3-control-indicator{
    background:rgba(19, 124, 189, 0.5);
    -webkit-box-shadow:none;
            box-shadow:none; }
  .bp3-dark .bp3-control input:checked ~ .bp3-control-indicator{
    -webkit-box-shadow:0 0 0 1px rgba(16, 22, 26, 0.4);
            box-shadow:0 0 0 1px rgba(16, 22, 26, 0.4); }
  .bp3-dark .bp3-control:hover input:checked ~ .bp3-control-indicator{
    background-color:#106ba3;
    -webkit-box-shadow:0 0 0 1px rgba(16, 22, 26, 0.4);
            box-shadow:0 0 0 1px rgba(16, 22, 26, 0.4); }
  .bp3-dark .bp3-control input:not(:disabled):active:checked ~ .bp3-control-indicator{
    background-color:#0e5a8a;
    -webkit-box-shadow:0 0 0 1px rgba(16, 22, 26, 0.4), inset 0 1px 2px rgba(16, 22, 26, 0.2);
            box-shadow:0 0 0 1px rgba(16, 22, 26, 0.4), inset 0 1px 2px rgba(16, 22, 26, 0.2); }
  .bp3-dark .bp3-control input:disabled:checked ~ .bp3-control-indicator{
    background:rgba(14, 90, 138, 0.5);
    -webkit-box-shadow:none;
            box-shadow:none; }
  .bp3-control:not(.bp3-align-right){
    padding-left:26px; }
    .bp3-control:not(.bp3-align-right) .bp3-control-indicator{
      margin-left:-26px; }
  .bp3-control.bp3-align-right{
    padding-right:26px; }
    .bp3-control.bp3-align-right .bp3-control-indicator{
      margin-right:-26px; }
  .bp3-control.bp3-disabled{
    color:rgba(92, 112, 128, 0.6);
    cursor:not-allowed; }
  .bp3-control.bp3-inline{
    display:inline-block;
    margin-right:20px; }
  .bp3-control input{
    left:0;
    opacity:0;
    position:absolute;
    top:0;
    z-index:-1; }
  .bp3-control .bp3-control-indicator{
    background-clip:padding-box;
    background-color:#f5f8fa;
    background-image:-webkit-gradient(linear, left top, left bottom, from(rgba(255, 255, 255, 0.8)), to(rgba(255, 255, 255, 0)));
    background-image:linear-gradient(to bottom, rgba(255, 255, 255, 0.8), rgba(255, 255, 255, 0));
    border:none;
    -webkit-box-shadow:inset 0 0 0 1px rgba(16, 22, 26, 0.2), inset 0 -1px 0 rgba(16, 22, 26, 0.1);
            box-shadow:inset 0 0 0 1px rgba(16, 22, 26, 0.2), inset 0 -1px 0 rgba(16, 22, 26, 0.1);
    cursor:pointer;
    display:inline-block;
    font-size:16px;
    height:1em;
    margin-right:10px;
    margin-top:-3px;
    position:relative;
    -webkit-user-select:none;
       -moz-user-select:none;
        -ms-user-select:none;
            user-select:none;
    vertical-align:middle;
    width:1em; }
    .bp3-control .bp3-control-indicator::before{
      content:"";
      display:block;
      height:1em;
      width:1em; }
  .bp3-control:hover .bp3-control-indicator{
    background-color:#ebf1f5; }
  .bp3-control input:not(:disabled):active ~ .bp3-control-indicator{
    background:#d8e1e8;
    -webkit-box-shadow:inset 0 0 0 1px rgba(16, 22, 26, 0.2), inset 0 1px 2px rgba(16, 22, 26, 0.2);
            box-shadow:inset 0 0 0 1px rgba(16, 22, 26, 0.2), inset 0 1px 2px rgba(16, 22, 26, 0.2); }
  .bp3-control input:disabled ~ .bp3-control-indicator{
    background:rgba(206, 217, 224, 0.5);
    -webkit-box-shadow:none;
            box-shadow:none;
    cursor:not-allowed; }
  .bp3-control input:focus ~ .bp3-control-indicator{
    outline:rgba(19, 124, 189, 0.6) auto 2px;
    outline-offset:2px;
    -moz-outline-radius:6px; }
  .bp3-control.bp3-align-right .bp3-control-indicator{
    float:right;
    margin-left:10px;
    margin-top:1px; }
  .bp3-control.bp3-large{
    font-size:16px; }
    .bp3-control.bp3-large:not(.bp3-align-right){
      padding-left:30px; }
      .bp3-control.bp3-large:not(.bp3-align-right) .bp3-control-indicator{
        margin-left:-30px; }
    .bp3-control.bp3-large.bp3-align-right{
      padding-right:30px; }
      .bp3-control.bp3-large.bp3-align-right .bp3-control-indicator{
        margin-right:-30px; }
    .bp3-control.bp3-large .bp3-control-indicator{
      font-size:20px; }
    .bp3-control.bp3-large.bp3-align-right .bp3-control-indicator{
      margin-top:0; }
  .bp3-control.bp3-checkbox input:indeterminate ~ .bp3-control-indicator{
    background-color:#137cbd;
    background-image:-webkit-gradient(linear, left top, left bottom, from(rgba(255, 255, 255, 0.1)), to(rgba(255, 255, 255, 0)));
    background-image:linear-gradient(to bottom, rgba(255, 255, 255, 0.1), rgba(255, 255, 255, 0));
    -webkit-box-shadow:inset 0 0 0 1px rgba(16, 22, 26, 0.4), inset 0 -1px 0 rgba(16, 22, 26, 0.2);
            box-shadow:inset 0 0 0 1px rgba(16, 22, 26, 0.4), inset 0 -1px 0 rgba(16, 22, 26, 0.2);
    color:#ffffff; }
  .bp3-control.bp3-checkbox:hover input:indeterminate ~ .bp3-control-indicator{
    background-color:#106ba3;
    -webkit-box-shadow:inset 0 0 0 1px rgba(16, 22, 26, 0.4), inset 0 -1px 0 rgba(16, 22, 26, 0.2);
            box-shadow:inset 0 0 0 1px rgba(16, 22, 26, 0.4), inset 0 -1px 0 rgba(16, 22, 26, 0.2); }
  .bp3-control.bp3-checkbox input:not(:disabled):active:indeterminate ~ .bp3-control-indicator{
    background:#0e5a8a;
    -webkit-box-shadow:inset 0 0 0 1px rgba(16, 22, 26, 0.4), inset 0 1px 2px rgba(16, 22, 26, 0.2);
            box-shadow:inset 0 0 0 1px rgba(16, 22, 26, 0.4), inset 0 1px 2px rgba(16, 22, 26, 0.2); }
  .bp3-control.bp3-checkbox input:disabled:indeterminate ~ .bp3-control-indicator{
    background:rgba(19, 124, 189, 0.5);
    -webkit-box-shadow:none;
            box-shadow:none; }
  .bp3-dark .bp3-control.bp3-checkbox input:indeterminate ~ .bp3-control-indicator{
    -webkit-box-shadow:0 0 0 1px rgba(16, 22, 26, 0.4);
            box-shadow:0 0 0 1px rgba(16, 22, 26, 0.4); }
  .bp3-dark .bp3-control.bp3-checkbox:hover input:indeterminate ~ .bp3-control-indicator{
    background-color:#106ba3;
    -webkit-box-shadow:0 0 0 1px rgba(16, 22, 26, 0.4);
            box-shadow:0 0 0 1px rgba(16, 22, 26, 0.4); }
  .bp3-dark .bp3-control.bp3-checkbox input:not(:disabled):active:indeterminate ~ .bp3-control-indicator{
    background-color:#0e5a8a;
    -webkit-box-shadow:0 0 0 1px rgba(16, 22, 26, 0.4), inset 0 1px 2px rgba(16, 22, 26, 0.2);
            box-shadow:0 0 0 1px rgba(16, 22, 26, 0.4), inset 0 1px 2px rgba(16, 22, 26, 0.2); }
  .bp3-dark .bp3-control.bp3-checkbox input:disabled:indeterminate ~ .bp3-control-indicator{
    background:rgba(14, 90, 138, 0.5);
    -webkit-box-shadow:none;
            box-shadow:none; }
  .bp3-control.bp3-checkbox .bp3-control-indicator{
    border-radius:3px; }
  .bp3-control.bp3-checkbox input:checked ~ .bp3-control-indicator::before{
    background-image:url("data:image/svg+xml,%3csvg xmlns='http://www.w3.org/2000/svg' viewBox='0 0 16 16'%3e%3cpath fill-rule='evenodd' clip-rule='evenodd' d='M12 5c-.28 0-.53.11-.71.29L7 9.59l-2.29-2.3a1.003 1.003 0 00-1.42 1.42l3 3c.18.18.43.29.71.29s.53-.11.71-.29l5-5A1.003 1.003 0 0012 5z' fill='white'/%3e%3c/svg%3e"); }
  .bp3-control.bp3-checkbox input:indeterminate ~ .bp3-control-indicator::before{
    background-image:url("data:image/svg+xml,%3csvg xmlns='http://www.w3.org/2000/svg' viewBox='0 0 16 16'%3e%3cpath fill-rule='evenodd' clip-rule='evenodd' d='M11 7H5c-.55 0-1 .45-1 1s.45 1 1 1h6c.55 0 1-.45 1-1s-.45-1-1-1z' fill='white'/%3e%3c/svg%3e"); }
  .bp3-control.bp3-radio .bp3-control-indicator{
    border-radius:50%; }
  .bp3-control.bp3-radio input:checked ~ .bp3-control-indicator::before{
    background-image:radial-gradient(#ffffff, #ffffff 28%, transparent 32%); }
  .bp3-control.bp3-radio input:checked:disabled ~ .bp3-control-indicator::before{
    opacity:0.5; }
  .bp3-control.bp3-radio input:focus ~ .bp3-control-indicator{
    -moz-outline-radius:16px; }
  .bp3-control.bp3-switch input ~ .bp3-control-indicator{
    background:rgba(167, 182, 194, 0.5); }
  .bp3-control.bp3-switch:hover input ~ .bp3-control-indicator{
    background:rgba(115, 134, 148, 0.5); }
  .bp3-control.bp3-switch input:not(:disabled):active ~ .bp3-control-indicator{
    background:rgba(92, 112, 128, 0.5); }
  .bp3-control.bp3-switch input:disabled ~ .bp3-control-indicator{
    background:rgba(206, 217, 224, 0.5); }
    .bp3-control.bp3-switch input:disabled ~ .bp3-control-indicator::before{
      background:rgba(255, 255, 255, 0.8); }
  .bp3-control.bp3-switch input:checked ~ .bp3-control-indicator{
    background:#137cbd; }
  .bp3-control.bp3-switch:hover input:checked ~ .bp3-control-indicator{
    background:#106ba3; }
  .bp3-control.bp3-switch input:checked:not(:disabled):active ~ .bp3-control-indicator{
    background:#0e5a8a; }
  .bp3-control.bp3-switch input:checked:disabled ~ .bp3-control-indicator{
    background:rgba(19, 124, 189, 0.5); }
    .bp3-control.bp3-switch input:checked:disabled ~ .bp3-control-indicator::before{
      background:rgba(255, 255, 255, 0.8); }
  .bp3-control.bp3-switch:not(.bp3-align-right){
    padding-left:38px; }
    .bp3-control.bp3-switch:not(.bp3-align-right) .bp3-control-indicator{
      margin-left:-38px; }
  .bp3-control.bp3-switch.bp3-align-right{
    padding-right:38px; }
    .bp3-control.bp3-switch.bp3-align-right .bp3-control-indicator{
      margin-right:-38px; }
  .bp3-control.bp3-switch .bp3-control-indicator{
    border:none;
    border-radius:1.75em;
    -webkit-box-shadow:none !important;
            box-shadow:none !important;
    min-width:1.75em;
    -webkit-transition:background-color 100ms cubic-bezier(0.4, 1, 0.75, 0.9);
    transition:background-color 100ms cubic-bezier(0.4, 1, 0.75, 0.9);
    width:auto; }
    .bp3-control.bp3-switch .bp3-control-indicator::before{
      background:#ffffff;
      border-radius:50%;
      -webkit-box-shadow:0 0 0 1px rgba(16, 22, 26, 0.2), 0 1px 1px rgba(16, 22, 26, 0.2);
              box-shadow:0 0 0 1px rgba(16, 22, 26, 0.2), 0 1px 1px rgba(16, 22, 26, 0.2);
      height:calc(1em - 4px);
      left:0;
      margin:2px;
      position:absolute;
      -webkit-transition:left 100ms cubic-bezier(0.4, 1, 0.75, 0.9);
      transition:left 100ms cubic-bezier(0.4, 1, 0.75, 0.9);
      width:calc(1em - 4px); }
  .bp3-control.bp3-switch input:checked ~ .bp3-control-indicator::before{
    left:calc(100% - 1em); }
  .bp3-control.bp3-switch.bp3-large:not(.bp3-align-right){
    padding-left:45px; }
    .bp3-control.bp3-switch.bp3-large:not(.bp3-align-right) .bp3-control-indicator{
      margin-left:-45px; }
  .bp3-control.bp3-switch.bp3-large.bp3-align-right{
    padding-right:45px; }
    .bp3-control.bp3-switch.bp3-large.bp3-align-right .bp3-control-indicator{
      margin-right:-45px; }
  .bp3-dark .bp3-control.bp3-switch input ~ .bp3-control-indicator{
    background:rgba(16, 22, 26, 0.5); }
  .bp3-dark .bp3-control.bp3-switch:hover input ~ .bp3-control-indicator{
    background:rgba(16, 22, 26, 0.7); }
  .bp3-dark .bp3-control.bp3-switch input:not(:disabled):active ~ .bp3-control-indicator{
    background:rgba(16, 22, 26, 0.9); }
  .bp3-dark .bp3-control.bp3-switch input:disabled ~ .bp3-control-indicator{
    background:rgba(57, 75, 89, 0.5); }
    .bp3-dark .bp3-control.bp3-switch input:disabled ~ .bp3-control-indicator::before{
      background:rgba(16, 22, 26, 0.4); }
  .bp3-dark .bp3-control.bp3-switch input:checked ~ .bp3-control-indicator{
    background:#137cbd; }
  .bp3-dark .bp3-control.bp3-switch:hover input:checked ~ .bp3-control-indicator{
    background:#106ba3; }
  .bp3-dark .bp3-control.bp3-switch input:checked:not(:disabled):active ~ .bp3-control-indicator{
    background:#0e5a8a; }
  .bp3-dark .bp3-control.bp3-switch input:checked:disabled ~ .bp3-control-indicator{
    background:rgba(14, 90, 138, 0.5); }
    .bp3-dark .bp3-control.bp3-switch input:checked:disabled ~ .bp3-control-indicator::before{
      background:rgba(16, 22, 26, 0.4); }
  .bp3-dark .bp3-control.bp3-switch .bp3-control-indicator::before{
    background:#394b59;
    -webkit-box-shadow:0 0 0 1px rgba(16, 22, 26, 0.4);
            box-shadow:0 0 0 1px rgba(16, 22, 26, 0.4); }
  .bp3-dark .bp3-control.bp3-switch input:checked ~ .bp3-control-indicator::before{
    -webkit-box-shadow:inset 0 0 0 1px rgba(16, 22, 26, 0.4);
            box-shadow:inset 0 0 0 1px rgba(16, 22, 26, 0.4); }
  .bp3-control.bp3-switch .bp3-switch-inner-text{
    font-size:0.7em;
    text-align:center; }
  .bp3-control.bp3-switch .bp3-control-indicator-child:first-child{
    line-height:0;
    margin-left:0.5em;
    margin-right:1.2em;
    visibility:hidden; }
  .bp3-control.bp3-switch .bp3-control-indicator-child:last-child{
    line-height:1em;
    margin-left:1.2em;
    margin-right:0.5em;
    visibility:visible; }
  .bp3-control.bp3-switch input:checked ~ .bp3-control-indicator .bp3-control-indicator-child:first-child{
    line-height:1em;
    visibility:visible; }
  .bp3-control.bp3-switch input:checked ~ .bp3-control-indicator .bp3-control-indicator-child:last-child{
    line-height:0;
    visibility:hidden; }
  .bp3-dark .bp3-control{
    color:#f5f8fa; }
    .bp3-dark .bp3-control.bp3-disabled{
      color:rgba(167, 182, 194, 0.6); }
    .bp3-dark .bp3-control .bp3-control-indicator{
      background-color:#394b59;
      background-image:-webkit-gradient(linear, left top, left bottom, from(rgba(255, 255, 255, 0.05)), to(rgba(255, 255, 255, 0)));
      background-image:linear-gradient(to bottom, rgba(255, 255, 255, 0.05), rgba(255, 255, 255, 0));
      -webkit-box-shadow:0 0 0 1px rgba(16, 22, 26, 0.4);
              box-shadow:0 0 0 1px rgba(16, 22, 26, 0.4); }
    .bp3-dark .bp3-control:hover .bp3-control-indicator{
      background-color:#30404d; }
    .bp3-dark .bp3-control input:not(:disabled):active ~ .bp3-control-indicator{
      background:#202b33;
      -webkit-box-shadow:0 0 0 1px rgba(16, 22, 26, 0.6), inset 0 1px 2px rgba(16, 22, 26, 0.2);
              box-shadow:0 0 0 1px rgba(16, 22, 26, 0.6), inset 0 1px 2px rgba(16, 22, 26, 0.2); }
    .bp3-dark .bp3-control input:disabled ~ .bp3-control-indicator{
      background:rgba(57, 75, 89, 0.5);
      -webkit-box-shadow:none;
              box-shadow:none;
      cursor:not-allowed; }
    .bp3-dark .bp3-control.bp3-checkbox input:disabled:checked ~ .bp3-control-indicator, .bp3-dark .bp3-control.bp3-checkbox input:disabled:indeterminate ~ .bp3-control-indicator{
      color:rgba(167, 182, 194, 0.6); }
.bp3-file-input{
  cursor:pointer;
  display:inline-block;
  height:30px;
  position:relative; }
  .bp3-file-input input{
    margin:0;
    min-width:200px;
    opacity:0; }
    .bp3-file-input input:disabled + .bp3-file-upload-input,
    .bp3-file-input input.bp3-disabled + .bp3-file-upload-input{
      background:rgba(206, 217, 224, 0.5);
      -webkit-box-shadow:none;
              box-shadow:none;
      color:rgba(92, 112, 128, 0.6);
      cursor:not-allowed;
      resize:none; }
      .bp3-file-input input:disabled + .bp3-file-upload-input::after,
      .bp3-file-input input.bp3-disabled + .bp3-file-upload-input::after{
        background-color:rgba(206, 217, 224, 0.5);
        background-image:none;
        -webkit-box-shadow:none;
                box-shadow:none;
        color:rgba(92, 112, 128, 0.6);
        cursor:not-allowed;
        outline:none; }
        .bp3-file-input input:disabled + .bp3-file-upload-input::after.bp3-active, .bp3-file-input input:disabled + .bp3-file-upload-input::after.bp3-active:hover,
        .bp3-file-input input.bp3-disabled + .bp3-file-upload-input::after.bp3-active,
        .bp3-file-input input.bp3-disabled + .bp3-file-upload-input::after.bp3-active:hover{
          background:rgba(206, 217, 224, 0.7); }
      .bp3-dark .bp3-file-input input:disabled + .bp3-file-upload-input, .bp3-dark
      .bp3-file-input input.bp3-disabled + .bp3-file-upload-input{
        background:rgba(57, 75, 89, 0.5);
        -webkit-box-shadow:none;
                box-shadow:none;
        color:rgba(167, 182, 194, 0.6); }
        .bp3-dark .bp3-file-input input:disabled + .bp3-file-upload-input::after, .bp3-dark
        .bp3-file-input input.bp3-disabled + .bp3-file-upload-input::after{
          background-color:rgba(57, 75, 89, 0.5);
          background-image:none;
          -webkit-box-shadow:none;
                  box-shadow:none;
          color:rgba(167, 182, 194, 0.6); }
          .bp3-dark .bp3-file-input input:disabled + .bp3-file-upload-input::after.bp3-active, .bp3-dark
          .bp3-file-input input.bp3-disabled + .bp3-file-upload-input::after.bp3-active{
            background:rgba(57, 75, 89, 0.7); }
  .bp3-file-input.bp3-file-input-has-selection .bp3-file-upload-input{
    color:#182026; }
  .bp3-dark .bp3-file-input.bp3-file-input-has-selection .bp3-file-upload-input{
    color:#f5f8fa; }
  .bp3-file-input.bp3-fill{
    width:100%; }
  .bp3-file-input.bp3-large,
  .bp3-large .bp3-file-input{
    height:40px; }
  .bp3-file-input .bp3-file-upload-input-custom-text::after{
    content:attr(bp3-button-text); }

.bp3-file-upload-input{
  -webkit-appearance:none;
     -moz-appearance:none;
          appearance:none;
  background:#ffffff;
  border:none;
  border-radius:3px;
  -webkit-box-shadow:0 0 0 0 rgba(19, 124, 189, 0), 0 0 0 0 rgba(19, 124, 189, 0), inset 0 0 0 1px rgba(16, 22, 26, 0.15), inset 0 1px 1px rgba(16, 22, 26, 0.2);
          box-shadow:0 0 0 0 rgba(19, 124, 189, 0), 0 0 0 0 rgba(19, 124, 189, 0), inset 0 0 0 1px rgba(16, 22, 26, 0.15), inset 0 1px 1px rgba(16, 22, 26, 0.2);
  color:#182026;
  font-size:14px;
  font-weight:400;
  height:30px;
  line-height:30px;
  outline:none;
  padding:0 10px;
  -webkit-transition:-webkit-box-shadow 100ms cubic-bezier(0.4, 1, 0.75, 0.9);
  transition:-webkit-box-shadow 100ms cubic-bezier(0.4, 1, 0.75, 0.9);
  transition:box-shadow 100ms cubic-bezier(0.4, 1, 0.75, 0.9);
  transition:box-shadow 100ms cubic-bezier(0.4, 1, 0.75, 0.9), -webkit-box-shadow 100ms cubic-bezier(0.4, 1, 0.75, 0.9);
  vertical-align:middle;
  overflow:hidden;
  text-overflow:ellipsis;
  white-space:nowrap;
  word-wrap:normal;
  color:rgba(92, 112, 128, 0.6);
  left:0;
  padding-right:80px;
  position:absolute;
  right:0;
  top:0;
  -webkit-user-select:none;
     -moz-user-select:none;
      -ms-user-select:none;
          user-select:none; }
  .bp3-file-upload-input::-webkit-input-placeholder{
    color:rgba(92, 112, 128, 0.6);
    opacity:1; }
  .bp3-file-upload-input::-moz-placeholder{
    color:rgba(92, 112, 128, 0.6);
    opacity:1; }
  .bp3-file-upload-input:-ms-input-placeholder{
    color:rgba(92, 112, 128, 0.6);
    opacity:1; }
  .bp3-file-upload-input::-ms-input-placeholder{
    color:rgba(92, 112, 128, 0.6);
    opacity:1; }
  .bp3-file-upload-input::placeholder{
    color:rgba(92, 112, 128, 0.6);
    opacity:1; }
  .bp3-file-upload-input:focus, .bp3-file-upload-input.bp3-active{
    -webkit-box-shadow:0 0 0 1px #137cbd, 0 0 0 3px rgba(19, 124, 189, 0.3), inset 0 1px 1px rgba(16, 22, 26, 0.2);
            box-shadow:0 0 0 1px #137cbd, 0 0 0 3px rgba(19, 124, 189, 0.3), inset 0 1px 1px rgba(16, 22, 26, 0.2); }
  .bp3-file-upload-input[type="search"], .bp3-file-upload-input.bp3-round{
    border-radius:30px;
    -webkit-box-sizing:border-box;
            box-sizing:border-box;
    padding-left:10px; }
  .bp3-file-upload-input[readonly]{
    -webkit-box-shadow:inset 0 0 0 1px rgba(16, 22, 26, 0.15);
            box-shadow:inset 0 0 0 1px rgba(16, 22, 26, 0.15); }
  .bp3-file-upload-input:disabled, .bp3-file-upload-input.bp3-disabled{
    background:rgba(206, 217, 224, 0.5);
    -webkit-box-shadow:none;
            box-shadow:none;
    color:rgba(92, 112, 128, 0.6);
    cursor:not-allowed;
    resize:none; }
  .bp3-file-upload-input::after{
    background-color:#f5f8fa;
    background-image:-webkit-gradient(linear, left top, left bottom, from(rgba(255, 255, 255, 0.8)), to(rgba(255, 255, 255, 0)));
    background-image:linear-gradient(to bottom, rgba(255, 255, 255, 0.8), rgba(255, 255, 255, 0));
    -webkit-box-shadow:inset 0 0 0 1px rgba(16, 22, 26, 0.2), inset 0 -1px 0 rgba(16, 22, 26, 0.1);
            box-shadow:inset 0 0 0 1px rgba(16, 22, 26, 0.2), inset 0 -1px 0 rgba(16, 22, 26, 0.1);
    color:#182026;
    min-height:24px;
    min-width:24px;
    overflow:hidden;
    text-overflow:ellipsis;
    white-space:nowrap;
    word-wrap:normal;
    border-radius:3px;
    content:"Browse";
    line-height:24px;
    margin:3px;
    position:absolute;
    right:0;
    text-align:center;
    top:0;
    width:70px; }
    .bp3-file-upload-input::after:hover{
      background-clip:padding-box;
      background-color:#ebf1f5;
      -webkit-box-shadow:inset 0 0 0 1px rgba(16, 22, 26, 0.2), inset 0 -1px 0 rgba(16, 22, 26, 0.1);
              box-shadow:inset 0 0 0 1px rgba(16, 22, 26, 0.2), inset 0 -1px 0 rgba(16, 22, 26, 0.1); }
    .bp3-file-upload-input::after:active, .bp3-file-upload-input::after.bp3-active{
      background-color:#d8e1e8;
      background-image:none;
      -webkit-box-shadow:inset 0 0 0 1px rgba(16, 22, 26, 0.2), inset 0 1px 2px rgba(16, 22, 26, 0.2);
              box-shadow:inset 0 0 0 1px rgba(16, 22, 26, 0.2), inset 0 1px 2px rgba(16, 22, 26, 0.2); }
    .bp3-file-upload-input::after:disabled, .bp3-file-upload-input::after.bp3-disabled{
      background-color:rgba(206, 217, 224, 0.5);
      background-image:none;
      -webkit-box-shadow:none;
              box-shadow:none;
      color:rgba(92, 112, 128, 0.6);
      cursor:not-allowed;
      outline:none; }
      .bp3-file-upload-input::after:disabled.bp3-active, .bp3-file-upload-input::after:disabled.bp3-active:hover, .bp3-file-upload-input::after.bp3-disabled.bp3-active, .bp3-file-upload-input::after.bp3-disabled.bp3-active:hover{
        background:rgba(206, 217, 224, 0.7); }
  .bp3-file-upload-input:hover::after{
    background-clip:padding-box;
    background-color:#ebf1f5;
    -webkit-box-shadow:inset 0 0 0 1px rgba(16, 22, 26, 0.2), inset 0 -1px 0 rgba(16, 22, 26, 0.1);
            box-shadow:inset 0 0 0 1px rgba(16, 22, 26, 0.2), inset 0 -1px 0 rgba(16, 22, 26, 0.1); }
  .bp3-file-upload-input:active::after{
    background-color:#d8e1e8;
    background-image:none;
    -webkit-box-shadow:inset 0 0 0 1px rgba(16, 22, 26, 0.2), inset 0 1px 2px rgba(16, 22, 26, 0.2);
            box-shadow:inset 0 0 0 1px rgba(16, 22, 26, 0.2), inset 0 1px 2px rgba(16, 22, 26, 0.2); }
  .bp3-large .bp3-file-upload-input{
    font-size:16px;
    height:40px;
    line-height:40px;
    padding-right:95px; }
    .bp3-large .bp3-file-upload-input[type="search"], .bp3-large .bp3-file-upload-input.bp3-round{
      padding:0 15px; }
    .bp3-large .bp3-file-upload-input::after{
      min-height:30px;
      min-width:30px;
      line-height:30px;
      margin:5px;
      width:85px; }
  .bp3-dark .bp3-file-upload-input{
    background:rgba(16, 22, 26, 0.3);
    -webkit-box-shadow:0 0 0 0 rgba(19, 124, 189, 0), 0 0 0 0 rgba(19, 124, 189, 0), 0 0 0 0 rgba(19, 124, 189, 0), inset 0 0 0 1px rgba(16, 22, 26, 0.3), inset 0 1px 1px rgba(16, 22, 26, 0.4);
            box-shadow:0 0 0 0 rgba(19, 124, 189, 0), 0 0 0 0 rgba(19, 124, 189, 0), 0 0 0 0 rgba(19, 124, 189, 0), inset 0 0 0 1px rgba(16, 22, 26, 0.3), inset 0 1px 1px rgba(16, 22, 26, 0.4);
    color:#f5f8fa;
    color:rgba(167, 182, 194, 0.6); }
    .bp3-dark .bp3-file-upload-input::-webkit-input-placeholder{
      color:rgba(167, 182, 194, 0.6); }
    .bp3-dark .bp3-file-upload-input::-moz-placeholder{
      color:rgba(167, 182, 194, 0.6); }
    .bp3-dark .bp3-file-upload-input:-ms-input-placeholder{
      color:rgba(167, 182, 194, 0.6); }
    .bp3-dark .bp3-file-upload-input::-ms-input-placeholder{
      color:rgba(167, 182, 194, 0.6); }
    .bp3-dark .bp3-file-upload-input::placeholder{
      color:rgba(167, 182, 194, 0.6); }
    .bp3-dark .bp3-file-upload-input:focus{
      -webkit-box-shadow:0 0 0 1px #137cbd, 0 0 0 1px #137cbd, 0 0 0 3px rgba(19, 124, 189, 0.3), inset 0 0 0 1px rgba(16, 22, 26, 0.3), inset 0 1px 1px rgba(16, 22, 26, 0.4);
              box-shadow:0 0 0 1px #137cbd, 0 0 0 1px #137cbd, 0 0 0 3px rgba(19, 124, 189, 0.3), inset 0 0 0 1px rgba(16, 22, 26, 0.3), inset 0 1px 1px rgba(16, 22, 26, 0.4); }
    .bp3-dark .bp3-file-upload-input[readonly]{
      -webkit-box-shadow:inset 0 0 0 1px rgba(16, 22, 26, 0.4);
              box-shadow:inset 0 0 0 1px rgba(16, 22, 26, 0.4); }
    .bp3-dark .bp3-file-upload-input:disabled, .bp3-dark .bp3-file-upload-input.bp3-disabled{
      background:rgba(57, 75, 89, 0.5);
      -webkit-box-shadow:none;
              box-shadow:none;
      color:rgba(167, 182, 194, 0.6); }
    .bp3-dark .bp3-file-upload-input::after{
      background-color:#394b59;
      background-image:-webkit-gradient(linear, left top, left bottom, from(rgba(255, 255, 255, 0.05)), to(rgba(255, 255, 255, 0)));
      background-image:linear-gradient(to bottom, rgba(255, 255, 255, 0.05), rgba(255, 255, 255, 0));
      -webkit-box-shadow:0 0 0 1px rgba(16, 22, 26, 0.4);
              box-shadow:0 0 0 1px rgba(16, 22, 26, 0.4);
      color:#f5f8fa; }
      .bp3-dark .bp3-file-upload-input::after:hover, .bp3-dark .bp3-file-upload-input::after:active, .bp3-dark .bp3-file-upload-input::after.bp3-active{
        color:#f5f8fa; }
      .bp3-dark .bp3-file-upload-input::after:hover{
        background-color:#30404d;
        -webkit-box-shadow:0 0 0 1px rgba(16, 22, 26, 0.4);
                box-shadow:0 0 0 1px rgba(16, 22, 26, 0.4); }
      .bp3-dark .bp3-file-upload-input::after:active, .bp3-dark .bp3-file-upload-input::after.bp3-active{
        background-color:#202b33;
        background-image:none;
        -webkit-box-shadow:0 0 0 1px rgba(16, 22, 26, 0.6), inset 0 1px 2px rgba(16, 22, 26, 0.2);
                box-shadow:0 0 0 1px rgba(16, 22, 26, 0.6), inset 0 1px 2px rgba(16, 22, 26, 0.2); }
      .bp3-dark .bp3-file-upload-input::after:disabled, .bp3-dark .bp3-file-upload-input::after.bp3-disabled{
        background-color:rgba(57, 75, 89, 0.5);
        background-image:none;
        -webkit-box-shadow:none;
                box-shadow:none;
        color:rgba(167, 182, 194, 0.6); }
        .bp3-dark .bp3-file-upload-input::after:disabled.bp3-active, .bp3-dark .bp3-file-upload-input::after.bp3-disabled.bp3-active{
          background:rgba(57, 75, 89, 0.7); }
      .bp3-dark .bp3-file-upload-input::after .bp3-button-spinner .bp3-spinner-head{
        background:rgba(16, 22, 26, 0.5);
        stroke:#8a9ba8; }
    .bp3-dark .bp3-file-upload-input:hover::after{
      background-color:#30404d;
      -webkit-box-shadow:0 0 0 1px rgba(16, 22, 26, 0.4);
              box-shadow:0 0 0 1px rgba(16, 22, 26, 0.4); }
    .bp3-dark .bp3-file-upload-input:active::after{
      background-color:#202b33;
      background-image:none;
      -webkit-box-shadow:0 0 0 1px rgba(16, 22, 26, 0.6), inset 0 1px 2px rgba(16, 22, 26, 0.2);
              box-shadow:0 0 0 1px rgba(16, 22, 26, 0.6), inset 0 1px 2px rgba(16, 22, 26, 0.2); }
.bp3-file-upload-input::after{
  -webkit-box-shadow:inset 0 0 0 1px rgba(16, 22, 26, 0.2), inset 0 -1px 0 rgba(16, 22, 26, 0.1);
          box-shadow:inset 0 0 0 1px rgba(16, 22, 26, 0.2), inset 0 -1px 0 rgba(16, 22, 26, 0.1); }
.bp3-form-group{
  display:-webkit-box;
  display:-ms-flexbox;
  display:flex;
  -webkit-box-orient:vertical;
  -webkit-box-direction:normal;
      -ms-flex-direction:column;
          flex-direction:column;
  margin:0 0 15px; }
  .bp3-form-group label.bp3-label{
    margin-bottom:5px; }
  .bp3-form-group .bp3-control{
    margin-top:7px; }
  .bp3-form-group .bp3-form-helper-text{
    color:#5c7080;
    font-size:12px;
    margin-top:5px; }
  .bp3-form-group.bp3-intent-primary .bp3-form-helper-text{
    color:#106ba3; }
  .bp3-form-group.bp3-intent-success .bp3-form-helper-text{
    color:#0d8050; }
  .bp3-form-group.bp3-intent-warning .bp3-form-helper-text{
    color:#bf7326; }
  .bp3-form-group.bp3-intent-danger .bp3-form-helper-text{
    color:#c23030; }
  .bp3-form-group.bp3-inline{
    -webkit-box-align:start;
        -ms-flex-align:start;
            align-items:flex-start;
    -webkit-box-orient:horizontal;
    -webkit-box-direction:normal;
        -ms-flex-direction:row;
            flex-direction:row; }
    .bp3-form-group.bp3-inline.bp3-large label.bp3-label{
      line-height:40px;
      margin:0 10px 0 0; }
    .bp3-form-group.bp3-inline label.bp3-label{
      line-height:30px;
      margin:0 10px 0 0; }
  .bp3-form-group.bp3-disabled .bp3-label,
  .bp3-form-group.bp3-disabled .bp3-text-muted,
  .bp3-form-group.bp3-disabled .bp3-form-helper-text{
    color:rgba(92, 112, 128, 0.6) !important; }
  .bp3-dark .bp3-form-group.bp3-intent-primary .bp3-form-helper-text{
    color:#48aff0; }
  .bp3-dark .bp3-form-group.bp3-intent-success .bp3-form-helper-text{
    color:#3dcc91; }
  .bp3-dark .bp3-form-group.bp3-intent-warning .bp3-form-helper-text{
    color:#ffb366; }
  .bp3-dark .bp3-form-group.bp3-intent-danger .bp3-form-helper-text{
    color:#ff7373; }
  .bp3-dark .bp3-form-group .bp3-form-helper-text{
    color:#a7b6c2; }
  .bp3-dark .bp3-form-group.bp3-disabled .bp3-label,
  .bp3-dark .bp3-form-group.bp3-disabled .bp3-text-muted,
  .bp3-dark .bp3-form-group.bp3-disabled .bp3-form-helper-text{
    color:rgba(167, 182, 194, 0.6) !important; }
.bp3-input-group{
  display:block;
  position:relative; }
  .bp3-input-group .bp3-input{
    position:relative;
    width:100%; }
    .bp3-input-group .bp3-input:not(:first-child){
      padding-left:30px; }
    .bp3-input-group .bp3-input:not(:last-child){
      padding-right:30px; }
  .bp3-input-group .bp3-input-action,
  .bp3-input-group > .bp3-input-left-container,
  .bp3-input-group > .bp3-button,
  .bp3-input-group > .bp3-icon{
    position:absolute;
    top:0; }
    .bp3-input-group .bp3-input-action:first-child,
    .bp3-input-group > .bp3-input-left-container:first-child,
    .bp3-input-group > .bp3-button:first-child,
    .bp3-input-group > .bp3-icon:first-child{
      left:0; }
    .bp3-input-group .bp3-input-action:last-child,
    .bp3-input-group > .bp3-input-left-container:last-child,
    .bp3-input-group > .bp3-button:last-child,
    .bp3-input-group > .bp3-icon:last-child{
      right:0; }
  .bp3-input-group .bp3-button{
    min-height:24px;
    min-width:24px;
    margin:3px;
    padding:0 7px; }
    .bp3-input-group .bp3-button:empty{
      padding:0; }
  .bp3-input-group > .bp3-input-left-container,
  .bp3-input-group > .bp3-icon{
    z-index:1; }
  .bp3-input-group > .bp3-input-left-container > .bp3-icon,
  .bp3-input-group > .bp3-icon{
    color:#5c7080; }
    .bp3-input-group > .bp3-input-left-container > .bp3-icon:empty,
    .bp3-input-group > .bp3-icon:empty{
      font-family:"Icons16", sans-serif;
      font-size:16px;
      font-style:normal;
      font-weight:400;
      line-height:1;
      -moz-osx-font-smoothing:grayscale;
      -webkit-font-smoothing:antialiased; }
  .bp3-input-group > .bp3-input-left-container > .bp3-icon,
  .bp3-input-group > .bp3-icon,
  .bp3-input-group .bp3-input-action > .bp3-spinner{
    margin:7px; }
  .bp3-input-group .bp3-tag{
    margin:5px; }
  .bp3-input-group .bp3-input:not(:focus) + .bp3-button.bp3-minimal:not(:hover):not(:focus),
  .bp3-input-group .bp3-input:not(:focus) + .bp3-input-action .bp3-button.bp3-minimal:not(:hover):not(:focus){
    color:#5c7080; }
    .bp3-dark .bp3-input-group .bp3-input:not(:focus) + .bp3-button.bp3-minimal:not(:hover):not(:focus), .bp3-dark
    .bp3-input-group .bp3-input:not(:focus) + .bp3-input-action .bp3-button.bp3-minimal:not(:hover):not(:focus){
      color:#a7b6c2; }
    .bp3-input-group .bp3-input:not(:focus) + .bp3-button.bp3-minimal:not(:hover):not(:focus) .bp3-icon, .bp3-input-group .bp3-input:not(:focus) + .bp3-button.bp3-minimal:not(:hover):not(:focus) .bp3-icon-standard, .bp3-input-group .bp3-input:not(:focus) + .bp3-button.bp3-minimal:not(:hover):not(:focus) .bp3-icon-large,
    .bp3-input-group .bp3-input:not(:focus) + .bp3-input-action .bp3-button.bp3-minimal:not(:hover):not(:focus) .bp3-icon,
    .bp3-input-group .bp3-input:not(:focus) + .bp3-input-action .bp3-button.bp3-minimal:not(:hover):not(:focus) .bp3-icon-standard,
    .bp3-input-group .bp3-input:not(:focus) + .bp3-input-action .bp3-button.bp3-minimal:not(:hover):not(:focus) .bp3-icon-large{
      color:#5c7080; }
  .bp3-input-group .bp3-input:not(:focus) + .bp3-button.bp3-minimal:disabled,
  .bp3-input-group .bp3-input:not(:focus) + .bp3-input-action .bp3-button.bp3-minimal:disabled{
    color:rgba(92, 112, 128, 0.6) !important; }
    .bp3-input-group .bp3-input:not(:focus) + .bp3-button.bp3-minimal:disabled .bp3-icon, .bp3-input-group .bp3-input:not(:focus) + .bp3-button.bp3-minimal:disabled .bp3-icon-standard, .bp3-input-group .bp3-input:not(:focus) + .bp3-button.bp3-minimal:disabled .bp3-icon-large,
    .bp3-input-group .bp3-input:not(:focus) + .bp3-input-action .bp3-button.bp3-minimal:disabled .bp3-icon,
    .bp3-input-group .bp3-input:not(:focus) + .bp3-input-action .bp3-button.bp3-minimal:disabled .bp3-icon-standard,
    .bp3-input-group .bp3-input:not(:focus) + .bp3-input-action .bp3-button.bp3-minimal:disabled .bp3-icon-large{
      color:rgba(92, 112, 128, 0.6) !important; }
  .bp3-input-group.bp3-disabled{
    cursor:not-allowed; }
    .bp3-input-group.bp3-disabled .bp3-icon{
      color:rgba(92, 112, 128, 0.6); }
  .bp3-input-group.bp3-large .bp3-button{
    min-height:30px;
    min-width:30px;
    margin:5px; }
  .bp3-input-group.bp3-large > .bp3-input-left-container > .bp3-icon,
  .bp3-input-group.bp3-large > .bp3-icon,
  .bp3-input-group.bp3-large .bp3-input-action > .bp3-spinner{
    margin:12px; }
  .bp3-input-group.bp3-large .bp3-input{
    font-size:16px;
    height:40px;
    line-height:40px; }
    .bp3-input-group.bp3-large .bp3-input[type="search"], .bp3-input-group.bp3-large .bp3-input.bp3-round{
      padding:0 15px; }
    .bp3-input-group.bp3-large .bp3-input:not(:first-child){
      padding-left:40px; }
    .bp3-input-group.bp3-large .bp3-input:not(:last-child){
      padding-right:40px; }
  .bp3-input-group.bp3-small .bp3-button{
    min-height:20px;
    min-width:20px;
    margin:2px; }
  .bp3-input-group.bp3-small .bp3-tag{
    min-height:20px;
    min-width:20px;
    margin:2px; }
  .bp3-input-group.bp3-small > .bp3-input-left-container > .bp3-icon,
  .bp3-input-group.bp3-small > .bp3-icon,
  .bp3-input-group.bp3-small .bp3-input-action > .bp3-spinner{
    margin:4px; }
  .bp3-input-group.bp3-small .bp3-input{
    font-size:12px;
    height:24px;
    line-height:24px;
    padding-left:8px;
    padding-right:8px; }
    .bp3-input-group.bp3-small .bp3-input[type="search"], .bp3-input-group.bp3-small .bp3-input.bp3-round{
      padding:0 12px; }
    .bp3-input-group.bp3-small .bp3-input:not(:first-child){
      padding-left:24px; }
    .bp3-input-group.bp3-small .bp3-input:not(:last-child){
      padding-right:24px; }
  .bp3-input-group.bp3-fill{
    -webkit-box-flex:1;
        -ms-flex:1 1 auto;
            flex:1 1 auto;
    width:100%; }
  .bp3-input-group.bp3-round .bp3-button,
  .bp3-input-group.bp3-round .bp3-input,
  .bp3-input-group.bp3-round .bp3-tag{
    border-radius:30px; }
  .bp3-dark .bp3-input-group .bp3-icon{
    color:#a7b6c2; }
  .bp3-dark .bp3-input-group.bp3-disabled .bp3-icon{
    color:rgba(167, 182, 194, 0.6); }
  .bp3-input-group.bp3-intent-primary .bp3-input{
    -webkit-box-shadow:0 0 0 0 rgba(19, 124, 189, 0), 0 0 0 0 rgba(19, 124, 189, 0), inset 0 0 0 1px #137cbd, inset 0 0 0 1px rgba(16, 22, 26, 0.15), inset 0 1px 1px rgba(16, 22, 26, 0.2);
            box-shadow:0 0 0 0 rgba(19, 124, 189, 0), 0 0 0 0 rgba(19, 124, 189, 0), inset 0 0 0 1px #137cbd, inset 0 0 0 1px rgba(16, 22, 26, 0.15), inset 0 1px 1px rgba(16, 22, 26, 0.2); }
    .bp3-input-group.bp3-intent-primary .bp3-input:focus{
      -webkit-box-shadow:0 0 0 1px #137cbd, 0 0 0 3px rgba(19, 124, 189, 0.3), inset 0 1px 1px rgba(16, 22, 26, 0.2);
              box-shadow:0 0 0 1px #137cbd, 0 0 0 3px rgba(19, 124, 189, 0.3), inset 0 1px 1px rgba(16, 22, 26, 0.2); }
    .bp3-input-group.bp3-intent-primary .bp3-input[readonly]{
      -webkit-box-shadow:inset 0 0 0 1px #137cbd;
              box-shadow:inset 0 0 0 1px #137cbd; }
    .bp3-input-group.bp3-intent-primary .bp3-input:disabled, .bp3-input-group.bp3-intent-primary .bp3-input.bp3-disabled{
      -webkit-box-shadow:none;
              box-shadow:none; }
  .bp3-input-group.bp3-intent-primary > .bp3-icon{
    color:#106ba3; }
    .bp3-dark .bp3-input-group.bp3-intent-primary > .bp3-icon{
      color:#48aff0; }
  .bp3-input-group.bp3-intent-success .bp3-input{
    -webkit-box-shadow:0 0 0 0 rgba(15, 153, 96, 0), 0 0 0 0 rgba(15, 153, 96, 0), inset 0 0 0 1px #0f9960, inset 0 0 0 1px rgba(16, 22, 26, 0.15), inset 0 1px 1px rgba(16, 22, 26, 0.2);
            box-shadow:0 0 0 0 rgba(15, 153, 96, 0), 0 0 0 0 rgba(15, 153, 96, 0), inset 0 0 0 1px #0f9960, inset 0 0 0 1px rgba(16, 22, 26, 0.15), inset 0 1px 1px rgba(16, 22, 26, 0.2); }
    .bp3-input-group.bp3-intent-success .bp3-input:focus{
      -webkit-box-shadow:0 0 0 1px #0f9960, 0 0 0 3px rgba(15, 153, 96, 0.3), inset 0 1px 1px rgba(16, 22, 26, 0.2);
              box-shadow:0 0 0 1px #0f9960, 0 0 0 3px rgba(15, 153, 96, 0.3), inset 0 1px 1px rgba(16, 22, 26, 0.2); }
    .bp3-input-group.bp3-intent-success .bp3-input[readonly]{
      -webkit-box-shadow:inset 0 0 0 1px #0f9960;
              box-shadow:inset 0 0 0 1px #0f9960; }
    .bp3-input-group.bp3-intent-success .bp3-input:disabled, .bp3-input-group.bp3-intent-success .bp3-input.bp3-disabled{
      -webkit-box-shadow:none;
              box-shadow:none; }
  .bp3-input-group.bp3-intent-success > .bp3-icon{
    color:#0d8050; }
    .bp3-dark .bp3-input-group.bp3-intent-success > .bp3-icon{
      color:#3dcc91; }
  .bp3-input-group.bp3-intent-warning .bp3-input{
    -webkit-box-shadow:0 0 0 0 rgba(217, 130, 43, 0), 0 0 0 0 rgba(217, 130, 43, 0), inset 0 0 0 1px #d9822b, inset 0 0 0 1px rgba(16, 22, 26, 0.15), inset 0 1px 1px rgba(16, 22, 26, 0.2);
            box-shadow:0 0 0 0 rgba(217, 130, 43, 0), 0 0 0 0 rgba(217, 130, 43, 0), inset 0 0 0 1px #d9822b, inset 0 0 0 1px rgba(16, 22, 26, 0.15), inset 0 1px 1px rgba(16, 22, 26, 0.2); }
    .bp3-input-group.bp3-intent-warning .bp3-input:focus{
      -webkit-box-shadow:0 0 0 1px #d9822b, 0 0 0 3px rgba(217, 130, 43, 0.3), inset 0 1px 1px rgba(16, 22, 26, 0.2);
              box-shadow:0 0 0 1px #d9822b, 0 0 0 3px rgba(217, 130, 43, 0.3), inset 0 1px 1px rgba(16, 22, 26, 0.2); }
    .bp3-input-group.bp3-intent-warning .bp3-input[readonly]{
      -webkit-box-shadow:inset 0 0 0 1px #d9822b;
              box-shadow:inset 0 0 0 1px #d9822b; }
    .bp3-input-group.bp3-intent-warning .bp3-input:disabled, .bp3-input-group.bp3-intent-warning .bp3-input.bp3-disabled{
      -webkit-box-shadow:none;
              box-shadow:none; }
  .bp3-input-group.bp3-intent-warning > .bp3-icon{
    color:#bf7326; }
    .bp3-dark .bp3-input-group.bp3-intent-warning > .bp3-icon{
      color:#ffb366; }
  .bp3-input-group.bp3-intent-danger .bp3-input{
    -webkit-box-shadow:0 0 0 0 rgba(219, 55, 55, 0), 0 0 0 0 rgba(219, 55, 55, 0), inset 0 0 0 1px #db3737, inset 0 0 0 1px rgba(16, 22, 26, 0.15), inset 0 1px 1px rgba(16, 22, 26, 0.2);
            box-shadow:0 0 0 0 rgba(219, 55, 55, 0), 0 0 0 0 rgba(219, 55, 55, 0), inset 0 0 0 1px #db3737, inset 0 0 0 1px rgba(16, 22, 26, 0.15), inset 0 1px 1px rgba(16, 22, 26, 0.2); }
    .bp3-input-group.bp3-intent-danger .bp3-input:focus{
      -webkit-box-shadow:0 0 0 1px #db3737, 0 0 0 3px rgba(219, 55, 55, 0.3), inset 0 1px 1px rgba(16, 22, 26, 0.2);
              box-shadow:0 0 0 1px #db3737, 0 0 0 3px rgba(219, 55, 55, 0.3), inset 0 1px 1px rgba(16, 22, 26, 0.2); }
    .bp3-input-group.bp3-intent-danger .bp3-input[readonly]{
      -webkit-box-shadow:inset 0 0 0 1px #db3737;
              box-shadow:inset 0 0 0 1px #db3737; }
    .bp3-input-group.bp3-intent-danger .bp3-input:disabled, .bp3-input-group.bp3-intent-danger .bp3-input.bp3-disabled{
      -webkit-box-shadow:none;
              box-shadow:none; }
  .bp3-input-group.bp3-intent-danger > .bp3-icon{
    color:#c23030; }
    .bp3-dark .bp3-input-group.bp3-intent-danger > .bp3-icon{
      color:#ff7373; }
.bp3-input{
  -webkit-appearance:none;
     -moz-appearance:none;
          appearance:none;
  background:#ffffff;
  border:none;
  border-radius:3px;
  -webkit-box-shadow:0 0 0 0 rgba(19, 124, 189, 0), 0 0 0 0 rgba(19, 124, 189, 0), inset 0 0 0 1px rgba(16, 22, 26, 0.15), inset 0 1px 1px rgba(16, 22, 26, 0.2);
          box-shadow:0 0 0 0 rgba(19, 124, 189, 0), 0 0 0 0 rgba(19, 124, 189, 0), inset 0 0 0 1px rgba(16, 22, 26, 0.15), inset 0 1px 1px rgba(16, 22, 26, 0.2);
  color:#182026;
  font-size:14px;
  font-weight:400;
  height:30px;
  line-height:30px;
  outline:none;
  padding:0 10px;
  -webkit-transition:-webkit-box-shadow 100ms cubic-bezier(0.4, 1, 0.75, 0.9);
  transition:-webkit-box-shadow 100ms cubic-bezier(0.4, 1, 0.75, 0.9);
  transition:box-shadow 100ms cubic-bezier(0.4, 1, 0.75, 0.9);
  transition:box-shadow 100ms cubic-bezier(0.4, 1, 0.75, 0.9), -webkit-box-shadow 100ms cubic-bezier(0.4, 1, 0.75, 0.9);
  vertical-align:middle; }
  .bp3-input::-webkit-input-placeholder{
    color:rgba(92, 112, 128, 0.6);
    opacity:1; }
  .bp3-input::-moz-placeholder{
    color:rgba(92, 112, 128, 0.6);
    opacity:1; }
  .bp3-input:-ms-input-placeholder{
    color:rgba(92, 112, 128, 0.6);
    opacity:1; }
  .bp3-input::-ms-input-placeholder{
    color:rgba(92, 112, 128, 0.6);
    opacity:1; }
  .bp3-input::placeholder{
    color:rgba(92, 112, 128, 0.6);
    opacity:1; }
  .bp3-input:focus, .bp3-input.bp3-active{
    -webkit-box-shadow:0 0 0 1px #137cbd, 0 0 0 3px rgba(19, 124, 189, 0.3), inset 0 1px 1px rgba(16, 22, 26, 0.2);
            box-shadow:0 0 0 1px #137cbd, 0 0 0 3px rgba(19, 124, 189, 0.3), inset 0 1px 1px rgba(16, 22, 26, 0.2); }
  .bp3-input[type="search"], .bp3-input.bp3-round{
    border-radius:30px;
    -webkit-box-sizing:border-box;
            box-sizing:border-box;
    padding-left:10px; }
  .bp3-input[readonly]{
    -webkit-box-shadow:inset 0 0 0 1px rgba(16, 22, 26, 0.15);
            box-shadow:inset 0 0 0 1px rgba(16, 22, 26, 0.15); }
  .bp3-input:disabled, .bp3-input.bp3-disabled{
    background:rgba(206, 217, 224, 0.5);
    -webkit-box-shadow:none;
            box-shadow:none;
    color:rgba(92, 112, 128, 0.6);
    cursor:not-allowed;
    resize:none; }
  .bp3-input.bp3-large{
    font-size:16px;
    height:40px;
    line-height:40px; }
    .bp3-input.bp3-large[type="search"], .bp3-input.bp3-large.bp3-round{
      padding:0 15px; }
  .bp3-input.bp3-small{
    font-size:12px;
    height:24px;
    line-height:24px;
    padding-left:8px;
    padding-right:8px; }
    .bp3-input.bp3-small[type="search"], .bp3-input.bp3-small.bp3-round{
      padding:0 12px; }
  .bp3-input.bp3-fill{
    -webkit-box-flex:1;
        -ms-flex:1 1 auto;
            flex:1 1 auto;
    width:100%; }
  .bp3-dark .bp3-input{
    background:rgba(16, 22, 26, 0.3);
    -webkit-box-shadow:0 0 0 0 rgba(19, 124, 189, 0), 0 0 0 0 rgba(19, 124, 189, 0), 0 0 0 0 rgba(19, 124, 189, 0), inset 0 0 0 1px rgba(16, 22, 26, 0.3), inset 0 1px 1px rgba(16, 22, 26, 0.4);
            box-shadow:0 0 0 0 rgba(19, 124, 189, 0), 0 0 0 0 rgba(19, 124, 189, 0), 0 0 0 0 rgba(19, 124, 189, 0), inset 0 0 0 1px rgba(16, 22, 26, 0.3), inset 0 1px 1px rgba(16, 22, 26, 0.4);
    color:#f5f8fa; }
    .bp3-dark .bp3-input::-webkit-input-placeholder{
      color:rgba(167, 182, 194, 0.6); }
    .bp3-dark .bp3-input::-moz-placeholder{
      color:rgba(167, 182, 194, 0.6); }
    .bp3-dark .bp3-input:-ms-input-placeholder{
      color:rgba(167, 182, 194, 0.6); }
    .bp3-dark .bp3-input::-ms-input-placeholder{
      color:rgba(167, 182, 194, 0.6); }
    .bp3-dark .bp3-input::placeholder{
      color:rgba(167, 182, 194, 0.6); }
    .bp3-dark .bp3-input:focus{
      -webkit-box-shadow:0 0 0 1px #137cbd, 0 0 0 1px #137cbd, 0 0 0 3px rgba(19, 124, 189, 0.3), inset 0 0 0 1px rgba(16, 22, 26, 0.3), inset 0 1px 1px rgba(16, 22, 26, 0.4);
              box-shadow:0 0 0 1px #137cbd, 0 0 0 1px #137cbd, 0 0 0 3px rgba(19, 124, 189, 0.3), inset 0 0 0 1px rgba(16, 22, 26, 0.3), inset 0 1px 1px rgba(16, 22, 26, 0.4); }
    .bp3-dark .bp3-input[readonly]{
      -webkit-box-shadow:inset 0 0 0 1px rgba(16, 22, 26, 0.4);
              box-shadow:inset 0 0 0 1px rgba(16, 22, 26, 0.4); }
    .bp3-dark .bp3-input:disabled, .bp3-dark .bp3-input.bp3-disabled{
      background:rgba(57, 75, 89, 0.5);
      -webkit-box-shadow:none;
              box-shadow:none;
      color:rgba(167, 182, 194, 0.6); }
  .bp3-input.bp3-intent-primary{
    -webkit-box-shadow:0 0 0 0 rgba(19, 124, 189, 0), 0 0 0 0 rgba(19, 124, 189, 0), inset 0 0 0 1px #137cbd, inset 0 0 0 1px rgba(16, 22, 26, 0.15), inset 0 1px 1px rgba(16, 22, 26, 0.2);
            box-shadow:0 0 0 0 rgba(19, 124, 189, 0), 0 0 0 0 rgba(19, 124, 189, 0), inset 0 0 0 1px #137cbd, inset 0 0 0 1px rgba(16, 22, 26, 0.15), inset 0 1px 1px rgba(16, 22, 26, 0.2); }
    .bp3-input.bp3-intent-primary:focus{
      -webkit-box-shadow:0 0 0 1px #137cbd, 0 0 0 3px rgba(19, 124, 189, 0.3), inset 0 1px 1px rgba(16, 22, 26, 0.2);
              box-shadow:0 0 0 1px #137cbd, 0 0 0 3px rgba(19, 124, 189, 0.3), inset 0 1px 1px rgba(16, 22, 26, 0.2); }
    .bp3-input.bp3-intent-primary[readonly]{
      -webkit-box-shadow:inset 0 0 0 1px #137cbd;
              box-shadow:inset 0 0 0 1px #137cbd; }
    .bp3-input.bp3-intent-primary:disabled, .bp3-input.bp3-intent-primary.bp3-disabled{
      -webkit-box-shadow:none;
              box-shadow:none; }
    .bp3-dark .bp3-input.bp3-intent-primary{
      -webkit-box-shadow:0 0 0 0 rgba(19, 124, 189, 0), 0 0 0 0 rgba(19, 124, 189, 0), 0 0 0 0 rgba(19, 124, 189, 0), inset 0 0 0 1px #137cbd, inset 0 0 0 1px rgba(16, 22, 26, 0.3), inset 0 1px 1px rgba(16, 22, 26, 0.4);
              box-shadow:0 0 0 0 rgba(19, 124, 189, 0), 0 0 0 0 rgba(19, 124, 189, 0), 0 0 0 0 rgba(19, 124, 189, 0), inset 0 0 0 1px #137cbd, inset 0 0 0 1px rgba(16, 22, 26, 0.3), inset 0 1px 1px rgba(16, 22, 26, 0.4); }
      .bp3-dark .bp3-input.bp3-intent-primary:focus{
        -webkit-box-shadow:0 0 0 1px #137cbd, 0 0 0 1px #137cbd, 0 0 0 3px rgba(19, 124, 189, 0.3), inset 0 0 0 1px rgba(16, 22, 26, 0.3), inset 0 1px 1px rgba(16, 22, 26, 0.4);
                box-shadow:0 0 0 1px #137cbd, 0 0 0 1px #137cbd, 0 0 0 3px rgba(19, 124, 189, 0.3), inset 0 0 0 1px rgba(16, 22, 26, 0.3), inset 0 1px 1px rgba(16, 22, 26, 0.4); }
      .bp3-dark .bp3-input.bp3-intent-primary[readonly]{
        -webkit-box-shadow:inset 0 0 0 1px #137cbd;
                box-shadow:inset 0 0 0 1px #137cbd; }
      .bp3-dark .bp3-input.bp3-intent-primary:disabled, .bp3-dark .bp3-input.bp3-intent-primary.bp3-disabled{
        -webkit-box-shadow:none;
                box-shadow:none; }
  .bp3-input.bp3-intent-success{
    -webkit-box-shadow:0 0 0 0 rgba(15, 153, 96, 0), 0 0 0 0 rgba(15, 153, 96, 0), inset 0 0 0 1px #0f9960, inset 0 0 0 1px rgba(16, 22, 26, 0.15), inset 0 1px 1px rgba(16, 22, 26, 0.2);
            box-shadow:0 0 0 0 rgba(15, 153, 96, 0), 0 0 0 0 rgba(15, 153, 96, 0), inset 0 0 0 1px #0f9960, inset 0 0 0 1px rgba(16, 22, 26, 0.15), inset 0 1px 1px rgba(16, 22, 26, 0.2); }
    .bp3-input.bp3-intent-success:focus{
      -webkit-box-shadow:0 0 0 1px #0f9960, 0 0 0 3px rgba(15, 153, 96, 0.3), inset 0 1px 1px rgba(16, 22, 26, 0.2);
              box-shadow:0 0 0 1px #0f9960, 0 0 0 3px rgba(15, 153, 96, 0.3), inset 0 1px 1px rgba(16, 22, 26, 0.2); }
    .bp3-input.bp3-intent-success[readonly]{
      -webkit-box-shadow:inset 0 0 0 1px #0f9960;
              box-shadow:inset 0 0 0 1px #0f9960; }
    .bp3-input.bp3-intent-success:disabled, .bp3-input.bp3-intent-success.bp3-disabled{
      -webkit-box-shadow:none;
              box-shadow:none; }
    .bp3-dark .bp3-input.bp3-intent-success{
      -webkit-box-shadow:0 0 0 0 rgba(15, 153, 96, 0), 0 0 0 0 rgba(15, 153, 96, 0), 0 0 0 0 rgba(15, 153, 96, 0), inset 0 0 0 1px #0f9960, inset 0 0 0 1px rgba(16, 22, 26, 0.3), inset 0 1px 1px rgba(16, 22, 26, 0.4);
              box-shadow:0 0 0 0 rgba(15, 153, 96, 0), 0 0 0 0 rgba(15, 153, 96, 0), 0 0 0 0 rgba(15, 153, 96, 0), inset 0 0 0 1px #0f9960, inset 0 0 0 1px rgba(16, 22, 26, 0.3), inset 0 1px 1px rgba(16, 22, 26, 0.4); }
      .bp3-dark .bp3-input.bp3-intent-success:focus{
        -webkit-box-shadow:0 0 0 1px #0f9960, 0 0 0 1px #0f9960, 0 0 0 3px rgba(15, 153, 96, 0.3), inset 0 0 0 1px rgba(16, 22, 26, 0.3), inset 0 1px 1px rgba(16, 22, 26, 0.4);
                box-shadow:0 0 0 1px #0f9960, 0 0 0 1px #0f9960, 0 0 0 3px rgba(15, 153, 96, 0.3), inset 0 0 0 1px rgba(16, 22, 26, 0.3), inset 0 1px 1px rgba(16, 22, 26, 0.4); }
      .bp3-dark .bp3-input.bp3-intent-success[readonly]{
        -webkit-box-shadow:inset 0 0 0 1px #0f9960;
                box-shadow:inset 0 0 0 1px #0f9960; }
      .bp3-dark .bp3-input.bp3-intent-success:disabled, .bp3-dark .bp3-input.bp3-intent-success.bp3-disabled{
        -webkit-box-shadow:none;
                box-shadow:none; }
  .bp3-input.bp3-intent-warning{
    -webkit-box-shadow:0 0 0 0 rgba(217, 130, 43, 0), 0 0 0 0 rgba(217, 130, 43, 0), inset 0 0 0 1px #d9822b, inset 0 0 0 1px rgba(16, 22, 26, 0.15), inset 0 1px 1px rgba(16, 22, 26, 0.2);
            box-shadow:0 0 0 0 rgba(217, 130, 43, 0), 0 0 0 0 rgba(217, 130, 43, 0), inset 0 0 0 1px #d9822b, inset 0 0 0 1px rgba(16, 22, 26, 0.15), inset 0 1px 1px rgba(16, 22, 26, 0.2); }
    .bp3-input.bp3-intent-warning:focus{
      -webkit-box-shadow:0 0 0 1px #d9822b, 0 0 0 3px rgba(217, 130, 43, 0.3), inset 0 1px 1px rgba(16, 22, 26, 0.2);
              box-shadow:0 0 0 1px #d9822b, 0 0 0 3px rgba(217, 130, 43, 0.3), inset 0 1px 1px rgba(16, 22, 26, 0.2); }
    .bp3-input.bp3-intent-warning[readonly]{
      -webkit-box-shadow:inset 0 0 0 1px #d9822b;
              box-shadow:inset 0 0 0 1px #d9822b; }
    .bp3-input.bp3-intent-warning:disabled, .bp3-input.bp3-intent-warning.bp3-disabled{
      -webkit-box-shadow:none;
              box-shadow:none; }
    .bp3-dark .bp3-input.bp3-intent-warning{
      -webkit-box-shadow:0 0 0 0 rgba(217, 130, 43, 0), 0 0 0 0 rgba(217, 130, 43, 0), 0 0 0 0 rgba(217, 130, 43, 0), inset 0 0 0 1px #d9822b, inset 0 0 0 1px rgba(16, 22, 26, 0.3), inset 0 1px 1px rgba(16, 22, 26, 0.4);
              box-shadow:0 0 0 0 rgba(217, 130, 43, 0), 0 0 0 0 rgba(217, 130, 43, 0), 0 0 0 0 rgba(217, 130, 43, 0), inset 0 0 0 1px #d9822b, inset 0 0 0 1px rgba(16, 22, 26, 0.3), inset 0 1px 1px rgba(16, 22, 26, 0.4); }
      .bp3-dark .bp3-input.bp3-intent-warning:focus{
        -webkit-box-shadow:0 0 0 1px #d9822b, 0 0 0 1px #d9822b, 0 0 0 3px rgba(217, 130, 43, 0.3), inset 0 0 0 1px rgba(16, 22, 26, 0.3), inset 0 1px 1px rgba(16, 22, 26, 0.4);
                box-shadow:0 0 0 1px #d9822b, 0 0 0 1px #d9822b, 0 0 0 3px rgba(217, 130, 43, 0.3), inset 0 0 0 1px rgba(16, 22, 26, 0.3), inset 0 1px 1px rgba(16, 22, 26, 0.4); }
      .bp3-dark .bp3-input.bp3-intent-warning[readonly]{
        -webkit-box-shadow:inset 0 0 0 1px #d9822b;
                box-shadow:inset 0 0 0 1px #d9822b; }
      .bp3-dark .bp3-input.bp3-intent-warning:disabled, .bp3-dark .bp3-input.bp3-intent-warning.bp3-disabled{
        -webkit-box-shadow:none;
                box-shadow:none; }
  .bp3-input.bp3-intent-danger{
    -webkit-box-shadow:0 0 0 0 rgba(219, 55, 55, 0), 0 0 0 0 rgba(219, 55, 55, 0), inset 0 0 0 1px #db3737, inset 0 0 0 1px rgba(16, 22, 26, 0.15), inset 0 1px 1px rgba(16, 22, 26, 0.2);
            box-shadow:0 0 0 0 rgba(219, 55, 55, 0), 0 0 0 0 rgba(219, 55, 55, 0), inset 0 0 0 1px #db3737, inset 0 0 0 1px rgba(16, 22, 26, 0.15), inset 0 1px 1px rgba(16, 22, 26, 0.2); }
    .bp3-input.bp3-intent-danger:focus{
      -webkit-box-shadow:0 0 0 1px #db3737, 0 0 0 3px rgba(219, 55, 55, 0.3), inset 0 1px 1px rgba(16, 22, 26, 0.2);
              box-shadow:0 0 0 1px #db3737, 0 0 0 3px rgba(219, 55, 55, 0.3), inset 0 1px 1px rgba(16, 22, 26, 0.2); }
    .bp3-input.bp3-intent-danger[readonly]{
      -webkit-box-shadow:inset 0 0 0 1px #db3737;
              box-shadow:inset 0 0 0 1px #db3737; }
    .bp3-input.bp3-intent-danger:disabled, .bp3-input.bp3-intent-danger.bp3-disabled{
      -webkit-box-shadow:none;
              box-shadow:none; }
    .bp3-dark .bp3-input.bp3-intent-danger{
      -webkit-box-shadow:0 0 0 0 rgba(219, 55, 55, 0), 0 0 0 0 rgba(219, 55, 55, 0), 0 0 0 0 rgba(219, 55, 55, 0), inset 0 0 0 1px #db3737, inset 0 0 0 1px rgba(16, 22, 26, 0.3), inset 0 1px 1px rgba(16, 22, 26, 0.4);
              box-shadow:0 0 0 0 rgba(219, 55, 55, 0), 0 0 0 0 rgba(219, 55, 55, 0), 0 0 0 0 rgba(219, 55, 55, 0), inset 0 0 0 1px #db3737, inset 0 0 0 1px rgba(16, 22, 26, 0.3), inset 0 1px 1px rgba(16, 22, 26, 0.4); }
      .bp3-dark .bp3-input.bp3-intent-danger:focus{
        -webkit-box-shadow:0 0 0 1px #db3737, 0 0 0 1px #db3737, 0 0 0 3px rgba(219, 55, 55, 0.3), inset 0 0 0 1px rgba(16, 22, 26, 0.3), inset 0 1px 1px rgba(16, 22, 26, 0.4);
                box-shadow:0 0 0 1px #db3737, 0 0 0 1px #db3737, 0 0 0 3px rgba(219, 55, 55, 0.3), inset 0 0 0 1px rgba(16, 22, 26, 0.3), inset 0 1px 1px rgba(16, 22, 26, 0.4); }
      .bp3-dark .bp3-input.bp3-intent-danger[readonly]{
        -webkit-box-shadow:inset 0 0 0 1px #db3737;
                box-shadow:inset 0 0 0 1px #db3737; }
      .bp3-dark .bp3-input.bp3-intent-danger:disabled, .bp3-dark .bp3-input.bp3-intent-danger.bp3-disabled{
        -webkit-box-shadow:none;
                box-shadow:none; }
  .bp3-input::-ms-clear{
    display:none; }
textarea.bp3-input{
  max-width:100%;
  padding:10px; }
  textarea.bp3-input, textarea.bp3-input.bp3-large, textarea.bp3-input.bp3-small{
    height:auto;
    line-height:inherit; }
  textarea.bp3-input.bp3-small{
    padding:8px; }
  .bp3-dark textarea.bp3-input{
    background:rgba(16, 22, 26, 0.3);
    -webkit-box-shadow:0 0 0 0 rgba(19, 124, 189, 0), 0 0 0 0 rgba(19, 124, 189, 0), 0 0 0 0 rgba(19, 124, 189, 0), inset 0 0 0 1px rgba(16, 22, 26, 0.3), inset 0 1px 1px rgba(16, 22, 26, 0.4);
            box-shadow:0 0 0 0 rgba(19, 124, 189, 0), 0 0 0 0 rgba(19, 124, 189, 0), 0 0 0 0 rgba(19, 124, 189, 0), inset 0 0 0 1px rgba(16, 22, 26, 0.3), inset 0 1px 1px rgba(16, 22, 26, 0.4);
    color:#f5f8fa; }
    .bp3-dark textarea.bp3-input::-webkit-input-placeholder{
      color:rgba(167, 182, 194, 0.6); }
    .bp3-dark textarea.bp3-input::-moz-placeholder{
      color:rgba(167, 182, 194, 0.6); }
    .bp3-dark textarea.bp3-input:-ms-input-placeholder{
      color:rgba(167, 182, 194, 0.6); }
    .bp3-dark textarea.bp3-input::-ms-input-placeholder{
      color:rgba(167, 182, 194, 0.6); }
    .bp3-dark textarea.bp3-input::placeholder{
      color:rgba(167, 182, 194, 0.6); }
    .bp3-dark textarea.bp3-input:focus{
      -webkit-box-shadow:0 0 0 1px #137cbd, 0 0 0 1px #137cbd, 0 0 0 3px rgba(19, 124, 189, 0.3), inset 0 0 0 1px rgba(16, 22, 26, 0.3), inset 0 1px 1px rgba(16, 22, 26, 0.4);
              box-shadow:0 0 0 1px #137cbd, 0 0 0 1px #137cbd, 0 0 0 3px rgba(19, 124, 189, 0.3), inset 0 0 0 1px rgba(16, 22, 26, 0.3), inset 0 1px 1px rgba(16, 22, 26, 0.4); }
    .bp3-dark textarea.bp3-input[readonly]{
      -webkit-box-shadow:inset 0 0 0 1px rgba(16, 22, 26, 0.4);
              box-shadow:inset 0 0 0 1px rgba(16, 22, 26, 0.4); }
    .bp3-dark textarea.bp3-input:disabled, .bp3-dark textarea.bp3-input.bp3-disabled{
      background:rgba(57, 75, 89, 0.5);
      -webkit-box-shadow:none;
              box-shadow:none;
      color:rgba(167, 182, 194, 0.6); }
label.bp3-label{
  display:block;
  margin-bottom:15px;
  margin-top:0; }
  label.bp3-label .bp3-html-select,
  label.bp3-label .bp3-input,
  label.bp3-label .bp3-select,
  label.bp3-label .bp3-slider,
  label.bp3-label .bp3-popover-wrapper{
    display:block;
    margin-top:5px;
    text-transform:none; }
  label.bp3-label .bp3-button-group{
    margin-top:5px; }
  label.bp3-label .bp3-select select,
  label.bp3-label .bp3-html-select select{
    font-weight:400;
    vertical-align:top;
    width:100%; }
  label.bp3-label.bp3-disabled,
  label.bp3-label.bp3-disabled .bp3-text-muted{
    color:rgba(92, 112, 128, 0.6); }
  label.bp3-label.bp3-inline{
    line-height:30px; }
    label.bp3-label.bp3-inline .bp3-html-select,
    label.bp3-label.bp3-inline .bp3-input,
    label.bp3-label.bp3-inline .bp3-input-group,
    label.bp3-label.bp3-inline .bp3-select,
    label.bp3-label.bp3-inline .bp3-popover-wrapper{
      display:inline-block;
      margin:0 0 0 5px;
      vertical-align:top; }
    label.bp3-label.bp3-inline .bp3-button-group{
      margin:0 0 0 5px; }
    label.bp3-label.bp3-inline .bp3-input-group .bp3-input{
      margin-left:0; }
    label.bp3-label.bp3-inline.bp3-large{
      line-height:40px; }
  label.bp3-label:not(.bp3-inline) .bp3-popover-target{
    display:block; }
  .bp3-dark label.bp3-label{
    color:#f5f8fa; }
    .bp3-dark label.bp3-label.bp3-disabled,
    .bp3-dark label.bp3-label.bp3-disabled .bp3-text-muted{
      color:rgba(167, 182, 194, 0.6); }
.bp3-numeric-input .bp3-button-group.bp3-vertical > .bp3-button{
  -webkit-box-flex:1;
      -ms-flex:1 1 14px;
          flex:1 1 14px;
  min-height:0;
  padding:0;
  width:30px; }
  .bp3-numeric-input .bp3-button-group.bp3-vertical > .bp3-button:first-child{
    border-radius:0 3px 0 0; }
  .bp3-numeric-input .bp3-button-group.bp3-vertical > .bp3-button:last-child{
    border-radius:0 0 3px 0; }

.bp3-numeric-input .bp3-button-group.bp3-vertical:first-child > .bp3-button:first-child{
  border-radius:3px 0 0 0; }

.bp3-numeric-input .bp3-button-group.bp3-vertical:first-child > .bp3-button:last-child{
  border-radius:0 0 0 3px; }

.bp3-numeric-input.bp3-large .bp3-button-group.bp3-vertical > .bp3-button{
  width:40px; }

form{
  display:block; }
.bp3-html-select select,
.bp3-select select{
  display:-webkit-inline-box;
  display:-ms-inline-flexbox;
  display:inline-flex;
  -webkit-box-orient:horizontal;
  -webkit-box-direction:normal;
      -ms-flex-direction:row;
          flex-direction:row;
  -webkit-box-align:center;
      -ms-flex-align:center;
          align-items:center;
  border:none;
  border-radius:3px;
  cursor:pointer;
  font-size:14px;
  -webkit-box-pack:center;
      -ms-flex-pack:center;
          justify-content:center;
  padding:5px 10px;
  text-align:left;
  vertical-align:middle;
  background-color:#f5f8fa;
  background-image:-webkit-gradient(linear, left top, left bottom, from(rgba(255, 255, 255, 0.8)), to(rgba(255, 255, 255, 0)));
  background-image:linear-gradient(to bottom, rgba(255, 255, 255, 0.8), rgba(255, 255, 255, 0));
  -webkit-box-shadow:inset 0 0 0 1px rgba(16, 22, 26, 0.2), inset 0 -1px 0 rgba(16, 22, 26, 0.1);
          box-shadow:inset 0 0 0 1px rgba(16, 22, 26, 0.2), inset 0 -1px 0 rgba(16, 22, 26, 0.1);
  color:#182026;
  -moz-appearance:none;
  -webkit-appearance:none;
  border-radius:3px;
  height:30px;
  padding:0 25px 0 10px;
  width:100%; }
  .bp3-html-select select > *, .bp3-select select > *{
    -webkit-box-flex:0;
        -ms-flex-positive:0;
            flex-grow:0;
    -ms-flex-negative:0;
        flex-shrink:0; }
  .bp3-html-select select > .bp3-fill, .bp3-select select > .bp3-fill{
    -webkit-box-flex:1;
        -ms-flex-positive:1;
            flex-grow:1;
    -ms-flex-negative:1;
        flex-shrink:1; }
  .bp3-html-select select::before,
  .bp3-select select::before, .bp3-html-select select > *, .bp3-select select > *{
    margin-right:7px; }
  .bp3-html-select select:empty::before,
  .bp3-select select:empty::before,
  .bp3-html-select select > :last-child,
  .bp3-select select > :last-child{
    margin-right:0; }
  .bp3-html-select select:hover,
  .bp3-select select:hover{
    background-clip:padding-box;
    background-color:#ebf1f5;
    -webkit-box-shadow:inset 0 0 0 1px rgba(16, 22, 26, 0.2), inset 0 -1px 0 rgba(16, 22, 26, 0.1);
            box-shadow:inset 0 0 0 1px rgba(16, 22, 26, 0.2), inset 0 -1px 0 rgba(16, 22, 26, 0.1); }
  .bp3-html-select select:active,
  .bp3-select select:active, .bp3-html-select select.bp3-active,
  .bp3-select select.bp3-active{
    background-color:#d8e1e8;
    background-image:none;
    -webkit-box-shadow:inset 0 0 0 1px rgba(16, 22, 26, 0.2), inset 0 1px 2px rgba(16, 22, 26, 0.2);
            box-shadow:inset 0 0 0 1px rgba(16, 22, 26, 0.2), inset 0 1px 2px rgba(16, 22, 26, 0.2); }
  .bp3-html-select select:disabled,
  .bp3-select select:disabled, .bp3-html-select select.bp3-disabled,
  .bp3-select select.bp3-disabled{
    background-color:rgba(206, 217, 224, 0.5);
    background-image:none;
    -webkit-box-shadow:none;
            box-shadow:none;
    color:rgba(92, 112, 128, 0.6);
    cursor:not-allowed;
    outline:none; }
    .bp3-html-select select:disabled.bp3-active,
    .bp3-select select:disabled.bp3-active, .bp3-html-select select:disabled.bp3-active:hover,
    .bp3-select select:disabled.bp3-active:hover, .bp3-html-select select.bp3-disabled.bp3-active,
    .bp3-select select.bp3-disabled.bp3-active, .bp3-html-select select.bp3-disabled.bp3-active:hover,
    .bp3-select select.bp3-disabled.bp3-active:hover{
      background:rgba(206, 217, 224, 0.7); }

.bp3-html-select.bp3-minimal select,
.bp3-select.bp3-minimal select{
  background:none;
  -webkit-box-shadow:none;
          box-shadow:none; }
  .bp3-html-select.bp3-minimal select:hover,
  .bp3-select.bp3-minimal select:hover{
    background:rgba(167, 182, 194, 0.3);
    -webkit-box-shadow:none;
            box-shadow:none;
    color:#182026;
    text-decoration:none; }
  .bp3-html-select.bp3-minimal select:active,
  .bp3-select.bp3-minimal select:active, .bp3-html-select.bp3-minimal select.bp3-active,
  .bp3-select.bp3-minimal select.bp3-active{
    background:rgba(115, 134, 148, 0.3);
    -webkit-box-shadow:none;
            box-shadow:none;
    color:#182026; }
  .bp3-html-select.bp3-minimal select:disabled,
  .bp3-select.bp3-minimal select:disabled, .bp3-html-select.bp3-minimal select:disabled:hover,
  .bp3-select.bp3-minimal select:disabled:hover, .bp3-html-select.bp3-minimal select.bp3-disabled,
  .bp3-select.bp3-minimal select.bp3-disabled, .bp3-html-select.bp3-minimal select.bp3-disabled:hover,
  .bp3-select.bp3-minimal select.bp3-disabled:hover{
    background:none;
    color:rgba(92, 112, 128, 0.6);
    cursor:not-allowed; }
    .bp3-html-select.bp3-minimal select:disabled.bp3-active,
    .bp3-select.bp3-minimal select:disabled.bp3-active, .bp3-html-select.bp3-minimal select:disabled:hover.bp3-active,
    .bp3-select.bp3-minimal select:disabled:hover.bp3-active, .bp3-html-select.bp3-minimal select.bp3-disabled.bp3-active,
    .bp3-select.bp3-minimal select.bp3-disabled.bp3-active, .bp3-html-select.bp3-minimal select.bp3-disabled:hover.bp3-active,
    .bp3-select.bp3-minimal select.bp3-disabled:hover.bp3-active{
      background:rgba(115, 134, 148, 0.3); }
  .bp3-dark .bp3-html-select.bp3-minimal select, .bp3-html-select.bp3-minimal .bp3-dark select,
  .bp3-dark .bp3-select.bp3-minimal select, .bp3-select.bp3-minimal .bp3-dark select{
    background:none;
    -webkit-box-shadow:none;
            box-shadow:none;
    color:inherit; }
    .bp3-dark .bp3-html-select.bp3-minimal select:hover, .bp3-html-select.bp3-minimal .bp3-dark select:hover,
    .bp3-dark .bp3-select.bp3-minimal select:hover, .bp3-select.bp3-minimal .bp3-dark select:hover, .bp3-dark .bp3-html-select.bp3-minimal select:active, .bp3-html-select.bp3-minimal .bp3-dark select:active,
    .bp3-dark .bp3-select.bp3-minimal select:active, .bp3-select.bp3-minimal .bp3-dark select:active, .bp3-dark .bp3-html-select.bp3-minimal select.bp3-active, .bp3-html-select.bp3-minimal .bp3-dark select.bp3-active,
    .bp3-dark .bp3-select.bp3-minimal select.bp3-active, .bp3-select.bp3-minimal .bp3-dark select.bp3-active{
      background:none;
      -webkit-box-shadow:none;
              box-shadow:none; }
    .bp3-dark .bp3-html-select.bp3-minimal select:hover, .bp3-html-select.bp3-minimal .bp3-dark select:hover,
    .bp3-dark .bp3-select.bp3-minimal select:hover, .bp3-select.bp3-minimal .bp3-dark select:hover{
      background:rgba(138, 155, 168, 0.15); }
    .bp3-dark .bp3-html-select.bp3-minimal select:active, .bp3-html-select.bp3-minimal .bp3-dark select:active,
    .bp3-dark .bp3-select.bp3-minimal select:active, .bp3-select.bp3-minimal .bp3-dark select:active, .bp3-dark .bp3-html-select.bp3-minimal select.bp3-active, .bp3-html-select.bp3-minimal .bp3-dark select.bp3-active,
    .bp3-dark .bp3-select.bp3-minimal select.bp3-active, .bp3-select.bp3-minimal .bp3-dark select.bp3-active{
      background:rgba(138, 155, 168, 0.3);
      color:#f5f8fa; }
    .bp3-dark .bp3-html-select.bp3-minimal select:disabled, .bp3-html-select.bp3-minimal .bp3-dark select:disabled,
    .bp3-dark .bp3-select.bp3-minimal select:disabled, .bp3-select.bp3-minimal .bp3-dark select:disabled, .bp3-dark .bp3-html-select.bp3-minimal select:disabled:hover, .bp3-html-select.bp3-minimal .bp3-dark select:disabled:hover,
    .bp3-dark .bp3-select.bp3-minimal select:disabled:hover, .bp3-select.bp3-minimal .bp3-dark select:disabled:hover, .bp3-dark .bp3-html-select.bp3-minimal select.bp3-disabled, .bp3-html-select.bp3-minimal .bp3-dark select.bp3-disabled,
    .bp3-dark .bp3-select.bp3-minimal select.bp3-disabled, .bp3-select.bp3-minimal .bp3-dark select.bp3-disabled, .bp3-dark .bp3-html-select.bp3-minimal select.bp3-disabled:hover, .bp3-html-select.bp3-minimal .bp3-dark select.bp3-disabled:hover,
    .bp3-dark .bp3-select.bp3-minimal select.bp3-disabled:hover, .bp3-select.bp3-minimal .bp3-dark select.bp3-disabled:hover{
      background:none;
      color:rgba(167, 182, 194, 0.6);
      cursor:not-allowed; }
      .bp3-dark .bp3-html-select.bp3-minimal select:disabled.bp3-active, .bp3-html-select.bp3-minimal .bp3-dark select:disabled.bp3-active,
      .bp3-dark .bp3-select.bp3-minimal select:disabled.bp3-active, .bp3-select.bp3-minimal .bp3-dark select:disabled.bp3-active, .bp3-dark .bp3-html-select.bp3-minimal select:disabled:hover.bp3-active, .bp3-html-select.bp3-minimal .bp3-dark select:disabled:hover.bp3-active,
      .bp3-dark .bp3-select.bp3-minimal select:disabled:hover.bp3-active, .bp3-select.bp3-minimal .bp3-dark select:disabled:hover.bp3-active, .bp3-dark .bp3-html-select.bp3-minimal select.bp3-disabled.bp3-active, .bp3-html-select.bp3-minimal .bp3-dark select.bp3-disabled.bp3-active,
      .bp3-dark .bp3-select.bp3-minimal select.bp3-disabled.bp3-active, .bp3-select.bp3-minimal .bp3-dark select.bp3-disabled.bp3-active, .bp3-dark .bp3-html-select.bp3-minimal select.bp3-disabled:hover.bp3-active, .bp3-html-select.bp3-minimal .bp3-dark select.bp3-disabled:hover.bp3-active,
      .bp3-dark .bp3-select.bp3-minimal select.bp3-disabled:hover.bp3-active, .bp3-select.bp3-minimal .bp3-dark select.bp3-disabled:hover.bp3-active{
        background:rgba(138, 155, 168, 0.3); }
  .bp3-html-select.bp3-minimal select.bp3-intent-primary,
  .bp3-select.bp3-minimal select.bp3-intent-primary{
    color:#106ba3; }
    .bp3-html-select.bp3-minimal select.bp3-intent-primary:hover,
    .bp3-select.bp3-minimal select.bp3-intent-primary:hover, .bp3-html-select.bp3-minimal select.bp3-intent-primary:active,
    .bp3-select.bp3-minimal select.bp3-intent-primary:active, .bp3-html-select.bp3-minimal select.bp3-intent-primary.bp3-active,
    .bp3-select.bp3-minimal select.bp3-intent-primary.bp3-active{
      background:none;
      -webkit-box-shadow:none;
              box-shadow:none;
      color:#106ba3; }
    .bp3-html-select.bp3-minimal select.bp3-intent-primary:hover,
    .bp3-select.bp3-minimal select.bp3-intent-primary:hover{
      background:rgba(19, 124, 189, 0.15);
      color:#106ba3; }
    .bp3-html-select.bp3-minimal select.bp3-intent-primary:active,
    .bp3-select.bp3-minimal select.bp3-intent-primary:active, .bp3-html-select.bp3-minimal select.bp3-intent-primary.bp3-active,
    .bp3-select.bp3-minimal select.bp3-intent-primary.bp3-active{
      background:rgba(19, 124, 189, 0.3);
      color:#106ba3; }
    .bp3-html-select.bp3-minimal select.bp3-intent-primary:disabled,
    .bp3-select.bp3-minimal select.bp3-intent-primary:disabled, .bp3-html-select.bp3-minimal select.bp3-intent-primary.bp3-disabled,
    .bp3-select.bp3-minimal select.bp3-intent-primary.bp3-disabled{
      background:none;
      color:rgba(16, 107, 163, 0.5); }
      .bp3-html-select.bp3-minimal select.bp3-intent-primary:disabled.bp3-active,
      .bp3-select.bp3-minimal select.bp3-intent-primary:disabled.bp3-active, .bp3-html-select.bp3-minimal select.bp3-intent-primary.bp3-disabled.bp3-active,
      .bp3-select.bp3-minimal select.bp3-intent-primary.bp3-disabled.bp3-active{
        background:rgba(19, 124, 189, 0.3); }
    .bp3-html-select.bp3-minimal select.bp3-intent-primary .bp3-button-spinner .bp3-spinner-head, .bp3-select.bp3-minimal select.bp3-intent-primary .bp3-button-spinner .bp3-spinner-head{
      stroke:#106ba3; }
    .bp3-dark .bp3-html-select.bp3-minimal select.bp3-intent-primary, .bp3-html-select.bp3-minimal .bp3-dark select.bp3-intent-primary,
    .bp3-dark .bp3-select.bp3-minimal select.bp3-intent-primary, .bp3-select.bp3-minimal .bp3-dark select.bp3-intent-primary{
      color:#48aff0; }
      .bp3-dark .bp3-html-select.bp3-minimal select.bp3-intent-primary:hover, .bp3-html-select.bp3-minimal .bp3-dark select.bp3-intent-primary:hover,
      .bp3-dark .bp3-select.bp3-minimal select.bp3-intent-primary:hover, .bp3-select.bp3-minimal .bp3-dark select.bp3-intent-primary:hover{
        background:rgba(19, 124, 189, 0.2);
        color:#48aff0; }
      .bp3-dark .bp3-html-select.bp3-minimal select.bp3-intent-primary:active, .bp3-html-select.bp3-minimal .bp3-dark select.bp3-intent-primary:active,
      .bp3-dark .bp3-select.bp3-minimal select.bp3-intent-primary:active, .bp3-select.bp3-minimal .bp3-dark select.bp3-intent-primary:active, .bp3-dark .bp3-html-select.bp3-minimal select.bp3-intent-primary.bp3-active, .bp3-html-select.bp3-minimal .bp3-dark select.bp3-intent-primary.bp3-active,
      .bp3-dark .bp3-select.bp3-minimal select.bp3-intent-primary.bp3-active, .bp3-select.bp3-minimal .bp3-dark select.bp3-intent-primary.bp3-active{
        background:rgba(19, 124, 189, 0.3);
        color:#48aff0; }
      .bp3-dark .bp3-html-select.bp3-minimal select.bp3-intent-primary:disabled, .bp3-html-select.bp3-minimal .bp3-dark select.bp3-intent-primary:disabled,
      .bp3-dark .bp3-select.bp3-minimal select.bp3-intent-primary:disabled, .bp3-select.bp3-minimal .bp3-dark select.bp3-intent-primary:disabled, .bp3-dark .bp3-html-select.bp3-minimal select.bp3-intent-primary.bp3-disabled, .bp3-html-select.bp3-minimal .bp3-dark select.bp3-intent-primary.bp3-disabled,
      .bp3-dark .bp3-select.bp3-minimal select.bp3-intent-primary.bp3-disabled, .bp3-select.bp3-minimal .bp3-dark select.bp3-intent-primary.bp3-disabled{
        background:none;
        color:rgba(72, 175, 240, 0.5); }
        .bp3-dark .bp3-html-select.bp3-minimal select.bp3-intent-primary:disabled.bp3-active, .bp3-html-select.bp3-minimal .bp3-dark select.bp3-intent-primary:disabled.bp3-active,
        .bp3-dark .bp3-select.bp3-minimal select.bp3-intent-primary:disabled.bp3-active, .bp3-select.bp3-minimal .bp3-dark select.bp3-intent-primary:disabled.bp3-active, .bp3-dark .bp3-html-select.bp3-minimal select.bp3-intent-primary.bp3-disabled.bp3-active, .bp3-html-select.bp3-minimal .bp3-dark select.bp3-intent-primary.bp3-disabled.bp3-active,
        .bp3-dark .bp3-select.bp3-minimal select.bp3-intent-primary.bp3-disabled.bp3-active, .bp3-select.bp3-minimal .bp3-dark select.bp3-intent-primary.bp3-disabled.bp3-active{
          background:rgba(19, 124, 189, 0.3); }
  .bp3-html-select.bp3-minimal select.bp3-intent-success,
  .bp3-select.bp3-minimal select.bp3-intent-success{
    color:#0d8050; }
    .bp3-html-select.bp3-minimal select.bp3-intent-success:hover,
    .bp3-select.bp3-minimal select.bp3-intent-success:hover, .bp3-html-select.bp3-minimal select.bp3-intent-success:active,
    .bp3-select.bp3-minimal select.bp3-intent-success:active, .bp3-html-select.bp3-minimal select.bp3-intent-success.bp3-active,
    .bp3-select.bp3-minimal select.bp3-intent-success.bp3-active{
      background:none;
      -webkit-box-shadow:none;
              box-shadow:none;
      color:#0d8050; }
    .bp3-html-select.bp3-minimal select.bp3-intent-success:hover,
    .bp3-select.bp3-minimal select.bp3-intent-success:hover{
      background:rgba(15, 153, 96, 0.15);
      color:#0d8050; }
    .bp3-html-select.bp3-minimal select.bp3-intent-success:active,
    .bp3-select.bp3-minimal select.bp3-intent-success:active, .bp3-html-select.bp3-minimal select.bp3-intent-success.bp3-active,
    .bp3-select.bp3-minimal select.bp3-intent-success.bp3-active{
      background:rgba(15, 153, 96, 0.3);
      color:#0d8050; }
    .bp3-html-select.bp3-minimal select.bp3-intent-success:disabled,
    .bp3-select.bp3-minimal select.bp3-intent-success:disabled, .bp3-html-select.bp3-minimal select.bp3-intent-success.bp3-disabled,
    .bp3-select.bp3-minimal select.bp3-intent-success.bp3-disabled{
      background:none;
      color:rgba(13, 128, 80, 0.5); }
      .bp3-html-select.bp3-minimal select.bp3-intent-success:disabled.bp3-active,
      .bp3-select.bp3-minimal select.bp3-intent-success:disabled.bp3-active, .bp3-html-select.bp3-minimal select.bp3-intent-success.bp3-disabled.bp3-active,
      .bp3-select.bp3-minimal select.bp3-intent-success.bp3-disabled.bp3-active{
        background:rgba(15, 153, 96, 0.3); }
    .bp3-html-select.bp3-minimal select.bp3-intent-success .bp3-button-spinner .bp3-spinner-head, .bp3-select.bp3-minimal select.bp3-intent-success .bp3-button-spinner .bp3-spinner-head{
      stroke:#0d8050; }
    .bp3-dark .bp3-html-select.bp3-minimal select.bp3-intent-success, .bp3-html-select.bp3-minimal .bp3-dark select.bp3-intent-success,
    .bp3-dark .bp3-select.bp3-minimal select.bp3-intent-success, .bp3-select.bp3-minimal .bp3-dark select.bp3-intent-success{
      color:#3dcc91; }
      .bp3-dark .bp3-html-select.bp3-minimal select.bp3-intent-success:hover, .bp3-html-select.bp3-minimal .bp3-dark select.bp3-intent-success:hover,
      .bp3-dark .bp3-select.bp3-minimal select.bp3-intent-success:hover, .bp3-select.bp3-minimal .bp3-dark select.bp3-intent-success:hover{
        background:rgba(15, 153, 96, 0.2);
        color:#3dcc91; }
      .bp3-dark .bp3-html-select.bp3-minimal select.bp3-intent-success:active, .bp3-html-select.bp3-minimal .bp3-dark select.bp3-intent-success:active,
      .bp3-dark .bp3-select.bp3-minimal select.bp3-intent-success:active, .bp3-select.bp3-minimal .bp3-dark select.bp3-intent-success:active, .bp3-dark .bp3-html-select.bp3-minimal select.bp3-intent-success.bp3-active, .bp3-html-select.bp3-minimal .bp3-dark select.bp3-intent-success.bp3-active,
      .bp3-dark .bp3-select.bp3-minimal select.bp3-intent-success.bp3-active, .bp3-select.bp3-minimal .bp3-dark select.bp3-intent-success.bp3-active{
        background:rgba(15, 153, 96, 0.3);
        color:#3dcc91; }
      .bp3-dark .bp3-html-select.bp3-minimal select.bp3-intent-success:disabled, .bp3-html-select.bp3-minimal .bp3-dark select.bp3-intent-success:disabled,
      .bp3-dark .bp3-select.bp3-minimal select.bp3-intent-success:disabled, .bp3-select.bp3-minimal .bp3-dark select.bp3-intent-success:disabled, .bp3-dark .bp3-html-select.bp3-minimal select.bp3-intent-success.bp3-disabled, .bp3-html-select.bp3-minimal .bp3-dark select.bp3-intent-success.bp3-disabled,
      .bp3-dark .bp3-select.bp3-minimal select.bp3-intent-success.bp3-disabled, .bp3-select.bp3-minimal .bp3-dark select.bp3-intent-success.bp3-disabled{
        background:none;
        color:rgba(61, 204, 145, 0.5); }
        .bp3-dark .bp3-html-select.bp3-minimal select.bp3-intent-success:disabled.bp3-active, .bp3-html-select.bp3-minimal .bp3-dark select.bp3-intent-success:disabled.bp3-active,
        .bp3-dark .bp3-select.bp3-minimal select.bp3-intent-success:disabled.bp3-active, .bp3-select.bp3-minimal .bp3-dark select.bp3-intent-success:disabled.bp3-active, .bp3-dark .bp3-html-select.bp3-minimal select.bp3-intent-success.bp3-disabled.bp3-active, .bp3-html-select.bp3-minimal .bp3-dark select.bp3-intent-success.bp3-disabled.bp3-active,
        .bp3-dark .bp3-select.bp3-minimal select.bp3-intent-success.bp3-disabled.bp3-active, .bp3-select.bp3-minimal .bp3-dark select.bp3-intent-success.bp3-disabled.bp3-active{
          background:rgba(15, 153, 96, 0.3); }
  .bp3-html-select.bp3-minimal select.bp3-intent-warning,
  .bp3-select.bp3-minimal select.bp3-intent-warning{
    color:#bf7326; }
    .bp3-html-select.bp3-minimal select.bp3-intent-warning:hover,
    .bp3-select.bp3-minimal select.bp3-intent-warning:hover, .bp3-html-select.bp3-minimal select.bp3-intent-warning:active,
    .bp3-select.bp3-minimal select.bp3-intent-warning:active, .bp3-html-select.bp3-minimal select.bp3-intent-warning.bp3-active,
    .bp3-select.bp3-minimal select.bp3-intent-warning.bp3-active{
      background:none;
      -webkit-box-shadow:none;
              box-shadow:none;
      color:#bf7326; }
    .bp3-html-select.bp3-minimal select.bp3-intent-warning:hover,
    .bp3-select.bp3-minimal select.bp3-intent-warning:hover{
      background:rgba(217, 130, 43, 0.15);
      color:#bf7326; }
    .bp3-html-select.bp3-minimal select.bp3-intent-warning:active,
    .bp3-select.bp3-minimal select.bp3-intent-warning:active, .bp3-html-select.bp3-minimal select.bp3-intent-warning.bp3-active,
    .bp3-select.bp3-minimal select.bp3-intent-warning.bp3-active{
      background:rgba(217, 130, 43, 0.3);
      color:#bf7326; }
    .bp3-html-select.bp3-minimal select.bp3-intent-warning:disabled,
    .bp3-select.bp3-minimal select.bp3-intent-warning:disabled, .bp3-html-select.bp3-minimal select.bp3-intent-warning.bp3-disabled,
    .bp3-select.bp3-minimal select.bp3-intent-warning.bp3-disabled{
      background:none;
      color:rgba(191, 115, 38, 0.5); }
      .bp3-html-select.bp3-minimal select.bp3-intent-warning:disabled.bp3-active,
      .bp3-select.bp3-minimal select.bp3-intent-warning:disabled.bp3-active, .bp3-html-select.bp3-minimal select.bp3-intent-warning.bp3-disabled.bp3-active,
      .bp3-select.bp3-minimal select.bp3-intent-warning.bp3-disabled.bp3-active{
        background:rgba(217, 130, 43, 0.3); }
    .bp3-html-select.bp3-minimal select.bp3-intent-warning .bp3-button-spinner .bp3-spinner-head, .bp3-select.bp3-minimal select.bp3-intent-warning .bp3-button-spinner .bp3-spinner-head{
      stroke:#bf7326; }
    .bp3-dark .bp3-html-select.bp3-minimal select.bp3-intent-warning, .bp3-html-select.bp3-minimal .bp3-dark select.bp3-intent-warning,
    .bp3-dark .bp3-select.bp3-minimal select.bp3-intent-warning, .bp3-select.bp3-minimal .bp3-dark select.bp3-intent-warning{
      color:#ffb366; }
      .bp3-dark .bp3-html-select.bp3-minimal select.bp3-intent-warning:hover, .bp3-html-select.bp3-minimal .bp3-dark select.bp3-intent-warning:hover,
      .bp3-dark .bp3-select.bp3-minimal select.bp3-intent-warning:hover, .bp3-select.bp3-minimal .bp3-dark select.bp3-intent-warning:hover{
        background:rgba(217, 130, 43, 0.2);
        color:#ffb366; }
      .bp3-dark .bp3-html-select.bp3-minimal select.bp3-intent-warning:active, .bp3-html-select.bp3-minimal .bp3-dark select.bp3-intent-warning:active,
      .bp3-dark .bp3-select.bp3-minimal select.bp3-intent-warning:active, .bp3-select.bp3-minimal .bp3-dark select.bp3-intent-warning:active, .bp3-dark .bp3-html-select.bp3-minimal select.bp3-intent-warning.bp3-active, .bp3-html-select.bp3-minimal .bp3-dark select.bp3-intent-warning.bp3-active,
      .bp3-dark .bp3-select.bp3-minimal select.bp3-intent-warning.bp3-active, .bp3-select.bp3-minimal .bp3-dark select.bp3-intent-warning.bp3-active{
        background:rgba(217, 130, 43, 0.3);
        color:#ffb366; }
      .bp3-dark .bp3-html-select.bp3-minimal select.bp3-intent-warning:disabled, .bp3-html-select.bp3-minimal .bp3-dark select.bp3-intent-warning:disabled,
      .bp3-dark .bp3-select.bp3-minimal select.bp3-intent-warning:disabled, .bp3-select.bp3-minimal .bp3-dark select.bp3-intent-warning:disabled, .bp3-dark .bp3-html-select.bp3-minimal select.bp3-intent-warning.bp3-disabled, .bp3-html-select.bp3-minimal .bp3-dark select.bp3-intent-warning.bp3-disabled,
      .bp3-dark .bp3-select.bp3-minimal select.bp3-intent-warning.bp3-disabled, .bp3-select.bp3-minimal .bp3-dark select.bp3-intent-warning.bp3-disabled{
        background:none;
        color:rgba(255, 179, 102, 0.5); }
        .bp3-dark .bp3-html-select.bp3-minimal select.bp3-intent-warning:disabled.bp3-active, .bp3-html-select.bp3-minimal .bp3-dark select.bp3-intent-warning:disabled.bp3-active,
        .bp3-dark .bp3-select.bp3-minimal select.bp3-intent-warning:disabled.bp3-active, .bp3-select.bp3-minimal .bp3-dark select.bp3-intent-warning:disabled.bp3-active, .bp3-dark .bp3-html-select.bp3-minimal select.bp3-intent-warning.bp3-disabled.bp3-active, .bp3-html-select.bp3-minimal .bp3-dark select.bp3-intent-warning.bp3-disabled.bp3-active,
        .bp3-dark .bp3-select.bp3-minimal select.bp3-intent-warning.bp3-disabled.bp3-active, .bp3-select.bp3-minimal .bp3-dark select.bp3-intent-warning.bp3-disabled.bp3-active{
          background:rgba(217, 130, 43, 0.3); }
  .bp3-html-select.bp3-minimal select.bp3-intent-danger,
  .bp3-select.bp3-minimal select.bp3-intent-danger{
    color:#c23030; }
    .bp3-html-select.bp3-minimal select.bp3-intent-danger:hover,
    .bp3-select.bp3-minimal select.bp3-intent-danger:hover, .bp3-html-select.bp3-minimal select.bp3-intent-danger:active,
    .bp3-select.bp3-minimal select.bp3-intent-danger:active, .bp3-html-select.bp3-minimal select.bp3-intent-danger.bp3-active,
    .bp3-select.bp3-minimal select.bp3-intent-danger.bp3-active{
      background:none;
      -webkit-box-shadow:none;
              box-shadow:none;
      color:#c23030; }
    .bp3-html-select.bp3-minimal select.bp3-intent-danger:hover,
    .bp3-select.bp3-minimal select.bp3-intent-danger:hover{
      background:rgba(219, 55, 55, 0.15);
      color:#c23030; }
    .bp3-html-select.bp3-minimal select.bp3-intent-danger:active,
    .bp3-select.bp3-minimal select.bp3-intent-danger:active, .bp3-html-select.bp3-minimal select.bp3-intent-danger.bp3-active,
    .bp3-select.bp3-minimal select.bp3-intent-danger.bp3-active{
      background:rgba(219, 55, 55, 0.3);
      color:#c23030; }
    .bp3-html-select.bp3-minimal select.bp3-intent-danger:disabled,
    .bp3-select.bp3-minimal select.bp3-intent-danger:disabled, .bp3-html-select.bp3-minimal select.bp3-intent-danger.bp3-disabled,
    .bp3-select.bp3-minimal select.bp3-intent-danger.bp3-disabled{
      background:none;
      color:rgba(194, 48, 48, 0.5); }
      .bp3-html-select.bp3-minimal select.bp3-intent-danger:disabled.bp3-active,
      .bp3-select.bp3-minimal select.bp3-intent-danger:disabled.bp3-active, .bp3-html-select.bp3-minimal select.bp3-intent-danger.bp3-disabled.bp3-active,
      .bp3-select.bp3-minimal select.bp3-intent-danger.bp3-disabled.bp3-active{
        background:rgba(219, 55, 55, 0.3); }
    .bp3-html-select.bp3-minimal select.bp3-intent-danger .bp3-button-spinner .bp3-spinner-head, .bp3-select.bp3-minimal select.bp3-intent-danger .bp3-button-spinner .bp3-spinner-head{
      stroke:#c23030; }
    .bp3-dark .bp3-html-select.bp3-minimal select.bp3-intent-danger, .bp3-html-select.bp3-minimal .bp3-dark select.bp3-intent-danger,
    .bp3-dark .bp3-select.bp3-minimal select.bp3-intent-danger, .bp3-select.bp3-minimal .bp3-dark select.bp3-intent-danger{
      color:#ff7373; }
      .bp3-dark .bp3-html-select.bp3-minimal select.bp3-intent-danger:hover, .bp3-html-select.bp3-minimal .bp3-dark select.bp3-intent-danger:hover,
      .bp3-dark .bp3-select.bp3-minimal select.bp3-intent-danger:hover, .bp3-select.bp3-minimal .bp3-dark select.bp3-intent-danger:hover{
        background:rgba(219, 55, 55, 0.2);
        color:#ff7373; }
      .bp3-dark .bp3-html-select.bp3-minimal select.bp3-intent-danger:active, .bp3-html-select.bp3-minimal .bp3-dark select.bp3-intent-danger:active,
      .bp3-dark .bp3-select.bp3-minimal select.bp3-intent-danger:active, .bp3-select.bp3-minimal .bp3-dark select.bp3-intent-danger:active, .bp3-dark .bp3-html-select.bp3-minimal select.bp3-intent-danger.bp3-active, .bp3-html-select.bp3-minimal .bp3-dark select.bp3-intent-danger.bp3-active,
      .bp3-dark .bp3-select.bp3-minimal select.bp3-intent-danger.bp3-active, .bp3-select.bp3-minimal .bp3-dark select.bp3-intent-danger.bp3-active{
        background:rgba(219, 55, 55, 0.3);
        color:#ff7373; }
      .bp3-dark .bp3-html-select.bp3-minimal select.bp3-intent-danger:disabled, .bp3-html-select.bp3-minimal .bp3-dark select.bp3-intent-danger:disabled,
      .bp3-dark .bp3-select.bp3-minimal select.bp3-intent-danger:disabled, .bp3-select.bp3-minimal .bp3-dark select.bp3-intent-danger:disabled, .bp3-dark .bp3-html-select.bp3-minimal select.bp3-intent-danger.bp3-disabled, .bp3-html-select.bp3-minimal .bp3-dark select.bp3-intent-danger.bp3-disabled,
      .bp3-dark .bp3-select.bp3-minimal select.bp3-intent-danger.bp3-disabled, .bp3-select.bp3-minimal .bp3-dark select.bp3-intent-danger.bp3-disabled{
        background:none;
        color:rgba(255, 115, 115, 0.5); }
        .bp3-dark .bp3-html-select.bp3-minimal select.bp3-intent-danger:disabled.bp3-active, .bp3-html-select.bp3-minimal .bp3-dark select.bp3-intent-danger:disabled.bp3-active,
        .bp3-dark .bp3-select.bp3-minimal select.bp3-intent-danger:disabled.bp3-active, .bp3-select.bp3-minimal .bp3-dark select.bp3-intent-danger:disabled.bp3-active, .bp3-dark .bp3-html-select.bp3-minimal select.bp3-intent-danger.bp3-disabled.bp3-active, .bp3-html-select.bp3-minimal .bp3-dark select.bp3-intent-danger.bp3-disabled.bp3-active,
        .bp3-dark .bp3-select.bp3-minimal select.bp3-intent-danger.bp3-disabled.bp3-active, .bp3-select.bp3-minimal .bp3-dark select.bp3-intent-danger.bp3-disabled.bp3-active{
          background:rgba(219, 55, 55, 0.3); }

.bp3-html-select.bp3-large select,
.bp3-select.bp3-large select{
  font-size:16px;
  height:40px;
  padding-right:35px; }

.bp3-dark .bp3-html-select select, .bp3-dark .bp3-select select{
  background-color:#394b59;
  background-image:-webkit-gradient(linear, left top, left bottom, from(rgba(255, 255, 255, 0.05)), to(rgba(255, 255, 255, 0)));
  background-image:linear-gradient(to bottom, rgba(255, 255, 255, 0.05), rgba(255, 255, 255, 0));
  -webkit-box-shadow:0 0 0 1px rgba(16, 22, 26, 0.4);
          box-shadow:0 0 0 1px rgba(16, 22, 26, 0.4);
  color:#f5f8fa; }
  .bp3-dark .bp3-html-select select:hover, .bp3-dark .bp3-select select:hover, .bp3-dark .bp3-html-select select:active, .bp3-dark .bp3-select select:active, .bp3-dark .bp3-html-select select.bp3-active, .bp3-dark .bp3-select select.bp3-active{
    color:#f5f8fa; }
  .bp3-dark .bp3-html-select select:hover, .bp3-dark .bp3-select select:hover{
    background-color:#30404d;
    -webkit-box-shadow:0 0 0 1px rgba(16, 22, 26, 0.4);
            box-shadow:0 0 0 1px rgba(16, 22, 26, 0.4); }
  .bp3-dark .bp3-html-select select:active, .bp3-dark .bp3-select select:active, .bp3-dark .bp3-html-select select.bp3-active, .bp3-dark .bp3-select select.bp3-active{
    background-color:#202b33;
    background-image:none;
    -webkit-box-shadow:0 0 0 1px rgba(16, 22, 26, 0.6), inset 0 1px 2px rgba(16, 22, 26, 0.2);
            box-shadow:0 0 0 1px rgba(16, 22, 26, 0.6), inset 0 1px 2px rgba(16, 22, 26, 0.2); }
  .bp3-dark .bp3-html-select select:disabled, .bp3-dark .bp3-select select:disabled, .bp3-dark .bp3-html-select select.bp3-disabled, .bp3-dark .bp3-select select.bp3-disabled{
    background-color:rgba(57, 75, 89, 0.5);
    background-image:none;
    -webkit-box-shadow:none;
            box-shadow:none;
    color:rgba(167, 182, 194, 0.6); }
    .bp3-dark .bp3-html-select select:disabled.bp3-active, .bp3-dark .bp3-select select:disabled.bp3-active, .bp3-dark .bp3-html-select select.bp3-disabled.bp3-active, .bp3-dark .bp3-select select.bp3-disabled.bp3-active{
      background:rgba(57, 75, 89, 0.7); }
  .bp3-dark .bp3-html-select select .bp3-button-spinner .bp3-spinner-head, .bp3-dark .bp3-select select .bp3-button-spinner .bp3-spinner-head{
    background:rgba(16, 22, 26, 0.5);
    stroke:#8a9ba8; }

.bp3-html-select select:disabled,
.bp3-select select:disabled{
  background-color:rgba(206, 217, 224, 0.5);
  -webkit-box-shadow:none;
          box-shadow:none;
  color:rgba(92, 112, 128, 0.6);
  cursor:not-allowed; }

.bp3-html-select .bp3-icon,
.bp3-select .bp3-icon, .bp3-select::after{
  color:#5c7080;
  pointer-events:none;
  position:absolute;
  right:7px;
  top:7px; }
  .bp3-html-select .bp3-disabled.bp3-icon,
  .bp3-select .bp3-disabled.bp3-icon, .bp3-disabled.bp3-select::after{
    color:rgba(92, 112, 128, 0.6); }
.bp3-html-select,
.bp3-select{
  display:inline-block;
  letter-spacing:normal;
  position:relative;
  vertical-align:middle; }
  .bp3-html-select select::-ms-expand,
  .bp3-select select::-ms-expand{
    display:none; }
  .bp3-html-select .bp3-icon,
  .bp3-select .bp3-icon{
    color:#5c7080; }
    .bp3-html-select .bp3-icon:hover,
    .bp3-select .bp3-icon:hover{
      color:#182026; }
    .bp3-dark .bp3-html-select .bp3-icon, .bp3-dark
    .bp3-select .bp3-icon{
      color:#a7b6c2; }
      .bp3-dark .bp3-html-select .bp3-icon:hover, .bp3-dark
      .bp3-select .bp3-icon:hover{
        color:#f5f8fa; }
  .bp3-html-select.bp3-large::after,
  .bp3-html-select.bp3-large .bp3-icon,
  .bp3-select.bp3-large::after,
  .bp3-select.bp3-large .bp3-icon{
    right:12px;
    top:12px; }
  .bp3-html-select.bp3-fill,
  .bp3-html-select.bp3-fill select,
  .bp3-select.bp3-fill,
  .bp3-select.bp3-fill select{
    width:100%; }
  .bp3-dark .bp3-html-select option, .bp3-dark
  .bp3-select option{
    background-color:#30404d;
    color:#f5f8fa; }
  .bp3-dark .bp3-html-select option:disabled, .bp3-dark
  .bp3-select option:disabled{
    color:rgba(167, 182, 194, 0.6); }
  .bp3-dark .bp3-html-select::after, .bp3-dark
  .bp3-select::after{
    color:#a7b6c2; }

.bp3-select::after{
  font-family:"Icons16", sans-serif;
  font-size:16px;
  font-style:normal;
  font-weight:400;
  line-height:1;
  -moz-osx-font-smoothing:grayscale;
  -webkit-font-smoothing:antialiased;
  content:""; }
.bp3-running-text table, table.bp3-html-table{
  border-spacing:0;
  font-size:14px; }
  .bp3-running-text table th, table.bp3-html-table th,
  .bp3-running-text table td,
  table.bp3-html-table td{
    padding:11px;
    text-align:left;
    vertical-align:top; }
  .bp3-running-text table th, table.bp3-html-table th{
    color:#182026;
    font-weight:600; }
  
  .bp3-running-text table td,
  table.bp3-html-table td{
    color:#182026; }
  .bp3-running-text table tbody tr:first-child th, table.bp3-html-table tbody tr:first-child th,
  .bp3-running-text table tbody tr:first-child td,
  table.bp3-html-table tbody tr:first-child td,
  .bp3-running-text table tfoot tr:first-child th,
  table.bp3-html-table tfoot tr:first-child th,
  .bp3-running-text table tfoot tr:first-child td,
  table.bp3-html-table tfoot tr:first-child td{
    -webkit-box-shadow:inset 0 1px 0 0 rgba(16, 22, 26, 0.15);
            box-shadow:inset 0 1px 0 0 rgba(16, 22, 26, 0.15); }
  .bp3-dark .bp3-running-text table th, .bp3-running-text .bp3-dark table th, .bp3-dark table.bp3-html-table th{
    color:#f5f8fa; }
  .bp3-dark .bp3-running-text table td, .bp3-running-text .bp3-dark table td, .bp3-dark table.bp3-html-table td{
    color:#f5f8fa; }
  .bp3-dark .bp3-running-text table tbody tr:first-child th, .bp3-running-text .bp3-dark table tbody tr:first-child th, .bp3-dark table.bp3-html-table tbody tr:first-child th,
  .bp3-dark .bp3-running-text table tbody tr:first-child td,
  .bp3-running-text .bp3-dark table tbody tr:first-child td,
  .bp3-dark table.bp3-html-table tbody tr:first-child td,
  .bp3-dark .bp3-running-text table tfoot tr:first-child th,
  .bp3-running-text .bp3-dark table tfoot tr:first-child th,
  .bp3-dark table.bp3-html-table tfoot tr:first-child th,
  .bp3-dark .bp3-running-text table tfoot tr:first-child td,
  .bp3-running-text .bp3-dark table tfoot tr:first-child td,
  .bp3-dark table.bp3-html-table tfoot tr:first-child td{
    -webkit-box-shadow:inset 0 1px 0 0 rgba(255, 255, 255, 0.15);
            box-shadow:inset 0 1px 0 0 rgba(255, 255, 255, 0.15); }

table.bp3-html-table.bp3-html-table-condensed th,
table.bp3-html-table.bp3-html-table-condensed td, table.bp3-html-table.bp3-small th,
table.bp3-html-table.bp3-small td{
  padding-bottom:6px;
  padding-top:6px; }

table.bp3-html-table.bp3-html-table-striped tbody tr:nth-child(odd) td{
  background:rgba(191, 204, 214, 0.15); }

table.bp3-html-table.bp3-html-table-bordered th:not(:first-child){
  -webkit-box-shadow:inset 1px 0 0 0 rgba(16, 22, 26, 0.15);
          box-shadow:inset 1px 0 0 0 rgba(16, 22, 26, 0.15); }

table.bp3-html-table.bp3-html-table-bordered tbody tr td,
table.bp3-html-table.bp3-html-table-bordered tfoot tr td{
  -webkit-box-shadow:inset 0 1px 0 0 rgba(16, 22, 26, 0.15);
          box-shadow:inset 0 1px 0 0 rgba(16, 22, 26, 0.15); }
  table.bp3-html-table.bp3-html-table-bordered tbody tr td:not(:first-child),
  table.bp3-html-table.bp3-html-table-bordered tfoot tr td:not(:first-child){
    -webkit-box-shadow:inset 1px 1px 0 0 rgba(16, 22, 26, 0.15);
            box-shadow:inset 1px 1px 0 0 rgba(16, 22, 26, 0.15); }

table.bp3-html-table.bp3-html-table-bordered.bp3-html-table-striped tbody tr:not(:first-child) td{
  -webkit-box-shadow:none;
          box-shadow:none; }
  table.bp3-html-table.bp3-html-table-bordered.bp3-html-table-striped tbody tr:not(:first-child) td:not(:first-child){
    -webkit-box-shadow:inset 1px 0 0 0 rgba(16, 22, 26, 0.15);
            box-shadow:inset 1px 0 0 0 rgba(16, 22, 26, 0.15); }

table.bp3-html-table.bp3-interactive tbody tr:hover td{
  background-color:rgba(191, 204, 214, 0.3);
  cursor:pointer; }

table.bp3-html-table.bp3-interactive tbody tr:active td{
  background-color:rgba(191, 204, 214, 0.4); }

.bp3-dark table.bp3-html-table{ }
  .bp3-dark table.bp3-html-table.bp3-html-table-striped tbody tr:nth-child(odd) td{
    background:rgba(92, 112, 128, 0.15); }
  .bp3-dark table.bp3-html-table.bp3-html-table-bordered th:not(:first-child){
    -webkit-box-shadow:inset 1px 0 0 0 rgba(255, 255, 255, 0.15);
            box-shadow:inset 1px 0 0 0 rgba(255, 255, 255, 0.15); }
  .bp3-dark table.bp3-html-table.bp3-html-table-bordered tbody tr td,
  .bp3-dark table.bp3-html-table.bp3-html-table-bordered tfoot tr td{
    -webkit-box-shadow:inset 0 1px 0 0 rgba(255, 255, 255, 0.15);
            box-shadow:inset 0 1px 0 0 rgba(255, 255, 255, 0.15); }
    .bp3-dark table.bp3-html-table.bp3-html-table-bordered tbody tr td:not(:first-child),
    .bp3-dark table.bp3-html-table.bp3-html-table-bordered tfoot tr td:not(:first-child){
      -webkit-box-shadow:inset 1px 1px 0 0 rgba(255, 255, 255, 0.15);
              box-shadow:inset 1px 1px 0 0 rgba(255, 255, 255, 0.15); }
  .bp3-dark table.bp3-html-table.bp3-html-table-bordered.bp3-html-table-striped tbody tr:not(:first-child) td{
    -webkit-box-shadow:inset 1px 0 0 0 rgba(255, 255, 255, 0.15);
            box-shadow:inset 1px 0 0 0 rgba(255, 255, 255, 0.15); }
    .bp3-dark table.bp3-html-table.bp3-html-table-bordered.bp3-html-table-striped tbody tr:not(:first-child) td:first-child{
      -webkit-box-shadow:none;
              box-shadow:none; }
  .bp3-dark table.bp3-html-table.bp3-interactive tbody tr:hover td{
    background-color:rgba(92, 112, 128, 0.3);
    cursor:pointer; }
  .bp3-dark table.bp3-html-table.bp3-interactive tbody tr:active td{
    background-color:rgba(92, 112, 128, 0.4); }

.bp3-key-combo{
  display:-webkit-box;
  display:-ms-flexbox;
  display:flex;
  -webkit-box-orient:horizontal;
  -webkit-box-direction:normal;
      -ms-flex-direction:row;
          flex-direction:row;
  -webkit-box-align:center;
      -ms-flex-align:center;
          align-items:center; }
  .bp3-key-combo > *{
    -webkit-box-flex:0;
        -ms-flex-positive:0;
            flex-grow:0;
    -ms-flex-negative:0;
        flex-shrink:0; }
  .bp3-key-combo > .bp3-fill{
    -webkit-box-flex:1;
        -ms-flex-positive:1;
            flex-grow:1;
    -ms-flex-negative:1;
        flex-shrink:1; }
  .bp3-key-combo::before,
  .bp3-key-combo > *{
    margin-right:5px; }
  .bp3-key-combo:empty::before,
  .bp3-key-combo > :last-child{
    margin-right:0; }

.bp3-hotkey-dialog{
  padding-bottom:0;
  top:40px; }
  .bp3-hotkey-dialog .bp3-dialog-body{
    margin:0;
    padding:0; }
  .bp3-hotkey-dialog .bp3-hotkey-label{
    -webkit-box-flex:1;
        -ms-flex-positive:1;
            flex-grow:1; }

.bp3-hotkey-column{
  margin:auto;
  max-height:80vh;
  overflow-y:auto;
  padding:30px; }
  .bp3-hotkey-column .bp3-heading{
    margin-bottom:20px; }
    .bp3-hotkey-column .bp3-heading:not(:first-child){
      margin-top:40px; }

.bp3-hotkey{
  -webkit-box-align:center;
      -ms-flex-align:center;
          align-items:center;
  display:-webkit-box;
  display:-ms-flexbox;
  display:flex;
  -webkit-box-pack:justify;
      -ms-flex-pack:justify;
          justify-content:space-between;
  margin-left:0;
  margin-right:0; }
  .bp3-hotkey:not(:last-child){
    margin-bottom:10px; }
.bp3-icon{
  display:inline-block;
  -webkit-box-flex:0;
      -ms-flex:0 0 auto;
          flex:0 0 auto;
  vertical-align:text-bottom; }
  .bp3-icon:not(:empty)::before{
    content:"" !important;
    content:unset !important; }
  .bp3-icon > svg{
    display:block; }
    .bp3-icon > svg:not([fill]){
      fill:currentColor; }

.bp3-icon.bp3-intent-primary, .bp3-icon-standard.bp3-intent-primary, .bp3-icon-large.bp3-intent-primary{
  color:#106ba3; }
  .bp3-dark .bp3-icon.bp3-intent-primary, .bp3-dark .bp3-icon-standard.bp3-intent-primary, .bp3-dark .bp3-icon-large.bp3-intent-primary{
    color:#48aff0; }

.bp3-icon.bp3-intent-success, .bp3-icon-standard.bp3-intent-success, .bp3-icon-large.bp3-intent-success{
  color:#0d8050; }
  .bp3-dark .bp3-icon.bp3-intent-success, .bp3-dark .bp3-icon-standard.bp3-intent-success, .bp3-dark .bp3-icon-large.bp3-intent-success{
    color:#3dcc91; }

.bp3-icon.bp3-intent-warning, .bp3-icon-standard.bp3-intent-warning, .bp3-icon-large.bp3-intent-warning{
  color:#bf7326; }
  .bp3-dark .bp3-icon.bp3-intent-warning, .bp3-dark .bp3-icon-standard.bp3-intent-warning, .bp3-dark .bp3-icon-large.bp3-intent-warning{
    color:#ffb366; }

.bp3-icon.bp3-intent-danger, .bp3-icon-standard.bp3-intent-danger, .bp3-icon-large.bp3-intent-danger{
  color:#c23030; }
  .bp3-dark .bp3-icon.bp3-intent-danger, .bp3-dark .bp3-icon-standard.bp3-intent-danger, .bp3-dark .bp3-icon-large.bp3-intent-danger{
    color:#ff7373; }

span.bp3-icon-standard{
  font-family:"Icons16", sans-serif;
  font-size:16px;
  font-style:normal;
  font-weight:400;
  line-height:1;
  -moz-osx-font-smoothing:grayscale;
  -webkit-font-smoothing:antialiased;
  display:inline-block; }

span.bp3-icon-large{
  font-family:"Icons20", sans-serif;
  font-size:20px;
  font-style:normal;
  font-weight:400;
  line-height:1;
  -moz-osx-font-smoothing:grayscale;
  -webkit-font-smoothing:antialiased;
  display:inline-block; }

span.bp3-icon:empty{
  font-family:"Icons20";
  font-size:inherit;
  font-style:normal;
  font-weight:400;
  line-height:1; }
  span.bp3-icon:empty::before{
    -moz-osx-font-smoothing:grayscale;
    -webkit-font-smoothing:antialiased; }

.bp3-icon-add::before{
  content:""; }

.bp3-icon-add-column-left::before{
  content:""; }

.bp3-icon-add-column-right::before{
  content:""; }

.bp3-icon-add-row-bottom::before{
  content:""; }

.bp3-icon-add-row-top::before{
  content:""; }

.bp3-icon-add-to-artifact::before{
  content:""; }

.bp3-icon-add-to-folder::before{
  content:""; }

.bp3-icon-airplane::before{
  content:""; }

.bp3-icon-align-center::before{
  content:""; }

.bp3-icon-align-justify::before{
  content:""; }

.bp3-icon-align-left::before{
  content:""; }

.bp3-icon-align-right::before{
  content:""; }

.bp3-icon-alignment-bottom::before{
  content:""; }

.bp3-icon-alignment-horizontal-center::before{
  content:""; }

.bp3-icon-alignment-left::before{
  content:""; }

.bp3-icon-alignment-right::before{
  content:""; }

.bp3-icon-alignment-top::before{
  content:""; }

.bp3-icon-alignment-vertical-center::before{
  content:""; }

.bp3-icon-annotation::before{
  content:""; }

.bp3-icon-application::before{
  content:""; }

.bp3-icon-applications::before{
  content:""; }

.bp3-icon-archive::before{
  content:""; }

.bp3-icon-arrow-bottom-left::before{
  content:"↙"; }

.bp3-icon-arrow-bottom-right::before{
  content:"↘"; }

.bp3-icon-arrow-down::before{
  content:"↓"; }

.bp3-icon-arrow-left::before{
  content:"←"; }

.bp3-icon-arrow-right::before{
  content:"→"; }

.bp3-icon-arrow-top-left::before{
  content:"↖"; }

.bp3-icon-arrow-top-right::before{
  content:"↗"; }

.bp3-icon-arrow-up::before{
  content:"↑"; }

.bp3-icon-arrows-horizontal::before{
  content:"↔"; }

.bp3-icon-arrows-vertical::before{
  content:"↕"; }

.bp3-icon-asterisk::before{
  content:"*"; }

.bp3-icon-automatic-updates::before{
  content:""; }

.bp3-icon-badge::before{
  content:""; }

.bp3-icon-ban-circle::before{
  content:""; }

.bp3-icon-bank-account::before{
  content:""; }

.bp3-icon-barcode::before{
  content:""; }

.bp3-icon-blank::before{
  content:""; }

.bp3-icon-blocked-person::before{
  content:""; }

.bp3-icon-bold::before{
  content:""; }

.bp3-icon-book::before{
  content:""; }

.bp3-icon-bookmark::before{
  content:""; }

.bp3-icon-box::before{
  content:""; }

.bp3-icon-briefcase::before{
  content:""; }

.bp3-icon-bring-data::before{
  content:""; }

.bp3-icon-build::before{
  content:""; }

.bp3-icon-calculator::before{
  content:""; }

.bp3-icon-calendar::before{
  content:""; }

.bp3-icon-camera::before{
  content:""; }

.bp3-icon-caret-down::before{
  content:"⌄"; }

.bp3-icon-caret-left::before{
  content:"〈"; }

.bp3-icon-caret-right::before{
  content:"〉"; }

.bp3-icon-caret-up::before{
  content:"⌃"; }

.bp3-icon-cell-tower::before{
  content:""; }

.bp3-icon-changes::before{
  content:""; }

.bp3-icon-chart::before{
  content:""; }

.bp3-icon-chat::before{
  content:""; }

.bp3-icon-chevron-backward::before{
  content:""; }

.bp3-icon-chevron-down::before{
  content:""; }

.bp3-icon-chevron-forward::before{
  content:""; }

.bp3-icon-chevron-left::before{
  content:""; }

.bp3-icon-chevron-right::before{
  content:""; }

.bp3-icon-chevron-up::before{
  content:""; }

.bp3-icon-circle::before{
  content:""; }

.bp3-icon-circle-arrow-down::before{
  content:""; }

.bp3-icon-circle-arrow-left::before{
  content:""; }

.bp3-icon-circle-arrow-right::before{
  content:""; }

.bp3-icon-circle-arrow-up::before{
  content:""; }

.bp3-icon-citation::before{
  content:""; }

.bp3-icon-clean::before{
  content:""; }

.bp3-icon-clipboard::before{
  content:""; }

.bp3-icon-cloud::before{
  content:"☁"; }

.bp3-icon-cloud-download::before{
  content:""; }

.bp3-icon-cloud-upload::before{
  content:""; }

.bp3-icon-code::before{
  content:""; }

.bp3-icon-code-block::before{
  content:""; }

.bp3-icon-cog::before{
  content:""; }

.bp3-icon-collapse-all::before{
  content:""; }

.bp3-icon-column-layout::before{
  content:""; }

.bp3-icon-comment::before{
  content:""; }

.bp3-icon-comparison::before{
  content:""; }

.bp3-icon-compass::before{
  content:""; }

.bp3-icon-compressed::before{
  content:""; }

.bp3-icon-confirm::before{
  content:""; }

.bp3-icon-console::before{
  content:""; }

.bp3-icon-contrast::before{
  content:""; }

.bp3-icon-control::before{
  content:""; }

.bp3-icon-credit-card::before{
  content:""; }

.bp3-icon-cross::before{
  content:"✗"; }

.bp3-icon-crown::before{
  content:""; }

.bp3-icon-cube::before{
  content:""; }

.bp3-icon-cube-add::before{
  content:""; }

.bp3-icon-cube-remove::before{
  content:""; }

.bp3-icon-curved-range-chart::before{
  content:""; }

.bp3-icon-cut::before{
  content:""; }

.bp3-icon-dashboard::before{
  content:""; }

.bp3-icon-data-lineage::before{
  content:""; }

.bp3-icon-database::before{
  content:""; }

.bp3-icon-delete::before{
  content:""; }

.bp3-icon-delta::before{
  content:"Δ"; }

.bp3-icon-derive-column::before{
  content:""; }

.bp3-icon-desktop::before{
  content:""; }

.bp3-icon-diagnosis::before{
  content:""; }

.bp3-icon-diagram-tree::before{
  content:""; }

.bp3-icon-direction-left::before{
  content:""; }

.bp3-icon-direction-right::before{
  content:""; }

.bp3-icon-disable::before{
  content:""; }

.bp3-icon-document::before{
  content:""; }

.bp3-icon-document-open::before{
  content:""; }

.bp3-icon-document-share::before{
  content:""; }

.bp3-icon-dollar::before{
  content:"$"; }

.bp3-icon-dot::before{
  content:"•"; }

.bp3-icon-double-caret-horizontal::before{
  content:""; }

.bp3-icon-double-caret-vertical::before{
  content:""; }

.bp3-icon-double-chevron-down::before{
  content:""; }

.bp3-icon-double-chevron-left::before{
  content:""; }

.bp3-icon-double-chevron-right::before{
  content:""; }

.bp3-icon-double-chevron-up::before{
  content:""; }

.bp3-icon-doughnut-chart::before{
  content:""; }

.bp3-icon-download::before{
  content:""; }

.bp3-icon-drag-handle-horizontal::before{
  content:""; }

.bp3-icon-drag-handle-vertical::before{
  content:""; }

.bp3-icon-draw::before{
  content:""; }

.bp3-icon-drive-time::before{
  content:""; }

.bp3-icon-duplicate::before{
  content:""; }

.bp3-icon-edit::before{
  content:"✎"; }

.bp3-icon-eject::before{
  content:"⏏"; }

.bp3-icon-endorsed::before{
  content:""; }

.bp3-icon-envelope::before{
  content:"✉"; }

.bp3-icon-equals::before{
  content:""; }

.bp3-icon-eraser::before{
  content:""; }

.bp3-icon-error::before{
  content:""; }

.bp3-icon-euro::before{
  content:"€"; }

.bp3-icon-exchange::before{
  content:""; }

.bp3-icon-exclude-row::before{
  content:""; }

.bp3-icon-expand-all::before{
  content:""; }

.bp3-icon-export::before{
  content:""; }

.bp3-icon-eye-off::before{
  content:""; }

.bp3-icon-eye-on::before{
  content:""; }

.bp3-icon-eye-open::before{
  content:""; }

.bp3-icon-fast-backward::before{
  content:""; }

.bp3-icon-fast-forward::before{
  content:""; }

.bp3-icon-feed::before{
  content:""; }

.bp3-icon-feed-subscribed::before{
  content:""; }

.bp3-icon-film::before{
  content:""; }

.bp3-icon-filter::before{
  content:""; }

.bp3-icon-filter-keep::before{
  content:""; }

.bp3-icon-filter-list::before{
  content:""; }

.bp3-icon-filter-open::before{
  content:""; }

.bp3-icon-filter-remove::before{
  content:""; }

.bp3-icon-flag::before{
  content:"⚑"; }

.bp3-icon-flame::before{
  content:""; }

.bp3-icon-flash::before{
  content:""; }

.bp3-icon-floppy-disk::before{
  content:""; }

.bp3-icon-flow-branch::before{
  content:""; }

.bp3-icon-flow-end::before{
  content:""; }

.bp3-icon-flow-linear::before{
  content:""; }

.bp3-icon-flow-review::before{
  content:""; }

.bp3-icon-flow-review-branch::before{
  content:""; }

.bp3-icon-flows::before{
  content:""; }

.bp3-icon-folder-close::before{
  content:""; }

.bp3-icon-folder-new::before{
  content:""; }

.bp3-icon-folder-open::before{
  content:""; }

.bp3-icon-folder-shared::before{
  content:""; }

.bp3-icon-folder-shared-open::before{
  content:""; }

.bp3-icon-follower::before{
  content:""; }

.bp3-icon-following::before{
  content:""; }

.bp3-icon-font::before{
  content:""; }

.bp3-icon-fork::before{
  content:""; }

.bp3-icon-form::before{
  content:""; }

.bp3-icon-full-circle::before{
  content:""; }

.bp3-icon-full-stacked-chart::before{
  content:""; }

.bp3-icon-fullscreen::before{
  content:""; }

.bp3-icon-function::before{
  content:""; }

.bp3-icon-gantt-chart::before{
  content:""; }

.bp3-icon-geolocation::before{
  content:""; }

.bp3-icon-geosearch::before{
  content:""; }

.bp3-icon-git-branch::before{
  content:""; }

.bp3-icon-git-commit::before{
  content:""; }

.bp3-icon-git-merge::before{
  content:""; }

.bp3-icon-git-new-branch::before{
  content:""; }

.bp3-icon-git-pull::before{
  content:""; }

.bp3-icon-git-push::before{
  content:""; }

.bp3-icon-git-repo::before{
  content:""; }

.bp3-icon-glass::before{
  content:""; }

.bp3-icon-globe::before{
  content:""; }

.bp3-icon-globe-network::before{
  content:""; }

.bp3-icon-graph::before{
  content:""; }

.bp3-icon-graph-remove::before{
  content:""; }

.bp3-icon-greater-than::before{
  content:""; }

.bp3-icon-greater-than-or-equal-to::before{
  content:""; }

.bp3-icon-grid::before{
  content:""; }

.bp3-icon-grid-view::before{
  content:""; }

.bp3-icon-group-objects::before{
  content:""; }

.bp3-icon-grouped-bar-chart::before{
  content:""; }

.bp3-icon-hand::before{
  content:""; }

.bp3-icon-hand-down::before{
  content:""; }

.bp3-icon-hand-left::before{
  content:""; }

.bp3-icon-hand-right::before{
  content:""; }

.bp3-icon-hand-up::before{
  content:""; }

.bp3-icon-header::before{
  content:""; }

.bp3-icon-header-one::before{
  content:""; }

.bp3-icon-header-two::before{
  content:""; }

.bp3-icon-headset::before{
  content:""; }

.bp3-icon-heart::before{
  content:"♥"; }

.bp3-icon-heart-broken::before{
  content:""; }

.bp3-icon-heat-grid::before{
  content:""; }

.bp3-icon-heatmap::before{
  content:""; }

.bp3-icon-help::before{
  content:"?"; }

.bp3-icon-helper-management::before{
  content:""; }

.bp3-icon-highlight::before{
  content:""; }

.bp3-icon-history::before{
  content:""; }

.bp3-icon-home::before{
  content:"⌂"; }

.bp3-icon-horizontal-bar-chart::before{
  content:""; }

.bp3-icon-horizontal-bar-chart-asc::before{
  content:""; }

.bp3-icon-horizontal-bar-chart-desc::before{
  content:""; }

.bp3-icon-horizontal-distribution::before{
  content:""; }

.bp3-icon-id-number::before{
  content:""; }

.bp3-icon-image-rotate-left::before{
  content:""; }

.bp3-icon-image-rotate-right::before{
  content:""; }

.bp3-icon-import::before{
  content:""; }

.bp3-icon-inbox::before{
  content:""; }

.bp3-icon-inbox-filtered::before{
  content:""; }

.bp3-icon-inbox-geo::before{
  content:""; }

.bp3-icon-inbox-search::before{
  content:""; }

.bp3-icon-inbox-update::before{
  content:""; }

.bp3-icon-info-sign::before{
  content:"ℹ"; }

.bp3-icon-inheritance::before{
  content:""; }

.bp3-icon-inner-join::before{
  content:""; }

.bp3-icon-insert::before{
  content:""; }

.bp3-icon-intersection::before{
  content:""; }

.bp3-icon-ip-address::before{
  content:""; }

.bp3-icon-issue::before{
  content:""; }

.bp3-icon-issue-closed::before{
  content:""; }

.bp3-icon-issue-new::before{
  content:""; }

.bp3-icon-italic::before{
  content:""; }

.bp3-icon-join-table::before{
  content:""; }

.bp3-icon-key::before{
  content:""; }

.bp3-icon-key-backspace::before{
  content:""; }

.bp3-icon-key-command::before{
  content:""; }

.bp3-icon-key-control::before{
  content:""; }

.bp3-icon-key-delete::before{
  content:""; }

.bp3-icon-key-enter::before{
  content:""; }

.bp3-icon-key-escape::before{
  content:""; }

.bp3-icon-key-option::before{
  content:""; }

.bp3-icon-key-shift::before{
  content:""; }

.bp3-icon-key-tab::before{
  content:""; }

.bp3-icon-known-vehicle::before{
  content:""; }

.bp3-icon-lab-test::before{
  content:""; }

.bp3-icon-label::before{
  content:""; }

.bp3-icon-layer::before{
  content:""; }

.bp3-icon-layers::before{
  content:""; }

.bp3-icon-layout::before{
  content:""; }

.bp3-icon-layout-auto::before{
  content:""; }

.bp3-icon-layout-balloon::before{
  content:""; }

.bp3-icon-layout-circle::before{
  content:""; }

.bp3-icon-layout-grid::before{
  content:""; }

.bp3-icon-layout-group-by::before{
  content:""; }

.bp3-icon-layout-hierarchy::before{
  content:""; }

.bp3-icon-layout-linear::before{
  content:""; }

.bp3-icon-layout-skew-grid::before{
  content:""; }

.bp3-icon-layout-sorted-clusters::before{
  content:""; }

.bp3-icon-learning::before{
  content:""; }

.bp3-icon-left-join::before{
  content:""; }

.bp3-icon-less-than::before{
  content:""; }

.bp3-icon-less-than-or-equal-to::before{
  content:""; }

.bp3-icon-lifesaver::before{
  content:""; }

.bp3-icon-lightbulb::before{
  content:""; }

.bp3-icon-link::before{
  content:""; }

.bp3-icon-list::before{
  content:"☰"; }

.bp3-icon-list-columns::before{
  content:""; }

.bp3-icon-list-detail-view::before{
  content:""; }

.bp3-icon-locate::before{
  content:""; }

.bp3-icon-lock::before{
  content:""; }

.bp3-icon-log-in::before{
  content:""; }

.bp3-icon-log-out::before{
  content:""; }

.bp3-icon-manual::before{
  content:""; }

.bp3-icon-manually-entered-data::before{
  content:""; }

.bp3-icon-map::before{
  content:""; }

.bp3-icon-map-create::before{
  content:""; }

.bp3-icon-map-marker::before{
  content:""; }

.bp3-icon-maximize::before{
  content:""; }

.bp3-icon-media::before{
  content:""; }

.bp3-icon-menu::before{
  content:""; }

.bp3-icon-menu-closed::before{
  content:""; }

.bp3-icon-menu-open::before{
  content:""; }

.bp3-icon-merge-columns::before{
  content:""; }

.bp3-icon-merge-links::before{
  content:""; }

.bp3-icon-minimize::before{
  content:""; }

.bp3-icon-minus::before{
  content:"−"; }

.bp3-icon-mobile-phone::before{
  content:""; }

.bp3-icon-mobile-video::before{
  content:""; }

.bp3-icon-moon::before{
  content:""; }

.bp3-icon-more::before{
  content:""; }

.bp3-icon-mountain::before{
  content:""; }

.bp3-icon-move::before{
  content:""; }

.bp3-icon-mugshot::before{
  content:""; }

.bp3-icon-multi-select::before{
  content:""; }

.bp3-icon-music::before{
  content:""; }

.bp3-icon-new-drawing::before{
  content:""; }

.bp3-icon-new-grid-item::before{
  content:""; }

.bp3-icon-new-layer::before{
  content:""; }

.bp3-icon-new-layers::before{
  content:""; }

.bp3-icon-new-link::before{
  content:""; }

.bp3-icon-new-object::before{
  content:""; }

.bp3-icon-new-person::before{
  content:""; }

.bp3-icon-new-prescription::before{
  content:""; }

.bp3-icon-new-text-box::before{
  content:""; }

.bp3-icon-ninja::before{
  content:""; }

.bp3-icon-not-equal-to::before{
  content:""; }

.bp3-icon-notifications::before{
  content:""; }

.bp3-icon-notifications-updated::before{
  content:""; }

.bp3-icon-numbered-list::before{
  content:""; }

.bp3-icon-numerical::before{
  content:""; }

.bp3-icon-office::before{
  content:""; }

.bp3-icon-offline::before{
  content:""; }

.bp3-icon-oil-field::before{
  content:""; }

.bp3-icon-one-column::before{
  content:""; }

.bp3-icon-outdated::before{
  content:""; }

.bp3-icon-page-layout::before{
  content:""; }

.bp3-icon-panel-stats::before{
  content:""; }

.bp3-icon-panel-table::before{
  content:""; }

.bp3-icon-paperclip::before{
  content:""; }

.bp3-icon-paragraph::before{
  content:""; }

.bp3-icon-path::before{
  content:""; }

.bp3-icon-path-search::before{
  content:""; }

.bp3-icon-pause::before{
  content:""; }

.bp3-icon-people::before{
  content:""; }

.bp3-icon-percentage::before{
  content:""; }

.bp3-icon-person::before{
  content:""; }

.bp3-icon-phone::before{
  content:"☎"; }

.bp3-icon-pie-chart::before{
  content:""; }

.bp3-icon-pin::before{
  content:""; }

.bp3-icon-pivot::before{
  content:""; }

.bp3-icon-pivot-table::before{
  content:""; }

.bp3-icon-play::before{
  content:""; }

.bp3-icon-plus::before{
  content:"+"; }

.bp3-icon-polygon-filter::before{
  content:""; }

.bp3-icon-power::before{
  content:""; }

.bp3-icon-predictive-analysis::before{
  content:""; }

.bp3-icon-prescription::before{
  content:""; }

.bp3-icon-presentation::before{
  content:""; }

.bp3-icon-print::before{
  content:"⎙"; }

.bp3-icon-projects::before{
  content:""; }

.bp3-icon-properties::before{
  content:""; }

.bp3-icon-property::before{
  content:""; }

.bp3-icon-publish-function::before{
  content:""; }

.bp3-icon-pulse::before{
  content:""; }

.bp3-icon-random::before{
  content:""; }

.bp3-icon-record::before{
  content:""; }

.bp3-icon-redo::before{
  content:""; }

.bp3-icon-refresh::before{
  content:""; }

.bp3-icon-regression-chart::before{
  content:""; }

.bp3-icon-remove::before{
  content:""; }

.bp3-icon-remove-column::before{
  content:""; }

.bp3-icon-remove-column-left::before{
  content:""; }

.bp3-icon-remove-column-right::before{
  content:""; }

.bp3-icon-remove-row-bottom::before{
  content:""; }

.bp3-icon-remove-row-top::before{
  content:""; }

.bp3-icon-repeat::before{
  content:""; }

.bp3-icon-reset::before{
  content:""; }

.bp3-icon-resolve::before{
  content:""; }

.bp3-icon-rig::before{
  content:""; }

.bp3-icon-right-join::before{
  content:""; }

.bp3-icon-ring::before{
  content:""; }

.bp3-icon-rotate-document::before{
  content:""; }

.bp3-icon-rotate-page::before{
  content:""; }

.bp3-icon-satellite::before{
  content:""; }

.bp3-icon-saved::before{
  content:""; }

.bp3-icon-scatter-plot::before{
  content:""; }

.bp3-icon-search::before{
  content:""; }

.bp3-icon-search-around::before{
  content:""; }

.bp3-icon-search-template::before{
  content:""; }

.bp3-icon-search-text::before{
  content:""; }

.bp3-icon-segmented-control::before{
  content:""; }

.bp3-icon-select::before{
  content:""; }

.bp3-icon-selection::before{
  content:"⦿"; }

.bp3-icon-send-to::before{
  content:""; }

.bp3-icon-send-to-graph::before{
  content:""; }

.bp3-icon-send-to-map::before{
  content:""; }

.bp3-icon-series-add::before{
  content:""; }

.bp3-icon-series-configuration::before{
  content:""; }

.bp3-icon-series-derived::before{
  content:""; }

.bp3-icon-series-filtered::before{
  content:""; }

.bp3-icon-series-search::before{
  content:""; }

.bp3-icon-settings::before{
  content:""; }

.bp3-icon-share::before{
  content:""; }

.bp3-icon-shield::before{
  content:""; }

.bp3-icon-shop::before{
  content:""; }

.bp3-icon-shopping-cart::before{
  content:""; }

.bp3-icon-signal-search::before{
  content:""; }

.bp3-icon-sim-card::before{
  content:""; }

.bp3-icon-slash::before{
  content:""; }

.bp3-icon-small-cross::before{
  content:""; }

.bp3-icon-small-minus::before{
  content:""; }

.bp3-icon-small-plus::before{
  content:""; }

.bp3-icon-small-tick::before{
  content:""; }

.bp3-icon-snowflake::before{
  content:""; }

.bp3-icon-social-media::before{
  content:""; }

.bp3-icon-sort::before{
  content:""; }

.bp3-icon-sort-alphabetical::before{
  content:""; }

.bp3-icon-sort-alphabetical-desc::before{
  content:""; }

.bp3-icon-sort-asc::before{
  content:""; }

.bp3-icon-sort-desc::before{
  content:""; }

.bp3-icon-sort-numerical::before{
  content:""; }

.bp3-icon-sort-numerical-desc::before{
  content:""; }

.bp3-icon-split-columns::before{
  content:""; }

.bp3-icon-square::before{
  content:""; }

.bp3-icon-stacked-chart::before{
  content:""; }

.bp3-icon-star::before{
  content:"★"; }

.bp3-icon-star-empty::before{
  content:"☆"; }

.bp3-icon-step-backward::before{
  content:""; }

.bp3-icon-step-chart::before{
  content:""; }

.bp3-icon-step-forward::before{
  content:""; }

.bp3-icon-stop::before{
  content:""; }

.bp3-icon-stopwatch::before{
  content:""; }

.bp3-icon-strikethrough::before{
  content:""; }

.bp3-icon-style::before{
  content:""; }

.bp3-icon-swap-horizontal::before{
  content:""; }

.bp3-icon-swap-vertical::before{
  content:""; }

.bp3-icon-symbol-circle::before{
  content:""; }

.bp3-icon-symbol-cross::before{
  content:""; }

.bp3-icon-symbol-diamond::before{
  content:""; }

.bp3-icon-symbol-square::before{
  content:""; }

.bp3-icon-symbol-triangle-down::before{
  content:""; }

.bp3-icon-symbol-triangle-up::before{
  content:""; }

.bp3-icon-tag::before{
  content:""; }

.bp3-icon-take-action::before{
  content:""; }

.bp3-icon-taxi::before{
  content:""; }

.bp3-icon-text-highlight::before{
  content:""; }

.bp3-icon-th::before{
  content:""; }

.bp3-icon-th-derived::before{
  content:""; }

.bp3-icon-th-disconnect::before{
  content:""; }

.bp3-icon-th-filtered::before{
  content:""; }

.bp3-icon-th-list::before{
  content:""; }

.bp3-icon-thumbs-down::before{
  content:""; }

.bp3-icon-thumbs-up::before{
  content:""; }

.bp3-icon-tick::before{
  content:"✓"; }

.bp3-icon-tick-circle::before{
  content:""; }

.bp3-icon-time::before{
  content:"⏲"; }

.bp3-icon-timeline-area-chart::before{
  content:""; }

.bp3-icon-timeline-bar-chart::before{
  content:""; }

.bp3-icon-timeline-events::before{
  content:""; }

.bp3-icon-timeline-line-chart::before{
  content:""; }

.bp3-icon-tint::before{
  content:""; }

.bp3-icon-torch::before{
  content:""; }

.bp3-icon-tractor::before{
  content:""; }

.bp3-icon-train::before{
  content:""; }

.bp3-icon-translate::before{
  content:""; }

.bp3-icon-trash::before{
  content:""; }

.bp3-icon-tree::before{
  content:""; }

.bp3-icon-trending-down::before{
  content:""; }

.bp3-icon-trending-up::before{
  content:""; }

.bp3-icon-truck::before{
  content:""; }

.bp3-icon-two-columns::before{
  content:""; }

.bp3-icon-unarchive::before{
  content:""; }

.bp3-icon-underline::before{
  content:"⎁"; }

.bp3-icon-undo::before{
  content:"⎌"; }

.bp3-icon-ungroup-objects::before{
  content:""; }

.bp3-icon-unknown-vehicle::before{
  content:""; }

.bp3-icon-unlock::before{
  content:""; }

.bp3-icon-unpin::before{
  content:""; }

.bp3-icon-unresolve::before{
  content:""; }

.bp3-icon-updated::before{
  content:""; }

.bp3-icon-upload::before{
  content:""; }

.bp3-icon-user::before{
  content:""; }

.bp3-icon-variable::before{
  content:""; }

.bp3-icon-vertical-bar-chart-asc::before{
  content:""; }

.bp3-icon-vertical-bar-chart-desc::before{
  content:""; }

.bp3-icon-vertical-distribution::before{
  content:""; }

.bp3-icon-video::before{
  content:""; }

.bp3-icon-volume-down::before{
  content:""; }

.bp3-icon-volume-off::before{
  content:""; }

.bp3-icon-volume-up::before{
  content:""; }

.bp3-icon-walk::before{
  content:""; }

.bp3-icon-warning-sign::before{
  content:""; }

.bp3-icon-waterfall-chart::before{
  content:""; }

.bp3-icon-widget::before{
  content:""; }

.bp3-icon-widget-button::before{
  content:""; }

.bp3-icon-widget-footer::before{
  content:""; }

.bp3-icon-widget-header::before{
  content:""; }

.bp3-icon-wrench::before{
  content:""; }

.bp3-icon-zoom-in::before{
  content:""; }

.bp3-icon-zoom-out::before{
  content:""; }

.bp3-icon-zoom-to-fit::before{
  content:""; }
.bp3-submenu > .bp3-popover-wrapper{
  display:block; }

.bp3-submenu .bp3-popover-target{
  display:block; }
  .bp3-submenu .bp3-popover-target.bp3-popover-open > .bp3-menu-item{ }

.bp3-submenu.bp3-popover{
  -webkit-box-shadow:none;
          box-shadow:none;
  padding:0 5px; }
  .bp3-submenu.bp3-popover > .bp3-popover-content{
    -webkit-box-shadow:0 0 0 1px rgba(16, 22, 26, 0.1), 0 2px 4px rgba(16, 22, 26, 0.2), 0 8px 24px rgba(16, 22, 26, 0.2);
            box-shadow:0 0 0 1px rgba(16, 22, 26, 0.1), 0 2px 4px rgba(16, 22, 26, 0.2), 0 8px 24px rgba(16, 22, 26, 0.2); }
  .bp3-dark .bp3-submenu.bp3-popover, .bp3-submenu.bp3-popover.bp3-dark{
    -webkit-box-shadow:none;
            box-shadow:none; }
    .bp3-dark .bp3-submenu.bp3-popover > .bp3-popover-content, .bp3-submenu.bp3-popover.bp3-dark > .bp3-popover-content{
      -webkit-box-shadow:0 0 0 1px rgba(16, 22, 26, 0.2), 0 2px 4px rgba(16, 22, 26, 0.4), 0 8px 24px rgba(16, 22, 26, 0.4);
              box-shadow:0 0 0 1px rgba(16, 22, 26, 0.2), 0 2px 4px rgba(16, 22, 26, 0.4), 0 8px 24px rgba(16, 22, 26, 0.4); }
.bp3-menu{
  background:#ffffff;
  border-radius:3px;
  color:#182026;
  list-style:none;
  margin:0;
  min-width:180px;
  padding:5px;
  text-align:left; }

.bp3-menu-divider{
  border-top:1px solid rgba(16, 22, 26, 0.15);
  display:block;
  margin:5px; }
  .bp3-dark .bp3-menu-divider{
    border-top-color:rgba(255, 255, 255, 0.15); }

.bp3-menu-item{
  display:-webkit-box;
  display:-ms-flexbox;
  display:flex;
  -webkit-box-orient:horizontal;
  -webkit-box-direction:normal;
      -ms-flex-direction:row;
          flex-direction:row;
  -webkit-box-align:start;
      -ms-flex-align:start;
          align-items:flex-start;
  border-radius:2px;
  color:inherit;
  line-height:20px;
  padding:5px 7px;
  text-decoration:none;
  -webkit-user-select:none;
     -moz-user-select:none;
      -ms-user-select:none;
          user-select:none; }
  .bp3-menu-item > *{
    -webkit-box-flex:0;
        -ms-flex-positive:0;
            flex-grow:0;
    -ms-flex-negative:0;
        flex-shrink:0; }
  .bp3-menu-item > .bp3-fill{
    -webkit-box-flex:1;
        -ms-flex-positive:1;
            flex-grow:1;
    -ms-flex-negative:1;
        flex-shrink:1; }
  .bp3-menu-item::before,
  .bp3-menu-item > *{
    margin-right:7px; }
  .bp3-menu-item:empty::before,
  .bp3-menu-item > :last-child{
    margin-right:0; }
  .bp3-menu-item > .bp3-fill{
    word-break:break-word; }
  .bp3-menu-item:hover, .bp3-submenu .bp3-popover-target.bp3-popover-open > .bp3-menu-item{
    background-color:rgba(167, 182, 194, 0.3);
    cursor:pointer;
    text-decoration:none; }
  .bp3-menu-item.bp3-disabled{
    background-color:inherit;
    color:rgba(92, 112, 128, 0.6);
    cursor:not-allowed; }
  .bp3-dark .bp3-menu-item{
    color:inherit; }
    .bp3-dark .bp3-menu-item:hover, .bp3-dark .bp3-submenu .bp3-popover-target.bp3-popover-open > .bp3-menu-item, .bp3-submenu .bp3-dark .bp3-popover-target.bp3-popover-open > .bp3-menu-item{
      background-color:rgba(138, 155, 168, 0.15);
      color:inherit; }
    .bp3-dark .bp3-menu-item.bp3-disabled{
      background-color:inherit;
      color:rgba(167, 182, 194, 0.6); }
  .bp3-menu-item.bp3-intent-primary{
    color:#106ba3; }
    .bp3-menu-item.bp3-intent-primary .bp3-icon{
      color:inherit; }
    .bp3-menu-item.bp3-intent-primary::before, .bp3-menu-item.bp3-intent-primary::after,
    .bp3-menu-item.bp3-intent-primary .bp3-menu-item-label{
      color:#106ba3; }
    .bp3-menu-item.bp3-intent-primary:hover, .bp3-submenu .bp3-popover-target.bp3-popover-open > .bp3-intent-primary.bp3-menu-item, .bp3-menu-item.bp3-intent-primary.bp3-active{
      background-color:#137cbd; }
    .bp3-menu-item.bp3-intent-primary:active{
      background-color:#106ba3; }
    .bp3-menu-item.bp3-intent-primary:hover, .bp3-submenu .bp3-popover-target.bp3-popover-open > .bp3-intent-primary.bp3-menu-item, .bp3-menu-item.bp3-intent-primary:hover::before, .bp3-submenu .bp3-popover-target.bp3-popover-open > .bp3-intent-primary.bp3-menu-item::before, .bp3-menu-item.bp3-intent-primary:hover::after, .bp3-submenu .bp3-popover-target.bp3-popover-open > .bp3-intent-primary.bp3-menu-item::after,
    .bp3-menu-item.bp3-intent-primary:hover .bp3-menu-item-label,
    .bp3-submenu .bp3-popover-target.bp3-popover-open > .bp3-intent-primary.bp3-menu-item .bp3-menu-item-label, .bp3-menu-item.bp3-intent-primary:active, .bp3-menu-item.bp3-intent-primary:active::before, .bp3-menu-item.bp3-intent-primary:active::after,
    .bp3-menu-item.bp3-intent-primary:active .bp3-menu-item-label, .bp3-menu-item.bp3-intent-primary.bp3-active, .bp3-menu-item.bp3-intent-primary.bp3-active::before, .bp3-menu-item.bp3-intent-primary.bp3-active::after,
    .bp3-menu-item.bp3-intent-primary.bp3-active .bp3-menu-item-label{
      color:#ffffff; }
  .bp3-menu-item.bp3-intent-success{
    color:#0d8050; }
    .bp3-menu-item.bp3-intent-success .bp3-icon{
      color:inherit; }
    .bp3-menu-item.bp3-intent-success::before, .bp3-menu-item.bp3-intent-success::after,
    .bp3-menu-item.bp3-intent-success .bp3-menu-item-label{
      color:#0d8050; }
    .bp3-menu-item.bp3-intent-success:hover, .bp3-submenu .bp3-popover-target.bp3-popover-open > .bp3-intent-success.bp3-menu-item, .bp3-menu-item.bp3-intent-success.bp3-active{
      background-color:#0f9960; }
    .bp3-menu-item.bp3-intent-success:active{
      background-color:#0d8050; }
    .bp3-menu-item.bp3-intent-success:hover, .bp3-submenu .bp3-popover-target.bp3-popover-open > .bp3-intent-success.bp3-menu-item, .bp3-menu-item.bp3-intent-success:hover::before, .bp3-submenu .bp3-popover-target.bp3-popover-open > .bp3-intent-success.bp3-menu-item::before, .bp3-menu-item.bp3-intent-success:hover::after, .bp3-submenu .bp3-popover-target.bp3-popover-open > .bp3-intent-success.bp3-menu-item::after,
    .bp3-menu-item.bp3-intent-success:hover .bp3-menu-item-label,
    .bp3-submenu .bp3-popover-target.bp3-popover-open > .bp3-intent-success.bp3-menu-item .bp3-menu-item-label, .bp3-menu-item.bp3-intent-success:active, .bp3-menu-item.bp3-intent-success:active::before, .bp3-menu-item.bp3-intent-success:active::after,
    .bp3-menu-item.bp3-intent-success:active .bp3-menu-item-label, .bp3-menu-item.bp3-intent-success.bp3-active, .bp3-menu-item.bp3-intent-success.bp3-active::before, .bp3-menu-item.bp3-intent-success.bp3-active::after,
    .bp3-menu-item.bp3-intent-success.bp3-active .bp3-menu-item-label{
      color:#ffffff; }
  .bp3-menu-item.bp3-intent-warning{
    color:#bf7326; }
    .bp3-menu-item.bp3-intent-warning .bp3-icon{
      color:inherit; }
    .bp3-menu-item.bp3-intent-warning::before, .bp3-menu-item.bp3-intent-warning::after,
    .bp3-menu-item.bp3-intent-warning .bp3-menu-item-label{
      color:#bf7326; }
    .bp3-menu-item.bp3-intent-warning:hover, .bp3-submenu .bp3-popover-target.bp3-popover-open > .bp3-intent-warning.bp3-menu-item, .bp3-menu-item.bp3-intent-warning.bp3-active{
      background-color:#d9822b; }
    .bp3-menu-item.bp3-intent-warning:active{
      background-color:#bf7326; }
    .bp3-menu-item.bp3-intent-warning:hover, .bp3-submenu .bp3-popover-target.bp3-popover-open > .bp3-intent-warning.bp3-menu-item, .bp3-menu-item.bp3-intent-warning:hover::before, .bp3-submenu .bp3-popover-target.bp3-popover-open > .bp3-intent-warning.bp3-menu-item::before, .bp3-menu-item.bp3-intent-warning:hover::after, .bp3-submenu .bp3-popover-target.bp3-popover-open > .bp3-intent-warning.bp3-menu-item::after,
    .bp3-menu-item.bp3-intent-warning:hover .bp3-menu-item-label,
    .bp3-submenu .bp3-popover-target.bp3-popover-open > .bp3-intent-warning.bp3-menu-item .bp3-menu-item-label, .bp3-menu-item.bp3-intent-warning:active, .bp3-menu-item.bp3-intent-warning:active::before, .bp3-menu-item.bp3-intent-warning:active::after,
    .bp3-menu-item.bp3-intent-warning:active .bp3-menu-item-label, .bp3-menu-item.bp3-intent-warning.bp3-active, .bp3-menu-item.bp3-intent-warning.bp3-active::before, .bp3-menu-item.bp3-intent-warning.bp3-active::after,
    .bp3-menu-item.bp3-intent-warning.bp3-active .bp3-menu-item-label{
      color:#ffffff; }
  .bp3-menu-item.bp3-intent-danger{
    color:#c23030; }
    .bp3-menu-item.bp3-intent-danger .bp3-icon{
      color:inherit; }
    .bp3-menu-item.bp3-intent-danger::before, .bp3-menu-item.bp3-intent-danger::after,
    .bp3-menu-item.bp3-intent-danger .bp3-menu-item-label{
      color:#c23030; }
    .bp3-menu-item.bp3-intent-danger:hover, .bp3-submenu .bp3-popover-target.bp3-popover-open > .bp3-intent-danger.bp3-menu-item, .bp3-menu-item.bp3-intent-danger.bp3-active{
      background-color:#db3737; }
    .bp3-menu-item.bp3-intent-danger:active{
      background-color:#c23030; }
    .bp3-menu-item.bp3-intent-danger:hover, .bp3-submenu .bp3-popover-target.bp3-popover-open > .bp3-intent-danger.bp3-menu-item, .bp3-menu-item.bp3-intent-danger:hover::before, .bp3-submenu .bp3-popover-target.bp3-popover-open > .bp3-intent-danger.bp3-menu-item::before, .bp3-menu-item.bp3-intent-danger:hover::after, .bp3-submenu .bp3-popover-target.bp3-popover-open > .bp3-intent-danger.bp3-menu-item::after,
    .bp3-menu-item.bp3-intent-danger:hover .bp3-menu-item-label,
    .bp3-submenu .bp3-popover-target.bp3-popover-open > .bp3-intent-danger.bp3-menu-item .bp3-menu-item-label, .bp3-menu-item.bp3-intent-danger:active, .bp3-menu-item.bp3-intent-danger:active::before, .bp3-menu-item.bp3-intent-danger:active::after,
    .bp3-menu-item.bp3-intent-danger:active .bp3-menu-item-label, .bp3-menu-item.bp3-intent-danger.bp3-active, .bp3-menu-item.bp3-intent-danger.bp3-active::before, .bp3-menu-item.bp3-intent-danger.bp3-active::after,
    .bp3-menu-item.bp3-intent-danger.bp3-active .bp3-menu-item-label{
      color:#ffffff; }
  .bp3-menu-item::before{
    font-family:"Icons16", sans-serif;
    font-size:16px;
    font-style:normal;
    font-weight:400;
    line-height:1;
    -moz-osx-font-smoothing:grayscale;
    -webkit-font-smoothing:antialiased;
    margin-right:7px; }
  .bp3-menu-item::before,
  .bp3-menu-item > .bp3-icon{
    color:#5c7080;
    margin-top:2px; }
  .bp3-menu-item .bp3-menu-item-label{
    color:#5c7080; }
  .bp3-menu-item:hover, .bp3-submenu .bp3-popover-target.bp3-popover-open > .bp3-menu-item{
    color:inherit; }
  .bp3-menu-item.bp3-active, .bp3-menu-item:active{
    background-color:rgba(115, 134, 148, 0.3); }
  .bp3-menu-item.bp3-disabled{
    background-color:inherit !important;
    color:rgba(92, 112, 128, 0.6) !important;
    cursor:not-allowed !important;
    outline:none !important; }
    .bp3-menu-item.bp3-disabled::before,
    .bp3-menu-item.bp3-disabled > .bp3-icon,
    .bp3-menu-item.bp3-disabled .bp3-menu-item-label{
      color:rgba(92, 112, 128, 0.6) !important; }
  .bp3-large .bp3-menu-item{
    font-size:16px;
    line-height:22px;
    padding:9px 7px; }
    .bp3-large .bp3-menu-item .bp3-icon{
      margin-top:3px; }
    .bp3-large .bp3-menu-item::before{
      font-family:"Icons20", sans-serif;
      font-size:20px;
      font-style:normal;
      font-weight:400;
      line-height:1;
      -moz-osx-font-smoothing:grayscale;
      -webkit-font-smoothing:antialiased;
      margin-right:10px;
      margin-top:1px; }

button.bp3-menu-item{
  background:none;
  border:none;
  text-align:left;
  width:100%; }
.bp3-menu-header{
  border-top:1px solid rgba(16, 22, 26, 0.15);
  display:block;
  margin:5px;
  cursor:default;
  padding-left:2px; }
  .bp3-dark .bp3-menu-header{
    border-top-color:rgba(255, 255, 255, 0.15); }
  .bp3-menu-header:first-of-type{
    border-top:none; }
  .bp3-menu-header > h6{
    color:#182026;
    font-weight:600;
    overflow:hidden;
    text-overflow:ellipsis;
    white-space:nowrap;
    word-wrap:normal;
    line-height:17px;
    margin:0;
    padding:10px 7px 0 1px; }
    .bp3-dark .bp3-menu-header > h6{
      color:#f5f8fa; }
  .bp3-menu-header:first-of-type > h6{
    padding-top:0; }
  .bp3-large .bp3-menu-header > h6{
    font-size:18px;
    padding-bottom:5px;
    padding-top:15px; }
  .bp3-large .bp3-menu-header:first-of-type > h6{
    padding-top:0; }

.bp3-dark .bp3-menu{
  background:#30404d;
  color:#f5f8fa; }

.bp3-dark .bp3-menu-item{ }
  .bp3-dark .bp3-menu-item.bp3-intent-primary{
    color:#48aff0; }
    .bp3-dark .bp3-menu-item.bp3-intent-primary .bp3-icon{
      color:inherit; }
    .bp3-dark .bp3-menu-item.bp3-intent-primary::before, .bp3-dark .bp3-menu-item.bp3-intent-primary::after,
    .bp3-dark .bp3-menu-item.bp3-intent-primary .bp3-menu-item-label{
      color:#48aff0; }
    .bp3-dark .bp3-menu-item.bp3-intent-primary:hover, .bp3-dark .bp3-submenu .bp3-popover-target.bp3-popover-open > .bp3-intent-primary.bp3-menu-item, .bp3-submenu .bp3-dark .bp3-popover-target.bp3-popover-open > .bp3-intent-primary.bp3-menu-item, .bp3-dark .bp3-menu-item.bp3-intent-primary.bp3-active{
      background-color:#137cbd; }
    .bp3-dark .bp3-menu-item.bp3-intent-primary:active{
      background-color:#106ba3; }
    .bp3-dark .bp3-menu-item.bp3-intent-primary:hover, .bp3-dark .bp3-submenu .bp3-popover-target.bp3-popover-open > .bp3-intent-primary.bp3-menu-item, .bp3-submenu .bp3-dark .bp3-popover-target.bp3-popover-open > .bp3-intent-primary.bp3-menu-item, .bp3-dark .bp3-menu-item.bp3-intent-primary:hover::before, .bp3-dark .bp3-submenu .bp3-popover-target.bp3-popover-open > .bp3-intent-primary.bp3-menu-item::before, .bp3-submenu .bp3-dark .bp3-popover-target.bp3-popover-open > .bp3-intent-primary.bp3-menu-item::before, .bp3-dark .bp3-menu-item.bp3-intent-primary:hover::after, .bp3-dark .bp3-submenu .bp3-popover-target.bp3-popover-open > .bp3-intent-primary.bp3-menu-item::after, .bp3-submenu .bp3-dark .bp3-popover-target.bp3-popover-open > .bp3-intent-primary.bp3-menu-item::after,
    .bp3-dark .bp3-menu-item.bp3-intent-primary:hover .bp3-menu-item-label,
    .bp3-dark .bp3-submenu .bp3-popover-target.bp3-popover-open > .bp3-intent-primary.bp3-menu-item .bp3-menu-item-label,
    .bp3-submenu .bp3-dark .bp3-popover-target.bp3-popover-open > .bp3-intent-primary.bp3-menu-item .bp3-menu-item-label, .bp3-dark .bp3-menu-item.bp3-intent-primary:active, .bp3-dark .bp3-menu-item.bp3-intent-primary:active::before, .bp3-dark .bp3-menu-item.bp3-intent-primary:active::after,
    .bp3-dark .bp3-menu-item.bp3-intent-primary:active .bp3-menu-item-label, .bp3-dark .bp3-menu-item.bp3-intent-primary.bp3-active, .bp3-dark .bp3-menu-item.bp3-intent-primary.bp3-active::before, .bp3-dark .bp3-menu-item.bp3-intent-primary.bp3-active::after,
    .bp3-dark .bp3-menu-item.bp3-intent-primary.bp3-active .bp3-menu-item-label{
      color:#ffffff; }
  .bp3-dark .bp3-menu-item.bp3-intent-success{
    color:#3dcc91; }
    .bp3-dark .bp3-menu-item.bp3-intent-success .bp3-icon{
      color:inherit; }
    .bp3-dark .bp3-menu-item.bp3-intent-success::before, .bp3-dark .bp3-menu-item.bp3-intent-success::after,
    .bp3-dark .bp3-menu-item.bp3-intent-success .bp3-menu-item-label{
      color:#3dcc91; }
    .bp3-dark .bp3-menu-item.bp3-intent-success:hover, .bp3-dark .bp3-submenu .bp3-popover-target.bp3-popover-open > .bp3-intent-success.bp3-menu-item, .bp3-submenu .bp3-dark .bp3-popover-target.bp3-popover-open > .bp3-intent-success.bp3-menu-item, .bp3-dark .bp3-menu-item.bp3-intent-success.bp3-active{
      background-color:#0f9960; }
    .bp3-dark .bp3-menu-item.bp3-intent-success:active{
      background-color:#0d8050; }
    .bp3-dark .bp3-menu-item.bp3-intent-success:hover, .bp3-dark .bp3-submenu .bp3-popover-target.bp3-popover-open > .bp3-intent-success.bp3-menu-item, .bp3-submenu .bp3-dark .bp3-popover-target.bp3-popover-open > .bp3-intent-success.bp3-menu-item, .bp3-dark .bp3-menu-item.bp3-intent-success:hover::before, .bp3-dark .bp3-submenu .bp3-popover-target.bp3-popover-open > .bp3-intent-success.bp3-menu-item::before, .bp3-submenu .bp3-dark .bp3-popover-target.bp3-popover-open > .bp3-intent-success.bp3-menu-item::before, .bp3-dark .bp3-menu-item.bp3-intent-success:hover::after, .bp3-dark .bp3-submenu .bp3-popover-target.bp3-popover-open > .bp3-intent-success.bp3-menu-item::after, .bp3-submenu .bp3-dark .bp3-popover-target.bp3-popover-open > .bp3-intent-success.bp3-menu-item::after,
    .bp3-dark .bp3-menu-item.bp3-intent-success:hover .bp3-menu-item-label,
    .bp3-dark .bp3-submenu .bp3-popover-target.bp3-popover-open > .bp3-intent-success.bp3-menu-item .bp3-menu-item-label,
    .bp3-submenu .bp3-dark .bp3-popover-target.bp3-popover-open > .bp3-intent-success.bp3-menu-item .bp3-menu-item-label, .bp3-dark .bp3-menu-item.bp3-intent-success:active, .bp3-dark .bp3-menu-item.bp3-intent-success:active::before, .bp3-dark .bp3-menu-item.bp3-intent-success:active::after,
    .bp3-dark .bp3-menu-item.bp3-intent-success:active .bp3-menu-item-label, .bp3-dark .bp3-menu-item.bp3-intent-success.bp3-active, .bp3-dark .bp3-menu-item.bp3-intent-success.bp3-active::before, .bp3-dark .bp3-menu-item.bp3-intent-success.bp3-active::after,
    .bp3-dark .bp3-menu-item.bp3-intent-success.bp3-active .bp3-menu-item-label{
      color:#ffffff; }
  .bp3-dark .bp3-menu-item.bp3-intent-warning{
    color:#ffb366; }
    .bp3-dark .bp3-menu-item.bp3-intent-warning .bp3-icon{
      color:inherit; }
    .bp3-dark .bp3-menu-item.bp3-intent-warning::before, .bp3-dark .bp3-menu-item.bp3-intent-warning::after,
    .bp3-dark .bp3-menu-item.bp3-intent-warning .bp3-menu-item-label{
      color:#ffb366; }
    .bp3-dark .bp3-menu-item.bp3-intent-warning:hover, .bp3-dark .bp3-submenu .bp3-popover-target.bp3-popover-open > .bp3-intent-warning.bp3-menu-item, .bp3-submenu .bp3-dark .bp3-popover-target.bp3-popover-open > .bp3-intent-warning.bp3-menu-item, .bp3-dark .bp3-menu-item.bp3-intent-warning.bp3-active{
      background-color:#d9822b; }
    .bp3-dark .bp3-menu-item.bp3-intent-warning:active{
      background-color:#bf7326; }
    .bp3-dark .bp3-menu-item.bp3-intent-warning:hover, .bp3-dark .bp3-submenu .bp3-popover-target.bp3-popover-open > .bp3-intent-warning.bp3-menu-item, .bp3-submenu .bp3-dark .bp3-popover-target.bp3-popover-open > .bp3-intent-warning.bp3-menu-item, .bp3-dark .bp3-menu-item.bp3-intent-warning:hover::before, .bp3-dark .bp3-submenu .bp3-popover-target.bp3-popover-open > .bp3-intent-warning.bp3-menu-item::before, .bp3-submenu .bp3-dark .bp3-popover-target.bp3-popover-open > .bp3-intent-warning.bp3-menu-item::before, .bp3-dark .bp3-menu-item.bp3-intent-warning:hover::after, .bp3-dark .bp3-submenu .bp3-popover-target.bp3-popover-open > .bp3-intent-warning.bp3-menu-item::after, .bp3-submenu .bp3-dark .bp3-popover-target.bp3-popover-open > .bp3-intent-warning.bp3-menu-item::after,
    .bp3-dark .bp3-menu-item.bp3-intent-warning:hover .bp3-menu-item-label,
    .bp3-dark .bp3-submenu .bp3-popover-target.bp3-popover-open > .bp3-intent-warning.bp3-menu-item .bp3-menu-item-label,
    .bp3-submenu .bp3-dark .bp3-popover-target.bp3-popover-open > .bp3-intent-warning.bp3-menu-item .bp3-menu-item-label, .bp3-dark .bp3-menu-item.bp3-intent-warning:active, .bp3-dark .bp3-menu-item.bp3-intent-warning:active::before, .bp3-dark .bp3-menu-item.bp3-intent-warning:active::after,
    .bp3-dark .bp3-menu-item.bp3-intent-warning:active .bp3-menu-item-label, .bp3-dark .bp3-menu-item.bp3-intent-warning.bp3-active, .bp3-dark .bp3-menu-item.bp3-intent-warning.bp3-active::before, .bp3-dark .bp3-menu-item.bp3-intent-warning.bp3-active::after,
    .bp3-dark .bp3-menu-item.bp3-intent-warning.bp3-active .bp3-menu-item-label{
      color:#ffffff; }
  .bp3-dark .bp3-menu-item.bp3-intent-danger{
    color:#ff7373; }
    .bp3-dark .bp3-menu-item.bp3-intent-danger .bp3-icon{
      color:inherit; }
    .bp3-dark .bp3-menu-item.bp3-intent-danger::before, .bp3-dark .bp3-menu-item.bp3-intent-danger::after,
    .bp3-dark .bp3-menu-item.bp3-intent-danger .bp3-menu-item-label{
      color:#ff7373; }
    .bp3-dark .bp3-menu-item.bp3-intent-danger:hover, .bp3-dark .bp3-submenu .bp3-popover-target.bp3-popover-open > .bp3-intent-danger.bp3-menu-item, .bp3-submenu .bp3-dark .bp3-popover-target.bp3-popover-open > .bp3-intent-danger.bp3-menu-item, .bp3-dark .bp3-menu-item.bp3-intent-danger.bp3-active{
      background-color:#db3737; }
    .bp3-dark .bp3-menu-item.bp3-intent-danger:active{
      background-color:#c23030; }
    .bp3-dark .bp3-menu-item.bp3-intent-danger:hover, .bp3-dark .bp3-submenu .bp3-popover-target.bp3-popover-open > .bp3-intent-danger.bp3-menu-item, .bp3-submenu .bp3-dark .bp3-popover-target.bp3-popover-open > .bp3-intent-danger.bp3-menu-item, .bp3-dark .bp3-menu-item.bp3-intent-danger:hover::before, .bp3-dark .bp3-submenu .bp3-popover-target.bp3-popover-open > .bp3-intent-danger.bp3-menu-item::before, .bp3-submenu .bp3-dark .bp3-popover-target.bp3-popover-open > .bp3-intent-danger.bp3-menu-item::before, .bp3-dark .bp3-menu-item.bp3-intent-danger:hover::after, .bp3-dark .bp3-submenu .bp3-popover-target.bp3-popover-open > .bp3-intent-danger.bp3-menu-item::after, .bp3-submenu .bp3-dark .bp3-popover-target.bp3-popover-open > .bp3-intent-danger.bp3-menu-item::after,
    .bp3-dark .bp3-menu-item.bp3-intent-danger:hover .bp3-menu-item-label,
    .bp3-dark .bp3-submenu .bp3-popover-target.bp3-popover-open > .bp3-intent-danger.bp3-menu-item .bp3-menu-item-label,
    .bp3-submenu .bp3-dark .bp3-popover-target.bp3-popover-open > .bp3-intent-danger.bp3-menu-item .bp3-menu-item-label, .bp3-dark .bp3-menu-item.bp3-intent-danger:active, .bp3-dark .bp3-menu-item.bp3-intent-danger:active::before, .bp3-dark .bp3-menu-item.bp3-intent-danger:active::after,
    .bp3-dark .bp3-menu-item.bp3-intent-danger:active .bp3-menu-item-label, .bp3-dark .bp3-menu-item.bp3-intent-danger.bp3-active, .bp3-dark .bp3-menu-item.bp3-intent-danger.bp3-active::before, .bp3-dark .bp3-menu-item.bp3-intent-danger.bp3-active::after,
    .bp3-dark .bp3-menu-item.bp3-intent-danger.bp3-active .bp3-menu-item-label{
      color:#ffffff; }
  .bp3-dark .bp3-menu-item::before,
  .bp3-dark .bp3-menu-item > .bp3-icon{
    color:#a7b6c2; }
  .bp3-dark .bp3-menu-item .bp3-menu-item-label{
    color:#a7b6c2; }
  .bp3-dark .bp3-menu-item.bp3-active, .bp3-dark .bp3-menu-item:active{
    background-color:rgba(138, 155, 168, 0.3); }
  .bp3-dark .bp3-menu-item.bp3-disabled{
    color:rgba(167, 182, 194, 0.6) !important; }
    .bp3-dark .bp3-menu-item.bp3-disabled::before,
    .bp3-dark .bp3-menu-item.bp3-disabled > .bp3-icon,
    .bp3-dark .bp3-menu-item.bp3-disabled .bp3-menu-item-label{
      color:rgba(167, 182, 194, 0.6) !important; }

.bp3-dark .bp3-menu-divider,
.bp3-dark .bp3-menu-header{
  border-color:rgba(255, 255, 255, 0.15); }

.bp3-dark .bp3-menu-header > h6{
  color:#f5f8fa; }

.bp3-label .bp3-menu{
  margin-top:5px; }
.bp3-navbar{
  background-color:#ffffff;
  -webkit-box-shadow:0 0 0 1px rgba(16, 22, 26, 0.1), 0 0 0 rgba(16, 22, 26, 0), 0 1px 1px rgba(16, 22, 26, 0.2);
          box-shadow:0 0 0 1px rgba(16, 22, 26, 0.1), 0 0 0 rgba(16, 22, 26, 0), 0 1px 1px rgba(16, 22, 26, 0.2);
  height:50px;
  padding:0 15px;
  position:relative;
  width:100%;
  z-index:10; }
  .bp3-navbar.bp3-dark,
  .bp3-dark .bp3-navbar{
    background-color:#394b59; }
  .bp3-navbar.bp3-dark{
    -webkit-box-shadow:inset 0 0 0 1px rgba(16, 22, 26, 0.2), 0 0 0 rgba(16, 22, 26, 0), 0 1px 1px rgba(16, 22, 26, 0.4);
            box-shadow:inset 0 0 0 1px rgba(16, 22, 26, 0.2), 0 0 0 rgba(16, 22, 26, 0), 0 1px 1px rgba(16, 22, 26, 0.4); }
  .bp3-dark .bp3-navbar{
    -webkit-box-shadow:0 0 0 1px rgba(16, 22, 26, 0.2), 0 0 0 rgba(16, 22, 26, 0), 0 1px 1px rgba(16, 22, 26, 0.4);
            box-shadow:0 0 0 1px rgba(16, 22, 26, 0.2), 0 0 0 rgba(16, 22, 26, 0), 0 1px 1px rgba(16, 22, 26, 0.4); }
  .bp3-navbar.bp3-fixed-top{
    left:0;
    position:fixed;
    right:0;
    top:0; }

.bp3-navbar-heading{
  font-size:16px;
  margin-right:15px; }

.bp3-navbar-group{
  -webkit-box-align:center;
      -ms-flex-align:center;
          align-items:center;
  display:-webkit-box;
  display:-ms-flexbox;
  display:flex;
  height:50px; }
  .bp3-navbar-group.bp3-align-left{
    float:left; }
  .bp3-navbar-group.bp3-align-right{
    float:right; }

.bp3-navbar-divider{
  border-left:1px solid rgba(16, 22, 26, 0.15);
  height:20px;
  margin:0 10px; }
  .bp3-dark .bp3-navbar-divider{
    border-left-color:rgba(255, 255, 255, 0.15); }
.bp3-non-ideal-state{
  display:-webkit-box;
  display:-ms-flexbox;
  display:flex;
  -webkit-box-orient:vertical;
  -webkit-box-direction:normal;
      -ms-flex-direction:column;
          flex-direction:column;
  -webkit-box-align:center;
      -ms-flex-align:center;
          align-items:center;
  height:100%;
  -webkit-box-pack:center;
      -ms-flex-pack:center;
          justify-content:center;
  text-align:center;
  width:100%; }
  .bp3-non-ideal-state > *{
    -webkit-box-flex:0;
        -ms-flex-positive:0;
            flex-grow:0;
    -ms-flex-negative:0;
        flex-shrink:0; }
  .bp3-non-ideal-state > .bp3-fill{
    -webkit-box-flex:1;
        -ms-flex-positive:1;
            flex-grow:1;
    -ms-flex-negative:1;
        flex-shrink:1; }
  .bp3-non-ideal-state::before,
  .bp3-non-ideal-state > *{
    margin-bottom:20px; }
  .bp3-non-ideal-state:empty::before,
  .bp3-non-ideal-state > :last-child{
    margin-bottom:0; }
  .bp3-non-ideal-state > *{
    max-width:400px; }

.bp3-non-ideal-state-visual{
  color:rgba(92, 112, 128, 0.6);
  font-size:60px; }
  .bp3-dark .bp3-non-ideal-state-visual{
    color:rgba(167, 182, 194, 0.6); }

.bp3-overflow-list{
  display:-webkit-box;
  display:-ms-flexbox;
  display:flex;
  -ms-flex-wrap:nowrap;
      flex-wrap:nowrap;
  min-width:0; }

.bp3-overflow-list-spacer{
  -ms-flex-negative:1;
      flex-shrink:1;
  width:1px; }

body.bp3-overlay-open{
  overflow:hidden; }

.bp3-overlay{
  bottom:0;
  left:0;
  position:static;
  right:0;
  top:0;
  z-index:20; }
  .bp3-overlay:not(.bp3-overlay-open){
    pointer-events:none; }
  .bp3-overlay.bp3-overlay-container{
    overflow:hidden;
    position:fixed; }
    .bp3-overlay.bp3-overlay-container.bp3-overlay-inline{
      position:absolute; }
  .bp3-overlay.bp3-overlay-scroll-container{
    overflow:auto;
    position:fixed; }
    .bp3-overlay.bp3-overlay-scroll-container.bp3-overlay-inline{
      position:absolute; }
  .bp3-overlay.bp3-overlay-inline{
    display:inline;
    overflow:visible; }

.bp3-overlay-content{
  position:fixed;
  z-index:20; }
  .bp3-overlay-inline .bp3-overlay-content,
  .bp3-overlay-scroll-container .bp3-overlay-content{
    position:absolute; }

.bp3-overlay-backdrop{
  bottom:0;
  left:0;
  position:fixed;
  right:0;
  top:0;
  opacity:1;
  background-color:rgba(16, 22, 26, 0.7);
  overflow:auto;
  -webkit-user-select:none;
     -moz-user-select:none;
      -ms-user-select:none;
          user-select:none;
  z-index:20; }
  .bp3-overlay-backdrop.bp3-overlay-enter, .bp3-overlay-backdrop.bp3-overlay-appear{
    opacity:0; }
  .bp3-overlay-backdrop.bp3-overlay-enter-active, .bp3-overlay-backdrop.bp3-overlay-appear-active{
    opacity:1;
    -webkit-transition-delay:0;
            transition-delay:0;
    -webkit-transition-duration:200ms;
            transition-duration:200ms;
    -webkit-transition-property:opacity;
    transition-property:opacity;
    -webkit-transition-timing-function:cubic-bezier(0.4, 1, 0.75, 0.9);
            transition-timing-function:cubic-bezier(0.4, 1, 0.75, 0.9); }
  .bp3-overlay-backdrop.bp3-overlay-exit{
    opacity:1; }
  .bp3-overlay-backdrop.bp3-overlay-exit-active{
    opacity:0;
    -webkit-transition-delay:0;
            transition-delay:0;
    -webkit-transition-duration:200ms;
            transition-duration:200ms;
    -webkit-transition-property:opacity;
    transition-property:opacity;
    -webkit-transition-timing-function:cubic-bezier(0.4, 1, 0.75, 0.9);
            transition-timing-function:cubic-bezier(0.4, 1, 0.75, 0.9); }
  .bp3-overlay-backdrop:focus{
    outline:none; }
  .bp3-overlay-inline .bp3-overlay-backdrop{
    position:absolute; }
.bp3-panel-stack{
  overflow:hidden;
  position:relative; }

.bp3-panel-stack-header{
  -webkit-box-align:center;
      -ms-flex-align:center;
          align-items:center;
  -webkit-box-shadow:0 1px rgba(16, 22, 26, 0.15);
          box-shadow:0 1px rgba(16, 22, 26, 0.15);
  display:-webkit-box;
  display:-ms-flexbox;
  display:flex;
  -ms-flex-negative:0;
      flex-shrink:0;
  height:30px;
  z-index:1; }
  .bp3-dark .bp3-panel-stack-header{
    -webkit-box-shadow:0 1px rgba(255, 255, 255, 0.15);
            box-shadow:0 1px rgba(255, 255, 255, 0.15); }
  .bp3-panel-stack-header > span{
    -webkit-box-align:stretch;
        -ms-flex-align:stretch;
            align-items:stretch;
    display:-webkit-box;
    display:-ms-flexbox;
    display:flex;
    -webkit-box-flex:1;
        -ms-flex:1;
            flex:1; }
  .bp3-panel-stack-header .bp3-heading{
    margin:0 5px; }

.bp3-button.bp3-panel-stack-header-back{
  margin-left:5px;
  padding-left:0;
  white-space:nowrap; }
  .bp3-button.bp3-panel-stack-header-back .bp3-icon{
    margin:0 2px; }

.bp3-panel-stack-view{
  bottom:0;
  left:0;
  position:absolute;
  right:0;
  top:0;
  background-color:#ffffff;
  border-right:1px solid rgba(16, 22, 26, 0.15);
  display:-webkit-box;
  display:-ms-flexbox;
  display:flex;
  -webkit-box-orient:vertical;
  -webkit-box-direction:normal;
      -ms-flex-direction:column;
          flex-direction:column;
  margin-right:-1px;
  overflow-y:auto;
  z-index:1; }
  .bp3-dark .bp3-panel-stack-view{
    background-color:#30404d; }
  .bp3-panel-stack-view:nth-last-child(n + 4){
    display:none; }

.bp3-panel-stack-push .bp3-panel-stack-enter, .bp3-panel-stack-push .bp3-panel-stack-appear{
  -webkit-transform:translateX(100%);
          transform:translateX(100%);
  opacity:0; }

.bp3-panel-stack-push .bp3-panel-stack-enter-active, .bp3-panel-stack-push .bp3-panel-stack-appear-active{
  -webkit-transform:translate(0%);
          transform:translate(0%);
  opacity:1;
  -webkit-transition-delay:0;
          transition-delay:0;
  -webkit-transition-duration:400ms;
          transition-duration:400ms;
  -webkit-transition-property:opacity, -webkit-transform;
  transition-property:opacity, -webkit-transform;
  transition-property:transform, opacity;
  transition-property:transform, opacity, -webkit-transform;
  -webkit-transition-timing-function:ease;
          transition-timing-function:ease; }

.bp3-panel-stack-push .bp3-panel-stack-exit{
  -webkit-transform:translate(0%);
          transform:translate(0%);
  opacity:1; }

.bp3-panel-stack-push .bp3-panel-stack-exit-active{
  -webkit-transform:translateX(-50%);
          transform:translateX(-50%);
  opacity:0;
  -webkit-transition-delay:0;
          transition-delay:0;
  -webkit-transition-duration:400ms;
          transition-duration:400ms;
  -webkit-transition-property:opacity, -webkit-transform;
  transition-property:opacity, -webkit-transform;
  transition-property:transform, opacity;
  transition-property:transform, opacity, -webkit-transform;
  -webkit-transition-timing-function:ease;
          transition-timing-function:ease; }

.bp3-panel-stack-pop .bp3-panel-stack-enter, .bp3-panel-stack-pop .bp3-panel-stack-appear{
  -webkit-transform:translateX(-50%);
          transform:translateX(-50%);
  opacity:0; }

.bp3-panel-stack-pop .bp3-panel-stack-enter-active, .bp3-panel-stack-pop .bp3-panel-stack-appear-active{
  -webkit-transform:translate(0%);
          transform:translate(0%);
  opacity:1;
  -webkit-transition-delay:0;
          transition-delay:0;
  -webkit-transition-duration:400ms;
          transition-duration:400ms;
  -webkit-transition-property:opacity, -webkit-transform;
  transition-property:opacity, -webkit-transform;
  transition-property:transform, opacity;
  transition-property:transform, opacity, -webkit-transform;
  -webkit-transition-timing-function:ease;
          transition-timing-function:ease; }

.bp3-panel-stack-pop .bp3-panel-stack-exit{
  -webkit-transform:translate(0%);
          transform:translate(0%);
  opacity:1; }

.bp3-panel-stack-pop .bp3-panel-stack-exit-active{
  -webkit-transform:translateX(100%);
          transform:translateX(100%);
  opacity:0;
  -webkit-transition-delay:0;
          transition-delay:0;
  -webkit-transition-duration:400ms;
          transition-duration:400ms;
  -webkit-transition-property:opacity, -webkit-transform;
  transition-property:opacity, -webkit-transform;
  transition-property:transform, opacity;
  transition-property:transform, opacity, -webkit-transform;
  -webkit-transition-timing-function:ease;
          transition-timing-function:ease; }
.bp3-panel-stack2{
  overflow:hidden;
  position:relative; }

.bp3-panel-stack2-header{
  -webkit-box-align:center;
      -ms-flex-align:center;
          align-items:center;
  -webkit-box-shadow:0 1px rgba(16, 22, 26, 0.15);
          box-shadow:0 1px rgba(16, 22, 26, 0.15);
  display:-webkit-box;
  display:-ms-flexbox;
  display:flex;
  -ms-flex-negative:0;
      flex-shrink:0;
  height:30px;
  z-index:1; }
  .bp3-dark .bp3-panel-stack2-header{
    -webkit-box-shadow:0 1px rgba(255, 255, 255, 0.15);
            box-shadow:0 1px rgba(255, 255, 255, 0.15); }
  .bp3-panel-stack2-header > span{
    -webkit-box-align:stretch;
        -ms-flex-align:stretch;
            align-items:stretch;
    display:-webkit-box;
    display:-ms-flexbox;
    display:flex;
    -webkit-box-flex:1;
        -ms-flex:1;
            flex:1; }
  .bp3-panel-stack2-header .bp3-heading{
    margin:0 5px; }

.bp3-button.bp3-panel-stack2-header-back{
  margin-left:5px;
  padding-left:0;
  white-space:nowrap; }
  .bp3-button.bp3-panel-stack2-header-back .bp3-icon{
    margin:0 2px; }

.bp3-panel-stack2-view{
  bottom:0;
  left:0;
  position:absolute;
  right:0;
  top:0;
  background-color:#ffffff;
  border-right:1px solid rgba(16, 22, 26, 0.15);
  display:-webkit-box;
  display:-ms-flexbox;
  display:flex;
  -webkit-box-orient:vertical;
  -webkit-box-direction:normal;
      -ms-flex-direction:column;
          flex-direction:column;
  margin-right:-1px;
  overflow-y:auto;
  z-index:1; }
  .bp3-dark .bp3-panel-stack2-view{
    background-color:#30404d; }
  .bp3-panel-stack2-view:nth-last-child(n + 4){
    display:none; }

.bp3-panel-stack2-push .bp3-panel-stack2-enter, .bp3-panel-stack2-push .bp3-panel-stack2-appear{
  -webkit-transform:translateX(100%);
          transform:translateX(100%);
  opacity:0; }

.bp3-panel-stack2-push .bp3-panel-stack2-enter-active, .bp3-panel-stack2-push .bp3-panel-stack2-appear-active{
  -webkit-transform:translate(0%);
          transform:translate(0%);
  opacity:1;
  -webkit-transition-delay:0;
          transition-delay:0;
  -webkit-transition-duration:400ms;
          transition-duration:400ms;
  -webkit-transition-property:opacity, -webkit-transform;
  transition-property:opacity, -webkit-transform;
  transition-property:transform, opacity;
  transition-property:transform, opacity, -webkit-transform;
  -webkit-transition-timing-function:ease;
          transition-timing-function:ease; }

.bp3-panel-stack2-push .bp3-panel-stack2-exit{
  -webkit-transform:translate(0%);
          transform:translate(0%);
  opacity:1; }

.bp3-panel-stack2-push .bp3-panel-stack2-exit-active{
  -webkit-transform:translateX(-50%);
          transform:translateX(-50%);
  opacity:0;
  -webkit-transition-delay:0;
          transition-delay:0;
  -webkit-transition-duration:400ms;
          transition-duration:400ms;
  -webkit-transition-property:opacity, -webkit-transform;
  transition-property:opacity, -webkit-transform;
  transition-property:transform, opacity;
  transition-property:transform, opacity, -webkit-transform;
  -webkit-transition-timing-function:ease;
          transition-timing-function:ease; }

.bp3-panel-stack2-pop .bp3-panel-stack2-enter, .bp3-panel-stack2-pop .bp3-panel-stack2-appear{
  -webkit-transform:translateX(-50%);
          transform:translateX(-50%);
  opacity:0; }

.bp3-panel-stack2-pop .bp3-panel-stack2-enter-active, .bp3-panel-stack2-pop .bp3-panel-stack2-appear-active{
  -webkit-transform:translate(0%);
          transform:translate(0%);
  opacity:1;
  -webkit-transition-delay:0;
          transition-delay:0;
  -webkit-transition-duration:400ms;
          transition-duration:400ms;
  -webkit-transition-property:opacity, -webkit-transform;
  transition-property:opacity, -webkit-transform;
  transition-property:transform, opacity;
  transition-property:transform, opacity, -webkit-transform;
  -webkit-transition-timing-function:ease;
          transition-timing-function:ease; }

.bp3-panel-stack2-pop .bp3-panel-stack2-exit{
  -webkit-transform:translate(0%);
          transform:translate(0%);
  opacity:1; }

.bp3-panel-stack2-pop .bp3-panel-stack2-exit-active{
  -webkit-transform:translateX(100%);
          transform:translateX(100%);
  opacity:0;
  -webkit-transition-delay:0;
          transition-delay:0;
  -webkit-transition-duration:400ms;
          transition-duration:400ms;
  -webkit-transition-property:opacity, -webkit-transform;
  transition-property:opacity, -webkit-transform;
  transition-property:transform, opacity;
  transition-property:transform, opacity, -webkit-transform;
  -webkit-transition-timing-function:ease;
          transition-timing-function:ease; }
.bp3-popover{
  -webkit-box-shadow:0 0 0 1px rgba(16, 22, 26, 0.1), 0 2px 4px rgba(16, 22, 26, 0.2), 0 8px 24px rgba(16, 22, 26, 0.2);
          box-shadow:0 0 0 1px rgba(16, 22, 26, 0.1), 0 2px 4px rgba(16, 22, 26, 0.2), 0 8px 24px rgba(16, 22, 26, 0.2);
  -webkit-transform:scale(1);
          transform:scale(1);
  border-radius:3px;
  display:inline-block;
  z-index:20; }
  .bp3-popover .bp3-popover-arrow{
    height:30px;
    position:absolute;
    width:30px; }
    .bp3-popover .bp3-popover-arrow::before{
      height:20px;
      margin:5px;
      width:20px; }
  .bp3-tether-element-attached-bottom.bp3-tether-target-attached-top > .bp3-popover{
    margin-bottom:17px;
    margin-top:-17px; }
    .bp3-tether-element-attached-bottom.bp3-tether-target-attached-top > .bp3-popover > .bp3-popover-arrow{
      bottom:-11px; }
      .bp3-tether-element-attached-bottom.bp3-tether-target-attached-top > .bp3-popover > .bp3-popover-arrow svg{
        -webkit-transform:rotate(-90deg);
                transform:rotate(-90deg); }
  .bp3-tether-element-attached-left.bp3-tether-target-attached-right > .bp3-popover{
    margin-left:17px; }
    .bp3-tether-element-attached-left.bp3-tether-target-attached-right > .bp3-popover > .bp3-popover-arrow{
      left:-11px; }
      .bp3-tether-element-attached-left.bp3-tether-target-attached-right > .bp3-popover > .bp3-popover-arrow svg{
        -webkit-transform:rotate(0);
                transform:rotate(0); }
  .bp3-tether-element-attached-top.bp3-tether-target-attached-bottom > .bp3-popover{
    margin-top:17px; }
    .bp3-tether-element-attached-top.bp3-tether-target-attached-bottom > .bp3-popover > .bp3-popover-arrow{
      top:-11px; }
      .bp3-tether-element-attached-top.bp3-tether-target-attached-bottom > .bp3-popover > .bp3-popover-arrow svg{
        -webkit-transform:rotate(90deg);
                transform:rotate(90deg); }
  .bp3-tether-element-attached-right.bp3-tether-target-attached-left > .bp3-popover{
    margin-left:-17px;
    margin-right:17px; }
    .bp3-tether-element-attached-right.bp3-tether-target-attached-left > .bp3-popover > .bp3-popover-arrow{
      right:-11px; }
      .bp3-tether-element-attached-right.bp3-tether-target-attached-left > .bp3-popover > .bp3-popover-arrow svg{
        -webkit-transform:rotate(180deg);
                transform:rotate(180deg); }
  .bp3-tether-element-attached-middle > .bp3-popover > .bp3-popover-arrow{
    top:50%;
    -webkit-transform:translateY(-50%);
            transform:translateY(-50%); }
  .bp3-tether-element-attached-center > .bp3-popover > .bp3-popover-arrow{
    right:50%;
    -webkit-transform:translateX(50%);
            transform:translateX(50%); }
  .bp3-tether-element-attached-top.bp3-tether-target-attached-top > .bp3-popover > .bp3-popover-arrow{
    top:-0.3934px; }
  .bp3-tether-element-attached-right.bp3-tether-target-attached-right > .bp3-popover > .bp3-popover-arrow{
    right:-0.3934px; }
  .bp3-tether-element-attached-left.bp3-tether-target-attached-left > .bp3-popover > .bp3-popover-arrow{
    left:-0.3934px; }
  .bp3-tether-element-attached-bottom.bp3-tether-target-attached-bottom > .bp3-popover > .bp3-popover-arrow{
    bottom:-0.3934px; }
  .bp3-tether-element-attached-top.bp3-tether-element-attached-left > .bp3-popover{
    -webkit-transform-origin:top left;
            transform-origin:top left; }
  .bp3-tether-element-attached-top.bp3-tether-element-attached-center > .bp3-popover{
    -webkit-transform-origin:top center;
            transform-origin:top center; }
  .bp3-tether-element-attached-top.bp3-tether-element-attached-right > .bp3-popover{
    -webkit-transform-origin:top right;
            transform-origin:top right; }
  .bp3-tether-element-attached-middle.bp3-tether-element-attached-left > .bp3-popover{
    -webkit-transform-origin:center left;
            transform-origin:center left; }
  .bp3-tether-element-attached-middle.bp3-tether-element-attached-center > .bp3-popover{
    -webkit-transform-origin:center center;
            transform-origin:center center; }
  .bp3-tether-element-attached-middle.bp3-tether-element-attached-right > .bp3-popover{
    -webkit-transform-origin:center right;
            transform-origin:center right; }
  .bp3-tether-element-attached-bottom.bp3-tether-element-attached-left > .bp3-popover{
    -webkit-transform-origin:bottom left;
            transform-origin:bottom left; }
  .bp3-tether-element-attached-bottom.bp3-tether-element-attached-center > .bp3-popover{
    -webkit-transform-origin:bottom center;
            transform-origin:bottom center; }
  .bp3-tether-element-attached-bottom.bp3-tether-element-attached-right > .bp3-popover{
    -webkit-transform-origin:bottom right;
            transform-origin:bottom right; }
  .bp3-popover .bp3-popover-content{
    background:#ffffff;
    color:inherit; }
  .bp3-popover .bp3-popover-arrow::before{
    -webkit-box-shadow:1px 1px 6px rgba(16, 22, 26, 0.2);
            box-shadow:1px 1px 6px rgba(16, 22, 26, 0.2); }
  .bp3-popover .bp3-popover-arrow-border{
    fill:#10161a;
    fill-opacity:0.1; }
  .bp3-popover .bp3-popover-arrow-fill{
    fill:#ffffff; }
  .bp3-popover-enter > .bp3-popover, .bp3-popover-appear > .bp3-popover{
    -webkit-transform:scale(0.3);
            transform:scale(0.3); }
  .bp3-popover-enter-active > .bp3-popover, .bp3-popover-appear-active > .bp3-popover{
    -webkit-transform:scale(1);
            transform:scale(1);
    -webkit-transition-delay:0;
            transition-delay:0;
    -webkit-transition-duration:300ms;
            transition-duration:300ms;
    -webkit-transition-property:-webkit-transform;
    transition-property:-webkit-transform;
    transition-property:transform;
    transition-property:transform, -webkit-transform;
    -webkit-transition-timing-function:cubic-bezier(0.54, 1.12, 0.38, 1.11);
            transition-timing-function:cubic-bezier(0.54, 1.12, 0.38, 1.11); }
  .bp3-popover-exit > .bp3-popover{
    -webkit-transform:scale(1);
            transform:scale(1); }
  .bp3-popover-exit-active > .bp3-popover{
    -webkit-transform:scale(0.3);
            transform:scale(0.3);
    -webkit-transition-delay:0;
            transition-delay:0;
    -webkit-transition-duration:300ms;
            transition-duration:300ms;
    -webkit-transition-property:-webkit-transform;
    transition-property:-webkit-transform;
    transition-property:transform;
    transition-property:transform, -webkit-transform;
    -webkit-transition-timing-function:cubic-bezier(0.54, 1.12, 0.38, 1.11);
            transition-timing-function:cubic-bezier(0.54, 1.12, 0.38, 1.11); }
  .bp3-popover .bp3-popover-content{
    border-radius:3px;
    position:relative; }
  .bp3-popover.bp3-popover-content-sizing .bp3-popover-content{
    max-width:350px;
    padding:20px; }
  .bp3-popover-target + .bp3-overlay .bp3-popover.bp3-popover-content-sizing{
    width:350px; }
  .bp3-popover.bp3-minimal{
    margin:0 !important; }
    .bp3-popover.bp3-minimal .bp3-popover-arrow{
      display:none; }
    .bp3-popover.bp3-minimal.bp3-popover{
      -webkit-transform:scale(1);
              transform:scale(1); }
      .bp3-popover-enter > .bp3-popover.bp3-minimal.bp3-popover, .bp3-popover-appear > .bp3-popover.bp3-minimal.bp3-popover{
        -webkit-transform:scale(1);
                transform:scale(1); }
      .bp3-popover-enter-active > .bp3-popover.bp3-minimal.bp3-popover, .bp3-popover-appear-active > .bp3-popover.bp3-minimal.bp3-popover{
        -webkit-transform:scale(1);
                transform:scale(1);
        -webkit-transition-delay:0;
                transition-delay:0;
        -webkit-transition-duration:100ms;
                transition-duration:100ms;
        -webkit-transition-property:-webkit-transform;
        transition-property:-webkit-transform;
        transition-property:transform;
        transition-property:transform, -webkit-transform;
        -webkit-transition-timing-function:cubic-bezier(0.4, 1, 0.75, 0.9);
                transition-timing-function:cubic-bezier(0.4, 1, 0.75, 0.9); }
      .bp3-popover-exit > .bp3-popover.bp3-minimal.bp3-popover{
        -webkit-transform:scale(1);
                transform:scale(1); }
      .bp3-popover-exit-active > .bp3-popover.bp3-minimal.bp3-popover{
        -webkit-transform:scale(1);
                transform:scale(1);
        -webkit-transition-delay:0;
                transition-delay:0;
        -webkit-transition-duration:100ms;
                transition-duration:100ms;
        -webkit-transition-property:-webkit-transform;
        transition-property:-webkit-transform;
        transition-property:transform;
        transition-property:transform, -webkit-transform;
        -webkit-transition-timing-function:cubic-bezier(0.4, 1, 0.75, 0.9);
                transition-timing-function:cubic-bezier(0.4, 1, 0.75, 0.9); }
  .bp3-popover.bp3-dark,
  .bp3-dark .bp3-popover{
    -webkit-box-shadow:0 0 0 1px rgba(16, 22, 26, 0.2), 0 2px 4px rgba(16, 22, 26, 0.4), 0 8px 24px rgba(16, 22, 26, 0.4);
            box-shadow:0 0 0 1px rgba(16, 22, 26, 0.2), 0 2px 4px rgba(16, 22, 26, 0.4), 0 8px 24px rgba(16, 22, 26, 0.4); }
    .bp3-popover.bp3-dark .bp3-popover-content,
    .bp3-dark .bp3-popover .bp3-popover-content{
      background:#30404d;
      color:inherit; }
    .bp3-popover.bp3-dark .bp3-popover-arrow::before,
    .bp3-dark .bp3-popover .bp3-popover-arrow::before{
      -webkit-box-shadow:1px 1px 6px rgba(16, 22, 26, 0.4);
              box-shadow:1px 1px 6px rgba(16, 22, 26, 0.4); }
    .bp3-popover.bp3-dark .bp3-popover-arrow-border,
    .bp3-dark .bp3-popover .bp3-popover-arrow-border{
      fill:#10161a;
      fill-opacity:0.2; }
    .bp3-popover.bp3-dark .bp3-popover-arrow-fill,
    .bp3-dark .bp3-popover .bp3-popover-arrow-fill{
      fill:#30404d; }

.bp3-popover-arrow::before{
  border-radius:2px;
  content:"";
  display:block;
  position:absolute;
  -webkit-transform:rotate(45deg);
          transform:rotate(45deg); }

.bp3-tether-pinned .bp3-popover-arrow{
  display:none; }

.bp3-popover-backdrop{
  background:rgba(255, 255, 255, 0); }

.bp3-transition-container{
  opacity:1;
  display:-webkit-box;
  display:-ms-flexbox;
  display:flex;
  z-index:20; }
  .bp3-transition-container.bp3-popover-enter, .bp3-transition-container.bp3-popover-appear{
    opacity:0; }
  .bp3-transition-container.bp3-popover-enter-active, .bp3-transition-container.bp3-popover-appear-active{
    opacity:1;
    -webkit-transition-delay:0;
            transition-delay:0;
    -webkit-transition-duration:100ms;
            transition-duration:100ms;
    -webkit-transition-property:opacity;
    transition-property:opacity;
    -webkit-transition-timing-function:cubic-bezier(0.4, 1, 0.75, 0.9);
            transition-timing-function:cubic-bezier(0.4, 1, 0.75, 0.9); }
  .bp3-transition-container.bp3-popover-exit{
    opacity:1; }
  .bp3-transition-container.bp3-popover-exit-active{
    opacity:0;
    -webkit-transition-delay:0;
            transition-delay:0;
    -webkit-transition-duration:100ms;
            transition-duration:100ms;
    -webkit-transition-property:opacity;
    transition-property:opacity;
    -webkit-transition-timing-function:cubic-bezier(0.4, 1, 0.75, 0.9);
            transition-timing-function:cubic-bezier(0.4, 1, 0.75, 0.9); }
  .bp3-transition-container:focus{
    outline:none; }
  .bp3-transition-container.bp3-popover-leave .bp3-popover-content{
    pointer-events:none; }
  .bp3-transition-container[data-x-out-of-boundaries]{
    display:none; }

span.bp3-popover-target{
  display:inline-block; }

.bp3-popover-wrapper.bp3-fill{
  width:100%; }

.bp3-portal{
  left:0;
  position:absolute;
  right:0;
  top:0; }
@-webkit-keyframes linear-progress-bar-stripes{
  from{
    background-position:0 0; }
  to{
    background-position:30px 0; } }
@keyframes linear-progress-bar-stripes{
  from{
    background-position:0 0; }
  to{
    background-position:30px 0; } }

.bp3-progress-bar{
  background:rgba(92, 112, 128, 0.2);
  border-radius:40px;
  display:block;
  height:8px;
  overflow:hidden;
  position:relative;
  width:100%; }
  .bp3-progress-bar .bp3-progress-meter{
    background:linear-gradient(-45deg, rgba(255, 255, 255, 0.2) 25%, transparent 25%, transparent 50%, rgba(255, 255, 255, 0.2) 50%, rgba(255, 255, 255, 0.2) 75%, transparent 75%);
    background-color:rgba(92, 112, 128, 0.8);
    background-size:30px 30px;
    border-radius:40px;
    height:100%;
    position:absolute;
    -webkit-transition:width 200ms cubic-bezier(0.4, 1, 0.75, 0.9);
    transition:width 200ms cubic-bezier(0.4, 1, 0.75, 0.9);
    width:100%; }
  .bp3-progress-bar:not(.bp3-no-animation):not(.bp3-no-stripes) .bp3-progress-meter{
    animation:linear-progress-bar-stripes 300ms linear infinite reverse; }
  .bp3-progress-bar.bp3-no-stripes .bp3-progress-meter{
    background-image:none; }

.bp3-dark .bp3-progress-bar{
  background:rgba(16, 22, 26, 0.5); }
  .bp3-dark .bp3-progress-bar .bp3-progress-meter{
    background-color:#8a9ba8; }

.bp3-progress-bar.bp3-intent-primary .bp3-progress-meter{
  background-color:#137cbd; }

.bp3-progress-bar.bp3-intent-success .bp3-progress-meter{
  background-color:#0f9960; }

.bp3-progress-bar.bp3-intent-warning .bp3-progress-meter{
  background-color:#d9822b; }

.bp3-progress-bar.bp3-intent-danger .bp3-progress-meter{
  background-color:#db3737; }
@-webkit-keyframes skeleton-glow{
  from{
    background:rgba(206, 217, 224, 0.2);
    border-color:rgba(206, 217, 224, 0.2); }
  to{
    background:rgba(92, 112, 128, 0.2);
    border-color:rgba(92, 112, 128, 0.2); } }
@keyframes skeleton-glow{
  from{
    background:rgba(206, 217, 224, 0.2);
    border-color:rgba(206, 217, 224, 0.2); }
  to{
    background:rgba(92, 112, 128, 0.2);
    border-color:rgba(92, 112, 128, 0.2); } }
.bp3-skeleton{
  -webkit-animation:1000ms linear infinite alternate skeleton-glow;
          animation:1000ms linear infinite alternate skeleton-glow;
  background:rgba(206, 217, 224, 0.2);
  background-clip:padding-box !important;
  border-color:rgba(206, 217, 224, 0.2) !important;
  border-radius:2px;
  -webkit-box-shadow:none !important;
          box-shadow:none !important;
  color:transparent !important;
  cursor:default;
  pointer-events:none;
  -webkit-user-select:none;
     -moz-user-select:none;
      -ms-user-select:none;
          user-select:none; }
  .bp3-skeleton::before, .bp3-skeleton::after,
  .bp3-skeleton *{
    visibility:hidden !important; }
.bp3-slider{
  height:40px;
  min-width:150px;
  width:100%;
  cursor:default;
  outline:none;
  position:relative;
  -webkit-user-select:none;
     -moz-user-select:none;
      -ms-user-select:none;
          user-select:none; }
  .bp3-slider:hover{
    cursor:pointer; }
  .bp3-slider:active{
    cursor:-webkit-grabbing;
    cursor:grabbing; }
  .bp3-slider.bp3-disabled{
    cursor:not-allowed;
    opacity:0.5; }
  .bp3-slider.bp3-slider-unlabeled{
    height:16px; }

.bp3-slider-track,
.bp3-slider-progress{
  height:6px;
  left:0;
  right:0;
  top:5px;
  position:absolute; }

.bp3-slider-track{
  border-radius:3px;
  overflow:hidden; }

.bp3-slider-progress{
  background:rgba(92, 112, 128, 0.2); }
  .bp3-dark .bp3-slider-progress{
    background:rgba(16, 22, 26, 0.5); }
  .bp3-slider-progress.bp3-intent-primary{
    background-color:#137cbd; }
  .bp3-slider-progress.bp3-intent-success{
    background-color:#0f9960; }
  .bp3-slider-progress.bp3-intent-warning{
    background-color:#d9822b; }
  .bp3-slider-progress.bp3-intent-danger{
    background-color:#db3737; }

.bp3-slider-handle{
  background-color:#f5f8fa;
  background-image:-webkit-gradient(linear, left top, left bottom, from(rgba(255, 255, 255, 0.8)), to(rgba(255, 255, 255, 0)));
  background-image:linear-gradient(to bottom, rgba(255, 255, 255, 0.8), rgba(255, 255, 255, 0));
  -webkit-box-shadow:inset 0 0 0 1px rgba(16, 22, 26, 0.2), inset 0 -1px 0 rgba(16, 22, 26, 0.1);
          box-shadow:inset 0 0 0 1px rgba(16, 22, 26, 0.2), inset 0 -1px 0 rgba(16, 22, 26, 0.1);
  color:#182026;
  border-radius:3px;
  -webkit-box-shadow:0 0 0 1px rgba(16, 22, 26, 0.2), 0 1px 1px rgba(16, 22, 26, 0.2);
          box-shadow:0 0 0 1px rgba(16, 22, 26, 0.2), 0 1px 1px rgba(16, 22, 26, 0.2);
  cursor:pointer;
  height:16px;
  left:0;
  position:absolute;
  top:0;
  width:16px; }
  .bp3-slider-handle:hover{
    background-clip:padding-box;
    background-color:#ebf1f5;
    -webkit-box-shadow:inset 0 0 0 1px rgba(16, 22, 26, 0.2), inset 0 -1px 0 rgba(16, 22, 26, 0.1);
            box-shadow:inset 0 0 0 1px rgba(16, 22, 26, 0.2), inset 0 -1px 0 rgba(16, 22, 26, 0.1); }
  .bp3-slider-handle:active, .bp3-slider-handle.bp3-active{
    background-color:#d8e1e8;
    background-image:none;
    -webkit-box-shadow:inset 0 0 0 1px rgba(16, 22, 26, 0.2), inset 0 1px 2px rgba(16, 22, 26, 0.2);
            box-shadow:inset 0 0 0 1px rgba(16, 22, 26, 0.2), inset 0 1px 2px rgba(16, 22, 26, 0.2); }
  .bp3-slider-handle:disabled, .bp3-slider-handle.bp3-disabled{
    background-color:rgba(206, 217, 224, 0.5);
    background-image:none;
    -webkit-box-shadow:none;
            box-shadow:none;
    color:rgba(92, 112, 128, 0.6);
    cursor:not-allowed;
    outline:none; }
    .bp3-slider-handle:disabled.bp3-active, .bp3-slider-handle:disabled.bp3-active:hover, .bp3-slider-handle.bp3-disabled.bp3-active, .bp3-slider-handle.bp3-disabled.bp3-active:hover{
      background:rgba(206, 217, 224, 0.7); }
  .bp3-slider-handle:focus{
    z-index:1; }
  .bp3-slider-handle:hover{
    background-clip:padding-box;
    background-color:#ebf1f5;
    -webkit-box-shadow:inset 0 0 0 1px rgba(16, 22, 26, 0.2), inset 0 -1px 0 rgba(16, 22, 26, 0.1);
            box-shadow:inset 0 0 0 1px rgba(16, 22, 26, 0.2), inset 0 -1px 0 rgba(16, 22, 26, 0.1);
    -webkit-box-shadow:0 0 0 1px rgba(16, 22, 26, 0.2), 0 1px 1px rgba(16, 22, 26, 0.2);
            box-shadow:0 0 0 1px rgba(16, 22, 26, 0.2), 0 1px 1px rgba(16, 22, 26, 0.2);
    cursor:-webkit-grab;
    cursor:grab;
    z-index:2; }
  .bp3-slider-handle.bp3-active{
    background-color:#d8e1e8;
    background-image:none;
    -webkit-box-shadow:inset 0 0 0 1px rgba(16, 22, 26, 0.2), inset 0 1px 2px rgba(16, 22, 26, 0.2);
            box-shadow:inset 0 0 0 1px rgba(16, 22, 26, 0.2), inset 0 1px 2px rgba(16, 22, 26, 0.2);
    -webkit-box-shadow:0 0 0 1px rgba(16, 22, 26, 0.2), inset 0 1px 1px rgba(16, 22, 26, 0.1);
            box-shadow:0 0 0 1px rgba(16, 22, 26, 0.2), inset 0 1px 1px rgba(16, 22, 26, 0.1);
    cursor:-webkit-grabbing;
    cursor:grabbing; }
  .bp3-disabled .bp3-slider-handle{
    background:#bfccd6;
    -webkit-box-shadow:none;
            box-shadow:none;
    pointer-events:none; }
  .bp3-dark .bp3-slider-handle{
    background-color:#394b59;
    background-image:-webkit-gradient(linear, left top, left bottom, from(rgba(255, 255, 255, 0.05)), to(rgba(255, 255, 255, 0)));
    background-image:linear-gradient(to bottom, rgba(255, 255, 255, 0.05), rgba(255, 255, 255, 0));
    -webkit-box-shadow:0 0 0 1px rgba(16, 22, 26, 0.4);
            box-shadow:0 0 0 1px rgba(16, 22, 26, 0.4);
    color:#f5f8fa; }
    .bp3-dark .bp3-slider-handle:hover, .bp3-dark .bp3-slider-handle:active, .bp3-dark .bp3-slider-handle.bp3-active{
      color:#f5f8fa; }
    .bp3-dark .bp3-slider-handle:hover{
      background-color:#30404d;
      -webkit-box-shadow:0 0 0 1px rgba(16, 22, 26, 0.4);
              box-shadow:0 0 0 1px rgba(16, 22, 26, 0.4); }
    .bp3-dark .bp3-slider-handle:active, .bp3-dark .bp3-slider-handle.bp3-active{
      background-color:#202b33;
      background-image:none;
      -webkit-box-shadow:0 0 0 1px rgba(16, 22, 26, 0.6), inset 0 1px 2px rgba(16, 22, 26, 0.2);
              box-shadow:0 0 0 1px rgba(16, 22, 26, 0.6), inset 0 1px 2px rgba(16, 22, 26, 0.2); }
    .bp3-dark .bp3-slider-handle:disabled, .bp3-dark .bp3-slider-handle.bp3-disabled{
      background-color:rgba(57, 75, 89, 0.5);
      background-image:none;
      -webkit-box-shadow:none;
              box-shadow:none;
      color:rgba(167, 182, 194, 0.6); }
      .bp3-dark .bp3-slider-handle:disabled.bp3-active, .bp3-dark .bp3-slider-handle.bp3-disabled.bp3-active{
        background:rgba(57, 75, 89, 0.7); }
    .bp3-dark .bp3-slider-handle .bp3-button-spinner .bp3-spinner-head{
      background:rgba(16, 22, 26, 0.5);
      stroke:#8a9ba8; }
    .bp3-dark .bp3-slider-handle, .bp3-dark .bp3-slider-handle:hover{
      background-color:#394b59; }
    .bp3-dark .bp3-slider-handle.bp3-active{
      background-color:#293742; }
  .bp3-dark .bp3-disabled .bp3-slider-handle{
    background:#5c7080;
    border-color:#5c7080;
    -webkit-box-shadow:none;
            box-shadow:none; }
  .bp3-slider-handle .bp3-slider-label{
    background:#394b59;
    border-radius:3px;
    -webkit-box-shadow:0 0 0 1px rgba(16, 22, 26, 0.1), 0 2px 4px rgba(16, 22, 26, 0.2), 0 8px 24px rgba(16, 22, 26, 0.2);
            box-shadow:0 0 0 1px rgba(16, 22, 26, 0.1), 0 2px 4px rgba(16, 22, 26, 0.2), 0 8px 24px rgba(16, 22, 26, 0.2);
    color:#f5f8fa;
    margin-left:8px; }
    .bp3-dark .bp3-slider-handle .bp3-slider-label{
      background:#e1e8ed;
      -webkit-box-shadow:0 0 0 1px rgba(16, 22, 26, 0.2), 0 2px 4px rgba(16, 22, 26, 0.4), 0 8px 24px rgba(16, 22, 26, 0.4);
              box-shadow:0 0 0 1px rgba(16, 22, 26, 0.2), 0 2px 4px rgba(16, 22, 26, 0.4), 0 8px 24px rgba(16, 22, 26, 0.4);
      color:#394b59; }
    .bp3-disabled .bp3-slider-handle .bp3-slider-label{
      -webkit-box-shadow:none;
              box-shadow:none; }
  .bp3-slider-handle.bp3-start, .bp3-slider-handle.bp3-end{
    width:8px; }
  .bp3-slider-handle.bp3-start{
    border-bottom-right-radius:0;
    border-top-right-radius:0; }
  .bp3-slider-handle.bp3-end{
    border-bottom-left-radius:0;
    border-top-left-radius:0;
    margin-left:8px; }
    .bp3-slider-handle.bp3-end .bp3-slider-label{
      margin-left:0; }

.bp3-slider-label{
  -webkit-transform:translate(-50%, 20px);
          transform:translate(-50%, 20px);
  display:inline-block;
  font-size:12px;
  line-height:1;
  padding:2px 5px;
  position:absolute;
  vertical-align:top; }

.bp3-slider.bp3-vertical{
  height:150px;
  min-width:40px;
  width:40px; }
  .bp3-slider.bp3-vertical .bp3-slider-track,
  .bp3-slider.bp3-vertical .bp3-slider-progress{
    bottom:0;
    height:auto;
    left:5px;
    top:0;
    width:6px; }
  .bp3-slider.bp3-vertical .bp3-slider-progress{
    top:auto; }
  .bp3-slider.bp3-vertical .bp3-slider-label{
    -webkit-transform:translate(20px, 50%);
            transform:translate(20px, 50%); }
  .bp3-slider.bp3-vertical .bp3-slider-handle{
    top:auto; }
    .bp3-slider.bp3-vertical .bp3-slider-handle .bp3-slider-label{
      margin-left:0;
      margin-top:-8px; }
    .bp3-slider.bp3-vertical .bp3-slider-handle.bp3-end, .bp3-slider.bp3-vertical .bp3-slider-handle.bp3-start{
      height:8px;
      margin-left:0;
      width:16px; }
    .bp3-slider.bp3-vertical .bp3-slider-handle.bp3-start{
      border-bottom-right-radius:3px;
      border-top-left-radius:0; }
      .bp3-slider.bp3-vertical .bp3-slider-handle.bp3-start .bp3-slider-label{
        -webkit-transform:translate(20px);
                transform:translate(20px); }
    .bp3-slider.bp3-vertical .bp3-slider-handle.bp3-end{
      border-bottom-left-radius:0;
      border-bottom-right-radius:0;
      border-top-left-radius:3px;
      margin-bottom:8px; }

@-webkit-keyframes pt-spinner-animation{
  from{
    -webkit-transform:rotate(0deg);
            transform:rotate(0deg); }
  to{
    -webkit-transform:rotate(360deg);
            transform:rotate(360deg); } }

@keyframes pt-spinner-animation{
  from{
    -webkit-transform:rotate(0deg);
            transform:rotate(0deg); }
  to{
    -webkit-transform:rotate(360deg);
            transform:rotate(360deg); } }

.bp3-spinner{
  -webkit-box-align:center;
      -ms-flex-align:center;
          align-items:center;
  display:-webkit-box;
  display:-ms-flexbox;
  display:flex;
  -webkit-box-pack:center;
      -ms-flex-pack:center;
          justify-content:center;
  overflow:visible;
  vertical-align:middle; }
  .bp3-spinner svg{
    display:block; }
  .bp3-spinner path{
    fill-opacity:0; }
  .bp3-spinner .bp3-spinner-head{
    stroke:rgba(92, 112, 128, 0.8);
    stroke-linecap:round;
    -webkit-transform-origin:center;
            transform-origin:center;
    -webkit-transition:stroke-dashoffset 200ms cubic-bezier(0.4, 1, 0.75, 0.9);
    transition:stroke-dashoffset 200ms cubic-bezier(0.4, 1, 0.75, 0.9); }
  .bp3-spinner .bp3-spinner-track{
    stroke:rgba(92, 112, 128, 0.2); }

.bp3-spinner-animation{
  -webkit-animation:pt-spinner-animation 500ms linear infinite;
          animation:pt-spinner-animation 500ms linear infinite; }
  .bp3-no-spin > .bp3-spinner-animation{
    -webkit-animation:none;
            animation:none; }

.bp3-dark .bp3-spinner .bp3-spinner-head{
  stroke:#8a9ba8; }

.bp3-dark .bp3-spinner .bp3-spinner-track{
  stroke:rgba(16, 22, 26, 0.5); }

.bp3-spinner.bp3-intent-primary .bp3-spinner-head{
  stroke:#137cbd; }

.bp3-spinner.bp3-intent-success .bp3-spinner-head{
  stroke:#0f9960; }

.bp3-spinner.bp3-intent-warning .bp3-spinner-head{
  stroke:#d9822b; }

.bp3-spinner.bp3-intent-danger .bp3-spinner-head{
  stroke:#db3737; }
.bp3-tabs.bp3-vertical{
  display:-webkit-box;
  display:-ms-flexbox;
  display:flex; }
  .bp3-tabs.bp3-vertical > .bp3-tab-list{
    -webkit-box-align:start;
        -ms-flex-align:start;
            align-items:flex-start;
    -webkit-box-orient:vertical;
    -webkit-box-direction:normal;
        -ms-flex-direction:column;
            flex-direction:column; }
    .bp3-tabs.bp3-vertical > .bp3-tab-list .bp3-tab{
      border-radius:3px;
      padding:0 10px;
      width:100%; }
      .bp3-tabs.bp3-vertical > .bp3-tab-list .bp3-tab[aria-selected="true"]{
        background-color:rgba(19, 124, 189, 0.2);
        -webkit-box-shadow:none;
                box-shadow:none; }
    .bp3-tabs.bp3-vertical > .bp3-tab-list .bp3-tab-indicator-wrapper .bp3-tab-indicator{
      background-color:rgba(19, 124, 189, 0.2);
      border-radius:3px;
      bottom:0;
      height:auto;
      left:0;
      right:0;
      top:0; }
  .bp3-tabs.bp3-vertical > .bp3-tab-panel{
    margin-top:0;
    padding-left:20px; }

.bp3-tab-list{
  -webkit-box-align:end;
      -ms-flex-align:end;
          align-items:flex-end;
  border:none;
  display:-webkit-box;
  display:-ms-flexbox;
  display:flex;
  -webkit-box-flex:0;
      -ms-flex:0 0 auto;
          flex:0 0 auto;
  list-style:none;
  margin:0;
  padding:0;
  position:relative; }
  .bp3-tab-list > *:not(:last-child){
    margin-right:20px; }

.bp3-tab{
  overflow:hidden;
  text-overflow:ellipsis;
  white-space:nowrap;
  word-wrap:normal;
  color:#182026;
  cursor:pointer;
  -webkit-box-flex:0;
      -ms-flex:0 0 auto;
          flex:0 0 auto;
  font-size:14px;
  line-height:30px;
  max-width:100%;
  position:relative;
  vertical-align:top; }
  .bp3-tab a{
    color:inherit;
    display:block;
    text-decoration:none; }
  .bp3-tab-indicator-wrapper ~ .bp3-tab{
    background-color:transparent !important;
    -webkit-box-shadow:none !important;
            box-shadow:none !important; }
  .bp3-tab[aria-disabled="true"]{
    color:rgba(92, 112, 128, 0.6);
    cursor:not-allowed; }
  .bp3-tab[aria-selected="true"]{
    border-radius:0;
    -webkit-box-shadow:inset 0 -3px 0 #106ba3;
            box-shadow:inset 0 -3px 0 #106ba3; }
  .bp3-tab[aria-selected="true"], .bp3-tab:not([aria-disabled="true"]):hover{
    color:#106ba3; }
  .bp3-tab:focus{
    -moz-outline-radius:0; }
  .bp3-large > .bp3-tab{
    font-size:16px;
    line-height:40px; }

.bp3-tab-panel{
  margin-top:20px; }
  .bp3-tab-panel[aria-hidden="true"]{
    display:none; }

.bp3-tab-indicator-wrapper{
  left:0;
  pointer-events:none;
  position:absolute;
  top:0;
  -webkit-transform:translateX(0), translateY(0);
          transform:translateX(0), translateY(0);
  -webkit-transition:height, width, -webkit-transform;
  transition:height, width, -webkit-transform;
  transition:height, transform, width;
  transition:height, transform, width, -webkit-transform;
  -webkit-transition-duration:200ms;
          transition-duration:200ms;
  -webkit-transition-timing-function:cubic-bezier(0.4, 1, 0.75, 0.9);
          transition-timing-function:cubic-bezier(0.4, 1, 0.75, 0.9); }
  .bp3-tab-indicator-wrapper .bp3-tab-indicator{
    background-color:#106ba3;
    bottom:0;
    height:3px;
    left:0;
    position:absolute;
    right:0; }
  .bp3-tab-indicator-wrapper.bp3-no-animation{
    -webkit-transition:none;
    transition:none; }

.bp3-dark .bp3-tab{
  color:#f5f8fa; }
  .bp3-dark .bp3-tab[aria-disabled="true"]{
    color:rgba(167, 182, 194, 0.6); }
  .bp3-dark .bp3-tab[aria-selected="true"]{
    -webkit-box-shadow:inset 0 -3px 0 #48aff0;
            box-shadow:inset 0 -3px 0 #48aff0; }
  .bp3-dark .bp3-tab[aria-selected="true"], .bp3-dark .bp3-tab:not([aria-disabled="true"]):hover{
    color:#48aff0; }

.bp3-dark .bp3-tab-indicator{
  background-color:#48aff0; }

.bp3-flex-expander{
  -webkit-box-flex:1;
      -ms-flex:1 1;
          flex:1 1; }
.bp3-tag{
  display:-webkit-inline-box;
  display:-ms-inline-flexbox;
  display:inline-flex;
  -webkit-box-orient:horizontal;
  -webkit-box-direction:normal;
      -ms-flex-direction:row;
          flex-direction:row;
  -webkit-box-align:center;
      -ms-flex-align:center;
          align-items:center;
  background-color:#5c7080;
  border:none;
  border-radius:3px;
  -webkit-box-shadow:none;
          box-shadow:none;
  color:#f5f8fa;
  font-size:12px;
  line-height:16px;
  max-width:100%;
  min-height:20px;
  min-width:20px;
  padding:2px 6px;
  position:relative; }
  .bp3-tag.bp3-interactive{
    cursor:pointer; }
    .bp3-tag.bp3-interactive:hover{
      background-color:rgba(92, 112, 128, 0.85); }
    .bp3-tag.bp3-interactive.bp3-active, .bp3-tag.bp3-interactive:active{
      background-color:rgba(92, 112, 128, 0.7); }
  .bp3-tag > *{
    -webkit-box-flex:0;
        -ms-flex-positive:0;
            flex-grow:0;
    -ms-flex-negative:0;
        flex-shrink:0; }
  .bp3-tag > .bp3-fill{
    -webkit-box-flex:1;
        -ms-flex-positive:1;
            flex-grow:1;
    -ms-flex-negative:1;
        flex-shrink:1; }
  .bp3-tag::before,
  .bp3-tag > *{
    margin-right:4px; }
  .bp3-tag:empty::before,
  .bp3-tag > :last-child{
    margin-right:0; }
  .bp3-tag:focus{
    outline:rgba(19, 124, 189, 0.6) auto 2px;
    outline-offset:0;
    -moz-outline-radius:6px; }
  .bp3-tag.bp3-round{
    border-radius:30px;
    padding-left:8px;
    padding-right:8px; }
  .bp3-dark .bp3-tag{
    background-color:#bfccd6;
    color:#182026; }
    .bp3-dark .bp3-tag.bp3-interactive{
      cursor:pointer; }
      .bp3-dark .bp3-tag.bp3-interactive:hover{
        background-color:rgba(191, 204, 214, 0.85); }
      .bp3-dark .bp3-tag.bp3-interactive.bp3-active, .bp3-dark .bp3-tag.bp3-interactive:active{
        background-color:rgba(191, 204, 214, 0.7); }
    .bp3-dark .bp3-tag > .bp3-icon, .bp3-dark .bp3-tag .bp3-icon-standard, .bp3-dark .bp3-tag .bp3-icon-large{
      fill:currentColor; }
  .bp3-tag > .bp3-icon, .bp3-tag .bp3-icon-standard, .bp3-tag .bp3-icon-large{
    fill:#ffffff; }
  .bp3-tag.bp3-large,
  .bp3-large .bp3-tag{
    font-size:14px;
    line-height:20px;
    min-height:30px;
    min-width:30px;
    padding:5px 10px; }
    .bp3-tag.bp3-large::before,
    .bp3-tag.bp3-large > *,
    .bp3-large .bp3-tag::before,
    .bp3-large .bp3-tag > *{
      margin-right:7px; }
    .bp3-tag.bp3-large:empty::before,
    .bp3-tag.bp3-large > :last-child,
    .bp3-large .bp3-tag:empty::before,
    .bp3-large .bp3-tag > :last-child{
      margin-right:0; }
    .bp3-tag.bp3-large.bp3-round,
    .bp3-large .bp3-tag.bp3-round{
      padding-left:12px;
      padding-right:12px; }
  .bp3-tag.bp3-intent-primary{
    background:#137cbd;
    color:#ffffff; }
    .bp3-tag.bp3-intent-primary.bp3-interactive{
      cursor:pointer; }
      .bp3-tag.bp3-intent-primary.bp3-interactive:hover{
        background-color:rgba(19, 124, 189, 0.85); }
      .bp3-tag.bp3-intent-primary.bp3-interactive.bp3-active, .bp3-tag.bp3-intent-primary.bp3-interactive:active{
        background-color:rgba(19, 124, 189, 0.7); }
  .bp3-tag.bp3-intent-success{
    background:#0f9960;
    color:#ffffff; }
    .bp3-tag.bp3-intent-success.bp3-interactive{
      cursor:pointer; }
      .bp3-tag.bp3-intent-success.bp3-interactive:hover{
        background-color:rgba(15, 153, 96, 0.85); }
      .bp3-tag.bp3-intent-success.bp3-interactive.bp3-active, .bp3-tag.bp3-intent-success.bp3-interactive:active{
        background-color:rgba(15, 153, 96, 0.7); }
  .bp3-tag.bp3-intent-warning{
    background:#d9822b;
    color:#ffffff; }
    .bp3-tag.bp3-intent-warning.bp3-interactive{
      cursor:pointer; }
      .bp3-tag.bp3-intent-warning.bp3-interactive:hover{
        background-color:rgba(217, 130, 43, 0.85); }
      .bp3-tag.bp3-intent-warning.bp3-interactive.bp3-active, .bp3-tag.bp3-intent-warning.bp3-interactive:active{
        background-color:rgba(217, 130, 43, 0.7); }
  .bp3-tag.bp3-intent-danger{
    background:#db3737;
    color:#ffffff; }
    .bp3-tag.bp3-intent-danger.bp3-interactive{
      cursor:pointer; }
      .bp3-tag.bp3-intent-danger.bp3-interactive:hover{
        background-color:rgba(219, 55, 55, 0.85); }
      .bp3-tag.bp3-intent-danger.bp3-interactive.bp3-active, .bp3-tag.bp3-intent-danger.bp3-interactive:active{
        background-color:rgba(219, 55, 55, 0.7); }
  .bp3-tag.bp3-fill{
    display:-webkit-box;
    display:-ms-flexbox;
    display:flex;
    width:100%; }
  .bp3-tag.bp3-minimal > .bp3-icon, .bp3-tag.bp3-minimal .bp3-icon-standard, .bp3-tag.bp3-minimal .bp3-icon-large{
    fill:#5c7080; }
  .bp3-tag.bp3-minimal:not([class*="bp3-intent-"]){
    background-color:rgba(138, 155, 168, 0.2);
    color:#182026; }
    .bp3-tag.bp3-minimal:not([class*="bp3-intent-"]).bp3-interactive{
      cursor:pointer; }
      .bp3-tag.bp3-minimal:not([class*="bp3-intent-"]).bp3-interactive:hover{
        background-color:rgba(92, 112, 128, 0.3); }
      .bp3-tag.bp3-minimal:not([class*="bp3-intent-"]).bp3-interactive.bp3-active, .bp3-tag.bp3-minimal:not([class*="bp3-intent-"]).bp3-interactive:active{
        background-color:rgba(92, 112, 128, 0.4); }
    .bp3-dark .bp3-tag.bp3-minimal:not([class*="bp3-intent-"]){
      color:#f5f8fa; }
      .bp3-dark .bp3-tag.bp3-minimal:not([class*="bp3-intent-"]).bp3-interactive{
        cursor:pointer; }
        .bp3-dark .bp3-tag.bp3-minimal:not([class*="bp3-intent-"]).bp3-interactive:hover{
          background-color:rgba(191, 204, 214, 0.3); }
        .bp3-dark .bp3-tag.bp3-minimal:not([class*="bp3-intent-"]).bp3-interactive.bp3-active, .bp3-dark .bp3-tag.bp3-minimal:not([class*="bp3-intent-"]).bp3-interactive:active{
          background-color:rgba(191, 204, 214, 0.4); }
      .bp3-dark .bp3-tag.bp3-minimal:not([class*="bp3-intent-"]) > .bp3-icon, .bp3-dark .bp3-tag.bp3-minimal:not([class*="bp3-intent-"]) .bp3-icon-standard, .bp3-dark .bp3-tag.bp3-minimal:not([class*="bp3-intent-"]) .bp3-icon-large{
        fill:#a7b6c2; }
  .bp3-tag.bp3-minimal.bp3-intent-primary{
    background-color:rgba(19, 124, 189, 0.15);
    color:#106ba3; }
    .bp3-tag.bp3-minimal.bp3-intent-primary.bp3-interactive{
      cursor:pointer; }
      .bp3-tag.bp3-minimal.bp3-intent-primary.bp3-interactive:hover{
        background-color:rgba(19, 124, 189, 0.25); }
      .bp3-tag.bp3-minimal.bp3-intent-primary.bp3-interactive.bp3-active, .bp3-tag.bp3-minimal.bp3-intent-primary.bp3-interactive:active{
        background-color:rgba(19, 124, 189, 0.35); }
    .bp3-tag.bp3-minimal.bp3-intent-primary > .bp3-icon, .bp3-tag.bp3-minimal.bp3-intent-primary .bp3-icon-standard, .bp3-tag.bp3-minimal.bp3-intent-primary .bp3-icon-large{
      fill:#137cbd; }
    .bp3-dark .bp3-tag.bp3-minimal.bp3-intent-primary{
      background-color:rgba(19, 124, 189, 0.25);
      color:#48aff0; }
      .bp3-dark .bp3-tag.bp3-minimal.bp3-intent-primary.bp3-interactive{
        cursor:pointer; }
        .bp3-dark .bp3-tag.bp3-minimal.bp3-intent-primary.bp3-interactive:hover{
          background-color:rgba(19, 124, 189, 0.35); }
        .bp3-dark .bp3-tag.bp3-minimal.bp3-intent-primary.bp3-interactive.bp3-active, .bp3-dark .bp3-tag.bp3-minimal.bp3-intent-primary.bp3-interactive:active{
          background-color:rgba(19, 124, 189, 0.45); }
  .bp3-tag.bp3-minimal.bp3-intent-success{
    background-color:rgba(15, 153, 96, 0.15);
    color:#0d8050; }
    .bp3-tag.bp3-minimal.bp3-intent-success.bp3-interactive{
      cursor:pointer; }
      .bp3-tag.bp3-minimal.bp3-intent-success.bp3-interactive:hover{
        background-color:rgba(15, 153, 96, 0.25); }
      .bp3-tag.bp3-minimal.bp3-intent-success.bp3-interactive.bp3-active, .bp3-tag.bp3-minimal.bp3-intent-success.bp3-interactive:active{
        background-color:rgba(15, 153, 96, 0.35); }
    .bp3-tag.bp3-minimal.bp3-intent-success > .bp3-icon, .bp3-tag.bp3-minimal.bp3-intent-success .bp3-icon-standard, .bp3-tag.bp3-minimal.bp3-intent-success .bp3-icon-large{
      fill:#0f9960; }
    .bp3-dark .bp3-tag.bp3-minimal.bp3-intent-success{
      background-color:rgba(15, 153, 96, 0.25);
      color:#3dcc91; }
      .bp3-dark .bp3-tag.bp3-minimal.bp3-intent-success.bp3-interactive{
        cursor:pointer; }
        .bp3-dark .bp3-tag.bp3-minimal.bp3-intent-success.bp3-interactive:hover{
          background-color:rgba(15, 153, 96, 0.35); }
        .bp3-dark .bp3-tag.bp3-minimal.bp3-intent-success.bp3-interactive.bp3-active, .bp3-dark .bp3-tag.bp3-minimal.bp3-intent-success.bp3-interactive:active{
          background-color:rgba(15, 153, 96, 0.45); }
  .bp3-tag.bp3-minimal.bp3-intent-warning{
    background-color:rgba(217, 130, 43, 0.15);
    color:#bf7326; }
    .bp3-tag.bp3-minimal.bp3-intent-warning.bp3-interactive{
      cursor:pointer; }
      .bp3-tag.bp3-minimal.bp3-intent-warning.bp3-interactive:hover{
        background-color:rgba(217, 130, 43, 0.25); }
      .bp3-tag.bp3-minimal.bp3-intent-warning.bp3-interactive.bp3-active, .bp3-tag.bp3-minimal.bp3-intent-warning.bp3-interactive:active{
        background-color:rgba(217, 130, 43, 0.35); }
    .bp3-tag.bp3-minimal.bp3-intent-warning > .bp3-icon, .bp3-tag.bp3-minimal.bp3-intent-warning .bp3-icon-standard, .bp3-tag.bp3-minimal.bp3-intent-warning .bp3-icon-large{
      fill:#d9822b; }
    .bp3-dark .bp3-tag.bp3-minimal.bp3-intent-warning{
      background-color:rgba(217, 130, 43, 0.25);
      color:#ffb366; }
      .bp3-dark .bp3-tag.bp3-minimal.bp3-intent-warning.bp3-interactive{
        cursor:pointer; }
        .bp3-dark .bp3-tag.bp3-minimal.bp3-intent-warning.bp3-interactive:hover{
          background-color:rgba(217, 130, 43, 0.35); }
        .bp3-dark .bp3-tag.bp3-minimal.bp3-intent-warning.bp3-interactive.bp3-active, .bp3-dark .bp3-tag.bp3-minimal.bp3-intent-warning.bp3-interactive:active{
          background-color:rgba(217, 130, 43, 0.45); }
  .bp3-tag.bp3-minimal.bp3-intent-danger{
    background-color:rgba(219, 55, 55, 0.15);
    color:#c23030; }
    .bp3-tag.bp3-minimal.bp3-intent-danger.bp3-interactive{
      cursor:pointer; }
      .bp3-tag.bp3-minimal.bp3-intent-danger.bp3-interactive:hover{
        background-color:rgba(219, 55, 55, 0.25); }
      .bp3-tag.bp3-minimal.bp3-intent-danger.bp3-interactive.bp3-active, .bp3-tag.bp3-minimal.bp3-intent-danger.bp3-interactive:active{
        background-color:rgba(219, 55, 55, 0.35); }
    .bp3-tag.bp3-minimal.bp3-intent-danger > .bp3-icon, .bp3-tag.bp3-minimal.bp3-intent-danger .bp3-icon-standard, .bp3-tag.bp3-minimal.bp3-intent-danger .bp3-icon-large{
      fill:#db3737; }
    .bp3-dark .bp3-tag.bp3-minimal.bp3-intent-danger{
      background-color:rgba(219, 55, 55, 0.25);
      color:#ff7373; }
      .bp3-dark .bp3-tag.bp3-minimal.bp3-intent-danger.bp3-interactive{
        cursor:pointer; }
        .bp3-dark .bp3-tag.bp3-minimal.bp3-intent-danger.bp3-interactive:hover{
          background-color:rgba(219, 55, 55, 0.35); }
        .bp3-dark .bp3-tag.bp3-minimal.bp3-intent-danger.bp3-interactive.bp3-active, .bp3-dark .bp3-tag.bp3-minimal.bp3-intent-danger.bp3-interactive:active{
          background-color:rgba(219, 55, 55, 0.45); }

.bp3-tag-remove{
  background:none;
  border:none;
  color:inherit;
  cursor:pointer;
  display:-webkit-box;
  display:-ms-flexbox;
  display:flex;
  margin-bottom:-2px;
  margin-right:-6px !important;
  margin-top:-2px;
  opacity:0.5;
  padding:2px;
  padding-left:0; }
  .bp3-tag-remove:hover{
    background:none;
    opacity:0.8;
    text-decoration:none; }
  .bp3-tag-remove:active{
    opacity:1; }
  .bp3-tag-remove:empty::before{
    font-family:"Icons16", sans-serif;
    font-size:16px;
    font-style:normal;
    font-weight:400;
    line-height:1;
    -moz-osx-font-smoothing:grayscale;
    -webkit-font-smoothing:antialiased;
    content:""; }
  .bp3-large .bp3-tag-remove{
    margin-right:-10px !important;
    padding:0 5px 0 0; }
    .bp3-large .bp3-tag-remove:empty::before{
      font-family:"Icons20", sans-serif;
      font-size:20px;
      font-style:normal;
      font-weight:400;
      line-height:1; }
.bp3-tag-input{
  display:-webkit-box;
  display:-ms-flexbox;
  display:flex;
  -webkit-box-orient:horizontal;
  -webkit-box-direction:normal;
      -ms-flex-direction:row;
          flex-direction:row;
  -webkit-box-align:start;
      -ms-flex-align:start;
          align-items:flex-start;
  cursor:text;
  height:auto;
  line-height:inherit;
  min-height:30px;
  padding-left:5px;
  padding-right:0; }
  .bp3-tag-input > *{
    -webkit-box-flex:0;
        -ms-flex-positive:0;
            flex-grow:0;
    -ms-flex-negative:0;
        flex-shrink:0; }
  .bp3-tag-input > .bp3-tag-input-values{
    -webkit-box-flex:1;
        -ms-flex-positive:1;
            flex-grow:1;
    -ms-flex-negative:1;
        flex-shrink:1; }
  .bp3-tag-input .bp3-tag-input-icon{
    color:#5c7080;
    margin-left:2px;
    margin-right:7px;
    margin-top:7px; }
  .bp3-tag-input .bp3-tag-input-values{
    display:-webkit-box;
    display:-ms-flexbox;
    display:flex;
    -webkit-box-orient:horizontal;
    -webkit-box-direction:normal;
        -ms-flex-direction:row;
            flex-direction:row;
    -webkit-box-align:center;
        -ms-flex-align:center;
            align-items:center;
    -ms-flex-item-align:stretch;
        align-self:stretch;
    -ms-flex-wrap:wrap;
        flex-wrap:wrap;
    margin-right:7px;
    margin-top:5px;
    min-width:0; }
    .bp3-tag-input .bp3-tag-input-values > *{
      -webkit-box-flex:0;
          -ms-flex-positive:0;
              flex-grow:0;
      -ms-flex-negative:0;
          flex-shrink:0; }
    .bp3-tag-input .bp3-tag-input-values > .bp3-fill{
      -webkit-box-flex:1;
          -ms-flex-positive:1;
              flex-grow:1;
      -ms-flex-negative:1;
          flex-shrink:1; }
    .bp3-tag-input .bp3-tag-input-values::before,
    .bp3-tag-input .bp3-tag-input-values > *{
      margin-right:5px; }
    .bp3-tag-input .bp3-tag-input-values:empty::before,
    .bp3-tag-input .bp3-tag-input-values > :last-child{
      margin-right:0; }
    .bp3-tag-input .bp3-tag-input-values:first-child .bp3-input-ghost:first-child{
      padding-left:5px; }
    .bp3-tag-input .bp3-tag-input-values > *{
      margin-bottom:5px; }
  .bp3-tag-input .bp3-tag{
    overflow-wrap:break-word; }
    .bp3-tag-input .bp3-tag.bp3-active{
      outline:rgba(19, 124, 189, 0.6) auto 2px;
      outline-offset:0;
      -moz-outline-radius:6px; }
  .bp3-tag-input .bp3-input-ghost{
    -webkit-box-flex:1;
        -ms-flex:1 1 auto;
            flex:1 1 auto;
    line-height:20px;
    width:80px; }
    .bp3-tag-input .bp3-input-ghost:disabled, .bp3-tag-input .bp3-input-ghost.bp3-disabled{
      cursor:not-allowed; }
  .bp3-tag-input .bp3-button,
  .bp3-tag-input .bp3-spinner{
    margin:3px;
    margin-left:0; }
  .bp3-tag-input .bp3-button{
    min-height:24px;
    min-width:24px;
    padding:0 7px; }
  .bp3-tag-input.bp3-large{
    height:auto;
    min-height:40px; }
    .bp3-tag-input.bp3-large::before,
    .bp3-tag-input.bp3-large > *{
      margin-right:10px; }
    .bp3-tag-input.bp3-large:empty::before,
    .bp3-tag-input.bp3-large > :last-child{
      margin-right:0; }
    .bp3-tag-input.bp3-large .bp3-tag-input-icon{
      margin-left:5px;
      margin-top:10px; }
    .bp3-tag-input.bp3-large .bp3-input-ghost{
      line-height:30px; }
    .bp3-tag-input.bp3-large .bp3-button{
      min-height:30px;
      min-width:30px;
      padding:5px 10px;
      margin:5px;
      margin-left:0; }
    .bp3-tag-input.bp3-large .bp3-spinner{
      margin:8px;
      margin-left:0; }
  .bp3-tag-input.bp3-active{
    background-color:#ffffff;
    -webkit-box-shadow:0 0 0 1px #137cbd, 0 0 0 3px rgba(19, 124, 189, 0.3), inset 0 1px 1px rgba(16, 22, 26, 0.2);
            box-shadow:0 0 0 1px #137cbd, 0 0 0 3px rgba(19, 124, 189, 0.3), inset 0 1px 1px rgba(16, 22, 26, 0.2); }
    .bp3-tag-input.bp3-active.bp3-intent-primary{
      -webkit-box-shadow:0 0 0 1px #106ba3, 0 0 0 3px rgba(16, 107, 163, 0.3), inset 0 1px 1px rgba(16, 22, 26, 0.2);
              box-shadow:0 0 0 1px #106ba3, 0 0 0 3px rgba(16, 107, 163, 0.3), inset 0 1px 1px rgba(16, 22, 26, 0.2); }
    .bp3-tag-input.bp3-active.bp3-intent-success{
      -webkit-box-shadow:0 0 0 1px #0d8050, 0 0 0 3px rgba(13, 128, 80, 0.3), inset 0 1px 1px rgba(16, 22, 26, 0.2);
              box-shadow:0 0 0 1px #0d8050, 0 0 0 3px rgba(13, 128, 80, 0.3), inset 0 1px 1px rgba(16, 22, 26, 0.2); }
    .bp3-tag-input.bp3-active.bp3-intent-warning{
      -webkit-box-shadow:0 0 0 1px #bf7326, 0 0 0 3px rgba(191, 115, 38, 0.3), inset 0 1px 1px rgba(16, 22, 26, 0.2);
              box-shadow:0 0 0 1px #bf7326, 0 0 0 3px rgba(191, 115, 38, 0.3), inset 0 1px 1px rgba(16, 22, 26, 0.2); }
    .bp3-tag-input.bp3-active.bp3-intent-danger{
      -webkit-box-shadow:0 0 0 1px #c23030, 0 0 0 3px rgba(194, 48, 48, 0.3), inset 0 1px 1px rgba(16, 22, 26, 0.2);
              box-shadow:0 0 0 1px #c23030, 0 0 0 3px rgba(194, 48, 48, 0.3), inset 0 1px 1px rgba(16, 22, 26, 0.2); }
  .bp3-dark .bp3-tag-input .bp3-tag-input-icon, .bp3-tag-input.bp3-dark .bp3-tag-input-icon{
    color:#a7b6c2; }
  .bp3-dark .bp3-tag-input .bp3-input-ghost, .bp3-tag-input.bp3-dark .bp3-input-ghost{
    color:#f5f8fa; }
    .bp3-dark .bp3-tag-input .bp3-input-ghost::-webkit-input-placeholder, .bp3-tag-input.bp3-dark .bp3-input-ghost::-webkit-input-placeholder{
      color:rgba(167, 182, 194, 0.6); }
    .bp3-dark .bp3-tag-input .bp3-input-ghost::-moz-placeholder, .bp3-tag-input.bp3-dark .bp3-input-ghost::-moz-placeholder{
      color:rgba(167, 182, 194, 0.6); }
    .bp3-dark .bp3-tag-input .bp3-input-ghost:-ms-input-placeholder, .bp3-tag-input.bp3-dark .bp3-input-ghost:-ms-input-placeholder{
      color:rgba(167, 182, 194, 0.6); }
    .bp3-dark .bp3-tag-input .bp3-input-ghost::-ms-input-placeholder, .bp3-tag-input.bp3-dark .bp3-input-ghost::-ms-input-placeholder{
      color:rgba(167, 182, 194, 0.6); }
    .bp3-dark .bp3-tag-input .bp3-input-ghost::placeholder, .bp3-tag-input.bp3-dark .bp3-input-ghost::placeholder{
      color:rgba(167, 182, 194, 0.6); }
  .bp3-dark .bp3-tag-input.bp3-active, .bp3-tag-input.bp3-dark.bp3-active{
    background-color:rgba(16, 22, 26, 0.3);
    -webkit-box-shadow:0 0 0 1px #137cbd, 0 0 0 1px #137cbd, 0 0 0 3px rgba(19, 124, 189, 0.3), inset 0 0 0 1px rgba(16, 22, 26, 0.3), inset 0 1px 1px rgba(16, 22, 26, 0.4);
            box-shadow:0 0 0 1px #137cbd, 0 0 0 1px #137cbd, 0 0 0 3px rgba(19, 124, 189, 0.3), inset 0 0 0 1px rgba(16, 22, 26, 0.3), inset 0 1px 1px rgba(16, 22, 26, 0.4); }
    .bp3-dark .bp3-tag-input.bp3-active.bp3-intent-primary, .bp3-tag-input.bp3-dark.bp3-active.bp3-intent-primary{
      -webkit-box-shadow:0 0 0 1px #106ba3, 0 0 0 3px rgba(16, 107, 163, 0.3), inset 0 0 0 1px rgba(16, 22, 26, 0.3), inset 0 1px 1px rgba(16, 22, 26, 0.4);
              box-shadow:0 0 0 1px #106ba3, 0 0 0 3px rgba(16, 107, 163, 0.3), inset 0 0 0 1px rgba(16, 22, 26, 0.3), inset 0 1px 1px rgba(16, 22, 26, 0.4); }
    .bp3-dark .bp3-tag-input.bp3-active.bp3-intent-success, .bp3-tag-input.bp3-dark.bp3-active.bp3-intent-success{
      -webkit-box-shadow:0 0 0 1px #0d8050, 0 0 0 3px rgba(13, 128, 80, 0.3), inset 0 0 0 1px rgba(16, 22, 26, 0.3), inset 0 1px 1px rgba(16, 22, 26, 0.4);
              box-shadow:0 0 0 1px #0d8050, 0 0 0 3px rgba(13, 128, 80, 0.3), inset 0 0 0 1px rgba(16, 22, 26, 0.3), inset 0 1px 1px rgba(16, 22, 26, 0.4); }
    .bp3-dark .bp3-tag-input.bp3-active.bp3-intent-warning, .bp3-tag-input.bp3-dark.bp3-active.bp3-intent-warning{
      -webkit-box-shadow:0 0 0 1px #bf7326, 0 0 0 3px rgba(191, 115, 38, 0.3), inset 0 0 0 1px rgba(16, 22, 26, 0.3), inset 0 1px 1px rgba(16, 22, 26, 0.4);
              box-shadow:0 0 0 1px #bf7326, 0 0 0 3px rgba(191, 115, 38, 0.3), inset 0 0 0 1px rgba(16, 22, 26, 0.3), inset 0 1px 1px rgba(16, 22, 26, 0.4); }
    .bp3-dark .bp3-tag-input.bp3-active.bp3-intent-danger, .bp3-tag-input.bp3-dark.bp3-active.bp3-intent-danger{
      -webkit-box-shadow:0 0 0 1px #c23030, 0 0 0 3px rgba(194, 48, 48, 0.3), inset 0 0 0 1px rgba(16, 22, 26, 0.3), inset 0 1px 1px rgba(16, 22, 26, 0.4);
              box-shadow:0 0 0 1px #c23030, 0 0 0 3px rgba(194, 48, 48, 0.3), inset 0 0 0 1px rgba(16, 22, 26, 0.3), inset 0 1px 1px rgba(16, 22, 26, 0.4); }

.bp3-input-ghost{
  background:none;
  border:none;
  -webkit-box-shadow:none;
          box-shadow:none;
  padding:0; }
  .bp3-input-ghost::-webkit-input-placeholder{
    color:rgba(92, 112, 128, 0.6);
    opacity:1; }
  .bp3-input-ghost::-moz-placeholder{
    color:rgba(92, 112, 128, 0.6);
    opacity:1; }
  .bp3-input-ghost:-ms-input-placeholder{
    color:rgba(92, 112, 128, 0.6);
    opacity:1; }
  .bp3-input-ghost::-ms-input-placeholder{
    color:rgba(92, 112, 128, 0.6);
    opacity:1; }
  .bp3-input-ghost::placeholder{
    color:rgba(92, 112, 128, 0.6);
    opacity:1; }
  .bp3-input-ghost:focus{
    outline:none !important; }
.bp3-toast{
  -webkit-box-align:start;
      -ms-flex-align:start;
          align-items:flex-start;
  background-color:#ffffff;
  border-radius:3px;
  -webkit-box-shadow:0 0 0 1px rgba(16, 22, 26, 0.1), 0 2px 4px rgba(16, 22, 26, 0.2), 0 8px 24px rgba(16, 22, 26, 0.2);
          box-shadow:0 0 0 1px rgba(16, 22, 26, 0.1), 0 2px 4px rgba(16, 22, 26, 0.2), 0 8px 24px rgba(16, 22, 26, 0.2);
  display:-webkit-box;
  display:-ms-flexbox;
  display:flex;
  margin:20px 0 0;
  max-width:500px;
  min-width:300px;
  pointer-events:all;
  position:relative !important; }
  .bp3-toast.bp3-toast-enter, .bp3-toast.bp3-toast-appear{
    -webkit-transform:translateY(-40px);
            transform:translateY(-40px); }
  .bp3-toast.bp3-toast-enter-active, .bp3-toast.bp3-toast-appear-active{
    -webkit-transform:translateY(0);
            transform:translateY(0);
    -webkit-transition-delay:0;
            transition-delay:0;
    -webkit-transition-duration:300ms;
            transition-duration:300ms;
    -webkit-transition-property:-webkit-transform;
    transition-property:-webkit-transform;
    transition-property:transform;
    transition-property:transform, -webkit-transform;
    -webkit-transition-timing-function:cubic-bezier(0.54, 1.12, 0.38, 1.11);
            transition-timing-function:cubic-bezier(0.54, 1.12, 0.38, 1.11); }
  .bp3-toast.bp3-toast-enter ~ .bp3-toast, .bp3-toast.bp3-toast-appear ~ .bp3-toast{
    -webkit-transform:translateY(-40px);
            transform:translateY(-40px); }
  .bp3-toast.bp3-toast-enter-active ~ .bp3-toast, .bp3-toast.bp3-toast-appear-active ~ .bp3-toast{
    -webkit-transform:translateY(0);
            transform:translateY(0);
    -webkit-transition-delay:0;
            transition-delay:0;
    -webkit-transition-duration:300ms;
            transition-duration:300ms;
    -webkit-transition-property:-webkit-transform;
    transition-property:-webkit-transform;
    transition-property:transform;
    transition-property:transform, -webkit-transform;
    -webkit-transition-timing-function:cubic-bezier(0.54, 1.12, 0.38, 1.11);
            transition-timing-function:cubic-bezier(0.54, 1.12, 0.38, 1.11); }
  .bp3-toast.bp3-toast-exit{
    opacity:1;
    -webkit-filter:blur(0);
            filter:blur(0); }
  .bp3-toast.bp3-toast-exit-active{
    opacity:0;
    -webkit-filter:blur(10px);
            filter:blur(10px);
    -webkit-transition-delay:0;
            transition-delay:0;
    -webkit-transition-duration:300ms;
            transition-duration:300ms;
    -webkit-transition-property:opacity, -webkit-filter;
    transition-property:opacity, -webkit-filter;
    transition-property:opacity, filter;
    transition-property:opacity, filter, -webkit-filter;
    -webkit-transition-timing-function:cubic-bezier(0.4, 1, 0.75, 0.9);
            transition-timing-function:cubic-bezier(0.4, 1, 0.75, 0.9); }
  .bp3-toast.bp3-toast-exit ~ .bp3-toast{
    -webkit-transform:translateY(0);
            transform:translateY(0); }
  .bp3-toast.bp3-toast-exit-active ~ .bp3-toast{
    -webkit-transform:translateY(-40px);
            transform:translateY(-40px);
    -webkit-transition-delay:50ms;
            transition-delay:50ms;
    -webkit-transition-duration:100ms;
            transition-duration:100ms;
    -webkit-transition-property:-webkit-transform;
    transition-property:-webkit-transform;
    transition-property:transform;
    transition-property:transform, -webkit-transform;
    -webkit-transition-timing-function:cubic-bezier(0.4, 1, 0.75, 0.9);
            transition-timing-function:cubic-bezier(0.4, 1, 0.75, 0.9); }
  .bp3-toast .bp3-button-group{
    -webkit-box-flex:0;
        -ms-flex:0 0 auto;
            flex:0 0 auto;
    padding:5px;
    padding-left:0; }
  .bp3-toast > .bp3-icon{
    color:#5c7080;
    margin:12px;
    margin-right:0; }
  .bp3-toast.bp3-dark,
  .bp3-dark .bp3-toast{
    background-color:#394b59;
    -webkit-box-shadow:0 0 0 1px rgba(16, 22, 26, 0.2), 0 2px 4px rgba(16, 22, 26, 0.4), 0 8px 24px rgba(16, 22, 26, 0.4);
            box-shadow:0 0 0 1px rgba(16, 22, 26, 0.2), 0 2px 4px rgba(16, 22, 26, 0.4), 0 8px 24px rgba(16, 22, 26, 0.4); }
    .bp3-toast.bp3-dark > .bp3-icon,
    .bp3-dark .bp3-toast > .bp3-icon{
      color:#a7b6c2; }
  .bp3-toast[class*="bp3-intent-"] a{
    color:rgba(255, 255, 255, 0.7); }
    .bp3-toast[class*="bp3-intent-"] a:hover{
      color:#ffffff; }
  .bp3-toast[class*="bp3-intent-"] > .bp3-icon{
    color:#ffffff; }
  .bp3-toast[class*="bp3-intent-"] .bp3-button, .bp3-toast[class*="bp3-intent-"] .bp3-button::before,
  .bp3-toast[class*="bp3-intent-"] .bp3-button .bp3-icon, .bp3-toast[class*="bp3-intent-"] .bp3-button:active{
    color:rgba(255, 255, 255, 0.7) !important; }
  .bp3-toast[class*="bp3-intent-"] .bp3-button:focus{
    outline-color:rgba(255, 255, 255, 0.5); }
  .bp3-toast[class*="bp3-intent-"] .bp3-button:hover{
    background-color:rgba(255, 255, 255, 0.15) !important;
    color:#ffffff !important; }
  .bp3-toast[class*="bp3-intent-"] .bp3-button:active{
    background-color:rgba(255, 255, 255, 0.3) !important;
    color:#ffffff !important; }
  .bp3-toast[class*="bp3-intent-"] .bp3-button::after{
    background:rgba(255, 255, 255, 0.3) !important; }
  .bp3-toast.bp3-intent-primary{
    background-color:#137cbd;
    color:#ffffff; }
  .bp3-toast.bp3-intent-success{
    background-color:#0f9960;
    color:#ffffff; }
  .bp3-toast.bp3-intent-warning{
    background-color:#d9822b;
    color:#ffffff; }
  .bp3-toast.bp3-intent-danger{
    background-color:#db3737;
    color:#ffffff; }

.bp3-toast-message{
  -webkit-box-flex:1;
      -ms-flex:1 1 auto;
          flex:1 1 auto;
  padding:11px;
  word-break:break-word; }

.bp3-toast-container{
  -webkit-box-align:center;
      -ms-flex-align:center;
          align-items:center;
  display:-webkit-box !important;
  display:-ms-flexbox !important;
  display:flex !important;
  -webkit-box-orient:vertical;
  -webkit-box-direction:normal;
      -ms-flex-direction:column;
          flex-direction:column;
  left:0;
  overflow:hidden;
  padding:0 20px 20px;
  pointer-events:none;
  right:0;
  z-index:40; }
  .bp3-toast-container.bp3-toast-container-in-portal{
    position:fixed; }
  .bp3-toast-container.bp3-toast-container-inline{
    position:absolute; }
  .bp3-toast-container.bp3-toast-container-top{
    top:0; }
  .bp3-toast-container.bp3-toast-container-bottom{
    bottom:0;
    -webkit-box-orient:vertical;
    -webkit-box-direction:reverse;
        -ms-flex-direction:column-reverse;
            flex-direction:column-reverse;
    top:auto; }
  .bp3-toast-container.bp3-toast-container-left{
    -webkit-box-align:start;
        -ms-flex-align:start;
            align-items:flex-start; }
  .bp3-toast-container.bp3-toast-container-right{
    -webkit-box-align:end;
        -ms-flex-align:end;
            align-items:flex-end; }

.bp3-toast-container-bottom .bp3-toast.bp3-toast-enter:not(.bp3-toast-enter-active),
.bp3-toast-container-bottom .bp3-toast.bp3-toast-enter:not(.bp3-toast-enter-active) ~ .bp3-toast, .bp3-toast-container-bottom .bp3-toast.bp3-toast-appear:not(.bp3-toast-appear-active),
.bp3-toast-container-bottom .bp3-toast.bp3-toast-appear:not(.bp3-toast-appear-active) ~ .bp3-toast,
.bp3-toast-container-bottom .bp3-toast.bp3-toast-exit-active ~ .bp3-toast,
.bp3-toast-container-bottom .bp3-toast.bp3-toast-leave-active ~ .bp3-toast{
  -webkit-transform:translateY(60px);
          transform:translateY(60px); }
.bp3-tooltip{
  -webkit-box-shadow:0 0 0 1px rgba(16, 22, 26, 0.1), 0 2px 4px rgba(16, 22, 26, 0.2), 0 8px 24px rgba(16, 22, 26, 0.2);
          box-shadow:0 0 0 1px rgba(16, 22, 26, 0.1), 0 2px 4px rgba(16, 22, 26, 0.2), 0 8px 24px rgba(16, 22, 26, 0.2);
  -webkit-transform:scale(1);
          transform:scale(1); }
  .bp3-tooltip .bp3-popover-arrow{
    height:22px;
    position:absolute;
    width:22px; }
    .bp3-tooltip .bp3-popover-arrow::before{
      height:14px;
      margin:4px;
      width:14px; }
  .bp3-tether-element-attached-bottom.bp3-tether-target-attached-top > .bp3-tooltip{
    margin-bottom:11px;
    margin-top:-11px; }
    .bp3-tether-element-attached-bottom.bp3-tether-target-attached-top > .bp3-tooltip > .bp3-popover-arrow{
      bottom:-8px; }
      .bp3-tether-element-attached-bottom.bp3-tether-target-attached-top > .bp3-tooltip > .bp3-popover-arrow svg{
        -webkit-transform:rotate(-90deg);
                transform:rotate(-90deg); }
  .bp3-tether-element-attached-left.bp3-tether-target-attached-right > .bp3-tooltip{
    margin-left:11px; }
    .bp3-tether-element-attached-left.bp3-tether-target-attached-right > .bp3-tooltip > .bp3-popover-arrow{
      left:-8px; }
      .bp3-tether-element-attached-left.bp3-tether-target-attached-right > .bp3-tooltip > .bp3-popover-arrow svg{
        -webkit-transform:rotate(0);
                transform:rotate(0); }
  .bp3-tether-element-attached-top.bp3-tether-target-attached-bottom > .bp3-tooltip{
    margin-top:11px; }
    .bp3-tether-element-attached-top.bp3-tether-target-attached-bottom > .bp3-tooltip > .bp3-popover-arrow{
      top:-8px; }
      .bp3-tether-element-attached-top.bp3-tether-target-attached-bottom > .bp3-tooltip > .bp3-popover-arrow svg{
        -webkit-transform:rotate(90deg);
                transform:rotate(90deg); }
  .bp3-tether-element-attached-right.bp3-tether-target-attached-left > .bp3-tooltip{
    margin-left:-11px;
    margin-right:11px; }
    .bp3-tether-element-attached-right.bp3-tether-target-attached-left > .bp3-tooltip > .bp3-popover-arrow{
      right:-8px; }
      .bp3-tether-element-attached-right.bp3-tether-target-attached-left > .bp3-tooltip > .bp3-popover-arrow svg{
        -webkit-transform:rotate(180deg);
                transform:rotate(180deg); }
  .bp3-tether-element-attached-middle > .bp3-tooltip > .bp3-popover-arrow{
    top:50%;
    -webkit-transform:translateY(-50%);
            transform:translateY(-50%); }
  .bp3-tether-element-attached-center > .bp3-tooltip > .bp3-popover-arrow{
    right:50%;
    -webkit-transform:translateX(50%);
            transform:translateX(50%); }
  .bp3-tether-element-attached-top.bp3-tether-target-attached-top > .bp3-tooltip > .bp3-popover-arrow{
    top:-0.22183px; }
  .bp3-tether-element-attached-right.bp3-tether-target-attached-right > .bp3-tooltip > .bp3-popover-arrow{
    right:-0.22183px; }
  .bp3-tether-element-attached-left.bp3-tether-target-attached-left > .bp3-tooltip > .bp3-popover-arrow{
    left:-0.22183px; }
  .bp3-tether-element-attached-bottom.bp3-tether-target-attached-bottom > .bp3-tooltip > .bp3-popover-arrow{
    bottom:-0.22183px; }
  .bp3-tether-element-attached-top.bp3-tether-element-attached-left > .bp3-tooltip{
    -webkit-transform-origin:top left;
            transform-origin:top left; }
  .bp3-tether-element-attached-top.bp3-tether-element-attached-center > .bp3-tooltip{
    -webkit-transform-origin:top center;
            transform-origin:top center; }
  .bp3-tether-element-attached-top.bp3-tether-element-attached-right > .bp3-tooltip{
    -webkit-transform-origin:top right;
            transform-origin:top right; }
  .bp3-tether-element-attached-middle.bp3-tether-element-attached-left > .bp3-tooltip{
    -webkit-transform-origin:center left;
            transform-origin:center left; }
  .bp3-tether-element-attached-middle.bp3-tether-element-attached-center > .bp3-tooltip{
    -webkit-transform-origin:center center;
            transform-origin:center center; }
  .bp3-tether-element-attached-middle.bp3-tether-element-attached-right > .bp3-tooltip{
    -webkit-transform-origin:center right;
            transform-origin:center right; }
  .bp3-tether-element-attached-bottom.bp3-tether-element-attached-left > .bp3-tooltip{
    -webkit-transform-origin:bottom left;
            transform-origin:bottom left; }
  .bp3-tether-element-attached-bottom.bp3-tether-element-attached-center > .bp3-tooltip{
    -webkit-transform-origin:bottom center;
            transform-origin:bottom center; }
  .bp3-tether-element-attached-bottom.bp3-tether-element-attached-right > .bp3-tooltip{
    -webkit-transform-origin:bottom right;
            transform-origin:bottom right; }
  .bp3-tooltip .bp3-popover-content{
    background:#394b59;
    color:#f5f8fa; }
  .bp3-tooltip .bp3-popover-arrow::before{
    -webkit-box-shadow:1px 1px 6px rgba(16, 22, 26, 0.2);
            box-shadow:1px 1px 6px rgba(16, 22, 26, 0.2); }
  .bp3-tooltip .bp3-popover-arrow-border{
    fill:#10161a;
    fill-opacity:0.1; }
  .bp3-tooltip .bp3-popover-arrow-fill{
    fill:#394b59; }
  .bp3-popover-enter > .bp3-tooltip, .bp3-popover-appear > .bp3-tooltip{
    -webkit-transform:scale(0.8);
            transform:scale(0.8); }
  .bp3-popover-enter-active > .bp3-tooltip, .bp3-popover-appear-active > .bp3-tooltip{
    -webkit-transform:scale(1);
            transform:scale(1);
    -webkit-transition-delay:0;
            transition-delay:0;
    -webkit-transition-duration:100ms;
            transition-duration:100ms;
    -webkit-transition-property:-webkit-transform;
    transition-property:-webkit-transform;
    transition-property:transform;
    transition-property:transform, -webkit-transform;
    -webkit-transition-timing-function:cubic-bezier(0.4, 1, 0.75, 0.9);
            transition-timing-function:cubic-bezier(0.4, 1, 0.75, 0.9); }
  .bp3-popover-exit > .bp3-tooltip{
    -webkit-transform:scale(1);
            transform:scale(1); }
  .bp3-popover-exit-active > .bp3-tooltip{
    -webkit-transform:scale(0.8);
            transform:scale(0.8);
    -webkit-transition-delay:0;
            transition-delay:0;
    -webkit-transition-duration:100ms;
            transition-duration:100ms;
    -webkit-transition-property:-webkit-transform;
    transition-property:-webkit-transform;
    transition-property:transform;
    transition-property:transform, -webkit-transform;
    -webkit-transition-timing-function:cubic-bezier(0.4, 1, 0.75, 0.9);
            transition-timing-function:cubic-bezier(0.4, 1, 0.75, 0.9); }
  .bp3-tooltip .bp3-popover-content{
    padding:10px 12px; }
  .bp3-tooltip.bp3-dark,
  .bp3-dark .bp3-tooltip{
    -webkit-box-shadow:0 0 0 1px rgba(16, 22, 26, 0.2), 0 2px 4px rgba(16, 22, 26, 0.4), 0 8px 24px rgba(16, 22, 26, 0.4);
            box-shadow:0 0 0 1px rgba(16, 22, 26, 0.2), 0 2px 4px rgba(16, 22, 26, 0.4), 0 8px 24px rgba(16, 22, 26, 0.4); }
    .bp3-tooltip.bp3-dark .bp3-popover-content,
    .bp3-dark .bp3-tooltip .bp3-popover-content{
      background:#e1e8ed;
      color:#394b59; }
    .bp3-tooltip.bp3-dark .bp3-popover-arrow::before,
    .bp3-dark .bp3-tooltip .bp3-popover-arrow::before{
      -webkit-box-shadow:1px 1px 6px rgba(16, 22, 26, 0.4);
              box-shadow:1px 1px 6px rgba(16, 22, 26, 0.4); }
    .bp3-tooltip.bp3-dark .bp3-popover-arrow-border,
    .bp3-dark .bp3-tooltip .bp3-popover-arrow-border{
      fill:#10161a;
      fill-opacity:0.2; }
    .bp3-tooltip.bp3-dark .bp3-popover-arrow-fill,
    .bp3-dark .bp3-tooltip .bp3-popover-arrow-fill{
      fill:#e1e8ed; }
  .bp3-tooltip.bp3-intent-primary .bp3-popover-content{
    background:#137cbd;
    color:#ffffff; }
  .bp3-tooltip.bp3-intent-primary .bp3-popover-arrow-fill{
    fill:#137cbd; }
  .bp3-tooltip.bp3-intent-success .bp3-popover-content{
    background:#0f9960;
    color:#ffffff; }
  .bp3-tooltip.bp3-intent-success .bp3-popover-arrow-fill{
    fill:#0f9960; }
  .bp3-tooltip.bp3-intent-warning .bp3-popover-content{
    background:#d9822b;
    color:#ffffff; }
  .bp3-tooltip.bp3-intent-warning .bp3-popover-arrow-fill{
    fill:#d9822b; }
  .bp3-tooltip.bp3-intent-danger .bp3-popover-content{
    background:#db3737;
    color:#ffffff; }
  .bp3-tooltip.bp3-intent-danger .bp3-popover-arrow-fill{
    fill:#db3737; }

.bp3-tooltip-indicator{
  border-bottom:dotted 1px;
  cursor:help; }
.bp3-tree .bp3-icon, .bp3-tree .bp3-icon-standard, .bp3-tree .bp3-icon-large{
  color:#5c7080; }
  .bp3-tree .bp3-icon.bp3-intent-primary, .bp3-tree .bp3-icon-standard.bp3-intent-primary, .bp3-tree .bp3-icon-large.bp3-intent-primary{
    color:#137cbd; }
  .bp3-tree .bp3-icon.bp3-intent-success, .bp3-tree .bp3-icon-standard.bp3-intent-success, .bp3-tree .bp3-icon-large.bp3-intent-success{
    color:#0f9960; }
  .bp3-tree .bp3-icon.bp3-intent-warning, .bp3-tree .bp3-icon-standard.bp3-intent-warning, .bp3-tree .bp3-icon-large.bp3-intent-warning{
    color:#d9822b; }
  .bp3-tree .bp3-icon.bp3-intent-danger, .bp3-tree .bp3-icon-standard.bp3-intent-danger, .bp3-tree .bp3-icon-large.bp3-intent-danger{
    color:#db3737; }

.bp3-tree-node-list{
  list-style:none;
  margin:0;
  padding-left:0; }

.bp3-tree-root{
  background-color:transparent;
  cursor:default;
  padding-left:0;
  position:relative; }

.bp3-tree-node-content-0{
  padding-left:0px; }

.bp3-tree-node-content-1{
  padding-left:23px; }

.bp3-tree-node-content-2{
  padding-left:46px; }

.bp3-tree-node-content-3{
  padding-left:69px; }

.bp3-tree-node-content-4{
  padding-left:92px; }

.bp3-tree-node-content-5{
  padding-left:115px; }

.bp3-tree-node-content-6{
  padding-left:138px; }

.bp3-tree-node-content-7{
  padding-left:161px; }

.bp3-tree-node-content-8{
  padding-left:184px; }

.bp3-tree-node-content-9{
  padding-left:207px; }

.bp3-tree-node-content-10{
  padding-left:230px; }

.bp3-tree-node-content-11{
  padding-left:253px; }

.bp3-tree-node-content-12{
  padding-left:276px; }

.bp3-tree-node-content-13{
  padding-left:299px; }

.bp3-tree-node-content-14{
  padding-left:322px; }

.bp3-tree-node-content-15{
  padding-left:345px; }

.bp3-tree-node-content-16{
  padding-left:368px; }

.bp3-tree-node-content-17{
  padding-left:391px; }

.bp3-tree-node-content-18{
  padding-left:414px; }

.bp3-tree-node-content-19{
  padding-left:437px; }

.bp3-tree-node-content-20{
  padding-left:460px; }

.bp3-tree-node-content{
  -webkit-box-align:center;
      -ms-flex-align:center;
          align-items:center;
  display:-webkit-box;
  display:-ms-flexbox;
  display:flex;
  height:30px;
  padding-right:5px;
  width:100%; }
  .bp3-tree-node-content:hover{
    background-color:rgba(191, 204, 214, 0.4); }

.bp3-tree-node-caret,
.bp3-tree-node-caret-none{
  min-width:30px; }

.bp3-tree-node-caret{
  color:#5c7080;
  cursor:pointer;
  padding:7px;
  -webkit-transform:rotate(0deg);
          transform:rotate(0deg);
  -webkit-transition:-webkit-transform 200ms cubic-bezier(0.4, 1, 0.75, 0.9);
  transition:-webkit-transform 200ms cubic-bezier(0.4, 1, 0.75, 0.9);
  transition:transform 200ms cubic-bezier(0.4, 1, 0.75, 0.9);
  transition:transform 200ms cubic-bezier(0.4, 1, 0.75, 0.9), -webkit-transform 200ms cubic-bezier(0.4, 1, 0.75, 0.9); }
  .bp3-tree-node-caret:hover{
    color:#182026; }
  .bp3-dark .bp3-tree-node-caret{
    color:#a7b6c2; }
    .bp3-dark .bp3-tree-node-caret:hover{
      color:#f5f8fa; }
  .bp3-tree-node-caret.bp3-tree-node-caret-open{
    -webkit-transform:rotate(90deg);
            transform:rotate(90deg); }
  .bp3-tree-node-caret.bp3-icon-standard::before{
    content:""; }

.bp3-tree-node-icon{
  margin-right:7px;
  position:relative; }

.bp3-tree-node-label{
  overflow:hidden;
  text-overflow:ellipsis;
  white-space:nowrap;
  word-wrap:normal;
  -webkit-box-flex:1;
      -ms-flex:1 1 auto;
          flex:1 1 auto;
  position:relative;
  -webkit-user-select:none;
     -moz-user-select:none;
      -ms-user-select:none;
          user-select:none; }
  .bp3-tree-node-label span{
    display:inline; }

.bp3-tree-node-secondary-label{
  padding:0 5px;
  -webkit-user-select:none;
     -moz-user-select:none;
      -ms-user-select:none;
          user-select:none; }
  .bp3-tree-node-secondary-label .bp3-popover-wrapper,
  .bp3-tree-node-secondary-label .bp3-popover-target{
    -webkit-box-align:center;
        -ms-flex-align:center;
            align-items:center;
    display:-webkit-box;
    display:-ms-flexbox;
    display:flex; }

.bp3-tree-node.bp3-disabled .bp3-tree-node-content{
  background-color:inherit;
  color:rgba(92, 112, 128, 0.6);
  cursor:not-allowed; }

.bp3-tree-node.bp3-disabled .bp3-tree-node-caret,
.bp3-tree-node.bp3-disabled .bp3-tree-node-icon{
  color:rgba(92, 112, 128, 0.6);
  cursor:not-allowed; }

.bp3-tree-node.bp3-tree-node-selected > .bp3-tree-node-content{
  background-color:#137cbd; }
  .bp3-tree-node.bp3-tree-node-selected > .bp3-tree-node-content,
  .bp3-tree-node.bp3-tree-node-selected > .bp3-tree-node-content .bp3-icon, .bp3-tree-node.bp3-tree-node-selected > .bp3-tree-node-content .bp3-icon-standard, .bp3-tree-node.bp3-tree-node-selected > .bp3-tree-node-content .bp3-icon-large{
    color:#ffffff; }
  .bp3-tree-node.bp3-tree-node-selected > .bp3-tree-node-content .bp3-tree-node-caret::before{
    color:rgba(255, 255, 255, 0.7); }
  .bp3-tree-node.bp3-tree-node-selected > .bp3-tree-node-content .bp3-tree-node-caret:hover::before{
    color:#ffffff; }

.bp3-dark .bp3-tree-node-content:hover{
  background-color:rgba(92, 112, 128, 0.3); }

.bp3-dark .bp3-tree .bp3-icon, .bp3-dark .bp3-tree .bp3-icon-standard, .bp3-dark .bp3-tree .bp3-icon-large{
  color:#a7b6c2; }
  .bp3-dark .bp3-tree .bp3-icon.bp3-intent-primary, .bp3-dark .bp3-tree .bp3-icon-standard.bp3-intent-primary, .bp3-dark .bp3-tree .bp3-icon-large.bp3-intent-primary{
    color:#137cbd; }
  .bp3-dark .bp3-tree .bp3-icon.bp3-intent-success, .bp3-dark .bp3-tree .bp3-icon-standard.bp3-intent-success, .bp3-dark .bp3-tree .bp3-icon-large.bp3-intent-success{
    color:#0f9960; }
  .bp3-dark .bp3-tree .bp3-icon.bp3-intent-warning, .bp3-dark .bp3-tree .bp3-icon-standard.bp3-intent-warning, .bp3-dark .bp3-tree .bp3-icon-large.bp3-intent-warning{
    color:#d9822b; }
  .bp3-dark .bp3-tree .bp3-icon.bp3-intent-danger, .bp3-dark .bp3-tree .bp3-icon-standard.bp3-intent-danger, .bp3-dark .bp3-tree .bp3-icon-large.bp3-intent-danger{
    color:#db3737; }

.bp3-dark .bp3-tree-node.bp3-tree-node-selected > .bp3-tree-node-content{
  background-color:#137cbd; }
.bp3-omnibar{
  -webkit-filter:blur(0);
          filter:blur(0);
  opacity:1;
  background-color:#ffffff;
  border-radius:3px;
  -webkit-box-shadow:0 0 0 1px rgba(16, 22, 26, 0.1), 0 4px 8px rgba(16, 22, 26, 0.2), 0 18px 46px 6px rgba(16, 22, 26, 0.2);
          box-shadow:0 0 0 1px rgba(16, 22, 26, 0.1), 0 4px 8px rgba(16, 22, 26, 0.2), 0 18px 46px 6px rgba(16, 22, 26, 0.2);
  left:calc(50% - 250px);
  top:20vh;
  width:500px;
  z-index:21; }
  .bp3-omnibar.bp3-overlay-enter, .bp3-omnibar.bp3-overlay-appear{
    -webkit-filter:blur(20px);
            filter:blur(20px);
    opacity:0.2; }
  .bp3-omnibar.bp3-overlay-enter-active, .bp3-omnibar.bp3-overlay-appear-active{
    -webkit-filter:blur(0);
            filter:blur(0);
    opacity:1;
    -webkit-transition-delay:0;
            transition-delay:0;
    -webkit-transition-duration:200ms;
            transition-duration:200ms;
    -webkit-transition-property:opacity, -webkit-filter;
    transition-property:opacity, -webkit-filter;
    transition-property:filter, opacity;
    transition-property:filter, opacity, -webkit-filter;
    -webkit-transition-timing-function:cubic-bezier(0.4, 1, 0.75, 0.9);
            transition-timing-function:cubic-bezier(0.4, 1, 0.75, 0.9); }
  .bp3-omnibar.bp3-overlay-exit{
    -webkit-filter:blur(0);
            filter:blur(0);
    opacity:1; }
  .bp3-omnibar.bp3-overlay-exit-active{
    -webkit-filter:blur(20px);
            filter:blur(20px);
    opacity:0.2;
    -webkit-transition-delay:0;
            transition-delay:0;
    -webkit-transition-duration:200ms;
            transition-duration:200ms;
    -webkit-transition-property:opacity, -webkit-filter;
    transition-property:opacity, -webkit-filter;
    transition-property:filter, opacity;
    transition-property:filter, opacity, -webkit-filter;
    -webkit-transition-timing-function:cubic-bezier(0.4, 1, 0.75, 0.9);
            transition-timing-function:cubic-bezier(0.4, 1, 0.75, 0.9); }
  .bp3-omnibar .bp3-input{
    background-color:transparent;
    border-radius:0; }
    .bp3-omnibar .bp3-input, .bp3-omnibar .bp3-input:focus{
      -webkit-box-shadow:none;
              box-shadow:none; }
  .bp3-omnibar .bp3-menu{
    background-color:transparent;
    border-radius:0;
    -webkit-box-shadow:inset 0 1px 0 rgba(16, 22, 26, 0.15);
            box-shadow:inset 0 1px 0 rgba(16, 22, 26, 0.15);
    max-height:calc(60vh - 40px);
    overflow:auto; }
    .bp3-omnibar .bp3-menu:empty{
      display:none; }
  .bp3-dark .bp3-omnibar, .bp3-omnibar.bp3-dark{
    background-color:#30404d;
    -webkit-box-shadow:0 0 0 1px rgba(16, 22, 26, 0.2), 0 4px 8px rgba(16, 22, 26, 0.4), 0 18px 46px 6px rgba(16, 22, 26, 0.4);
            box-shadow:0 0 0 1px rgba(16, 22, 26, 0.2), 0 4px 8px rgba(16, 22, 26, 0.4), 0 18px 46px 6px rgba(16, 22, 26, 0.4); }

.bp3-omnibar-overlay .bp3-overlay-backdrop{
  background-color:rgba(16, 22, 26, 0.2); }

.bp3-select-popover .bp3-popover-content{
  padding:5px; }

.bp3-select-popover .bp3-input-group{
  margin-bottom:0; }

.bp3-select-popover .bp3-menu{
  max-height:300px;
  max-width:400px;
  overflow:auto;
  padding:0; }
  .bp3-select-popover .bp3-menu:not(:first-child){
    padding-top:5px; }

.bp3-multi-select{
  min-width:150px; }

.bp3-multi-select-popover .bp3-menu{
  max-height:300px;
  max-width:400px;
  overflow:auto; }

.bp3-select-popover .bp3-popover-content{
  padding:5px; }

.bp3-select-popover .bp3-input-group{
  margin-bottom:0; }

.bp3-select-popover .bp3-menu{
  max-height:300px;
  max-width:400px;
  overflow:auto;
  padding:0; }
  .bp3-select-popover .bp3-menu:not(:first-child){
    padding-top:5px; }
/*-----------------------------------------------------------------------------
| Copyright (c) Jupyter Development Team.
| Distributed under the terms of the Modified BSD License.
|----------------------------------------------------------------------------*/

/* This file was auto-generated by ensureUiComponents() in @jupyterlab/buildutils */

/**
 * (DEPRECATED) Support for consuming icons as CSS background images
 */

/* Icons urls */

:root {
  --jp-icon-add: url(data:image/svg+xml;base64,PHN2ZyB4bWxucz0iaHR0cDovL3d3dy53My5vcmcvMjAwMC9zdmciIHdpZHRoPSIxNiIgdmlld0JveD0iMCAwIDI0IDI0Ij4KICA8ZyBjbGFzcz0ianAtaWNvbjMiIGZpbGw9IiM2MTYxNjEiPgogICAgPHBhdGggZD0iTTE5IDEzaC02djZoLTJ2LTZINXYtMmg2VjVoMnY2aDZ2MnoiLz4KICA8L2c+Cjwvc3ZnPgo=);
  --jp-icon-bug: url(data:image/svg+xml;base64,PHN2ZyB2aWV3Qm94PSIwIDAgMjQgMjQiIHdpZHRoPSIxNiIgeG1sbnM9Imh0dHA6Ly93d3cudzMub3JnLzIwMDAvc3ZnIj4KICA8ZyBjbGFzcz0ianAtaWNvbjMganAtaWNvbi1zZWxlY3RhYmxlIiBmaWxsPSIjNjE2MTYxIj4KICAgIDxwYXRoIGQ9Ik0yMCA4aC0yLjgxYy0uNDUtLjc4LTEuMDctMS40NS0xLjgyLTEuOTZMMTcgNC40MSAxNS41OSAzbC0yLjE3IDIuMTdDMTIuOTYgNS4wNiAxMi40OSA1IDEyIDVjLS40OSAwLS45Ni4wNi0xLjQxLjE3TDguNDEgMyA3IDQuNDFsMS42MiAxLjYzQzcuODggNi41NSA3LjI2IDcuMjIgNi44MSA4SDR2MmgyLjA5Yy0uMDUuMzMtLjA5LjY2LS4wOSAxdjFINHYyaDJ2MWMwIC4zNC4wNC42Ny4wOSAxSDR2MmgyLjgxYzEuMDQgMS43OSAyLjk3IDMgNS4xOSAzczQuMTUtMS4yMSA1LjE5LTNIMjB2LTJoLTIuMDljLjA1LS4zMy4wOS0uNjYuMDktMXYtMWgydi0yaC0ydi0xYzAtLjM0LS4wNC0uNjctLjA5LTFIMjBWOHptLTYgOGgtNHYtMmg0djJ6bTAtNGgtNHYtMmg0djJ6Ii8+CiAgPC9nPgo8L3N2Zz4K);
  --jp-icon-build: url(data:image/svg+xml;base64,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);
  --jp-icon-caret-down-empty-thin: url(data:image/svg+xml;base64,PHN2ZyB4bWxucz0iaHR0cDovL3d3dy53My5vcmcvMjAwMC9zdmciIHdpZHRoPSIxNiIgdmlld0JveD0iMCAwIDIwIDIwIj4KCTxnIGNsYXNzPSJqcC1pY29uMyIgZmlsbD0iIzYxNjE2MSIgc2hhcGUtcmVuZGVyaW5nPSJnZW9tZXRyaWNQcmVjaXNpb24iPgoJCTxwb2x5Z29uIGNsYXNzPSJzdDEiIHBvaW50cz0iOS45LDEzLjYgMy42LDcuNCA0LjQsNi42IDkuOSwxMi4yIDE1LjQsNi43IDE2LjEsNy40ICIvPgoJPC9nPgo8L3N2Zz4K);
  --jp-icon-caret-down-empty: url(data:image/svg+xml;base64,PHN2ZyB4bWxucz0iaHR0cDovL3d3dy53My5vcmcvMjAwMC9zdmciIHdpZHRoPSIxNiIgdmlld0JveD0iMCAwIDE4IDE4Ij4KICA8ZyBjbGFzcz0ianAtaWNvbjMiIGZpbGw9IiM2MTYxNjEiIHNoYXBlLXJlbmRlcmluZz0iZ2VvbWV0cmljUHJlY2lzaW9uIj4KICAgIDxwYXRoIGQ9Ik01LjIsNS45TDksOS43bDMuOC0zLjhsMS4yLDEuMmwtNC45LDVsLTQuOS01TDUuMiw1Ljl6Ii8+CiAgPC9nPgo8L3N2Zz4K);
  --jp-icon-caret-down: url(data:image/svg+xml;base64,PHN2ZyB4bWxucz0iaHR0cDovL3d3dy53My5vcmcvMjAwMC9zdmciIHdpZHRoPSIxNiIgdmlld0JveD0iMCAwIDE4IDE4Ij4KICA8ZyBjbGFzcz0ianAtaWNvbjMiIGZpbGw9IiM2MTYxNjEiIHNoYXBlLXJlbmRlcmluZz0iZ2VvbWV0cmljUHJlY2lzaW9uIj4KICAgIDxwYXRoIGQ9Ik01LjIsNy41TDksMTEuMmwzLjgtMy44SDUuMnoiLz4KICA8L2c+Cjwvc3ZnPgo=);
  --jp-icon-caret-left: url(data:image/svg+xml;base64,PHN2ZyB4bWxucz0iaHR0cDovL3d3dy53My5vcmcvMjAwMC9zdmciIHdpZHRoPSIxNiIgdmlld0JveD0iMCAwIDE4IDE4Ij4KCTxnIGNsYXNzPSJqcC1pY29uMyIgZmlsbD0iIzYxNjE2MSIgc2hhcGUtcmVuZGVyaW5nPSJnZW9tZXRyaWNQcmVjaXNpb24iPgoJCTxwYXRoIGQ9Ik0xMC44LDEyLjhMNy4xLDlsMy44LTMuOGwwLDcuNkgxMC44eiIvPgogIDwvZz4KPC9zdmc+Cg==);
  --jp-icon-caret-right: url(data:image/svg+xml;base64,PHN2ZyB4bWxucz0iaHR0cDovL3d3dy53My5vcmcvMjAwMC9zdmciIHdpZHRoPSIxNiIgdmlld0JveD0iMCAwIDE4IDE4Ij4KICA8ZyBjbGFzcz0ianAtaWNvbjMiIGZpbGw9IiM2MTYxNjEiIHNoYXBlLXJlbmRlcmluZz0iZ2VvbWV0cmljUHJlY2lzaW9uIj4KICAgIDxwYXRoIGQ9Ik03LjIsNS4yTDEwLjksOWwtMy44LDMuOFY1LjJINy4yeiIvPgogIDwvZz4KPC9zdmc+Cg==);
  --jp-icon-caret-up-empty-thin: url(data:image/svg+xml;base64,PHN2ZyB4bWxucz0iaHR0cDovL3d3dy53My5vcmcvMjAwMC9zdmciIHdpZHRoPSIxNiIgdmlld0JveD0iMCAwIDIwIDIwIj4KCTxnIGNsYXNzPSJqcC1pY29uMyIgZmlsbD0iIzYxNjE2MSIgc2hhcGUtcmVuZGVyaW5nPSJnZW9tZXRyaWNQcmVjaXNpb24iPgoJCTxwb2x5Z29uIGNsYXNzPSJzdDEiIHBvaW50cz0iMTUuNCwxMy4zIDkuOSw3LjcgNC40LDEzLjIgMy42LDEyLjUgOS45LDYuMyAxNi4xLDEyLjYgIi8+Cgk8L2c+Cjwvc3ZnPgo=);
  --jp-icon-caret-up: url(data:image/svg+xml;base64,PHN2ZyB4bWxucz0iaHR0cDovL3d3dy53My5vcmcvMjAwMC9zdmciIHdpZHRoPSIxNiIgdmlld0JveD0iMCAwIDE4IDE4Ij4KCTxnIGNsYXNzPSJqcC1pY29uMyIgZmlsbD0iIzYxNjE2MSIgc2hhcGUtcmVuZGVyaW5nPSJnZW9tZXRyaWNQcmVjaXNpb24iPgoJCTxwYXRoIGQ9Ik01LjIsMTAuNUw5LDYuOGwzLjgsMy44SDUuMnoiLz4KICA8L2c+Cjwvc3ZnPgo=);
  --jp-icon-case-sensitive: url(data:image/svg+xml;base64,PHN2ZyB4bWxucz0iaHR0cDovL3d3dy53My5vcmcvMjAwMC9zdmciIHdpZHRoPSIxNiIgdmlld0JveD0iMCAwIDIwIDIwIj4KICA8ZyBjbGFzcz0ianAtaWNvbjIiIGZpbGw9IiM0MTQxNDEiPgogICAgPHJlY3QgeD0iMiIgeT0iMiIgd2lkdGg9IjE2IiBoZWlnaHQ9IjE2Ii8+CiAgPC9nPgogIDxnIGNsYXNzPSJqcC1pY29uLWFjY2VudDIiIGZpbGw9IiNGRkYiPgogICAgPHBhdGggZD0iTTcuNiw4aDAuOWwzLjUsOGgtMS4xTDEwLDE0SDZsLTAuOSwySDRMNy42LDh6IE04LDkuMUw2LjQsMTNoMy4yTDgsOS4xeiIvPgogICAgPHBhdGggZD0iTTE2LjYsOS44Yy0wLjIsMC4xLTAuNCwwLjEtMC43LDAuMWMtMC4yLDAtMC40LTAuMS0wLjYtMC4yYy0wLjEtMC4xLTAuMi0wLjQtMC4yLTAuNyBjLTAuMywwLjMtMC42LDAuNS0wLjksMC43Yy0wLjMsMC4xLTAuNywwLjItMS4xLDAuMmMtMC4zLDAtMC41LDAtMC43LTAuMWMtMC4yLTAuMS0wLjQtMC4yLTAuNi0wLjNjLTAuMi0wLjEtMC4zLTAuMy0wLjQtMC41IGMtMC4xLTAuMi0wLjEtMC40LTAuMS0wLjdjMC0wLjMsMC4xLTAuNiwwLjItMC44YzAuMS0wLjIsMC4zLTAuNCwwLjQtMC41QzEyLDcsMTIuMiw2LjksMTIuNSw2LjhjMC4yLTAuMSwwLjUtMC4xLDAuNy0wLjIgYzAuMy0wLjEsMC41LTAuMSwwLjctMC4xYzAuMiwwLDAuNC0wLjEsMC42LTAuMWMwLjIsMCwwLjMtMC4xLDAuNC0wLjJjMC4xLTAuMSwwLjItMC4yLDAuMi0wLjRjMC0xLTEuMS0xLTEuMy0xIGMtMC40LDAtMS40LDAtMS40LDEuMmgtMC45YzAtMC40LDAuMS0wLjcsMC4yLTFjMC4xLTAuMiwwLjMtMC40LDAuNS0wLjZjMC4yLTAuMiwwLjUtMC4zLDAuOC0wLjNDMTMuMyw0LDEzLjYsNCwxMy45LDQgYzAuMywwLDAuNSwwLDAuOCwwLjFjMC4zLDAsMC41LDAuMSwwLjcsMC4yYzAuMiwwLjEsMC40LDAuMywwLjUsMC41QzE2LDUsMTYsNS4yLDE2LDUuNnYyLjljMCwwLjIsMCwwLjQsMCwwLjUgYzAsMC4xLDAuMSwwLjIsMC4zLDAuMmMwLjEsMCwwLjIsMCwwLjMsMFY5Ljh6IE0xNS4yLDYuOWMtMS4yLDAuNi0zLjEsMC4yLTMuMSwxLjRjMCwxLjQsMy4xLDEsMy4xLTAuNVY2Ljl6Ii8+CiAgPC9nPgo8L3N2Zz4K);
  --jp-icon-check: url(data:image/svg+xml;base64,PHN2ZyB4bWxucz0iaHR0cDovL3d3dy53My5vcmcvMjAwMC9zdmciIHdpZHRoPSIxNiIgdmlld0JveD0iMCAwIDI0IDI0Ij4KICA8ZyBjbGFzcz0ianAtaWNvbjMganAtaWNvbi1zZWxlY3RhYmxlIiBmaWxsPSIjNjE2MTYxIj4KICAgIDxwYXRoIGQ9Ik05IDE2LjE3TDQuODMgMTJsLTEuNDIgMS40MUw5IDE5IDIxIDdsLTEuNDEtMS40MXoiLz4KICA8L2c+Cjwvc3ZnPgo=);
  --jp-icon-circle-empty: url(data:image/svg+xml;base64,PHN2ZyB4bWxucz0iaHR0cDovL3d3dy53My5vcmcvMjAwMC9zdmciIHdpZHRoPSIxNiIgdmlld0JveD0iMCAwIDI0IDI0Ij4KICA8ZyBjbGFzcz0ianAtaWNvbjMiIGZpbGw9IiM2MTYxNjEiPgogICAgPHBhdGggZD0iTTEyIDJDNi40NyAyIDIgNi40NyAyIDEyczQuNDcgMTAgMTAgMTAgMTAtNC40NyAxMC0xMFMxNy41MyAyIDEyIDJ6bTAgMThjLTQuNDEgMC04LTMuNTktOC04czMuNTktOCA4LTggOCAzLjU5IDggOC0zLjU5IDgtOCA4eiIvPgogIDwvZz4KPC9zdmc+Cg==);
  --jp-icon-circle: url(data:image/svg+xml;base64,PHN2ZyB2aWV3Qm94PSIwIDAgMTggMTgiIHdpZHRoPSIxNiIgeG1sbnM9Imh0dHA6Ly93d3cudzMub3JnLzIwMDAvc3ZnIj4KICA8ZyBjbGFzcz0ianAtaWNvbjMiIGZpbGw9IiM2MTYxNjEiPgogICAgPGNpcmNsZSBjeD0iOSIgY3k9IjkiIHI9IjgiLz4KICA8L2c+Cjwvc3ZnPgo=);
  --jp-icon-clear: url(data:image/svg+xml;base64,PHN2ZyB4bWxucz0iaHR0cDovL3d3dy53My5vcmcvMjAwMC9zdmciIHdpZHRoPSIxNiIgdmlld0JveD0iMCAwIDI0IDI0Ij4KICA8bWFzayBpZD0iZG9udXRIb2xlIj4KICAgIDxyZWN0IHdpZHRoPSIyNCIgaGVpZ2h0PSIyNCIgZmlsbD0id2hpdGUiIC8+CiAgICA8Y2lyY2xlIGN4PSIxMiIgY3k9IjEyIiByPSI4IiBmaWxsPSJibGFjayIvPgogIDwvbWFzaz4KCiAgPGcgY2xhc3M9ImpwLWljb24zIiBmaWxsPSIjNjE2MTYxIj4KICAgIDxyZWN0IGhlaWdodD0iMTgiIHdpZHRoPSIyIiB4PSIxMSIgeT0iMyIgdHJhbnNmb3JtPSJyb3RhdGUoMzE1LCAxMiwgMTIpIi8+CiAgICA8Y2lyY2xlIGN4PSIxMiIgY3k9IjEyIiByPSIxMCIgbWFzaz0idXJsKCNkb251dEhvbGUpIi8+CiAgPC9nPgo8L3N2Zz4K);
  --jp-icon-close: url(data:image/svg+xml;base64,PHN2ZyB2aWV3Qm94PSIwIDAgMjQgMjQiIHdpZHRoPSIxNiIgeG1sbnM9Imh0dHA6Ly93d3cudzMub3JnLzIwMDAvc3ZnIj4KICA8ZyBjbGFzcz0ianAtaWNvbi1ub25lIGpwLWljb24tc2VsZWN0YWJsZS1pbnZlcnNlIGpwLWljb24zLWhvdmVyIiBmaWxsPSJub25lIj4KICAgIDxjaXJjbGUgY3g9IjEyIiBjeT0iMTIiIHI9IjExIi8+CiAgPC9nPgoKICA8ZyBjbGFzcz0ianAtaWNvbjMganAtaWNvbi1zZWxlY3RhYmxlIGpwLWljb24tYWNjZW50Mi1ob3ZlciIgZmlsbD0iIzYxNjE2MSI+CiAgICA8cGF0aCBkPSJNMTkgNi40MUwxNy41OSA1IDEyIDEwLjU5IDYuNDEgNSA1IDYuNDEgMTAuNTkgMTIgNSAxNy41OSA2LjQxIDE5IDEyIDEzLjQxIDE3LjU5IDE5IDE5IDE3LjU5IDEzLjQxIDEyeiIvPgogIDwvZz4KCiAgPGcgY2xhc3M9ImpwLWljb24tbm9uZSBqcC1pY29uLWJ1c3kiIGZpbGw9Im5vbmUiPgogICAgPGNpcmNsZSBjeD0iMTIiIGN5PSIxMiIgcj0iNyIvPgogIDwvZz4KPC9zdmc+Cg==);
  --jp-icon-code: url(data:image/svg+xml;base64,PHN2ZyB3aWR0aD0iMjIiIGhlaWdodD0iMjIiIHZpZXdCb3g9IjAgMCAyOCAyOCIgeG1sbnM9Imh0dHA6Ly93d3cudzMub3JnLzIwMDAvc3ZnIj4KCTxnIGNsYXNzPSJqcC1pY29uMyIgZmlsbD0iIzYxNjE2MSI+CgkJPHBhdGggZD0iTTExLjQgMTguNkw2LjggMTRMMTEuNCA5LjRMMTAgOEw0IDE0TDEwIDIwTDExLjQgMTguNlpNMTYuNiAxOC42TDIxLjIgMTRMMTYuNiA5LjRMMTggOEwyNCAxNEwxOCAyMEwxNi42IDE4LjZWMTguNloiLz4KCTwvZz4KPC9zdmc+Cg==);
  --jp-icon-console: url(data:image/svg+xml;base64,PHN2ZyB4bWxucz0iaHR0cDovL3d3dy53My5vcmcvMjAwMC9zdmciIHdpZHRoPSIxNiIgdmlld0JveD0iMCAwIDIwMCAyMDAiPgogIDxnIGNsYXNzPSJqcC1pY29uLWJyYW5kMSBqcC1pY29uLXNlbGVjdGFibGUiIGZpbGw9IiMwMjg4RDEiPgogICAgPHBhdGggZD0iTTIwIDE5LjhoMTYwdjE1OS45SDIweiIvPgogIDwvZz4KICA8ZyBjbGFzcz0ianAtaWNvbi1zZWxlY3RhYmxlLWludmVyc2UiIGZpbGw9IiNmZmYiPgogICAgPHBhdGggZD0iTTEwNSAxMjcuM2g0MHYxMi44aC00MHpNNTEuMSA3N0w3NCA5OS45bC0yMy4zIDIzLjMgMTAuNSAxMC41IDIzLjMtMjMuM0w5NSA5OS45IDg0LjUgODkuNCA2MS42IDY2LjV6Ii8+CiAgPC9nPgo8L3N2Zz4K);
  --jp-icon-copy: url(data:image/svg+xml;base64,PHN2ZyB2aWV3Qm94PSIwIDAgMTggMTgiIHdpZHRoPSIxNiIgeG1sbnM9Imh0dHA6Ly93d3cudzMub3JnLzIwMDAvc3ZnIj4KICA8ZyBjbGFzcz0ianAtaWNvbjMiIGZpbGw9IiM2MTYxNjEiPgogICAgPHBhdGggZD0iTTExLjksMUgzLjJDMi40LDEsMS43LDEuNywxLjcsMi41djEwLjJoMS41VjIuNWg4LjdWMXogTTE0LjEsMy45aC04Yy0wLjgsMC0xLjUsMC43LTEuNSwxLjV2MTAuMmMwLDAuOCwwLjcsMS41LDEuNSwxLjVoOCBjMC44LDAsMS41LTAuNywxLjUtMS41VjUuNEMxNS41LDQuNiwxNC45LDMuOSwxNC4xLDMuOXogTTE0LjEsMTUuNWgtOFY1LjRoOFYxNS41eiIvPgogIDwvZz4KPC9zdmc+Cg==);
  --jp-icon-copyright: url(data:image/svg+xml;base64,PHN2ZyB4bWxucz0iaHR0cDovL3d3dy53My5vcmcvMjAwMC9zdmciIGVuYWJsZS1iYWNrZ3JvdW5kPSJuZXcgMCAwIDI0IDI0IiBoZWlnaHQ9IjI0IiB2aWV3Qm94PSIwIDAgMjQgMjQiIHdpZHRoPSIyNCI+CiAgPGcgY2xhc3M9ImpwLWljb24zIiBmaWxsPSIjNjE2MTYxIj4KICAgIDxwYXRoIGQ9Ik0xMS44OCw5LjE0YzEuMjgsMC4wNiwxLjYxLDEuMTUsMS42MywxLjY2aDEuNzljLTAuMDgtMS45OC0xLjQ5LTMuMTktMy40NS0zLjE5QzkuNjQsNy42MSw4LDksOCwxMi4xNCBjMCwxLjk0LDAuOTMsNC4yNCwzLjg0LDQuMjRjMi4yMiwwLDMuNDEtMS42NSwzLjQ0LTIuOTVoLTEuNzljLTAuMDMsMC41OS0wLjQ1LDEuMzgtMS42MywxLjQ0QzEwLjU1LDE0LjgzLDEwLDEzLjgxLDEwLDEyLjE0IEMxMCw5LjI1LDExLjI4LDkuMTYsMTEuODgsOS4xNHogTTEyLDJDNi40OCwyLDIsNi40OCwyLDEyczQuNDgsMTAsMTAsMTBzMTAtNC40OCwxMC0xMFMxNy41MiwyLDEyLDJ6IE0xMiwyMGMtNC40MSwwLTgtMy41OS04LTggczMuNTktOCw4LThzOCwzLjU5LDgsOFMxNi40MSwyMCwxMiwyMHoiLz4KICA8L2c+Cjwvc3ZnPgo=);
  --jp-icon-cut: url(data:image/svg+xml;base64,PHN2ZyB2aWV3Qm94PSIwIDAgMjQgMjQiIHdpZHRoPSIxNiIgeG1sbnM9Imh0dHA6Ly93d3cudzMub3JnLzIwMDAvc3ZnIj4KICA8ZyBjbGFzcz0ianAtaWNvbjMiIGZpbGw9IiM2MTYxNjEiPgogICAgPHBhdGggZD0iTTkuNjQgNy42NGMuMjMtLjUuMzYtMS4wNS4zNi0xLjY0IDAtMi4yMS0xLjc5LTQtNC00UzIgMy43OSAyIDZzMS43OSA0IDQgNGMuNTkgMCAxLjE0LS4xMyAxLjY0LS4zNkwxMCAxMmwtMi4zNiAyLjM2QzcuMTQgMTQuMTMgNi41OSAxNCA2IDE0Yy0yLjIxIDAtNCAxLjc5LTQgNHMxLjc5IDQgNCA0IDQtMS43OSA0LTRjMC0uNTktLjEzLTEuMTQtLjM2LTEuNjRMMTIgMTRsNyA3aDN2LTFMOS42NCA3LjY0ek02IDhjLTEuMSAwLTItLjg5LTItMnMuOS0yIDItMiAyIC44OSAyIDItLjkgMi0yIDJ6bTAgMTJjLTEuMSAwLTItLjg5LTItMnMuOS0yIDItMiAyIC44OSAyIDItLjkgMi0yIDJ6bTYtNy41Yy0uMjggMC0uNS0uMjItLjUtLjVzLjIyLS41LjUtLjUuNS4yMi41LjUtLjIyLjUtLjUuNXpNMTkgM2wtNiA2IDIgMiA3LTdWM3oiLz4KICA8L2c+Cjwvc3ZnPgo=);
  --jp-icon-download: url(data:image/svg+xml;base64,PHN2ZyB2aWV3Qm94PSIwIDAgMjQgMjQiIHdpZHRoPSIxNiIgeG1sbnM9Imh0dHA6Ly93d3cudzMub3JnLzIwMDAvc3ZnIj4KICA8ZyBjbGFzcz0ianAtaWNvbjMiIGZpbGw9IiM2MTYxNjEiPgogICAgPHBhdGggZD0iTTE5IDloLTRWM0g5djZINWw3IDcgNy03ek01IDE4djJoMTR2LTJINXoiLz4KICA8L2c+Cjwvc3ZnPgo=);
  --jp-icon-edit: url(data:image/svg+xml;base64,PHN2ZyB2aWV3Qm94PSIwIDAgMjQgMjQiIHdpZHRoPSIxNiIgeG1sbnM9Imh0dHA6Ly93d3cudzMub3JnLzIwMDAvc3ZnIj4KICA8ZyBjbGFzcz0ianAtaWNvbjMiIGZpbGw9IiM2MTYxNjEiPgogICAgPHBhdGggZD0iTTMgMTcuMjVWMjFoMy43NUwxNy44MSA5Ljk0bC0zLjc1LTMuNzVMMyAxNy4yNXpNMjAuNzEgNy4wNGMuMzktLjM5LjM5LTEuMDIgMC0xLjQxbC0yLjM0LTIuMzRjLS4zOS0uMzktMS4wMi0uMzktMS40MSAwbC0xLjgzIDEuODMgMy43NSAzLjc1IDEuODMtMS44M3oiLz4KICA8L2c+Cjwvc3ZnPgo=);
  --jp-icon-ellipses: url(data:image/svg+xml;base64,PHN2ZyB2aWV3Qm94PSIwIDAgMjQgMjQiIHdpZHRoPSIxNiIgeG1sbnM9Imh0dHA6Ly93d3cudzMub3JnLzIwMDAvc3ZnIj4KICA8ZyBjbGFzcz0ianAtaWNvbjMiIGZpbGw9IiM2MTYxNjEiPgogICAgPGNpcmNsZSBjeD0iNSIgY3k9IjEyIiByPSIyIi8+CiAgICA8Y2lyY2xlIGN4PSIxMiIgY3k9IjEyIiByPSIyIi8+CiAgICA8Y2lyY2xlIGN4PSIxOSIgY3k9IjEyIiByPSIyIi8+CiAgPC9nPgo8L3N2Zz4K);
  --jp-icon-extension: url(data:image/svg+xml;base64,PHN2ZyB4bWxucz0iaHR0cDovL3d3dy53My5vcmcvMjAwMC9zdmciIHdpZHRoPSIxNiIgdmlld0JveD0iMCAwIDI0IDI0Ij4KICA8ZyBjbGFzcz0ianAtaWNvbjMiIGZpbGw9IiM2MTYxNjEiPgogICAgPHBhdGggZD0iTTIwLjUgMTFIMTlWN2MwLTEuMS0uOS0yLTItMmgtNFYzLjVDMTMgMi4xMiAxMS44OCAxIDEwLjUgMVM4IDIuMTIgOCAzLjVWNUg0Yy0xLjEgMC0xLjk5LjktMS45OSAydjMuOEgzLjVjMS40OSAwIDIuNyAxLjIxIDIuNyAyLjdzLTEuMjEgMi43LTIuNyAyLjdIMlYyMGMwIDEuMS45IDIgMiAyaDMuOHYtMS41YzAtMS40OSAxLjIxLTIuNyAyLjctMi43IDEuNDkgMCAyLjcgMS4yMSAyLjcgMi43VjIySDE3YzEuMSAwIDItLjkgMi0ydi00aDEuNWMxLjM4IDAgMi41LTEuMTIgMi41LTIuNVMyMS44OCAxMSAyMC41IDExeiIvPgogIDwvZz4KPC9zdmc+Cg==);
  --jp-icon-fast-forward: url(data:image/svg+xml;base64,PHN2ZyB4bWxucz0iaHR0cDovL3d3dy53My5vcmcvMjAwMC9zdmciIHdpZHRoPSIyNCIgaGVpZ2h0PSIyNCIgdmlld0JveD0iMCAwIDI0IDI0Ij4KICAgIDxnIGNsYXNzPSJqcC1pY29uMyIgZmlsbD0iIzYxNjE2MSI+CiAgICAgICAgPHBhdGggZD0iTTQgMThsOC41LTZMNCA2djEyem05LTEydjEybDguNS02TDEzIDZ6Ii8+CiAgICA8L2c+Cjwvc3ZnPgo=);
  --jp-icon-file-upload: url(data:image/svg+xml;base64,PHN2ZyB4bWxucz0iaHR0cDovL3d3dy53My5vcmcvMjAwMC9zdmciIHdpZHRoPSIxNiIgdmlld0JveD0iMCAwIDI0IDI0Ij4KICA8ZyBjbGFzcz0ianAtaWNvbjMiIGZpbGw9IiM2MTYxNjEiPgogICAgPHBhdGggZD0iTTkgMTZoNnYtNmg0bC03LTctNyA3aDR6bS00IDJoMTR2Mkg1eiIvPgogIDwvZz4KPC9zdmc+Cg==);
  --jp-icon-file: url(data:image/svg+xml;base64,PHN2ZyB4bWxucz0iaHR0cDovL3d3dy53My5vcmcvMjAwMC9zdmciIHdpZHRoPSIxNiIgdmlld0JveD0iMCAwIDIyIDIyIj4KICA8cGF0aCBjbGFzcz0ianAtaWNvbjMganAtaWNvbi1zZWxlY3RhYmxlIiBmaWxsPSIjNjE2MTYxIiBkPSJNMTkuMyA4LjJsLTUuNS01LjVjLS4zLS4zLS43LS41LTEuMi0uNUgzLjljLS44LjEtMS42LjktMS42IDEuOHYxNC4xYzAgLjkuNyAxLjYgMS42IDEuNmgxNC4yYy45IDAgMS42LS43IDEuNi0xLjZWOS40Yy4xLS41LS4xLS45LS40LTEuMnptLTUuOC0zLjNsMy40IDMuNmgtMy40VjQuOXptMy45IDEyLjdINC43Yy0uMSAwLS4yIDAtLjItLjJWNC43YzAtLjIuMS0uMy4yLS4zaDcuMnY0LjRzMCAuOC4zIDEuMWMuMy4zIDEuMS4zIDEuMS4zaDQuM3Y3LjJzLS4xLjItLjIuMnoiLz4KPC9zdmc+Cg==);
  --jp-icon-filter-list: url(data:image/svg+xml;base64,PHN2ZyB4bWxucz0iaHR0cDovL3d3dy53My5vcmcvMjAwMC9zdmciIHdpZHRoPSIxNiIgdmlld0JveD0iMCAwIDI0IDI0Ij4KICA8ZyBjbGFzcz0ianAtaWNvbjMiIGZpbGw9IiM2MTYxNjEiPgogICAgPHBhdGggZD0iTTEwIDE4aDR2LTJoLTR2MnpNMyA2djJoMThWNkgzem0zIDdoMTJ2LTJINnYyeiIvPgogIDwvZz4KPC9zdmc+Cg==);
  --jp-icon-folder: url(data:image/svg+xml;base64,PHN2ZyB4bWxucz0iaHR0cDovL3d3dy53My5vcmcvMjAwMC9zdmciIHdpZHRoPSIxNiIgdmlld0JveD0iMCAwIDI0IDI0Ij4KICA8cGF0aCBjbGFzcz0ianAtaWNvbjMganAtaWNvbi1zZWxlY3RhYmxlIiBmaWxsPSIjNjE2MTYxIiBkPSJNMTAgNEg0Yy0xLjEgMC0xLjk5LjktMS45OSAyTDIgMThjMCAxLjEuOSAyIDIgMmgxNmMxLjEgMCAyLS45IDItMlY4YzAtMS4xLS45LTItMi0yaC04bC0yLTJ6Ii8+Cjwvc3ZnPgo=);
  --jp-icon-html5: url(data:image/svg+xml;base64,PHN2ZyB4bWxucz0iaHR0cDovL3d3dy53My5vcmcvMjAwMC9zdmciIHdpZHRoPSIxNiIgdmlld0JveD0iMCAwIDUxMiA1MTIiPgogIDxwYXRoIGNsYXNzPSJqcC1pY29uMCBqcC1pY29uLXNlbGVjdGFibGUiIGZpbGw9IiMwMDAiIGQ9Ik0xMDguNCAwaDIzdjIyLjhoMjEuMlYwaDIzdjY5aC0yM1Y0NmgtMjF2MjNoLTIzLjJNMjA2IDIzaC0yMC4zVjBoNjMuN3YyM0gyMjl2NDZoLTIzbTUzLjUtNjloMjQuMWwxNC44IDI0LjNMMzEzLjIgMGgyNC4xdjY5aC0yM1YzNC44bC0xNi4xIDI0LjgtMTYuMS0yNC44VjY5aC0yMi42bTg5LjItNjloMjN2NDYuMmgzMi42VjY5aC01NS42Ii8+CiAgPHBhdGggY2xhc3M9ImpwLWljb24tc2VsZWN0YWJsZSIgZmlsbD0iI2U0NGQyNiIgZD0iTTEwNy42IDQ3MWwtMzMtMzcwLjRoMzYyLjhsLTMzIDM3MC4yTDI1NS43IDUxMiIvPgogIDxwYXRoIGNsYXNzPSJqcC1pY29uLXNlbGVjdGFibGUiIGZpbGw9IiNmMTY1MjkiIGQ9Ik0yNTYgNDgwLjVWMTMxaDE0OC4zTDM3NiA0NDciLz4KICA8cGF0aCBjbGFzcz0ianAtaWNvbi1zZWxlY3RhYmxlLWludmVyc2UiIGZpbGw9IiNlYmViZWIiIGQ9Ik0xNDIgMTc2LjNoMTE0djQ1LjRoLTY0LjJsNC4yIDQ2LjVoNjB2NDUuM0gxNTQuNG0yIDIyLjhIMjAybDMuMiAzNi4zIDUwLjggMTMuNnY0Ny40bC05My4yLTI2Ii8+CiAgPHBhdGggY2xhc3M9ImpwLWljb24tc2VsZWN0YWJsZS1pbnZlcnNlIiBmaWxsPSIjZmZmIiBkPSJNMzY5LjYgMTc2LjNIMjU1Ljh2NDUuNGgxMDkuNm0tNC4xIDQ2LjVIMjU1Ljh2NDUuNGg1NmwtNS4zIDU5LTUwLjcgMTMuNnY0Ny4ybDkzLTI1LjgiLz4KPC9zdmc+Cg==);
  --jp-icon-image: url(data:image/svg+xml;base64,PHN2ZyB4bWxucz0iaHR0cDovL3d3dy53My5vcmcvMjAwMC9zdmciIHdpZHRoPSIxNiIgdmlld0JveD0iMCAwIDIyIDIyIj4KICA8cGF0aCBjbGFzcz0ianAtaWNvbi1icmFuZDQganAtaWNvbi1zZWxlY3RhYmxlLWludmVyc2UiIGZpbGw9IiNGRkYiIGQ9Ik0yLjIgMi4yaDE3LjV2MTcuNUgyLjJ6Ii8+CiAgPHBhdGggY2xhc3M9ImpwLWljb24tYnJhbmQwIGpwLWljb24tc2VsZWN0YWJsZSIgZmlsbD0iIzNGNTFCNSIgZD0iTTIuMiAyLjJ2MTcuNWgxNy41bC4xLTE3LjVIMi4yem0xMi4xIDIuMmMxLjIgMCAyLjIgMSAyLjIgMi4ycy0xIDIuMi0yLjIgMi4yLTIuMi0xLTIuMi0yLjIgMS0yLjIgMi4yLTIuMnpNNC40IDE3LjZsMy4zLTguOCAzLjMgNi42IDIuMi0zLjIgNC40IDUuNEg0LjR6Ii8+Cjwvc3ZnPgo=);
  --jp-icon-inspector: url(data:image/svg+xml;base64,PHN2ZyB4bWxucz0iaHR0cDovL3d3dy53My5vcmcvMjAwMC9zdmciIHdpZHRoPSIxNiIgdmlld0JveD0iMCAwIDI0IDI0Ij4KICA8cGF0aCBjbGFzcz0ianAtaWNvbjMganAtaWNvbi1zZWxlY3RhYmxlIiBmaWxsPSIjNjE2MTYxIiBkPSJNMjAgNEg0Yy0xLjEgMC0xLjk5LjktMS45OSAyTDIgMThjMCAxLjEuOSAyIDIgMmgxNmMxLjEgMCAyLS45IDItMlY2YzAtMS4xLS45LTItMi0yem0tNSAxNEg0di00aDExdjR6bTAtNUg0VjloMTF2NHptNSA1aC00VjloNHY5eiIvPgo8L3N2Zz4K);
  --jp-icon-json: url(data:image/svg+xml;base64,PHN2ZyB4bWxucz0iaHR0cDovL3d3dy53My5vcmcvMjAwMC9zdmciIHdpZHRoPSIxNiIgdmlld0JveD0iMCAwIDIyIDIyIj4KICA8ZyBjbGFzcz0ianAtaWNvbi13YXJuMSBqcC1pY29uLXNlbGVjdGFibGUiIGZpbGw9IiNGOUE4MjUiPgogICAgPHBhdGggZD0iTTIwLjIgMTEuOGMtMS42IDAtMS43LjUtMS43IDEgMCAuNC4xLjkuMSAxLjMuMS41LjEuOS4xIDEuMyAwIDEuNy0xLjQgMi4zLTMuNSAyLjNoLS45di0xLjloLjVjMS4xIDAgMS40IDAgMS40LS44IDAtLjMgMC0uNi0uMS0xIDAtLjQtLjEtLjgtLjEtMS4yIDAtMS4zIDAtMS44IDEuMy0yLTEuMy0uMi0xLjMtLjctMS4zLTIgMC0uNC4xLS44LjEtMS4yLjEtLjQuMS0uNy4xLTEgMC0uOC0uNC0uNy0xLjQtLjhoLS41VjQuMWguOWMyLjIgMCAzLjUuNyAzLjUgMi4zIDAgLjQtLjEuOS0uMSAxLjMtLjEuNS0uMS45LS4xIDEuMyAwIC41LjIgMSAxLjcgMXYxLjh6TTEuOCAxMC4xYzEuNiAwIDEuNy0uNSAxLjctMSAwLS40LS4xLS45LS4xLTEuMy0uMS0uNS0uMS0uOS0uMS0xLjMgMC0xLjYgMS40LTIuMyAzLjUtMi4zaC45djEuOWgtLjVjLTEgMC0xLjQgMC0xLjQuOCAwIC4zIDAgLjYuMSAxIDAgLjIuMS42LjEgMSAwIDEuMyAwIDEuOC0xLjMgMkM2IDExLjIgNiAxMS43IDYgMTNjMCAuNC0uMS44LS4xIDEuMi0uMS4zLS4xLjctLjEgMSAwIC44LjMuOCAxLjQuOGguNXYxLjloLS45Yy0yLjEgMC0zLjUtLjYtMy41LTIuMyAwLS40LjEtLjkuMS0xLjMuMS0uNS4xLS45LjEtMS4zIDAtLjUtLjItMS0xLjctMXYtMS45eiIvPgogICAgPGNpcmNsZSBjeD0iMTEiIGN5PSIxMy44IiByPSIyLjEiLz4KICAgIDxjaXJjbGUgY3g9IjExIiBjeT0iOC4yIiByPSIyLjEiLz4KICA8L2c+Cjwvc3ZnPgo=);
  --jp-icon-julia: url(data:image/svg+xml;base64,PHN2ZyB4bWxucz0iaHR0cDovL3d3dy53My5vcmcvMjAwMC9zdmciIHdpZHRoPSIxNiIgdmlld0JveD0iMCAwIDMyNSAzMDAiPgogIDxnIGNsYXNzPSJqcC1icmFuZDAganAtaWNvbi1zZWxlY3RhYmxlIiBmaWxsPSIjY2IzYzMzIj4KICAgIDxwYXRoIGQ9Ik0gMTUwLjg5ODQzOCAyMjUgQyAxNTAuODk4NDM4IDI2Ni40MjE4NzUgMTE3LjMyMDMxMiAzMDAgNzUuODk4NDM4IDMwMCBDIDM0LjQ3NjU2MiAzMDAgMC44OTg0MzggMjY2LjQyMTg3NSAwLjg5ODQzOCAyMjUgQyAwLjg5ODQzOCAxODMuNTc4MTI1IDM0LjQ3NjU2MiAxNTAgNzUuODk4NDM4IDE1MCBDIDExNy4zMjAzMTIgMTUwIDE1MC44OTg0MzggMTgzLjU3ODEyNSAxNTAuODk4NDM4IDIyNSIvPgogIDwvZz4KICA8ZyBjbGFzcz0ianAtYnJhbmQwIGpwLWljb24tc2VsZWN0YWJsZSIgZmlsbD0iIzM4OTgyNiI+CiAgICA8cGF0aCBkPSJNIDIzNy41IDc1IEMgMjM3LjUgMTE2LjQyMTg3NSAyMDMuOTIxODc1IDE1MCAxNjIuNSAxNTAgQyAxMjEuMDc4MTI1IDE1MCA4Ny41IDExNi40MjE4NzUgODcuNSA3NSBDIDg3LjUgMzMuNTc4MTI1IDEyMS4wNzgxMjUgMCAxNjIuNSAwIEMgMjAzLjkyMTg3NSAwIDIzNy41IDMzLjU3ODEyNSAyMzcuNSA3NSIvPgogIDwvZz4KICA8ZyBjbGFzcz0ianAtYnJhbmQwIGpwLWljb24tc2VsZWN0YWJsZSIgZmlsbD0iIzk1NThiMiI+CiAgICA8cGF0aCBkPSJNIDMyNC4xMDE1NjIgMjI1IEMgMzI0LjEwMTU2MiAyNjYuNDIxODc1IDI5MC41MjM0MzggMzAwIDI0OS4xMDE1NjIgMzAwIEMgMjA3LjY3OTY4OCAzMDAgMTc0LjEwMTU2MiAyNjYuNDIxODc1IDE3NC4xMDE1NjIgMjI1IEMgMTc0LjEwMTU2MiAxODMuNTc4MTI1IDIwNy42Nzk2ODggMTUwIDI0OS4xMDE1NjIgMTUwIEMgMjkwLjUyMzQzOCAxNTAgMzI0LjEwMTU2MiAxODMuNTc4MTI1IDMyNC4xMDE1NjIgMjI1Ii8+CiAgPC9nPgo8L3N2Zz4K);
  --jp-icon-jupyter-favicon: url(data:image/svg+xml;base64,PHN2ZyB3aWR0aD0iMTUyIiBoZWlnaHQ9IjE2NSIgdmlld0JveD0iMCAwIDE1MiAxNjUiIHZlcnNpb249IjEuMSIgeG1sbnM9Imh0dHA6Ly93d3cudzMub3JnLzIwMDAvc3ZnIj4KICA8ZyBjbGFzcz0ianAtaWNvbi13YXJuMCIgZmlsbD0iI0YzNzcyNiI+CiAgICA8cGF0aCB0cmFuc2Zvcm09InRyYW5zbGF0ZSgwLjA3ODk0NywgMTEwLjU4MjkyNykiIGQ9Ik03NS45NDIyODQyLDI5LjU4MDQ1NjEgQzQzLjMwMjM5NDcsMjkuNTgwNDU2MSAxNC43OTY3ODMyLDE3LjY1MzQ2MzQgMCwwIEM1LjUxMDgzMjExLDE1Ljg0MDY4MjkgMTUuNzgxNTM4OSwyOS41NjY3NzMyIDI5LjM5MDQ5NDcsMzkuMjc4NDE3MSBDNDIuOTk5Nyw0OC45ODk4NTM3IDU5LjI3MzcsNTQuMjA2NzgwNSA3NS45NjA1Nzg5LDU0LjIwNjc4MDUgQzkyLjY0NzQ1NzksNTQuMjA2NzgwNSAxMDguOTIxNDU4LDQ4Ljk4OTg1MzcgMTIyLjUzMDY2MywzOS4yNzg0MTcxIEMxMzYuMTM5NDUzLDI5LjU2Njc3MzIgMTQ2LjQxMDI4NCwxNS44NDA2ODI5IDE1MS45MjExNTgsMCBDMTM3LjA4Nzg2OCwxNy42NTM0NjM0IDEwOC41ODI1ODksMjkuNTgwNDU2MSA3NS45NDIyODQyLDI5LjU4MDQ1NjEgTDc1Ljk0MjI4NDIsMjkuNTgwNDU2MSBaIiAvPgogICAgPHBhdGggdHJhbnNmb3JtPSJ0cmFuc2xhdGUoMC4wMzczNjgsIDAuNzA0ODc4KSIgZD0iTTc1Ljk3ODQ1NzksMjQuNjI2NDA3MyBDMTA4LjYxODc2MywyNC42MjY0MDczIDEzNy4xMjQ0NTgsMzYuNTUzNDQxNSAxNTEuOTIxMTU4LDU0LjIwNjc4MDUgQzE0Ni40MTAyODQsMzguMzY2MjIyIDEzNi4xMzk0NTMsMjQuNjQwMTMxNyAxMjIuNTMwNjYzLDE0LjkyODQ4NzggQzEwOC45MjE0NTgsNS4yMTY4NDM5IDkyLjY0NzQ1NzksMCA3NS45NjA1Nzg5LDAgQzU5LjI3MzcsMCA0Mi45OTk3LDUuMjE2ODQzOSAyOS4zOTA0OTQ3LDE0LjkyODQ4NzggQzE1Ljc4MTUzODksMjQuNjQwMTMxNyA1LjUxMDgzMjExLDM4LjM2NjIyMiAwLDU0LjIwNjc4MDUgQzE0LjgzMzA4MTYsMzYuNTg5OTI5MyA0My4zMzg1Njg0LDI0LjYyNjQwNzMgNzUuOTc4NDU3OSwyNC42MjY0MDczIEw3NS45Nzg0NTc5LDI0LjYyNjQwNzMgWiIgLz4KICA8L2c+Cjwvc3ZnPgo=);
  --jp-icon-jupyter: url(data:image/svg+xml;base64,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);
  --jp-icon-jupyterlab-wordmark: url(data:image/svg+xml;base64,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);
  --jp-icon-kernel: url(data:image/svg+xml;base64,PHN2ZyB4bWxucz0iaHR0cDovL3d3dy53My5vcmcvMjAwMC9zdmciIHdpZHRoPSIxNiIgdmlld0JveD0iMCAwIDI0IDI0Ij4KICAgIDxwYXRoIGNsYXNzPSJqcC1pY29uMiIgZmlsbD0iIzYxNjE2MSIgZD0iTTE1IDlIOXY2aDZWOXptLTIgNGgtMnYtMmgydjJ6bTgtMlY5aC0yVjdjMC0xLjEtLjktMi0yLTJoLTJWM2gtMnYyaC0yVjNIOXYySDdjLTEuMSAwLTIgLjktMiAydjJIM3YyaDJ2MkgzdjJoMnYyYzAgMS4xLjkgMiAyIDJoMnYyaDJ2LTJoMnYyaDJ2LTJoMmMxLjEgMCAyLS45IDItMnYtMmgydi0yaC0ydi0yaDJ6bS00IDZIN1Y3aDEwdjEweiIvPgo8L3N2Zz4K);
  --jp-icon-keyboard: url(data:image/svg+xml;base64,PHN2ZyB4bWxucz0iaHR0cDovL3d3dy53My5vcmcvMjAwMC9zdmciIHdpZHRoPSIxNiIgdmlld0JveD0iMCAwIDI0IDI0Ij4KICA8cGF0aCBjbGFzcz0ianAtaWNvbjMganAtaWNvbi1zZWxlY3RhYmxlIiBmaWxsPSIjNjE2MTYxIiBkPSJNMjAgNUg0Yy0xLjEgMC0xLjk5LjktMS45OSAyTDIgMTdjMCAxLjEuOSAyIDIgMmgxNmMxLjEgMCAyLS45IDItMlY3YzAtMS4xLS45LTItMi0yem0tOSAzaDJ2MmgtMlY4em0wIDNoMnYyaC0ydi0yek04IDhoMnYySDhWOHptMCAzaDJ2Mkg4di0yem0tMSAySDV2LTJoMnYyem0wLTNINVY4aDJ2MnptOSA3SDh2LTJoOHYyem0wLTRoLTJ2LTJoMnYyem0wLTNoLTJWOGgydjJ6bTMgM2gtMnYtMmgydjJ6bTAtM2gtMlY4aDJ2MnoiLz4KPC9zdmc+Cg==);
  --jp-icon-launcher: url(data:image/svg+xml;base64,PHN2ZyB4bWxucz0iaHR0cDovL3d3dy53My5vcmcvMjAwMC9zdmciIHdpZHRoPSIxNiIgdmlld0JveD0iMCAwIDI0IDI0Ij4KICA8cGF0aCBjbGFzcz0ianAtaWNvbjMganAtaWNvbi1zZWxlY3RhYmxlIiBmaWxsPSIjNjE2MTYxIiBkPSJNMTkgMTlINVY1aDdWM0g1YTIgMiAwIDAwLTIgMnYxNGEyIDIgMCAwMDIgMmgxNGMxLjEgMCAyLS45IDItMnYtN2gtMnY3ek0xNCAzdjJoMy41OWwtOS44MyA5LjgzIDEuNDEgMS40MUwxOSA2LjQxVjEwaDJWM2gtN3oiLz4KPC9zdmc+Cg==);
  --jp-icon-line-form: url(data:image/svg+xml;base64,PHN2ZyB4bWxucz0iaHR0cDovL3d3dy53My5vcmcvMjAwMC9zdmciIHdpZHRoPSIxNiIgdmlld0JveD0iMCAwIDI0IDI0Ij4KICAgIDxwYXRoIGZpbGw9IndoaXRlIiBkPSJNNS44OCA0LjEyTDEzLjc2IDEybC03Ljg4IDcuODhMOCAyMmwxMC0xMEw4IDJ6Ii8+Cjwvc3ZnPgo=);
  --jp-icon-link: url(data:image/svg+xml;base64,PHN2ZyB2aWV3Qm94PSIwIDAgMjQgMjQiIHdpZHRoPSIxNiIgeG1sbnM9Imh0dHA6Ly93d3cudzMub3JnLzIwMDAvc3ZnIj4KICA8ZyBjbGFzcz0ianAtaWNvbjMiIGZpbGw9IiM2MTYxNjEiPgogICAgPHBhdGggZD0iTTMuOSAxMmMwLTEuNzEgMS4zOS0zLjEgMy4xLTMuMWg0VjdIN2MtMi43NiAwLTUgMi4yNC01IDVzMi4yNCA1IDUgNWg0di0xLjlIN2MtMS43MSAwLTMuMS0xLjM5LTMuMS0zLjF6TTggMTNoOHYtMkg4djJ6bTktNmgtNHYxLjloNGMxLjcxIDAgMy4xIDEuMzkgMy4xIDMuMXMtMS4zOSAzLjEtMy4xIDMuMWgtNFYxN2g0YzIuNzYgMCA1LTIuMjQgNS01cy0yLjI0LTUtNS01eiIvPgogIDwvZz4KPC9zdmc+Cg==);
  --jp-icon-list: url(data:image/svg+xml;base64,PHN2ZyB4bWxucz0iaHR0cDovL3d3dy53My5vcmcvMjAwMC9zdmciIHdpZHRoPSIxNiIgdmlld0JveD0iMCAwIDI0IDI0Ij4KICAgIDxwYXRoIGNsYXNzPSJqcC1pY29uMiBqcC1pY29uLXNlbGVjdGFibGUiIGZpbGw9IiM2MTYxNjEiIGQ9Ik0xOSA1djE0SDVWNWgxNG0xLjEtMkgzLjljLS41IDAtLjkuNC0uOS45djE2LjJjMCAuNC40LjkuOS45aDE2LjJjLjQgMCAuOS0uNS45LS45VjMuOWMwLS41LS41LS45LS45LS45ek0xMSA3aDZ2MmgtNlY3em0wIDRoNnYyaC02di0yem0wIDRoNnYyaC02ek03IDdoMnYySDd6bTAgNGgydjJIN3ptMCA0aDJ2Mkg3eiIvPgo8L3N2Zz4=);
  --jp-icon-listings-info: url(data:image/svg+xml;base64,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);
  --jp-icon-markdown: url(data:image/svg+xml;base64,PHN2ZyB4bWxucz0iaHR0cDovL3d3dy53My5vcmcvMjAwMC9zdmciIHdpZHRoPSIxNiIgdmlld0JveD0iMCAwIDIyIDIyIj4KICA8cGF0aCBjbGFzcz0ianAtaWNvbi1jb250cmFzdDAganAtaWNvbi1zZWxlY3RhYmxlIiBmaWxsPSIjN0IxRkEyIiBkPSJNNSAxNC45aDEybC02LjEgNnptOS40LTYuOGMwLTEuMy0uMS0yLjktLjEtNC41LS40IDEuNC0uOSAyLjktMS4zIDQuM2wtMS4zIDQuM2gtMkw4LjUgNy45Yy0uNC0xLjMtLjctMi45LTEtNC4zLS4xIDEuNi0uMSAzLjItLjIgNC42TDcgMTIuNEg0LjhsLjctMTFoMy4zTDEwIDVjLjQgMS4yLjcgMi43IDEgMy45LjMtMS4yLjctMi42IDEtMy45bDEuMi0zLjdoMy4zbC42IDExaC0yLjRsLS4zLTQuMnoiLz4KPC9zdmc+Cg==);
  --jp-icon-new-folder: url(data:image/svg+xml;base64,PHN2ZyB4bWxucz0iaHR0cDovL3d3dy53My5vcmcvMjAwMC9zdmciIHdpZHRoPSIxNiIgdmlld0JveD0iMCAwIDI0IDI0Ij4KICA8ZyBjbGFzcz0ianAtaWNvbjMiIGZpbGw9IiM2MTYxNjEiPgogICAgPHBhdGggZD0iTTIwIDZoLThsLTItMkg0Yy0xLjExIDAtMS45OS44OS0xLjk5IDJMMiAxOGMwIDEuMTEuODkgMiAyIDJoMTZjMS4xMSAwIDItLjg5IDItMlY4YzAtMS4xMS0uODktMi0yLTJ6bS0xIDhoLTN2M2gtMnYtM2gtM3YtMmgzVjloMnYzaDN2MnoiLz4KICA8L2c+Cjwvc3ZnPgo=);
  --jp-icon-not-trusted: url(data:image/svg+xml;base64,PHN2ZyBmaWxsPSJub25lIiB4bWxucz0iaHR0cDovL3d3dy53My5vcmcvMjAwMC9zdmciIHdpZHRoPSIxNiIgdmlld0JveD0iMCAwIDI1IDI1Ij4KICAgIDxwYXRoIGNsYXNzPSJqcC1pY29uMiIgc3Ryb2tlPSIjMzMzMzMzIiBzdHJva2Utd2lkdGg9IjIiIHRyYW5zZm9ybT0idHJhbnNsYXRlKDMgMykiIGQ9Ik0xLjg2MDk0IDExLjQ0MDlDMC44MjY0NDggOC43NzAyNyAwLjg2Mzc3OSA2LjA1NzY0IDEuMjQ5MDcgNC4xOTkzMkMyLjQ4MjA2IDMuOTMzNDcgNC4wODA2OCAzLjQwMzQ3IDUuNjAxMDIgMi44NDQ5QzcuMjM1NDkgMi4yNDQ0IDguODU2NjYgMS41ODE1IDkuOTg3NiAxLjA5NTM5QzExLjA1OTcgMS41ODM0MSAxMi42MDk0IDIuMjQ0NCAxNC4yMTggMi44NDMzOUMxNS43NTAzIDMuNDEzOTQgMTcuMzk5NSAzLjk1MjU4IDE4Ljc1MzkgNC4yMTM4NUMxOS4xMzY0IDYuMDcxNzcgMTkuMTcwOSA4Ljc3NzIyIDE4LjEzOSAxMS40NDA5QzE3LjAzMDMgMTQuMzAzMiAxNC42NjY4IDE3LjE4NDQgOS45OTk5OSAxOC45MzU0QzUuMzMzMTkgMTcuMTg0NCAyLjk2OTY4IDE0LjMwMzIgMS44NjA5NCAxMS40NDA5WiIvPgogICAgPHBhdGggY2xhc3M9ImpwLWljb24yIiBzdHJva2U9IiMzMzMzMzMiIHN0cm9rZS13aWR0aD0iMiIgdHJhbnNmb3JtPSJ0cmFuc2xhdGUoOS4zMTU5MiA5LjMyMDMxKSIgZD0iTTcuMzY4NDIgMEwwIDcuMzY0NzkiLz4KICAgIDxwYXRoIGNsYXNzPSJqcC1pY29uMiIgc3Ryb2tlPSIjMzMzMzMzIiBzdHJva2Utd2lkdGg9IjIiIHRyYW5zZm9ybT0idHJhbnNsYXRlKDkuMzE1OTIgMTYuNjgzNikgc2NhbGUoMSAtMSkiIGQ9Ik03LjM2ODQyIDBMMCA3LjM2NDc5Ii8+Cjwvc3ZnPgo=);
  --jp-icon-notebook: url(data:image/svg+xml;base64,PHN2ZyB4bWxucz0iaHR0cDovL3d3dy53My5vcmcvMjAwMC9zdmciIHdpZHRoPSIxNiIgdmlld0JveD0iMCAwIDIyIDIyIj4KICA8ZyBjbGFzcz0ianAtaWNvbi13YXJuMCBqcC1pY29uLXNlbGVjdGFibGUiIGZpbGw9IiNFRjZDMDAiPgogICAgPHBhdGggZD0iTTE4LjcgMy4zdjE1LjRIMy4zVjMuM2gxNS40bTEuNS0xLjVIMS44djE4LjNoMTguM2wuMS0xOC4zeiIvPgogICAgPHBhdGggZD0iTTE2LjUgMTYuNWwtNS40LTQuMy01LjYgNC4zdi0xMWgxMXoiLz4KICA8L2c+Cjwvc3ZnPgo=);
  --jp-icon-numbering: url(data:image/svg+xml;base64,PHN2ZyB3aWR0aD0iMjIiIGhlaWdodD0iMjIiIHZpZXdCb3g9IjAgMCAyOCAyOCIgeG1sbnM9Imh0dHA6Ly93d3cudzMub3JnLzIwMDAvc3ZnIj4KCTxnIGNsYXNzPSJqcC1pY29uMyIgZmlsbD0iIzYxNjE2MSI+CgkJPHBhdGggZD0iTTQgMTlINlYxOS41SDVWMjAuNUg2VjIxSDRWMjJIN1YxOEg0VjE5Wk01IDEwSDZWNkg0VjdINVYxMFpNNCAxM0g1LjhMNCAxNS4xVjE2SDdWMTVINS4yTDcgMTIuOVYxMkg0VjEzWk05IDdWOUgyM1Y3SDlaTTkgMjFIMjNWMTlIOVYyMVpNOSAxNUgyM1YxM0g5VjE1WiIvPgoJPC9nPgo8L3N2Zz4K);
  --jp-icon-offline-bolt: url(data:image/svg+xml;base64,PHN2ZyB4bWxucz0iaHR0cDovL3d3dy53My5vcmcvMjAwMC9zdmciIHZpZXdCb3g9IjAgMCAyNCAyNCIgd2lkdGg9IjE2Ij4KICA8ZyBjbGFzcz0ianAtaWNvbjMiIGZpbGw9IiM2MTYxNjEiPgogICAgPHBhdGggZD0iTTEyIDIuMDJjLTUuNTEgMC05Ljk4IDQuNDctOS45OCA5Ljk4czQuNDcgOS45OCA5Ljk4IDkuOTggOS45OC00LjQ3IDkuOTgtOS45OFMxNy41MSAyLjAyIDEyIDIuMDJ6TTExLjQ4IDIwdi02LjI2SDhMMTMgNHY2LjI2aDMuMzVMMTEuNDggMjB6Ii8+CiAgPC9nPgo8L3N2Zz4K);
  --jp-icon-palette: url(data:image/svg+xml;base64,PHN2ZyB4bWxucz0iaHR0cDovL3d3dy53My5vcmcvMjAwMC9zdmciIHdpZHRoPSIxNiIgdmlld0JveD0iMCAwIDI0IDI0Ij4KICA8ZyBjbGFzcz0ianAtaWNvbjMiIGZpbGw9IiM2MTYxNjEiPgogICAgPHBhdGggZD0iTTE4IDEzVjIwSDRWNkg5LjAyQzkuMDcgNS4yOSA5LjI0IDQuNjIgOS41IDRINEMyLjkgNCAyIDQuOSAyIDZWMjBDMiAyMS4xIDIuOSAyMiA0IDIySDE4QzE5LjEgMjIgMjAgMjEuMSAyMCAyMFYxNUwxOCAxM1pNMTkuMyA4Ljg5QzE5Ljc0IDguMTkgMjAgNy4zOCAyMCA2LjVDMjAgNC4wMSAxNy45OSAyIDE1LjUgMkMxMy4wMSAyIDExIDQuMDEgMTEgNi41QzExIDguOTkgMTMuMDEgMTEgMTUuNDkgMTFDMTYuMzcgMTEgMTcuMTkgMTAuNzQgMTcuODggMTAuM0wyMSAxMy40MkwyMi40MiAxMkwxOS4zIDguODlaTTE1LjUgOUMxNC4xMiA5IDEzIDcuODggMTMgNi41QzEzIDUuMTIgMTQuMTIgNCAxNS41IDRDMTYuODggNCAxOCA1LjEyIDE4IDYuNUMxOCA3Ljg4IDE2Ljg4IDkgMTUuNSA5WiIvPgogICAgPHBhdGggZmlsbC1ydWxlPSJldmVub2RkIiBjbGlwLXJ1bGU9ImV2ZW5vZGQiIGQ9Ik00IDZIOS4wMTg5NEM5LjAwNjM5IDYuMTY1MDIgOSA2LjMzMTc2IDkgNi41QzkgOC44MTU3NyAxMC4yMTEgMTAuODQ4NyAxMi4wMzQzIDEySDlWMTRIMTZWMTIuOTgxMUMxNi41NzAzIDEyLjkzNzcgMTcuMTIgMTIuODIwNyAxNy42Mzk2IDEyLjYzOTZMMTggMTNWMjBINFY2Wk04IDhINlYxMEg4VjhaTTYgMTJIOFYxNEg2VjEyWk04IDE2SDZWMThIOFYxNlpNOSAxNkgxNlYxOEg5VjE2WiIvPgogIDwvZz4KPC9zdmc+Cg==);
  --jp-icon-paste: url(data:image/svg+xml;base64,PHN2ZyBoZWlnaHQ9IjI0IiB2aWV3Qm94PSIwIDAgMjQgMjQiIHdpZHRoPSIyNCIgeG1sbnM9Imh0dHA6Ly93d3cudzMub3JnLzIwMDAvc3ZnIj4KICAgIDxnIGNsYXNzPSJqcC1pY29uMyIgZmlsbD0iIzYxNjE2MSI+CiAgICAgICAgPHBhdGggZD0iTTE5IDJoLTQuMThDMTQuNC44NCAxMy4zIDAgMTIgMGMtMS4zIDAtMi40Ljg0LTIuODIgMkg1Yy0xLjEgMC0yIC45LTIgMnYxNmMwIDEuMS45IDIgMiAyaDE0YzEuMSAwIDItLjkgMi0yVjRjMC0xLjEtLjktMi0yLTJ6bS03IDBjLjU1IDAgMSAuNDUgMSAxcy0uNDUgMS0xIDEtMS0uNDUtMS0xIC40NS0xIDEtMXptNyAxOEg1VjRoMnYzaDEwVjRoMnYxNnoiLz4KICAgIDwvZz4KPC9zdmc+Cg==);
  --jp-icon-pdf: url(data:image/svg+xml;base64,PHN2ZwogICB4bWxucz0iaHR0cDovL3d3dy53My5vcmcvMjAwMC9zdmciIHZpZXdCb3g9IjAgMCAyMiAyMiIgd2lkdGg9IjE2Ij4KICAgIDxwYXRoIHRyYW5zZm9ybT0icm90YXRlKDQ1KSIgY2xhc3M9ImpwLWljb24tc2VsZWN0YWJsZSIgZmlsbD0iI0ZGMkEyQSIKICAgICAgIGQ9Im0gMjIuMzQ0MzY5LC0zLjAxNjM2NDIgaCA1LjYzODYwNCB2IDEuNTc5MjQzMyBoIC0zLjU0OTIyNyB2IDEuNTA4NjkyOTkgaCAzLjMzNzU3NiBWIDEuNjUwODE1NCBoIC0zLjMzNzU3NiB2IDMuNDM1MjYxMyBoIC0yLjA4OTM3NyB6IG0gLTcuMTM2NDQ0LDEuNTc5MjQzMyB2IDQuOTQzOTU0MyBoIDAuNzQ4OTIgcSAxLjI4MDc2MSwwIDEuOTUzNzAzLC0wLjYzNDk1MzUgMC42NzgzNjksLTAuNjM0OTUzNSAwLjY3ODM2OSwtMS44NDUxNjQxIDAsLTEuMjA0NzgzNTUgLTAuNjcyOTQyLC0xLjgzNDMxMDExIC0wLjY3Mjk0MiwtMC42Mjk1MjY1OSAtMS45NTkxMywtMC42Mjk1MjY1OSB6IG0gLTIuMDg5Mzc3LC0xLjU3OTI0MzMgaCAyLjIwMzM0MyBxIDEuODQ1MTY0LDAgMi43NDYwMzksMC4yNjU5MjA3IDAuOTA2MzAxLDAuMjYwNDkzNyAxLjU1MjEwOCwwLjg5MDAyMDMgMC41Njk4MywwLjU0ODEyMjMgMC44NDY2MDUsMS4yNjQ0ODAwNiAwLjI3Njc3NCwwLjcxNjM1NzgxIDAuMjc2Nzc0LDEuNjIyNjU4OTQgMCwwLjkxNzE1NTEgLTAuMjc2Nzc0LDEuNjM4OTM5OSAtMC4yNzY3NzUsMC43MTYzNTc4IC0wLjg0NjYwNSwxLjI2NDQ4IC0wLjY1MTIzNCwwLjYyOTUyNjYgLTEuNTYyOTYyLDAuODk1NDQ3MyAtMC45MTE3MjgsMC4yNjA0OTM3IC0yLjczNTE4NSwwLjI2MDQ5MzcgaCAtMi4yMDMzNDMgeiBtIC04LjE0NTg1NjUsMCBoIDMuNDY3ODIzIHEgMS41NDY2ODE2LDAgMi4zNzE1Nzg1LDAuNjg5MjIzIDAuODMwMzI0LDAuNjgzNzk2MSAwLjgzMDMyNCwxLjk1MzcwMzE0IDAsMS4yNzUzMzM5NyAtMC44MzAzMjQsMS45NjQ1NTcwNiBRIDkuOTg3MTk2MSwyLjI3NDkxNSA4LjQ0MDUxNDUsMi4yNzQ5MTUgSCA3LjA2MjA2ODQgViA1LjA4NjA3NjcgSCA0Ljk3MjY5MTUgWiBtIDIuMDg5Mzc2OSwxLjUxNDExOTkgdiAyLjI2MzAzOTQzIGggMS4xNTU5NDEgcSAwLjYwNzgxODgsMCAwLjkzODg2MjksLTAuMjkzMDU1NDcgMC4zMzEwNDQxLC0wLjI5ODQ4MjQxIDAuMzMxMDQ0MSwtMC44NDExNzc3MiAwLC0wLjU0MjY5NTMxIC0wLjMzMTA0NDEsLTAuODM1NzUwNzQgLTAuMzMxMDQ0MSwtMC4yOTMwNTU1IC0wLjkzODg2MjksLTAuMjkzMDU1NSB6IgovPgo8L3N2Zz4K);
  --jp-icon-python: url(data:image/svg+xml;base64,PHN2ZyB4bWxucz0iaHR0cDovL3d3dy53My5vcmcvMjAwMC9zdmciIHdpZHRoPSIxNiIgdmlld0JveD0iMCAwIDIyIDIyIj4KICA8ZyBjbGFzcz0ianAtaWNvbi1icmFuZDAganAtaWNvbi1zZWxlY3RhYmxlIiBmaWxsPSIjMEQ0N0ExIj4KICAgIDxwYXRoIGQ9Ik0xMS4xIDYuOVY1LjhINi45YzAtLjUgMC0xLjMuMi0xLjYuNC0uNy44LTEuMSAxLjctMS40IDEuNy0uMyAyLjUtLjMgMy45LS4xIDEgLjEgMS45LjkgMS45IDEuOXY0LjJjMCAuNS0uOSAxLjYtMiAxLjZIOC44Yy0xLjUgMC0yLjQgMS40LTIuNCAyLjh2Mi4ySDQuN0MzLjUgMTUuMSAzIDE0IDMgMTMuMVY5Yy0uMS0xIC42LTIgMS44LTIgMS41LS4xIDYuMy0uMSA2LjMtLjF6Ii8+CiAgICA8cGF0aCBkPSJNMTAuOSAxNS4xdjEuMWg0LjJjMCAuNSAwIDEuMy0uMiAxLjYtLjQuNy0uOCAxLjEtMS43IDEuNC0xLjcuMy0yLjUuMy0zLjkuMS0xLS4xLTEuOS0uOS0xLjktMS45di00LjJjMC0uNS45LTEuNiAyLTEuNmgzLjhjMS41IDAgMi40LTEuNCAyLjQtMi44VjYuNmgxLjdDMTguNSA2LjkgMTkgOCAxOSA4LjlWMTNjMCAxLS43IDIuMS0xLjkgMi4xaC02LjJ6Ii8+CiAgPC9nPgo8L3N2Zz4K);
  --jp-icon-r-kernel: url(data:image/svg+xml;base64,PHN2ZyB4bWxucz0iaHR0cDovL3d3dy53My5vcmcvMjAwMC9zdmciIHdpZHRoPSIxNiIgdmlld0JveD0iMCAwIDIyIDIyIj4KICA8cGF0aCBjbGFzcz0ianAtaWNvbi1jb250cmFzdDMganAtaWNvbi1zZWxlY3RhYmxlIiBmaWxsPSIjMjE5NkYzIiBkPSJNNC40IDIuNWMxLjItLjEgMi45LS4zIDQuOS0uMyAyLjUgMCA0LjEuNCA1LjIgMS4zIDEgLjcgMS41IDEuOSAxLjUgMy41IDAgMi0xLjQgMy41LTIuOSA0LjEgMS4yLjQgMS43IDEuNiAyLjIgMyAuNiAxLjkgMSAzLjkgMS4zIDQuNmgtMy44Yy0uMy0uNC0uOC0xLjctMS4yLTMuN3MtMS4yLTIuNi0yLjYtMi42aC0uOXY2LjRINC40VjIuNXptMy43IDYuOWgxLjRjMS45IDAgMi45LS45IDIuOS0yLjNzLTEtMi4zLTIuOC0yLjNjLS43IDAtMS4zIDAtMS42LjJ2NC41aC4xdi0uMXoiLz4KPC9zdmc+Cg==);
  --jp-icon-react: url(data:image/svg+xml;base64,PHN2ZyB4bWxucz0iaHR0cDovL3d3dy53My5vcmcvMjAwMC9zdmciIHdpZHRoPSIxNiIgdmlld0JveD0iMTUwIDE1MCA1NDEuOSAyOTUuMyI+CiAgPGcgY2xhc3M9ImpwLWljb24tYnJhbmQyIGpwLWljb24tc2VsZWN0YWJsZSIgZmlsbD0iIzYxREFGQiI+CiAgICA8cGF0aCBkPSJNNjY2LjMgMjk2LjVjMC0zMi41LTQwLjctNjMuMy0xMDMuMS04Mi40IDE0LjQtNjMuNiA4LTExNC4yLTIwLjItMTMwLjQtNi41LTMuOC0xNC4xLTUuNi0yMi40LTUuNnYyMi4zYzQuNiAwIDguMy45IDExLjQgMi42IDEzLjYgNy44IDE5LjUgMzcuNSAxNC45IDc1LjctMS4xIDkuNC0yLjkgMTkuMy01LjEgMjkuNC0xOS42LTQuOC00MS04LjUtNjMuNS0xMC45LTEzLjUtMTguNS0yNy41LTM1LjMtNDEuNi01MCAzMi42LTMwLjMgNjMuMi00Ni45IDg0LTQ2LjlWNzhjLTI3LjUgMC02My41IDE5LjYtOTkuOSA1My42LTM2LjQtMzMuOC03Mi40LTUzLjItOTkuOS01My4ydjIyLjNjMjAuNyAwIDUxLjQgMTYuNSA4NCA0Ni42LTE0IDE0LjctMjggMzEuNC00MS4zIDQ5LjktMjIuNiAyLjQtNDQgNi4xLTYzLjYgMTEtMi4zLTEwLTQtMTkuNy01LjItMjktNC43LTM4LjIgMS4xLTY3LjkgMTQuNi03NS44IDMtMS44IDYuOS0yLjYgMTEuNS0yLjZWNzguNWMtOC40IDAtMTYgMS44LTIyLjYgNS42LTI4LjEgMTYuMi0zNC40IDY2LjctMTkuOSAxMzAuMS02Mi4yIDE5LjItMTAyLjcgNDkuOS0xMDIuNyA4Mi4zIDAgMzIuNSA0MC43IDYzLjMgMTAzLjEgODIuNC0xNC40IDYzLjYtOCAxMTQuMiAyMC4yIDEzMC40IDYuNSAzLjggMTQuMSA1LjYgMjIuNSA1LjYgMjcuNSAwIDYzLjUtMTkuNiA5OS45LTUzLjYgMzYuNCAzMy44IDcyLjQgNTMuMiA5OS45IDUzLjIgOC40IDAgMTYtMS44IDIyLjYtNS42IDI4LjEtMTYuMiAzNC40LTY2LjcgMTkuOS0xMzAuMSA2Mi0xOS4xIDEwMi41LTQ5LjkgMTAyLjUtODIuM3ptLTEzMC4yLTY2LjdjLTMuNyAxMi45LTguMyAyNi4yLTEzLjUgMzkuNS00LjEtOC04LjQtMTYtMTMuMS0yNC00LjYtOC05LjUtMTUuOC0xNC40LTIzLjQgMTQuMiAyLjEgMjcuOSA0LjcgNDEgNy45em0tNDUuOCAxMDYuNWMtNy44IDEzLjUtMTUuOCAyNi4zLTI0LjEgMzguMi0xNC45IDEuMy0zMCAyLTQ1LjIgMi0xNS4xIDAtMzAuMi0uNy00NS0xLjktOC4zLTExLjktMTYuNC0yNC42LTI0LjItMzgtNy42LTEzLjEtMTQuNS0yNi40LTIwLjgtMzkuOCA2LjItMTMuNCAxMy4yLTI2LjggMjAuNy0zOS45IDcuOC0xMy41IDE1LjgtMjYuMyAyNC4xLTM4LjIgMTQuOS0xLjMgMzAtMiA0NS4yLTIgMTUuMSAwIDMwLjIuNyA0NSAxLjkgOC4zIDExLjkgMTYuNCAyNC42IDI0LjIgMzggNy42IDEzLjEgMTQuNSAyNi40IDIwLjggMzkuOC02LjMgMTMuNC0xMy4yIDI2LjgtMjAuNyAzOS45em0zMi4zLTEzYzUuNCAxMy40IDEwIDI2LjggMTMuOCAzOS44LTEzLjEgMy4yLTI2LjkgNS45LTQxLjIgOCA0LjktNy43IDkuOC0xNS42IDE0LjQtMjMuNyA0LjYtOCA4LjktMTYuMSAxMy0yNC4xek00MjEuMiA0MzBjLTkuMy05LjYtMTguNi0yMC4zLTI3LjgtMzIgOSAuNCAxOC4yLjcgMjcuNS43IDkuNCAwIDE4LjctLjIgMjcuOC0uNy05IDExLjctMTguMyAyMi40LTI3LjUgMzJ6bS03NC40LTU4LjljLTE0LjItMi4xLTI3LjktNC43LTQxLTcuOSAzLjctMTIuOSA4LjMtMjYuMiAxMy41LTM5LjUgNC4xIDggOC40IDE2IDEzLjEgMjQgNC43IDggOS41IDE1LjggMTQuNCAyMy40ek00MjAuNyAxNjNjOS4zIDkuNiAxOC42IDIwLjMgMjcuOCAzMi05LS40LTE4LjItLjctMjcuNS0uNy05LjQgMC0xOC43LjItMjcuOC43IDktMTEuNyAxOC4zLTIyLjQgMjcuNS0zMnptLTc0IDU4LjljLTQuOSA3LjctOS44IDE1LjYtMTQuNCAyMy43LTQuNiA4LTguOSAxNi0xMyAyNC01LjQtMTMuNC0xMC0yNi44LTEzLjgtMzkuOCAxMy4xLTMuMSAyNi45LTUuOCA0MS4yLTcuOXptLTkwLjUgMTI1LjJjLTM1LjQtMTUuMS01OC4zLTM0LjktNTguMy01MC42IDAtMTUuNyAyMi45LTM1LjYgNTguMy01MC42IDguNi0zLjcgMTgtNyAyNy43LTEwLjEgNS43IDE5LjYgMTMuMiA0MCAyMi41IDYwLjktOS4yIDIwLjgtMTYuNiA0MS4xLTIyLjIgNjAuNi05LjktMy4xLTE5LjMtNi41LTI4LTEwLjJ6TTMxMCA0OTBjLTEzLjYtNy44LTE5LjUtMzcuNS0xNC45LTc1LjcgMS4xLTkuNCAyLjktMTkuMyA1LjEtMjkuNCAxOS42IDQuOCA0MSA4LjUgNjMuNSAxMC45IDEzLjUgMTguNSAyNy41IDM1LjMgNDEuNiA1MC0zMi42IDMwLjMtNjMuMiA0Ni45LTg0IDQ2LjktNC41LS4xLTguMy0xLTExLjMtMi43em0yMzcuMi03Ni4yYzQuNyAzOC4yLTEuMSA2Ny45LTE0LjYgNzUuOC0zIDEuOC02LjkgMi42LTExLjUgMi42LTIwLjcgMC01MS40LTE2LjUtODQtNDYuNiAxNC0xNC43IDI4LTMxLjQgNDEuMy00OS45IDIyLjYtMi40IDQ0LTYuMSA2My42LTExIDIuMyAxMC4xIDQuMSAxOS44IDUuMiAyOS4xem0zOC41LTY2LjdjLTguNiAzLjctMTggNy0yNy43IDEwLjEtNS43LTE5LjYtMTMuMi00MC0yMi41LTYwLjkgOS4yLTIwLjggMTYuNi00MS4xIDIyLjItNjAuNiA5LjkgMy4xIDE5LjMgNi41IDI4LjEgMTAuMiAzNS40IDE1LjEgNTguMyAzNC45IDU4LjMgNTAuNi0uMSAxNS43LTIzIDM1LjYtNTguNCA1MC42ek0zMjAuOCA3OC40eiIvPgogICAgPGNpcmNsZSBjeD0iNDIwLjkiIGN5PSIyOTYuNSIgcj0iNDUuNyIvPgogIDwvZz4KPC9zdmc+Cg==);
  --jp-icon-redo: url(data:image/svg+xml;base64,PHN2ZyB4bWxucz0iaHR0cDovL3d3dy53My5vcmcvMjAwMC9zdmciIGhlaWdodD0iMjQiIHZpZXdCb3g9IjAgMCAyNCAyNCIgd2lkdGg9IjE2Ij4KICA8ZyBjbGFzcz0ianAtaWNvbjMiIGZpbGw9IiM2MTYxNjEiPgogICAgICA8cGF0aCBkPSJNMCAwaDI0djI0SDB6IiBmaWxsPSJub25lIi8+PHBhdGggZD0iTTE4LjQgMTAuNkMxNi41NSA4Ljk5IDE0LjE1IDggMTEuNSA4Yy00LjY1IDAtOC41OCAzLjAzLTkuOTYgNy4yMkwzLjkgMTZjMS4wNS0zLjE5IDQuMDUtNS41IDcuNi01LjUgMS45NSAwIDMuNzMuNzIgNS4xMiAxLjg4TDEzIDE2aDlWN2wtMy42IDMuNnoiLz4KICA8L2c+Cjwvc3ZnPgo=);
  --jp-icon-refresh: url(data:image/svg+xml;base64,PHN2ZyB4bWxucz0iaHR0cDovL3d3dy53My5vcmcvMjAwMC9zdmciIHdpZHRoPSIxNiIgdmlld0JveD0iMCAwIDE4IDE4Ij4KICAgIDxnIGNsYXNzPSJqcC1pY29uMyIgZmlsbD0iIzYxNjE2MSI+CiAgICAgICAgPHBhdGggZD0iTTkgMTMuNWMtMi40OSAwLTQuNS0yLjAxLTQuNS00LjVTNi41MSA0LjUgOSA0LjVjMS4yNCAwIDIuMzYuNTIgMy4xNyAxLjMzTDEwIDhoNVYzbC0xLjc2IDEuNzZDMTIuMTUgMy42OCAxMC42NiAzIDkgMyA1LjY5IDMgMy4wMSA1LjY5IDMuMDEgOVM1LjY5IDE1IDkgMTVjMi45NyAwIDUuNDMtMi4xNiA1LjktNWgtMS41MmMtLjQ2IDItMi4yNCAzLjUtNC4zOCAzLjV6Ii8+CiAgICA8L2c+Cjwvc3ZnPgo=);
  --jp-icon-regex: url(data:image/svg+xml;base64,PHN2ZyB4bWxucz0iaHR0cDovL3d3dy53My5vcmcvMjAwMC9zdmciIHdpZHRoPSIxNiIgdmlld0JveD0iMCAwIDIwIDIwIj4KICA8ZyBjbGFzcz0ianAtaWNvbjIiIGZpbGw9IiM0MTQxNDEiPgogICAgPHJlY3QgeD0iMiIgeT0iMiIgd2lkdGg9IjE2IiBoZWlnaHQ9IjE2Ii8+CiAgPC9nPgoKICA8ZyBjbGFzcz0ianAtaWNvbi1hY2NlbnQyIiBmaWxsPSIjRkZGIj4KICAgIDxjaXJjbGUgY2xhc3M9InN0MiIgY3g9IjUuNSIgY3k9IjE0LjUiIHI9IjEuNSIvPgogICAgPHJlY3QgeD0iMTIiIHk9IjQiIGNsYXNzPSJzdDIiIHdpZHRoPSIxIiBoZWlnaHQ9IjgiLz4KICAgIDxyZWN0IHg9IjguNSIgeT0iNy41IiB0cmFuc2Zvcm09Im1hdHJpeCgwLjg2NiAtMC41IDAuNSAwLjg2NiAtMi4zMjU1IDcuMzIxOSkiIGNsYXNzPSJzdDIiIHdpZHRoPSI4IiBoZWlnaHQ9IjEiLz4KICAgIDxyZWN0IHg9IjEyIiB5PSI0IiB0cmFuc2Zvcm09Im1hdHJpeCgwLjUgLTAuODY2IDAuODY2IDAuNSAtMC42Nzc5IDE0LjgyNTIpIiBjbGFzcz0ic3QyIiB3aWR0aD0iMSIgaGVpZ2h0PSI4Ii8+CiAgPC9nPgo8L3N2Zz4K);
  --jp-icon-run: url(data:image/svg+xml;base64,PHN2ZyBoZWlnaHQ9IjI0IiB2aWV3Qm94PSIwIDAgMjQgMjQiIHdpZHRoPSIyNCIgeG1sbnM9Imh0dHA6Ly93d3cudzMub3JnLzIwMDAvc3ZnIj4KICAgIDxnIGNsYXNzPSJqcC1pY29uMyIgZmlsbD0iIzYxNjE2MSI+CiAgICAgICAgPHBhdGggZD0iTTggNXYxNGwxMS03eiIvPgogICAgPC9nPgo8L3N2Zz4K);
  --jp-icon-running: url(data:image/svg+xml;base64,PHN2ZyB4bWxucz0iaHR0cDovL3d3dy53My5vcmcvMjAwMC9zdmciIHdpZHRoPSIxNiIgdmlld0JveD0iMCAwIDUxMiA1MTIiPgogIDxnIGNsYXNzPSJqcC1pY29uMyIgZmlsbD0iIzYxNjE2MSI+CiAgICA8cGF0aCBkPSJNMjU2IDhDMTE5IDggOCAxMTkgOCAyNTZzMTExIDI0OCAyNDggMjQ4IDI0OC0xMTEgMjQ4LTI0OFMzOTMgOCAyNTYgOHptOTYgMzI4YzAgOC44LTcuMiAxNi0xNiAxNkgxNzZjLTguOCAwLTE2LTcuMi0xNi0xNlYxNzZjMC04LjggNy4yLTE2IDE2LTE2aDE2MGM4LjggMCAxNiA3LjIgMTYgMTZ2MTYweiIvPgogIDwvZz4KPC9zdmc+Cg==);
  --jp-icon-save: url(data:image/svg+xml;base64,PHN2ZyBoZWlnaHQ9IjI0IiB2aWV3Qm94PSIwIDAgMjQgMjQiIHdpZHRoPSIyNCIgeG1sbnM9Imh0dHA6Ly93d3cudzMub3JnLzIwMDAvc3ZnIj4KICAgIDxnIGNsYXNzPSJqcC1pY29uMyIgZmlsbD0iIzYxNjE2MSI+CiAgICAgICAgPHBhdGggZD0iTTE3IDNINWMtMS4xMSAwLTIgLjktMiAydjE0YzAgMS4xLjg5IDIgMiAyaDE0YzEuMSAwIDItLjkgMi0yVjdsLTQtNHptLTUgMTZjLTEuNjYgMC0zLTEuMzQtMy0zczEuMzQtMyAzLTMgMyAxLjM0IDMgMy0xLjM0IDMtMyAzem0zLTEwSDVWNWgxMHY0eiIvPgogICAgPC9nPgo8L3N2Zz4K);
  --jp-icon-search: url(data:image/svg+xml;base64,PHN2ZyB2aWV3Qm94PSIwIDAgMTggMTgiIHdpZHRoPSIxNiIgeG1sbnM9Imh0dHA6Ly93d3cudzMub3JnLzIwMDAvc3ZnIj4KICA8ZyBjbGFzcz0ianAtaWNvbjMiIGZpbGw9IiM2MTYxNjEiPgogICAgPHBhdGggZD0iTTEyLjEsMTAuOWgtMC43bC0wLjItMC4yYzAuOC0wLjksMS4zLTIuMiwxLjMtMy41YzAtMy0yLjQtNS40LTUuNC01LjRTMS44LDQuMiwxLjgsNy4xczIuNCw1LjQsNS40LDUuNCBjMS4zLDAsMi41LTAuNSwzLjUtMS4zbDAuMiwwLjJ2MC43bDQuMSw0LjFsMS4yLTEuMkwxMi4xLDEwLjl6IE03LjEsMTAuOWMtMi4xLDAtMy43LTEuNy0zLjctMy43czEuNy0zLjcsMy43LTMuN3MzLjcsMS43LDMuNywzLjcgUzkuMiwxMC45LDcuMSwxMC45eiIvPgogIDwvZz4KPC9zdmc+Cg==);
  --jp-icon-settings: url(data:image/svg+xml;base64,PHN2ZyB4bWxucz0iaHR0cDovL3d3dy53My5vcmcvMjAwMC9zdmciIHdpZHRoPSIxNiIgdmlld0JveD0iMCAwIDI0IDI0Ij4KICA8cGF0aCBjbGFzcz0ianAtaWNvbjMganAtaWNvbi1zZWxlY3RhYmxlIiBmaWxsPSIjNjE2MTYxIiBkPSJNMTkuNDMgMTIuOThjLjA0LS4zMi4wNy0uNjQuMDctLjk4cy0uMDMtLjY2LS4wNy0uOThsMi4xMS0xLjY1Yy4xOS0uMTUuMjQtLjQyLjEyLS42NGwtMi0zLjQ2Yy0uMTItLjIyLS4zOS0uMy0uNjEtLjIybC0yLjQ5IDFjLS41Mi0uNC0xLjA4LS43My0xLjY5LS45OGwtLjM4LTIuNjVBLjQ4OC40ODggMCAwMDE0IDJoLTRjLS4yNSAwLS40Ni4xOC0uNDkuNDJsLS4zOCAyLjY1Yy0uNjEuMjUtMS4xNy41OS0xLjY5Ljk4bC0yLjQ5LTFjLS4yMy0uMDktLjQ5IDAtLjYxLjIybC0yIDMuNDZjLS4xMy4yMi0uMDcuNDkuMTIuNjRsMi4xMSAxLjY1Yy0uMDQuMzItLjA3LjY1LS4wNy45OHMuMDMuNjYuMDcuOThsLTIuMTEgMS42NWMtLjE5LjE1LS4yNC40Mi0uMTIuNjRsMiAzLjQ2Yy4xMi4yMi4zOS4zLjYxLjIybDIuNDktMWMuNTIuNCAxLjA4LjczIDEuNjkuOThsLjM4IDIuNjVjLjAzLjI0LjI0LjQyLjQ5LjQyaDRjLjI1IDAgLjQ2LS4xOC40OS0uNDJsLjM4LTIuNjVjLjYxLS4yNSAxLjE3LS41OSAxLjY5LS45OGwyLjQ5IDFjLjIzLjA5LjQ5IDAgLjYxLS4yMmwyLTMuNDZjLjEyLS4yMi4wNy0uNDktLjEyLS42NGwtMi4xMS0xLjY1ek0xMiAxNS41Yy0xLjkzIDAtMy41LTEuNTctMy41LTMuNXMxLjU3LTMuNSAzLjUtMy41IDMuNSAxLjU3IDMuNSAzLjUtMS41NyAzLjUtMy41IDMuNXoiLz4KPC9zdmc+Cg==);
  --jp-icon-spreadsheet: url(data:image/svg+xml;base64,PHN2ZyB4bWxucz0iaHR0cDovL3d3dy53My5vcmcvMjAwMC9zdmciIHdpZHRoPSIxNiIgdmlld0JveD0iMCAwIDIyIDIyIj4KICA8cGF0aCBjbGFzcz0ianAtaWNvbi1jb250cmFzdDEganAtaWNvbi1zZWxlY3RhYmxlIiBmaWxsPSIjNENBRjUwIiBkPSJNMi4yIDIuMnYxNy42aDE3LjZWMi4ySDIuMnptMTUuNCA3LjdoLTUuNVY0LjRoNS41djUuNXpNOS45IDQuNHY1LjVINC40VjQuNGg1LjV6bS01LjUgNy43aDUuNXY1LjVINC40di01LjV6bTcuNyA1LjV2LTUuNWg1LjV2NS41aC01LjV6Ii8+Cjwvc3ZnPgo=);
  --jp-icon-stop: url(data:image/svg+xml;base64,PHN2ZyBoZWlnaHQ9IjI0IiB2aWV3Qm94PSIwIDAgMjQgMjQiIHdpZHRoPSIyNCIgeG1sbnM9Imh0dHA6Ly93d3cudzMub3JnLzIwMDAvc3ZnIj4KICAgIDxnIGNsYXNzPSJqcC1pY29uMyIgZmlsbD0iIzYxNjE2MSI+CiAgICAgICAgPHBhdGggZD0iTTAgMGgyNHYyNEgweiIgZmlsbD0ibm9uZSIvPgogICAgICAgIDxwYXRoIGQ9Ik02IDZoMTJ2MTJINnoiLz4KICAgIDwvZz4KPC9zdmc+Cg==);
  --jp-icon-tab: url(data:image/svg+xml;base64,PHN2ZyB4bWxucz0iaHR0cDovL3d3dy53My5vcmcvMjAwMC9zdmciIHdpZHRoPSIxNiIgdmlld0JveD0iMCAwIDI0IDI0Ij4KICA8ZyBjbGFzcz0ianAtaWNvbjMiIGZpbGw9IiM2MTYxNjEiPgogICAgPHBhdGggZD0iTTIxIDNIM2MtMS4xIDAtMiAuOS0yIDJ2MTRjMCAxLjEuOSAyIDIgMmgxOGMxLjEgMCAyLS45IDItMlY1YzAtMS4xLS45LTItMi0yem0wIDE2SDNWNWgxMHY0aDh2MTB6Ii8+CiAgPC9nPgo8L3N2Zz4K);
  --jp-icon-table-rows: url(data:image/svg+xml;base64,PHN2ZyBoZWlnaHQ9IjI0IiB2aWV3Qm94PSIwIDAgMjQgMjQiIHdpZHRoPSIyNCIgeG1sbnM9Imh0dHA6Ly93d3cudzMub3JnLzIwMDAvc3ZnIj4KICAgIDxnIGNsYXNzPSJqcC1pY29uMyIgZmlsbD0iIzYxNjE2MSI+CiAgICAgICAgPHBhdGggZD0iTTAgMGgyNHYyNEgweiIgZmlsbD0ibm9uZSIvPgogICAgICAgIDxwYXRoIGQ9Ik0yMSw4SDNWNGgxOFY4eiBNMjEsMTBIM3Y0aDE4VjEweiBNMjEsMTZIM3Y0aDE4VjE2eiIvPgogICAgPC9nPgo8L3N2Zz4=);
  --jp-icon-tag: url(data:image/svg+xml;base64,PHN2ZyB3aWR0aD0iMjgiIGhlaWdodD0iMjgiIHZpZXdCb3g9IjAgMCA0MyAyOCIgeG1sbnM9Imh0dHA6Ly93d3cudzMub3JnLzIwMDAvc3ZnIj4KCTxnIGNsYXNzPSJqcC1pY29uMyIgZmlsbD0iIzYxNjE2MSI+CgkJPHBhdGggZD0iTTI4LjgzMzIgMTIuMzM0TDMyLjk5OTggMTYuNTAwN0wzNy4xNjY1IDEyLjMzNEgyOC44MzMyWiIvPgoJCTxwYXRoIGQ9Ik0xNi4yMDk1IDIxLjYxMDRDMTUuNjg3MyAyMi4xMjk5IDE0Ljg0NDMgMjIuMTI5OSAxNC4zMjQ4IDIxLjYxMDRMNi45ODI5IDE0LjcyNDVDNi41NzI0IDE0LjMzOTQgNi4wODMxMyAxMy42MDk4IDYuMDQ3ODYgMTMuMDQ4MkM1Ljk1MzQ3IDExLjUyODggNi4wMjAwMiA4LjYxOTQ0IDYuMDY2MjEgNy4wNzY5NUM2LjA4MjgxIDYuNTE0NzcgNi41NTU0OCA2LjA0MzQ3IDcuMTE4MDQgNi4wMzA1NUM5LjA4ODYzIDUuOTg0NzMgMTMuMjYzOCA1LjkzNTc5IDEzLjY1MTggNi4zMjQyNUwyMS43MzY5IDEzLjYzOUMyMi4yNTYgMTQuMTU4NSAyMS43ODUxIDE1LjQ3MjQgMjEuMjYyIDE1Ljk5NDZMMTYuMjA5NSAyMS42MTA0Wk05Ljc3NTg1IDguMjY1QzkuMzM1NTEgNy44MjU2NiA4LjYyMzUxIDcuODI1NjYgOC4xODI4IDguMjY1QzcuNzQzNDYgOC43MDU3MSA3Ljc0MzQ2IDkuNDE3MzMgOC4xODI4IDkuODU2NjdDOC42MjM4MiAxMC4yOTY0IDkuMzM1ODIgMTAuMjk2NCA5Ljc3NTg1IDkuODU2NjdDMTAuMjE1NiA5LjQxNzMzIDEwLjIxNTYgOC43MDUzMyA5Ljc3NTg1IDguMjY1WiIvPgoJPC9nPgo8L3N2Zz4K);
  --jp-icon-terminal: url(data:image/svg+xml;base64,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);
  --jp-icon-text-editor: url(data:image/svg+xml;base64,PHN2ZyB4bWxucz0iaHR0cDovL3d3dy53My5vcmcvMjAwMC9zdmciIHdpZHRoPSIxNiIgdmlld0JveD0iMCAwIDI0IDI0Ij4KICA8cGF0aCBjbGFzcz0ianAtaWNvbjMganAtaWNvbi1zZWxlY3RhYmxlIiBmaWxsPSIjNjE2MTYxIiBkPSJNMTUgMTVIM3YyaDEydi0yem0wLThIM3YyaDEyVjd6TTMgMTNoMTh2LTJIM3Yyem0wIDhoMTh2LTJIM3Yyek0zIDN2MmgxOFYzSDN6Ii8+Cjwvc3ZnPgo=);
  --jp-icon-toc: url(data:image/svg+xml;base64,PHN2ZyB4bWxucz0iaHR0cDovL3d3dy53My5vcmcvMjAwMC9zdmciIHdpZHRoPSIyNCIgaGVpZ2h0PSIyNCIgdmlld0JveD0iMCAwIDI0IDI0Ij4KICA8ZyBjbGFzcz0ianAtaWNvbjMganAtaWNvbi1zZWxlY3RhYmxlIiBmaWxsPSIjNjE2MTYxIj4KICAgIDxwYXRoIGQ9Ik03LDVIMjFWN0g3VjVNNywxM1YxMUgyMVYxM0g3TTQsNC41QTEuNSwxLjUgMCAwLDEgNS41LDZBMS41LDEuNSAwIDAsMSA0LDcuNUExLjUsMS41IDAgMCwxIDIuNSw2QTEuNSwxLjUgMCAwLDEgNCw0LjVNNCwxMC41QTEuNSwxLjUgMCAwLDEgNS41LDEyQTEuNSwxLjUgMCAwLDEgNCwxMy41QTEuNSwxLjUgMCAwLDEgMi41LDEyQTEuNSwxLjUgMCAwLDEgNCwxMC41TTcsMTlWMTdIMjFWMTlIN000LDE2LjVBMS41LDEuNSAwIDAsMSA1LjUsMThBMS41LDEuNSAwIDAsMSA0LDE5LjVBMS41LDEuNSAwIDAsMSAyLjUsMThBMS41LDEuNSAwIDAsMSA0LDE2LjVaIiAvPgogIDwvZz4KPC9zdmc+Cg==);
  --jp-icon-tree-view: url(data:image/svg+xml;base64,PHN2ZyBoZWlnaHQ9IjI0IiB2aWV3Qm94PSIwIDAgMjQgMjQiIHdpZHRoPSIyNCIgeG1sbnM9Imh0dHA6Ly93d3cudzMub3JnLzIwMDAvc3ZnIj4KICAgIDxnIGNsYXNzPSJqcC1pY29uMyIgZmlsbD0iIzYxNjE2MSI+CiAgICAgICAgPHBhdGggZD0iTTAgMGgyNHYyNEgweiIgZmlsbD0ibm9uZSIvPgogICAgICAgIDxwYXRoIGQ9Ik0yMiAxMVYzaC03djNIOVYzSDJ2OGg3VjhoMnYxMGg0djNoN3YtOGgtN3YzaC0yVjhoMnYzeiIvPgogICAgPC9nPgo8L3N2Zz4=);
  --jp-icon-trusted: url(data:image/svg+xml;base64,PHN2ZyBmaWxsPSJub25lIiB4bWxucz0iaHR0cDovL3d3dy53My5vcmcvMjAwMC9zdmciIHdpZHRoPSIxNiIgdmlld0JveD0iMCAwIDI0IDI1Ij4KICAgIDxwYXRoIGNsYXNzPSJqcC1pY29uMiIgc3Ryb2tlPSIjMzMzMzMzIiBzdHJva2Utd2lkdGg9IjIiIHRyYW5zZm9ybT0idHJhbnNsYXRlKDIgMykiIGQ9Ik0xLjg2MDk0IDExLjQ0MDlDMC44MjY0NDggOC43NzAyNyAwLjg2Mzc3OSA2LjA1NzY0IDEuMjQ5MDcgNC4xOTkzMkMyLjQ4MjA2IDMuOTMzNDcgNC4wODA2OCAzLjQwMzQ3IDUuNjAxMDIgMi44NDQ5QzcuMjM1NDkgMi4yNDQ0IDguODU2NjYgMS41ODE1IDkuOTg3NiAxLjA5NTM5QzExLjA1OTcgMS41ODM0MSAxMi42MDk0IDIuMjQ0NCAxNC4yMTggMi44NDMzOUMxNS43NTAzIDMuNDEzOTQgMTcuMzk5NSAzLjk1MjU4IDE4Ljc1MzkgNC4yMTM4NUMxOS4xMzY0IDYuMDcxNzcgMTkuMTcwOSA4Ljc3NzIyIDE4LjEzOSAxMS40NDA5QzE3LjAzMDMgMTQuMzAzMiAxNC42NjY4IDE3LjE4NDQgOS45OTk5OSAxOC45MzU0QzUuMzMzMiAxNy4xODQ0IDIuOTY5NjggMTQuMzAzMiAxLjg2MDk0IDExLjQ0MDlaIi8+CiAgICA8cGF0aCBjbGFzcz0ianAtaWNvbjIiIGZpbGw9IiMzMzMzMzMiIHN0cm9rZT0iIzMzMzMzMyIgdHJhbnNmb3JtPSJ0cmFuc2xhdGUoOCA5Ljg2NzE5KSIgZD0iTTIuODYwMTUgNC44NjUzNUwwLjcyNjU0OSAyLjk5OTU5TDAgMy42MzA0NUwyLjg2MDE1IDYuMTMxNTdMOCAwLjYzMDg3Mkw3LjI3ODU3IDBMMi44NjAxNSA0Ljg2NTM1WiIvPgo8L3N2Zz4K);
  --jp-icon-undo: url(data:image/svg+xml;base64,PHN2ZyB2aWV3Qm94PSIwIDAgMjQgMjQiIHdpZHRoPSIxNiIgeG1sbnM9Imh0dHA6Ly93d3cudzMub3JnLzIwMDAvc3ZnIj4KICA8ZyBjbGFzcz0ianAtaWNvbjMiIGZpbGw9IiM2MTYxNjEiPgogICAgPHBhdGggZD0iTTEyLjUgOGMtMi42NSAwLTUuMDUuOTktNi45IDIuNkwyIDd2OWg5bC0zLjYyLTMuNjJjMS4zOS0xLjE2IDMuMTYtMS44OCA1LjEyLTEuODggMy41NCAwIDYuNTUgMi4zMSA3LjYgNS41bDIuMzctLjc4QzIxLjA4IDExLjAzIDE3LjE1IDggMTIuNSA4eiIvPgogIDwvZz4KPC9zdmc+Cg==);
  --jp-icon-vega: url(data:image/svg+xml;base64,PHN2ZyB4bWxucz0iaHR0cDovL3d3dy53My5vcmcvMjAwMC9zdmciIHdpZHRoPSIxNiIgdmlld0JveD0iMCAwIDIyIDIyIj4KICA8ZyBjbGFzcz0ianAtaWNvbjEganAtaWNvbi1zZWxlY3RhYmxlIiBmaWxsPSIjMjEyMTIxIj4KICAgIDxwYXRoIGQ9Ik0xMC42IDUuNGwyLjItMy4ySDIuMnY3LjNsNC02LjZ6Ii8+CiAgICA8cGF0aCBkPSJNMTUuOCAyLjJsLTQuNCA2LjZMNyA2LjNsLTQuOCA4djUuNWgxNy42VjIuMmgtNHptLTcgMTUuNEg1LjV2LTQuNGgzLjN2NC40em00LjQgMEg5LjhWOS44aDMuNHY3Ljh6bTQuNCAwaC0zLjRWNi41aDMuNHYxMS4xeiIvPgogIDwvZz4KPC9zdmc+Cg==);
  --jp-icon-yaml: url(data:image/svg+xml;base64,PHN2ZyB4bWxucz0iaHR0cDovL3d3dy53My5vcmcvMjAwMC9zdmciIHdpZHRoPSIxNiIgdmlld0JveD0iMCAwIDIyIDIyIj4KICA8ZyBjbGFzcz0ianAtaWNvbi1jb250cmFzdDIganAtaWNvbi1zZWxlY3RhYmxlIiBmaWxsPSIjRDgxQjYwIj4KICAgIDxwYXRoIGQ9Ik03LjIgMTguNnYtNS40TDMgNS42aDMuM2wxLjQgMy4xYy4zLjkuNiAxLjYgMSAyLjUuMy0uOC42LTEuNiAxLTIuNWwxLjQtMy4xaDMuNGwtNC40IDcuNnY1LjVsLTIuOS0uMXoiLz4KICAgIDxjaXJjbGUgY2xhc3M9InN0MCIgY3g9IjE3LjYiIGN5PSIxNi41IiByPSIyLjEiLz4KICAgIDxjaXJjbGUgY2xhc3M9InN0MCIgY3g9IjE3LjYiIGN5PSIxMSIgcj0iMi4xIi8+CiAgPC9nPgo8L3N2Zz4K);
}

/* Icon CSS class declarations */

.jp-AddIcon {
  background-image: var(--jp-icon-add);
}
.jp-BugIcon {
  background-image: var(--jp-icon-bug);
}
.jp-BuildIcon {
  background-image: var(--jp-icon-build);
}
.jp-CaretDownEmptyIcon {
  background-image: var(--jp-icon-caret-down-empty);
}
.jp-CaretDownEmptyThinIcon {
  background-image: var(--jp-icon-caret-down-empty-thin);
}
.jp-CaretDownIcon {
  background-image: var(--jp-icon-caret-down);
}
.jp-CaretLeftIcon {
  background-image: var(--jp-icon-caret-left);
}
.jp-CaretRightIcon {
  background-image: var(--jp-icon-caret-right);
}
.jp-CaretUpEmptyThinIcon {
  background-image: var(--jp-icon-caret-up-empty-thin);
}
.jp-CaretUpIcon {
  background-image: var(--jp-icon-caret-up);
}
.jp-CaseSensitiveIcon {
  background-image: var(--jp-icon-case-sensitive);
}
.jp-CheckIcon {
  background-image: var(--jp-icon-check);
}
.jp-CircleEmptyIcon {
  background-image: var(--jp-icon-circle-empty);
}
.jp-CircleIcon {
  background-image: var(--jp-icon-circle);
}
.jp-ClearIcon {
  background-image: var(--jp-icon-clear);
}
.jp-CloseIcon {
  background-image: var(--jp-icon-close);
}
.jp-CodeIcon {
  background-image: var(--jp-icon-code);
}
.jp-ConsoleIcon {
  background-image: var(--jp-icon-console);
}
.jp-CopyIcon {
  background-image: var(--jp-icon-copy);
}
.jp-CopyrightIcon {
  background-image: var(--jp-icon-copyright);
}
.jp-CutIcon {
  background-image: var(--jp-icon-cut);
}
.jp-DownloadIcon {
  background-image: var(--jp-icon-download);
}
.jp-EditIcon {
  background-image: var(--jp-icon-edit);
}
.jp-EllipsesIcon {
  background-image: var(--jp-icon-ellipses);
}
.jp-ExtensionIcon {
  background-image: var(--jp-icon-extension);
}
.jp-FastForwardIcon {
  background-image: var(--jp-icon-fast-forward);
}
.jp-FileIcon {
  background-image: var(--jp-icon-file);
}
.jp-FileUploadIcon {
  background-image: var(--jp-icon-file-upload);
}
.jp-FilterListIcon {
  background-image: var(--jp-icon-filter-list);
}
.jp-FolderIcon {
  background-image: var(--jp-icon-folder);
}
.jp-Html5Icon {
  background-image: var(--jp-icon-html5);
}
.jp-ImageIcon {
  background-image: var(--jp-icon-image);
}
.jp-InspectorIcon {
  background-image: var(--jp-icon-inspector);
}
.jp-JsonIcon {
  background-image: var(--jp-icon-json);
}
.jp-JuliaIcon {
  background-image: var(--jp-icon-julia);
}
.jp-JupyterFaviconIcon {
  background-image: var(--jp-icon-jupyter-favicon);
}
.jp-JupyterIcon {
  background-image: var(--jp-icon-jupyter);
}
.jp-JupyterlabWordmarkIcon {
  background-image: var(--jp-icon-jupyterlab-wordmark);
}
.jp-KernelIcon {
  background-image: var(--jp-icon-kernel);
}
.jp-KeyboardIcon {
  background-image: var(--jp-icon-keyboard);
}
.jp-LauncherIcon {
  background-image: var(--jp-icon-launcher);
}
.jp-LineFormIcon {
  background-image: var(--jp-icon-line-form);
}
.jp-LinkIcon {
  background-image: var(--jp-icon-link);
}
.jp-ListIcon {
  background-image: var(--jp-icon-list);
}
.jp-ListingsInfoIcon {
  background-image: var(--jp-icon-listings-info);
}
.jp-MarkdownIcon {
  background-image: var(--jp-icon-markdown);
}
.jp-NewFolderIcon {
  background-image: var(--jp-icon-new-folder);
}
.jp-NotTrustedIcon {
  background-image: var(--jp-icon-not-trusted);
}
.jp-NotebookIcon {
  background-image: var(--jp-icon-notebook);
}
.jp-NumberingIcon {
  background-image: var(--jp-icon-numbering);
}
.jp-OfflineBoltIcon {
  background-image: var(--jp-icon-offline-bolt);
}
.jp-PaletteIcon {
  background-image: var(--jp-icon-palette);
}
.jp-PasteIcon {
  background-image: var(--jp-icon-paste);
}
.jp-PdfIcon {
  background-image: var(--jp-icon-pdf);
}
.jp-PythonIcon {
  background-image: var(--jp-icon-python);
}
.jp-RKernelIcon {
  background-image: var(--jp-icon-r-kernel);
}
.jp-ReactIcon {
  background-image: var(--jp-icon-react);
}
.jp-RedoIcon {
  background-image: var(--jp-icon-redo);
}
.jp-RefreshIcon {
  background-image: var(--jp-icon-refresh);
}
.jp-RegexIcon {
  background-image: var(--jp-icon-regex);
}
.jp-RunIcon {
  background-image: var(--jp-icon-run);
}
.jp-RunningIcon {
  background-image: var(--jp-icon-running);
}
.jp-SaveIcon {
  background-image: var(--jp-icon-save);
}
.jp-SearchIcon {
  background-image: var(--jp-icon-search);
}
.jp-SettingsIcon {
  background-image: var(--jp-icon-settings);
}
.jp-SpreadsheetIcon {
  background-image: var(--jp-icon-spreadsheet);
}
.jp-StopIcon {
  background-image: var(--jp-icon-stop);
}
.jp-TabIcon {
  background-image: var(--jp-icon-tab);
}
.jp-TableRowsIcon {
  background-image: var(--jp-icon-table-rows);
}
.jp-TagIcon {
  background-image: var(--jp-icon-tag);
}
.jp-TerminalIcon {
  background-image: var(--jp-icon-terminal);
}
.jp-TextEditorIcon {
  background-image: var(--jp-icon-text-editor);
}
.jp-TocIcon {
  background-image: var(--jp-icon-toc);
}
.jp-TreeViewIcon {
  background-image: var(--jp-icon-tree-view);
}
.jp-TrustedIcon {
  background-image: var(--jp-icon-trusted);
}
.jp-UndoIcon {
  background-image: var(--jp-icon-undo);
}
.jp-VegaIcon {
  background-image: var(--jp-icon-vega);
}
.jp-YamlIcon {
  background-image: var(--jp-icon-yaml);
}

/*-----------------------------------------------------------------------------
| Copyright (c) Jupyter Development Team.
| Distributed under the terms of the Modified BSD License.
|----------------------------------------------------------------------------*/

/**
 * (DEPRECATED) Support for consuming icons as CSS background images
 */

.jp-Icon,
.jp-MaterialIcon {
  background-position: center;
  background-repeat: no-repeat;
  background-size: 16px;
  min-width: 16px;
  min-height: 16px;
}

.jp-Icon-cover {
  background-position: center;
  background-repeat: no-repeat;
  background-size: cover;
}

/**
 * (DEPRECATED) Support for specific CSS icon sizes
 */

.jp-Icon-16 {
  background-size: 16px;
  min-width: 16px;
  min-height: 16px;
}

.jp-Icon-18 {
  background-size: 18px;
  min-width: 18px;
  min-height: 18px;
}

.jp-Icon-20 {
  background-size: 20px;
  min-width: 20px;
  min-height: 20px;
}

/*-----------------------------------------------------------------------------
| Copyright (c) Jupyter Development Team.
| Distributed under the terms of the Modified BSD License.
|----------------------------------------------------------------------------*/

/**
 * Support for icons as inline SVG HTMLElements
 */

/* recolor the primary elements of an icon */
.jp-icon0[fill] {
  fill: var(--jp-inverse-layout-color0);
}
.jp-icon1[fill] {
  fill: var(--jp-inverse-layout-color1);
}
.jp-icon2[fill] {
  fill: var(--jp-inverse-layout-color2);
}
.jp-icon3[fill] {
  fill: var(--jp-inverse-layout-color3);
}
.jp-icon4[fill] {
  fill: var(--jp-inverse-layout-color4);
}

.jp-icon0[stroke] {
  stroke: var(--jp-inverse-layout-color0);
}
.jp-icon1[stroke] {
  stroke: var(--jp-inverse-layout-color1);
}
.jp-icon2[stroke] {
  stroke: var(--jp-inverse-layout-color2);
}
.jp-icon3[stroke] {
  stroke: var(--jp-inverse-layout-color3);
}
.jp-icon4[stroke] {
  stroke: var(--jp-inverse-layout-color4);
}
/* recolor the accent elements of an icon */
.jp-icon-accent0[fill] {
  fill: var(--jp-layout-color0);
}
.jp-icon-accent1[fill] {
  fill: var(--jp-layout-color1);
}
.jp-icon-accent2[fill] {
  fill: var(--jp-layout-color2);
}
.jp-icon-accent3[fill] {
  fill: var(--jp-layout-color3);
}
.jp-icon-accent4[fill] {
  fill: var(--jp-layout-color4);
}

.jp-icon-accent0[stroke] {
  stroke: var(--jp-layout-color0);
}
.jp-icon-accent1[stroke] {
  stroke: var(--jp-layout-color1);
}
.jp-icon-accent2[stroke] {
  stroke: var(--jp-layout-color2);
}
.jp-icon-accent3[stroke] {
  stroke: var(--jp-layout-color3);
}
.jp-icon-accent4[stroke] {
  stroke: var(--jp-layout-color4);
}
/* set the color of an icon to transparent */
.jp-icon-none[fill] {
  fill: none;
}

.jp-icon-none[stroke] {
  stroke: none;
}
/* brand icon colors. Same for light and dark */
.jp-icon-brand0[fill] {
  fill: var(--jp-brand-color0);
}
.jp-icon-brand1[fill] {
  fill: var(--jp-brand-color1);
}
.jp-icon-brand2[fill] {
  fill: var(--jp-brand-color2);
}
.jp-icon-brand3[fill] {
  fill: var(--jp-brand-color3);
}
.jp-icon-brand4[fill] {
  fill: var(--jp-brand-color4);
}

.jp-icon-brand0[stroke] {
  stroke: var(--jp-brand-color0);
}
.jp-icon-brand1[stroke] {
  stroke: var(--jp-brand-color1);
}
.jp-icon-brand2[stroke] {
  stroke: var(--jp-brand-color2);
}
.jp-icon-brand3[stroke] {
  stroke: var(--jp-brand-color3);
}
.jp-icon-brand4[stroke] {
  stroke: var(--jp-brand-color4);
}
/* warn icon colors. Same for light and dark */
.jp-icon-warn0[fill] {
  fill: var(--jp-warn-color0);
}
.jp-icon-warn1[fill] {
  fill: var(--jp-warn-color1);
}
.jp-icon-warn2[fill] {
  fill: var(--jp-warn-color2);
}
.jp-icon-warn3[fill] {
  fill: var(--jp-warn-color3);
}

.jp-icon-warn0[stroke] {
  stroke: var(--jp-warn-color0);
}
.jp-icon-warn1[stroke] {
  stroke: var(--jp-warn-color1);
}
.jp-icon-warn2[stroke] {
  stroke: var(--jp-warn-color2);
}
.jp-icon-warn3[stroke] {
  stroke: var(--jp-warn-color3);
}
/* icon colors that contrast well with each other and most backgrounds */
.jp-icon-contrast0[fill] {
  fill: var(--jp-icon-contrast-color0);
}
.jp-icon-contrast1[fill] {
  fill: var(--jp-icon-contrast-color1);
}
.jp-icon-contrast2[fill] {
  fill: var(--jp-icon-contrast-color2);
}
.jp-icon-contrast3[fill] {
  fill: var(--jp-icon-contrast-color3);
}

.jp-icon-contrast0[stroke] {
  stroke: var(--jp-icon-contrast-color0);
}
.jp-icon-contrast1[stroke] {
  stroke: var(--jp-icon-contrast-color1);
}
.jp-icon-contrast2[stroke] {
  stroke: var(--jp-icon-contrast-color2);
}
.jp-icon-contrast3[stroke] {
  stroke: var(--jp-icon-contrast-color3);
}

/* CSS for icons in selected items in the settings editor */
#setting-editor .jp-PluginList .jp-mod-selected .jp-icon-selectable[fill] {
  fill: #fff;
}
#setting-editor
  .jp-PluginList
  .jp-mod-selected
  .jp-icon-selectable-inverse[fill] {
  fill: var(--jp-brand-color1);
}

/* CSS for icons in selected filebrowser listing items */
.jp-DirListing-item.jp-mod-selected .jp-icon-selectable[fill] {
  fill: #fff;
}
.jp-DirListing-item.jp-mod-selected .jp-icon-selectable-inverse[fill] {
  fill: var(--jp-brand-color1);
}

/* CSS for icons in selected tabs in the sidebar tab manager */
#tab-manager .lm-TabBar-tab.jp-mod-active .jp-icon-selectable[fill] {
  fill: #fff;
}

#tab-manager .lm-TabBar-tab.jp-mod-active .jp-icon-selectable-inverse[fill] {
  fill: var(--jp-brand-color1);
}
#tab-manager
  .lm-TabBar-tab.jp-mod-active
  .jp-icon-hover
  :hover
  .jp-icon-selectable[fill] {
  fill: var(--jp-brand-color1);
}

#tab-manager
  .lm-TabBar-tab.jp-mod-active
  .jp-icon-hover
  :hover
  .jp-icon-selectable-inverse[fill] {
  fill: #fff;
}

/**
 * TODO: come up with non css-hack solution for showing the busy icon on top
 *  of the close icon
 * CSS for complex behavior of close icon of tabs in the sidebar tab manager
 */
#tab-manager
  .lm-TabBar-tab.jp-mod-dirty
  > .lm-TabBar-tabCloseIcon
  > :not(:hover)
  > .jp-icon3[fill] {
  fill: none;
}
#tab-manager
  .lm-TabBar-tab.jp-mod-dirty
  > .lm-TabBar-tabCloseIcon
  > :not(:hover)
  > .jp-icon-busy[fill] {
  fill: var(--jp-inverse-layout-color3);
}

#tab-manager
  .lm-TabBar-tab.jp-mod-dirty.jp-mod-active
  > .lm-TabBar-tabCloseIcon
  > :not(:hover)
  > .jp-icon-busy[fill] {
  fill: #fff;
}

/**
* TODO: come up with non css-hack solution for showing the busy icon on top
*  of the close icon
* CSS for complex behavior of close icon of tabs in the main area tabbar
*/
.lm-DockPanel-tabBar
  .lm-TabBar-tab.lm-mod-closable.jp-mod-dirty
  > .lm-TabBar-tabCloseIcon
  > :not(:hover)
  > .jp-icon3[fill] {
  fill: none;
}
.lm-DockPanel-tabBar
  .lm-TabBar-tab.lm-mod-closable.jp-mod-dirty
  > .lm-TabBar-tabCloseIcon
  > :not(:hover)
  > .jp-icon-busy[fill] {
  fill: var(--jp-inverse-layout-color3);
}

/* CSS for icons in status bar */
#jp-main-statusbar .jp-mod-selected .jp-icon-selectable[fill] {
  fill: #fff;
}

#jp-main-statusbar .jp-mod-selected .jp-icon-selectable-inverse[fill] {
  fill: var(--jp-brand-color1);
}
/* special handling for splash icon CSS. While the theme CSS reloads during
   splash, the splash icon can loose theming. To prevent that, we set a
   default for its color variable */
:root {
  --jp-warn-color0: var(--md-orange-700);
}

/* not sure what to do with this one, used in filebrowser listing */
.jp-DragIcon {
  margin-right: 4px;
}

/*-----------------------------------------------------------------------------
| Copyright (c) Jupyter Development Team.
| Distributed under the terms of the Modified BSD License.
|----------------------------------------------------------------------------*/

/**
 * Support for alt colors for icons as inline SVG HTMLElements
 */

/* alt recolor the primary elements of an icon */
.jp-icon-alt .jp-icon0[fill] {
  fill: var(--jp-layout-color0);
}
.jp-icon-alt .jp-icon1[fill] {
  fill: var(--jp-layout-color1);
}
.jp-icon-alt .jp-icon2[fill] {
  fill: var(--jp-layout-color2);
}
.jp-icon-alt .jp-icon3[fill] {
  fill: var(--jp-layout-color3);
}
.jp-icon-alt .jp-icon4[fill] {
  fill: var(--jp-layout-color4);
}

.jp-icon-alt .jp-icon0[stroke] {
  stroke: var(--jp-layout-color0);
}
.jp-icon-alt .jp-icon1[stroke] {
  stroke: var(--jp-layout-color1);
}
.jp-icon-alt .jp-icon2[stroke] {
  stroke: var(--jp-layout-color2);
}
.jp-icon-alt .jp-icon3[stroke] {
  stroke: var(--jp-layout-color3);
}
.jp-icon-alt .jp-icon4[stroke] {
  stroke: var(--jp-layout-color4);
}

/* alt recolor the accent elements of an icon */
.jp-icon-alt .jp-icon-accent0[fill] {
  fill: var(--jp-inverse-layout-color0);
}
.jp-icon-alt .jp-icon-accent1[fill] {
  fill: var(--jp-inverse-layout-color1);
}
.jp-icon-alt .jp-icon-accent2[fill] {
  fill: var(--jp-inverse-layout-color2);
}
.jp-icon-alt .jp-icon-accent3[fill] {
  fill: var(--jp-inverse-layout-color3);
}
.jp-icon-alt .jp-icon-accent4[fill] {
  fill: var(--jp-inverse-layout-color4);
}

.jp-icon-alt .jp-icon-accent0[stroke] {
  stroke: var(--jp-inverse-layout-color0);
}
.jp-icon-alt .jp-icon-accent1[stroke] {
  stroke: var(--jp-inverse-layout-color1);
}
.jp-icon-alt .jp-icon-accent2[stroke] {
  stroke: var(--jp-inverse-layout-color2);
}
.jp-icon-alt .jp-icon-accent3[stroke] {
  stroke: var(--jp-inverse-layout-color3);
}
.jp-icon-alt .jp-icon-accent4[stroke] {
  stroke: var(--jp-inverse-layout-color4);
}

/*-----------------------------------------------------------------------------
| Copyright (c) Jupyter Development Team.
| Distributed under the terms of the Modified BSD License.
|----------------------------------------------------------------------------*/

.jp-icon-hoverShow:not(:hover) svg {
  display: none !important;
}

/**
 * Support for hover colors for icons as inline SVG HTMLElements
 */

/**
 * regular colors
 */

/* recolor the primary elements of an icon */
.jp-icon-hover :hover .jp-icon0-hover[fill] {
  fill: var(--jp-inverse-layout-color0);
}
.jp-icon-hover :hover .jp-icon1-hover[fill] {
  fill: var(--jp-inverse-layout-color1);
}
.jp-icon-hover :hover .jp-icon2-hover[fill] {
  fill: var(--jp-inverse-layout-color2);
}
.jp-icon-hover :hover .jp-icon3-hover[fill] {
  fill: var(--jp-inverse-layout-color3);
}
.jp-icon-hover :hover .jp-icon4-hover[fill] {
  fill: var(--jp-inverse-layout-color4);
}

.jp-icon-hover :hover .jp-icon0-hover[stroke] {
  stroke: var(--jp-inverse-layout-color0);
}
.jp-icon-hover :hover .jp-icon1-hover[stroke] {
  stroke: var(--jp-inverse-layout-color1);
}
.jp-icon-hover :hover .jp-icon2-hover[stroke] {
  stroke: var(--jp-inverse-layout-color2);
}
.jp-icon-hover :hover .jp-icon3-hover[stroke] {
  stroke: var(--jp-inverse-layout-color3);
}
.jp-icon-hover :hover .jp-icon4-hover[stroke] {
  stroke: var(--jp-inverse-layout-color4);
}

/* recolor the accent elements of an icon */
.jp-icon-hover :hover .jp-icon-accent0-hover[fill] {
  fill: var(--jp-layout-color0);
}
.jp-icon-hover :hover .jp-icon-accent1-hover[fill] {
  fill: var(--jp-layout-color1);
}
.jp-icon-hover :hover .jp-icon-accent2-hover[fill] {
  fill: var(--jp-layout-color2);
}
.jp-icon-hover :hover .jp-icon-accent3-hover[fill] {
  fill: var(--jp-layout-color3);
}
.jp-icon-hover :hover .jp-icon-accent4-hover[fill] {
  fill: var(--jp-layout-color4);
}

.jp-icon-hover :hover .jp-icon-accent0-hover[stroke] {
  stroke: var(--jp-layout-color0);
}
.jp-icon-hover :hover .jp-icon-accent1-hover[stroke] {
  stroke: var(--jp-layout-color1);
}
.jp-icon-hover :hover .jp-icon-accent2-hover[stroke] {
  stroke: var(--jp-layout-color2);
}
.jp-icon-hover :hover .jp-icon-accent3-hover[stroke] {
  stroke: var(--jp-layout-color3);
}
.jp-icon-hover :hover .jp-icon-accent4-hover[stroke] {
  stroke: var(--jp-layout-color4);
}

/* set the color of an icon to transparent */
.jp-icon-hover :hover .jp-icon-none-hover[fill] {
  fill: none;
}

.jp-icon-hover :hover .jp-icon-none-hover[stroke] {
  stroke: none;
}

/**
 * inverse colors
 */

/* inverse recolor the primary elements of an icon */
.jp-icon-hover.jp-icon-alt :hover .jp-icon0-hover[fill] {
  fill: var(--jp-layout-color0);
}
.jp-icon-hover.jp-icon-alt :hover .jp-icon1-hover[fill] {
  fill: var(--jp-layout-color1);
}
.jp-icon-hover.jp-icon-alt :hover .jp-icon2-hover[fill] {
  fill: var(--jp-layout-color2);
}
.jp-icon-hover.jp-icon-alt :hover .jp-icon3-hover[fill] {
  fill: var(--jp-layout-color3);
}
.jp-icon-hover.jp-icon-alt :hover .jp-icon4-hover[fill] {
  fill: var(--jp-layout-color4);
}

.jp-icon-hover.jp-icon-alt :hover .jp-icon0-hover[stroke] {
  stroke: var(--jp-layout-color0);
}
.jp-icon-hover.jp-icon-alt :hover .jp-icon1-hover[stroke] {
  stroke: var(--jp-layout-color1);
}
.jp-icon-hover.jp-icon-alt :hover .jp-icon2-hover[stroke] {
  stroke: var(--jp-layout-color2);
}
.jp-icon-hover.jp-icon-alt :hover .jp-icon3-hover[stroke] {
  stroke: var(--jp-layout-color3);
}
.jp-icon-hover.jp-icon-alt :hover .jp-icon4-hover[stroke] {
  stroke: var(--jp-layout-color4);
}

/* inverse recolor the accent elements of an icon */
.jp-icon-hover.jp-icon-alt :hover .jp-icon-accent0-hover[fill] {
  fill: var(--jp-inverse-layout-color0);
}
.jp-icon-hover.jp-icon-alt :hover .jp-icon-accent1-hover[fill] {
  fill: var(--jp-inverse-layout-color1);
}
.jp-icon-hover.jp-icon-alt :hover .jp-icon-accent2-hover[fill] {
  fill: var(--jp-inverse-layout-color2);
}
.jp-icon-hover.jp-icon-alt :hover .jp-icon-accent3-hover[fill] {
  fill: var(--jp-inverse-layout-color3);
}
.jp-icon-hover.jp-icon-alt :hover .jp-icon-accent4-hover[fill] {
  fill: var(--jp-inverse-layout-color4);
}

.jp-icon-hover.jp-icon-alt :hover .jp-icon-accent0-hover[stroke] {
  stroke: var(--jp-inverse-layout-color0);
}
.jp-icon-hover.jp-icon-alt :hover .jp-icon-accent1-hover[stroke] {
  stroke: var(--jp-inverse-layout-color1);
}
.jp-icon-hover.jp-icon-alt :hover .jp-icon-accent2-hover[stroke] {
  stroke: var(--jp-inverse-layout-color2);
}
.jp-icon-hover.jp-icon-alt :hover .jp-icon-accent3-hover[stroke] {
  stroke: var(--jp-inverse-layout-color3);
}
.jp-icon-hover.jp-icon-alt :hover .jp-icon-accent4-hover[stroke] {
  stroke: var(--jp-inverse-layout-color4);
}

/*-----------------------------------------------------------------------------
| Copyright (c) Jupyter Development Team.
| Distributed under the terms of the Modified BSD License.
|----------------------------------------------------------------------------*/

.jp-switch {
  display: flex;
  align-items: center;
  padding-left: 4px;
  padding-right: 4px;
  font-size: var(--jp-ui-font-size1);
  background-color: transparent;
  color: var(--jp-ui-font-color1);
  border: none;
  height: 20px;
}

.jp-switch:hover {
  background-color: var(--jp-layout-color2);
}

.jp-switch-label {
  margin-right: 5px;
}

.jp-switch-track {
  cursor: pointer;
  background-color: var(--jp-border-color1);
  -webkit-transition: 0.4s;
  transition: 0.4s;
  border-radius: 34px;
  height: 16px;
  width: 35px;
  position: relative;
}

.jp-switch-track::before {
  content: '';
  position: absolute;
  height: 10px;
  width: 10px;
  margin: 3px;
  left: 0px;
  background-color: var(--jp-ui-inverse-font-color1);
  -webkit-transition: 0.4s;
  transition: 0.4s;
  border-radius: 50%;
}

.jp-switch[aria-checked='true'] .jp-switch-track {
  background-color: var(--jp-warn-color0);
}

.jp-switch[aria-checked='true'] .jp-switch-track::before {
  /* track width (35) - margins (3 + 3) - thumb width (10) */
  left: 19px;
}

/*-----------------------------------------------------------------------------
| Copyright (c) Jupyter Development Team.
| Distributed under the terms of the Modified BSD License.
|----------------------------------------------------------------------------*/

/* Sibling imports */

/* Override Blueprint's _reset.scss styles */
html {
  box-sizing: unset;
}

*,
*::before,
*::after {
  box-sizing: unset;
}

body {
  color: unset;
  font-family: var(--jp-ui-font-family);
}

p {
  margin-top: unset;
  margin-bottom: unset;
}

small {
  font-size: unset;
}

strong {
  font-weight: unset;
}

/* Override Blueprint's _typography.scss styles */
a {
  text-decoration: unset;
  color: unset;
}
a:hover {
  text-decoration: unset;
  color: unset;
}

/* Override Blueprint's _accessibility.scss styles */
:focus {
  outline: unset;
  outline-offset: unset;
  -moz-outline-radius: unset;
}

/* Styles for ui-components */
.jp-Button {
  border-radius: var(--jp-border-radius);
  padding: 0px 12px;
  font-size: var(--jp-ui-font-size1);
}

/* Use our own theme for hover styles */
button.jp-Button.bp3-button.bp3-minimal:hover {
  background-color: var(--jp-layout-color2);
}
.jp-Button.minimal {
  color: unset !important;
}

.jp-Button.jp-ToolbarButtonComponent {
  text-transform: none;
}

.jp-InputGroup input {
  box-sizing: border-box;
  border-radius: 0;
  background-color: transparent;
  color: var(--jp-ui-font-color0);
  box-shadow: inset 0 0 0 var(--jp-border-width) var(--jp-input-border-color);
}

.jp-InputGroup input:focus {
  box-shadow: inset 0 0 0 var(--jp-border-width)
      var(--jp-input-active-box-shadow-color),
    inset 0 0 0 3px var(--jp-input-active-box-shadow-color);
}

.jp-InputGroup input::placeholder,
input::placeholder {
  color: var(--jp-ui-font-color3);
}

.jp-BPIcon {
  display: inline-block;
  vertical-align: middle;
  margin: auto;
}

/* Stop blueprint futzing with our icon fills */
.bp3-icon.jp-BPIcon > svg:not([fill]) {
  fill: var(--jp-inverse-layout-color3);
}

.jp-InputGroupAction {
  padding: 6px;
}

.jp-HTMLSelect.jp-DefaultStyle select {
  background-color: initial;
  border: none;
  border-radius: 0;
  box-shadow: none;
  color: var(--jp-ui-font-color0);
  display: block;
  font-size: var(--jp-ui-font-size1);
  height: 24px;
  line-height: 14px;
  padding: 0 25px 0 10px;
  text-align: left;
  -moz-appearance: none;
  -webkit-appearance: none;
}

/* Use our own theme for hover and option styles */
.jp-HTMLSelect.jp-DefaultStyle select:hover,
.jp-HTMLSelect.jp-DefaultStyle select > option {
  background-color: var(--jp-layout-color2);
  color: var(--jp-ui-font-color0);
}
select {
  box-sizing: border-box;
}

/*-----------------------------------------------------------------------------
| Copyright (c) Jupyter Development Team.
| Distributed under the terms of the Modified BSD License.
|----------------------------------------------------------------------------*/

.jp-Collapse {
  display: flex;
  flex-direction: column;
  align-items: stretch;
  border-top: 1px solid var(--jp-border-color2);
  border-bottom: 1px solid var(--jp-border-color2);
}

.jp-Collapse-header {
  padding: 1px 12px;
  color: var(--jp-ui-font-color1);
  background-color: var(--jp-layout-color1);
  font-size: var(--jp-ui-font-size2);
}

.jp-Collapse-header:hover {
  background-color: var(--jp-layout-color2);
}

.jp-Collapse-contents {
  padding: 0px 12px 0px 12px;
  background-color: var(--jp-layout-color1);
  color: var(--jp-ui-font-color1);
  overflow: auto;
}

/*-----------------------------------------------------------------------------
| Copyright (c) Jupyter Development Team.
| Distributed under the terms of the Modified BSD License.
|----------------------------------------------------------------------------*/

/*-----------------------------------------------------------------------------
| Variables
|----------------------------------------------------------------------------*/

:root {
  --jp-private-commandpalette-search-height: 28px;
}

/*-----------------------------------------------------------------------------
| Overall styles
|----------------------------------------------------------------------------*/

.lm-CommandPalette {
  padding-bottom: 0px;
  color: var(--jp-ui-font-color1);
  background: var(--jp-layout-color1);
  /* This is needed so that all font sizing of children done in ems is
   * relative to this base size */
  font-size: var(--jp-ui-font-size1);
}

/*-----------------------------------------------------------------------------
| Modal variant
|----------------------------------------------------------------------------*/

.jp-ModalCommandPalette {
  position: absolute;
  z-index: 10000;
  top: 38px;
  left: 30%;
  margin: 0;
  padding: 4px;
  width: 40%;
  box-shadow: var(--jp-elevation-z4);
  border-radius: 4px;
  background: var(--jp-layout-color0);
}

.jp-ModalCommandPalette .lm-CommandPalette {
  max-height: 40vh;
}

.jp-ModalCommandPalette .lm-CommandPalette .lm-close-icon::after {
  display: none;
}

.jp-ModalCommandPalette .lm-CommandPalette .lm-CommandPalette-header {
  display: none;
}

.jp-ModalCommandPalette .lm-CommandPalette .lm-CommandPalette-item {
  margin-left: 4px;
  margin-right: 4px;
}

.jp-ModalCommandPalette
  .lm-CommandPalette
  .lm-CommandPalette-item.lm-mod-disabled {
  display: none;
}

/*-----------------------------------------------------------------------------
| Search
|----------------------------------------------------------------------------*/

.lm-CommandPalette-search {
  padding: 4px;
  background-color: var(--jp-layout-color1);
  z-index: 2;
}

.lm-CommandPalette-wrapper {
  overflow: overlay;
  padding: 0px 9px;
  background-color: var(--jp-input-active-background);
  height: 30px;
  box-shadow: inset 0 0 0 var(--jp-border-width) var(--jp-input-border-color);
}

.lm-CommandPalette.lm-mod-focused .lm-CommandPalette-wrapper {
  box-shadow: inset 0 0 0 1px var(--jp-input-active-box-shadow-color),
    inset 0 0 0 3px var(--jp-input-active-box-shadow-color);
}

.jp-SearchIconGroup {
  color: white;
  background-color: var(--jp-brand-color1);
  position: absolute;
  top: 4px;
  right: 4px;
  padding: 5px 5px 1px 5px;
}

.jp-SearchIconGroup svg {
  height: 20px;
  width: 20px;
}

.jp-SearchIconGroup .jp-icon3[fill] {
  fill: var(--jp-layout-color0);
}

.lm-CommandPalette-input {
  background: transparent;
  width: calc(100% - 18px);
  float: left;
  border: none;
  outline: none;
  font-size: var(--jp-ui-font-size1);
  color: var(--jp-ui-font-color0);
  line-height: var(--jp-private-commandpalette-search-height);
}

.lm-CommandPalette-input::-webkit-input-placeholder,
.lm-CommandPalette-input::-moz-placeholder,
.lm-CommandPalette-input:-ms-input-placeholder {
  color: var(--jp-ui-font-color2);
  font-size: var(--jp-ui-font-size1);
}

/*-----------------------------------------------------------------------------
| Results
|----------------------------------------------------------------------------*/

.lm-CommandPalette-header:first-child {
  margin-top: 0px;
}

.lm-CommandPalette-header {
  border-bottom: solid var(--jp-border-width) var(--jp-border-color2);
  color: var(--jp-ui-font-color1);
  cursor: pointer;
  display: flex;
  font-size: var(--jp-ui-font-size0);
  font-weight: 600;
  letter-spacing: 1px;
  margin-top: 8px;
  padding: 8px 0 8px 12px;
  text-transform: uppercase;
}

.lm-CommandPalette-header.lm-mod-active {
  background: var(--jp-layout-color2);
}

.lm-CommandPalette-header > mark {
  background-color: transparent;
  font-weight: bold;
  color: var(--jp-ui-font-color1);
}

.lm-CommandPalette-item {
  padding: 4px 12px 4px 4px;
  color: var(--jp-ui-font-color1);
  font-size: var(--jp-ui-font-size1);
  font-weight: 400;
  display: flex;
}

.lm-CommandPalette-item.lm-mod-disabled {
  color: var(--jp-ui-font-color2);
}

.lm-CommandPalette-item.lm-mod-active {
  color: var(--jp-ui-inverse-font-color1);
  background: var(--jp-brand-color1);
}

.lm-CommandPalette-item.lm-mod-active .lm-CommandPalette-itemLabel > mark {
  color: var(--jp-ui-inverse-font-color0);
}

.lm-CommandPalette-item.lm-mod-active .jp-icon-selectable[fill] {
  fill: var(--jp-layout-color0);
}

.lm-CommandPalette-item.lm-mod-active .lm-CommandPalette-itemLabel > mark {
  color: var(--jp-ui-inverse-font-color0);
}

.lm-CommandPalette-item.lm-mod-active:hover:not(.lm-mod-disabled) {
  color: var(--jp-ui-inverse-font-color1);
  background: var(--jp-brand-color1);
}

.lm-CommandPalette-item:hover:not(.lm-mod-active):not(.lm-mod-disabled) {
  background: var(--jp-layout-color2);
}

.lm-CommandPalette-itemContent {
  overflow: hidden;
}

.lm-CommandPalette-itemLabel > mark {
  color: var(--jp-ui-font-color0);
  background-color: transparent;
  font-weight: bold;
}

.lm-CommandPalette-item.lm-mod-disabled mark {
  color: var(--jp-ui-font-color2);
}

.lm-CommandPalette-item .lm-CommandPalette-itemIcon {
  margin: 0 4px 0 0;
  position: relative;
  width: 16px;
  top: 2px;
  flex: 0 0 auto;
}

.lm-CommandPalette-item.lm-mod-disabled .lm-CommandPalette-itemIcon {
  opacity: 0.6;
}

.lm-CommandPalette-item .lm-CommandPalette-itemShortcut {
  flex: 0 0 auto;
}

.lm-CommandPalette-itemCaption {
  display: none;
}

.lm-CommandPalette-content {
  background-color: var(--jp-layout-color1);
}

.lm-CommandPalette-content:empty:after {
  content: 'No results';
  margin: auto;
  margin-top: 20px;
  width: 100px;
  display: block;
  font-size: var(--jp-ui-font-size2);
  font-family: var(--jp-ui-font-family);
  font-weight: lighter;
}

.lm-CommandPalette-emptyMessage {
  text-align: center;
  margin-top: 24px;
  line-height: 1.32;
  padding: 0px 8px;
  color: var(--jp-content-font-color3);
}

/*-----------------------------------------------------------------------------
| Copyright (c) 2014-2017, Jupyter Development Team.
|
| Distributed under the terms of the Modified BSD License.
|----------------------------------------------------------------------------*/

.jp-Dialog {
  position: absolute;
  z-index: 10000;
  display: flex;
  flex-direction: column;
  align-items: center;
  justify-content: center;
  top: 0px;
  left: 0px;
  margin: 0;
  padding: 0;
  width: 100%;
  height: 100%;
  background: var(--jp-dialog-background);
}

.jp-Dialog-content {
  display: flex;
  flex-direction: column;
  margin-left: auto;
  margin-right: auto;
  background: var(--jp-layout-color1);
  padding: 24px;
  padding-bottom: 12px;
  min-width: 300px;
  min-height: 150px;
  max-width: 1000px;
  max-height: 500px;
  box-sizing: border-box;
  box-shadow: var(--jp-elevation-z20);
  word-wrap: break-word;
  border-radius: var(--jp-border-radius);
  /* This is needed so that all font sizing of children done in ems is
   * relative to this base size */
  font-size: var(--jp-ui-font-size1);
  color: var(--jp-ui-font-color1);
  resize: both;
}

.jp-Dialog-button {
  overflow: visible;
}

button.jp-Dialog-button:focus {
  outline: 1px solid var(--jp-brand-color1);
  outline-offset: 4px;
  -moz-outline-radius: 0px;
}

button.jp-Dialog-button:focus::-moz-focus-inner {
  border: 0;
}

button.jp-Dialog-close-button {
  padding: 0;
  height: 100%;
  min-width: unset;
  min-height: unset;
}

.jp-Dialog-header {
  display: flex;
  justify-content: space-between;
  flex: 0 0 auto;
  padding-bottom: 12px;
  font-size: var(--jp-ui-font-size3);
  font-weight: 400;
  color: var(--jp-ui-font-color0);
}

.jp-Dialog-body {
  display: flex;
  flex-direction: column;
  flex: 1 1 auto;
  font-size: var(--jp-ui-font-size1);
  background: var(--jp-layout-color1);
  overflow: auto;
}

.jp-Dialog-footer {
  display: flex;
  flex-direction: row;
  justify-content: flex-end;
  flex: 0 0 auto;
  margin-left: -12px;
  margin-right: -12px;
  padding: 12px;
}

.jp-Dialog-title {
  overflow: hidden;
  white-space: nowrap;
  text-overflow: ellipsis;
}

.jp-Dialog-body > .jp-select-wrapper {
  width: 100%;
}

.jp-Dialog-body > button {
  padding: 0px 16px;
}

.jp-Dialog-body > label {
  line-height: 1.4;
  color: var(--jp-ui-font-color0);
}

.jp-Dialog-button.jp-mod-styled:not(:last-child) {
  margin-right: 12px;
}

/*-----------------------------------------------------------------------------
| Copyright (c) 2014-2016, Jupyter Development Team.
|
| Distributed under the terms of the Modified BSD License.
|----------------------------------------------------------------------------*/

.jp-HoverBox {
  position: fixed;
}

.jp-HoverBox.jp-mod-outofview {
  display: none;
}

/*-----------------------------------------------------------------------------
| Copyright (c) Jupyter Development Team.
| Distributed under the terms of the Modified BSD License.
|----------------------------------------------------------------------------*/

.jp-IFrame {
  width: 100%;
  height: 100%;
}

.jp-IFrame > iframe {
  border: none;
}

/*
When drag events occur, `p-mod-override-cursor` is added to the body.
Because iframes steal all cursor events, the following two rules are necessary
to suppress pointer events while resize drags are occurring. There may be a
better solution to this problem.
*/
body.lm-mod-override-cursor .jp-IFrame {
  position: relative;
}

body.lm-mod-override-cursor .jp-IFrame:before {
  content: '';
  position: absolute;
  top: 0;
  left: 0;
  right: 0;
  bottom: 0;
  background: transparent;
}

.jp-Input-Boolean-Dialog {
  flex-direction: row-reverse;
  align-items: end;
  width: 100%;
}

.jp-Input-Boolean-Dialog > label {
  flex: 1 1 auto;
}

/*-----------------------------------------------------------------------------
| Copyright (c) 2014-2016, Jupyter Development Team.
|
| Distributed under the terms of the Modified BSD License.
|----------------------------------------------------------------------------*/

.jp-MainAreaWidget > :focus {
  outline: none;
}

/**
 * google-material-color v1.2.6
 * https://github.com/danlevan/google-material-color
 */
:root {
  --md-red-50: #ffebee;
  --md-red-100: #ffcdd2;
  --md-red-200: #ef9a9a;
  --md-red-300: #e57373;
  --md-red-400: #ef5350;
  --md-red-500: #f44336;
  --md-red-600: #e53935;
  --md-red-700: #d32f2f;
  --md-red-800: #c62828;
  --md-red-900: #b71c1c;
  --md-red-A100: #ff8a80;
  --md-red-A200: #ff5252;
  --md-red-A400: #ff1744;
  --md-red-A700: #d50000;

  --md-pink-50: #fce4ec;
  --md-pink-100: #f8bbd0;
  --md-pink-200: #f48fb1;
  --md-pink-300: #f06292;
  --md-pink-400: #ec407a;
  --md-pink-500: #e91e63;
  --md-pink-600: #d81b60;
  --md-pink-700: #c2185b;
  --md-pink-800: #ad1457;
  --md-pink-900: #880e4f;
  --md-pink-A100: #ff80ab;
  --md-pink-A200: #ff4081;
  --md-pink-A400: #f50057;
  --md-pink-A700: #c51162;

  --md-purple-50: #f3e5f5;
  --md-purple-100: #e1bee7;
  --md-purple-200: #ce93d8;
  --md-purple-300: #ba68c8;
  --md-purple-400: #ab47bc;
  --md-purple-500: #9c27b0;
  --md-purple-600: #8e24aa;
  --md-purple-700: #7b1fa2;
  --md-purple-800: #6a1b9a;
  --md-purple-900: #4a148c;
  --md-purple-A100: #ea80fc;
  --md-purple-A200: #e040fb;
  --md-purple-A400: #d500f9;
  --md-purple-A700: #aa00ff;

  --md-deep-purple-50: #ede7f6;
  --md-deep-purple-100: #d1c4e9;
  --md-deep-purple-200: #b39ddb;
  --md-deep-purple-300: #9575cd;
  --md-deep-purple-400: #7e57c2;
  --md-deep-purple-500: #673ab7;
  --md-deep-purple-600: #5e35b1;
  --md-deep-purple-700: #512da8;
  --md-deep-purple-800: #4527a0;
  --md-deep-purple-900: #311b92;
  --md-deep-purple-A100: #b388ff;
  --md-deep-purple-A200: #7c4dff;
  --md-deep-purple-A400: #651fff;
  --md-deep-purple-A700: #6200ea;

  --md-indigo-50: #e8eaf6;
  --md-indigo-100: #c5cae9;
  --md-indigo-200: #9fa8da;
  --md-indigo-300: #7986cb;
  --md-indigo-400: #5c6bc0;
  --md-indigo-500: #3f51b5;
  --md-indigo-600: #3949ab;
  --md-indigo-700: #303f9f;
  --md-indigo-800: #283593;
  --md-indigo-900: #1a237e;
  --md-indigo-A100: #8c9eff;
  --md-indigo-A200: #536dfe;
  --md-indigo-A400: #3d5afe;
  --md-indigo-A700: #304ffe;

  --md-blue-50: #e3f2fd;
  --md-blue-100: #bbdefb;
  --md-blue-200: #90caf9;
  --md-blue-300: #64b5f6;
  --md-blue-400: #42a5f5;
  --md-blue-500: #2196f3;
  --md-blue-600: #1e88e5;
  --md-blue-700: #1976d2;
  --md-blue-800: #1565c0;
  --md-blue-900: #0d47a1;
  --md-blue-A100: #82b1ff;
  --md-blue-A200: #448aff;
  --md-blue-A400: #2979ff;
  --md-blue-A700: #2962ff;

  --md-light-blue-50: #e1f5fe;
  --md-light-blue-100: #b3e5fc;
  --md-light-blue-200: #81d4fa;
  --md-light-blue-300: #4fc3f7;
  --md-light-blue-400: #29b6f6;
  --md-light-blue-500: #03a9f4;
  --md-light-blue-600: #039be5;
  --md-light-blue-700: #0288d1;
  --md-light-blue-800: #0277bd;
  --md-light-blue-900: #01579b;
  --md-light-blue-A100: #80d8ff;
  --md-light-blue-A200: #40c4ff;
  --md-light-blue-A400: #00b0ff;
  --md-light-blue-A700: #0091ea;

  --md-cyan-50: #e0f7fa;
  --md-cyan-100: #b2ebf2;
  --md-cyan-200: #80deea;
  --md-cyan-300: #4dd0e1;
  --md-cyan-400: #26c6da;
  --md-cyan-500: #00bcd4;
  --md-cyan-600: #00acc1;
  --md-cyan-700: #0097a7;
  --md-cyan-800: #00838f;
  --md-cyan-900: #006064;
  --md-cyan-A100: #84ffff;
  --md-cyan-A200: #18ffff;
  --md-cyan-A400: #00e5ff;
  --md-cyan-A700: #00b8d4;

  --md-teal-50: #e0f2f1;
  --md-teal-100: #b2dfdb;
  --md-teal-200: #80cbc4;
  --md-teal-300: #4db6ac;
  --md-teal-400: #26a69a;
  --md-teal-500: #009688;
  --md-teal-600: #00897b;
  --md-teal-700: #00796b;
  --md-teal-800: #00695c;
  --md-teal-900: #004d40;
  --md-teal-A100: #a7ffeb;
  --md-teal-A200: #64ffda;
  --md-teal-A400: #1de9b6;
  --md-teal-A700: #00bfa5;

  --md-green-50: #e8f5e9;
  --md-green-100: #c8e6c9;
  --md-green-200: #a5d6a7;
  --md-green-300: #81c784;
  --md-green-400: #66bb6a;
  --md-green-500: #4caf50;
  --md-green-600: #43a047;
  --md-green-700: #388e3c;
  --md-green-800: #2e7d32;
  --md-green-900: #1b5e20;
  --md-green-A100: #b9f6ca;
  --md-green-A200: #69f0ae;
  --md-green-A400: #00e676;
  --md-green-A700: #00c853;

  --md-light-green-50: #f1f8e9;
  --md-light-green-100: #dcedc8;
  --md-light-green-200: #c5e1a5;
  --md-light-green-300: #aed581;
  --md-light-green-400: #9ccc65;
  --md-light-green-500: #8bc34a;
  --md-light-green-600: #7cb342;
  --md-light-green-700: #689f38;
  --md-light-green-800: #558b2f;
  --md-light-green-900: #33691e;
  --md-light-green-A100: #ccff90;
  --md-light-green-A200: #b2ff59;
  --md-light-green-A400: #76ff03;
  --md-light-green-A700: #64dd17;

  --md-lime-50: #f9fbe7;
  --md-lime-100: #f0f4c3;
  --md-lime-200: #e6ee9c;
  --md-lime-300: #dce775;
  --md-lime-400: #d4e157;
  --md-lime-500: #cddc39;
  --md-lime-600: #c0ca33;
  --md-lime-700: #afb42b;
  --md-lime-800: #9e9d24;
  --md-lime-900: #827717;
  --md-lime-A100: #f4ff81;
  --md-lime-A200: #eeff41;
  --md-lime-A400: #c6ff00;
  --md-lime-A700: #aeea00;

  --md-yellow-50: #fffde7;
  --md-yellow-100: #fff9c4;
  --md-yellow-200: #fff59d;
  --md-yellow-300: #fff176;
  --md-yellow-400: #ffee58;
  --md-yellow-500: #ffeb3b;
  --md-yellow-600: #fdd835;
  --md-yellow-700: #fbc02d;
  --md-yellow-800: #f9a825;
  --md-yellow-900: #f57f17;
  --md-yellow-A100: #ffff8d;
  --md-yellow-A200: #ffff00;
  --md-yellow-A400: #ffea00;
  --md-yellow-A700: #ffd600;

  --md-amber-50: #fff8e1;
  --md-amber-100: #ffecb3;
  --md-amber-200: #ffe082;
  --md-amber-300: #ffd54f;
  --md-amber-400: #ffca28;
  --md-amber-500: #ffc107;
  --md-amber-600: #ffb300;
  --md-amber-700: #ffa000;
  --md-amber-800: #ff8f00;
  --md-amber-900: #ff6f00;
  --md-amber-A100: #ffe57f;
  --md-amber-A200: #ffd740;
  --md-amber-A400: #ffc400;
  --md-amber-A700: #ffab00;

  --md-orange-50: #fff3e0;
  --md-orange-100: #ffe0b2;
  --md-orange-200: #ffcc80;
  --md-orange-300: #ffb74d;
  --md-orange-400: #ffa726;
  --md-orange-500: #ff9800;
  --md-orange-600: #fb8c00;
  --md-orange-700: #f57c00;
  --md-orange-800: #ef6c00;
  --md-orange-900: #e65100;
  --md-orange-A100: #ffd180;
  --md-orange-A200: #ffab40;
  --md-orange-A400: #ff9100;
  --md-orange-A700: #ff6d00;

  --md-deep-orange-50: #fbe9e7;
  --md-deep-orange-100: #ffccbc;
  --md-deep-orange-200: #ffab91;
  --md-deep-orange-300: #ff8a65;
  --md-deep-orange-400: #ff7043;
  --md-deep-orange-500: #ff5722;
  --md-deep-orange-600: #f4511e;
  --md-deep-orange-700: #e64a19;
  --md-deep-orange-800: #d84315;
  --md-deep-orange-900: #bf360c;
  --md-deep-orange-A100: #ff9e80;
  --md-deep-orange-A200: #ff6e40;
  --md-deep-orange-A400: #ff3d00;
  --md-deep-orange-A700: #dd2c00;

  --md-brown-50: #efebe9;
  --md-brown-100: #d7ccc8;
  --md-brown-200: #bcaaa4;
  --md-brown-300: #a1887f;
  --md-brown-400: #8d6e63;
  --md-brown-500: #795548;
  --md-brown-600: #6d4c41;
  --md-brown-700: #5d4037;
  --md-brown-800: #4e342e;
  --md-brown-900: #3e2723;

  --md-grey-50: #fafafa;
  --md-grey-100: #f5f5f5;
  --md-grey-200: #eeeeee;
  --md-grey-300: #e0e0e0;
  --md-grey-400: #bdbdbd;
  --md-grey-500: #9e9e9e;
  --md-grey-600: #757575;
  --md-grey-700: #616161;
  --md-grey-800: #424242;
  --md-grey-900: #212121;

  --md-blue-grey-50: #eceff1;
  --md-blue-grey-100: #cfd8dc;
  --md-blue-grey-200: #b0bec5;
  --md-blue-grey-300: #90a4ae;
  --md-blue-grey-400: #78909c;
  --md-blue-grey-500: #607d8b;
  --md-blue-grey-600: #546e7a;
  --md-blue-grey-700: #455a64;
  --md-blue-grey-800: #37474f;
  --md-blue-grey-900: #263238;
}

/*-----------------------------------------------------------------------------
| Copyright (c) 2017, Jupyter Development Team.
|
| Distributed under the terms of the Modified BSD License.
|----------------------------------------------------------------------------*/

.jp-Spinner {
  position: absolute;
  display: flex;
  justify-content: center;
  align-items: center;
  z-index: 10;
  left: 0;
  top: 0;
  width: 100%;
  height: 100%;
  background: var(--jp-layout-color0);
  outline: none;
}

.jp-SpinnerContent {
  font-size: 10px;
  margin: 50px auto;
  text-indent: -9999em;
  width: 3em;
  height: 3em;
  border-radius: 50%;
  background: var(--jp-brand-color3);
  background: linear-gradient(
    to right,
    #f37626 10%,
    rgba(255, 255, 255, 0) 42%
  );
  position: relative;
  animation: load3 1s infinite linear, fadeIn 1s;
}

.jp-SpinnerContent:before {
  width: 50%;
  height: 50%;
  background: #f37626;
  border-radius: 100% 0 0 0;
  position: absolute;
  top: 0;
  left: 0;
  content: '';
}

.jp-SpinnerContent:after {
  background: var(--jp-layout-color0);
  width: 75%;
  height: 75%;
  border-radius: 50%;
  content: '';
  margin: auto;
  position: absolute;
  top: 0;
  left: 0;
  bottom: 0;
  right: 0;
}

@keyframes fadeIn {
  0% {
    opacity: 0;
  }
  100% {
    opacity: 1;
  }
}

@keyframes load3 {
  0% {
    transform: rotate(0deg);
  }
  100% {
    transform: rotate(360deg);
  }
}

/*-----------------------------------------------------------------------------
| Copyright (c) 2014-2017, Jupyter Development Team.
|
| Distributed under the terms of the Modified BSD License.
|----------------------------------------------------------------------------*/

button.jp-mod-styled {
  font-size: var(--jp-ui-font-size1);
  color: var(--jp-ui-font-color0);
  border: none;
  box-sizing: border-box;
  text-align: center;
  line-height: 32px;
  height: 32px;
  padding: 0px 12px;
  letter-spacing: 0.8px;
  outline: none;
  appearance: none;
  -webkit-appearance: none;
  -moz-appearance: none;
}

input.jp-mod-styled {
  background: var(--jp-input-background);
  height: 28px;
  box-sizing: border-box;
  border: var(--jp-border-width) solid var(--jp-border-color1);
  padding-left: 7px;
  padding-right: 7px;
  font-size: var(--jp-ui-font-size2);
  color: var(--jp-ui-font-color0);
  outline: none;
  appearance: none;
  -webkit-appearance: none;
  -moz-appearance: none;
}

input[type='checkbox'].jp-mod-styled {
  appearance: checkbox;
  -webkit-appearance: checkbox;
  -moz-appearance: checkbox;
  height: auto;
}

input.jp-mod-styled:focus {
  border: var(--jp-border-width) solid var(--md-blue-500);
  box-shadow: inset 0 0 4px var(--md-blue-300);
}

.jp-FileDialog-Checkbox {
  margin-top: 35px;
  display: flex;
  flex-direction: row;
  align-items: end;
  width: 100%;
}

.jp-FileDialog-Checkbox > label {
  flex: 1 1 auto;
}

.jp-select-wrapper {
  display: flex;
  position: relative;
  flex-direction: column;
  padding: 1px;
  background-color: var(--jp-layout-color1);
  height: 28px;
  box-sizing: border-box;
  margin-bottom: 12px;
}

.jp-select-wrapper.jp-mod-focused select.jp-mod-styled {
  border: var(--jp-border-width) solid var(--jp-input-active-border-color);
  box-shadow: var(--jp-input-box-shadow);
  background-color: var(--jp-input-active-background);
}

select.jp-mod-styled:hover {
  background-color: var(--jp-layout-color1);
  cursor: pointer;
  color: var(--jp-ui-font-color0);
  background-color: var(--jp-input-hover-background);
  box-shadow: inset 0 0px 1px rgba(0, 0, 0, 0.5);
}

select.jp-mod-styled {
  flex: 1 1 auto;
  height: 32px;
  width: 100%;
  font-size: var(--jp-ui-font-size2);
  background: var(--jp-input-background);
  color: var(--jp-ui-font-color0);
  padding: 0 25px 0 8px;
  border: var(--jp-border-width) solid var(--jp-input-border-color);
  border-radius: 0px;
  outline: none;
  appearance: none;
  -webkit-appearance: none;
  -moz-appearance: none;
}

/*-----------------------------------------------------------------------------
| Copyright (c) 2014-2016, Jupyter Development Team.
|
| Distributed under the terms of the Modified BSD License.
|----------------------------------------------------------------------------*/

:root {
  --jp-private-toolbar-height: calc(
    28px + var(--jp-border-width)
  ); /* leave 28px for content */
}

.jp-Toolbar {
  color: var(--jp-ui-font-color1);
  flex: 0 0 auto;
  display: flex;
  flex-direction: row;
  border-bottom: var(--jp-border-width) solid var(--jp-toolbar-border-color);
  box-shadow: var(--jp-toolbar-box-shadow);
  background: var(--jp-toolbar-background);
  min-height: var(--jp-toolbar-micro-height);
  padding: 2px;
  z-index: 1;
  overflow-x: auto;
}

/* Toolbar items */

.jp-Toolbar > .jp-Toolbar-item.jp-Toolbar-spacer {
  flex-grow: 1;
  flex-shrink: 1;
}

.jp-Toolbar-item.jp-Toolbar-kernelStatus {
  display: inline-block;
  width: 32px;
  background-repeat: no-repeat;
  background-position: center;
  background-size: 16px;
}

.jp-Toolbar > .jp-Toolbar-item {
  flex: 0 0 auto;
  display: flex;
  padding-left: 1px;
  padding-right: 1px;
  font-size: var(--jp-ui-font-size1);
  line-height: var(--jp-private-toolbar-height);
  height: 100%;
}

/* Toolbar buttons */

/* This is the div we use to wrap the react component into a Widget */
div.jp-ToolbarButton {
  color: transparent;
  border: none;
  box-sizing: border-box;
  outline: none;
  appearance: none;
  -webkit-appearance: none;
  -moz-appearance: none;
  padding: 0px;
  margin: 0px;
}

button.jp-ToolbarButtonComponent {
  background: var(--jp-layout-color1);
  border: none;
  box-sizing: border-box;
  outline: none;
  appearance: none;
  -webkit-appearance: none;
  -moz-appearance: none;
  padding: 0px 6px;
  margin: 0px;
  height: 24px;
  border-radius: var(--jp-border-radius);
  display: flex;
  align-items: center;
  text-align: center;
  font-size: 14px;
  min-width: unset;
  min-height: unset;
}

button.jp-ToolbarButtonComponent:disabled {
  opacity: 0.4;
}

button.jp-ToolbarButtonComponent span {
  padding: 0px;
  flex: 0 0 auto;
}

button.jp-ToolbarButtonComponent .jp-ToolbarButtonComponent-label {
  font-size: var(--jp-ui-font-size1);
  line-height: 100%;
  padding-left: 2px;
  color: var(--jp-ui-font-color1);
}

#jp-main-dock-panel[data-mode='single-document']
  .jp-MainAreaWidget
  > .jp-Toolbar.jp-Toolbar-micro {
  padding: 0;
  min-height: 0;
}

#jp-main-dock-panel[data-mode='single-document']
  .jp-MainAreaWidget
  > .jp-Toolbar {
  border: none;
  box-shadow: none;
}

/*-----------------------------------------------------------------------------
| Copyright (c) 2014-2017, Jupyter Development Team.
|
| Distributed under the terms of the Modified BSD License.
|----------------------------------------------------------------------------*/

/*-----------------------------------------------------------------------------
| Copyright (c) Jupyter Development Team.
| Copyright (c) 2014-2017, PhosphorJS Contributors
|
| Distributed under the terms of the BSD 3-Clause License.
|
| The full license is in the file LICENSE, distributed with this software.
|----------------------------------------------------------------------------*/


/* <DEPRECATED> */ body.p-mod-override-cursor *, /* </DEPRECATED> */
body.lm-mod-override-cursor * {
  cursor: inherit !important;
}

/*-----------------------------------------------------------------------------
| Copyright (c) 2014-2016, Jupyter Development Team.
|
| Distributed under the terms of the Modified BSD License.
|----------------------------------------------------------------------------*/

.jp-JSONEditor {
  display: flex;
  flex-direction: column;
  width: 100%;
}

.jp-JSONEditor-host {
  flex: 1 1 auto;
  border: var(--jp-border-width) solid var(--jp-input-border-color);
  border-radius: 0px;
  background: var(--jp-layout-color0);
  min-height: 50px;
  padding: 1px;
}

.jp-JSONEditor.jp-mod-error .jp-JSONEditor-host {
  border-color: red;
  outline-color: red;
}

.jp-JSONEditor-header {
  display: flex;
  flex: 1 0 auto;
  padding: 0 0 0 12px;
}

.jp-JSONEditor-header label {
  flex: 0 0 auto;
}

.jp-JSONEditor-commitButton {
  height: 16px;
  width: 16px;
  background-size: 18px;
  background-repeat: no-repeat;
  background-position: center;
}

.jp-JSONEditor-host.jp-mod-focused {
  background-color: var(--jp-input-active-background);
  border: 1px solid var(--jp-input-active-border-color);
  box-shadow: var(--jp-input-box-shadow);
}

.jp-Editor.jp-mod-dropTarget {
  border: var(--jp-border-width) solid var(--jp-input-active-border-color);
  box-shadow: var(--jp-input-box-shadow);
}

/* BASICS */

.CodeMirror {
  /* Set height, width, borders, and global font properties here */
  font-family: monospace;
  height: 300px;
  color: black;
  direction: ltr;
}

/* PADDING */

.CodeMirror-lines {
  padding: 4px 0; /* Vertical padding around content */
}
.CodeMirror pre.CodeMirror-line,
.CodeMirror pre.CodeMirror-line-like {
  padding: 0 4px; /* Horizontal padding of content */
}

.CodeMirror-scrollbar-filler, .CodeMirror-gutter-filler {
  background-color: white; /* The little square between H and V scrollbars */
}

/* GUTTER */

.CodeMirror-gutters {
  border-right: 1px solid #ddd;
  background-color: #f7f7f7;
  white-space: nowrap;
}
.CodeMirror-linenumbers {}
.CodeMirror-linenumber {
  padding: 0 3px 0 5px;
  min-width: 20px;
  text-align: right;
  color: #999;
  white-space: nowrap;
}

.CodeMirror-guttermarker { color: black; }
.CodeMirror-guttermarker-subtle { color: #999; }

/* CURSOR */

.CodeMirror-cursor {
  border-left: 1px solid black;
  border-right: none;
  width: 0;
}
/* Shown when moving in bi-directional text */
.CodeMirror div.CodeMirror-secondarycursor {
  border-left: 1px solid silver;
}
.cm-fat-cursor .CodeMirror-cursor {
  width: auto;
  border: 0 !important;
  background: #7e7;
}
.cm-fat-cursor div.CodeMirror-cursors {
  z-index: 1;
}
.cm-fat-cursor-mark {
  background-color: rgba(20, 255, 20, 0.5);
  -webkit-animation: blink 1.06s steps(1) infinite;
  -moz-animation: blink 1.06s steps(1) infinite;
  animation: blink 1.06s steps(1) infinite;
}
.cm-animate-fat-cursor {
  width: auto;
  border: 0;
  -webkit-animation: blink 1.06s steps(1) infinite;
  -moz-animation: blink 1.06s steps(1) infinite;
  animation: blink 1.06s steps(1) infinite;
  background-color: #7e7;
}
@-moz-keyframes blink {
  0% {}
  50% { background-color: transparent; }
  100% {}
}
@-webkit-keyframes blink {
  0% {}
  50% { background-color: transparent; }
  100% {}
}
@keyframes blink {
  0% {}
  50% { background-color: transparent; }
  100% {}
}

/* Can style cursor different in overwrite (non-insert) mode */
.CodeMirror-overwrite .CodeMirror-cursor {}

.cm-tab { display: inline-block; text-decoration: inherit; }

.CodeMirror-rulers {
  position: absolute;
  left: 0; right: 0; top: -50px; bottom: 0;
  overflow: hidden;
}
.CodeMirror-ruler {
  border-left: 1px solid #ccc;
  top: 0; bottom: 0;
  position: absolute;
}

/* DEFAULT THEME */

.cm-s-default .cm-header {color: blue;}
.cm-s-default .cm-quote {color: #090;}
.cm-negative {color: #d44;}
.cm-positive {color: #292;}
.cm-header, .cm-strong {font-weight: bold;}
.cm-em {font-style: italic;}
.cm-link {text-decoration: underline;}
.cm-strikethrough {text-decoration: line-through;}

.cm-s-default .cm-keyword {color: #708;}
.cm-s-default .cm-atom {color: #219;}
.cm-s-default .cm-number {color: #164;}
.cm-s-default .cm-def {color: #00f;}
.cm-s-default .cm-variable,
.cm-s-default .cm-punctuation,
.cm-s-default .cm-property,
.cm-s-default .cm-operator {}
.cm-s-default .cm-variable-2 {color: #05a;}
.cm-s-default .cm-variable-3, .cm-s-default .cm-type {color: #085;}
.cm-s-default .cm-comment {color: #a50;}
.cm-s-default .cm-string {color: #a11;}
.cm-s-default .cm-string-2 {color: #f50;}
.cm-s-default .cm-meta {color: #555;}
.cm-s-default .cm-qualifier {color: #555;}
.cm-s-default .cm-builtin {color: #30a;}
.cm-s-default .cm-bracket {color: #997;}
.cm-s-default .cm-tag {color: #170;}
.cm-s-default .cm-attribute {color: #00c;}
.cm-s-default .cm-hr {color: #999;}
.cm-s-default .cm-link {color: #00c;}

.cm-s-default .cm-error {color: #f00;}
.cm-invalidchar {color: #f00;}

.CodeMirror-composing { border-bottom: 2px solid; }

/* Default styles for common addons */

div.CodeMirror span.CodeMirror-matchingbracket {color: #0b0;}
div.CodeMirror span.CodeMirror-nonmatchingbracket {color: #a22;}
.CodeMirror-matchingtag { background: rgba(255, 150, 0, .3); }
.CodeMirror-activeline-background {background: #e8f2ff;}

/* STOP */

/* The rest of this file contains styles related to the mechanics of
   the editor. You probably shouldn't touch them. */

.CodeMirror {
  position: relative;
  overflow: hidden;
  background: white;
}

.CodeMirror-scroll {
  overflow: scroll !important; /* Things will break if this is overridden */
  /* 50px is the magic margin used to hide the element's real scrollbars */
  /* See overflow: hidden in .CodeMirror */
  margin-bottom: -50px; margin-right: -50px;
  padding-bottom: 50px;
  height: 100%;
  outline: none; /* Prevent dragging from highlighting the element */
  position: relative;
}
.CodeMirror-sizer {
  position: relative;
  border-right: 50px solid transparent;
}

/* The fake, visible scrollbars. Used to force redraw during scrolling
   before actual scrolling happens, thus preventing shaking and
   flickering artifacts. */
.CodeMirror-vscrollbar, .CodeMirror-hscrollbar, .CodeMirror-scrollbar-filler, .CodeMirror-gutter-filler {
  position: absolute;
  z-index: 6;
  display: none;
  outline: none;
}
.CodeMirror-vscrollbar {
  right: 0; top: 0;
  overflow-x: hidden;
  overflow-y: scroll;
}
.CodeMirror-hscrollbar {
  bottom: 0; left: 0;
  overflow-y: hidden;
  overflow-x: scroll;
}
.CodeMirror-scrollbar-filler {
  right: 0; bottom: 0;
}
.CodeMirror-gutter-filler {
  left: 0; bottom: 0;
}

.CodeMirror-gutters {
  position: absolute; left: 0; top: 0;
  min-height: 100%;
  z-index: 3;
}
.CodeMirror-gutter {
  white-space: normal;
  height: 100%;
  display: inline-block;
  vertical-align: top;
  margin-bottom: -50px;
}
.CodeMirror-gutter-wrapper {
  position: absolute;
  z-index: 4;
  background: none !important;
  border: none !important;
}
.CodeMirror-gutter-background {
  position: absolute;
  top: 0; bottom: 0;
  z-index: 4;
}
.CodeMirror-gutter-elt {
  position: absolute;
  cursor: default;
  z-index: 4;
}
.CodeMirror-gutter-wrapper ::selection { background-color: transparent }
.CodeMirror-gutter-wrapper ::-moz-selection { background-color: transparent }

.CodeMirror-lines {
  cursor: text;
  min-height: 1px; /* prevents collapsing before first draw */
}
.CodeMirror pre.CodeMirror-line,
.CodeMirror pre.CodeMirror-line-like {
  /* Reset some styles that the rest of the page might have set */
  -moz-border-radius: 0; -webkit-border-radius: 0; border-radius: 0;
  border-width: 0;
  background: transparent;
  font-family: inherit;
  font-size: inherit;
  margin: 0;
  white-space: pre;
  word-wrap: normal;
  line-height: inherit;
  color: inherit;
  z-index: 2;
  position: relative;
  overflow: visible;
  -webkit-tap-highlight-color: transparent;
  -webkit-font-variant-ligatures: contextual;
  font-variant-ligatures: contextual;
}
.CodeMirror-wrap pre.CodeMirror-line,
.CodeMirror-wrap pre.CodeMirror-line-like {
  word-wrap: break-word;
  white-space: pre-wrap;
  word-break: normal;
}

.CodeMirror-linebackground {
  position: absolute;
  left: 0; right: 0; top: 0; bottom: 0;
  z-index: 0;
}

.CodeMirror-linewidget {
  position: relative;
  z-index: 2;
  padding: 0.1px; /* Force widget margins to stay inside of the container */
}

.CodeMirror-widget {}

.CodeMirror-rtl pre { direction: rtl; }

.CodeMirror-code {
  outline: none;
}

/* Force content-box sizing for the elements where we expect it */
.CodeMirror-scroll,
.CodeMirror-sizer,
.CodeMirror-gutter,
.CodeMirror-gutters,
.CodeMirror-linenumber {
  -moz-box-sizing: content-box;
  box-sizing: content-box;
}

.CodeMirror-measure {
  position: absolute;
  width: 100%;
  height: 0;
  overflow: hidden;
  visibility: hidden;
}

.CodeMirror-cursor {
  position: absolute;
  pointer-events: none;
}
.CodeMirror-measure pre { position: static; }

div.CodeMirror-cursors {
  visibility: hidden;
  position: relative;
  z-index: 3;
}
div.CodeMirror-dragcursors {
  visibility: visible;
}

.CodeMirror-focused div.CodeMirror-cursors {
  visibility: visible;
}

.CodeMirror-selected { background: #d9d9d9; }
.CodeMirror-focused .CodeMirror-selected { background: #d7d4f0; }
.CodeMirror-crosshair { cursor: crosshair; }
.CodeMirror-line::selection, .CodeMirror-line > span::selection, .CodeMirror-line > span > span::selection { background: #d7d4f0; }
.CodeMirror-line::-moz-selection, .CodeMirror-line > span::-moz-selection, .CodeMirror-line > span > span::-moz-selection { background: #d7d4f0; }

.cm-searching {
  background-color: #ffa;
  background-color: rgba(255, 255, 0, .4);
}

/* Used to force a border model for a node */
.cm-force-border { padding-right: .1px; }

@media print {
  /* Hide the cursor when printing */
  .CodeMirror div.CodeMirror-cursors {
    visibility: hidden;
  }
}

/* See issue #2901 */
.cm-tab-wrap-hack:after { content: ''; }

/* Help users use markselection to safely style text background */
span.CodeMirror-selectedtext { background: none; }

.CodeMirror-dialog {
  position: absolute;
  left: 0; right: 0;
  background: inherit;
  z-index: 15;
  padding: .1em .8em;
  overflow: hidden;
  color: inherit;
}

.CodeMirror-dialog-top {
  border-bottom: 1px solid #eee;
  top: 0;
}

.CodeMirror-dialog-bottom {
  border-top: 1px solid #eee;
  bottom: 0;
}

.CodeMirror-dialog input {
  border: none;
  outline: none;
  background: transparent;
  width: 20em;
  color: inherit;
  font-family: monospace;
}

.CodeMirror-dialog button {
  font-size: 70%;
}

.CodeMirror-foldmarker {
  color: blue;
  text-shadow: #b9f 1px 1px 2px, #b9f -1px -1px 2px, #b9f 1px -1px 2px, #b9f -1px 1px 2px;
  font-family: arial;
  line-height: .3;
  cursor: pointer;
}
.CodeMirror-foldgutter {
  width: .7em;
}
.CodeMirror-foldgutter-open,
.CodeMirror-foldgutter-folded {
  cursor: pointer;
}
.CodeMirror-foldgutter-open:after {
  content: "\25BE";
}
.CodeMirror-foldgutter-folded:after {
  content: "\25B8";
}

/*-----------------------------------------------------------------------------
| Copyright (c) Jupyter Development Team.
| Distributed under the terms of the Modified BSD License.
|----------------------------------------------------------------------------*/

.CodeMirror {
  line-height: var(--jp-code-line-height);
  font-size: var(--jp-code-font-size);
  font-family: var(--jp-code-font-family);
  border: 0;
  border-radius: 0;
  height: auto;
  /* Changed to auto to autogrow */
}

.CodeMirror pre {
  padding: 0 var(--jp-code-padding);
}

.jp-CodeMirrorEditor[data-type='inline'] .CodeMirror-dialog {
  background-color: var(--jp-layout-color0);
  color: var(--jp-content-font-color1);
}

/* This causes https://github.com/jupyter/jupyterlab/issues/522 */
/* May not cause it not because we changed it! */
.CodeMirror-lines {
  padding: var(--jp-code-padding) 0;
}

.CodeMirror-linenumber {
  padding: 0 8px;
}

.jp-CodeMirrorEditor {
  cursor: text;
}

.jp-CodeMirrorEditor[data-type='inline'] .CodeMirror-cursor {
  border-left: var(--jp-code-cursor-width0) solid var(--jp-editor-cursor-color);
}

/* When zoomed out 67% and 33% on a screen of 1440 width x 900 height */
@media screen and (min-width: 2138px) and (max-width: 4319px) {
  .jp-CodeMirrorEditor[data-type='inline'] .CodeMirror-cursor {
    border-left: var(--jp-code-cursor-width1) solid
      var(--jp-editor-cursor-color);
  }
}

/* When zoomed out less than 33% */
@media screen and (min-width: 4320px) {
  .jp-CodeMirrorEditor[data-type='inline'] .CodeMirror-cursor {
    border-left: var(--jp-code-cursor-width2) solid
      var(--jp-editor-cursor-color);
  }
}

.CodeMirror.jp-mod-readOnly .CodeMirror-cursor {
  display: none;
}

.CodeMirror-gutters {
  border-right: 1px solid var(--jp-border-color2);
  background-color: var(--jp-layout-color0);
}

.jp-CollaboratorCursor {
  border-left: 5px solid transparent;
  border-right: 5px solid transparent;
  border-top: none;
  border-bottom: 3px solid;
  background-clip: content-box;
  margin-left: -5px;
  margin-right: -5px;
}

.CodeMirror-selectedtext.cm-searching {
  background-color: var(--jp-search-selected-match-background-color) !important;
  color: var(--jp-search-selected-match-color) !important;
}

.cm-searching {
  background-color: var(
    --jp-search-unselected-match-background-color
  ) !important;
  color: var(--jp-search-unselected-match-color) !important;
}

.CodeMirror-focused .CodeMirror-selected {
  background-color: var(--jp-editor-selected-focused-background);
}

.CodeMirror-selected {
  background-color: var(--jp-editor-selected-background);
}

.jp-CollaboratorCursor-hover {
  position: absolute;
  z-index: 1;
  transform: translateX(-50%);
  color: white;
  border-radius: 3px;
  padding-left: 4px;
  padding-right: 4px;
  padding-top: 1px;
  padding-bottom: 1px;
  text-align: center;
  font-size: var(--jp-ui-font-size1);
  white-space: nowrap;
}

.jp-CodeMirror-ruler {
  border-left: 1px dashed var(--jp-border-color2);
}

/**
 * Here is our jupyter theme for CodeMirror syntax highlighting
 * This is used in our marked.js syntax highlighting and CodeMirror itself
 * The string "jupyter" is set in ../codemirror/widget.DEFAULT_CODEMIRROR_THEME
 * This came from the classic notebook, which came form highlight.js/GitHub
 */

/**
 * CodeMirror themes are handling the background/color in this way. This works
 * fine for CodeMirror editors outside the notebook, but the notebook styles
 * these things differently.
 */
.CodeMirror.cm-s-jupyter {
  background: var(--jp-layout-color0);
  color: var(--jp-content-font-color1);
}

/* In the notebook, we want this styling to be handled by its container */
.jp-CodeConsole .CodeMirror.cm-s-jupyter,
.jp-Notebook .CodeMirror.cm-s-jupyter {
  background: transparent;
}

.cm-s-jupyter .CodeMirror-cursor {
  border-left: var(--jp-code-cursor-width0) solid var(--jp-editor-cursor-color);
}
.cm-s-jupyter span.cm-keyword {
  color: var(--jp-mirror-editor-keyword-color);
  font-weight: bold;
}
.cm-s-jupyter span.cm-atom {
  color: var(--jp-mirror-editor-atom-color);
}
.cm-s-jupyter span.cm-number {
  color: var(--jp-mirror-editor-number-color);
}
.cm-s-jupyter span.cm-def {
  color: var(--jp-mirror-editor-def-color);
}
.cm-s-jupyter span.cm-variable {
  color: var(--jp-mirror-editor-variable-color);
}
.cm-s-jupyter span.cm-variable-2 {
  color: var(--jp-mirror-editor-variable-2-color);
}
.cm-s-jupyter span.cm-variable-3 {
  color: var(--jp-mirror-editor-variable-3-color);
}
.cm-s-jupyter span.cm-punctuation {
  color: var(--jp-mirror-editor-punctuation-color);
}
.cm-s-jupyter span.cm-property {
  color: var(--jp-mirror-editor-property-color);
}
.cm-s-jupyter span.cm-operator {
  color: var(--jp-mirror-editor-operator-color);
  font-weight: bold;
}
.cm-s-jupyter span.cm-comment {
  color: var(--jp-mirror-editor-comment-color);
  font-style: italic;
}
.cm-s-jupyter span.cm-string {
  color: var(--jp-mirror-editor-string-color);
}
.cm-s-jupyter span.cm-string-2 {
  color: var(--jp-mirror-editor-string-2-color);
}
.cm-s-jupyter span.cm-meta {
  color: var(--jp-mirror-editor-meta-color);
}
.cm-s-jupyter span.cm-qualifier {
  color: var(--jp-mirror-editor-qualifier-color);
}
.cm-s-jupyter span.cm-builtin {
  color: var(--jp-mirror-editor-builtin-color);
}
.cm-s-jupyter span.cm-bracket {
  color: var(--jp-mirror-editor-bracket-color);
}
.cm-s-jupyter span.cm-tag {
  color: var(--jp-mirror-editor-tag-color);
}
.cm-s-jupyter span.cm-attribute {
  color: var(--jp-mirror-editor-attribute-color);
}
.cm-s-jupyter span.cm-header {
  color: var(--jp-mirror-editor-header-color);
}
.cm-s-jupyter span.cm-quote {
  color: var(--jp-mirror-editor-quote-color);
}
.cm-s-jupyter span.cm-link {
  color: var(--jp-mirror-editor-link-color);
}
.cm-s-jupyter span.cm-error {
  color: var(--jp-mirror-editor-error-color);
}
.cm-s-jupyter span.cm-hr {
  color: #999;
}

.cm-s-jupyter span.cm-tab {
  background: url(data:image/png;base64,iVBORw0KGgoAAAANSUhEUgAAADAAAAAMCAYAAAAkuj5RAAAAAXNSR0IArs4c6QAAAGFJREFUSMft1LsRQFAQheHPowAKoACx3IgEKtaEHujDjORSgWTH/ZOdnZOcM/sgk/kFFWY0qV8foQwS4MKBCS3qR6ixBJvElOobYAtivseIE120FaowJPN75GMu8j/LfMwNjh4HUpwg4LUAAAAASUVORK5CYII=);
  background-position: right;
  background-repeat: no-repeat;
}

.cm-s-jupyter .CodeMirror-activeline-background,
.cm-s-jupyter .CodeMirror-gutter {
  background-color: var(--jp-layout-color2);
}

/* Styles for shared cursors (remote cursor locations and selected ranges) */
.jp-CodeMirrorEditor .remote-caret {
  position: relative;
  border-left: 2px solid black;
  margin-left: -1px;
  margin-right: -1px;
  box-sizing: border-box;
}

.jp-CodeMirrorEditor .remote-caret > div {
  white-space: nowrap;
  position: absolute;
  top: -1.15em;
  padding-bottom: 0.05em;
  left: -2px;
  font-size: 0.95em;
  background-color: rgb(250, 129, 0);
  font-family: var(--jp-ui-font-family);
  font-weight: bold;
  line-height: normal;
  user-select: none;
  color: white;
  padding-left: 2px;
  padding-right: 2px;
  z-index: 3;
  transition: opacity 0.3s ease-in-out;
}

.jp-CodeMirrorEditor .remote-caret.hide-name > div {
  transition-delay: 0.7s;
  opacity: 0;
}

.jp-CodeMirrorEditor .remote-caret:hover > div {
  opacity: 1;
  transition-delay: 0s;
}

/*-----------------------------------------------------------------------------
| Copyright (c) Jupyter Development Team.
| Distributed under the terms of the Modified BSD License.
|----------------------------------------------------------------------------*/

/*-----------------------------------------------------------------------------
| RenderedText
|----------------------------------------------------------------------------*/

:root {
  /* This is the padding value to fill the gaps between lines containing spans with background color. */
  --jp-private-code-span-padding: calc(
    (var(--jp-code-line-height) - 1) * var(--jp-code-font-size) / 2
  );
}

.jp-RenderedText {
  text-align: left;
  padding-left: var(--jp-code-padding);
  line-height: var(--jp-code-line-height);
  font-family: var(--jp-code-font-family);
}

.jp-RenderedText pre,
.jp-RenderedJavaScript pre,
.jp-RenderedHTMLCommon pre {
  color: var(--jp-content-font-color1);
  font-size: var(--jp-code-font-size);
  border: none;
  margin: 0px;
  padding: 0px;
}

.jp-RenderedText pre a:link {
  text-decoration: none;
  color: var(--jp-content-link-color);
}
.jp-RenderedText pre a:hover {
  text-decoration: underline;
  color: var(--jp-content-link-color);
}
.jp-RenderedText pre a:visited {
  text-decoration: none;
  color: var(--jp-content-link-color);
}

/* console foregrounds and backgrounds */
.jp-RenderedText pre .ansi-black-fg {
  color: #3e424d;
}
.jp-RenderedText pre .ansi-red-fg {
  color: #e75c58;
}
.jp-RenderedText pre .ansi-green-fg {
  color: #00a250;
}
.jp-RenderedText pre .ansi-yellow-fg {
  color: #ddb62b;
}
.jp-RenderedText pre .ansi-blue-fg {
  color: #208ffb;
}
.jp-RenderedText pre .ansi-magenta-fg {
  color: #d160c4;
}
.jp-RenderedText pre .ansi-cyan-fg {
  color: #60c6c8;
}
.jp-RenderedText pre .ansi-white-fg {
  color: #c5c1b4;
}

.jp-RenderedText pre .ansi-black-bg {
  background-color: #3e424d;
  padding: var(--jp-private-code-span-padding) 0;
}
.jp-RenderedText pre .ansi-red-bg {
  background-color: #e75c58;
  padding: var(--jp-private-code-span-padding) 0;
}
.jp-RenderedText pre .ansi-green-bg {
  background-color: #00a250;
  padding: var(--jp-private-code-span-padding) 0;
}
.jp-RenderedText pre .ansi-yellow-bg {
  background-color: #ddb62b;
  padding: var(--jp-private-code-span-padding) 0;
}
.jp-RenderedText pre .ansi-blue-bg {
  background-color: #208ffb;
  padding: var(--jp-private-code-span-padding) 0;
}
.jp-RenderedText pre .ansi-magenta-bg {
  background-color: #d160c4;
  padding: var(--jp-private-code-span-padding) 0;
}
.jp-RenderedText pre .ansi-cyan-bg {
  background-color: #60c6c8;
  padding: var(--jp-private-code-span-padding) 0;
}
.jp-RenderedText pre .ansi-white-bg {
  background-color: #c5c1b4;
  padding: var(--jp-private-code-span-padding) 0;
}

.jp-RenderedText pre .ansi-black-intense-fg {
  color: #282c36;
}
.jp-RenderedText pre .ansi-red-intense-fg {
  color: #b22b31;
}
.jp-RenderedText pre .ansi-green-intense-fg {
  color: #007427;
}
.jp-RenderedText pre .ansi-yellow-intense-fg {
  color: #b27d12;
}
.jp-RenderedText pre .ansi-blue-intense-fg {
  color: #0065ca;
}
.jp-RenderedText pre .ansi-magenta-intense-fg {
  color: #a03196;
}
.jp-RenderedText pre .ansi-cyan-intense-fg {
  color: #258f8f;
}
.jp-RenderedText pre .ansi-white-intense-fg {
  color: #a1a6b2;
}

.jp-RenderedText pre .ansi-black-intense-bg {
  background-color: #282c36;
  padding: var(--jp-private-code-span-padding) 0;
}
.jp-RenderedText pre .ansi-red-intense-bg {
  background-color: #b22b31;
  padding: var(--jp-private-code-span-padding) 0;
}
.jp-RenderedText pre .ansi-green-intense-bg {
  background-color: #007427;
  padding: var(--jp-private-code-span-padding) 0;
}
.jp-RenderedText pre .ansi-yellow-intense-bg {
  background-color: #b27d12;
  padding: var(--jp-private-code-span-padding) 0;
}
.jp-RenderedText pre .ansi-blue-intense-bg {
  background-color: #0065ca;
  padding: var(--jp-private-code-span-padding) 0;
}
.jp-RenderedText pre .ansi-magenta-intense-bg {
  background-color: #a03196;
  padding: var(--jp-private-code-span-padding) 0;
}
.jp-RenderedText pre .ansi-cyan-intense-bg {
  background-color: #258f8f;
  padding: var(--jp-private-code-span-padding) 0;
}
.jp-RenderedText pre .ansi-white-intense-bg {
  background-color: #a1a6b2;
  padding: var(--jp-private-code-span-padding) 0;
}

.jp-RenderedText pre .ansi-default-inverse-fg {
  color: var(--jp-ui-inverse-font-color0);
}
.jp-RenderedText pre .ansi-default-inverse-bg {
  background-color: var(--jp-inverse-layout-color0);
  padding: var(--jp-private-code-span-padding) 0;
}

.jp-RenderedText pre .ansi-bold {
  font-weight: bold;
}
.jp-RenderedText pre .ansi-underline {
  text-decoration: underline;
}

.jp-RenderedText[data-mime-type='application/vnd.jupyter.stderr'] {
  background: var(--jp-rendermime-error-background);
  padding-top: var(--jp-code-padding);
}

/*-----------------------------------------------------------------------------
| RenderedLatex
|----------------------------------------------------------------------------*/

.jp-RenderedLatex {
  color: var(--jp-content-font-color1);
  font-size: var(--jp-content-font-size1);
  line-height: var(--jp-content-line-height);
}

/* Left-justify outputs.*/
.jp-OutputArea-output.jp-RenderedLatex {
  padding: var(--jp-code-padding);
  text-align: left;
}

/*-----------------------------------------------------------------------------
| RenderedHTML
|----------------------------------------------------------------------------*/

.jp-RenderedHTMLCommon {
  color: var(--jp-content-font-color1);
  font-family: var(--jp-content-font-family);
  font-size: var(--jp-content-font-size1);
  line-height: var(--jp-content-line-height);
  /* Give a bit more R padding on Markdown text to keep line lengths reasonable */
  padding-right: 20px;
}

.jp-RenderedHTMLCommon em {
  font-style: italic;
}

.jp-RenderedHTMLCommon strong {
  font-weight: bold;
}

.jp-RenderedHTMLCommon u {
  text-decoration: underline;
}

.jp-RenderedHTMLCommon a:link {
  text-decoration: none;
  color: var(--jp-content-link-color);
}

.jp-RenderedHTMLCommon a:hover {
  text-decoration: underline;
  color: var(--jp-content-link-color);
}

.jp-RenderedHTMLCommon a:visited {
  text-decoration: none;
  color: var(--jp-content-link-color);
}

/* Headings */

.jp-RenderedHTMLCommon h1,
.jp-RenderedHTMLCommon h2,
.jp-RenderedHTMLCommon h3,
.jp-RenderedHTMLCommon h4,
.jp-RenderedHTMLCommon h5,
.jp-RenderedHTMLCommon h6 {
  line-height: var(--jp-content-heading-line-height);
  font-weight: var(--jp-content-heading-font-weight);
  font-style: normal;
  margin: var(--jp-content-heading-margin-top) 0
    var(--jp-content-heading-margin-bottom) 0;
}

.jp-RenderedHTMLCommon h1:first-child,
.jp-RenderedHTMLCommon h2:first-child,
.jp-RenderedHTMLCommon h3:first-child,
.jp-RenderedHTMLCommon h4:first-child,
.jp-RenderedHTMLCommon h5:first-child,
.jp-RenderedHTMLCommon h6:first-child {
  margin-top: calc(0.5 * var(--jp-content-heading-margin-top));
}

.jp-RenderedHTMLCommon h1:last-child,
.jp-RenderedHTMLCommon h2:last-child,
.jp-RenderedHTMLCommon h3:last-child,
.jp-RenderedHTMLCommon h4:last-child,
.jp-RenderedHTMLCommon h5:last-child,
.jp-RenderedHTMLCommon h6:last-child {
  margin-bottom: calc(0.5 * var(--jp-content-heading-margin-bottom));
}

.jp-RenderedHTMLCommon h1 {
  font-size: var(--jp-content-font-size5);
}

.jp-RenderedHTMLCommon h2 {
  font-size: var(--jp-content-font-size4);
}

.jp-RenderedHTMLCommon h3 {
  font-size: var(--jp-content-font-size3);
}

.jp-RenderedHTMLCommon h4 {
  font-size: var(--jp-content-font-size2);
}

.jp-RenderedHTMLCommon h5 {
  font-size: var(--jp-content-font-size1);
}

.jp-RenderedHTMLCommon h6 {
  font-size: var(--jp-content-font-size0);
}

/* Lists */

.jp-RenderedHTMLCommon ul:not(.list-inline),
.jp-RenderedHTMLCommon ol:not(.list-inline) {
  padding-left: 2em;
}

.jp-RenderedHTMLCommon ul {
  list-style: disc;
}

.jp-RenderedHTMLCommon ul ul {
  list-style: square;
}

.jp-RenderedHTMLCommon ul ul ul {
  list-style: circle;
}

.jp-RenderedHTMLCommon ol {
  list-style: decimal;
}

.jp-RenderedHTMLCommon ol ol {
  list-style: upper-alpha;
}

.jp-RenderedHTMLCommon ol ol ol {
  list-style: lower-alpha;
}

.jp-RenderedHTMLCommon ol ol ol ol {
  list-style: lower-roman;
}

.jp-RenderedHTMLCommon ol ol ol ol ol {
  list-style: decimal;
}

.jp-RenderedHTMLCommon ol,
.jp-RenderedHTMLCommon ul {
  margin-bottom: 1em;
}

.jp-RenderedHTMLCommon ul ul,
.jp-RenderedHTMLCommon ul ol,
.jp-RenderedHTMLCommon ol ul,
.jp-RenderedHTMLCommon ol ol {
  margin-bottom: 0em;
}

.jp-RenderedHTMLCommon hr {
  color: var(--jp-border-color2);
  background-color: var(--jp-border-color1);
  margin-top: 1em;
  margin-bottom: 1em;
}

.jp-RenderedHTMLCommon > pre {
  margin: 1.5em 2em;
}

.jp-RenderedHTMLCommon pre,
.jp-RenderedHTMLCommon code {
  border: 0;
  background-color: var(--jp-layout-color0);
  color: var(--jp-content-font-color1);
  font-family: var(--jp-code-font-family);
  font-size: inherit;
  line-height: var(--jp-code-line-height);
  padding: 0;
  white-space: pre-wrap;
}

.jp-RenderedHTMLCommon :not(pre) > code {
  background-color: var(--jp-layout-color2);
  padding: 1px 5px;
}

/* Tables */

.jp-RenderedHTMLCommon table {
  border-collapse: collapse;
  border-spacing: 0;
  border: none;
  color: var(--jp-ui-font-color1);
  font-size: 12px;
  table-layout: fixed;
  margin-left: auto;
  margin-right: auto;
}

.jp-RenderedHTMLCommon thead {
  border-bottom: var(--jp-border-width) solid var(--jp-border-color1);
  vertical-align: bottom;
}

.jp-RenderedHTMLCommon td,
.jp-RenderedHTMLCommon th,
.jp-RenderedHTMLCommon tr {
  vertical-align: middle;
  padding: 0.5em 0.5em;
  line-height: normal;
  white-space: normal;
  max-width: none;
  border: none;
}

.jp-RenderedMarkdown.jp-RenderedHTMLCommon td,
.jp-RenderedMarkdown.jp-RenderedHTMLCommon th {
  max-width: none;
}

:not(.jp-RenderedMarkdown).jp-RenderedHTMLCommon td,
:not(.jp-RenderedMarkdown).jp-RenderedHTMLCommon th,
:not(.jp-RenderedMarkdown).jp-RenderedHTMLCommon tr {
  text-align: right;
}

.jp-RenderedHTMLCommon th {
  font-weight: bold;
}

.jp-RenderedHTMLCommon tbody tr:nth-child(odd) {
  background: var(--jp-layout-color0);
}

.jp-RenderedHTMLCommon tbody tr:nth-child(even) {
  background: var(--jp-rendermime-table-row-background);
}

.jp-RenderedHTMLCommon tbody tr:hover {
  background: var(--jp-rendermime-table-row-hover-background);
}

.jp-RenderedHTMLCommon table {
  margin-bottom: 1em;
}

.jp-RenderedHTMLCommon p {
  text-align: left;
  margin: 0px;
}

.jp-RenderedHTMLCommon p {
  margin-bottom: 1em;
}

.jp-RenderedHTMLCommon img {
  -moz-force-broken-image-icon: 1;
}

/* Restrict to direct children as other images could be nested in other content. */
.jp-RenderedHTMLCommon > img {
  display: block;
  margin-left: 0;
  margin-right: 0;
  margin-bottom: 1em;
}

/* Change color behind transparent images if they need it... */
[data-jp-theme-light='false'] .jp-RenderedImage img.jp-needs-light-background {
  background-color: var(--jp-inverse-layout-color1);
}
[data-jp-theme-light='true'] .jp-RenderedImage img.jp-needs-dark-background {
  background-color: var(--jp-inverse-layout-color1);
}
/* ...or leave it untouched if they don't */
[data-jp-theme-light='false'] .jp-RenderedImage img.jp-needs-dark-background {
}
[data-jp-theme-light='true'] .jp-RenderedImage img.jp-needs-light-background {
}

.jp-RenderedHTMLCommon img,
.jp-RenderedImage img,
.jp-RenderedHTMLCommon svg,
.jp-RenderedSVG svg {
  max-width: 100%;
  height: auto;
}

.jp-RenderedHTMLCommon img.jp-mod-unconfined,
.jp-RenderedImage img.jp-mod-unconfined,
.jp-RenderedHTMLCommon svg.jp-mod-unconfined,
.jp-RenderedSVG svg.jp-mod-unconfined {
  max-width: none;
}

.jp-RenderedHTMLCommon .alert {
  padding: var(--jp-notebook-padding);
  border: var(--jp-border-width) solid transparent;
  border-radius: var(--jp-border-radius);
  margin-bottom: 1em;
}

.jp-RenderedHTMLCommon .alert-info {
  color: var(--jp-info-color0);
  background-color: var(--jp-info-color3);
  border-color: var(--jp-info-color2);
}
.jp-RenderedHTMLCommon .alert-info hr {
  border-color: var(--jp-info-color3);
}
.jp-RenderedHTMLCommon .alert-info > p:last-child,
.jp-RenderedHTMLCommon .alert-info > ul:last-child {
  margin-bottom: 0;
}

.jp-RenderedHTMLCommon .alert-warning {
  color: var(--jp-warn-color0);
  background-color: var(--jp-warn-color3);
  border-color: var(--jp-warn-color2);
}
.jp-RenderedHTMLCommon .alert-warning hr {
  border-color: var(--jp-warn-color3);
}
.jp-RenderedHTMLCommon .alert-warning > p:last-child,
.jp-RenderedHTMLCommon .alert-warning > ul:last-child {
  margin-bottom: 0;
}

.jp-RenderedHTMLCommon .alert-success {
  color: var(--jp-success-color0);
  background-color: var(--jp-success-color3);
  border-color: var(--jp-success-color2);
}
.jp-RenderedHTMLCommon .alert-success hr {
  border-color: var(--jp-success-color3);
}
.jp-RenderedHTMLCommon .alert-success > p:last-child,
.jp-RenderedHTMLCommon .alert-success > ul:last-child {
  margin-bottom: 0;
}

.jp-RenderedHTMLCommon .alert-danger {
  color: var(--jp-error-color0);
  background-color: var(--jp-error-color3);
  border-color: var(--jp-error-color2);
}
.jp-RenderedHTMLCommon .alert-danger hr {
  border-color: var(--jp-error-color3);
}
.jp-RenderedHTMLCommon .alert-danger > p:last-child,
.jp-RenderedHTMLCommon .alert-danger > ul:last-child {
  margin-bottom: 0;
}

.jp-RenderedHTMLCommon blockquote {
  margin: 1em 2em;
  padding: 0 1em;
  border-left: 5px solid var(--jp-border-color2);
}

a.jp-InternalAnchorLink {
  visibility: hidden;
  margin-left: 8px;
  color: var(--md-blue-800);
}

h1:hover .jp-InternalAnchorLink,
h2:hover .jp-InternalAnchorLink,
h3:hover .jp-InternalAnchorLink,
h4:hover .jp-InternalAnchorLink,
h5:hover .jp-InternalAnchorLink,
h6:hover .jp-InternalAnchorLink {
  visibility: visible;
}

.jp-RenderedHTMLCommon kbd {
  background-color: var(--jp-rendermime-table-row-background);
  border: 1px solid var(--jp-border-color0);
  border-bottom-color: var(--jp-border-color2);
  border-radius: 3px;
  box-shadow: inset 0 -1px 0 rgba(0, 0, 0, 0.25);
  display: inline-block;
  font-size: 0.8em;
  line-height: 1em;
  padding: 0.2em 0.5em;
}

/* Most direct children of .jp-RenderedHTMLCommon have a margin-bottom of 1.0.
 * At the bottom of cells this is a bit too much as there is also spacing
 * between cells. Going all the way to 0 gets too tight between markdown and
 * code cells.
 */
.jp-RenderedHTMLCommon > *:last-child {
  margin-bottom: 0.5em;
}

/*-----------------------------------------------------------------------------
| Copyright (c) Jupyter Development Team.
| Distributed under the terms of the Modified BSD License.
|----------------------------------------------------------------------------*/

.jp-MimeDocument {
  outline: none;
}

/*-----------------------------------------------------------------------------
| Copyright (c) Jupyter Development Team.
| Distributed under the terms of the Modified BSD License.
|----------------------------------------------------------------------------*/

/*-----------------------------------------------------------------------------
| Variables
|----------------------------------------------------------------------------*/

:root {
  --jp-private-filebrowser-button-height: 28px;
  --jp-private-filebrowser-button-width: 48px;
}

/*-----------------------------------------------------------------------------
| Copyright (c) Jupyter Development Team.
| Distributed under the terms of the Modified BSD License.
|----------------------------------------------------------------------------*/

.jp-FileBrowser {
  display: flex;
  flex-direction: column;
  color: var(--jp-ui-font-color1);
  background: var(--jp-layout-color1);
  /* This is needed so that all font sizing of children done in ems is
   * relative to this base size */
  font-size: var(--jp-ui-font-size1);
}

.jp-FileBrowser-toolbar.jp-Toolbar {
  border-bottom: none;
  height: auto;
  margin: var(--jp-toolbar-header-margin);
  box-shadow: none;
}

.jp-BreadCrumbs {
  flex: 0 0 auto;
  margin: 8px 12px 8px 12px;
}

.jp-BreadCrumbs-item {
  margin: 0px 2px;
  padding: 0px 2px;
  border-radius: var(--jp-border-radius);
  cursor: pointer;
}

.jp-BreadCrumbs-item:hover {
  background-color: var(--jp-layout-color2);
}

.jp-BreadCrumbs-item:first-child {
  margin-left: 0px;
}

.jp-BreadCrumbs-item.jp-mod-dropTarget {
  background-color: var(--jp-brand-color2);
  opacity: 0.7;
}

/*-----------------------------------------------------------------------------
| Buttons
|----------------------------------------------------------------------------*/

.jp-FileBrowser-toolbar.jp-Toolbar {
  padding: 0px;
  margin: 8px 12px 0px 12px;
}

.jp-FileBrowser-toolbar.jp-Toolbar {
  justify-content: flex-start;
}

.jp-FileBrowser-toolbar.jp-Toolbar .jp-Toolbar-item {
  flex: 0 0 auto;
  padding-left: 0px;
  padding-right: 2px;
}

.jp-FileBrowser-toolbar.jp-Toolbar .jp-ToolbarButtonComponent {
  width: 40px;
}

.jp-FileBrowser-toolbar.jp-Toolbar
  .jp-Toolbar-item:first-child
  .jp-ToolbarButtonComponent {
  width: 72px;
  background: var(--jp-brand-color1);
}

.jp-FileBrowser-toolbar.jp-Toolbar
  .jp-Toolbar-item:first-child
  .jp-ToolbarButtonComponent:focus-visible {
  background-color: var(--jp-brand-color0);
}

.jp-FileBrowser-toolbar.jp-Toolbar
  .jp-Toolbar-item:first-child
  .jp-ToolbarButtonComponent
  .jp-icon3 {
  fill: white;
}

/*-----------------------------------------------------------------------------
| Other styles
|----------------------------------------------------------------------------*/

.jp-FileDialog.jp-mod-conflict input {
  color: var(--jp-error-color1);
}

.jp-FileDialog .jp-new-name-title {
  margin-top: 12px;
}

.jp-LastModified-hidden {
  display: none;
}

.jp-FileBrowser-filterBox {
  padding: 0px;
  flex: 0 0 auto;
  margin: 8px 12px 0px 12px;
}

/*-----------------------------------------------------------------------------
| DirListing
|----------------------------------------------------------------------------*/

.jp-DirListing {
  flex: 1 1 auto;
  display: flex;
  flex-direction: column;
  outline: 0;
}

.jp-DirListing:focus-visible {
  border: 1px solid var(--jp-brand-color1);
}

.jp-DirListing-header {
  flex: 0 0 auto;
  display: flex;
  flex-direction: row;
  overflow: hidden;
  border-top: var(--jp-border-width) solid var(--jp-border-color2);
  border-bottom: var(--jp-border-width) solid var(--jp-border-color1);
  box-shadow: var(--jp-toolbar-box-shadow);
  z-index: 2;
}

.jp-DirListing-headerItem {
  padding: 4px 12px 2px 12px;
  font-weight: 500;
}

.jp-DirListing-headerItem:hover {
  background: var(--jp-layout-color2);
}

.jp-DirListing-headerItem.jp-id-name {
  flex: 1 0 84px;
}

.jp-DirListing-headerItem.jp-id-modified {
  flex: 0 0 112px;
  border-left: var(--jp-border-width) solid var(--jp-border-color2);
  text-align: right;
}

.jp-id-narrow {
  display: none;
  flex: 0 0 5px;
  padding: 4px 4px;
  border-left: var(--jp-border-width) solid var(--jp-border-color2);
  text-align: right;
  color: var(--jp-border-color2);
}

.jp-DirListing-narrow .jp-id-narrow {
  display: block;
}

.jp-DirListing-narrow .jp-id-modified,
.jp-DirListing-narrow .jp-DirListing-itemModified {
  display: none;
}

.jp-DirListing-headerItem.jp-mod-selected {
  font-weight: 600;
}

/* increase specificity to override bundled default */
.jp-DirListing-content {
  flex: 1 1 auto;
  margin: 0;
  padding: 0;
  list-style-type: none;
  overflow: auto;
  background-color: var(--jp-layout-color1);
}

.jp-DirListing-content mark {
  color: var(--jp-ui-font-color0);
  background-color: transparent;
  font-weight: bold;
}

.jp-DirListing-content .jp-DirListing-item.jp-mod-selected mark {
  color: var(--jp-ui-inverse-font-color0);
}

/* Style the directory listing content when a user drops a file to upload */
.jp-DirListing.jp-mod-native-drop .jp-DirListing-content {
  outline: 5px dashed rgba(128, 128, 128, 0.5);
  outline-offset: -10px;
  cursor: copy;
}

.jp-DirListing-item {
  display: flex;
  flex-direction: row;
  padding: 4px 12px;
  -webkit-user-select: none;
  -moz-user-select: none;
  -ms-user-select: none;
  user-select: none;
}

.jp-DirListing-item[data-is-dot] {
  opacity: 75%;
}

.jp-DirListing-item.jp-mod-selected {
  color: var(--jp-ui-inverse-font-color1);
  background: var(--jp-brand-color1);
}

.jp-DirListing-item.jp-mod-dropTarget {
  background: var(--jp-brand-color3);
}

.jp-DirListing-item:hover:not(.jp-mod-selected) {
  background: var(--jp-layout-color2);
}

.jp-DirListing-itemIcon {
  flex: 0 0 20px;
  margin-right: 4px;
}

.jp-DirListing-itemText {
  flex: 1 0 64px;
  white-space: nowrap;
  overflow: hidden;
  text-overflow: ellipsis;
  user-select: none;
}

.jp-DirListing-itemModified {
  flex: 0 0 125px;
  text-align: right;
}

.jp-DirListing-editor {
  flex: 1 0 64px;
  outline: none;
  border: none;
}

.jp-DirListing-item.jp-mod-running .jp-DirListing-itemIcon:before {
  color: var(--jp-success-color1);
  content: '\25CF';
  font-size: 8px;
  position: absolute;
  left: -8px;
}

.jp-DirListing-item.jp-mod-running.jp-mod-selected
  .jp-DirListing-itemIcon:before {
  color: var(--jp-ui-inverse-font-color1);
}

.jp-DirListing-item.lm-mod-drag-image,
.jp-DirListing-item.jp-mod-selected.lm-mod-drag-image {
  font-size: var(--jp-ui-font-size1);
  padding-left: 4px;
  margin-left: 4px;
  width: 160px;
  background-color: var(--jp-ui-inverse-font-color2);
  box-shadow: var(--jp-elevation-z2);
  border-radius: 0px;
  color: var(--jp-ui-font-color1);
  transform: translateX(-40%) translateY(-58%);
}

.jp-DirListing-deadSpace {
  flex: 1 1 auto;
  margin: 0;
  padding: 0;
  list-style-type: none;
  overflow: auto;
  background-color: var(--jp-layout-color1);
}

.jp-Document {
  min-width: 120px;
  min-height: 120px;
  outline: none;
}

/*-----------------------------------------------------------------------------
| Copyright (c) Jupyter Development Team.
| Distributed under the terms of the Modified BSD License.
|----------------------------------------------------------------------------*/

/*-----------------------------------------------------------------------------
| Private CSS variables
|----------------------------------------------------------------------------*/

:root {
}

/*-----------------------------------------------------------------------------
| Main OutputArea
| OutputArea has a list of Outputs
|----------------------------------------------------------------------------*/

.jp-OutputArea {
  overflow-y: auto;
}

.jp-OutputArea-child {
  display: flex;
  flex-direction: row;
}

body[data-format='mobile'] .jp-OutputArea-child {
  flex-direction: column;
}

.jp-OutputPrompt {
  flex: 0 0 var(--jp-cell-prompt-width);
  color: var(--jp-cell-outprompt-font-color);
  font-family: var(--jp-cell-prompt-font-family);
  padding: var(--jp-code-padding);
  letter-spacing: var(--jp-cell-prompt-letter-spacing);
  line-height: var(--jp-code-line-height);
  font-size: var(--jp-code-font-size);
  border: var(--jp-border-width) solid transparent;
  opacity: var(--jp-cell-prompt-opacity);
  /* Right align prompt text, don't wrap to handle large prompt numbers */
  text-align: right;
  white-space: nowrap;
  overflow: hidden;
  text-overflow: ellipsis;
  /* Disable text selection */
  -webkit-user-select: none;
  -moz-user-select: none;
  -ms-user-select: none;
  user-select: none;
}

body[data-format='mobile'] .jp-OutputPrompt {
  flex: 0 0 auto;
  text-align: left;
}

.jp-OutputArea-output {
  height: auto;
  overflow: auto;
  user-select: text;
  -moz-user-select: text;
  -webkit-user-select: text;
  -ms-user-select: text;
}

.jp-OutputArea-child .jp-OutputArea-output {
  flex-grow: 1;
  flex-shrink: 1;
}

body[data-format='mobile'] .jp-OutputArea-child .jp-OutputArea-output {
  margin-left: var(--jp-notebook-padding);
}

/**
 * Isolated output.
 */
.jp-OutputArea-output.jp-mod-isolated {
  width: 100%;
  display: block;
}

/*
When drag events occur, `p-mod-override-cursor` is added to the body.
Because iframes steal all cursor events, the following two rules are necessary
to suppress pointer events while resize drags are occurring. There may be a
better solution to this problem.
*/
body.lm-mod-override-cursor .jp-OutputArea-output.jp-mod-isolated {
  position: relative;
}

body.lm-mod-override-cursor .jp-OutputArea-output.jp-mod-isolated:before {
  content: '';
  position: absolute;
  top: 0;
  left: 0;
  right: 0;
  bottom: 0;
  background: transparent;
}

/* pre */

.jp-OutputArea-output pre {
  border: none;
  margin: 0px;
  padding: 0px;
  overflow-x: auto;
  overflow-y: auto;
  word-break: break-all;
  word-wrap: break-word;
  white-space: pre-wrap;
}

/* tables */

.jp-OutputArea-output.jp-RenderedHTMLCommon table {
  margin-left: 0;
  margin-right: 0;
}

/* description lists */

.jp-OutputArea-output dl,
.jp-OutputArea-output dt,
.jp-OutputArea-output dd {
  display: block;
}

.jp-OutputArea-output dl {
  width: 100%;
  overflow: hidden;
  padding: 0;
  margin: 0;
}

.jp-OutputArea-output dt {
  font-weight: bold;
  float: left;
  width: 20%;
  padding: 0;
  margin: 0;
}

.jp-OutputArea-output dd {
  float: left;
  width: 80%;
  padding: 0;
  margin: 0;
}

/* Hide the gutter in case of
 *  - nested output areas (e.g. in the case of output widgets)
 *  - mirrored output areas
 */
.jp-OutputArea .jp-OutputArea .jp-OutputArea-prompt {
  display: none;
}

/*-----------------------------------------------------------------------------
| executeResult is added to any Output-result for the display of the object
| returned by a cell
|----------------------------------------------------------------------------*/

.jp-OutputArea-output.jp-OutputArea-executeResult {
  margin-left: 0px;
  flex: 1 1 auto;
}

/* Text output with the Out[] prompt needs a top padding to match the
 * alignment of the Out[] prompt itself.
 */
.jp-OutputArea-executeResult .jp-RenderedText.jp-OutputArea-output {
  padding-top: var(--jp-code-padding);
  border-top: var(--jp-border-width) solid transparent;
}

/*-----------------------------------------------------------------------------
| The Stdin output
|----------------------------------------------------------------------------*/

.jp-OutputArea-stdin {
  line-height: var(--jp-code-line-height);
  padding-top: var(--jp-code-padding);
  display: flex;
}

.jp-Stdin-prompt {
  color: var(--jp-content-font-color0);
  padding-right: var(--jp-code-padding);
  vertical-align: baseline;
  flex: 0 0 auto;
}

.jp-Stdin-input {
  font-family: var(--jp-code-font-family);
  font-size: inherit;
  color: inherit;
  background-color: inherit;
  width: 42%;
  min-width: 200px;
  /* make sure input baseline aligns with prompt */
  vertical-align: baseline;
  /* padding + margin = 0.5em between prompt and cursor */
  padding: 0em 0.25em;
  margin: 0em 0.25em;
  flex: 0 0 70%;
}

.jp-Stdin-input:focus {
  box-shadow: none;
}

/*-----------------------------------------------------------------------------
| Output Area View
|----------------------------------------------------------------------------*/

.jp-LinkedOutputView .jp-OutputArea {
  height: 100%;
  display: block;
}

.jp-LinkedOutputView .jp-OutputArea-output:only-child {
  height: 100%;
}

/*-----------------------------------------------------------------------------
| Copyright (c) Jupyter Development Team.
| Distributed under the terms of the Modified BSD License.
|----------------------------------------------------------------------------*/

.jp-Collapser {
  flex: 0 0 var(--jp-cell-collapser-width);
  padding: 0px;
  margin: 0px;
  border: none;
  outline: none;
  background: transparent;
  border-radius: var(--jp-border-radius);
  opacity: 1;
}

.jp-Collapser-child {
  display: block;
  width: 100%;
  box-sizing: border-box;
  /* height: 100% doesn't work because the height of its parent is computed from content */
  position: absolute;
  top: 0px;
  bottom: 0px;
}

/*-----------------------------------------------------------------------------
| Copyright (c) Jupyter Development Team.
| Distributed under the terms of the Modified BSD License.
|----------------------------------------------------------------------------*/

/*-----------------------------------------------------------------------------
| Header/Footer
|----------------------------------------------------------------------------*/

/* Hidden by zero height by default */
.jp-CellHeader,
.jp-CellFooter {
  height: 0px;
  width: 100%;
  padding: 0px;
  margin: 0px;
  border: none;
  outline: none;
  background: transparent;
}

/*-----------------------------------------------------------------------------
| Copyright (c) Jupyter Development Team.
| Distributed under the terms of the Modified BSD License.
|----------------------------------------------------------------------------*/

/*-----------------------------------------------------------------------------
| Input
|----------------------------------------------------------------------------*/

/* All input areas */
.jp-InputArea {
  display: flex;
  flex-direction: row;
  overflow: hidden;
}

body[data-format='mobile'] .jp-InputArea {
  flex-direction: column;
}

.jp-InputArea-editor {
  flex: 1 1 auto;
  overflow: hidden;
}

.jp-InputArea-editor {
  /* This is the non-active, default styling */
  border: var(--jp-border-width) solid var(--jp-cell-editor-border-color);
  border-radius: 0px;
  background: var(--jp-cell-editor-background);
}

body[data-format='mobile'] .jp-InputArea-editor {
  margin-left: var(--jp-notebook-padding);
}

.jp-InputPrompt {
  flex: 0 0 var(--jp-cell-prompt-width);
  color: var(--jp-cell-inprompt-font-color);
  font-family: var(--jp-cell-prompt-font-family);
  padding: var(--jp-code-padding);
  letter-spacing: var(--jp-cell-prompt-letter-spacing);
  opacity: var(--jp-cell-prompt-opacity);
  line-height: var(--jp-code-line-height);
  font-size: var(--jp-code-font-size);
  border: var(--jp-border-width) solid transparent;
  opacity: var(--jp-cell-prompt-opacity);
  /* Right align prompt text, don't wrap to handle large prompt numbers */
  text-align: right;
  white-space: nowrap;
  overflow: hidden;
  text-overflow: ellipsis;
  /* Disable text selection */
  -webkit-user-select: none;
  -moz-user-select: none;
  -ms-user-select: none;
  user-select: none;
}

body[data-format='mobile'] .jp-InputPrompt {
  flex: 0 0 auto;
  text-align: left;
}

/*-----------------------------------------------------------------------------
| Copyright (c) Jupyter Development Team.
| Distributed under the terms of the Modified BSD License.
|----------------------------------------------------------------------------*/

/*-----------------------------------------------------------------------------
| Placeholder
|----------------------------------------------------------------------------*/

.jp-Placeholder {
  display: flex;
  flex-direction: row;
  flex: 1 1 auto;
}

.jp-Placeholder-prompt {
  box-sizing: border-box;
}

.jp-Placeholder-content {
  flex: 1 1 auto;
  border: none;
  background: transparent;
  height: 20px;
  box-sizing: border-box;
}

.jp-Placeholder-content .jp-MoreHorizIcon {
  width: 32px;
  height: 16px;
  border: 1px solid transparent;
  border-radius: var(--jp-border-radius);
}

.jp-Placeholder-content .jp-MoreHorizIcon:hover {
  border: 1px solid var(--jp-border-color1);
  box-shadow: 0px 0px 2px 0px rgba(0, 0, 0, 0.25);
  background-color: var(--jp-layout-color0);
}

/*-----------------------------------------------------------------------------
| Copyright (c) Jupyter Development Team.
| Distributed under the terms of the Modified BSD License.
|----------------------------------------------------------------------------*/

/*-----------------------------------------------------------------------------
| Private CSS variables
|----------------------------------------------------------------------------*/

:root {
  --jp-private-cell-scrolling-output-offset: 5px;
}

/*-----------------------------------------------------------------------------
| Cell
|----------------------------------------------------------------------------*/

.jp-Cell {
  padding: var(--jp-cell-padding);
  margin: 0px;
  border: none;
  outline: none;
  background: transparent;
}

/*-----------------------------------------------------------------------------
| Common input/output
|----------------------------------------------------------------------------*/

.jp-Cell-inputWrapper,
.jp-Cell-outputWrapper {
  display: flex;
  flex-direction: row;
  padding: 0px;
  margin: 0px;
  /* Added to reveal the box-shadow on the input and output collapsers. */
  overflow: visible;
}

/* Only input/output areas inside cells */
.jp-Cell-inputArea,
.jp-Cell-outputArea {
  flex: 1 1 auto;
}

/*-----------------------------------------------------------------------------
| Collapser
|----------------------------------------------------------------------------*/

/* Make the output collapser disappear when there is not output, but do so
 * in a manner that leaves it in the layout and preserves its width.
 */
.jp-Cell.jp-mod-noOutputs .jp-Cell-outputCollapser {
  border: none !important;
  background: transparent !important;
}

.jp-Cell:not(.jp-mod-noOutputs) .jp-Cell-outputCollapser {
  min-height: var(--jp-cell-collapser-min-height);
}

/*-----------------------------------------------------------------------------
| Output
|----------------------------------------------------------------------------*/

/* Put a space between input and output when there IS output */
.jp-Cell:not(.jp-mod-noOutputs) .jp-Cell-outputWrapper {
  margin-top: 5px;
}

.jp-CodeCell.jp-mod-outputsScrolled .jp-Cell-outputArea {
  overflow-y: auto;
  max-height: 200px;
  box-shadow: inset 0 0 6px 2px rgba(0, 0, 0, 0.3);
  margin-left: var(--jp-private-cell-scrolling-output-offset);
}

.jp-CodeCell.jp-mod-outputsScrolled .jp-OutputArea-prompt {
  flex: 0 0
    calc(
      var(--jp-cell-prompt-width) -
        var(--jp-private-cell-scrolling-output-offset)
    );
}

/*-----------------------------------------------------------------------------
| CodeCell
|----------------------------------------------------------------------------*/

/*-----------------------------------------------------------------------------
| MarkdownCell
|----------------------------------------------------------------------------*/

.jp-MarkdownOutput {
  flex: 1 1 auto;
  margin-top: 0;
  margin-bottom: 0;
  padding-left: var(--jp-code-padding);
}

.jp-MarkdownOutput.jp-RenderedHTMLCommon {
  overflow: auto;
}

.jp-showHiddenCellsButton {
  margin-left: calc(var(--jp-cell-prompt-width) + 2 * var(--jp-code-padding));
  margin-top: var(--jp-code-padding);
  border: 1px solid var(--jp-border-color2);
  background-color: var(--jp-border-color3) !important;
  color: var(--jp-content-font-color0) !important;
}

.jp-showHiddenCellsButton:hover {
  background-color: var(--jp-border-color2) !important;
}

.jp-collapseHeadingButton {
  display: none;
}

.jp-MarkdownCell:hover .jp-collapseHeadingButton {
  display: flex;
  min-height: var(--jp-cell-collapser-min-height);
  position: absolute;
  right: 0;
  top: 0;
  bottom: 0;
}

/*-----------------------------------------------------------------------------
| Copyright (c) Jupyter Development Team.
| Distributed under the terms of the Modified BSD License.
|----------------------------------------------------------------------------*/

/*-----------------------------------------------------------------------------
| Copyright (c) Jupyter Development Team.
| Distributed under the terms of the Modified BSD License.
|----------------------------------------------------------------------------*/

/*-----------------------------------------------------------------------------
| Variables
|----------------------------------------------------------------------------*/

/*-----------------------------------------------------------------------------

/*-----------------------------------------------------------------------------
| Styles
|----------------------------------------------------------------------------*/

.jp-NotebookPanel-toolbar {
  padding: 2px;
}

.jp-Toolbar-item.jp-Notebook-toolbarCellType .jp-select-wrapper.jp-mod-focused {
  border: none;
  box-shadow: none;
}

.jp-Notebook-toolbarCellTypeDropdown select {
  height: 24px;
  font-size: var(--jp-ui-font-size1);
  line-height: 14px;
  border-radius: 0;
  display: block;
}

.jp-Notebook-toolbarCellTypeDropdown span {
  top: 5px !important;
}

/*-----------------------------------------------------------------------------
| Copyright (c) Jupyter Development Team.
| Distributed under the terms of the Modified BSD License.
|----------------------------------------------------------------------------*/

/*-----------------------------------------------------------------------------
| Private CSS variables
|----------------------------------------------------------------------------*/

:root {
  --jp-private-notebook-dragImage-width: 304px;
  --jp-private-notebook-dragImage-height: 36px;
  --jp-private-notebook-selected-color: var(--md-blue-400);
  --jp-private-notebook-active-color: var(--md-green-400);
}

/*-----------------------------------------------------------------------------
| Imports
|----------------------------------------------------------------------------*/

/*-----------------------------------------------------------------------------
| Notebook
|----------------------------------------------------------------------------*/

.jp-NotebookPanel {
  display: block;
  height: 100%;
}

.jp-NotebookPanel.jp-Document {
  min-width: 240px;
  min-height: 120px;
}

.jp-Notebook {
  padding: var(--jp-notebook-padding);
  outline: none;
  overflow: auto;
  background: var(--jp-layout-color0);
}

.jp-Notebook.jp-mod-scrollPastEnd::after {
  display: block;
  content: '';
  min-height: var(--jp-notebook-scroll-padding);
}

.jp-MainAreaWidget-ContainStrict .jp-Notebook * {
  contain: strict;
}

.jp-Notebook-render * {
  contain: none !important;
}

.jp-Notebook .jp-Cell {
  overflow: visible;
}

.jp-Notebook .jp-Cell .jp-InputPrompt {
  cursor: move;
  float: left;
}

/*-----------------------------------------------------------------------------
| Notebook state related styling
|
| The notebook and cells each have states, here are the possibilities:
|
| - Notebook
|   - Command
|   - Edit
| - Cell
|   - None
|   - Active (only one can be active)
|   - Selected (the cells actions are applied to)
|   - Multiselected (when multiple selected, the cursor)
|   - No outputs
|----------------------------------------------------------------------------*/

/* Command or edit modes */

.jp-Notebook .jp-Cell:not(.jp-mod-active) .jp-InputPrompt {
  opacity: var(--jp-cell-prompt-not-active-opacity);
  color: var(--jp-cell-prompt-not-active-font-color);
}

.jp-Notebook .jp-Cell:not(.jp-mod-active) .jp-OutputPrompt {
  opacity: var(--jp-cell-prompt-not-active-opacity);
  color: var(--jp-cell-prompt-not-active-font-color);
}

/* cell is active */
.jp-Notebook .jp-Cell.jp-mod-active .jp-Collapser {
  background: var(--jp-brand-color1);
}

/* cell is dirty */
.jp-Notebook .jp-Cell.jp-mod-dirty .jp-InputPrompt {
  color: var(--jp-warn-color1);
}
.jp-Notebook .jp-Cell.jp-mod-dirty .jp-InputPrompt:before {
  color: var(--jp-warn-color1);
  content: '•';
}

.jp-Notebook .jp-Cell.jp-mod-active.jp-mod-dirty .jp-Collapser {
  background: var(--jp-warn-color1);
}

/* collapser is hovered */
.jp-Notebook .jp-Cell .jp-Collapser:hover {
  box-shadow: var(--jp-elevation-z2);
  background: var(--jp-brand-color1);
  opacity: var(--jp-cell-collapser-not-active-hover-opacity);
}

/* cell is active and collapser is hovered */
.jp-Notebook .jp-Cell.jp-mod-active .jp-Collapser:hover {
  background: var(--jp-brand-color0);
  opacity: 1;
}

/* Command mode */

.jp-Notebook.jp-mod-commandMode .jp-Cell.jp-mod-selected {
  background: var(--jp-notebook-multiselected-color);
}

.jp-Notebook.jp-mod-commandMode
  .jp-Cell.jp-mod-active.jp-mod-selected:not(.jp-mod-multiSelected) {
  background: transparent;
}

/* Edit mode */

.jp-Notebook.jp-mod-editMode .jp-Cell.jp-mod-active .jp-InputArea-editor {
  border: var(--jp-border-width) solid var(--jp-cell-editor-active-border-color);
  box-shadow: var(--jp-input-box-shadow);
  background-color: var(--jp-cell-editor-active-background);
}

/*-----------------------------------------------------------------------------
| Notebook drag and drop
|----------------------------------------------------------------------------*/

.jp-Notebook-cell.jp-mod-dropSource {
  opacity: 0.5;
}

.jp-Notebook-cell.jp-mod-dropTarget,
.jp-Notebook.jp-mod-commandMode
  .jp-Notebook-cell.jp-mod-active.jp-mod-selected.jp-mod-dropTarget {
  border-top-color: var(--jp-private-notebook-selected-color);
  border-top-style: solid;
  border-top-width: 2px;
}

.jp-dragImage {
  display: block;
  flex-direction: row;
  width: var(--jp-private-notebook-dragImage-width);
  height: var(--jp-private-notebook-dragImage-height);
  border: var(--jp-border-width) solid var(--jp-cell-editor-border-color);
  background: var(--jp-cell-editor-background);
  overflow: visible;
}

.jp-dragImage-singlePrompt {
  box-shadow: 2px 2px 4px 0px rgba(0, 0, 0, 0.12);
}

.jp-dragImage .jp-dragImage-content {
  flex: 1 1 auto;
  z-index: 2;
  font-size: var(--jp-code-font-size);
  font-family: var(--jp-code-font-family);
  line-height: var(--jp-code-line-height);
  padding: var(--jp-code-padding);
  border: var(--jp-border-width) solid var(--jp-cell-editor-border-color);
  background: var(--jp-cell-editor-background-color);
  color: var(--jp-content-font-color3);
  text-align: left;
  margin: 4px 4px 4px 0px;
}

.jp-dragImage .jp-dragImage-prompt {
  flex: 0 0 auto;
  min-width: 36px;
  color: var(--jp-cell-inprompt-font-color);
  padding: var(--jp-code-padding);
  padding-left: 12px;
  font-family: var(--jp-cell-prompt-font-family);
  letter-spacing: var(--jp-cell-prompt-letter-spacing);
  line-height: 1.9;
  font-size: var(--jp-code-font-size);
  border: var(--jp-border-width) solid transparent;
}

.jp-dragImage-multipleBack {
  z-index: -1;
  position: absolute;
  height: 32px;
  width: 300px;
  top: 8px;
  left: 8px;
  background: var(--jp-layout-color2);
  border: var(--jp-border-width) solid var(--jp-input-border-color);
  box-shadow: 2px 2px 4px 0px rgba(0, 0, 0, 0.12);
}

/*-----------------------------------------------------------------------------
| Cell toolbar
|----------------------------------------------------------------------------*/

.jp-NotebookTools {
  display: block;
  min-width: var(--jp-sidebar-min-width);
  color: var(--jp-ui-font-color1);
  background: var(--jp-layout-color1);
  /* This is needed so that all font sizing of children done in ems is
    * relative to this base size */
  font-size: var(--jp-ui-font-size1);
  overflow: auto;
}

.jp-NotebookTools-tool {
  padding: 0px 12px 0 12px;
}

.jp-ActiveCellTool {
  padding: 12px;
  background-color: var(--jp-layout-color1);
  border-top: none !important;
}

.jp-ActiveCellTool .jp-InputArea-prompt {
  flex: 0 0 auto;
  padding-left: 0px;
}

.jp-ActiveCellTool .jp-InputArea-editor {
  flex: 1 1 auto;
  background: var(--jp-cell-editor-background);
  border-color: var(--jp-cell-editor-border-color);
}

.jp-ActiveCellTool .jp-InputArea-editor .CodeMirror {
  background: transparent;
}

.jp-MetadataEditorTool {
  flex-direction: column;
  padding: 12px 0px 12px 0px;
}

.jp-RankedPanel > :not(:first-child) {
  margin-top: 12px;
}

.jp-KeySelector select.jp-mod-styled {
  font-size: var(--jp-ui-font-size1);
  color: var(--jp-ui-font-color0);
  border: var(--jp-border-width) solid var(--jp-border-color1);
}

.jp-KeySelector label,
.jp-MetadataEditorTool label {
  line-height: 1.4;
}

.jp-NotebookTools .jp-select-wrapper {
  margin-top: 4px;
  margin-bottom: 0px;
}

.jp-NotebookTools .jp-Collapse {
  margin-top: 16px;
}

/*-----------------------------------------------------------------------------
| Presentation Mode (.jp-mod-presentationMode)
|----------------------------------------------------------------------------*/

.jp-mod-presentationMode .jp-Notebook {
  --jp-content-font-size1: var(--jp-content-presentation-font-size1);
  --jp-code-font-size: var(--jp-code-presentation-font-size);
}

.jp-mod-presentationMode .jp-Notebook .jp-Cell .jp-InputPrompt,
.jp-mod-presentationMode .jp-Notebook .jp-Cell .jp-OutputPrompt {
  flex: 0 0 110px;
}

/*-----------------------------------------------------------------------------
| Placeholder
|----------------------------------------------------------------------------*/

.jp-Cell-Placeholder {
  padding-left: 55px;
}

.jp-Cell-Placeholder-wrapper {
  background: #fff;
  border: 1px solid;
  border-color: #e5e6e9 #dfe0e4 #d0d1d5;
  border-radius: 4px;
  -webkit-border-radius: 4px;
  margin: 10px 15px;
}

.jp-Cell-Placeholder-wrapper-inner {
  padding: 15px;
  position: relative;
}

.jp-Cell-Placeholder-wrapper-body {
  background-repeat: repeat;
  background-size: 50% auto;
}

.jp-Cell-Placeholder-wrapper-body div {
  background: #f6f7f8;
  background-image: -webkit-linear-gradient(
    left,
    #f6f7f8 0%,
    #edeef1 20%,
    #f6f7f8 40%,
    #f6f7f8 100%
  );
  background-repeat: no-repeat;
  background-size: 800px 104px;
  height: 104px;
  position: relative;
}

.jp-Cell-Placeholder-wrapper-body div {
  position: absolute;
  right: 15px;
  left: 15px;
  top: 15px;
}

div.jp-Cell-Placeholder-h1 {
  top: 20px;
  height: 20px;
  left: 15px;
  width: 150px;
}

div.jp-Cell-Placeholder-h2 {
  left: 15px;
  top: 50px;
  height: 10px;
  width: 100px;
}

div.jp-Cell-Placeholder-content-1,
div.jp-Cell-Placeholder-content-2,
div.jp-Cell-Placeholder-content-3 {
  left: 15px;
  right: 15px;
  height: 10px;
}

div.jp-Cell-Placeholder-content-1 {
  top: 100px;
}

div.jp-Cell-Placeholder-content-2 {
  top: 120px;
}

div.jp-Cell-Placeholder-content-3 {
  top: 140px;
}

</style>

    <style type="text/css">
/*-----------------------------------------------------------------------------
| Copyright (c) Jupyter Development Team.
| Distributed under the terms of the Modified BSD License.
|----------------------------------------------------------------------------*/

/*
The following CSS variables define the main, public API for styling JupyterLab.
These variables should be used by all plugins wherever possible. In other
words, plugins should not define custom colors, sizes, etc unless absolutely
necessary. This enables users to change the visual theme of JupyterLab
by changing these variables.

Many variables appear in an ordered sequence (0,1,2,3). These sequences
are designed to work well together, so for example, `--jp-border-color1` should
be used with `--jp-layout-color1`. The numbers have the following meanings:

* 0: super-primary, reserved for special emphasis
* 1: primary, most important under normal situations
* 2: secondary, next most important under normal situations
* 3: tertiary, next most important under normal situations

Throughout JupyterLab, we are mostly following principles from Google's
Material Design when selecting colors. We are not, however, following
all of MD as it is not optimized for dense, information rich UIs.
*/

:root {
  /* Elevation
   *
   * We style box-shadows using Material Design's idea of elevation. These particular numbers are taken from here:
   *
   * https://github.com/material-components/material-components-web
   * https://material-components-web.appspot.com/elevation.html
   */

  --jp-shadow-base-lightness: 0;
  --jp-shadow-umbra-color: rgba(
    var(--jp-shadow-base-lightness),
    var(--jp-shadow-base-lightness),
    var(--jp-shadow-base-lightness),
    0.2
  );
  --jp-shadow-penumbra-color: rgba(
    var(--jp-shadow-base-lightness),
    var(--jp-shadow-base-lightness),
    var(--jp-shadow-base-lightness),
    0.14
  );
  --jp-shadow-ambient-color: rgba(
    var(--jp-shadow-base-lightness),
    var(--jp-shadow-base-lightness),
    var(--jp-shadow-base-lightness),
    0.12
  );
  --jp-elevation-z0: none;
  --jp-elevation-z1: 0px 2px 1px -1px var(--jp-shadow-umbra-color),
    0px 1px 1px 0px var(--jp-shadow-penumbra-color),
    0px 1px 3px 0px var(--jp-shadow-ambient-color);
  --jp-elevation-z2: 0px 3px 1px -2px var(--jp-shadow-umbra-color),
    0px 2px 2px 0px var(--jp-shadow-penumbra-color),
    0px 1px 5px 0px var(--jp-shadow-ambient-color);
  --jp-elevation-z4: 0px 2px 4px -1px var(--jp-shadow-umbra-color),
    0px 4px 5px 0px var(--jp-shadow-penumbra-color),
    0px 1px 10px 0px var(--jp-shadow-ambient-color);
  --jp-elevation-z6: 0px 3px 5px -1px var(--jp-shadow-umbra-color),
    0px 6px 10px 0px var(--jp-shadow-penumbra-color),
    0px 1px 18px 0px var(--jp-shadow-ambient-color);
  --jp-elevation-z8: 0px 5px 5px -3px var(--jp-shadow-umbra-color),
    0px 8px 10px 1px var(--jp-shadow-penumbra-color),
    0px 3px 14px 2px var(--jp-shadow-ambient-color);
  --jp-elevation-z12: 0px 7px 8px -4px var(--jp-shadow-umbra-color),
    0px 12px 17px 2px var(--jp-shadow-penumbra-color),
    0px 5px 22px 4px var(--jp-shadow-ambient-color);
  --jp-elevation-z16: 0px 8px 10px -5px var(--jp-shadow-umbra-color),
    0px 16px 24px 2px var(--jp-shadow-penumbra-color),
    0px 6px 30px 5px var(--jp-shadow-ambient-color);
  --jp-elevation-z20: 0px 10px 13px -6px var(--jp-shadow-umbra-color),
    0px 20px 31px 3px var(--jp-shadow-penumbra-color),
    0px 8px 38px 7px var(--jp-shadow-ambient-color);
  --jp-elevation-z24: 0px 11px 15px -7px var(--jp-shadow-umbra-color),
    0px 24px 38px 3px var(--jp-shadow-penumbra-color),
    0px 9px 46px 8px var(--jp-shadow-ambient-color);

  /* Borders
   *
   * The following variables, specify the visual styling of borders in JupyterLab.
   */

  --jp-border-width: 1px;
  --jp-border-color0: var(--md-grey-400);
  --jp-border-color1: var(--md-grey-400);
  --jp-border-color2: var(--md-grey-300);
  --jp-border-color3: var(--md-grey-200);
  --jp-border-radius: 2px;

  /* UI Fonts
   *
   * The UI font CSS variables are used for the typography all of the JupyterLab
   * user interface elements that are not directly user generated content.
   *
   * The font sizing here is done assuming that the body font size of --jp-ui-font-size1
   * is applied to a parent element. When children elements, such as headings, are sized
   * in em all things will be computed relative to that body size.
   */

  --jp-ui-font-scale-factor: 1.2;
  --jp-ui-font-size0: 0.83333em;
  --jp-ui-font-size1: 13px; /* Base font size */
  --jp-ui-font-size2: 1.2em;
  --jp-ui-font-size3: 1.44em;

  --jp-ui-font-family: -apple-system, BlinkMacSystemFont, 'Segoe UI', Helvetica,
    Arial, sans-serif, 'Apple Color Emoji', 'Segoe UI Emoji', 'Segoe UI Symbol';

  /*
   * Use these font colors against the corresponding main layout colors.
   * In a light theme, these go from dark to light.
   */

  /* Defaults use Material Design specification */
  --jp-ui-font-color0: rgba(0, 0, 0, 1);
  --jp-ui-font-color1: rgba(0, 0, 0, 0.87);
  --jp-ui-font-color2: rgba(0, 0, 0, 0.54);
  --jp-ui-font-color3: rgba(0, 0, 0, 0.38);

  /*
   * Use these against the brand/accent/warn/error colors.
   * These will typically go from light to darker, in both a dark and light theme.
   */

  --jp-ui-inverse-font-color0: rgba(255, 255, 255, 1);
  --jp-ui-inverse-font-color1: rgba(255, 255, 255, 1);
  --jp-ui-inverse-font-color2: rgba(255, 255, 255, 0.7);
  --jp-ui-inverse-font-color3: rgba(255, 255, 255, 0.5);

  /* Content Fonts
   *
   * Content font variables are used for typography of user generated content.
   *
   * The font sizing here is done assuming that the body font size of --jp-content-font-size1
   * is applied to a parent element. When children elements, such as headings, are sized
   * in em all things will be computed relative to that body size.
   */

  --jp-content-line-height: 1.6;
  --jp-content-font-scale-factor: 1.2;
  --jp-content-font-size0: 0.83333em;
  --jp-content-font-size1: 14px; /* Base font size */
  --jp-content-font-size2: 1.2em;
  --jp-content-font-size3: 1.44em;
  --jp-content-font-size4: 1.728em;
  --jp-content-font-size5: 2.0736em;

  /* This gives a magnification of about 125% in presentation mode over normal. */
  --jp-content-presentation-font-size1: 17px;

  --jp-content-heading-line-height: 1;
  --jp-content-heading-margin-top: 1.2em;
  --jp-content-heading-margin-bottom: 0.8em;
  --jp-content-heading-font-weight: 500;

  /* Defaults use Material Design specification */
  --jp-content-font-color0: rgba(0, 0, 0, 1);
  --jp-content-font-color1: rgba(0, 0, 0, 0.87);
  --jp-content-font-color2: rgba(0, 0, 0, 0.54);
  --jp-content-font-color3: rgba(0, 0, 0, 0.38);

  --jp-content-link-color: var(--md-blue-700);

  --jp-content-font-family: -apple-system, BlinkMacSystemFont, 'Segoe UI',
    Helvetica, Arial, sans-serif, 'Apple Color Emoji', 'Segoe UI Emoji',
    'Segoe UI Symbol';

  /*
   * Code Fonts
   *
   * Code font variables are used for typography of code and other monospaces content.
   */

  --jp-code-font-size: 13px;
  --jp-code-line-height: 1.3077; /* 17px for 13px base */
  --jp-code-padding: 5px; /* 5px for 13px base, codemirror highlighting needs integer px value */
  --jp-code-font-family-default: Menlo, Consolas, 'DejaVu Sans Mono', monospace;
  --jp-code-font-family: var(--jp-code-font-family-default);

  /* This gives a magnification of about 125% in presentation mode over normal. */
  --jp-code-presentation-font-size: 16px;

  /* may need to tweak cursor width if you change font size */
  --jp-code-cursor-width0: 1.4px;
  --jp-code-cursor-width1: 2px;
  --jp-code-cursor-width2: 4px;

  /* Layout
   *
   * The following are the main layout colors use in JupyterLab. In a light
   * theme these would go from light to dark.
   */

  --jp-layout-color0: white;
  --jp-layout-color1: white;
  --jp-layout-color2: var(--md-grey-200);
  --jp-layout-color3: var(--md-grey-400);
  --jp-layout-color4: var(--md-grey-600);

  /* Inverse Layout
   *
   * The following are the inverse layout colors use in JupyterLab. In a light
   * theme these would go from dark to light.
   */

  --jp-inverse-layout-color0: #111111;
  --jp-inverse-layout-color1: var(--md-grey-900);
  --jp-inverse-layout-color2: var(--md-grey-800);
  --jp-inverse-layout-color3: var(--md-grey-700);
  --jp-inverse-layout-color4: var(--md-grey-600);

  /* Brand/accent */

  --jp-brand-color0: var(--md-blue-900);
  --jp-brand-color1: var(--md-blue-700);
  --jp-brand-color2: var(--md-blue-300);
  --jp-brand-color3: var(--md-blue-100);
  --jp-brand-color4: var(--md-blue-50);

  --jp-accent-color0: var(--md-green-900);
  --jp-accent-color1: var(--md-green-700);
  --jp-accent-color2: var(--md-green-300);
  --jp-accent-color3: var(--md-green-100);

  /* State colors (warn, error, success, info) */

  --jp-warn-color0: var(--md-orange-900);
  --jp-warn-color1: var(--md-orange-700);
  --jp-warn-color2: var(--md-orange-300);
  --jp-warn-color3: var(--md-orange-100);

  --jp-error-color0: var(--md-red-900);
  --jp-error-color1: var(--md-red-700);
  --jp-error-color2: var(--md-red-300);
  --jp-error-color3: var(--md-red-100);

  --jp-success-color0: var(--md-green-900);
  --jp-success-color1: var(--md-green-700);
  --jp-success-color2: var(--md-green-300);
  --jp-success-color3: var(--md-green-100);

  --jp-info-color0: var(--md-cyan-900);
  --jp-info-color1: var(--md-cyan-700);
  --jp-info-color2: var(--md-cyan-300);
  --jp-info-color3: var(--md-cyan-100);

  /* Cell specific styles */

  --jp-cell-padding: 5px;

  --jp-cell-collapser-width: 8px;
  --jp-cell-collapser-min-height: 20px;
  --jp-cell-collapser-not-active-hover-opacity: 0.6;

  --jp-cell-editor-background: var(--md-grey-100);
  --jp-cell-editor-border-color: var(--md-grey-300);
  --jp-cell-editor-box-shadow: inset 0 0 2px var(--md-blue-300);
  --jp-cell-editor-active-background: var(--jp-layout-color0);
  --jp-cell-editor-active-border-color: var(--jp-brand-color1);

  --jp-cell-prompt-width: 64px;
  --jp-cell-prompt-font-family: var(--jp-code-font-family-default);
  --jp-cell-prompt-letter-spacing: 0px;
  --jp-cell-prompt-opacity: 1;
  --jp-cell-prompt-not-active-opacity: 0.5;
  --jp-cell-prompt-not-active-font-color: var(--md-grey-700);
  /* A custom blend of MD grey and blue 600
   * See https://meyerweb.com/eric/tools/color-blend/#546E7A:1E88E5:5:hex */
  --jp-cell-inprompt-font-color: #307fc1;
  /* A custom blend of MD grey and orange 600
   * https://meyerweb.com/eric/tools/color-blend/#546E7A:F4511E:5:hex */
  --jp-cell-outprompt-font-color: #bf5b3d;

  /* Notebook specific styles */

  --jp-notebook-padding: 10px;
  --jp-notebook-select-background: var(--jp-layout-color1);
  --jp-notebook-multiselected-color: var(--md-blue-50);

  /* The scroll padding is calculated to fill enough space at the bottom of the
  notebook to show one single-line cell (with appropriate padding) at the top
  when the notebook is scrolled all the way to the bottom. We also subtract one
  pixel so that no scrollbar appears if we have just one single-line cell in the
  notebook. This padding is to enable a 'scroll past end' feature in a notebook.
  */
  --jp-notebook-scroll-padding: calc(
    100% - var(--jp-code-font-size) * var(--jp-code-line-height) -
      var(--jp-code-padding) - var(--jp-cell-padding) - 1px
  );

  /* Rendermime styles */

  --jp-rendermime-error-background: #fdd;
  --jp-rendermime-table-row-background: var(--md-grey-100);
  --jp-rendermime-table-row-hover-background: var(--md-light-blue-50);

  /* Dialog specific styles */

  --jp-dialog-background: rgba(0, 0, 0, 0.25);

  /* Console specific styles */

  --jp-console-padding: 10px;

  /* Toolbar specific styles */

  --jp-toolbar-border-color: var(--jp-border-color1);
  --jp-toolbar-micro-height: 8px;
  --jp-toolbar-background: var(--jp-layout-color1);
  --jp-toolbar-box-shadow: 0px 0px 2px 0px rgba(0, 0, 0, 0.24);
  --jp-toolbar-header-margin: 4px 4px 0px 4px;
  --jp-toolbar-active-background: var(--md-grey-300);

  /* Statusbar specific styles */

  --jp-statusbar-height: 24px;

  /* Input field styles */

  --jp-input-box-shadow: inset 0 0 2px var(--md-blue-300);
  --jp-input-active-background: var(--jp-layout-color1);
  --jp-input-hover-background: var(--jp-layout-color1);
  --jp-input-background: var(--md-grey-100);
  --jp-input-border-color: var(--jp-border-color1);
  --jp-input-active-border-color: var(--jp-brand-color1);
  --jp-input-active-box-shadow-color: rgba(19, 124, 189, 0.3);

  /* General editor styles */

  --jp-editor-selected-background: #d9d9d9;
  --jp-editor-selected-focused-background: #d7d4f0;
  --jp-editor-cursor-color: var(--jp-ui-font-color0);

  /* Code mirror specific styles */

  --jp-mirror-editor-keyword-color: #008000;
  --jp-mirror-editor-atom-color: #88f;
  --jp-mirror-editor-number-color: #080;
  --jp-mirror-editor-def-color: #00f;
  --jp-mirror-editor-variable-color: var(--md-grey-900);
  --jp-mirror-editor-variable-2-color: #05a;
  --jp-mirror-editor-variable-3-color: #085;
  --jp-mirror-editor-punctuation-color: #05a;
  --jp-mirror-editor-property-color: #05a;
  --jp-mirror-editor-operator-color: #aa22ff;
  --jp-mirror-editor-comment-color: #408080;
  --jp-mirror-editor-string-color: #ba2121;
  --jp-mirror-editor-string-2-color: #708;
  --jp-mirror-editor-meta-color: #aa22ff;
  --jp-mirror-editor-qualifier-color: #555;
  --jp-mirror-editor-builtin-color: #008000;
  --jp-mirror-editor-bracket-color: #997;
  --jp-mirror-editor-tag-color: #170;
  --jp-mirror-editor-attribute-color: #00c;
  --jp-mirror-editor-header-color: blue;
  --jp-mirror-editor-quote-color: #090;
  --jp-mirror-editor-link-color: #00c;
  --jp-mirror-editor-error-color: #f00;
  --jp-mirror-editor-hr-color: #999;

  /* Vega extension styles */

  --jp-vega-background: white;

  /* Sidebar-related styles */

  --jp-sidebar-min-width: 250px;

  /* Search-related styles */

  --jp-search-toggle-off-opacity: 0.5;
  --jp-search-toggle-hover-opacity: 0.8;
  --jp-search-toggle-on-opacity: 1;
  --jp-search-selected-match-background-color: rgb(245, 200, 0);
  --jp-search-selected-match-color: black;
  --jp-search-unselected-match-background-color: var(
    --jp-inverse-layout-color0
  );
  --jp-search-unselected-match-color: var(--jp-ui-inverse-font-color0);

  /* Icon colors that work well with light or dark backgrounds */
  --jp-icon-contrast-color0: var(--md-purple-600);
  --jp-icon-contrast-color1: var(--md-green-600);
  --jp-icon-contrast-color2: var(--md-pink-600);
  --jp-icon-contrast-color3: var(--md-blue-600);
}
</style>

<style type="text/css">
/* Force rendering true colors when outputing to pdf */
* {
  -webkit-print-color-adjust: exact;
}

/* Misc */
a.anchor-link {
  display: none;
}

/* Input area styling */
.jp-InputArea {
  overflow: hidden;
}

.jp-InputArea-editor {
  overflow: hidden;
}

.CodeMirror.cm-s-jupyter .highlight pre {
/* weird, but --jp-code-padding defined to be 5px but 4px horizontal padding is hardcoded for pre.CodeMirror-line */
  padding: var(--jp-code-padding) 4px;
  margin: 0;

  font-family: inherit;
  font-size: inherit;
  line-height: inherit;
  color: inherit;

}

.jp-OutputArea-output pre {
  line-height: inherit;
  font-family: inherit;
}

.jp-RenderedText pre {
  color: var(--jp-content-font-color1);
  font-size: var(--jp-code-font-size);
}

/* Using table instead of flexbox so that we can use break-inside property */
/* CSS rules under this comment should not be required anymore after we move to the JupyterLab 4.0 CSS */


.jp-CodeCell.jp-mod-outputsScrolled .jp-OutputArea-prompt {
  min-width: calc(
    var(--jp-cell-prompt-width) - var(--jp-private-cell-scrolling-output-offset)
  );
}

.jp-OutputArea-child {
  display: table;
  width: 100%;
}

.jp-OutputPrompt {
  display: table-cell;
  vertical-align: top;
  min-width: var(--jp-cell-prompt-width);
}

body[data-format='mobile'] .jp-OutputPrompt {
  display: table-row;
}

.jp-OutputArea-output {
  display: table-cell;
  width: 100%;
}

body[data-format='mobile'] .jp-OutputArea-child .jp-OutputArea-output {
  display: table-row;
}

.jp-OutputArea-output.jp-OutputArea-executeResult {
  width: 100%;
}

/* Hiding the collapser by default */
.jp-Collapser {
  display: none;
}

@media print {
  .jp-Cell-inputWrapper,
  .jp-Cell-outputWrapper {
    display: block;
  }

  .jp-OutputArea-child {
    break-inside: avoid-page;
  }
}
</style>

<!-- Load mathjax -->
    <script src="https://cdnjs.cloudflare.com/ajax/libs/mathjax/2.7.7/latest.js?config=TeX-AMS_CHTML-full,Safe"> </script>
    <!-- MathJax configuration -->
    <script type="text/x-mathjax-config">
    init_mathjax = function() {
        if (window.MathJax) {
        // MathJax loaded
            MathJax.Hub.Config({
                TeX: {
                    equationNumbers: {
                    autoNumber: "AMS",
                    useLabelIds: true
                    }
                },
                tex2jax: {
                    inlineMath: [ ['$','$'], ["\\(","\\)"] ],
                    displayMath: [ ['$$','$$'], ["\\[","\\]"] ],
                    processEscapes: true,
                    processEnvironments: true
                },
                displayAlign: 'center',
                CommonHTML: {
                    linebreaks: {
                    automatic: true
                    }
                }
            });

            MathJax.Hub.Queue(["Typeset", MathJax.Hub]);
        }
    }
    init_mathjax();
    </script>
    <!-- End of mathjax configuration --></head>
<body class="jp-Notebook" data-jp-theme-light="true" data-jp-theme-name="JupyterLab Light">

<div class="jp-Cell jp-MarkdownCell jp-Notebook-cell">
<div class="jp-Cell-inputWrapper">
<div class="jp-Collapser jp-InputCollapser jp-Cell-inputCollapser">
</div>
<div class="jp-InputArea jp-Cell-inputArea"><div class="jp-InputPrompt jp-InputArea-prompt">
</div><div class="jp-RenderedHTMLCommon jp-RenderedMarkdown jp-MarkdownOutput " data-mime-type="text/markdown">
<h1 id="%D0%9B%D0%B0%D0%B1%D0%BE%D1%80%D0%B0%D1%82%D0%BE%D1%80%D0%BD%D0%B0%D1%8F-%D1%80%D0%B0%D0%B1%D0%BE%D1%82%D0%B0-%E2%84%962.-%D0%94%D0%B8%D1%81%D0%BA%D1%80%D0%B5%D1%82%D0%BD%D1%8B%D0%B5-LTI-%D1%81%D0%B8%D1%81%D1%82%D0%B5%D0%BC%D1%8B.">&#1051;&#1072;&#1073;&#1086;&#1088;&#1072;&#1090;&#1086;&#1088;&#1085;&#1072;&#1103; &#1088;&#1072;&#1073;&#1086;&#1090;&#1072; &#8470;2. &#1044;&#1080;&#1089;&#1082;&#1088;&#1077;&#1090;&#1085;&#1099;&#1077; LTI &#1089;&#1080;&#1089;&#1090;&#1077;&#1084;&#1099;.<a class="anchor-link" href="#%D0%9B%D0%B0%D0%B1%D0%BE%D1%80%D0%B0%D1%82%D0%BE%D1%80%D0%BD%D0%B0%D1%8F-%D1%80%D0%B0%D0%B1%D0%BE%D1%82%D0%B0-%E2%84%962.-%D0%94%D0%B8%D1%81%D0%BA%D1%80%D0%B5%D1%82%D0%BD%D1%8B%D0%B5-LTI-%D1%81%D0%B8%D1%81%D1%82%D0%B5%D0%BC%D1%8B.">&#182;</a></h1><p>Курс: лаборатория цифровой обработки сигналов, ФРКТ МФТИ</p>

</div>
</div>
</div>
</div><div class="jp-Cell jp-CodeCell jp-Notebook-cell jp-mod-noOutputs  ">
<div class="jp-Cell-inputWrapper">
<div class="jp-Collapser jp-InputCollapser jp-Cell-inputCollapser">
</div>
<div class="jp-InputArea jp-Cell-inputArea">
<div class="jp-InputPrompt jp-InputArea-prompt">In&nbsp;[12]:</div>
<div class="jp-CodeMirrorEditor jp-Editor jp-InputArea-editor" data-type="inline">
     <div class="CodeMirror cm-s-jupyter">
<div class=" highlight hl-ipython3"><pre><span></span><span class="kn">import</span> <span class="nn">numpy</span> <span class="k">as</span> <span class="nn">np</span>
<span class="kn">import</span> <span class="nn">matplotlib.pyplot</span> <span class="k">as</span> <span class="nn">plt</span>
<span class="kn">import</span> <span class="nn">scipy.signal</span> <span class="k">as</span> <span class="nn">signal</span>
<span class="kn">import</span> <span class="nn">matplotlib.ticker</span> <span class="k">as</span> <span class="nn">ticker</span>
<span class="kn">import</span> <span class="nn">time</span>
</pre></div>

     </div>
</div>
</div>
</div>

</div>
<div class="jp-Cell jp-MarkdownCell jp-Notebook-cell">
<div class="jp-Cell-inputWrapper">
<div class="jp-Collapser jp-InputCollapser jp-Cell-inputCollapser">
</div>
<div class="jp-InputArea jp-Cell-inputArea"><div class="jp-InputPrompt jp-InputArea-prompt">
</div><div class="jp-RenderedHTMLCommon jp-RenderedMarkdown jp-MarkdownOutput " data-mime-type="text/markdown">
<h1 id="%D0%9C%D0%BE%D0%B4%D1%83%D0%BB%D1%8C-1.-%D0%9B%D0%B8%D0%BD%D0%B5%D0%B9%D0%BD%D0%B0%D1%8F-%D0%B4%D0%B8%D1%81%D0%BA%D1%80%D0%B5%D1%82%D0%BD%D0%B0%D1%8F-%D1%81%D0%B2%D0%B5%D1%80%D1%82%D0%BA%D0%B0.">&#1052;&#1086;&#1076;&#1091;&#1083;&#1100; 1. &#1051;&#1080;&#1085;&#1077;&#1081;&#1085;&#1072;&#1103; &#1076;&#1080;&#1089;&#1082;&#1088;&#1077;&#1090;&#1085;&#1072;&#1103; &#1089;&#1074;&#1077;&#1088;&#1090;&#1082;&#1072;.<a class="anchor-link" href="#%D0%9C%D0%BE%D0%B4%D1%83%D0%BB%D1%8C-1.-%D0%9B%D0%B8%D0%BD%D0%B5%D0%B9%D0%BD%D0%B0%D1%8F-%D0%B4%D0%B8%D1%81%D0%BA%D1%80%D0%B5%D1%82%D0%BD%D0%B0%D1%8F-%D1%81%D0%B2%D0%B5%D1%80%D1%82%D0%BA%D0%B0.">&#182;</a></h1>
</div>
</div>
</div>
</div>
<div class="jp-Cell jp-MarkdownCell jp-Notebook-cell">
<div class="jp-Cell-inputWrapper">
<div class="jp-Collapser jp-InputCollapser jp-Cell-inputCollapser">
</div>
<div class="jp-InputArea jp-Cell-inputArea"><div class="jp-InputPrompt jp-InputArea-prompt">
</div><div class="jp-RenderedHTMLCommon jp-RenderedMarkdown jp-MarkdownOutput " data-mime-type="text/markdown">
<p>Линейная дискретная свертка двух последовательностей отсчетов $x[k]$ и $h[k]$ определяется формулой 
$$y[k]=x[k]\otimes h[k] = \sum\limits_{m=-\infty }^{\infty }{x}[m]h[k-m].$$</p>

</div>
</div>
</div>
</div>
<div class="jp-Cell jp-MarkdownCell jp-Notebook-cell">
<div class="jp-Cell-inputWrapper">
<div class="jp-Collapser jp-InputCollapser jp-Cell-inputCollapser">
</div>
<div class="jp-InputArea jp-Cell-inputArea"><div class="jp-InputPrompt jp-InputArea-prompt">
</div><div class="jp-RenderedHTMLCommon jp-RenderedMarkdown jp-MarkdownOutput " data-mime-type="text/markdown">
<p>Заметим, что если последовательности $x[k]$ и $h[k]$ каузальны, т.е. $x[k]\equiv 0$ и $h[k]\equiv 0$ при $k&lt;0$, то 
$$y[k]= \sum\limits_{m=-\infty }^{\infty }{x}[m]h[k-m] = \sum\limits_{m=0 }^{k }{x}[m]h[k-m].$$</p>

</div>
</div>
</div>
</div>
<div class="jp-Cell jp-MarkdownCell jp-Notebook-cell">
<div class="jp-Cell-inputWrapper">
<div class="jp-Collapser jp-InputCollapser jp-Cell-inputCollapser">
</div>
<div class="jp-InputArea jp-Cell-inputArea"><div class="jp-InputPrompt jp-InputArea-prompt">
</div><div class="jp-RenderedHTMLCommon jp-RenderedMarkdown jp-MarkdownOutput " data-mime-type="text/markdown">
<h3 id="%D0%9F%D1%80%D0%B8%D0%BC%D0%B5%D1%80.-%D0%A1%D0%B2%D0%B5%D1%80%D1%82%D0%BA%D0%B0-%D0%BF%D1%80%D1%8F%D0%BC%D0%BE%D1%83%D0%B3%D0%BE%D0%BB%D1%8C%D0%BD%D1%8B%D1%85-%D0%BE%D0%BA%D0%BE%D0%BD.">&#1055;&#1088;&#1080;&#1084;&#1077;&#1088;. &#1057;&#1074;&#1077;&#1088;&#1090;&#1082;&#1072; &#1087;&#1088;&#1103;&#1084;&#1086;&#1091;&#1075;&#1086;&#1083;&#1100;&#1085;&#1099;&#1093; &#1086;&#1082;&#1086;&#1085;.<a class="anchor-link" href="#%D0%9F%D1%80%D0%B8%D0%BC%D0%B5%D1%80.-%D0%A1%D0%B2%D0%B5%D1%80%D1%82%D0%BA%D0%B0-%D0%BF%D1%80%D1%8F%D0%BC%D0%BE%D1%83%D0%B3%D0%BE%D0%BB%D1%8C%D0%BD%D1%8B%D1%85-%D0%BE%D0%BA%D0%BE%D0%BD.">&#182;</a></h3><p>Рассмотрим свертку двух одинаковых прямоугольных окон $w[k]$ длиной в $N=3$ отсчета</p>

</div>
</div>
</div>
</div>
<div class="jp-Cell jp-MarkdownCell jp-Notebook-cell">
<div class="jp-Cell-inputWrapper">
<div class="jp-Collapser jp-InputCollapser jp-Cell-inputCollapser">
</div>
<div class="jp-InputArea jp-Cell-inputArea"><div class="jp-InputPrompt jp-InputArea-prompt">
</div><div class="jp-RenderedHTMLCommon jp-RenderedMarkdown jp-MarkdownOutput " data-mime-type="text/markdown">
$$w[k]=\sum\limits_{m=0}^{N-1}{\mathbf{1}[k-m]}=\left\{ \begin{matrix}
   1, \text{ при } k\in[0, N-1],  \\
   0, \text{ при } k\notin[0, N-1].  \\
\end{matrix} \right.$$
</div>
</div>
</div>
</div>
<div class="jp-Cell jp-MarkdownCell jp-Notebook-cell">
<div class="jp-Cell-inputWrapper">
<div class="jp-Collapser jp-InputCollapser jp-Cell-inputCollapser">
</div>
<div class="jp-InputArea jp-Cell-inputArea"><div class="jp-InputPrompt jp-InputArea-prompt">
</div><div class="jp-RenderedHTMLCommon jp-RenderedMarkdown jp-MarkdownOutput " data-mime-type="text/markdown">
$$y[k]= \sum\limits_{m=-\infty }^{\infty }{w}[m]w[k-m] = \sum\limits_{m=0 }^{k }{w}[m]w[k-m].$$$$y[0]= \sum\limits_{m=-\infty }^{\infty } w[m]w[0-m] = w[0] \cdot w[0] =1$$$$y[1]= \sum\limits_{m=-\infty }^{\infty } w[m]w[1-m] = w[0] \cdot w[1] + w[1] \cdot w[0]  =2$$$$y[2]= \sum\limits_{m=-\infty }^{\infty } w[m]w[2-m] = w[0] \cdot w[2] + w[1] \cdot w[1] +  w[2] \cdot w[0] =3$$$$ \cdots $$
</div>
</div>
</div>
</div><div class="jp-Cell jp-CodeCell jp-Notebook-cell   ">
<div class="jp-Cell-inputWrapper">
<div class="jp-Collapser jp-InputCollapser jp-Cell-inputCollapser">
</div>
<div class="jp-InputArea jp-Cell-inputArea">
<div class="jp-InputPrompt jp-InputArea-prompt">In&nbsp;[13]:</div>
<div class="jp-CodeMirrorEditor jp-Editor jp-InputArea-editor" data-type="inline">
     <div class="CodeMirror cm-s-jupyter">
<div class=" highlight hl-ipython3"><pre><span></span><span class="n">x</span><span class="o">=</span><span class="n">np</span><span class="o">.</span><span class="n">array</span><span class="p">([</span><span class="mi">1</span><span class="p">,</span> <span class="mi">1</span><span class="p">,</span> <span class="mi">1</span><span class="p">])</span>
<span class="n">h</span><span class="o">=</span><span class="n">np</span><span class="o">.</span><span class="n">array</span><span class="p">([</span><span class="mi">1</span><span class="p">,</span> <span class="mi">1</span><span class="p">,</span> <span class="mi">1</span><span class="p">])</span>
<span class="n">y</span><span class="o">=</span><span class="n">signal</span><span class="o">.</span><span class="n">convolve</span><span class="p">(</span><span class="n">x</span><span class="p">,</span> <span class="n">h</span><span class="p">)</span>
<span class="n">y</span>
</pre></div>

     </div>
</div>
</div>
</div>

<div class="jp-Cell-outputWrapper">
<div class="jp-Collapser jp-OutputCollapser jp-Cell-outputCollapser">
</div>


<div class="jp-OutputArea jp-Cell-outputArea">
<div class="jp-OutputArea-child jp-OutputArea-executeResult">
    
    <div class="jp-OutputPrompt jp-OutputArea-prompt">Out[13]:</div>




<div class="jp-RenderedText jp-OutputArea-output jp-OutputArea-executeResult" data-mime-type="text/plain">
<pre>array([1, 2, 3, 2, 1])</pre>
</div>

</div>

</div>

</div>

</div><div class="jp-Cell jp-CodeCell jp-Notebook-cell jp-mod-noOutputs  ">
<div class="jp-Cell-inputWrapper">
<div class="jp-Collapser jp-InputCollapser jp-Cell-inputCollapser">
</div>
<div class="jp-InputArea jp-Cell-inputArea">
<div class="jp-InputPrompt jp-InputArea-prompt">In&nbsp;[&nbsp;]:</div>
<div class="jp-CodeMirrorEditor jp-Editor jp-InputArea-editor" data-type="inline">
     <div class="CodeMirror cm-s-jupyter">
<div class=" highlight hl-ipython3"><pre><span></span> 
</pre></div>

     </div>
</div>
</div>
</div>

</div><div class="jp-Cell jp-CodeCell jp-Notebook-cell jp-mod-noOutputs  ">
<div class="jp-Cell-inputWrapper">
<div class="jp-Collapser jp-InputCollapser jp-Cell-inputCollapser">
</div>
<div class="jp-InputArea jp-Cell-inputArea">
<div class="jp-InputPrompt jp-InputArea-prompt">In&nbsp;[&nbsp;]:</div>
<div class="jp-CodeMirrorEditor jp-Editor jp-InputArea-editor" data-type="inline">
     <div class="CodeMirror cm-s-jupyter">
<div class=" highlight hl-ipython3"><pre><span></span> 
</pre></div>

     </div>
</div>
</div>
</div>

</div><div class="jp-Cell jp-CodeCell jp-Notebook-cell jp-mod-noOutputs  ">
<div class="jp-Cell-inputWrapper">
<div class="jp-Collapser jp-InputCollapser jp-Cell-inputCollapser">
</div>
<div class="jp-InputArea jp-Cell-inputArea">
<div class="jp-InputPrompt jp-InputArea-prompt">In&nbsp;[&nbsp;]:</div>
<div class="jp-CodeMirrorEditor jp-Editor jp-InputArea-editor" data-type="inline">
     <div class="CodeMirror cm-s-jupyter">
<div class=" highlight hl-ipython3"><pre><span></span> 
</pre></div>

     </div>
</div>
</div>
</div>

</div><div class="jp-Cell jp-CodeCell jp-Notebook-cell jp-mod-noOutputs  ">
<div class="jp-Cell-inputWrapper">
<div class="jp-Collapser jp-InputCollapser jp-Cell-inputCollapser">
</div>
<div class="jp-InputArea jp-Cell-inputArea">
<div class="jp-InputPrompt jp-InputArea-prompt">In&nbsp;[&nbsp;]:</div>
<div class="jp-CodeMirrorEditor jp-Editor jp-InputArea-editor" data-type="inline">
     <div class="CodeMirror cm-s-jupyter">
<div class=" highlight hl-ipython3"><pre><span></span> 
</pre></div>

     </div>
</div>
</div>
</div>

</div>
<div class="jp-Cell jp-MarkdownCell jp-Notebook-cell">
<div class="jp-Cell-inputWrapper">
<div class="jp-Collapser jp-InputCollapser jp-Cell-inputCollapser">
</div>
<div class="jp-InputArea jp-Cell-inputArea"><div class="jp-InputPrompt jp-InputArea-prompt">
</div><div class="jp-RenderedHTMLCommon jp-RenderedMarkdown jp-MarkdownOutput " data-mime-type="text/markdown">
<h2 id="scipy.signal.convolve">scipy.signal.convolve<a class="anchor-link" href="#scipy.signal.convolve">&#182;</a></h2><p><a href="https://docs.scipy.org/doc/scipy/reference/generated/scipy.signal.convolve.html">https://docs.scipy.org/doc/scipy/reference/generated/scipy.signal.convolve.html</a></p>
<p><code>scipy.signal.convolve(in1, in2, mode='full', method='auto')</code></p>
<p>Convolve two N-dimensional arrays.</p>
<p>Convolve <code>in1</code> and <code>in2</code>, with the output size determined by the mode argument.</p>
<p><strong>Parameters</strong></p>
<ul>
<li><p><code>in1</code> <em>array_like</em> First input.</p>
</li>
<li><p><code>in2</code> <em>array_like</em> Second input. Should have the same number of dimensions as <code>in1</code>.</p>
</li>
<li><p><code>mode</code> <em>str</em> {<code>full</code>, <code>valid</code>, <code>same</code>}, <em>optional</em> A string indicating the size of the output:</p>
</li>
<li><ul>
<li><code>full</code> The output is the full discrete linear convolution of the inputs. (Default)</li>
</ul>
</li>
<li><ul>
<li><code>valid</code> The output consists only of those elements that do not rely on the zero-padding. In <code>valid</code> mode, either <code>in1</code> or <code>in2</code> must be at least as large as the other in every dimension.</li>
</ul>
</li>
<li><ul>
<li><code>same</code> The output is the same size as in1, centered with respect to the <code>full</code> output.</li>
</ul>
</li>
<li><p><code>method</code> <em>str</em> {<code>auto</code>, <code>direct</code>, <code>fft</code>}, <em>optional</em> A string indicating which method to use to calculate the convolution.</p>
</li>
<li><ul>
<li><code>direct</code> The convolution is determined directly from sums, the definition of convolution.</li>
</ul>
</li>
<li><ul>
<li><code>fft</code> The Fourier Transform is used to perform the convolution by calling fftconvolve.</li>
</ul>
</li>
<li><ul>
<li><code>auto</code> Automatically chooses direct or Fourier method based on an estimate of which is faster (default). New in version 0.19.0.</li>
</ul>
</li>
</ul>
<p><strong>Returns</strong></p>
<ul>
<li><code>convolve</code> <em>array</em> An N-dimensional array containing a subset of the discrete linear convolution of <code>in1</code> with <code>in2</code>.</li>
</ul>
<p><strong>Warns</strong></p>
<ul>
<li><code>RuntimeWarning</code> Use of the FFT convolution on input containing NAN or INF will lead to the entire output being NAN or INF. Use method=<code>direct</code> when your input contains NAN or INF values.</li>
</ul>

</div>
</div>
</div>
</div>
<div class="jp-Cell jp-MarkdownCell jp-Notebook-cell">
<div class="jp-Cell-inputWrapper">
<div class="jp-Collapser jp-InputCollapser jp-Cell-inputCollapser">
</div>
<div class="jp-InputArea jp-Cell-inputArea"><div class="jp-InputPrompt jp-InputArea-prompt">
</div><div class="jp-RenderedHTMLCommon jp-RenderedMarkdown jp-MarkdownOutput " data-mime-type="text/markdown">
<h2 id="%D0%92%D1%8B%D1%87%D0%B8%D1%81%D0%BB%D0%B5%D0%BD%D0%B8%D0%B5-%D0%B2%D1%8B%D1%85%D0%BE%D0%B4%D0%B0-%D1%86%D0%B8%D1%84%D1%80%D0%BE%D0%B2%D0%BE%D0%B3%D0%BE-%D1%84%D0%B8%D0%BB%D1%8C%D1%82%D1%80%D0%B0-%D1%87%D0%B5%D1%80%D0%B5%D0%B7-%D1%81%D0%B2%D0%B5%D1%80%D1%82%D0%BA%D1%83">&#1042;&#1099;&#1095;&#1080;&#1089;&#1083;&#1077;&#1085;&#1080;&#1077; &#1074;&#1099;&#1093;&#1086;&#1076;&#1072; &#1094;&#1080;&#1092;&#1088;&#1086;&#1074;&#1086;&#1075;&#1086; &#1092;&#1080;&#1083;&#1100;&#1090;&#1088;&#1072; &#1095;&#1077;&#1088;&#1077;&#1079; &#1089;&#1074;&#1077;&#1088;&#1090;&#1082;&#1091;<a class="anchor-link" href="#%D0%92%D1%8B%D1%87%D0%B8%D1%81%D0%BB%D0%B5%D0%BD%D0%B8%D0%B5-%D0%B2%D1%8B%D1%85%D0%BE%D0%B4%D0%B0-%D1%86%D0%B8%D1%84%D1%80%D0%BE%D0%B2%D0%BE%D0%B3%D0%BE-%D1%84%D0%B8%D0%BB%D1%8C%D1%82%D1%80%D0%B0-%D1%87%D0%B5%D1%80%D0%B5%D0%B7-%D1%81%D0%B2%D0%B5%D1%80%D1%82%D0%BA%D1%83">&#182;</a></h2>
</div>
</div>
</div>
</div>
<div class="jp-Cell jp-MarkdownCell jp-Notebook-cell">
<div class="jp-Cell-inputWrapper">
<div class="jp-Collapser jp-InputCollapser jp-Cell-inputCollapser">
</div>
<div class="jp-InputArea jp-Cell-inputArea"><div class="jp-InputPrompt jp-InputArea-prompt">
</div><div class="jp-RenderedHTMLCommon jp-RenderedMarkdown jp-MarkdownOutput " data-mime-type="text/markdown">
<p><img src="data:image/png;base64,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" alt="image.png" /></p>

</div>
</div>
</div>
</div>
<div class="jp-Cell jp-MarkdownCell jp-Notebook-cell">
<div class="jp-Cell-inputWrapper">
<div class="jp-Collapser jp-InputCollapser jp-Cell-inputCollapser">
</div>
<div class="jp-InputArea jp-Cell-inputArea"><div class="jp-InputPrompt jp-InputArea-prompt">
</div><div class="jp-RenderedHTMLCommon jp-RenderedMarkdown jp-MarkdownOutput " data-mime-type="text/markdown">
<p>Выход LTI системы  может быть получен с помощью ее реакции на единичный импульс в нулевой момент времени  $\mathbf{1}[k]$ — импульсной характеристики $h[k]$. 
$$y[k]=\sum\limits_{m=-\infty }^{\infty }{x}[m]h[k-m].$$</p>

</div>
</div>
</div>
</div>
<div class="jp-Cell jp-MarkdownCell jp-Notebook-cell">
<div class="jp-Cell-inputWrapper">
<div class="jp-Collapser jp-InputCollapser jp-Cell-inputCollapser">
</div>
<div class="jp-InputArea jp-Cell-inputArea"><div class="jp-InputPrompt jp-InputArea-prompt">
</div><div class="jp-RenderedHTMLCommon jp-RenderedMarkdown jp-MarkdownOutput " data-mime-type="text/markdown">
<p>Таким образом, выход LTI системы является дискретной сверткой входного воздействия с импульсной характеристикой.</p>
<ul>
<li><p>Системы-фильтры, для которых импульсная характеристика $h[k]$ является финитная функция, называются фильтрами с конечной импульсной характеристикой (<strong>КИХ - фильтрами</strong>, в англоязычной литературе <strong>FIR</strong> - Finite impulse response filter).</p>
</li>
<li><p>Если импульсная характеристика $h[k]$ нефинитная функция, то такие системы называются фильтрами с бесконечной импульсной характеристикой (<strong>БИХ - фильтрами</strong>, в англоязычной литературе <strong>IIR</strong> - Infinite impulse response filter).</p>
</li>
</ul>

</div>
</div>
</div>
</div>
<div class="jp-Cell jp-MarkdownCell jp-Notebook-cell">
<div class="jp-Cell-inputWrapper">
<div class="jp-Collapser jp-InputCollapser jp-Cell-inputCollapser">
</div>
<div class="jp-InputArea jp-Cell-inputArea"><div class="jp-InputPrompt jp-InputArea-prompt">
</div><div class="jp-RenderedHTMLCommon jp-RenderedMarkdown jp-MarkdownOutput " data-mime-type="text/markdown">

</div>
</div>
</div>
</div>
<div class="jp-Cell jp-MarkdownCell jp-Notebook-cell">
<div class="jp-Cell-inputWrapper">
<div class="jp-Collapser jp-InputCollapser jp-Cell-inputCollapser">
</div>
<div class="jp-InputArea jp-Cell-inputArea"><div class="jp-InputPrompt jp-InputArea-prompt">
</div><div class="jp-RenderedHTMLCommon jp-RenderedMarkdown jp-MarkdownOutput " data-mime-type="text/markdown">
<h3 id="%D0%9F%D1%80%D0%B8%D0%BC%D0%B5%D1%80-1">&#1055;&#1088;&#1080;&#1084;&#1077;&#1088; 1<a class="anchor-link" href="#%D0%9F%D1%80%D0%B8%D0%BC%D0%B5%D1%80-1">&#182;</a></h3>
</div>
</div>
</div>
</div><div class="jp-Cell jp-CodeCell jp-Notebook-cell   ">
<div class="jp-Cell-inputWrapper">
<div class="jp-Collapser jp-InputCollapser jp-Cell-inputCollapser">
</div>
<div class="jp-InputArea jp-Cell-inputArea">
<div class="jp-InputPrompt jp-InputArea-prompt">In&nbsp;[14]:</div>
<div class="jp-CodeMirrorEditor jp-Editor jp-InputArea-editor" data-type="inline">
     <div class="CodeMirror cm-s-jupyter">
<div class=" highlight hl-ipython3"><pre><span></span><span class="n">x</span><span class="o">=</span><span class="n">np</span><span class="o">.</span><span class="n">array</span><span class="p">([</span><span class="o">-</span><span class="mi">2</span><span class="p">,</span> <span class="mi">1</span><span class="p">,</span> <span class="mi">2</span><span class="p">,</span> <span class="o">-</span><span class="mi">1</span><span class="p">])</span>
<span class="n">h</span><span class="o">=</span><span class="n">np</span><span class="o">.</span><span class="n">array</span><span class="p">([</span><span class="o">-</span><span class="mi">1</span><span class="p">,</span> <span class="mi">1</span><span class="p">,</span> <span class="mi">2</span><span class="p">])</span>
<span class="n">y</span><span class="o">=</span><span class="n">signal</span><span class="o">.</span><span class="n">convolve</span><span class="p">(</span><span class="n">x</span><span class="p">,</span> <span class="n">h</span><span class="p">)</span>
<span class="n">y</span>
</pre></div>

     </div>
</div>
</div>
</div>

<div class="jp-Cell-outputWrapper">
<div class="jp-Collapser jp-OutputCollapser jp-Cell-outputCollapser">
</div>


<div class="jp-OutputArea jp-Cell-outputArea">
<div class="jp-OutputArea-child jp-OutputArea-executeResult">
    
    <div class="jp-OutputPrompt jp-OutputArea-prompt">Out[14]:</div>




<div class="jp-RenderedText jp-OutputArea-output jp-OutputArea-executeResult" data-mime-type="text/plain">
<pre>array([ 2, -3, -5,  5,  3, -2])</pre>
</div>

</div>

</div>

</div>

</div><div class="jp-Cell jp-CodeCell jp-Notebook-cell jp-mod-noOutputs  ">
<div class="jp-Cell-inputWrapper">
<div class="jp-Collapser jp-InputCollapser jp-Cell-inputCollapser">
</div>
<div class="jp-InputArea jp-Cell-inputArea">
<div class="jp-InputPrompt jp-InputArea-prompt">In&nbsp;[15]:</div>
<div class="jp-CodeMirrorEditor jp-Editor jp-InputArea-editor" data-type="inline">
     <div class="CodeMirror cm-s-jupyter">
<div class=" highlight hl-ipython3"><pre><span></span><span class="o">%</span><span class="k">matplotlib</span> widget
</pre></div>

     </div>
</div>
</div>
</div>

</div><div class="jp-Cell jp-CodeCell jp-Notebook-cell jp-mod-noOutputs  ">
<div class="jp-Cell-inputWrapper">
<div class="jp-Collapser jp-InputCollapser jp-Cell-inputCollapser">
</div>
<div class="jp-InputArea jp-Cell-inputArea">
<div class="jp-InputPrompt jp-InputArea-prompt">In&nbsp;[16]:</div>
<div class="jp-CodeMirrorEditor jp-Editor jp-InputArea-editor" data-type="inline">
     <div class="CodeMirror cm-s-jupyter">
<div class=" highlight hl-ipython3"><pre><span></span><span class="o">%</span><span class="k">matplotlib</span> inline
</pre></div>

     </div>
</div>
</div>
</div>

</div><div class="jp-Cell jp-CodeCell jp-Notebook-cell   ">
<div class="jp-Cell-inputWrapper">
<div class="jp-Collapser jp-InputCollapser jp-Cell-inputCollapser">
</div>
<div class="jp-InputArea jp-Cell-inputArea">
<div class="jp-InputPrompt jp-InputArea-prompt">In&nbsp;[18]:</div>
<div class="jp-CodeMirrorEditor jp-Editor jp-InputArea-editor" data-type="inline">
     <div class="CodeMirror cm-s-jupyter">
<div class=" highlight hl-ipython3"><pre><span></span><span class="k">def</span> <span class="nf">plot_signal</span><span class="p">(</span><span class="n">signal</span><span class="p">,</span> <span class="n">index</span><span class="p">,</span> <span class="n">variable</span><span class="p">):</span>
    <span class="n">ax</span><span class="o">=</span><span class="n">plt</span><span class="o">.</span><span class="n">subplot</span><span class="p">(</span><span class="mi">1</span><span class="p">,</span> <span class="mi">3</span><span class="p">,</span> <span class="n">index</span><span class="p">)</span>
    <span class="n">ax</span><span class="o">.</span><span class="n">stem</span><span class="p">(</span><span class="n">signal</span><span class="p">)</span>
    <span class="n">ax</span><span class="o">.</span><span class="n">set_xlabel</span><span class="p">(</span><span class="s2">&quot;$k$&quot;</span><span class="p">)</span>
    <span class="n">ax</span><span class="o">.</span><span class="n">set_ylabel</span><span class="p">(</span><span class="s2">&quot;$&quot;</span><span class="o">+</span><span class="n">variable</span><span class="o">+</span><span class="s2">&quot;[k]$&quot;</span><span class="p">)</span>
    <span class="n">ax</span><span class="o">.</span><span class="n">xaxis</span><span class="o">.</span><span class="n">set_major_locator</span><span class="p">(</span><span class="n">ticker</span><span class="o">.</span><span class="n">MultipleLocator</span><span class="p">(</span><span class="n">base</span><span class="o">=</span><span class="mi">1</span><span class="p">))</span>
    <span class="n">ax</span><span class="o">.</span><span class="n">grid</span><span class="p">()</span>

<span class="n">plt</span><span class="o">.</span><span class="n">figure</span><span class="p">(</span><span class="n">figsize</span><span class="o">=</span><span class="p">[</span><span class="mi">10</span><span class="p">,</span> <span class="mi">3</span><span class="p">])</span>
<span class="n">plot_signal</span><span class="p">(</span><span class="n">signal</span><span class="o">=</span><span class="n">x</span><span class="p">,</span> <span class="n">index</span><span class="o">=</span><span class="mi">1</span><span class="p">,</span> <span class="n">variable</span><span class="o">=</span><span class="s1">&#39;x&#39;</span><span class="p">)</span>
<span class="n">plot_signal</span><span class="p">(</span><span class="n">signal</span><span class="o">=</span><span class="n">h</span><span class="p">,</span> <span class="n">index</span><span class="o">=</span><span class="mi">2</span><span class="p">,</span> <span class="n">variable</span><span class="o">=</span><span class="s1">&#39;h&#39;</span><span class="p">)</span>
<span class="n">plot_signal</span><span class="p">(</span><span class="n">signal</span><span class="o">=</span><span class="n">y</span><span class="p">,</span> <span class="n">index</span><span class="o">=</span><span class="mi">3</span><span class="p">,</span> <span class="n">variable</span><span class="o">=</span><span class="s1">&#39;y&#39;</span><span class="p">)</span>
<span class="n">plt</span><span class="o">.</span><span class="n">tight_layout</span><span class="p">()</span>
</pre></div>

     </div>
</div>
</div>
</div>

<div class="jp-Cell-outputWrapper">
<div class="jp-Collapser jp-OutputCollapser jp-Cell-outputCollapser">
</div>


<div class="jp-OutputArea jp-Cell-outputArea">
<div class="jp-OutputArea-child">
    
    <div class="jp-OutputPrompt jp-OutputArea-prompt"></div>




<div class="jp-RenderedImage jp-OutputArea-output ">
<img src="data:image/png;base64,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"
class="
"
>
</div>

</div>

</div>

</div>

</div>
<div class="jp-Cell jp-MarkdownCell jp-Notebook-cell">
<div class="jp-Cell-inputWrapper">
<div class="jp-Collapser jp-InputCollapser jp-Cell-inputCollapser">
</div>
<div class="jp-InputArea jp-Cell-inputArea"><div class="jp-InputPrompt jp-InputArea-prompt">
</div><div class="jp-RenderedHTMLCommon jp-RenderedMarkdown jp-MarkdownOutput " data-mime-type="text/markdown">
<p>Заметим, что если $x[k]$ и $h[k]$ — последовательности длиной $N_1$ и $N_2$ отсчетов, то число ненулевых отсчетов для их линейной дискретной свертки не превышает $N_1+N_2-1$.</p>

</div>
</div>
</div>
</div>
<div class="jp-Cell jp-MarkdownCell jp-Notebook-cell">
<div class="jp-Cell-inputWrapper">
<div class="jp-Collapser jp-InputCollapser jp-Cell-inputCollapser">
</div>
<div class="jp-InputArea jp-Cell-inputArea"><div class="jp-InputPrompt jp-InputArea-prompt">
</div><div class="jp-RenderedHTMLCommon jp-RenderedMarkdown jp-MarkdownOutput " data-mime-type="text/markdown">
<h3 id="%D0%9F%D1%80%D0%B8%D0%BC%D0%B5%D1%80-2.-%D0%A1%D0%B2%D0%B5%D1%80%D1%82%D0%BA%D0%B0-%D0%BF%D1%80%D1%8F%D0%BC%D0%BE%D1%83%D0%B3%D0%BE%D0%BB%D1%8C%D0%BD%D1%8B%D1%85-%D0%BE%D0%BA%D0%BE%D0%BD">&#1055;&#1088;&#1080;&#1084;&#1077;&#1088; 2. &#1057;&#1074;&#1077;&#1088;&#1090;&#1082;&#1072; &#1087;&#1088;&#1103;&#1084;&#1086;&#1091;&#1075;&#1086;&#1083;&#1100;&#1085;&#1099;&#1093; &#1086;&#1082;&#1086;&#1085;<a class="anchor-link" href="#%D0%9F%D1%80%D0%B8%D0%BC%D0%B5%D1%80-2.-%D0%A1%D0%B2%D0%B5%D1%80%D1%82%D0%BA%D0%B0-%D0%BF%D1%80%D1%8F%D0%BC%D0%BE%D1%83%D0%B3%D0%BE%D0%BB%D1%8C%D0%BD%D1%8B%D1%85-%D0%BE%D0%BA%D0%BE%D0%BD">&#182;</a></h3>
</div>
</div>
</div>
</div>
<div class="jp-Cell jp-MarkdownCell jp-Notebook-cell">
<div class="jp-Cell-inputWrapper">
<div class="jp-Collapser jp-InputCollapser jp-Cell-inputCollapser">
</div>
<div class="jp-InputArea jp-Cell-inputArea"><div class="jp-InputPrompt jp-InputArea-prompt">
</div><div class="jp-RenderedHTMLCommon jp-RenderedMarkdown jp-MarkdownOutput " data-mime-type="text/markdown">
<p>Вычислить линейную дискретную свертку двух одинаковых последовательностей $x[k]$ и $h[k]$, таких, что 
$$x[k]=h[k]=\sum_{m=0}^{M-1}\mathbf{1} [k-m], \;\; M=3$$
непоследственно воспользовавшись формулой линейной дискретной свертки 
$$y[k]=\sum_{m=-\infty}^{\infty} x[m] h[k-m].$$</p>

</div>
</div>
</div>
</div><div class="jp-Cell jp-CodeCell jp-Notebook-cell   ">
<div class="jp-Cell-inputWrapper">
<div class="jp-Collapser jp-InputCollapser jp-Cell-inputCollapser">
</div>
<div class="jp-InputArea jp-Cell-inputArea">
<div class="jp-InputPrompt jp-InputArea-prompt">In&nbsp;[19]:</div>
<div class="jp-CodeMirrorEditor jp-Editor jp-InputArea-editor" data-type="inline">
     <div class="CodeMirror cm-s-jupyter">
<div class=" highlight hl-ipython3"><pre><span></span><span class="n">x</span><span class="o">=</span><span class="n">np</span><span class="o">.</span><span class="n">array</span><span class="p">([</span><span class="mi">1</span><span class="p">,</span> <span class="mi">1</span><span class="p">,</span> <span class="mi">1</span><span class="p">])</span>
<span class="n">h</span><span class="o">=</span><span class="n">np</span><span class="o">.</span><span class="n">array</span><span class="p">([</span><span class="mi">1</span><span class="p">,</span> <span class="mi">1</span><span class="p">,</span> <span class="mi">1</span><span class="p">])</span>
<span class="n">y</span><span class="o">=</span><span class="n">signal</span><span class="o">.</span><span class="n">convolve</span><span class="p">(</span><span class="n">x</span><span class="p">,</span> <span class="n">h</span><span class="p">)</span>

<span class="k">def</span> <span class="nf">plot_signal</span><span class="p">(</span><span class="n">signal</span><span class="p">,</span> <span class="n">index</span><span class="p">,</span> <span class="n">variable</span><span class="p">):</span>
    <span class="n">ax</span><span class="o">=</span><span class="n">plt</span><span class="o">.</span><span class="n">subplot</span><span class="p">(</span><span class="mi">3</span><span class="p">,</span> <span class="mi">1</span><span class="p">,</span> <span class="n">index</span><span class="p">)</span>
    <span class="n">plt</span><span class="o">.</span><span class="n">stem</span><span class="p">(</span><span class="n">signal</span><span class="p">)</span>
    <span class="n">plt</span><span class="o">.</span><span class="n">xlabel</span><span class="p">(</span><span class="s2">&quot;$k$&quot;</span><span class="p">)</span>
    <span class="n">plt</span><span class="o">.</span><span class="n">ylabel</span><span class="p">(</span><span class="s2">&quot;$&quot;</span><span class="o">+</span><span class="n">variable</span><span class="o">+</span><span class="s2">&quot;[k]$&quot;</span><span class="p">)</span>
    <span class="n">ax</span><span class="o">.</span><span class="n">xaxis</span><span class="o">.</span><span class="n">set_major_locator</span><span class="p">(</span><span class="n">ticker</span><span class="o">.</span><span class="n">MultipleLocator</span><span class="p">(</span><span class="n">base</span><span class="o">=</span><span class="mi">1</span><span class="p">))</span>
    <span class="n">plt</span><span class="o">.</span><span class="n">grid</span><span class="p">()</span>

<span class="n">plt</span><span class="o">.</span><span class="n">figure</span><span class="p">(</span><span class="n">figsize</span><span class="o">=</span><span class="p">[</span><span class="mi">6</span><span class="p">,</span> <span class="mi">8</span><span class="p">])</span>
<span class="n">plot_signal</span><span class="p">(</span><span class="n">signal</span><span class="o">=</span><span class="n">x</span><span class="p">,</span> <span class="n">index</span><span class="o">=</span><span class="mi">1</span><span class="p">,</span> <span class="n">variable</span><span class="o">=</span><span class="s1">&#39;x&#39;</span><span class="p">)</span>
<span class="n">plot_signal</span><span class="p">(</span><span class="n">signal</span><span class="o">=</span><span class="n">h</span><span class="p">,</span> <span class="n">index</span><span class="o">=</span><span class="mi">2</span><span class="p">,</span> <span class="n">variable</span><span class="o">=</span><span class="s1">&#39;h&#39;</span><span class="p">)</span>
<span class="n">plot_signal</span><span class="p">(</span><span class="n">signal</span><span class="o">=</span><span class="n">y</span><span class="p">,</span> <span class="n">index</span><span class="o">=</span><span class="mi">3</span><span class="p">,</span> <span class="n">variable</span><span class="o">=</span><span class="s1">&#39;y&#39;</span><span class="p">)</span>
<span class="n">plt</span><span class="o">.</span><span class="n">tight_layout</span><span class="p">()</span>
</pre></div>

     </div>
</div>
</div>
</div>

<div class="jp-Cell-outputWrapper">
<div class="jp-Collapser jp-OutputCollapser jp-Cell-outputCollapser">
</div>


<div class="jp-OutputArea jp-Cell-outputArea">
<div class="jp-OutputArea-child">
    
    <div class="jp-OutputPrompt jp-OutputArea-prompt"></div>




<div class="jp-RenderedImage jp-OutputArea-output ">
<img src="data:image/png;base64,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"
class="
"
>
</div>

</div>

</div>

</div>

</div><div class="jp-Cell jp-CodeCell jp-Notebook-cell   ">
<div class="jp-Cell-inputWrapper">
<div class="jp-Collapser jp-InputCollapser jp-Cell-inputCollapser">
</div>
<div class="jp-InputArea jp-Cell-inputArea">
<div class="jp-InputPrompt jp-InputArea-prompt">In&nbsp;[20]:</div>
<div class="jp-CodeMirrorEditor jp-Editor jp-InputArea-editor" data-type="inline">
     <div class="CodeMirror cm-s-jupyter">
<div class=" highlight hl-ipython3"><pre><span></span><span class="kn">from</span> <span class="nn">matplotlib</span> <span class="kn">import</span> <span class="n">pylab</span>
<span class="n">x</span><span class="o">=</span><span class="n">np</span><span class="o">.</span><span class="n">array</span><span class="p">([</span><span class="mi">1</span><span class="p">,</span> <span class="mi">1</span><span class="p">,</span> <span class="mi">1</span><span class="p">])</span>
<span class="n">h</span><span class="o">=</span><span class="n">np</span><span class="o">.</span><span class="n">array</span><span class="p">([</span><span class="mi">1</span><span class="p">,</span> <span class="mi">1</span><span class="p">,</span> <span class="mi">1</span><span class="p">])</span>
<span class="n">y</span><span class="o">=</span><span class="n">np</span><span class="o">.</span><span class="n">convolve</span><span class="p">(</span><span class="n">x</span><span class="p">,</span> <span class="n">h</span><span class="p">)</span>
<span class="k">def</span> <span class="nf">plot_settings</span><span class="p">():</span>
    <span class="n">plt</span><span class="o">.</span><span class="n">xlim</span><span class="p">(</span><span class="o">-</span><span class="mi">3</span><span class="p">,</span> <span class="mi">5</span><span class="p">)</span>
    <span class="n">plt</span><span class="o">.</span><span class="n">ylim</span><span class="p">(</span><span class="mi">0</span><span class="p">,</span> <span class="mi">3</span><span class="p">)</span>
    <span class="n">plt</span><span class="o">.</span><span class="n">xticks</span><span class="p">(</span><span class="n">np</span><span class="o">.</span><span class="n">arange</span><span class="p">(</span><span class="o">-</span><span class="mi">2</span><span class="p">,</span> <span class="mi">5</span><span class="p">,</span> <span class="mi">1</span><span class="p">))</span>
    <span class="n">plt</span><span class="o">.</span><span class="n">yticks</span><span class="p">(</span><span class="n">np</span><span class="o">.</span><span class="n">arange</span><span class="p">(</span><span class="mi">0</span><span class="p">,</span> <span class="mi">5</span><span class="p">,</span> <span class="mi">1</span><span class="p">))</span>
    <span class="n">plt</span><span class="o">.</span><span class="n">grid</span><span class="p">()</span>

<span class="k">for</span> <span class="n">t</span> <span class="ow">in</span> <span class="p">[</span><span class="mi">0</span><span class="p">,</span> <span class="mi">1</span><span class="p">,</span> <span class="mi">2</span><span class="p">,</span> <span class="mi">3</span><span class="p">,</span> <span class="mi">4</span><span class="p">]:</span>
    <span class="n">figure1</span><span class="o">=</span><span class="n">plt</span><span class="o">.</span><span class="n">figure</span><span class="p">(</span><span class="n">figsize</span><span class="o">=</span><span class="p">[</span><span class="mi">8</span><span class="p">,</span> <span class="mi">6</span><span class="p">])</span>
    <span class="n">M</span><span class="o">=</span><span class="mi">1024</span>
    <span class="n">l_step</span><span class="p">,</span> <span class="n">r_step</span><span class="o">=-</span><span class="mi">3</span><span class="p">,</span> <span class="mi">5</span>
    <span class="n">plt</span><span class="o">.</span><span class="n">subplot</span><span class="p">(</span><span class="mi">2</span><span class="p">,</span> <span class="mi">2</span><span class="p">,</span> <span class="mi">1</span><span class="p">)</span>
    <span class="n">plt</span><span class="o">.</span><span class="n">stem</span><span class="p">(</span><span class="n">np</span><span class="o">.</span><span class="n">arange</span><span class="p">(</span><span class="n">x</span><span class="o">.</span><span class="n">size</span><span class="p">),</span> <span class="n">x</span><span class="p">,</span> <span class="s1">&#39;b&#39;</span><span class="p">,</span> <span class="n">markerfmt</span><span class="o">=</span><span class="s1">&#39;bo&#39;</span><span class="p">)</span>
    <span class="n">plot_settings</span><span class="p">()</span>
    <span class="n">plt</span><span class="o">.</span><span class="n">title</span><span class="p">(</span><span class="s1">&#39;Signal $x[m]$&#39;</span><span class="p">);</span>
    <span class="n">plt</span><span class="o">.</span><span class="n">xlabel</span><span class="p">(</span><span class="s1">&#39;$m$&#39;</span><span class="p">);</span>
    <span class="n">plt</span><span class="o">.</span><span class="n">ylabel</span><span class="p">(</span><span class="s1">&#39;$x[m]$&#39;</span><span class="p">);</span>

    <span class="n">w</span><span class="o">=</span><span class="n">h</span><span class="p">[::</span><span class="o">-</span><span class="mi">1</span><span class="p">]</span>
    <span class="n">q</span><span class="o">=</span><span class="n">np</span><span class="o">.</span><span class="n">zeros</span><span class="p">(</span><span class="n">x</span><span class="o">.</span><span class="n">size</span><span class="p">)</span>
    <span class="k">for</span> <span class="n">i</span> <span class="ow">in</span> <span class="nb">range</span><span class="p">(</span><span class="n">x</span><span class="o">.</span><span class="n">size</span><span class="p">):</span>
        <span class="n">ind2</span><span class="o">=</span><span class="p">(</span><span class="n">t</span><span class="o">-</span><span class="n">np</span><span class="o">.</span><span class="n">arange</span><span class="p">(</span><span class="n">h</span><span class="o">.</span><span class="n">size</span><span class="p">)[::</span><span class="o">-</span><span class="mi">1</span><span class="p">])</span>
        <span class="n">k</span><span class="o">=</span><span class="mi">0</span>
        <span class="k">for</span> <span class="n">qq</span> <span class="ow">in</span> <span class="nb">range</span><span class="p">(</span><span class="n">ind2</span><span class="o">.</span><span class="n">size</span><span class="p">):</span>
            <span class="k">if</span> <span class="n">ind2</span><span class="p">[</span><span class="n">qq</span><span class="p">]</span><span class="o">==</span><span class="n">i</span><span class="p">:</span>
                <span class="n">k</span><span class="o">=</span><span class="mi">1</span>
                <span class="k">break</span>
        <span class="n">q</span><span class="p">[</span><span class="n">i</span><span class="p">]</span><span class="o">=</span><span class="n">x</span><span class="p">[</span><span class="n">i</span><span class="p">]</span><span class="o">*</span><span class="n">w</span><span class="p">[</span><span class="n">qq</span><span class="p">]</span><span class="o">*</span><span class="n">k</span>

    <span class="n">plt</span><span class="o">.</span><span class="n">subplot</span><span class="p">(</span><span class="mi">2</span><span class="p">,</span> <span class="mi">2</span><span class="p">,</span> <span class="mi">2</span><span class="p">)</span>
    <span class="n">plt</span><span class="o">.</span><span class="n">stem</span><span class="p">(</span><span class="n">np</span><span class="o">.</span><span class="n">arange</span><span class="p">(</span><span class="n">q</span><span class="o">.</span><span class="n">size</span><span class="p">),</span> <span class="n">q</span><span class="p">,</span> <span class="s1">&#39;b&#39;</span><span class="p">,</span> <span class="n">markerfmt</span><span class="o">=</span><span class="s1">&#39;bo&#39;</span><span class="p">)</span>
    <span class="c1"># plt.xticks(np.arange(0, x.size, max(1, x.size//5)))</span>
    <span class="n">plot_settings</span><span class="p">()</span>
    <span class="n">plt</span><span class="o">.</span><span class="n">title</span><span class="p">(</span><span class="s1">&#39;Signal $q[m]=x[m]h[k-m]$, $\Sigma_m \; q[m]=</span><span class="si">%.1f</span><span class="s1">$&#39;</span>
              <span class="o">%</span><span class="p">(</span><span class="nb">sum</span><span class="p">(</span><span class="n">q</span><span class="p">)));</span>
    <span class="n">plt</span><span class="o">.</span><span class="n">xlabel</span><span class="p">(</span><span class="s1">&#39;$m$&#39;</span><span class="p">);</span>
    <span class="n">plt</span><span class="o">.</span><span class="n">ylabel</span><span class="p">(</span><span class="s1">&#39;$q[m]$&#39;</span><span class="p">);</span>

    <span class="n">plt</span><span class="o">.</span><span class="n">subplot</span><span class="p">(</span><span class="mi">2</span><span class="p">,</span> <span class="mi">2</span><span class="p">,</span> <span class="mi">3</span><span class="p">)</span>
    <span class="n">plt</span><span class="o">.</span><span class="n">stem</span><span class="p">((</span><span class="n">t</span><span class="o">-</span><span class="n">np</span><span class="o">.</span><span class="n">arange</span><span class="p">(</span><span class="n">h</span><span class="o">.</span><span class="n">size</span><span class="p">)[::</span><span class="o">-</span><span class="mi">1</span><span class="p">]),</span> <span class="n">h</span><span class="p">[::</span><span class="o">-</span><span class="mi">1</span><span class="p">],</span> <span class="s1">&#39;b&#39;</span><span class="p">,</span> <span class="n">markerfmt</span><span class="o">=</span><span class="s1">&#39;bo&#39;</span><span class="p">)</span>
    <span class="n">plot_settings</span><span class="p">()</span>
    <span class="n">plt</span><span class="o">.</span><span class="n">title</span><span class="p">(</span><span class="s1">&#39;Signal $h[k-m], k=</span><span class="si">%i</span><span class="s1">$&#39;</span> <span class="o">%</span><span class="p">(</span><span class="n">t</span><span class="p">));</span>
    <span class="n">plt</span><span class="o">.</span><span class="n">xlabel</span><span class="p">(</span><span class="s1">&#39;$m$&#39;</span><span class="p">);</span>
    <span class="n">plt</span><span class="o">.</span><span class="n">ylabel</span><span class="p">(</span><span class="s1">&#39;$h[k-m]$&#39;</span><span class="p">);</span>

    <span class="n">plt</span><span class="o">.</span><span class="n">subplot</span><span class="p">(</span><span class="mi">2</span><span class="p">,</span> <span class="mi">2</span><span class="p">,</span> <span class="mi">4</span><span class="p">)</span>
    <span class="n">plt</span><span class="o">.</span><span class="n">stem</span><span class="p">(</span><span class="n">np</span><span class="o">.</span><span class="n">arange</span><span class="p">(</span><span class="n">y</span><span class="o">.</span><span class="n">size</span><span class="p">),</span> <span class="n">y</span><span class="p">,</span> <span class="s1">&#39;b&#39;</span><span class="p">,</span> <span class="n">markerfmt</span><span class="o">=</span><span class="s1">&#39;bo&#39;</span><span class="p">)</span>
    <span class="n">plt</span><span class="o">.</span><span class="n">stem</span><span class="p">([</span><span class="n">t</span><span class="p">],</span> <span class="p">[</span><span class="nb">sum</span><span class="p">(</span><span class="n">q</span><span class="p">)],</span> <span class="s1">&#39;g&#39;</span><span class="p">,</span> <span class="n">markerfmt</span><span class="o">=</span><span class="s1">&#39;go&#39;</span><span class="p">)</span> 
    <span class="n">plot_settings</span><span class="p">()</span>
    <span class="n">plt</span><span class="o">.</span><span class="n">title</span><span class="p">(</span><span class="s1">&#39;Signal $\Sigma_m \; x[m]h[k-m]$&#39;</span><span class="p">);</span>
    <span class="n">plt</span><span class="o">.</span><span class="n">xlabel</span><span class="p">(</span><span class="s1">&#39;$k$&#39;</span><span class="p">);</span>
    <span class="n">plt</span><span class="o">.</span><span class="n">ylabel</span><span class="p">(</span><span class="s1">&#39;$y[k]$&#39;</span><span class="p">);</span>
    <span class="n">plt</span><span class="o">.</span><span class="n">tight_layout</span><span class="p">()</span>
    <span class="n">plt</span><span class="o">.</span><span class="n">show</span><span class="p">()</span>
</pre></div>

     </div>
</div>
</div>
</div>

<div class="jp-Cell-outputWrapper">
<div class="jp-Collapser jp-OutputCollapser jp-Cell-outputCollapser">
</div>


<div class="jp-OutputArea jp-Cell-outputArea">
<div class="jp-OutputArea-child">
    
    <div class="jp-OutputPrompt jp-OutputArea-prompt"></div>




<div class="jp-RenderedImage jp-OutputArea-output ">
<img src="data:image/png;base64,iVBORw0KGgoAAAANSUhEUgAAAx0AAAJOCAYAAADS9Gp+AAAAOXRFWHRTb2Z0d2FyZQBNYXRwbG90bGliIHZlcnNpb24zLjcuMSwgaHR0cHM6Ly9tYXRwbG90bGliLm9yZy/bCgiHAAAACXBIWXMAAA9hAAAPYQGoP6dpAABhQElEQVR4nO3de3wU9d33//cSciQBMZFDDIegSEAIhCRKkFOEgIgcrYq2FlGu61aRQuFqFVQOVgFpi3JXQBGLtlwIRUCsCDW3kmCraBLYgOChXD8gQUAElCQoIYf5/cGVlTUJbJKZzGzyej4eeZD97uzse5fJ97OfndlZl2EYhgAAAADAIk3sDgAAAACgYaPpAAAAAGApmg4AAAAAlqLpAAAAAGApmg4AAAAAlqLpAAAAAGApmg4AAAAAlqLpAAAAAGApmg4AAAAAlqLpAAAAAGApmg4AAAAAlqLpgN/5+OOPNXbsWLVv317BwcFq3bq1UlJSNGPGDM8yr776qlwulw4dOmRf0IuYnee+++6Ty+WSy+VS9+7dTVlnhTfffNOzbpfLpezsbFPXD9QH5okLrJornDhP2DUvnjlzRk2aNNHzzz9f63y+rsNpzNgOKrb76n4yMjLMD34ZDaXGFhYW6re//a2GDh2qq666Si6XS3Pnzq3ROoqKijRt2jRFR0crJCREvXr10tq1a2uVh6YDfmXLli3q27evCgoKtGjRIr377rtasmSJbrrpJq1bt86z3IgRI/TRRx+pbdu2Nqa1Vps2bfTRRx9pzZo1pq534MCB+uijj/TEE0+Yul6gvjBPeLNirnDqPGHHvJidnS3DMHTDDTfUOl/FOpKTk03LXB/M2A5uvPFGNW/eXNdee6127Nihjz76yOund+/eJib2XUOosadOndKKFStUXFysMWPG1God48aN02uvvaY5c+Zo69atSk5O1t13312r56VprRIANlm0aJFiY2P1j3/8Q02b/rj5jh8/XosWLfJcvuqqq3TVVVfZEbHeBAcHq0+fPqavt2XLlurTp48+//xz09cN1AfmCW9WzBVOnSfsmBezs7MVGBjo04vj6vJlZ2eradOmtr3Ari0ztoOuXbtqw4YNuvXWW7Vy5Uq99tprJiasvYZQYzt06KBvv/1WLpdLJ0+e1MqVK2t0+3feeUfp6elas2aN7r77bklSamqqDh8+rN/85je66667FBAQ4PP62NMBv3Lq1ClFRUV5vZCo0KTJj5tzdYcpbN68WfHx8QoODlanTp20ZMkSzZ07Vy6Xy7NMxeV9+/bp7rvvVosWLdS6dWvdf//9OnPmjNf6Dhw4oIkTJ6pz584KCwvT1VdfrZEjR2rv3r21enzHjh1TeHi4xo8f7zX+9ttvKzAwUI8//vhl1zF06FD169dP7777rvr166ewsDB17NjR8w7vunXrlJSUpLCwMHXr1k3bt2+vVVbAqRr6PFHh5ZdfVo8ePRQcHKxrrrlGf/3rX/XLX/5SXbp08en2/jJXmDEvStY93qysLPXo0UM7d+7U4MGDFR4erjZt2uipp57y+TFmZWWpe/fuCg0NlSQZhqHnnntOISEheuyxx1RWVubzumrKCdvBkCFD9Morr+gvf/mLZs2aZfr6f6qx/O1UHMJVW5s2bVJ4eLjuuOMOr/GJEyfq6NGj+vjjj2u2QgPwI5MmTTIkGVOmTDF27txpnD9/vsrlVq1aZUgyDh486BnbunWr0aRJE2PQoEHGpk2bjPXr1xs33nij0bFjR+PiP4U5c+YYkowuXboYs2fPNtLT043FixcbwcHBxsSJE73uJzMz05gxY4bxxhtvGJmZmcamTZuMMWPGGKGhocbnn39+yTzVmTdvnuFyuYzs7GzDMAxj+/btRkhIiDFlyhTPMhMmTDA6dOhQ5e2joqKMdu3aGcnJycbrr79ubN261YiPjzeCgoKMadOmGYMGDTI2bNhgvPnmm0aHDh2M6OjoSz6HWVlZl80MOEljmCd+/etfGyEhIcbs2bON999/33jxxReNyMhIo23btsY999zjWc7queJy80R5eblRUlLi08+l1HVetPLxdujQwWjXrp2RkJBgvPbaa8Z7771n3HHHHYYkIyMjw6d8HTp0MP7jP/7DMAzD+Oabb4wRI0YYkZGRxjvvvHPJ58UM9bEd+Orpp582JBlLly6t03ouxZe/Hbu2pYuZ9bdT4ZtvvjEkGXPmzPFpecMwjD59+hjJycmVxj/99FNDkvHSSy/5vC7DMAyaDviVkydPGv369TMkGZKMwMBAo2/fvsaCBQuMwsJCz3JVFe/k5GSjXbt2RnFxsWessLDQiIyMrPLFxKJFi7zu++GHHzZCQkKM8vLyavOVlpYa58+fNzp37mz8+te/vmSe6pw9e9aIjo42Bg8ebHzyySdGRESEMXHiRK/7rW5CPHTokCHJSE5O9nqcq1evNiQZw4cP91rPwoULDUnG6dOnK62LpgP+qqHPE5s3bzYkGW+88YbX+DPPPGNIMhYvXuwZs3quuNw8sX37ds//w+V+LvW46zIvWvl4K17IJScnG+fOnfMsd+TIEUOSsWzZssvmq1jHyy+/bGRmZhpXX321cdNNNxn5+fnVPh9mqa/toCaGDRtmNGnSxPj000/rvK6f8vVvx45t6afM+tupUJumo3PnzsawYcMqjR89etSQZMyfP9/ndRmGYfCZDviVyMhIffDBB8rOztZ7772n7OxsZWRkaObMmXrppZeUlZWlqKioSrc7e/assrOz9cgjjygoKMgzHh4erpEjR+rVV1+tdJtRo0Z5XY6Pj9e5c+d04sQJtW7dWpJUWlqqRYsWafXq1Tpw4IBKSko8y3/22We1eoxhYWF6+umndf/99ys1NVUjRozQyy+/7NMu0pycHEnS7373O6/HWVBQIElauHCh13qKiooUGBioiIiIWmUFnKihzxNPPfWUUlJSdPvtt3uNd+7cWZKUlJR02XXU11yRmJiorKwsn5aNjo6u9rq6zIuSdY+34rE9/fTTCg4O9oyfOnXqso/pp+tIT0/XQw89pF//+teaP39+lYcHVsjIyFBqaupl1y1Ju3fvVq9evaq8zmk1Y9euXcrIyNCoUaN0/fXXm77+xvi3U1eX+hur6aFbNB3wS0lJSZ7JoaSkRI8++qiee+45LVq0yOuDohW+/fZbGYbheRFwsarGpAsvXC5WUVB++OEHz9j06dO1dOlSPfrooxo4cKBatmypJk2aaNKkSV7L1dR1110n6cIf9KuvvurzB7V27dql4OBg3XzzzV7jOTk5io6OVnx8vNf47t271b1790sWN8BfNcR54uuvv1ZOTo6WLFlS6brDhw+rSZMmSkhIuOx66muuCA8Pr/YF709dbt21nRcl6x5vdna2QkNDK613165dkuTT/0V2drZCQkL0zjvvaMCAAVVumz/VpUsXvfzyy5ddTpLat29f7XVOqhkFBQW688471aZNG/35z3+ucpklS5bon//8pwIDA/X222+ra9eu2rx5s+bPn6/Vq1crOjpaW7ZsUYcOHSrdtjH/7dRWZGSkp4G+2OnTpyVJV155ZY3WxwfJ4fcCAwM1Z84cSdKnn35a5TItW7aUy+XS119/Xem648eP1/q+V69erV/+8peaP3++hg0bphtuuEFJSUk6efJkrdfpdrt122236aabblJRUVG1k29VcnJy1LNnTwUGBnqNZ2dnV/kOTk5OjhITE2udFfAXDWWeyM/Pl3ThdJ4/tWXLFsXFxSk8PPyy66mvuSIzM1OBgYE+/Vzq+0nqMi9W5Lfi8WZnZ6tnz56VXvRlZ2crKirqki/4L142ISFBb7zxhnbs2KGZM2de9jZt27bVpEmTfPq51AtDJ9WMSZMmKS8vT2vXrlXLli2rXGbPnj365JNPNGPGDJ04cUIlJSUaPHiwRo0apRMnTig2NrbKPZJS4/3bqYsePXros88+U2lpqdd4xUkwavodJjQd8CvHjh2rcrziEIXqdjE2a9ZMSUlJevPNN3X+/HnPeFFRkd5+++1a53G5XF671KULk9dXX31Vq/V98cUXGjZsmFJSUrR9+3aNHj1ac+fOrXQ2nOrs2rWr0qR37tw57du3r9L4sWPHdPz4cZoONDgNeZ6oOMXvT0+3+cYbbygjI8Onw0Ok+psrKg4R8eWnuv+Xus6LVj7erKysKperyQvNinUMGzZML7/8shYuXKilS5f6dNu6ckrNWLp0qdavX68FCxZc8jS1e/bs0bx585SYmKiQkBBdc801uuOOOzRkyBA1bdpUcXFx1Z7pqzH+7dTV2LFjVVRUpA0bNniNv/baa4qOjtaNN95Yo/VxTAX8yrBhwxQTE6ORI0cqLi5O5eXlcrvd+uMf/6jw8HBNnTq12ts+9dRTGjFihIYNG6apU6eqrKxMv//97xUeHu7ZVVhTt912m1599VXFxcUpPj5eOTk5+v3vf6+YmJgar+vQoUMaMmSIunTpog0bNigwMFALFy5U9+7dNX/+fD377LOXvP2RI0d04sSJSpNebm6uSktLK41XHJfq60QL+IuGPE+0b99eiYmJWrx4sdq0aaPOnTvrvffe09/+9jdJvv091+dcERERUac5pq7zomTd4z127JiOHTtWabnS0lLl5uZq+vTpl81WsY6KF6X33Xefjhw5ol/96ldq06ZNpc8emMnq7cDlcmngwIGX/UbxvXv3asaMGerWrZv69u2rnTt3el0fExOjmJgYlZeXa//+/brllls81+3fv18zZszwXP7ss890zz33VHk/je1vp8LWrVt19uxZFRYWSrrwnL3xxhuSpFtvvVVhYWGSLuxZGTx4sGbPnq3Zs2dLkoYPH660tDQ99NBDKigo0LXXXqvXX39d27Zt0+rVq2t0iKNE0wE/88QTT2jz5s167rnndOzYMRUXF6tt27YaMmSIZs6cqa5du1Z721tuuUUbNmzQ7Nmzddddd6lNmzZ6+OGHdfToUf31r3+tVZ4lS5YoMDBQCxYsUFFRkXr37q2NGzfW+JtGjx07piFDhqhVq1Z6++23Pedqj4uL0/33368lS5booYceUseOHatdR3WT26XGAwMD1aNHjxplBZyuoc4T0oUXcuvXr9dDDz2kGTNmqFmzZho3bpyeeeYZ3XnnnTX6IKzT5woz5kXJusdb8SHfn76LvX//fv3www8+7yn56TqeeOIJ5efn6xe/+IVatWql/v37X3Y9tWHldlBUVCTpwmFgvuQoLi7W/v371bdv30rXz5kzR3PnztWBAwc834EiScXFxTpw4IBXnj179mjhwoVV3k9j+tu52EMPPaTDhw97Lq9fv17r16+XJB08eNDz92MYhsrKylReXu51+40bN+rxxx/X7Nmzdfr0acXFxen111+v9L05PqnRua6ABub8+fNGt27djLS0NLuj1EjF6fxKSkqM0tJSU9ddcW7wV155hVPmAoZ/zBMLFiwwmjZtanz//fde41bNFU6cJ5w+L1qZzy7VPS9btmwxXC6XsWfPHtPua/369V5/gzk5OUbnzp09l7/99lsjODjY5++tqFDV347TtyV/xZ4ONCoPPPCA0tLS1LZtWx0/flwvvviiPvvssyrPZuF0hw8fVmBgoK6//vpqPxhbG5s3b9bYsWNNWx/gb/xxnsjKylK3bt08ewMuZsVc4dR5wunzolX57FLd87J9+3aNHz/e1Hf49+7dq549e3ou5+bmel3eu3evunbtWuMzOVX3t+P0bckfuQzDMOwOAdSXO++8Ux9++KG++eYbBQYGqnfv3po1a5bXMaL+4NChQ54z34SGhpp6PvPvvvtOBw4c8Fzu1q2b55hPoDHwx3miffv2SktL0yuvvOI1btVc4cR5wunzopX57OLE7aCmqvrbcfq25K9oOgAAAABYypGnzF2wYIFcLpemTZtmdxQAgMNQIwDA/ziu6cjKytKKFSsqfaMjAADUCADwT45qOoqKivTzn/9cL7/8crXfRgkAaJyoEQDgvxx19qrJkydrxIgRGjJkiJ5++ulqlysuLlZxcbHncnl5uU6fPq3IyEi5XK76iAoADYZhGCosLFR0dLSaNHHUe1FefK0REnUCAMxiVo1wTNOxdu1a7dq1y/NFOZeyYMECzZs3rx5SAUDjkZ+fX6tvya4PNakREnUCAMxW1xrhiKYjPz9fU6dO1bvvvquQkJDLLj9z5kxNnz7dc/nMmTNq3769Dh48qIiICCuj1klJSYm2b9+u1NRUBQYG2h2nWv6SU/KfrOQ0FznNVVhYqNjYWMfOnzWtERJ1wmrkNBc5zUVOc5lVIxzRdOTk5OjEiRNKTEz0jJWVlWnHjh164YUXVFxcrICAAM91wcHBCg4OrrSeK6+8Us2bN6+XzLVRUlKisLAwRUZGOnrj8peckv9kJae5yGmuimxOPeyopjVCok5YjZzmIqe5yGkus2qEI5qOwYMHa+/evV5jEydOVFxcnB599NFKxQQA0HhQIwDA/zmi6YiIiFD37t29xpo1a6bIyMhK4wCAxoUaAQD+z7mnKQEAAADQIDhiT0dVMjIy7I4AAHAoagQA+Bf2dAAAAACwFE0HAAAAAEvRdAAAAACwFE0HAAAAAEvRdAAAAACwFE0HAAAAAEvRdAAAAACwFE0HAAAAAEvRdAAAAACwFE0HAAAAAEvRdAAAAACwFE0HAAAAAEvRdAAAAACwFE0HAAAAAEvRdAAAAACwFE0HAAAAAEvRdAAAAACwFE0HAAAAAEvRdAAAAACwFE0HAAAAAEvRdAAAAACwFE0HAAAAAEvRdAAAAACwFE0HAAAAAEvRdAAAAACwFE0HAAAAAEvRdAAAAACwFE0HAAAAAEvRdAAAAACwFE0HAAAAAEvRdAAAAACwFE0HAAAAAEvRdAAAAACwFE0HAAAAAEvRdAAAAACwFE0HAAAAAEvRdAAAAACwFE0HAAAAAEvRdAAAAACwFE0HAAAAAEvRdAAAAACwFE0HAAAAAEs5oulYvny54uPj1bx5czVv3lwpKSnaunWr3bEAAA5AjQAA/+eIpiMmJkYLFy5Udna2srOzdfPNN2v06NHat2+f3dEAADajRgCA/2tqdwBJGjlypNflZ555RsuXL9fOnTt1/fXX25QKAOAE1AgA8H+OaDouVlZWpvXr1+vs2bNKSUmpcpni4mIVFxd7LhcUFEiSSkpKVFJSUi85a6Mim5MzSv6TU/KfrOQ0FznN5fR8F/OlRkjUCauR01zkNBc5zWVWPpdhGIYpa6qjvXv3KiUlRefOnVN4eLjWrFmjW2+9tcpl586dq3nz5lUaX7NmjcLCwqyOCgANyvfff6977rlHZ86cUfPmze2OU6Wa1AiJOgEAZjGrRjim6Th//rzy8vL03XffacOGDVq5cqUyMzPVrVu3SstW9Q5Wu3btdPLkSccWTOlCp5ienq60tDQFBgbaHada/pJT8p+s5DQXOc1VUFCgqKgoRzcdNakREnXCauQ0FznNRU5zmVUjHHN4VVBQkK699lpJUlJSkrKysrRkyRK99NJLlZYNDg5WcHBwpfHAwEBH/6dVIKf5/CUrOc1FTnM4OVuFmtQIiTpRX8hpLnKai5zmMCubI85eVRXDMLzepQIAoAI1AgD8iyP2dMyaNUvDhw9Xu3btVFhYqLVr1yojI0Pbtm2zOxoAwGbUCADwf45oOr7++mvde++9OnbsmFq0aKH4+Hht27ZNaWlpdkcDANiMGgEA/s8RTccrr7xidwQAgENRIwDA/zn2Mx0AAAAAGgaaDgAAAACWoukAAAAAYCmaDgAAAACWoukAAAAAYCmaDgAAAACWoukAAAAAYCmaDgAAAACWoukAAAAAYCmaDgAAAACWoukAAAAAYCmaDgAAAACWoukAAAAAYCmaDgAAAACWoukAAAAAYCmaDgAAAACWoukAAAAAYCmaDgAAAACWoukAAAAAYCmaDgAAAACWoukAAAAAYCmaDgAAAACWoukAAAAAYCmaDgAAAACWoukAAAAAYCmaDgAAAACWoukAAAAAYCmaDgAAAACWoukAAAAAYCmaDgAAAACWoukAAAAAYKmmvi741ltv1XjlaWlpCg0NrfHtAAD+hRoBALgUn5uOMWPG1GjFLpdL//73v9WpU6eaZgIA+BlqBADgUmp0eNXx48dVXl7u009YWJhVmQEADkSNAABUx+emY8KECTXaDf6LX/xCzZs3r1UoAIB/oUYAAC7F58OrVq1aVaMVL1++vMZhAAD+iRoBALgUn5sOAAB88d133+mVV17R8ePHFRsbq169eqlnz55q1qyZ3dEAADapVdNBQQEAVGfcuHHau3evkpOTtXXrVn355ZcqLy9Xp06d1KtXL/3tb3+zOyIAoJ7VqumgoAAAqvPxxx8rMzNTSUlJkqTi4mLt27dPubm5ys3NtTkdAMAOtWo6KCgAgOp0795dTZr8eJ6S4OBg9e7dW71797YxFQDATrVqOigoAIDqPPvss3ryySe1YcMGhYSE2B0HAOAANfqejgoVBeXcuXNm5wEA+LnY2FgVFhaqa9eumjVrljZv3qy8vDy7YwEAbFSrpsPsgrJgwQIlJycrIiJCrVq10pgxY/TFF1/Uen0AAPvcfvvtys/PV2pqqj755BM98MADio2NVWRkpG6++eYar48aAQD+r1aHV91+++06deqUp6CsWLFC3377ra644gr17NlT77//fo3Wl5mZqcmTJys5OVmlpaV6/PHHNXToUO3fv58zYgGAn9m/f7927typ+Ph4z1heXp52794tt9td4/VRIwDA/9Wq6TC7oGzbts3r8qpVq9SqVSvl5ORowIABtYkIALBJcnKyioqKvMbat2+v9u3ba/To0TVeHzUCAPxfrZoOswvKT505c0aSdOWVV1Z5fXFxsYqLiz2XCwoKJEklJSUqKSmp8/1bpSKbkzNK/pNT8p+s5DQXOc1ldr5p06Zp7ty5WrdunVq2bGnquqXL1wiJOmE1cpqLnOYip7nMyucyDMOo6Y02bdqk5cuXW1JQDMPQ6NGj9e233+qDDz6ocpm5c+dq3rx5lcbXrFmjsLAwU/MAQEP3/fff65577tGZM2fUvHnzOq+v4uyGV155pUaNGqU+ffooISFB8fHxCg4OrtO6fakREnUCAMxiVo2oVdNhZUGZPHmytmzZon/+85+KiYmpcpmq3sFq166dTp48aUrBtEpJSYnS09OVlpamwMBAu+NUy19ySv6TlZzmIqe5CgoKFBUVZVrTcfjwYbndbuXm5nr+PXTokAICAhQXF6c9e/bUet2+1AiJOmE1cpqLnOYip7nMqhG1Orzq4MGDXgXl2WefNaWgTJkyRW+99ZZ27NhxyWISHBxcZXMTGBjo6P+0CuQ0n79kJae5yGkOs7N16NBBHTp08DrctrCwUG63u04Nh681QqJO1Bdymouc5iKnOczKVqumw+yCYhiGpkyZok2bNikjI0OxsbG1iQUAcKiIiAj1799f/fv3r/FtqREA4P98/p6OPXv2qLy8vNrrKwrK5MmTJUn79u1TaWmpT+uePHmyVq9erTVr1igiIkLHjx/X8ePH9cMPP/gaDwBgo8vViJ+iRgBA4+Jz05GQkKBTp075vOKUlBSfvzBw+fLlOnPmjAYNGqS2bdt6ftatW+fz/QEA7EONAABcis+HVxmGoSeffNLns36cP3/e5xC1+Cw7AMBBqBEAgEvxuekYMGCAvvjiC59XnJKSotDQ0FqFAgD4F2oEAOBSfG46MjIyPL8XFhYqIiLCijwAAD90cY3YvXu3rr/+egUFBdkXCADgKLU6e1X//v21bds2tWnTxuw8AAA/l5SUpICAAHXp0kU9e/ZUr1691KtXL8XHx6tVq1Z2xwMA2MDnD5JfLCkpSTfeeKM+//xzr/Hdu3fr1ltvNSUYAMA/vfPOO2rZsqWuv/56NWnSRP/93/+toUOHej4APnz4cD322GN6/fXX7Y4KAKgntWo6Vq5cqfvvv1/9+vXTP//5T3355Ze68847lZSUVOdvJAcA+LepU6dq5cqVWrt2rf7yl79o9+7d2rp1q2JjYzVjxgzFx8crNzdXv/3tb+2OCgCoJ7U6vEqS5syZo6CgIKWlpamsrEzDhg1TVlaWevfubWY+AICfOXz4sLp37+41NmzYMC1atEjr1q3jVLcA0AjVak/HsWPH9Ktf/Uq/+93v1K1bNwUGBmr8+PE0HAAApaSk6KWXXqo0npCQoK1bt9qQCABgt1rt6ejUqZPi4uK0fv16jRgxQv/4xz9055136siRI3r00UfNzggA8CPLli3TjTfeqJMnT+rXv/61unbtqtLSUv3pT39Sy5Yt7Y4HALBBrZqOVatWafz48Z7Lw4YN0/bt23Xbbbfp8OHDWrZsmWkBAQD+JS4uTp988ommTp2qHj16KCgoSGVlZQoMDNTKlSvtjgcAsEGtmo6LG44KvXv31ocffsjZqwAA6tKli7Zt26YjR45o165datKkiRITE9W2bVu7owEAbFDrD5JXpWPHjvrXv/5l5ioBAH4sJiZGMTExdscAANisVh8kvxSO1wUAAABwMdObDgAAAAC4GE0HAAAAAEvRdAAAAACwFE0HAAAAAEvRdAAAAACwFE0HAAAAAEvRdAAAAACwFE0HAAAAAEvRdAAAAACwFE0HAAAAAEvRdAAAAACwFE0HAAAAAEvRdAAAAACwFE0HAAAAAEvRdAAAAACwFE0HAAAAAEvRdAAAAACwFE0HAAAAAEvRdAAAAACwFE0HAAAAAEvRdAAAAACwFE0HAAAAAEvRdAAAAACwFE0HAAAAAEvRdAAAAACwFE0HAAAAAEvRdAAAAACwFE0HAAAAAEvRdAAAAACwlCOajh07dmjkyJGKjo6Wy+XSm2++aXck+IGyMikz06UdO65WZqZLZWV2J6oaOYG6o06gppjTAGdxRNNx9uxZ9ezZUy+88ILdUeAnNm6UOnaU0tKaavHiJKWlNVXHjhfGnYScgDmoE6gJ5jTAeZraHUCShg8fruHDh9sdA35i40bpZz+TDMN7/KuvLoy/8YY0bpw92S5GTsA81An4ijkNcCZH7OkAfFVWJk2dWrmYSD+OTZsm23ejkxMA6h9zGuBcjtjTUVPFxcUqLi72XC4oKJAklZSUqKSkxK5Yl1WRzckZJWfnzMx06ciR6jdbw5Dy86Xt20s1cGAVVaeekNNaTt5GL+ZvORsS6oS1nJqTOc1a5DSXv+WsK79sOhYsWKB58+ZVGn/33XcVFhZmQ6KaSU9PtzuCT5yYc8eOqyUlXXa5rVvdOnv2K+sDVYOc9cOJ22hVnJ7z+++/tzuC6agT9cNpOZnT6gc5zeX0nGbVCJdhVLUT0j4ul0ubNm3SmDFjql2mqnew2rVrp5MnT6p58+b1kLJ2SkpKlJ6errS0NAUGBtodp1pOzpmZ6VJa2uV75fR0+/cgkNM6Tt5GL+YvOQsKChQVFaUzZ844eg6tQJ2wn1NzMqdZi5zm8pecZtUIv9zTERwcrODg4ErjgYGBjv5Pq0DO2ktNlWJiLnwgsKp22eW6cH1qalMFBNR/vgrkrB9O3Ear4vScTs5WW9SJ+uG0nMxp9YOc5nJ6TrOyOeKD5EVFRXK73XK73ZKkgwcPyu12Ky8vz95gcJyAAGnJkgu/u1ze11Vcfv552V5MyAmYizoBXzCnAc7liKYjOztbCQkJSkhIkCRNnz5dCQkJmj17ts3J4ETjxl045WF0tPd4TIyzToVITsA81An4ijkNcCZHHF41aNAgOeyjJXC4ceOkIUOkFi0uXP7730s1fLjzdpeTEzAHdQI1wZwGOI8j9nQAtXFx8ejXz3BsMSEnANQ/5jTAWWg6AAAAAFiKpgMAAACApWg6AAAAAFiKpgMAAACApWg6AAAAAFiKpgMAAACApWg6AAAAAFiKpgMAAACApWg6AAAAAFiKpgMAAACApWg6AAAAAFiKpgMAAACApWg6AAAAAFiKpgMAAACApWg6AAAAAFiKpgMAAACApWg6AAAAAFiKpgMAAACApWg6AAAAAFiKpgMAAACApWg6AAAAAFiKpgMAAACApWg6AAAAAFiKpgMAAACApWg6AAAAAFiKpgMAAACApWg6AAAAAFiKpgMAAACApWg6AAAAAFiKpgMAAACApWg6AAAAAFiKpgMAAACApWg6AAAAAFiKpgMAAACApWg6AAAAAFiKpgMAAACApWg6AAAAAFiKpgMAAACApWg6AAAAAFiKpgMAAACApWg6AAAAAFjKUU3HsmXLFBsbq5CQECUmJuqDDz6wOxIAwCGoEWiIysqkzEyXduy4WpmZLpWV2Z2oav6SE87lmKZj3bp1mjZtmh5//HHt3r1b/fv31/Dhw5WXl2d3NACAzagRaIg2bpQ6dpTS0ppq8eIkpaU1VceOF8adxF9ywtkc03QsXrxYDzzwgCZNmqSuXbvq+eefV7t27bR8+XK7owEAbEaNQEOzcaP0s59JR454j3/11YVxp7yg95eccL6mdgeQpPPnzysnJ0ePPfaY1/jQoUP14Ycf2pQKTmcYhkJdP0iSyn8oUXlQoM2Jqlb+gxTqqvjdP3IahiOmBkASNQK14+QaUVYmPTpVCpEkV+XrXS7p0WnSyDQpIKCew12kupw/GKEyDJdcLmnaNGn0aHtzwj844pXFyZMnVVZWptatW3uNt27dWsePH6+0fHFxsYqLiz2Xz5w5I0k6ffq0SkpKrA1bByUlJfr+++916tQpBQY6Z/L7KX/JWXjqe2VeM1iS9D8DbA5zGZnXXPjXX3KePvquyssj7A1zCf6yjfpLzsLCQkkXXqQ5UU1rhESdsJo/5HR6jVgTIumaSy/j7l0vUS6pqpwDDuzQOYXJMKT8fOntt0vVr59z5g9/2D4l/8lpVo1wRNNRweXybvcNw6g0JkkLFizQvHnzKo3HxsZalg1oVLrzt9QYFRYWqkWLFnbHqJavNUKiTgDWaut1acwYe1KgftW1Rjii6YiKilJAQECld6xOnDhR6Z0tSZo5c6amT5/uuVxeXq7Tp08rMjKy2gLkBAUFBWrXrp3y8/PVvHlzu+NUy19ySv6TlZzmIqe5DMNQYWGhoqOj7Y5SpZrWCIk6YTVymouc5iKnucyqEY5oOoKCgpSYmKj09HSNHTvWM56enq7Ro0dXWj44OFjBwcFeY1dccYXVMU3TvHlzR29cFfwlp+Q/WclpLnKax8l7OGpaIyTqRH0hp7nIaS5ymseMGuGIpkOSpk+frnvvvVdJSUlKSUnRihUrlJeXpwcffNDuaAAAm1EjAMC/OabpuOuuu3Tq1Ck99dRTOnbsmLp376533nlHHTp0sDsaAMBm1AgA8G+OaTok6eGHH9bDDz9sdwzLBAcHa86cOZV2+TuNv+SU/CcrOc1FzsapodcIyX+2GXKai5zmIqczuQynniMRAAAAQIPgmG8kBwAAANAw0XQAAAAAsBRNBwAAAABL0XTY5NChQ3rggQcUGxur0NBQXXPNNZozZ47Onz9vd7RKnnnmGfXt21dhYWGOOs/9smXLFBsbq5CQECUmJuqDDz6wO1IlO3bs0MiRIxUdHS2Xy6U333zT7kiVLFiwQMnJyYqIiFCrVq00ZswYffHFF3bHqmT58uWKj4/3nM88JSVFW7dutTvWZS1YsEAul0vTpk2zOwr8CDWi7qgR5vCXGiH5Z51oTDWCpsMmn3/+ucrLy/XSSy9p3759eu655/Tiiy9q1qxZdker5Pz587rjjjv00EMP2R3FY926dZo2bZoef/xx7d69W/3799fw4cOVl5dndzQvZ8+eVc+ePfXCCy/YHaVamZmZmjx5snbu3Kn09HSVlpZq6NChOnv2rN3RvMTExGjhwoXKzs5Wdna2br75Zo0ePVr79u2zO1q1srKytGLFCsXHx9sdBX6GGlE31Ajz+EuNkPyvTjS6GmHAMRYtWmTExsbaHaNaq1atMlq0aGF3DMMwDOOGG24wHnzwQa+xuLg447HHHrMp0eVJMjZt2mR3jMs6ceKEIcnIzMy0O8pltWzZ0li5cqXdMapUWFhodO7c2UhPTzcGDhxoTJ061e5I8HPUCN9RI6zjTzXCMJxbJxpjjWBPh4OcOXNGV155pd0xHO/8+fPKycnR0KFDvcaHDh2qDz/80KZUDceZM2ckydHbYllZmdauXauzZ88qJSXF7jhVmjx5skaMGKEhQ4bYHQUNBDXCN9QIa/lDjZCcXycaY41w1JcDNmb/8z//oz/96U/64x//aHcUxzt58qTKysrUunVrr/HWrVvr+PHjNqVqGAzD0PTp09WvXz91797d7jiV7N27VykpKTp37pzCw8O1adMmdevWze5Ylaxdu1a7du1SVlaW3VHQQFAjfEeNsI7Ta4TkH3WisdYI9nSYbO7cuXK5XJf8yc7O9rrN0aNHdcstt+iOO+7QpEmTHJvTaVwul9dlwzAqjaFmHnnkEe3Zs0evv/663VGq1KVLF7ndbu3cuVMPPfSQJkyYoP3799sdy0t+fr6mTp2q1atXKyQkxO44cBhqRP2hRpjP6TVCcn6daMw1gj0dJnvkkUc0fvz4Sy7TsWNHz+9Hjx5VamqqUlJStGLFCovT/aimOZ0kKipKAQEBld6xOnHiRKV3tuC7KVOm6K233tKOHTsUExNjd5wqBQUF6dprr5UkJSUlKSsrS0uWLNFLL71kc7If5eTk6MSJE0pMTPSMlZWVaceOHXrhhRdUXFysgIAAGxPCTtQI61EjrOEPNUJyfp1ozDWCpsNkUVFRioqK8mnZr776SqmpqUpMTNSqVavUpEn97XiqSU6nCQoKUmJiotLT0zV27FjPeHp6ukaPHm1jMv9kGIamTJmiTZs2KSMjQ7GxsXZH8plhGCouLrY7hpfBgwdr7969XmMTJ05UXFycHn300QZbTOAbaoT1qBHm8ucaITmvTjTmGkHTYZOjR49q0KBBat++vf7whz/om2++8VzXpk0bG5NVlpeXp9OnTysvL09lZWVyu92SpGuvvVbh4eG2ZJo+fbruvfdeJSUled4BzMvL04MPPmhLnuoUFRXpwIEDnssHDx6U2+3WlVdeqfbt29uY7EeTJ0/WmjVrtHnzZkVERHjeHWzRooVCQ0NtTvejWbNmafjw4WrXrp0KCwu1du1aZWRkaNu2bXZH8xIREVHpWOdmzZopMjLSscdAw3moEXVDjTCPv9QIyT/qRKOuEfadOKtxW7VqlSGpyh+nmTBhQpU5t2/fbmuupUuXGh06dDCCgoKM3r17O/L0fdu3b6/yuZswYYLd0Tyq2w5XrVpldzQv999/v+f/+6qrrjIGDx5svPvuu3bH8kljOR0izEONqDtqhDn8pUYYhv/WicZSI1yGYRjWtDMAAAAAwNmrAAAAAFiMpgMAAACApWg6AAAAAFiKpgMAAACApWg6AAAAAFiKpgMAAACApWg6AAAAAFiKpgMAAACApWg6AAAAAFiKpgMAAACApWg6AAAAAFiKpgMw2aFDh+RyubRx40YNGDBAoaGhSkxM1KFDh5SRkaEbbrhBYWFhSk1N1enTp+2OCwCoZ9QJNEZN7Q4ANDRut1uStGzZMs2fP1/h4eEaM2aM7r33XoWHh2vp0qUyDEO33nqrXnnlFf3mN7+xNzAAoF5RJ9AY0XQAJsvNzVXLli21du1aRUVFSZJSU1P1/vvva//+/WrWrJkkKTk5WcePH7czKgDABtQJNEYcXgWYzO12a9SoUZ5CIkl5eXm6++67PYWkYiw2NtaOiAAAG1En0BjRdAAmy83NVZ8+fbzG3G63brzxRs/lc+fO6csvv1SvXr3qOR0AwG7UCTRGNB2AiQoKCnTo0CElJCR4xg4fPqzTp097je3bt09lZWXq2bOnHTEBADahTqCxoukATJSbm6smTZooPj7eM+Z2u3XFFVeoY8eOXst16tRJERERNqQEANiFOoHGiqYDMFFubq7i4uIUGhrqGdu9e3eld6pyc3PZZQ4AjRB1Ao2VyzAMw+4QAAAAABou9nQAAAAAsBRNBwAAAABL0XQAAAAAsBRNBwAAAABL0XQAAAAAsBRNBwAAAABL0XQAAAAAsBRNBwAAAABL0XQAAAAAsBRNBwAAAABL0XQAAAAAsBRNBwAAAABL0XQAAAAAsBRNBwAAAABL0XQAAAAAsBRNBwAAAABL0XQAAAAAsBRNBwAAAABL0XQAAAAAsBRNByr5+OOPNXbsWLVv317BwcFq3bq1UlJSNGPGDM8yr776qlwulw4dOmRf0IvUJM+ZM2fUpEkTPf/885dc7r777pPL5ZLL5VL37t1rtQ4nefPNNz2Px+VyKTs7u0a3t/MxFxUVadq0aYqOjlZISIh69eqltWvX1nsOoDFoyDWgYrnqfjIyMuol78UuVWvq6lLzfmOthVLd6yFqp6ndAeAsW7Zs0ahRozRo0CAtWrRIbdu21bFjx5Sdna21a9fqj3/8oyRpxIgR+uijj9S2bVubE9dcdna2DMPQDTfccNll27Rpo02bNiksLKzKdSQnJ1sV03QDBw7URx99pC1btujpp5+u8e3tfMzjxo1TVlaWFi5cqOuuu05r1qzR3XffrfLyct1zzz31ngdoqBp6DbjxxhvVvHlztWrVSn/+858VGBjodX23bt1syVVdramrS837jbUWSnWvh6gdmg54WbRokWJjY/WPf/xDTZv+uHmMHz9eixYt8ly+6qqrdNVVV9kRsc6ys7MVGBio3r17X3bZ4OBg9enTp8p1NG3a1Kd1OEXLli3Vp08fff7557W6vV2P+Z133lF6erqn0ZCk1NRUHT58WL/5zW901113KSAgoF4zAQ1VQ68BXbt21YYNG3Trrbdq5cqVeu211+yOJKn6WlNXl5r3G2stlOpeD1E7HF4FL6dOnVJUVJRXsanQpMmPm0t1u7I3b96s+Ph4BQcHq1OnTlqyZInmzp0rl8vlWabi8r59+3T33XerRYsWat26te6//36dOXPGa30HDhzQxIkT1blzZ4WFhenqq6/WyJEjtXfv3lo/xqysLPXo0UM7d+7U4MGDFR4erjZt2uipp56q0Tq6d++u0NBQSZJhGHruuecUEhKixx57TGVlZbXOdylDhw5Vv3799O6776pfv34KCwtTx44dtW7dOknSunXrlJSUpLCwMHXr1k3bt2837b7tesybNm1SeHi47rjjDq/xiRMn6ujRo/r4448tuV+gMWoMNWDIkCF65ZVX9Je//EWzZs2q9Xou59ixYwoPD9f48eO9xt9++20FBgbq8ccfv+w6rJzzqYWodwZwkUmTJhmSjClTphg7d+40zp8/X+Vyq1atMiQZBw8e9Ixt3brVaNKkiTFo0CBj06ZNxvr1640bb7zR6Nixo3HxpjZnzhxDktGlSxdj9uzZRnp6urF48WIjODjYmDhxotf9ZGZmGjNmzDDeeOMNIzMz09i0aZMxZswYIzQ01Pj8888vmac6HTp0MNq1a2ckJCQYr732mvHee+8Zd9xxhyHJyMjI8Cw3YcIEo0OHDtWu4z/+4z8MwzCMb775xhgxYoQRGRlpvPPOO5e9/7qIiooy2rVrZyQnJxuvv/66sXXrViM+Pt4ICgoypk2bZgwaNMjYsGGD8eabbxodOnQwoqOjK62j4rnKysqq0X3X9DGXl5cbJSUlPv1cSp8+fYzk5ORK459++qkhyXjppZdq9DgAVK8x1IAKTz/9tCHJWLp0qc+3qal58+YZLpfLyM7ONgzDMLZv326EhIQYU6ZM8SxzqVpjxpxvGFXP+429FhpG7eshaoemA15Onjxp9OvXz5BkSDICAwONvn37GgsWLDAKCws9y1U1wScnJxvt2rUziouLPWOFhYVGZGRklQVn0aJFXvf98MMPGyEhIUZ5eXm1+UpLS43z588bnTt3Nn79619fMk9VvvnmG0OSkZycbJw7d84zfuTIEUOSsWzZMs9YdRNtxTpefvllIzMz07j66quNm266ycjPz7/kfdfVoUOHPNkvfo5Xr15tSDKGDx/u9dwtXLjQkGScPn3aaz21mWRr85i3b9/u2Y4u93Op/7fOnTsbw4YNqzR+9OhRQ5Ixf/58nx8HgEtr6DXgp4YNG2Y0adLE+PTTT2t0O1+dPXvWiI6ONgYPHmx88sknRkREhDFx4kSvx1hdrTFrzjeMyvM+tfACmo76xeFV8BIZGakPPvjA86Hd0aNH68svv9TMmTPVo0cPnTx5ssrbnT17VtnZ2RozZoyCgoI84+Hh4Ro5cmSVtxk1apTX5fj4eJ07d04nTpzwjJWWlmr+/Pnq1q2bgoKC1LRpUwUFBenf//63Pvvssxo/vqysLEnS008/reDgYM/4qVOnJEnR0dE+ryM9PV2DBw/WPffco4yMDMXExFR7m4yMjEueMeXiH7fbXeU6cnJyJEm/+93vvJ7jgoICSdLChQu9DmEoKipSYGCgIiIiLvuYLqc2jzkxMVFZWVk+/Vzueb/4cdXkOgA109BrwMV27dqljIwMjRo1Stdff32d1lWdsLAwPf3003rvvfeUmpqq4cOH6+WXX/Zp3rJyzqcWwg58kBxVSkpKUlJSkiSppKREjz76qJ577jktWrTI68OEFb799lsZhqHWrVtXuq6qMelCcbtYxcT3ww8/eMamT5+upUuX6tFHH9XAgQPVsmVLNWnSRJMmTfJazlfZ2dkKDQ3VzTff7DW+a9cuSVJCQoJP6wgJCdE777yjAQMGVPl8/FSXLl308ssv+5Sxffv2VY7v2rVLwcHBlbLn5OQoOjpa8fHxXuO7d+9W9+7dqzw2u6Zq85jDw8PVq1cvn9Z/qYyRkZGeQnix06dPS5KuvPJKn+4DgO8aag2oUFBQoDvvvFNt2rTRn//85yqXWbJkif75z38qMDBQb7/9trp27arNmzdr/vz5Wr16taKjo7VlyxZ16NDhkvd13XXXSbrwBsmrr77q84kvrJzzqYWwA/8DuKzAwEDNmTNHzz33nD799NMql2nZsqVcLpe+/vrrStcdP3681ve9evVq/fKXv9T8+fO9xk+ePKkrrriixuvLzs5Wz549K00+2dnZioqKqnaS++myCQkJmjNnjm677TbNnDlTCxYsuORt2rZtq0mTJtU478VycnLUs2fPSqd4zM7O9rw4+Onyt912W53u8+L7qOljzszMVGpqqk/rP3jwoDp27FjldT169NDrr7+u0tJSr/+3ig+Smn1eewDeGlINqDBp0iTl5eVpx44datmyZZXL7NmzR5988ok2btyoP//5z+rbt68GDx6sJUuWaPHixRo7dqxeffVVzZkzp9r7cbvduu2223TTTTfpX//6l/785z9r8uTJPmW0cs6nFsIOHF4FL8eOHatyvGI3dnW7XJs1a6akpCS9+eabOn/+vGe8qKhIb7/9dq3zuFwur12/0oXzyH/11Ve1Wl9WVpYSExMrjefk5FQ5fql1DBs2TC+//LIWLlyopUuX1ipPTezatavShHru3Dnt27ev0vixY8d0/Phxnx/T5dTmMZt1eNXYsWNVVFSkDRs2eI2/9tprio6O1o033mjKYwTQ8GuAJC1dulTr16/XggULLnma2j179mjevHlKTExUSEiIrrnmGt1xxx0aMmSImjZtqri4uEuenemLL77QsGHDlJKSou3bt2v06NGaO3dupTN0VcfKOZ9aCDuwpwNehg0bppiYGI0cOVJxcXEqLy+X2+3WH//4R4WHh2vq1KnV3vapp57SiBEjNGzYME2dOlVlZWX6/e9/r/DwcM+hMDV122236dVXX1VcXJzi4+OVk5Oj3//+95c8ZrQ6x44d07FjxypNSqWlpcrNzdX06dN9XkfFBHbffffpyJEj+tWvfqU2bdro9ttvr3EuXxw5ckQnTpyolD03N1elpaWVxiuOea3qXZ/quFwuDRw4sNI38tb2MUdERNTo/qszfPhwpaWl6aGHHlJBQYGuvfZavf7669q2bZtWr17Nd3QAJmrINUC6sId0xowZ6tatm/r27audO3d6XR8TE6OYmBiVl5dr//79uuWWWzzX7d+/3+tb2T/77LNqv5z00KFDGjJkiLp06aINGzYoMDBQCxcuVPfu3TV//nw9++yzl8xp5ZxPLYRdaDrg5YknntDmzZv13HPP6dixYyouLlbbtm01ZMgQzZw5U127dq32trfccos2bNig2bNn66677lKbNm308MMP6+jRo/rrX/9aqzxLlixRYGCgFixYoKKiIvXu3VsbN27UE088UeN1VXzo7afveOzfv18//PCDT++EVLWOJ554Qvn5+frFL36hVq1aqX///jXOdjnVTZyXGg8MDFSPHj18Wn9RUZEkVfntwnY95ott3LhRjz/+uGbPnq3Tp08rLi5Or7/+eqXz3wOom4ZcA6QLc2NxcbH279+vvn37Vrp+zpw5mjt3rg4cOOD53gpJKi4u1oEDB7zm1D179mjhwoWV1nHs2DENGTJErVq10ttvv+35Dou4uDjdf//9WrJkiR566KFqDymtyClZM+dTC2Ebu0+fhYbt/PnzRrdu3Yy0tDS7o9RYxWkCS0pKjNLSUrvj1FnF92a88sorlU4RuGXLFsPlchl79uyxMSGAhsZfa8D69eu9Mufk5BidO3f2XP7222+N4ODgy37PkC+srDWXmvedkM8uZjwvqDn2dMBUDzzwgNLS0tS2bVsdP35cL774oj777DMtWbLE7mi1cvjwYQUGBur666+v9gOU/mLz5s0aO3Zslddt375d48eP590gAHXSUGrA3r171bNnT8/l3Nxcr8t79+5V165dTTsjklW15lLzfk00pFoomfe8oGZchmEYdodAw3HnnXfqww8/1DfffKPAwED17t1bs2bN8jou1l8cOnTIc0760NBQy87jXl++++47HThwwHO5W7duCgsLszERgIamIdWA+mJlrTFj3m9otVCiHtqFpgMAAACApRx5ytwFCxbI5XJp2rRpdkcBADgMNQIA/I/jmo6srCytWLGi0jdKAgBAjQAA/+SopqOoqEg///nP9fLLL1f7DaEAgMaJGgEA/stRZ6+aPHmyRowYoSFDhujpp5+udrni4mIVFxd7LpeXl+v06dOKjIyUy+Wqj6gA0GAYhqHCwkJFR0erSRNHvRflxdcaIVEnAMAsZtUIxzQda9eu1a5duzxfOHMpCxYs0Lx58+ohFQA0Hvn5+bX+pmer1aRGSNQJADBbXWuEI5qO/Px8TZ06Ve+++65CQkIuu/zMmTM1ffp0z+UzZ86offv2OnjwoCIiIqyMWiclJSXavn27UlNTFRgYaHecavlLTsl/spLTXOQ0V2FhoWJjYx07f9a0RkjUCauR01zkNBc5zWVWjXBE05GTk6MTJ04oMTHRM1ZWVqYdO3bohRdeUHFxsQICAjzXBQcHKzg4uNJ6rrzySjVv3rxeMtdGSUmJwsLCFBkZ6eiNy19ySv6TlZzmIqe5KrI59bCjmtYIiTphNXKai5zmIqe5zKoRjmg6Bg8erL1793qNTZw4UXFxcXr00UcrFRMAQONBjQAA/+eIpiMiIkLdu3f3GmvWrJkiIyMrjQMAGhdqBAD4P+eepgQAAABAg+CIPR1VycjIsDsCAMChqBEA4F/Y0wEAAADAUjQdAAAAACxF0wEAAADAUjQdAAAAACxF0wEAAADAUjQdAAAAACxF0wEAAADAUjQdAAAAACxF0wEAAADAUjQdAAAAACxF0wEAAADAUjQdAAAAACxF0wEAAADAUjQdAAAAACxF0wEAAADAUjQdAAAAACxF0wEAAADAUjQdAAAAACxF0wEAAADAUjQdAAAAACxF0wEAAADAUjQdAAAAACxF0wEAAADAUjQdAAAAACxF0wEAAADAUjQdAAAAACxF0wEAAADAUjQdAAAAACxF0wEAAADAUjQdAAAAACxF0wEAAADAUjQdAAAAACxF0wEAAADAUjQdAAAAACxF0wEAAADAUjQdAAAAACxF0wEAAADAUjQdAAAAACxF0wEAAADAUjQdAAAAACxF0wEAAADAUjQdAAAAuKSyMikz06UdO65WZqZLZWV2J4K/cUTTsXz5csXHx6t58+Zq3ry5UlJStHXrVrtjAQAcgBoB2GvjRqljRyktrakWL05SWlpTdex4YRzwlSOajpiYGC1cuFDZ2dnKzs7WzTffrNGjR2vfvn12RwMA2IwaAdhn40bpZz+TjhzxHv/qqwvjNB7wlSOajpEjR+rWW2/Vddddp+uuu07PPPOMwsPDtXPnTrujAQBsRo0A7FFWJk2dKhlG5esqxqZNE4dawSdN7Q7wU2VlZVq/fr3Onj2rlJSUKpcpLi5WcXGx53JBQYEkqaSkRCUlJfWSszYqsjk5o+Q/OSX/yUpOc5HTXE7PdzFfaoREnbAaOc3l1JyZmS4dOVL9S0XDkPLzpe3bSzVwYBWdiU2c+nz+lL/lrCuXYVTVv9a/vXv3KiUlRefOnVN4eLjWrFmjW2+9tcpl586dq3nz5lUaX7NmjcLCwqyOCgANyvfff6977rlHZ86cUfPmze2OU6Wa1AiJOgGYYceOq7V4cdJll5s+PVsDBnxVD4lgB7NqhGOajvPnzysvL0/fffedNmzYoJUrVyozM1PdunWrtGxV72C1a9dOJ0+edGzBlC50iunp6UpLS1NgYKDdcarlLzkl/8lKTnOR01wFBQWKiopydNNRkxohUSesRk5zOTVnZqZLaWmXPygmPd15ezqc+Hz+lL/kNKtGOObwqqCgIF177bWSpKSkJGVlZWnJkiV66aWXKi0bHBys4ODgSuOBgYGO/k+rQE7z+UtWcpqLnOZwcrYKNakREnWivpDTXE7LmZoqxcRc+NB4VW9Ru1wXrk9NbaqAgPrPdzlOez6r4/ScZmVzxAfJq2IYhte7VAAAVKBGANYLCJCWLLnwu8vlfV3F5eeflyMbDjiPI/Z0zJo1S8OHD1e7du1UWFiotWvXKiMjQ9u2bbM7GgDAZtQIwD7jxklvvCH96lcX9nhUiIm50HCMG2dbNPgZRzQdX3/9te69914dO3ZMLVq0UHx8vLZt26a0tDS7owEAbEaNAOw1bpw0ZIjUosWFy3//e6mGD3fmIVVwLkc0Ha+88ordEQAADkWNAOx3cYPRr59Bw4Eac+xnOgAAAAA0DDQdAAAAACxF0wEAAADAUjQdAAAAACxF0wEAAADAUjQdAAAAACxF0wEAAADAUjQdAAAAACxF0wEAAADAUjQdAAAAACxF0wEAAADAUjQdAAAAACxF0wEAAADAUjQdAAAAACxF0wEAAADAUjQdAAAAACxF0wEAAADAUjQdAAAAACxF0wEAAADAUk19XfCtt96q8crT0tIUGhpa49sBAAAAaDh8bjrGjBlToxW7XC79+9//VqdOnWqaCQAAAEADUqPDq44fP67y8nKffsLCwqzKDAAAAMCP+Nx0TJgwoUaHSv3iF79Q8+bNaxUKAAAAQMPh8+FVq1atqtGKly9fXuMwAAAAABoen5uOi3333Xd65ZVXdPz4ccXGxqpXr17q2bOnmjVrZnY+AAAAAH6uVk3HuHHjtHfvXiUnJ2vr1q368ssvVV5erk6dOqlXr17629/+ZnZOAAAAAH6qVk3Hxx9/rMzMTCUlJUmSiouLtW/fPuXm5io3N9fUgAAAAAD8W62aju7du6tJkx8/gx4cHKzevXurd+/epgUDAAAA0DDU6hvJn332WT355JM6d+6c2XkAAAAANDC12tMRGxurwsJCde3aVXfffbduvPFGJSQkqH379mbnAwAAAODnarWn4/bbb1d+fr5SU1P1ySef6IEHHlBsbKwiIyN18803m50RAAAAgB+r1Z6O/fv3a+fOnYqPj/eM5eXlaffu3XK73WZlAwAAANAA1KrpSE5OVlFRkddY+/bt1b59e40ePdqUYAAAAAAahlo1HdOmTdPcuXO1bt06tWzZ0uxMAAA/89Zbb9X4NmlpaQoNDbUgDQDAaWrVdNx+++2SpM6dO2vUqFHq06ePEhISFB8fr+DgYFMDAgCcb8yYMTVa3uVy6d///rc6depkTSAAgKPUquk4ePCg3G63cnNz5Xa79eyzz+rQoUMKCAhQXFyc9uzZY3ZOAIDDHT9+XK1atfJp2YiICIvTAACcpFZNR4cOHdShQwevz28UFhbK7XbTcABAIzRhwoQaHSr1i1/8Qs2bN7cwEQDASWrVdFQlIiJC/fv3V//+/c1aJQDAT6xatapGyy9fvtyiJAAAJ6rV93QAAFCdr7/+2u4IAACHoekAAJjq9ttvV2lpaZXXVTcOAGjYaDoAAKZq2bKlpkyZUmn81KlTGjJkiA2JAAB2q3PTsWvXLp0/f96MLACABuCvf/2r3nvvPa1cudIz9tlnn+mGG27gw+PAT5SVSZmZLu3YcbUyM10qK7M7kX/j+XSuOjcdycnJOnToUJ3WsWDBAiUnJysiIkKtWrXSmDFj9MUXX9Q1GgDABldccYU2bNig3/72t/r444+1bds2paSk6Pbbb9fmzZtrvD5qBBqqjRuljh2ltLSmWrw4SWlpTdWx44Vx1BzPp7PVuekwDKPOITIzMzV58mTt3LlT6enpKi0t1dChQ3X27Nk6rxsAYL3Ro0drzpw5evPNN3Xo0CH16NFDS5cu1YgRI/Szn/1MS5Ys0aJFi+RyuWq8bmoEGqKNG6Wf/Uw6csR7/KuvLozzQrlmeD6dz7RT5tbFtm3bvC6vWrVKrVq1Uk5OjgYMGGBTKgCArzp37qx//etfWrZsmU6dOqUrrrhCPXv2lGEY+vnPf65evXqppKREgYGBNV43NQINTVmZNHWqVNX7toYhuVzStGnS6NFSQEC9x/M7PJ/+wRFNx0+dOXNGknTllVdWeX1xcbGKi4s9lwsKCiRJJSUlKikpsT5gLVVkc3JGyX9ySv6TlZzmIqe5zMj3hz/8wfP7kSNH5Ha75Xa7FRkZ6fl8R9OmTRUXF6fc3Nw63dflaoREnbAaOesmM9OlI0eqfwlmGFJ+vrR9e6kGDqz7ESVmuPAUBv7v7yVy0lPqj8+n5Nzt86fMyucy6nh8VJMmTfT555/ruuuuMyWQYRgaPXq0vv32W33wwQdVLjN37lzNmzev0viaNWsUFhZmSg4AaCy+//573XPPPTpz5oxlH/QuKirS7t27tWfPHk2ePLnW6/GlRkjUCTjbjh1Xa/HipMsuN316tgYM+KoeEl3euXMBGj/+NknS2rVvKyTEOZ/Q9sfn05+YVSMc13RMnjxZW7Zs0T//+U/FxMRUuUxV72C1a9dOJ0+edPSZUUpKSpSenq60tLRaHWJQX/wlp+Q/WclpLnKaq6CgQFFRUXUqKHv27FH37t3VpIlvHxXct2+funTpoqZNa7bD3ZcaIVEnrEbOusnMdCkt7fLbfnq6c96ZP3tWatnywnN44sT3uuIKns+6cur2+VNm1AjJYYdXTZkyRW+99ZZ27NhxyWISHBys4ODgSuOBgYGO/k+rQE7z+UtWcpqLnOYwI1tCQoKOHz+uq666yqflU1JS5Ha71alTJ5/vw9caIVEn6gs5ayc1VYqJufAh56re+nW5LlyfmtrUMZ9BuPjp4/k0l9Oez58yK5sjmg7DMDRlyhRt2rRJGRkZio2NtTsSAKAGDMPQk08+6fOhSzX5fidqBBqagABpyZILZ1VyubxfKFec4O355/nQs694Pv1DnZuOOXPmKCoqqk7rmDx5stasWaPNmzcrIiJCx48flyS1aNFCoaGhdY0IALDYgAEDavTdGSkpKT7P79QINETjxklvvCH96lcX3qGvEBNz4QXyuHG2RfNLPJ/OZ0rTUVfLly+XJA0aNMhrfNWqVbrvvvvqvH4AgLUyMjI8v+fn56tdu3amrZsagYZq3DhpyBCpRYsLl//+91INH+7MQ4D8Ac+nsznm8CoAQMMQFxen6dOna+bMmaacKYoagYbs4hfE/foZvECuI55P56rVN5J//fXXZucAADQQ6enpevfdd3Xttddq1apVdscBADhArZqO22+/XaWlpVVeV904AKBx6Nu3rz7++GMtXLhQs2fPVkJCgtfhVwCAxqdWTUfLli01ZcqUSuOnTp3SkCFD6hwKAOD/fvnLX+rLL7/UyJEjNWLECI0dO1YHDhywOxYAwAa1ajr++te/6r333tPKlSs9Y5999pluuOEGR3/pEgCgfhmGoaFDh+o///M/9dZbb6l79+6aMWOGCgsL7Y4GAKhHtfog+RVXXKENGzZo4MCB6tGjh7799luNHz9e//mf/6lnn33W7IwAAD/y4osvKisrS1lZWfrss88UEBCg+Ph4TZ48Wb169dJ///d/q1u3btq0aZOSkpLsjgsAqAc+Nx2jR49Wr169lJCQoF69eqlHjx5aunSpRowYoXPnzmnp0qWaMGGClVkBAH7gmWeeUZ8+fTRhwgT16dNHSUlJXt8Ofv/992v+/Pm677779Omnn9qYFABQX3xuOjp37qx//etfWrZsmU6dOqUrrrhCPXv2lGEY+vnPf65evXqppKTE0V/jDgCwXn5+/mWXeeCBB/Tkk0/WQxoAgBP43HT84Q9/8Px+5MgRud1uud1uRUZGej7f0bRpU8XFxSk3N9eSsACAhqFVq1Z6//337Y4BAKgntfpMR0xMjGJiYnTbbbd5xoqKirR7927t2bPHtHAAgIbJ5XJp4MCBdscAANQT076RPDw8XP3791f//v3NWiUAAACABsDnU+bu2bNH5eXlPq943759fFEgAAAAAN+bjoSEBJ06dcrnFaekpCgvL69WoQAAAAA0HD4fXmUYhp588kmFhYX5tPz58+drHQoAAABAw+Fz0zFgwAB98cUXPq84JSVFoaGhtQoFAAAAoOHwuenIyMiwMAYAAACAhqpWZ6/KysrSY489pm+++UbXXnut1zeVt2vXzuyMAAAAAPyYzx8kv9i9996rgIAAPfjgg+rUqZMyMzN13333qUOHDoqMjDQ7IwAAAAA/Vqs9Hfn5+dqyZYuuueYar/HDhw/L7XabkQsAAABAA1GrpuOmm25Sfn5+paajQ4cO6tChgynBAAAAADQMPjcdo0ePVs+ePdWzZ089+OCDeuqpp9SjRw8OpwIAAABwST43HZ07d9aHH36o5cuXe74ksEuXLho9erRSUlKUkJCgHj16KCgoyLKwAAAAAPyPz03HH/7wB8/vR44ckdvt9vwsXLhQBw8eVEBAgOLi4rRnzx5LwgIAAADwP7X6TEdMTIxiYmJ02223ecaKioq0e/duGg4AAAAAXmrVdFQlPDxc/fv3V//+/c1aJQAAAIAGoFbf0wEAAAAAvqLpAAAAAGApmg4AAAAAlqLpAAAAAGApmg4AAAAAlqLpAAAAAGApmg4AAAAAlqLpAAAAAGApmg4AAAAAlqLpAAAAAGApmg4AAAAAlqLpAAAAAGApmg4AAAAAlqLpAAAAAGApmg4AAAAAlqLpAAAAAGApmg4AAAAAlnJE07Fjxw6NHDlS0dHRcrlcevPNN+2OZLqyMikz06UdO65WZqZLZWV2J6qav+SU/CsrgLppDHUC5jpfUqb/+9YOrfjwU/3ft3bofAlFAs7RGF/DOKLpOHv2rHr27KkXXnjB7iiW2LhR6thRSktrqsWLk5SW1lQdO14YdxJ/ySn5V1YAddfQ6wTM9dtVGxU2q6P+69MheifsCf3Xp0MUNqujfruKIgH7NdbXME3tDiBJw4cP1/Dhw+2OYYmNG6Wf/UwyDO/xr766MP7GG9K4cfZku5i/5JT8KysAczTkOgFz/XbVRv3+8M+kZt5FoqzZVxfGV72hRRMpErBHY34N44g9HQ1VWZk0dWrlDUv6cWzaNNm+S81fckr+lRUAUL/Ol5Rp8f6pkgzJ9ZMrXReKxOL90zjUCrZo7K9hHLGno6aKi4tVXFzsuVxQUCBJKikpUUlJiV2xKsnMdOnIkeqfYsOQ8vOl7dtLNXBgFVtgPfGXnJJ/Zb1YxXbppO2zKuQ0l7/lbEj8pU78lL9tM07L+ae3dqgs/Ej1C7gMlYXn609vZehXowbUX7BLuPAUBv7v7yVy2FPqQc668/fXMHXll03HggULNG/evErj7777rsLCwmxIVLUdO66WlHTZ5bZudevs2a+sD1QNf8kp+VfWqqSnp9sdwSfkNJfTc37//fd2RzCdv9SJ6jh9m6ngtJzvf/Kp5MN/7/uf7NS1TYusD+SDc+cCJN0mSXr//fcVEuLMt7nJWXf++hrGrBrhMoyqdvLYx+VyadOmTRozZky1y1T1Dla7du108uRJNW/evB5S+iYz06W0tMv3denp9u/p8Ieckn9lvVhJSYnS09OVlpamwMBAu+NUi5zm8pecBQUFioqK0pkzZxw1h1anIdWJn/KXbcapOf/vWzv0X58Ouexyf+j+/xyzp+PsWallywvP4YkT3+uKK5zzfF6MnHXnr69hzKoRfrmnIzg4WMHBwZXGAwMDHTX5paZKMTEXPhxUVWvncl24PjW1qQIC6j9fBX/JKflX1qo4bRutDjnN5fScTs5WW/5SJ6pDztqZMmqQHt0Zo7JmX3k+w+HFcCngbIymjBqkwEBnFImLnz6nPZ8XI2fd+etrGLOeQ0d8kLyoqEhut1tut1uSdPDgQbndbuXl5dkbrI4CAqQlSy787vrJB9oqLj//vGzfsPwlp+RfWQGYp6HWCZgrKDBA07v9b5EwflIk/vfy9G7PK8ghDQcal8b+GsYRTUd2drYSEhKUkJAgSZo+fboSEhI0e/Zsm5PV3bhxF05/Fh3tPR4T46zTovlLTsm/sgIwR0OuEzDXoonj9JsOb6jJ995FIuBsjH7TgdPlwl6N+TWMIw6vGjRokBz20RJTjRsnDRkitWhx4fLf/16q4cOdtetM8p+ckn9lBVB3Db1OwFyLJo7Tr74ZonbLLhSJudf8XTPvGs4eDjhCY30N44g9HY3BxRtSv36GYzcsf8kp+VdWAED9Cmr6Y1GYNKwfDQccpTG+hqHpAAAAAGApmg4AAAAAlqLpAAAAAGApmg4AAAAAlqLpAAAAAGApmg4AAAAAlqLpAAAAAGApmg4AAAAAlqLpAAAAAGApmg4AAAAAlqLpAAAAAGApmg4AAAAAlqLpAAAAAGApmg4AAAAAlqLpAAAAAGApmg4AAAAAlqLpAAAAAGApmg4AAAAAlqLpAAAAAGApmg4AAAAAlqLpAAAAAGApmg4AAAAAlqLpAAAAAGApmg4AAAAAlqLpAAAAAGApmg4AAAAAlqLpAAAAAGApmg4AAAAAlqLpAAAAAGApmg4AAAAAlqLpAAAAAGApmg4AAAAAlqLpAAAAAGApmg4AAAAAlqLpAAAAAGApmg4AAAAAlqLpAAAAAGApmg4AAAAAlqLpAAAAAGApmg4AAAAAlqLpAAAAAGApRzUdy5YtU2xsrEJCQpSYmKgPPvjA7kgAAIegRgCA/3JM07Fu3TpNmzZNjz/+uHbv3q3+/ftr+PDhysvLszsaAMBm1AgA8G+OaToWL16sBx54QJMmTVLXrl31/PPPq127dlq+fLnd0QAANqNGAIB/a2p3AEk6f/68cnJy9Nhjj3mNDx06VB9++KFNqcxlGIZCXT9Iksp/KFF5UKDNiapW/oMU6qr43bk5Je+shuGITRmABRpDjYD5DBme38t/+F7l3wfZmKZ6/lJ3yWmuxvgaxhGP8uTJkyorK1Pr1q29xlu3bq3jx49XWr64uFjFxcWey2fOnJEknT59WiUlJdaGraXCU98r85rBkqT/GWBzmMvIvObCv07PKf2Y9fTRd1VeHmFvmEsoKSnR999/r1OnTikw0JkToEROs/lLzsLCQkkX3hxxoprWCMk/64TkP9uMP+Q8dfykdO7C7//f0AE6XuaYgzsq8Ze6S05z+ctrGLNqhCOajgoul8vrsmEYlcYkacGCBZo3b16l8djYWMuyweG6838P1FVhYaFatGhhd4xq+VojJOoEvA3S/9gdAaien7yGqWuNcETTERUVpYCAgErvWJ04caLSO1uSNHPmTE2fPt1zuby8XKdPn1ZkZGS1BcgJCgoK1K5dO+Xn56t58+Z2x6mWv+SU/CcrOc1FTnMZhqHCwkJFR0fbHaVKNa0REnXCauQ0FznNRU5zmVUjHNF0BAUFKTExUenp6Ro7dqxnPD09XaNHj660fHBwsIKDg73GrrjiCqtjmqZ58+aO3rgq+EtOyX+yktNc5DSPk/dw1LRGSNSJ+kJOc5HTXOQ0jxk1whFNhyRNnz5d9957r5KSkpSSkqIVK1YoLy9PDz74oN3RAAA2o0YAgH9zTNNx11136dSpU3rqqad07Ngxde/eXe+88446dOhgdzQAgM2oEQDg3xzTdEjSww8/rIcfftjuGJYJDg7WnDlzKu3ydxp/ySn5T1ZymoucjVNDrxGS/2wz5DQXOc1FTmdyGU49RyIAAACABsG5J60GAAAA0CDQdAAAAACwFE0HAAAAAEvRdNjk0KFDeuCBBxQbG6vQ0FBdc801mjNnjs6fP293tEqeeeYZ9e3bV2FhYY46z/2yZcsUGxurkJAQJSYm6oMPPrA7UiU7duzQyJEjFR0dLZfLpTfffNPuSJUsWLBAycnJioiIUKtWrTRmzBh98cUXdseqZPny5YqPj/eczzwlJUVbt261O9ZlLViwQC6XS9OmTbM7CvwINaLuqBHm8JcaIflnnWhMNYKmwyaff/65ysvL9dJLL2nfvn167rnn9OKLL2rWrFl2R6vk/PnzuuOOO/TQQw/ZHcVj3bp1mjZtmh5//HHt3r1b/fv31/Dhw5WXl2d3NC9nz55Vz5499cILL9gdpVqZmZmaPHmydu7cqfT0dJWWlmro0KE6e/as3dG8xMTEaOHChcrOzlZ2drZuvvlmjR49Wvv27bM7WrWysrK0YsUKxcfH2x0FfoYaUTfUCPP4S42Q/K9ONLoaYcAxFi1aZMTGxtodo1qrVq0yWrRoYXcMwzAM44YbbjAefPBBr7G4uDjjsccesynR5UkyNm3aZHeMyzpx4oQhycjMzLQ7ymW1bNnSWLlypd0xqlRYWGh07tzZSE9PNwYOHGhMnTrV7kjwc9QI31EjrONPNcIwnFsnGmONYE+Hg5w5c0ZXXnml3TEc7/z588rJydHQoUO9xocOHaoPP/zQplQNx5kzZyTJ0dtiWVmZ1q5dq7NnzyolJcXuOFWaPHmyRowYoSFDhtgdBQ0ENcI31Ahr+UONkJxfJxpjjXDUlwM2Zv/zP/+jP/3pT/rjH/9odxTHO3nypMrKytS6dWuv8datW+v48eM2pWoYDMPQ9OnT1a9fP3Xv3t3uOJXs3btXKSkpOnfunMLDw7Vp0yZ169bN7liVrF27Vrt27VJWVpbdUdBAUCN8R42wjtNrhOQfdaKx1gj2dJhs7ty5crlcl/zJzs72us3Ro0d1yy236I477tCkSZMcm9NpXC6X12XDMCqNoWYeeeQR7dmzR6+//rrdUarUpUsXud1u7dy5Uw899JAmTJig/fv32x3LS35+vqZOnarVq1crJCTE7jhwGGpE/aFGmM/pNUJyfp1ozDWCPR0me+SRRzR+/PhLLtOxY0fP70ePHlVqaqpSUlK0YsUKi9P9qKY5nSQqKkoBAQGV3rE6ceJEpXe24LspU6borbfe0o4dOxQTE2N3nCoFBQXp2muvlSQlJSUpKytLS5Ys0UsvvWRzsh/l5OToxIkTSkxM9IyVlZVpx44deuGFF1RcXKyAgAAbE8JO1AjrUSOs4Q81QnJ+nWjMNYKmw2RRUVGKioryadmvvvpKqampSkxM1KpVq9SkSf3teKpJTqcJCgpSYmKi0tPTNXbsWM94enq6Ro8ebWMy/2QYhqZMmaJNmzYpIyNDsbGxdkfymWEYKi4utjuGl8GDB2vv3r1eYxMnTlRcXJweffTRBltM4BtqhPWoEeby5xohOa9ONOYaQdNhk6NHj2rQoEFq3769/vCHP+ibb77xXNemTRsbk1WWl5en06dPKy8vT2VlZXK73ZKka6+9VuHh4bZkmj59uu69914lJSV53gHMy8vTgw8+aEue6hQVFenAgQOeywcPHpTb7daVV16p9u3b25jsR5MnT9aaNWu0efNmRUREeN4dbNGihUJDQ21O96NZs2Zp+PDhateunQoLC7V27VplZGRo27ZtdkfzEhERUelY52bNmikyMtKxx0DDeagRdUONMI+/1AjJP+pEo64R9p04q3FbtWqVIanKH6eZMGFClTm3b99ua66lS5caHTp0MIKCgozevXs78vR927dvr/K5mzBhgt3RPKrbDletWmV3NC/333+/5//7qquuMgYPHmy8++67dsfySWM5HSLMQ42oO2qEOfylRhiG/9aJxlIjXIZhGNa0MwAAAADA2asAAAAAWIymAwAAAIClaDoAAAAAWIqmAwAAAIClaDoAAAAAWIqmAwAAAIClaDoAAAAAWIqmAwAAAIClaDoAAAAAWIqmAwAAwCYzZszQyJEj7Y4BWI6mAwAAwCZut1u9evWyOwZgOZoOwGSHDh2Sy+XSxo0bNWDAAIWGhioxMVGHDh1SRkaGbrjhBoWFhSk1NVWnT5+2Oy4AwEa5ublKSEiwOwZgOZoOwGRut1uStGzZMs2fP18fffSRTp06pXvvvVfPPvusli5dqoyMDO3du1evvPKKvWEBALbJz8/XqVOnPHs6vvvuO40cOVJ9+/bVsWPH7A0HmKyp3QGAhiY3N1ctW7bU2rVrFRUVJUlKTU3V+++/r/3796tZs2aSpOTkZB0/ftzOqAAAG7ndbrVo0UKxsbHau3evxo0bp9TUVG3YsEFBQUF2xwNMxZ4OwGRut1ujRo3yNBySlJeXp7vvvtvTcFSMxcbG2hERAOAAbrdbPXv21Ouvv64BAwbov/7rv7RixQoaDjRINB2AyXJzc9WnTx+vMbfbrRtvvNFz+dy5c/ryyy/58CAANGJut1t79+7VI488oi1btuj//J//Y3ckwDI0HYCJCgoKdOjQIa8PBR4+fFinT5/2Gtu3b5/KysrUs2dPO2ICABzA7Xbr9ttv17lz5/Tdd9/ZHQewFE0HYKLc3Fw1adJE8fHxnjG3260rrrhCHTt29FquU6dOioiIsCElAMBuhYWFOnjwoB5++GEtW7ZMd999t/bt22d3LMAyfJAcMFFubq7i4uIUGhrqGdu9e3elPRq5ubkcWgUAjZjb7VZAQIC6deumhIQE7du3TyNHjtQnn3zi9ZlAoKFwGYZh2B0CAACgMXnhhRf00ksvae/evZKk8vJyjRo1SgUFBfp//+//8WFyNDg0HQAAAAAsxWc6AAAAAFiKpgMAAACApWg6AAAAAFiKpgMAAACApWg6AAAAAFiKpgMAAACApWg6AAAAAFiKpgMAAACApWg6AAAAAFiKpgMAAACApWg6AAAAAFiKpgMAAACApf5/MD5d85R/qd0AAAAASUVORK5CYII="
class="
"
>
</div>

</div>
<div class="jp-OutputArea-child">
    
    <div class="jp-OutputPrompt jp-OutputArea-prompt"></div>




<div class="jp-RenderedImage jp-OutputArea-output ">
<img src="data:image/png;base64,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"
class="
"
>
</div>

</div>
<div class="jp-OutputArea-child">
    
    <div class="jp-OutputPrompt jp-OutputArea-prompt"></div>




<div class="jp-RenderedImage jp-OutputArea-output ">
<img src="data:image/png;base64,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"
class="
"
>
</div>

</div>
<div class="jp-OutputArea-child">
    
    <div class="jp-OutputPrompt jp-OutputArea-prompt"></div>




<div class="jp-RenderedImage jp-OutputArea-output ">
<img src="data:image/png;base64,iVBORw0KGgoAAAANSUhEUgAAAx0AAAJOCAYAAADS9Gp+AAAAOXRFWHRTb2Z0d2FyZQBNYXRwbG90bGliIHZlcnNpb24zLjcuMSwgaHR0cHM6Ly9tYXRwbG90bGliLm9yZy/bCgiHAAAACXBIWXMAAA9hAAAPYQGoP6dpAABhqElEQVR4nO3de1yUdf7//+eIw0nwEOQpULFMNEURNHE9kaKZeeyw1taa5Wc/lbm6+tktrTy0puaW5XdTyw7W5pZuqdlmuvEpwdrWAnTQtMO6Hw0szdRU1ESE6/eHPyZHQAe4Lq5r4HG/3bjJvOeai+eMF+8Xr7kO4zIMwxAAAAAAWKSe3QEAAAAA1G40HQAAAAAsRdMBAAAAwFI0HQAAAAAsRdMBAAAAwFI0HQAAAAAsRdMBAAAAwFI0HQAAAAAsRdMBAAAAwFI0HQAAAAAsRdMBAAAAwFI0HQg4n376qUaNGqVWrVopJCREzZo1U0pKiqZOnepd5pVXXpHL5dLevXvtC3oes/Pcddddcrlccrlc6tSpkynrLPX222971+1yuZSdnW3q+oGawDxxjlVzhRPnCbvmxWPHjqlevXp65plnqpzP33U4jRnbQel2X9FXRkaG+cEvobbU2A8//FB333234uPj1aBBA11xxRUaMWKEcnJy/F7HiRMnNHnyZLVs2VKhoaHq2rWrVq5cWaU89av0KMAm69ev1/Dhw9W/f38tWLBALVq00P79+5Wdna2VK1fqqaeekiQNHTpU//rXv9SiRQubE1unefPmWrt2rcLDw01db79+/fSvf/1L69ev15w5c0xdN1ATmCd8WTFXOHWesGNezM7OlmEY6tGjR5Xzla6je/fupua2mhnbwbXXXquGDRuqadOmevnll+V2u33u79ixoxlRK6021NilS5fq8OHDmjRpkjp27KgffvhBTz31lHr27Kl//OMfuu666y65jtGjRysrK0vz58/X1Vdfrddff1233XabSkpKdPvtt1cqD00HAsqCBQsUFxenf/zjH6pf/+fNd8yYMVqwYIH39uWXX67LL7/cjog1JiQkRD179jR9vU2aNFHPnj315Zdfmr5uoCYwT/iyYq5w6jxhx7yYnZ0tt9utbt26VTlfdna26tev79c6nMSM7aBDhw5avXq1brjhBr344ot69dVXTUxYdbWhxi5evFhNmzb1Gbv++ut11VVXae7cuZdsOt577z2lp6d7Gw1JSk1N1TfffKPf//73+uUvf6mgoCC/83B4FQLK4cOHFR0d7fOHRKl69X7enCs6TGHdunVKSEhQSEiI2rZtq0WLFmnWrFlyuVzeZUpv79y5U7fddpsaNWqkZs2a6e6779axY8d81rd7926NGzdO7dq1U3h4uK644goNGzZMO3bsqNLz279/vyIiIjRmzBif8XfffVdut1sPP/zwJdcxaNAg9e7dW++//7569+6t8PBwtWnTRqtWrZIkrVq1SsnJyQoPD1fHjh21adOmKmUFnKq2zxOlXnjhBXXu3FkhISG68sor9dprr+nXv/612rdv79fjA2WuMGNelKx7vllZWercubO2bNmiAQMGKCIiQs2bN9djjz3m93PMyspSp06dFBYWJkkyDENPP/20QkND9dBDD6m4uNjvdVWWE7aDgQMH6qWXXtJf/vIXTZ8+3fT1X6iu/O5c2HBIUkREhDp27Kj8/PxLPn7t2rWKiIjQLbfc4jM+btw4fffdd/r0008rF8gAAsj48eMNScbEiRONLVu2GGfOnCl3ueXLlxuSjD179njHNmzYYNSrV8/o37+/sXbtWuPNN980rr32WqNNmzbG+b8KM2fONCQZ7du3N2bMmGGkp6cbCxcuNEJCQoxx48b5/JzMzExj6tSpxltvvWVkZmYaa9euNUaOHGmEhYUZX3755UXzVGT27NmGy+UysrOzDcMwjE2bNhmhoaHGxIkTvcuMHTvWaN26dbmPj46ONmJjY43u3bsbb7zxhrFhwwYjISHBCA4ONiZPnmz079/fWL16tfH2228brVu3Nlq2bHnR1zArK+uSmQEnqQvzxO9+9zsjNDTUmDFjhvHhhx8azz33nBEVFWW0aNHCuP32273LWT1XXGqeKCkpMYqKivz6upjqzotWPt/WrVsbsbGxRmJiovHqq68aH3zwgXHLLbcYkoyMjAy/8rVu3dr4r//6L8MwDOOHH34whg4dakRFRRnvvffeRV8XM9TEduCvOXPmGJKMxYsXV2s9F+PP745d29L5zPrdudDRo0eNRo0aGaNGjbrksj179jS6d+9eZvzzzz83JBnPP/98pX42TQcCyqFDh4zevXsbkgxJhtvtNnr16mXMmzfPKCgo8C5XXvHu3r27ERsbaxQWFnrHCgoKjKioqHL/mFiwYIHPz77//vuN0NBQo6SkpMJ8Z8+eNc6cOWO0a9fO+N3vfnfRPBU5efKk0bJlS2PAgAHGZ599ZkRGRhrjxo3z+bkVTYh79+41JBndu3f3eZ4rVqwwJBlDhgzxWc/8+fMNScaRI0fKrIumA4Gqts8T69atMyQZb731ls/4448/bkgyFi5c6B2zeq641DyxadMm7//Dpb4u9ryrMy9a+Xx/+OEH73pPnz7tXW7fvn2GJGPJkiWXzFe6jhdeeMHIzMw0rrjiCuMXv/iFkZ+fX+HrYZaa2g4qY/DgwUa9evWMzz//vNrrupC/vzt2bEsXMut350K/+tWvjPr163sb+Itp166dMXjw4DLj3333nSHJmDt3rt8/1zAMg3M6EFCioqL00UcfKTs7Wx988IGys7OVkZGhadOm6fnnn1dWVpaio6PLPO7kyZPKzs7WAw88oODgYO94RESEhg0bpldeeaXMY4YPH+5zOyEhQadPn9bBgwfVrFkzSdLZs2e1YMECrVixQrt371ZRUZF3+S+++KJKzzE8PFxz5szR3XffrdTUVA0dOlQvvPCCz6EdFSm9IsUf//hHn+d5/PhxSdL8+fN91nPixAm53W5FRkZWKSvgRLV9nnjssceUkpKim266yWe8Xbt2kqTk5ORLrqOm5oqkpCRlZWX5tWzLli0rvK8686Jk3fMtfW5z5sxRSEiId/zw4cOXfE4XriM9PV333Xeffve732nu3LnlHh5YKiMjQ6mpqZdctyRt27ZNXbt2Lfc+p9WMrVu3KiMjQ8OHD9c111xj+vrr4u/O+R599FH99a9/1Z///GclJSX59ZiL/Y75+/tXiqYDASk5Odk7ORQVFenBBx/U008/rQULFvicKFrqxx9/lGEY3j8CzlfemHTuD5fzlRaUn376yTs2ZcoULV68WA8++KD69eunJk2aqF69eho/frzPcpV19dVXSzr3C/3KK6/4faLW1q1bFRISUubksJycHLVs2VIJCQk+49u2bVOnTp0uWtyAQFUb54nvv/9eOTk5WrRoUZn7vvnmG9WrV0+JiYmXXE9NzRUREREV/sF7oUutu6rzomTd883OzlZYWFiZ9W7dulWS/Pq/yM7OVmhoqN577z317du33G3zQu3bt9cLL7xwyeUkqVWrVhXe56Sacfz4cd16661q3ry5Xn755XKXWbRokT7++GO53W69++676tChg9atW6e5c+dqxYoVatmypdavX6/WrVuXeWxd/t2RpNmzZ2vOnDl6/PHH9cADD/i13qioKG8Dfb4jR45Iki677DK/1lOKE8kR8Nxut2bOnClJ+vzzz8tdpkmTJnK5XPr+++/L3HfgwIEq/+wVK1bo17/+tebOnavBgwerR48eSk5O1qFDh6q8To/HoxtvvFG/+MUvdOLEiQon3/Lk5OSoS5cuZS45mJ2dXe47ODk5OX6/2wEEstoyT5Se/Nm8efMy961fv17x8fGKiIi45Hpqaq7IzMyU2+326+tin09SnXmxNL8Vzzc7O1tdunQp80dfdna2oqOjL/oH//nLJiYm6q233tLmzZs1bdq0Sz6mRYsWGj9+vF9fF/vD0Ek1Y/z48crLy9PKlSvVpEmTcpfZvn27PvvsM02dOlUHDx5UUVGRBgwYoOHDh+vgwYOKi4srd4+kVHd/d6RzDcesWbM0a9asSp2o37lzZ33xxRc6e/asz3jpRTAq+xkmNB0IKPv37y93vPQQhYp2MTZo0EDJycl6++23debMGe/4iRMn9O6771Y5j8vl8tmlLp2bvL799tsqre+rr77S4MGDlZKSok2bNmnEiBGaNWtWmavhVGTr1q1lJr3Tp09r586dZcb379+vAwcO0HSg1qnN80TpJX4vvNzmW2+9pYyMDL8OD5Fqbq4oPUTEn6+K/l+qOy9a+XyzsrLKXa4yf2iWrmPw4MF64YUXNH/+fC1evNivx1aXU2rG4sWL9eabb2revHkXvUzt9u3bNXv2bCUlJSk0NFRXXnmlbrnlFg0cOFD169dXfHx8hVf6qou/O9K5w8BmzZqlRx55xPvGi79GjRqlEydOaPXq1T7jr776qlq2bKlrr722UuvjmAoElMGDBysmJkbDhg1TfHy8SkpK5PF49NRTTykiIkKTJk2q8LGPPfaYhg4dqsGDB2vSpEkqLi7Wn/70J0VERHh3FVbWjTfeqFdeeUXx8fFKSEhQTk6O/vSnPykmJqbS69q7d68GDhyo9u3ba/Xq1XK73Zo/f746deqkuXPn6oknnrjo4/ft26eDBw+WmfRyc3N19uzZMuOlx6X6O9ECgaI2zxOtWrVSUlKSFi5cqObNm6tdu3b64IMP9Le//U2Sf7/PNTlXREZGVmuOqe68KFn3fPfv36/9+/eXWe7s2bPKzc3VlClTLpmtdB2lf5Tedddd2rdvn37729+qefPmZc49MJPV24HL5VK/fv0u+YniO3bs0NSpU9WxY0f16tVLW7Zs8bk/JiZGMTExKikp0a5du3T99dd779u1a5emTp3qvf3FF19U+IF1de13R5KeeuopzZgxQ9dff72GDh1a5rU9v8HLzMzUgAEDNGPGDM2YMUOSNGTIEKWlpem+++7T8ePHddVVV+mNN97Qxo0btWLFikod4ijRdCDAPPLII1q3bp2efvpp7d+/X4WFhWrRooUGDhyoadOmqUOHDhU+9vrrr9fq1as1Y8YM/fKXv1Tz5s11//3367vvvtNrr71WpTyLFi2S2+3WvHnzdOLECXXr1k1r1qzRI488Uqn17N+/XwMHDlTTpk317rvveq/VHh8fr7vvvluLFi3SfffdpzZt2lS4joomt4uNu91ude7cuVJZAaerrfOEdO4PuTfffFP33Xefpk6dqgYNGmj06NF6/PHHdeutt1bqRFinzxVmzIuSdc+39CTfC9/F3rVrl3766Se/95RcuI5HHnlE+fn5uuOOO9S0aVP16dPnkuupCiu3gxMnTkg6dxiYPzkKCwu1a9cu9erVq8z9M2fO1KxZs7R7927vZ6BIUmFhoXbv3u2TZ/v27Zo/f365P6cu/e6U+vvf/y5J2rhxozZu3FjmfsMwfL4vLi5WSUmJzzJr1qzRww8/rBkzZujIkSOKj4/XG2+8UeZzc/xSqWtdAbXMmTNnjI4dOxppaWl2R6mU0sv5FRUVGWfPnjV13aXXBn/ppZe4ZC5gBMY8MW/ePKN+/frGqVOnfMatmiucOE84fV60Mp9dKnpd1q9fb7hcLmP79u2m/aw333zT53cwJyfHaNeunff2jz/+aISEhFT6cyvK+91x+rYUqNjTgTrlnnvuUVpamlq0aKEDBw7oueee0xdffFHu1Syc7ptvvpHb7dY111xT4YmxVbFu3TqNGjXKtPUBgSYQ54msrCx17NjRuzfgfFbMFU6dJ5w+L1qVzy4VvS6bNm3SmDFjTH2Hf8eOHerSpYv3dm5urs/tHTt2qEOHDpW+SlRFvztO35YCkcswztu3AtRyt956qz755BP98MMPcrvd6tatm6ZPn+5zjGgg2Lt3r/fKN2FhYaZez/zo0aPavXu393bHjh0VHh5u2voBpwvEeaJVq1ZKS0vTSy+95DNu1VzhxHnC6fOilfns4sTtoLLK+91x+rYUqGg6AAAAAFjKkZfMnTdvnlwulyZPnmx3FACAw1AjACDwOK7pyMrK0rJly8p8oiMAANQIAAhMjmo6Tpw4oV/96ld64YUXKvw0SgBA3USNAIDA5airV02YMEFDhw7VwIEDNWfOnAqXKywsVGFhofd2SUmJjhw5oqioKLlcrpqICgC1hmEYKigoUMuWLVWvnqPei/Lhb42QqBMAYBazaoRjmo6VK1dq69at3g/KuZh58+Zp9uzZNZAKAOqO/Pz8Kn1Kdk2oTI2QqBMAYLbq1ghHNB35+fmaNGmS3n//fYWGhl5y+WnTpmnKlCne28eOHVOrVq20Z88eRUZGWhm1WoqKirRp0yalpqbK7XbbHadCgZJTCpys5DQXOc1VUFCguLg4x86fla0REnXCauQ0FznNRU5zmVUjHNF05OTk6ODBg0pKSvKOFRcXa/PmzXr22WdVWFiooKAg730hISEKCQkps57LLrtMDRs2rJHMVVFUVKTw8HBFRUU5euMKlJxS4GQlp7nIaa7SbE497KiyNUKiTliNnOYip7nIaS6zaoQjmo4BAwZox44dPmPjxo1TfHy8HnzwwTLFBABQd1AjACDwOaLpiIyMVKdOnXzGGjRooKioqDLjAIC6hRoBAIHPuZcpAQAAAFArOGJPR3kyMjLsjgAAcChqBAAEFvZ0AAAAALAUTQcAAAAAS9F0AAAAALAUTQcAAAAAS9F0AAAAALAUTQcAAAAAS9F0AAAAALAUTQcAAAAAS9F0AAAAALAUTQcAAAAAS9F0AAAAALAUTQcAAAAAS9F0AAAAALAUTQcAAAAAS9F0AAAAALAUTQcAAAAAS9F0AAAAALAUTQcAAAAAS9F0AAAAALAUTQcAAAAAS9F0AAAAALAUTQcAAAAAS9F0AAAAALAUTQcAAAAAS9F0AAAAALAUTQcAAAAAS9F0AAAAALAUTQcAAAAAS9F0AAAAALAUTQcAAAAAS9F0AAAAALAUTQcAAAAAS9F0AAAAALAUTQcAAAAAS9F0AAAAALAUTQcAAAAAS9F0AAAAALAUTQcAAAAAS9F0AAAAALAUTQcAAAAAS9F0AAAAALAUTQcAAAAASzmi6Vi6dKkSEhLUsGFDNWzYUCkpKdqwYYPdsQAADkCNAIDA54imIyYmRvPnz1d2drays7N13XXXacSIEdq5c6fd0QAANqNGAEDgq293AEkaNmyYz+3HH39cS5cu1ZYtW3TNNdfYlAoA4ATUCAAIfI5oOs5XXFysN998UydPnlRKSkq5yxQWFqqwsNB7+/jx45KkoqIiFRUV1UjOqijN5uSMUuDklAInKznNRU5zOT3f+fypERJ1wmrkNBc5zUVOc5mVz2UYhmHKmqppx44dSklJ0enTpxUREaHXX39dN9xwQ7nLzpo1S7Nnzy4z/vrrrys8PNzqqABQq5w6dUq33367jh07poYNG9odp1yVqRESdQIAzGJWjXBM03HmzBnl5eXp6NGjWr16tV588UVlZmaqY8eOZZYt7x2s2NhYHTp0yLEFUzrXKaanpystLU1ut9vuOBUKlJxS4GQlp7nIaa7jx48rOjra0U1HZWqERJ2wGjnNRU5zkdNcZtUIxxxeFRwcrKuuukqSlJycrKysLC1atEjPP/98mWVDQkIUEhJSZtztdjv6P60UOc0XKFnJaS5ymsPJ2UpVpkZI1ImaQk5zkdNc5DSHWdkccfWq8hiG4fMuFQAApagRABBYHLGnY/r06RoyZIhiY2NVUFCglStXKiMjQxs3brQ7GgDAZtQIAAh8jmg6vv/+e915553av3+/GjVqpISEBG3cuFFpaWl2RwMA2IwaAQCBzxFNx0svvWR3BACAQ1EjACDwOfacDgAAAAC1A00HAAAAAEvRdAAAAACwFE0HAAAAAEvRdAAAAACwFE0HAAAAAEvRdAAAAACwFE0HAAAAAEvRdAAAAACwFE0HAAAAAEvRdAAAAACwFE0HAAAAAEvRdAAAAACwFE0HAAAAAEvRdAAAAACwFE0HAAAAAEvRdAAAAACwFE0HAAAAAEvRdAAAAACwFE0HAAAAAEvRdAAAAACwFE0HAAAAAEvRdAAAAACwFE0HAAAAAEvRdAAAAACwFE0HAAAAAEvRdAAAAACwFE0HAAAAAEvRdAAAAACwFE0HAAAAAEvRdAAAAACwVH1/F3znnXcqvfK0tDSFhYVV+nEAgMBCjQAAXIzfTcfIkSMrtWKXy6V///vfatu2bWUzAQACDDUCAHAxlTq86sCBAyopKfHrKzw83KrMAAAHokYAACrid9MxduzYSu0Gv+OOO9SwYcMqhQIABBZqBADgYvw+vGr58uWVWvHSpUsrHQYAEJioEQCAi/G76QAAwB9Hjx7VSy+9pAMHDiguLk5du3ZVly5d1KBBA7ujAQBsUqWmg4ICAKjI6NGjtWPHDnXv3l0bNmzQ119/rZKSErVt21Zdu3bV3/72N7sjAgBqWJWaDgoKAKAin376qTIzM5WcnCxJKiws1M6dO5Wbm6vc3Fyb0wEA7FClpoOCAgCoSKdOnVSv3s/XKQkJCVG3bt3UrVs3G1MBAOxUpaaDggIAqMgTTzyhRx99VKtXr1ZoaKjdcQAADlCpz+koVVpQTp8+bXYeAECAi4uLU0FBgTp06KDp06dr3bp1ysvLszsWAMBGVWo6zC4o8+bNU/fu3RUZGammTZtq5MiR+uqrr6q8PgCAfW666Sbl5+crNTVVn332me655x7FxcUpKipK1113XaXXR40AgMBXpcOrbrrpJh0+fNhbUJYtW6Yff/xRjRs3VpcuXfThhx9Wan2ZmZmaMGGCunfvrrNnz+rhhx/WoEGDtGvXLq6IBQABZteuXdqyZYsSEhK8Y3l5edq2bZs8Hk+l10eNAIDAV6Wmw+yCsnHjRp/by5cvV9OmTZWTk6O+fftWJSIAwCbdu3fXiRMnfMZatWqlVq1aacSIEZVeHzUCAAJflZoOswvKhY4dOyZJuuyyy8q9v7CwUIWFhd7bx48flyQVFRWpqKio2j/fKqXZnJxRCpycUuBkJae5yGkus/NNnjxZs2bN0qpVq9SkSRNT1y1dukZI1AmrkdNc5DQXOc1lVj6XYRhGZR+0du1aLV261JKCYhiGRowYoR9//FEfffRRucvMmjVLs2fPLjP++uuvKzw83NQ8AFDbnTp1SrfffruOHTumhg0bVnt9pVc3vOyyyzR8+HD17NlTiYmJSkhIUEhISLXW7U+NkKgTAGAWs2pElZoOKwvKhAkTtH79en388ceKiYkpd5ny3sGKjY3VoUOHTCmYVikqKlJ6errS0tLkdrvtjlOhQMkpBU5WcpqLnOY6fvy4oqOjTWs6vvnmG3k8HuXm5nr/3bt3r4KCghQfH6/t27dXed3+1AiJOmE1cpqLnOYip7nMqhFVOrxqz549PgXliSeeMKWgTJw4Ue+88442b9580WISEhJSbnPjdrsd/Z9WipzmC5Ss5DQXOc1hdrbWrVurdevWPofbFhQUyOPxVKvh8LdGSNSJmkJOc5HTXOQ0h1nZqtR0mF1QDMPQxIkTtXbtWmVkZCguLq4qsQAADhUZGak+ffqoT58+lX4sNQIAAp/fn9Oxfft2lZSUVHh/aUGZMGGCJGnnzp06e/asX+ueMGGCVqxYoddff12RkZE6cOCADhw4oJ9++snfeAAAG12qRlyIGgEAdYvfTUdiYqIOHz7s94pTUlL8/sDApUuX6tixY+rfv79atGjh/Vq1apXfPw8AYB9qBADgYvw+vMowDD366KN+X/XjzJkzfoeowrnsAAAHoUYAAC7G76ajb9+++uqrr/xecUpKisLCwqoUCgAQWKgRAICL8bvpyMjI8H5fUFCgyMhIK/IAAALQ+TVi27ZtuuaaaxQcHGxfIACAo1Tp6lV9+vTRxo0b1bx5c7PzAAACXHJysoKCgtS+fXt16dJFXbt2VdeuXZWQkKCmTZvaHQ8AYAO/TyQ/X3Jysq699lp9+eWXPuPbtm3TDTfcYEowAEBgeu+999SkSRNdc801qlevnv76179q0KBB3hPAhwwZooceekhvvPGG3VEBADWkSk3Hiy++qLvvvlu9e/fWxx9/rK+//lq33nqrkpOTq/2J5ACAwDZp0iS9+OKLWrlypf7yl79o27Zt2rBhg+Li4jR16lQlJCQoNzdXf/jDH+yOCgCoIVU6vEqSZs6cqeDgYKWlpam4uFiDBw9WVlaWunXrZmY+AECA+eabb9SpUyefscGDB2vBggVatWoVl7oFgDqoSns69u/fr9/+9rf64x//qI4dO8rtdmvMmDE0HAAApaSk6Pnnny8znpiYqA0bNtiQCABgtyrt6Wjbtq3i4+P15ptvaujQofrHP/6hW2+9Vfv27dODDz5odkYAQABZsmSJrr32Wh06dEi/+93v1KFDB509e1Z//vOf1aRJE7vjAQBsUKWmY/ny5RozZoz39uDBg7Vp0ybdeOON+uabb7RkyRLTAgIAAkt8fLw+++wzTZo0SZ07d1ZwcLCKi4vldrv14osv2h0PAGCDKjUd5zccpbp166ZPPvmEq1cBANS+fXtt3LhR+/bt09atW1WvXj0lJSWpRYsWdkcDANigyieSl6dNmzb65z//aeYqAQABLCYmRjExMXbHAADYrEonkl8Mx+sCAAAAOJ/pTQcAAAAAnI+mAwAAAIClaDoAAAAAWIqmAwAAAIClaDoAAAAAWIqmAwAAAIClaDoAAAAAWIqmAwAAAIClaDoAAAAAWIqmAwAAAIClaDoAAAAAWIqmAwAAAIClaDoAAAAAWIqmAwAAAIClaDoAAAAAWIqmAwAAAIClaDoAAAAAWIqmAwAAAIClaDoAAAAAWIqmAwAAAIClaDoAAAAAWIqmAwAAAIClaDoAAAAAWIqmAwAAAIClaDoAAAAAWIqmAwAAAIClaDoAAAAAWIqmAwAAAIClaDoAAAAAWMoRTcfmzZs1bNgwtWzZUi6XS2+//bbdkRAAioulzEyXNm++QpmZLhUX252ofOQEqo86gdoqUObeQMkJ53JE03Hy5El16dJFzz77rN1RECDWrJHatJHS0upr4cJkpaXVV5s258adhJyAOagTqI0CZe4NlJxwtvp2B5CkIUOGaMiQIXbHQIBYs0a6+WbJMHzHv/323Phbb0mjR9uT7XzkBMxDnUBtEyhzb6DkhPM5Yk8H4K/iYmnSpLKTn/Tz2OTJsn23LzkBABUJlLk3UHIiMDhiT0dlFRYWqrCw0Hv7+PHjkqSioiIVFRXZFeuSSrM5OaPk7JyZmS7t21fxZmsYUn6+tGnTWfXrV84sWUPIaS0nb6PnC7SctQl1wlrkrJ5AmXsDJeeFnPr/fqFAy1ldAdl0zJs3T7Nnzy4z/v777ys8PNyGRJWTnp5udwS/ODHn5s1XSEq+5HIbNnh08uS31geqADlrhhO30fI4PeepU6fsjmA66kTNIGfVBMrcGyg5K+K0//eKOD2nWTXCZRjl7TSzj8vl0tq1azVy5MgKlynvHazY2FgdOnRIDRs2rIGUVVNUVKT09HSlpaXJ7XbbHadCTs6ZmelSWtqle+X0dPvfHSKndZy8jZ4vUHIeP35c0dHROnbsmKPn0FLUCfuRs3oCZe4NlJwXcur/+4UCJadZNSIg93SEhIQoJCSkzLjb7Xb0f1opclZdaqoUE3PuBLby2mWX69z9qan1FRRU8/lKkbNmOHEbLY/Tczo5W1VRJ2oGOasmUObeQMlZEaf9v1fE6TnNyuaIE8lPnDghj8cjj8cjSdqzZ488Ho/y8vLsDQbHCQqSFi06973L5Xtf6e1nnpHtkx85AXNRJ1CbBMrcGyg5ERgc0XRkZ2crMTFRiYmJkqQpU6YoMTFRM2bMsDkZnGj06HOX6GvZ0nc8JsZZl+4jJ2Ae6gRqm0CZewMlJ5zPEYdX9e/fXw47tQQON3q0NHCg1KjRudt///tZDRnivN275ATMQZ1AbRQoc2+g5ISzOWJPB1AV5092vXsbjp38yAkAqEigzL2BkhPORdMBAAAAwFI0HQAAAAAsRdMBAAAAwFI0HQAAAAAsRdMBAAAAwFI0HQAAAAAsRdMBAAAAwFI0HQAAAAAsRdMBAAAAwFI0HQAAAAAsRdMBAAAAwFI0HQAAAAAsRdMBAAAAwFI0HQAAAAAsRdMBAAAAwFI0HQAAAAAsRdMBAAAAwFI0HQAAAAAsRdMBAAAAwFI0HQAAAAAsRdMBAAAAwFI0HQAAAAAsRdMBAAAAwFI0HQAAAAAsRdMBAAAAwFI0HQAAAAAsRdMBAAAAwFI0HQAAAAAsRdMBAAAAwFI0HQAAAAAsRdMBAAAAwFI0HQAAAAAsRdMBAAAAwFI0HQAAAAAsRdMBAAAAwFI0HQAAAAAsRdMBAAAAwFI0HQAAAAAsRdMBAAAAwFI0HQAAAAAsRdMBAAAAwFKOajqWLFmiuLg4hYaGKikpSR999JHdkQAADkGNQGUUF0uZmS5t3nyFMjNdKi62OxFQtzmm6Vi1apUmT56shx9+WNu2bVOfPn00ZMgQ5eXl2R0NAGAzagQqY80aqU0bKS2tvhYuTFZaWn21aXNuHIA9HNN0LFy4UPfcc4/Gjx+vDh066JlnnlFsbKyWLl1qdzQAgM2oEfDXmjXSzTdL+/b5jn/77blxGg/AHvXtDiBJZ86cUU5Ojh566CGf8UGDBumTTz6xKRWczjAMhbl+kiSV/FSkkmC3zYnKV/KTFOYq/T4wchqGI6YGQBI1Av4rLpYmTZIMQ5J+rhGlXC7pwcnSsDQpKMiOhGVRI1BXOGKrOXTokIqLi9WsWTOf8WbNmunAgQNlli8sLFRhYaH39rFjxyRJR44cUVFRkbVhq6GoqEinTp3S4cOH5XY7c1KRAidnweFTyrxygCTpP31tDnMJmVee+zdQch757n2VlETaG+YiAmUbDZScBQUFks418k5U2RohUSes5tScH3/s0r595/60CdUpZV5Z/qTr6VaTqS6NGmEup26fFwqUnGbVCEc0HaVcLpfPbcMwyoxJ0rx58zR79uwy43FxcZZlA+qUTvwu1UUFBQVq1KiR3TEq5G+NkKgTkE5L6rHb7hS1FDWiTqpujXBE0xEdHa2goKAy71gdPHiwzDtbkjRt2jRNmTLFe7ukpERHjhxRVFRUhQXICY4fP67Y2Fjl5+erYcOGdsepUKDklAInKznNRU5zGYahgoICtWzZ0u4o5apsjZCoE1Yjp7nIaS5ymsusGuGIpiM4OFhJSUlKT0/XqFGjvOPp6ekaMWJEmeVDQkIUEhLiM9a4cWOrY5qmYcOGjt64SgVKTilwspLTXOQ0j5P3cFS2RkjUiZpCTnOR01zkNI8ZNcIRTYckTZkyRXfeeaeSk5OVkpKiZcuWKS8vT/fee6/d0QAANqNGAEBgc0zT8ctf/lKHDx/WY489pv3796tTp05677331Lp1a7ujAQBsRo0AgMDmmKZDku6//37df//9dsewTEhIiGbOnFlml7/TBEpOKXCyktNc5KybanuNkAJnmyGnuchpLnI6k8tw6jUSAQAAANQKjvlEcgAAAAC1E00HAAAAAEvRdAAAAACwFE2HTfbu3at77rlHcXFxCgsL05VXXqmZM2fqzJkzdkcr4/HHH1evXr0UHh7uqOvcL1myRHFxcQoNDVVSUpI++ugjuyOVsXnzZg0bNkwtW7aUy+XS22+/bXekMubNm6fu3bsrMjJSTZs21ciRI/XVV1/ZHauMpUuXKiEhwXs985SUFG3YsMHuWJc0b948uVwuTZ482e4oCCDUiOqjRpgjUGqEFJh1oi7VCJoOm3z55ZcqKSnR888/r507d+rpp5/Wc889p+nTp9sdrYwzZ87olltu0X333Wd3FK9Vq1Zp8uTJevjhh7Vt2zb16dNHQ4YMUV5ent3RfJw8eVJdunTRs88+a3eUCmVmZmrChAnasmWL0tPTdfbsWQ0aNEgnT560O5qPmJgYzZ8/X9nZ2crOztZ1112nESNGaOfOnXZHq1BWVpaWLVumhIQEu6MgwFAjqocaYZ5AqRFS4NWJOlcjDDjGggULjLi4OLtjVGj58uVGo0aN7I5hGIZh9OjRw7j33nt9xuLj442HHnrIpkSXJslYu3at3TEu6eDBg4YkIzMz0+4ol9SkSRPjxRdftDtGuQoKCox27doZ6enpRr9+/YxJkybZHQkBjhrhP2qEdQKpRhiGc+tEXawR7OlwkGPHjumyyy6zO4bjnTlzRjk5ORo0aJDP+KBBg/TJJ5/YlKr2OHbsmCQ5elssLi7WypUrdfLkSaWkpNgdp1wTJkzQ0KFDNXDgQLujoJagRviHGmGtQKgRkvPrRF2sEY76cMC67D//+Y/+/Oc/66mnnrI7iuMdOnRIxcXFatasmc94s2bNdODAAZtS1Q6GYWjKlCnq3bu3OnXqZHecMnbs2KGUlBSdPn1aERERWrt2rTp27Gh3rDJWrlyprVu3Kisry+4oqCWoEf6jRljH6TVCCow6UVdrBHs6TDZr1iy5XK6LfmVnZ/s85rvvvtP111+vW265RePHj3dsTqdxuVw+tw3DKDOGynnggQe0fft2vfHGG3ZHKVf79u3l8Xi0ZcsW3XfffRo7dqx27dpldywf+fn5mjRpklasWKHQ0FC748BhqBE1hxphPqfXCMn5daIu1wj2dJjsgQce0JgxYy66TJs2bbzff/fdd0pNTVVKSoqWLVtmcbqfVTank0RHRysoKKjMO1YHDx4s884W/Ddx4kS988472rx5s2JiYuyOU67g4GBdddVVkqTk5GRlZWVp0aJFev75521O9rOcnBwdPHhQSUlJ3rHi4mJt3rxZzz77rAoLCxUUFGRjQtiJGmE9aoQ1AqFGSM6vE3W5RtB0mCw6OlrR0dF+Lfvtt98qNTVVSUlJWr58uerVq7kdT5XJ6TTBwcFKSkpSenq6Ro0a5R1PT0/XiBEjbEwWmAzD0MSJE7V27VplZGQoLi7O7kh+MwxDhYWFdsfwMWDAAO3YscNnbNy4cYqPj9eDDz5Ya4sJ/EONsB41wlyBXCMk59WJulwjaDps8t1336l///5q1aqVnnzySf3www/e+5o3b25jsrLy8vJ05MgR5eXlqbi4WB6PR5J01VVXKSIiwpZMU6ZM0Z133qnk5GTvO4B5eXm69957bclTkRMnTmj37t3e23v27JHH49Fll12mVq1a2ZjsZxMmTNDrr7+udevWKTIy0vvuYKNGjRQWFmZzup9Nnz5dQ4YMUWxsrAoKCrRy5UplZGRo48aNdkfzERkZWeZY5wYNGigqKsqxx0DDeagR1UONME+g1AgpMOpEna4R9l04q25bvny5IancL6cZO3ZsuTk3bdpka67FixcbrVu3NoKDg41u3bo58vJ9mzZtKve1Gzt2rN3RvCraDpcvX253NB9333239//78ssvNwYMGGC8//77dsfyS125HCLMQ42oPmqEOQKlRhhG4NaJulIjXIZhGNa0MwAAAADA1asAAAAAWIymAwAAAIClaDoAAAAAWIqmAwAAAIClaDoAAAAAWIqmAwAAAIClaDoAAAAAWIqmAwAAAIClaDoAAAAAWIqmAwAAAIClaDoAAAAAWIqmAzDZ3r175XK5tGbNGvXt21dhYWFKSkrS3r17lZGRoR49eig8PFypqak6cuSI3XEBADWMOoG6qL7dAYDaxuPxSJKWLFmiuXPnKiIiQiNHjtSdd96piIgILV68WIZh6IYbbtBLL72k3//+9/YGBgDUKOoE6iKaDsBkubm5atKkiVauXKno6GhJUmpqqj788EPt2rVLDRo0kCR1795dBw4csDMqAMAG1AnURRxeBZjM4/Fo+PDh3kIiSXl5ebrtttu8haR0LC4uzo6IAAAbUSdQF9F0ACbLzc1Vz549fcY8Ho+uvfZa7+3Tp0/r66+/VteuXWs4HQDAbtQJ1EU0HYCJjh8/rr179yoxMdE79s033+jIkSM+Yzt37lRxcbG6dOliR0wAgE2oE6iraDoAE+Xm5qpevXpKSEjwjnk8HjVu3Fht2rTxWa5t27aKjIy0ISUAwC7UCdRVNB2AiXJzcxUfH6+wsDDv2LZt28q8U5Wbm8sucwCog6gTqKtchmEYdocAAAAAUHuxpwMAAACApWg6AAAAAFiKpgMAAACApWg6AAAAAFiKpgMAAACApWg6AAAAAFiKpgMAAACApWg6AAAAAFiKpgMAAACApWg6AAAAAFiKpgMAAACApWg6AAAAAFiKpgMAAACApWg6AAAAAFiKpgMAAACApWg6AAAAAFiKpgMAAACApWg6AAAAAFiKpgMAAACApWg6UMann36qUaNGqVWrVgoJCVGzZs2UkpKiqVOnepd55ZVX5HK5tHfvXvuCnqcyeY4dO6Z69erpmWeeuehyd911l1wul1wulzp16lSldTjJ22+/7X0+LpdL2dnZlXq8Xc/Z4/Fo6NChatWqlcLCwnTZZZcpJSVFK1asqNEcQF1Rm2tA6XIVfWVkZNRI3vNdrNZU18Xm/bpaC6Xq10NUTX27A8BZ1q9fr+HDh6t///5asGCBWrRoof379ys7O1srV67UU089JUkaOnSo/vWvf6lFixY2J6687OxsGYahHj16XHLZ5s2ba+3atQoPDy93Hd27d7cqpun69eunf/3rX1q/fr3mzJlT6cfb9ZyPHj2q2NhY3Xbbbbriiit08uRJ/fWvf9Wdd96pvXv36pFHHqnRPEBtVttrwLXXXquGDRuqadOmevnll+V2u33u79ixoy25Kqo11XWxeb+u1kKp+vUQVUPTAR8LFixQXFyc/vGPf6h+/Z83jzFjxmjBggXe25dffrkuv/xyOyJWW3Z2ttxut7p163bJZUNCQtSzZ89y11G/fn2/1uEUTZo0Uc+ePfXll19W6fF2Pef+/furf//+PmM33nij9uzZo2XLltF0ACaq7TWgQ4cOWr16tW644Qa9+OKLevXVV+2OJKniWlNdF5v362otlKpfD1E1HF4FH4cPH1Z0dLRPsSlVr97Pm0tFu7LXrVunhIQEhYSEqG3btlq0aJFmzZoll8vlXab09s6dO3XbbbepUaNGatasme6++24dO3bMZ327d+/WuHHj1K5dO4WHh+uKK67QsGHDtGPHjio/x6ysLHXu3FlbtmzRgAEDFBERoebNm+uxxx6r1Do6deqksLAwSZJhGHr66acVGhqqhx56SMXFxVXOdzGDBg1S79699f7776t3794KDw9XmzZttGrVKknSqlWrlJycrPDwcHXs2FGbNm0y7Wfb9ZwrUtF2CqDq6kINGDhwoF566SX95S9/0fTp06u8nkvZv3+/IiIiNGbMGJ/xd999V263Ww8//PAl12HlnE8tRI0zgPOMHz/ekGRMnDjR2LJli3HmzJlyl1u+fLkhydizZ493bMOGDUa9evWM/v37G2vXrjXefPNN49prrzXatGljnL+pzZw505BktG/f3pgxY4aRnp5uLFy40AgJCTHGjRvn83MyMzONqVOnGm+99ZaRmZlprF271hg5cqQRFhZmfPnllxfNU5HWrVsbsbGxRmJiovHqq68aH3zwgXHLLbcYkoyMjAzvcmPHjjVat25d4Tr+67/+yzAMw/jhhx+MoUOHGlFRUcZ77713yZ9fHdHR0UZsbKzRvXt344033jA2bNhgJCQkGMHBwcbkyZON/v37G6tXrzbefvtto3Xr1kbLli3LrKP0tcrKyqrUz67scy4pKTGKior8+vJHcXGxUVRUZBw8eNBYvHixUb9+feO5556r1HMAcHF1oQaUmjNnjiHJWLx4sd+PqazZs2cbLpfLyM7ONgzDMDZt2mSEhoYaEydO9C5zsVpjxpxvGOXP+3W9FhpG1eshqoamAz4OHTpk9O7d25BkSDLcbrfRq1cvY968eUZBQYF3ufIm+O7duxuxsbFGYWGhd6ygoMCIiooqt+AsWLDA52fff//9RmhoqFFSUlJhvrNnzxpnzpwx2rVrZ/zud7+7aJ7y/PDDD4Yko3v37sbp06e94/v27TMkGUuWLPGOVTTRlq7jhRdeMDIzM40rrrjC+MUvfmHk5+df9GdX1969e73Zz3+NV6xYYUgyhgwZ4vPazZ8/35BkHDlyxGc9VZlkq/KcN23a5N2OLvXlzx8K//3f/+1dPjg42Of/CoA5ansNuNDgwYONevXqGZ9//nmlHuevkydPGi1btjQGDBhgfPbZZ0ZkZKQxbtw4n+dYUa0xa843jLLzPrXwHJqOmsXhVfARFRWljz76SFlZWZo/f75GjBihr7/+WtOmTVPnzp116NChch938uRJZWdna+TIkQoODvaOR0REaNiwYeU+Zvjw4T63ExISdPr0aR08eNA7dvbsWc2dO1cdO3ZUcHCw6tevr+DgYP373//WF198Uennl5WVJUmaM2eOQkJCvOOHDx+WJLVs2dLvdaSnp2vAgAG6/fbblZGRoZiYmAofk5GRcdErppz/5fF4yl1HTk6OJOmPf/yjz2t8/PhxSdL8+fN9DmE4ceKE3G63IiMjL/mcLqUqzzkpKUlZWVl+ffnzuk+fPl1ZWVlav3697r77bj3wwAN68sknq/3cAPystteA823dulUZGRkaPny4rrnmmmqtqyLh4eGaM2eOPvjgA6WmpmrIkCF64YUXfObqilg551MLYQcOiEa5kpOTlZycLEkqKirSgw8+qKeffloLFizwOZmw1I8//ijDMNSsWbMy95U3Jp0rbucrnfh++ukn79iUKVO0ePFiPfjgg+rXr5+aNGmievXqafz48T7L+Ss7O1thYWG67rrrfMa3bt0qSUpMTPRrHaGhoXrvvffUt2/fcl+PC7Vv314vvPCCXxlbtWpV7vjWrVsVEhJSJntOTo5atmyphIQEn/Ft27apU6dOppz3UJXnHBERoa5du/q1fn8ytmrVyvva3HDDDZKkadOmaezYsQF5QivgZLW1BpQ6fvy4br31VjVv3lwvv/xyucssWrRIH3/8sdxut95991116NBB69at09y5c7VixQq1bNlS69evV+vWrS/6s66++mpJksvl0iuvvKKgoCC/Mlo551MLYQf+B3BJbrdbM2fO1NNPP63PP/+83GWaNGkil8ul77//vsx9Bw4cqPLPXrFihX79619r7ty5PuOHDh1S48aNK72+7OxsdenSpczkk52drejo6AonuQuXTUxM1MyZM3XjjTdq2rRpmjdv3kUf06JFC40fP77Sec+Xk5OjLl26lLnEY3Z2tvePgwuXv/HGG6v1M8//GZV9zpmZmUpNTfVr/Xv27FGbNm0qlalHjx567rnn9H//9380HYCFalMNKDV+/Hjl5eVp8+bNatKkSbnLbN++XZ999pnWrFmjl19+Wb169dKAAQO0aNEiLVy4UKNGjdIrr7yimTNnVvhzPB6PbrzxRv3iF7/QP//5T7388suaMGGCXxmtnPOphbADh1fBx/79+8sdL92NXdEu1wYNGig5OVlvv/22zpw54x0/ceKE3n333SrncblcPrt+pXPXkf/222+rtL6srCwlJSWVGc/JySl3/GLrGDx4sF544QXNnz9fixcvrlKeyti6dWuZCfX06dPauXNnmfH9+/frwIEDfj+nS6nKczb78KoLbdq0SfXq1VPbtm2r+rQAXKC21wBJWrx4sd58803Nmzfvopep3b59u2bPnq2kpCSFhobqyiuv1C233KKBAweqfv36io+Pv+jVmb766isNHjxYKSkp2rRpk0aMGKFZs2aVuUJXRayc86mFsAN7OuBj8ODBiomJ0bBhwxQfH6+SkhJ5PB499dRTioiI0KRJkyp87GOPPaahQ4dq8ODBmjRpkoqLi/WnP/1JEREROnLkSJXy3HjjjXrllVcUHx+vhIQE5eTk6E9/+tNFjxmtyP79+7V///4yk9LZs2eVm5urKVOm+L2O0gnsrrvu0r59+/Tb3/5WzZs310033VTpXP7Yt2+fDh48WCZ7bm6uzp49W2a89JjX8t71qYjL5VK/fv3KfCJvVZ9zZGRkpX5+RX7zm9+oYcOG6tGjh5o1a6ZDhw7pzTff1KpVq/T73/+evRyAiWpzDZCkHTt2aOrUqerYsaN69eqlLVu2+NwfExOjmJgYlZSUaNeuXbr++uu99+3atcvnU9m/+OIL3X777eX+nL1792rgwIFq3769Vq9eLbfbrfnz56tTp06aO3eunnjiiYvmtHLOpxbCLjQd8PHII49o3bp1evrpp7V//34VFhaqRYsWGjhwoKZNm6YOHTpU+Njrr79eq1ev1owZM/TLX/5SzZs31/3336/vvvtOr732WpXyLFq0SG63W/PmzdOJEyfUrVs3rVmzpkofCFd60tuF73js2rVLP/30k1/vhJS3jkceeUT5+fm644471LRpU/Xp06fS2S6loonzYuNut1udO3f2a/0nTpyQpHI/Xdiu51wqJSVFy5cv16uvvqqjR48qIiJCXbp00WuvvaY77rjDsp8L1EW1uQZI5+bGwsJC7dq1S7169Spz/8yZMzVr1izt3r3b+7kVklRYWKjdu3f7zKnbt2/X/Pnzy6xj//79GjhwoJo2bap3333X+xkW8fHxuvvuu7Vo0SLdd999Fz2k1Mo5n1oI29h9+SzUbmfOnDE6duxopKWl2R2l0kovE1hUVGScPXvW7jjVVvq5GS+99FKZSwSuX7/ecLlcxvbt221MCKC2CdQa8Oabb/pkzsnJMdq1a+e9/eOPPxohISF+f87QxVhZay427zshn13MeF1QeezpgKnuuecepaWlqUWLFjpw4ICee+45ffHFF1q0aJHd0arkm2++kdvt1jXXXFPhCZSBYt26dRo1alS5923atEljxozh3SAA1VJbasCOHTvUpUsX7+3c3Fyf2zt27FCHDh1MuyKSVbXmYvN+ZdSmWiiZ97qgclyGYRh2h0Dtceutt+qTTz7RDz/8ILfbrW7dumn69Ok+x8UGir1793qvSR8WFmbZddxrytGjR7V7927v7Y4dOyo8PNzGRABqm9pUA2qKlbXGjHm/ttVCiXpoF5oOAAAAAJZy5CVz582bJ5fLpcmTJ9sdBQDgMNQIAAg8jms6srKytGzZsjKfKAkAADUCAAKTo5qOEydO6Fe/+pVeeOGFCj8hFABQN1EjACBwOerqVRMmTNDQoUM1cOBAzZkzp8LlCgsLVVhY6L1dUlKiI0eOKCoqSi6XqyaiAkCtYRiGCgoK1LJlS9Wr56j3onz4WyMk6gQAmMWsGuGYpmPlypXaunWr9wNnLmbevHmaPXt2DaQCgLojPz+/yp/0bLXK1AiJOgEAZqtujXBE05Gfn69Jkybp/fffV2ho6CWXnzZtmqZMmeK9fezYMbVq1Up79uxRZGSklVGrpaioSJs2bVJqaqrcbrfdcSoUKDmlwMlKTnOR01wFBQWKi4tz7PxZ2RohUSesRk5zkdNc5DSXWTXCEU1HTk6ODh48qKSkJO9YcXGxNm/erGeffVaFhYUKCgry3hcSEqKQkJAy67nsssvUsGHDGslcFUVFRQoPD1dUVJSjN65AySkFTlZymouc5irN5tTDjipbIyTqhNXIaS5ymouc5jKrRjii6RgwYIB27NjhMzZu3DjFx8frwQcfLFNMAAB1BzUCAAKfI5qOyMhIderUyWesQYMGioqKKjMOAKhbqBEAEPice5kSAAAAALWCI/Z0lCcjI8PuCAAAh6JGAEBgYU8HAAAAAEvRdAAAAACwFE0HAAAAAEvRdAAAAACwFE0HAAAAAEvRdAAAAACwFE0HAAAAAEvRdAAAAACwFE0HAAAAAEvRdAAAAACwFE0HAAAAAEvRdAAAAACwFE0HAAAAAEvRdAAAAACwFE0HAAAAAEvRdAAAAACwFE0HAAAAAEvRdAAAAACwFE0HAAAAAEvRdAAAAACwFE0HAAAAAEvRdAAAAACwFE0HAAAAAEvRdAAAAACwFE0HAAAAAEvRdAAAAACwFE0HAAAAAEvRdAAAAACwFE0HAAAAAEvRdAAAAACwFE0HAAAAAEvRdAAAAACwFE0HAAAAAEvRdAAAAACwFE0HAAAAAEvRdAAAAACwFE0HAAAAAEvRdAAAAACwFE0HAAAAAEvRdAAAAACwFE0HAAAAAEvRdAAAAOCiioulzEyXNm++QpmZLhUX250IgcYRTcfSpUuVkJCghg0bqmHDhkpJSdGGDRvsjgUAcABqBGCvNWukNm2ktLT6WrgwWWlp9dWmzblxwF+OaDpiYmI0f/58ZWdnKzs7W9ddd51GjBihnTt32h0NAGAzagRgnzVrpJtvlvbt8x3/9ttz4zQe8Jcjmo5hw4bphhtu0NVXX62rr75ajz/+uCIiIrRlyxa7owEAbEaNAOxRXCxNmiQZRtn7SscmTxaHWsEv9e0OcKHi4mK9+eabOnnypFJSUspdprCwUIWFhd7bx48flyQVFRWpqKioRnJWRWk2J2eUAienFDhZyWkucprL6fnO50+NkKgTViOnuZyaMzPTpX37Kv5T0TCk/Hxp06az6tevnM7EJk59PS8UaDmry2UY5fWvNW/Hjh1KSUnR6dOnFRERoddff1033HBDucvOmjVLs2fPLjP++uuvKzw83OqoAFCrnDp1SrfffruOHTumhg0b2h2nXJWpERJ1AjDD5s1XaOHC5EsuN2VKtvr2/bYGEsEOZtUIxzQdZ86cUV5eno4eParVq1frxRdfVGZmpjp27Fhm2fLewYqNjdWhQ4ccWzClc51ienq60tLS5Ha77Y5ToUDJKQVOVnKai5zmOn78uKKjox3ddFSmRkjUCauR01xOzZmZ6VJa2qUPiklPd96eDie+nhcKlJxm1QjHHF4VHBysq666SpKUnJysrKwsLVq0SM8//3yZZUNCQhQSElJm3O12O/o/rRQ5zRcoWclpLnKaw8nZSlWmRkjUiZpCTnM5LWdqqhQTc+6k8fLeona5zt2fmlpfQUE1n+9SnPZ6VsTpOc3K5ogTyctjGIbPu1QAAJSiRgDWCwqSFi06973L5Xtf6e1nnpEjGw44jyP2dEyfPl1DhgxRbGysCgoKtHLlSmVkZGjjxo12RwMA2IwaAdhn9Gjprbek3/723B6PUjEx5xqO0aNti4YA44im4/vvv9edd96p/fv3q1GjRkpISNDGjRuVlpZmdzQAgM2oEYC9Ro+WBg6UGjU6d/vvfz+rIUOceUgVnMsRTcdLL71kdwQAgENRIwD7nd9g9O5t0HCg0hx7TgcAAACA2oGmAwAAAIClaDoAAAAAWIqmAwAAAIClaDoAAAAAWIqmAwAAAIClaDoAAAAAWIqmAwAAAIClaDoAAAAAWIqmAwAAAIClaDoAAAAAWIqmAwAAAIClaDoAAAAAWIqmAwAAAIClaDoAAAAAWIqmAwAAAIClaDoAAAAAWIqmAwAAAIClaDoAAAAAWKq+vwu+8847lV55WlqawsLCKv04AAAAALWH303HyJEjK7Vil8ulf//732rbtm1lMwEAAACoRSp1eNWBAwdUUlLi11d4eLhVmQEAAAAEEL+bjrFjx1bqUKk77rhDDRs2rFIoAAAAALWH34dXLV++vFIrXrp0aaXDAAAAAKh9/G46znf06FG99NJLOnDggOLi4tS1a1d16dJFDRo0MDsfAAAAgABXpaZj9OjR2rFjh7p3764NGzbo66+/VklJidq2bauuXbvqb3/7m9k5AQAAAASoKjUdn376qTIzM5WcnCxJKiws1M6dO5Wbm6vc3FxTAwIAAAAIbFVqOjp16qR69X4+Bz0kJETdunVTt27dTAsGAAAAoHao0ieSP/HEE3r00Ud1+vRps/MAAAAAqGWqtKcjLi5OBQUF6tChg2677TZde+21SkxMVKtWrczOBwAAACDAVWlPx0033aT8/Hylpqbqs88+0z333KO4uDhFRUXpuuuuMzsjAAAAgABWpT0du3bt0pYtW5SQkOAdy8vL07Zt2+TxeMzKBgAAAKAWqFLT0b17d504ccJnrFWrVmrVqpVGjBhhSjAAAAAAtUOVmo7Jkydr1qxZWrVqlZo0aWJ2JgBAgHnnnXcq/Zi0tDSFhYVZkAYA4DRVajpuuukmSVK7du00fPhw9ezZU4mJiUpISFBISIipAQEAzjdy5MhKLe9yufTvf/9bbdu2tSYQAMBRqtR07NmzRx6PR7m5ufJ4PHriiSe0d+9eBQUFKT4+Xtu3bzc7JwDA4Q4cOKCmTZv6tWxkZKTFaQAATlKlpqN169Zq3bq1z/kbBQUF8ng8NBwAUAeNHTu2UodK3XHHHWrYsKGFiQAATlKlpqM8kZGR6tOnj/r06WPWKgEAAWL58uWVWn7p0qUWJQEAOFGVPqcDAICKfP/993ZHAAA4DE0HAMBUN910k86ePVvufRWNAwBqN5oOAICpmjRpookTJ5YZP3z4sAYOHGhDIgCA3arddGzdulVnzpwxIwsAoBZ47bXX9MEHH+jFF1/0jn3xxRfq0aMHJ48DFyguljIzXdq8+QplZrpUXGx3osB2pqhY/++dzVr2yef6f+9s1pkiXlCnqHbT0b17d+3du7da65g3b566d++uyMhINW3aVCNHjtRXX31V3WgAABs0btxYq1ev1h/+8Ad9+umn2rhxo1JSUnTTTTdp3bp1lV4fNQK11Zo1Ups2UlpafS1cmKy0tPpq0+bcOCrvD8vXKHx6G/3P5wP1Xvgj+p/PByp8ehv9YTkvqBNUu+kwDKPaITIzMzVhwgRt2bJF6enpOnv2rAYNGqSTJ09We90AAOuNGDFCM2fO1Ntvv629e/eqc+fOWrx4sYYOHaqbb75ZixYt0oIFC+RyuSq9bmoEaqM1a6Sbb5b27fMd//bbc+M0HpXzh+Vr9KdvblZxA98XtLjBt/rTNzfTeDiAaZfMrY6NGzf63F6+fLmaNm2qnJwc9e3b16ZUAAB/tWvXTv/85z+1ZMkSHT58WI0bN1aXLl1kGIZ+9atfqWvXrioqKpLb7a70uqkRqG2Ki6VJk6Ty3rc1DMnlkiZPlkaMkIKCajxewDlTVKyFuyZJDQzpwvc1XIZkuLRw12TNKRqhYDcvqF0c0XRc6NixY5Kkyy67rNz7CwsLVVhY6L19/PhxSVJRUZGKioqsD1hFpdmcnFEKnJxS4GQlp7nIaS4z8j355JPe7/ft2yePxyOPx6OoqCjv+R3169dXfHy8cnNzq/WzLlUjJOqE1chZPZmZLu3bV/GfYIYh5edLmzadVb9+1T+ixAznXkL3//99kZz0kv75nc0qjthX8QIuQ8UR+frzOxn67XDnvFHh1O3zQmblcxnVPD6qXr16+vLLL3X11VebEsgwDI0YMUI//vijPvroo3KXmTVrlmbPnl1m/PXXX1d4eLgpOQCgrjh16pRuv/12HTt2zLITvU+cOKFt27Zp+/btmjBhQpXX40+NkKgTcLbNm6/QwoXJl1xuypRs9e37bQ0kurTTp4M0ZsyNkqSVK99VaKhzTtBe9snnei/8kUsud8OpOfpNr041kKh2MatGOK7pmDBhgtavX6+PP/5YMTEx5S5T3jtYsbGxOnTokKOvjFJUVKT09HSlpaVV6RCDmhIoOaXAyUpOc5HTXMePH1d0dHS1Csr27dvVqVMn1avn36mCO3fuVPv27VW/fuV2uPtTIyTqhNXIWT2ZmS6lpV16209Pd86ejpMnpSZNzr2GBw+eUuPGznk9/987m/U/n1/6ctxPdvpfx+3pcOL2eSEzaoTksMOrJk6cqHfeeUebN2++aDEJCQlRSEhImXG32+3o/7RS5DRfoGQlp7nIaQ4zsiUmJurAgQO6/PLL/Vo+JSVFHo9Hbdu29ftn+FsjJOpETSFn1aSmSjEx504aL++tX5fr3P2pqfUdc07H+S+f017PicP768EtMSpu8O25czguZLgUdDJGE4f3l9uB53Q47fW8kFnZHNF0GIahiRMnau3atcrIyFBcXJzdkQAAlWAYhh599FG/D12qzOc7USNQ2wQFSYsWnbtKlcvl23iUXuDtmWc4idxfwe4gTem4SH/65mbJcPk2Hsa5F3RKx2c4idxm1W46Zs6cqejo6GqtY8KECXr99de1bt06RUZG6sCBA5KkRo0aKSwsrLoRAQAW69u3b6U+OyMlJcXv+Z0agdpo9Gjprbek3/723B6PUjEx5xqO0aNtixaQFowbLS1/S0998VuVNPj5BQ06GaMpHZ85dz9sZUrTUV1Lly6VJPXv399nfPny5brrrruqvX4AgLUyMjK83+fn5ys2Nta0dVMjUFuNHi0NHCg1anTu9t//flZDhjjnkKpAs2DcaP32h4GKXXLuBZ115d817ZdD2MPhEI45vAoAUDvEx8drypQpmjZtmilXiqJGoDY7v8Ho3dug4aim4Po/v4DjB/em4XCQKn0i+ffff292DgBALZGenq73339fV111lZYvX253HACAA1Sp6bjpppt09uzZcu+raBwAUDf06tVLn376qebPn68ZM2YoMTHR5/ArAEDdU6Wmo0mTJpo4cWKZ8cOHD2vgwEtfJxkAUPv9+te/1tdff61hw4Zp6NChGjVqlHbv3m13LACADarUdLz22mv64IMP9OKLL3rHvvjiC/Xo0cPRH7oEAKhZhmFo0KBB+s1vfqN33nlHnTp10tSpU1VQUGB3NABADarSieSNGzfW6tWr1a9fP3Xu3Fk//vijxowZo9/85jd64oknzM4IAAggzz33nLKyspSVlaUvvvhCQUFBSkhI0IQJE9S1a1f99a9/VceOHbV27VolJyfbHRcAUAP8bjpGjBihrl27KjExUV27dlXnzp21ePFiDR06VKdPn9bixYs1duxYK7MCAALA448/rp49e2rs2LHq2bOnkpOTfT4d/O6779bcuXN111136fPPP7cxKQCgpvjddLRr107//Oc/tWTJEh0+fFiNGzdWly5dZBiGfvWrX6lr164qKipy9Me4AwCsl5+ff8ll7rnnHj366KM1kAYA4AR+Nx1PPvmk9/t9+/bJ4/HI4/EoKirKe35H/fr1FR8fr9zcXEvCAgBqh6ZNm+rDDz+0OwYAoIZU6ZyOmJgYxcTE6MYbb/SOnThxQtu2bdP27dtNCwcAqJ1cLpf69etndwwAQA0x7RPJIyIi1KdPH/Xp08esVQIAAACoBfy+ZO727dtVUlLi94p37tzJBwUCAAAA8L/pSExM1OHDh/1ecUpKivLy8qoUCgAAAEDt4ffhVYZh6NFHH1V4eLhfy585c6bKoQAAAADUHn43HX379tVXX33l94pTUlIUFhZWpVAAAAAAag+/m46MjAwLYwAAAACorap09aqsrCw99NBD+uGHH3TVVVf5fFJ5bGys2RkBAAAABDC/TyQ/35133qmgoCDde++9atu2rTIzM3XXXXepdevWioqKMjsjAAAAgABWpT0d+fn5Wr9+va688kqf8W+++UYej8eMXAAAAABqiSo1Hb/4xS+Un59fpulo3bq1WrdubUowAAAAALWD303HiBEj1KVLF3Xp0kX33nuvHnvsMXXu3JnDqQAAAABclN9NR7t27fTJJ59o6dKl3g8JbN++vUaMGKGUlBQlJiaqc+fOCg4OtiwsAAAAgMDjd9Px5JNPer/ft2+fPB6P92v+/Pnas2ePgoKCFB8fr+3bt1sSFgAAAEDgqdI5HTExMYqJidGNN97oHTtx4oS2bdtGwwEAAADAR5WajvJERESoT58+6tOnj1mrBAAAAFALVOlzOgAAAADAXzQdAAAAACxF0wEAAADAUjQdAAAAACxF0wEAAADAUjQdAAAAACxF0wEAAADAUjQdAAAAACxF0wEAAADAUjQdAAAAACxF0wEAAADAUjQdAAAAACxF0wEAAADAUjQdAAAAACxF0wEAAADAUjQdAAAAACxF0wEAAADAUo5oOjZv3qxhw4apZcuWcrlcevvtt+2OBJimuFjKzHRp8+YrlJnpUnGx3YnKR044GXUClcVcASeri9unI5qOkydPqkuXLnr22WftjgKYas0aqU0bKS2tvhYuTFZaWn21aXNu3EnICaejTqAymCvgZHV1+6xvdwBJGjJkiIYMGWJ3DMBUa9ZIN98sGYbv+Lffnht/6y1p9Gh7sp2PnAgE1An4i7kCTlaXt09H7OkAapviYmnSpLKTivTz2OTJsn13KjkB1CbMFXCyur59OmJPR2UVFhaqsLDQe/v48eOSpKKiIhUVFdkV65JKszk5oxQ4OSXnZs3MdGnfvop/vQxDys+XNm06q379ypl9agg5reXU7fNCTs9XFdQJazk1ZyDOFedeQvf//32RHPaSegVMzrM/B3Pa73sgbp+Seb/nAdl0zJs3T7Nnzy4z/v777ys8PNyGRJWTnp5udwS/BEpOyXlZN2++QlLyJZfbsMGjkye/tT5QBchZM5y2fV7o1KlTdkcwHXWiZjgtZyDOFadPB0m6UZL04YcfKjTUmW9zB0rOo6d+/gM5MzNTjcPdNqbxFYjbp2RejXAZRnk7eezjcrm0du1ajRw5ssJlynsHKzY2VocOHVLDhg1rIGXVFBUVKT09XWlpaXK7nfNLcKFAySk5N2tmpktpaZfu6dPT7d+DQE7rOHX7vNDx48cVHR2tY8eOOXoOLUWdsJ9TcwbiXHHypNSkybnX8ODBU2rc2Dmv5/kCJefBoycVs6SJJGnPfx3UFZc3tjfQeQJx+5TMqxEBuacjJCREISEhZcbdbrejJr+KkNN8TsuamirFxJw7May8tt7lOnd/amp9BQXVfL5S5KwZTts+L+TkbFVFnagZTssZiHPF+S+f017P8wVMzvo/53JazkDcPiXzaoQjTiQ/ceKEPB6PPB6PJGnPnj3yeDzKy8uzNxhQRUFB0qJF5753uXzvK739zDOyfVIhJwIFdQL+YK6Ak9X17dMRTUd2drYSExOVmJgoSZoyZYoSExM1Y8YMm5MBVTd69LlL37Vs6TseE+OsS+KRE4GAOgF/MVfAyery9umIw6v69+8vh51aAphi9Ghp4ECpUaNzt//+97MaMsRZu00lcsL5qBOoDOYKOFld3T4dsacDqM3On0R69zYcO6mQE0BtwlwBJ6uL2ydNBwAAAABL0XQAAAAAsBRNBwAAAABL0XQAAAAAsBRNBwAAAABL0XQAAAAAsBRNBwAAAABL0XQAAAAAsBRNBwAAAABL0XQAAAAAsBRNBwAAAABL0XQAAAAAsBRNBwAAAABL0XQAAAAAsBRNBwAAAABL0XQAAAAAsBRNBwAAAABL0XQAAAAAsBRNBwAAAABL0XQAAAAAsBRNBwAAAABL0XQAAAAAsBRNBwAAAABL0XQAAAAAsBRNBwAAAABL0XQAAAAAsBRNBwAAAABL0XQAAAAAsBRNBwAAAABL0XQAAAAAsBRNBwAAAABL0XQAAAAAsBRNBwAAAABL0XQAAAAAsBRNBwAAAABL0XQAAAAAsBRNBwAAAABL0XQAAAAAsBRNBwAAAABL0XQAAAAAsBRNBwAAAABLOarpWLJkieLi4hQaGqqkpCR99NFHdkcCADgENQIAApdjmo5Vq1Zp8uTJevjhh7Vt2zb16dNHQ4YMUV5ent3RAAA2o0YAQGBzTNOxcOFC3XPPPRo/frw6dOigZ555RrGxsVq6dKnd0QAANqNGAEBgq293AEk6c+aMcnJy9NBDD/mMDxo0SJ988olNqQBzGIahMNdPkqSSn4pUEuy2OVH5Sn6Swlyl3wdGTsNwxBQGi1EjUBXMveYKmJynT/38/U+nVHIq2MY0FauLtcwRz/LQoUMqLi5Ws2bNfMabNWumAwcOlFm+sLBQhYWF3tvHjh2TJB05ckRFRUXWhq2GoqIinTp1SocPH5bb7cxfVilwckqBkbXg8CllXjlAkvSfvjaHuYTMK8/9Gyg5j3z3vkpKIu0NcxGBsH1KUkFBgaRzf6Q5UWVrhESdsFog5GTuNV8g5DwVVCKNOvf9/w3qqwPFjjmop4xAqWVm1QhHNB2lXC6Xz23DMMqMSdK8efM0e/bsMuNxcXGWZQPgQJ34nTdTQUGBGjVqZHeMCvlbIyTqBFCnzT/3T3/9x94c/gqQWlbdGuGIpiM6OlpBQUFl3rE6ePBgmXe2JGnatGmaMmWK93ZJSYmOHDmiqKioCguQExw/flyxsbHKz89Xw4YN7Y5ToUDJKQVOVnKai5zmMgxDBQUFatmypd1RylXZGiFRJ6xGTnOR01zkNJdZNcIRTUdwcLCSkpKUnp6uUaNGecfT09M1YsSIMsuHhIQoJCTEZ6xx48ZWxzRNw4YNHb1xlQqUnFLgZCWnuchpHifv4ahsjZCoEzWFnOYip7nIaR4zaoQjmg5JmjJliu68804lJycrJSVFy5YtU15enu699167owEAbEaNAIDA5pim45e//KUOHz6sxx57TPv371enTp303nvvqXXr1nZHAwDYjBoBAIHNMU2HJN1///26//777Y5hmZCQEM2cObPMLn+nCZScUuBkJae5yFk31fYaIQXONkNOc5HTXOR0Jpfh1GskAgAAAKgVnHvxYgAAAAC1Ak0HAAAAAEvRdAAAAACwFE2HTfbu3at77rlHcXFxCgsL05VXXqmZM2fqzJkzdkcr4/HHH1evXr0UHh7uqOvcL1myRHFxcQoNDVVSUpI++ugjuyOVsXnzZg0bNkwtW7aUy+XS22+/bXekMubNm6fu3bsrMjJSTZs21ciRI/XVV1/ZHauMpUuXKiEhwXs985SUFG3YsMHuWJc0b948uVwuTZ482e4oCCDUiOqjRpgjUGqEFJh1oi7VCJoOm3z55ZcqKSnR888/r507d+rpp5/Wc889p+nTp9sdrYwzZ87olltu0X333Wd3FK9Vq1Zp8uTJevjhh7Vt2zb16dNHQ4YMUV5ent3RfJw8eVJdunTRs88+a3eUCmVmZmrChAnasmWL0tPTdfbsWQ0aNEgnT560O5qPmJgYzZ8/X9nZ2crOztZ1112nESNGaOfOnXZHq1BWVpaWLVumhIQEu6MgwFAjqocaYZ5AqRFS4NWJOlcjDDjGggULjLi4OLtjVGj58uVGo0aN7I5hGIZh9OjRw7j33nt9xuLj442HHnrIpkSXJslYu3at3TEu6eDBg4YkIzMz0+4ol9SkSRPjxRdftDtGuQoKCox27doZ6enpRr9+/YxJkybZHQkBjhrhP2qEdQKpRhiGc+tEXawR7OlwkGPHjumyyy6zO4bjnTlzRjk5ORo0aJDP+KBBg/TJJ5/YlKr2OHbsmCQ5elssLi7WypUrdfLkSaWkpNgdp1wTJkzQ0KFDNXDgQLujoJagRviHGmGtQKgRkvPrRF2sEY76cMC67D//+Y/+/Oc/66mnnrI7iuMdOnRIxcXFatasmc94s2bNdODAAZtS1Q6GYWjKlCnq3bu3OnXqZHecMnbs2KGUlBSdPn1aERERWrt2rTp27Gh3rDJWrlyprVu3Kisry+4oqCWoEf6jRljH6TVCCow6UVdrBHs6TDZr1iy5XK6LfmVnZ/s85rvvvtP111+vW265RePHj3dsTqdxuVw+tw3DKDOGynnggQe0fft2vfHGG3ZHKVf79u3l8Xi0ZcsW3XfffRo7dqx27dpldywf+fn5mjRpklasWKHQ0FC748BhqBE1hxphPqfXCMn5daIu1wj2dJjsgQce0JgxYy66TJs2bbzff/fdd0pNTVVKSoqWLVtmcbqfVTank0RHRysoKKjMO1YHDx4s884W/Ddx4kS988472rx5s2JiYuyOU67g4GBdddVVkqTk5GRlZWVp0aJFev75521O9rOcnBwdPHhQSUlJ3rHi4mJt3rxZzz77rAoLCxUUFGRjQtiJGmE9aoQ1AqFGSM6vE3W5RtB0mCw6OlrR0dF+Lfvtt98qNTVVSUlJWr58uerVq7kdT5XJ6TTBwcFKSkpSenq6Ro0a5R1PT0/XiBEjbEwWmAzD0MSJE7V27VplZGQoLi7O7kh+MwxDhYWFdsfwMWDAAO3YscNnbNy4cYqPj9eDDz5Ya4sJ/EONsB41wlyBXCMk59WJulwjaDps8t1336l///5q1aqVnnzySf3www/e+5o3b25jsrLy8vJ05MgR5eXlqbi4WB6PR5J01VVXKSIiwpZMU6ZM0Z133qnk5GTvO4B5eXm69957bclTkRMnTmj37t3e23v27JHH49Fll12mVq1a2ZjsZxMmTNDrr7+udevWKTIy0vvuYKNGjRQWFmZzup9Nnz5dQ4YMUWxsrAoKCrRy5UplZGRo48aNdkfzERkZWeZY5wYNGigqKsqxx0DDeagR1UONME+g1AgpMOpEna4R9l04q25bvny5IancL6cZO3ZsuTk3bdpka67FixcbrVu3NoKDg41u3bo58vJ9mzZtKve1Gzt2rN3RvCraDpcvX253NB9333239//78ssvNwYMGGC8//77dsfyS125HCLMQ42oPmqEOQKlRhhG4NaJulIjXIZhGNa0MwAAAADA1asAAAAAWIymAwAAAIClaDoAAAAAWIqmAwAAAIClaDoAAAAAWIqmAwAAAIClaDoAAAAAWIqmAwAAAIClaDoAAAAAWIqmAwAAwCZTp07VsGHD7I4BWI6mAwAAwCYej0ddu3a1OwZgOZoOwGR79+6Vy+XSmjVr1LdvX4WFhSkpKUl79+5VRkaGevToofDwcKWmpurIkSN2xwUA2Cg3N1eJiYl2xwAsR9MBmMzj8UiSlixZorlz5+pf//qXDh8+rDvvvFNPPPGEFi9erIyMDO3YsUMvvfSSvWEBALbJz8/X4cOHvXs6jh49qmHDhqlXr17av3+/veEAk9W3OwBQ2+Tm5qpJkyZauXKloqOjJUmpqan68MMPtWvXLjVo0ECS1L17dx04cMDOqAAAG3k8HjVq1EhxcXHasWOHRo8erdTUVK1evVrBwcF2xwNMxZ4OwGQej0fDhw/3NhySlJeXp9tuu83bcJSOxcXF2RERAOAAHo9HXbp00RtvvKG+ffvqf/7nf7Rs2TIaDtRKNB2AyXJzc9WzZ0+fMY/Ho2uvvdZ7+/Tp0/r66685eRAA6jCPx6MdO3bogQce0Pr16/Xf//3fdkcCLEPTAZjo+PHj2rt3r89Jgd98842OHDniM7Zz504VFxerS5cudsQEADiAx+PRTTfdpNOnT+vo0aN2xwEsRdMBmCg3N1f16tVTQkKCd8zj8ahx48Zq06aNz3Jt27ZVZGSkDSkBAHYrKCjQnj17dP/992vJkiW67bbbtHPnTrtjAZbhRHLARLm5uYqPj1dYWJh3bNu2bWX2aOTm5nJoFQDUYR6PR0FBQerYsaMSExO1c+dODRs2TJ999pnPOYFAbeEyDMOwOwQAAEBd8uyzz+r555/Xjh07JEklJSUaPny4jh8/rv/93//lZHLUOjQdAAAAACzFOR0AAAAALEXTAQAAAMBSNB0AAAAALEXTAQAAAMBSNB0AAAAALEXTAQAAAMBSNB0AAAAALEXTAQAAAMBSNB0AAAAALEXTAQAAAMBSNB0AAAAALEXTAQAAAMBS/x+X/44a9glouwAAAABJRU5ErkJggg=="
class="
"
>
</div>

</div>
<div class="jp-OutputArea-child">
    
    <div class="jp-OutputPrompt jp-OutputArea-prompt"></div>




<div class="jp-RenderedImage jp-OutputArea-output ">
<img src="data:image/png;base64,iVBORw0KGgoAAAANSUhEUgAAAx0AAAJOCAYAAADS9Gp+AAAAOXRFWHRTb2Z0d2FyZQBNYXRwbG90bGliIHZlcnNpb24zLjcuMSwgaHR0cHM6Ly9tYXRwbG90bGliLm9yZy/bCgiHAAAACXBIWXMAAA9hAAAPYQGoP6dpAABgkUlEQVR4nO3de1xVdb7/8fcWNzfBS5AXwguWI5qiCFSYN1I0M69NjTXTmOU5v8ocHZ0zlV3UptScyfI3qWU21ozHdMxbk+nErwRrygJ0o2mX8TxUMDVTS1ATEdbvDw87d4BuYC3W2vB6Ph48cn9ZLN57t/f68N5Xl2EYhgAAAADAIo3sDgAAAACgfqN0AAAAALAUpQMAAACApSgdAAAAACxF6QAAAABgKUoHAAAAAEtROgAAAABYitIBAAAAwFKUDgAAAACWonQAAAAAsBSlAwAAAIClKB0IOJ988olGjx6tdu3aKSQkRK1atVJqaqqmTZvm3ea1116Ty+XS/v377Qt6EbPz3HPPPXK5XHK5XOrWrZsp+yy3fv16775dLpdycnJM3T9QFzhOXGDVscKJxwm7josnT55Uo0aN9MILL9Q4n7/7cBozrgfl1/uqvjIzM80Pfhn1ZcYWFRXp97//vQYPHqwrr7xSLpdLM2fOrNY+Tp06pSlTpigmJkahoaHq2bOnVq5cWaM8lA4ElI0bN6p3794qLCzUvHnz9O6772rBggW68cYbtWrVKu92w4YN08cff6w2bdrYmNZarVu31scff6wVK1aYut/+/fvr448/1uOPP27qfoG6wnHClxXHCqceJ+w4Lubk5MgwDF133XU1zle+j5SUFNMy1wUzrgfXX3+9mjZtqmuuuUZbt27Vxx9/7PPVq1cvExP7rz7M2OPHj2vJkiUqLi7WqFGjarSPMWPG6PXXX9eMGTO0adMmpaSk6M4776zR5dK4RgkAm8ybN09xcXH65z//qcaNf7z6jh07VvPmzfOevvLKK3XllVfaEbHOhISE6IYbbjB9vy1atNANN9ygL774wvR9A3WB44QvK44VTj1O2HFczMnJkdvt9uuP46ry5eTkqHHjxrb9gV1TZlwPunTpojVr1uiWW27R0qVL9frrr5uYsObqw4xt3769vvvuO7lcLh07dkxLly6t1s+/8847ysjI0IoVK3TnnXdKktLS0nTgwAH913/9l37xi18oKCjI7/3xSAcCyvHjxxUdHe3zh0S5Ro1+vDpX9TSFDRs2KCEhQSEhIerYsaMWLFigmTNnyuVyebcpP717927deeedatasmVq1aqV7771XJ0+e9Nnf3r17NX78eHXq1Enh4eG66qqrNHz4cO3atatG5+/w4cOKiIjQ2LFjfdbffvttud1uPfbYY5fdx+DBg9WnTx+9++676tOnj8LDw9WhQwfvPbyrVq1ScnKywsPD1bVrV23ZsqVGWQGnqu/HiXKvvPKKunfvrpCQEF199dX629/+pl//+tfq3LmzXz8fKMcKM46LknXnNzs7W927d9e2bds0cOBARUREqHXr1nrqqaf8Po/Z2dnq1q2bwsLCJEmGYej5559XaGioHnnkEZWWlvq9r+pywvVg0KBBevXVV/XXv/5V06dPN33/P9VQbjvlT+GqqXXr1ikiIkK33367z/r48eN16NAhffLJJ9XboQEEkAkTJhiSjEmTJhnbtm0zzp07V+l2y5YtMyQZ+/bt865t2rTJaNSokTFgwABj3bp1xurVq43rr7/e6NChg3HxTWHGjBmGJKNz587Gk08+aWRkZBjz5883QkJCjPHjx/v8nqysLGPatGnGm2++aWRlZRnr1q0zRo0aZYSFhRlffPHFJfNUZdasWYbL5TJycnIMwzCMLVu2GKGhocakSZO824wbN85o3759pT8fHR1ttG3b1khJSTHeeOMNY9OmTUZCQoIRHBxsTJkyxRgwYICxZs0aY/369Ub79u2NmJiYS16G2dnZl80MOElDOE789re/NUJDQ40nn3zSeP/9942XXnrJiIqKMtq0aWPcdddd3u2sPlZc7jhRVlZmlJSU+PV1KbU9Llp5ftu3b2+0bdvWSExMNF5//XXjvffeM26//XZDkpGZmelXvvbt2xv/8R//YRiGYXz77bfGsGHDjKioKOOdd9655OVihrq4Hvjr6aefNiQZCxcurNV+LsWf245d16WLmXXbKfftt98akowZM2b4tb1hGMYNN9xgpKSkVFj/7LPPDEnGyy+/7Pe+DMMwKB0IKMeOHTP69OljSDIkGW632+jdu7cxZ84co6ioyLtdZcM7JSXFaNu2rVFcXOxdKyoqMqKioir9Y2LevHk+v/vBBx80QkNDjbKysirznT9/3jh37pzRqVMn47e//e0l81Tl9OnTRkxMjDFw4EDj008/NSIjI43x48f7/N6qDoj79+83JBkpKSk+53P58uWGJGPo0KE++5k7d64hyThx4kSFfVE6EKjq+3Fiw4YNhiTjzTff9Fl/5plnDEnG/PnzvWtWHysud5zYsmWL9//D5b4udb5rc1y08vyW/yGXkpJinD171rvdwYMHDUnGokWLLpuvfB+vvPKKkZWVZVx11VXGjTfeaBQUFFR5eZilrq4H1TFkyBCjUaNGxmeffVbrff2Uv7cdO65LP2XWbadcTUpHp06djCFDhlRYP3TokCHJmD17tt/7MgzD4DUdCChRUVH64IMPlJOTo/fee085OTnKzMzUo48+qpdfflnZ2dmKjo6u8HOnT59WTk6OHnroIQUHB3vXIyIiNHz4cL322msVfmbEiBE+pxMSEnT27FkdPXpUrVq1kiSdP39e8+bN0/Lly7V3716VlJR4t//8889rdB7Dw8P19NNP695771VaWpqGDRumV155xa+HSHNzcyVJf/jDH3zOZ2FhoSRp7ty5Pvs5deqU3G63IiMja5QVcKL6fpx46qmnlJqaqttuu81nvVOnTpKk5OTky+6jro4VSUlJys7O9mvbmJiYKr9Xm+OiZN35LT9vTz/9tEJCQrzrx48fv+x5+uk+MjIy9MADD+i3v/2tZs+eXenTA8tlZmYqLS3tsvuWpB07dqhnz56Vfs9pM2P79u3KzMzUiBEjdO2115q+/4Z426mtS93GqvvULUoHAlJycrL34FBSUqKHH35Yzz//vObNm+fzQtFy3333nQzD8P4RcLHK1qQLf7hcrHyg/PDDD961qVOnauHChXr44YfVv39/tWjRQo0aNdKECRN8tquun/3sZ5Iu3KBfe+01v1+otX37doWEhOimm27yWc/NzVVMTIwSEhJ81nfs2KFu3bpdcrgBgao+Hie++eYb5ebmasGCBRW+d+DAATVq1EiJiYmX3U9dHSsiIiKq/IP3py6375oeFyXrzm9OTo7CwsIq7Hf79u2S5Nf/i5ycHIWGhuqdd95Rv379Kr1u/lTnzp31yiuvXHY7SWrXrl2V33PSzCgsLNQdd9yh1q1b6y9/+Uul2yxYsEAffvih3G633n77bXXp0kUbNmzQ7NmztXz5csXExGjjxo1q3759hZ9tyLedmoqKivIW6IudOHFCknTFFVdUa3+8kBwBz+12a8aMGZKkzz77rNJtWrRoIZfLpW+++abC944cOVLj3718+XL9+te/1uzZszVkyBBdd911Sk5O1rFjx2q8T4/Ho1tvvVU33nijTp06VeXBtzK5ubnq0aOH3G63z3pOTk6l9+Dk5uYqKSmpxlmBQFFfjhMFBQWSLryd509t3LhR8fHxioiIuOx+6upYkZWVJbfb7dfXpT6fpDbHxfL8VpzfnJwc9ejRo8IffTk5OYqOjr7kH/wXb5uYmKg333xTW7du1aOPPnrZn2nTpo0mTJjg19el/jB00syYMGGC8vPztXLlSrVo0aLSbXbu3KlPP/1U06ZN09GjR1VSUqKBAwdqxIgROnr0qOLi4ip9RFJquLed2ujevbs+//xznT9/3me9/E0wqvsZJpQOBJTDhw9Xul7+FIWqHmJs0qSJkpOTtX79ep07d867furUKb399ts1zuNyuXweUpcuHLy+/vrrGu3vyy+/1JAhQ5SamqotW7Zo5MiRmjlzZoV3w6nK9u3bKxz0zp49q927d1dYP3z4sI4cOULpQL1Tn48T5W/x+9O323zzzTeVmZnp19NDpLo7VpQ/RcSfr6r+v9T2uGjl+c3Ozq50u+r8oVm+jyFDhuiVV17R3LlztXDhQr9+tracMjMWLlyo1atXa86cOZd8m9qdO3dq1qxZSkpKUmhoqK6++mrdfvvtGjRokBo3bqz4+Pgq3+mrId52amv06NE6deqU1qxZ47P++uuvKyYmRtdff3219sdzKhBQhgwZotjYWA0fPlzx8fEqKyuTx+PRc889p4iICE2ePLnKn33qqac0bNgwDRkyRJMnT1Zpaan++Mc/KiIiwvtQYXXdeuuteu211xQfH6+EhATl5ubqj3/8o2JjY6u9r/3792vQoEHq3Lmz1qxZI7fbrblz56pbt26aPXu2nn322Uv+/MGDB3X06NEKB728vDydP3++wnr581L9PdACgaI+HyfatWunpKQkzZ8/X61bt1anTp303nvv6e9//7sk/27PdXmsiIyMrNUxprbHRcm683v48GEdPny4wnbnz59XXl6epk6detls5fso/6P0nnvu0cGDB/Wb3/xGrVu3rvDaAzNZfT1wuVzq37//ZT9RfNeuXZo2bZq6du2q3r17a9u2bT7fj42NVWxsrMrKyrRnzx7dfPPN3u/t2bNH06ZN857+/PPPddddd1X6exrabafcpk2bdPr0aRUVFUm6cJm9+eabkqRbbrlF4eHhki48sjJw4EA9+eSTevLJJyVJQ4cOVXp6uh544AEVFhbqmmuu0RtvvKHNmzdr+fLl1XqKo0TpQIB5/PHHtWHDBj3//PM6fPiwiouL1aZNGw0aNEiPPvqounTpUuXP3nzzzVqzZo2efPJJ/eIXv1Dr1q314IMP6tChQ/rb3/5WozwLFiyQ2+3WnDlzdOrUKfXq1Utr166t9ieNHj58WIMGDVLLli319ttve9+rPT4+Xvfee68WLFigBx54QB06dKhyH1Ud3C617na71b1792plBZyuvh4npAt/yK1evVoPPPCApk2bpiZNmmjMmDF65plndMcdd1TrhbBOP1aYcVyUrDu/5S/y/em92Hv27NEPP/zg9yMlP93H448/roKCAv3qV79Sy5Yt1bdv38vupyasvB6cOnVK0oWngfmTo7i4WHv27FHv3r0rfH/GjBmaOXOm9u7d6/0MFEkqLi7W3r17ffLs3LlTc+fOrfT3NKTbzsUeeOABHThwwHt69erVWr16tSRp37593tuPYRgqLS1VWVmZz8+vXbtWjz32mJ588kmdOHFC8fHxeuONNyp8bo5fqvVeV0A9c+7cOaNr165Genq63VGqpfzt/EpKSozz58+buu/y9wZ/9dVXectcwAiM48ScOXOMxo0bG2fOnPFZt+pY4cTjhNOPi1bms0tVl8vGjRsNl8tl7Ny507TftXr1ap/bYG5urtGpUyfv6e+++84ICQnx+3MrylV223H6dSlQ8UgHGpT77rtP6enpatOmjY4cOaKXXnpJn3/+eaXvZuF0Bw4ckNvt1rXXXlvlC2NrYsOGDRo9erRp+wMCTSAeJ7Kzs9W1a1fvowEXs+JY4dTjhNOPi1bls0tVl8uWLVs0duxYU+/h37Vrl3r06OE9nZeX53N6165d6tKlS7Xfyamq247Tr0uByGUYhmF3CKCu3HHHHfroo4/07bffyu12q1evXpo+fbrPc0QDwf79+73vfBMWFmbq+5l///332rt3r/d0165dvc/5BBqCQDxOtGvXTunp6Xr11Vd91q06VjjxOOH046KV+ezixOtBdVV223H6dSlQUToAAAAAWMqRb5k7Z84cuVwuTZkyxe4oAACHYUYAQOBxXOnIzs7WkiVLKnyiIwAAzAgACEyOKh2nTp3SL3/5S73yyitVfholAKBhYkYAQOBy1LtXTZw4UcOGDdOgQYP09NNPV7ldcXGxiouLvafLysp04sQJRUVFyeVy1UVUAKg3DMNQUVGRYmJi1KiRo+6L8uHvjJCYEwBgFrNmhGNKx8qVK7V9+3bvB+Vcypw5czRr1qw6SAUADUdBQUGNPiW7LlRnRkjMCQAwW21nhCNKR0FBgSZPnqx3331XoaGhl93+0Ucf1dSpU72nT548qXbt2mnfvn2KjIy0MmqtlJSUaMuWLUpLS5Pb7bY7TpUCJacUOFnJaS5ymquoqEhxcXGOPX5Wd0ZIzAmrkdNc5DQXOc1l1oxwROnIzc3V0aNHlZSU5F0rLS3V1q1b9eKLL6q4uFhBQUHe74WEhCgkJKTCfq644go1bdq0TjLXRElJicLDwxUVFeXoK1eg5JQCJys5zUVOc5Vnc+rTjqo7IyTmhNXIaS5ymouc5jJrRjiidAwcOFC7du3yWRs/frzi4+P18MMPVxgmAICGgxkBAIHPEaUjMjJS3bp181lr0qSJoqKiKqwDABoWZgQABD7nvk0JAAAAgHrBEY90VCYzM9PuCAAAh2JGAEBg4ZEOAAAAAJaidAAAAACwFKUDAAAAgKUoHQAAAAAsRekAAAAAYClKBwAAAABLUToAAAAAWIrSAQAAAMBSlA4AAAAAlqJ0AAAAALAUpQMAAACApSgdAAAAACxF6QAAAABgKUoHAAAAAEtROgAAAABYitIBAAAAwFKUDgAAAACWonQAAAAAsBSlAwAAAIClKB0AAAAALEXpAAAAAGApSgcAAAAAS1E6AAAAAFiK0gEAAADAUpQOAAAAAJaidAAAAACwFKUDAAAAgKUoHQAAAAAsRekAAAAAYClKBwAAAABLUToAAAAAWIrSAQAAAMBSlA4AAAAAlqJ0AAAAALAUpQMAAACApSgdAAAAACxF6QAAAABgKUoHAAAAAEtROgAAAABYitIBAAAAwFKUDgAAAACWonQAAAAAsJQjSsfixYuVkJCgpk2bqmnTpkpNTdWmTZvsjgUAcABmBAAEPkeUjtjYWM2dO1c5OTnKycnRTTfdpJEjR2r37t12RwMA2IwZAQCBr7HdASRp+PDhPqefeeYZLV68WNu2bdO1115rUyoAgBMwIwAg8DmidFystLRUq1ev1unTp5WamlrpNsXFxSouLvaeLiwslCSVlJSopKSkTnLWRHk2J2eUAienFDhZyWkucprL6fku5s+MkJgTViOnuchpLnKay6x8LsMwDFP2VEu7du1Samqqzp49q4iICK1YsUK33HJLpdvOnDlTs2bNqrC+YsUKhYeHWx0VAOqVM2fO6K677tLJkyfVtGlTu+NUqjozQmJOAIBZzJoRjikd586dU35+vr7//nutWbNGS5cuVVZWlrp27Vph28ruwWrbtq2OHTvm2IEpXWiKGRkZSk9Pl9vttjtOlQIlpxQ4WclpLnKaq7CwUNHR0Y4uHdWZERJzwmrkNBc5zUVOc5k1Ixzz9Krg4GBdc801kqTk5GRlZ2drwYIFevnllytsGxISopCQkArrbrfb0f/TypHTfIGSlZzmIqc5nJytXHVmhMScqCvkNBc5zUVOc5iVzRHvXlUZwzB87qUCAKAcMwIAAosjHumYPn26hg4dqrZt26qoqEgrV65UZmamNm/ebHc0AIDNmBEAEPgcUTq++eYb3X333Tp8+LCaNWumhIQEbd68Wenp6XZHAwDYjBkBAIHPEaXj1VdftTsCAMChmBEAEPgc+5oOAAAAAPUDpQMAAACApSgdAAAAACxF6QAAAABgKUoHAAAAAEtROgAAAABYitIBAAAAwFKUDgAAAACWonQAAAAAsBSlAwAAAIClKB0AAAAALEXpAAAAAGApSgcAAAAAS1E6AAAAAFiK0gEAAADAUpQOAAAAAJaidAAAAACwFKUDAAAAgKUoHQAAAAAsRekAAAAAYClKBwAAAABLUToAAAAAWIrSAQAAAMBSlA4AAAAAlqJ0AAAAALAUpQMAAACApSgdAAAAACxF6QAAAABgKUoHAAAAAEtROgAAAABYitIBAAAAwFKN/d3wrbfeqvbO09PTFRYWVu2fAwAEFmYEAOBS/C4do0aNqtaOXS6X/v3vf6tjx47VzQQACDDMCADApVTr6VVHjhxRWVmZX1/h4eFWZQYAOBAzAgBQFb9Lx7hx46r1MPivfvUrNW3atEahAACBhRkBALgUv59etWzZsmrtePHixdUOAwAITMwIAMCl+F06AADwx/fff69XX31VR44cUVxcnHr27KkePXqoSZMmdkcDANikRqWDgQIAqMqYMWO0a9cupaSkaNOmTfrqq69UVlamjh07qmfPnvr73/9ud0QAQB2rUelgoAAAqvLJJ58oKytLycnJkqTi4mLt3r1beXl5ysvLszkdAMAONSodDBQAQFW6deumRo1+fJ+SkJAQ9erVS7169bIxFQDATjUqHQwUAEBVnn32WT3xxBNas2aNQkND7Y4DAHCAan1OR7nygXL27Fmz8wAAAlxcXJyKiorUpUsXTZ8+XRs2bFB+fr7dsQAANqpR6TB7oMyZM0cpKSmKjIxUy5YtNWrUKH355Zc13h8AwD633XabCgoKlJaWpk8//VT33Xef4uLiFBUVpZtuuqna+2NGAEDgq9HTq2677TYdP37cO1CWLFmi7777Ts2bN1ePHj30/vvvV2t/WVlZmjhxolJSUnT+/Hk99thjGjx4sPbs2cM7YgFAgNmzZ4+2bdumhIQE71p+fr527Nghj8dT7f0xIwAg8NWodJg9UDZv3uxzetmyZWrZsqVyc3PVr1+/mkQEANgkJSVFp06d8llr166d2rVrp5EjR1Z7f8wIAAh8NSodZg+Unzp58qQk6Yorrqj0+8XFxSouLvaeLiwslCSVlJSopKSk1r/fKuXZnJxRCpycUuBkJae5yGkus/NNmTJFM2fO1KpVq9SiRQtT9y1dfkZIzAmrkdNc5DQXOc1lVj6XYRhGdX9o3bp1Wrx4sSUDxTAMjRw5Ut99950++OCDSreZOXOmZs2aVWF9xYoVCg8PNzUPANR3Z86c0V133aWTJ0+qadOmtd5f+bsbXnHFFRoxYoRuuOEGJSYmKiEhQSEhIbXatz8zQmJOAIBZzJoRNSodVg6UiRMnauPGjfrwww8VGxtb6TaV3YPVtm1bHTt2zJSBaZWSkhJlZGQoPT1dbrfb7jhVCpScUuBkJae5yGmuwsJCRUdHm1Y6Dhw4II/Ho7y8PO9/9+/fr6CgIMXHx2vnzp013rc/M0JiTliNnOYip7nIaS6zZkSNnl61b98+n4Hy7LPPmjJQJk2apLfeektbt2695DAJCQmptNy43W5H/08rR07zBUpWcpqLnOYwO1v79u3Vvn17n6fbFhUVyePx1Kpw+DsjJOZEXSGnuchpLnKaw6xsNSodZg8UwzA0adIkrVu3TpmZmYqLi6tJLACAQ0VGRqpv377q27dvtX+WGQEAgc/vz+nYuXOnysrKqvx++UCZOHGiJGn37t06f/68X/ueOHGili9frhUrVigyMlJHjhzRkSNH9MMPP/gbDwBgo8vNiJ9iRgBAw+J36UhMTNTx48f93nFqaqrfHxi4ePFinTx5UgMGDFCbNm28X6tWrfL79wEA7MOMAABcit9PrzIMQ0888YTf7/px7tw5v0PU4LXsAAAHYUYAAC7F79LRr18/ffnll37vODU1VWFhYTUKBQAILMwIAMCl+F06MjMzvf8uKipSZGSkFXkAAAHo4hmxY8cOXXvttQoODrYvEADAUWr07lV9+/bV5s2b1bp1a7PzAAACXHJysoKCgtS5c2f16NFDPXv2VM+ePZWQkKCWLVvaHQ8AYAO/X0h+seTkZF1//fX64osvfNZ37NihW265xZRgAIDA9M4776hFixa69tpr1ahRI/33f/+3Bg8e7H0B+NChQ/XII4/ojTfesDsqAKCO1Kh0LF26VPfee6/69OmjDz/8UF999ZXuuOMOJScn1/oTyQEAgW3y5MlaunSpVq5cqb/+9a/asWOHNm3apLi4OE2bNk0JCQnKy8vT73//e7ujAgDqSI2eXiVJM2bMUHBwsNLT01VaWqohQ4YoOztbvXr1MjMfACDAHDhwQN26dfNZGzJkiObNm6dVq1bxVrcA0ADV6JGOw4cP6ze/+Y3+8Ic/qGvXrnK73Ro7diyFAwCg1NRUvfzyyxXWExMTtWnTJhsSAQDsVqNHOjp27Kj4+HitXr1aw4YN0z//+U/dcccdOnjwoB5++GGzMwIAAsiiRYt0/fXX69ixY/rtb3+rLl266Pz58/rzn/+sFi1a2B0PAGCDGpWOZcuWaezYsd7TQ4YM0ZYtW3TrrbfqwIEDWrRokWkBAQCBJT4+Xp9++qkmT56s7t27Kzg4WKWlpXK73Vq6dKnd8QAANqhR6bi4cJTr1auXPvroI969CgCgzp07a/PmzTp48KC2b9+uRo0aKSkpSW3atLE7GgDABjV+IXllOnTooH/9619m7hIAEMBiY2MVGxtrdwwAgM1q9ELyS+H5ugAAAAAuZnrpAAAAAICLUToAAAAAWIrSAQAAAMBSlA4AAAAAlqJ0AAAAALAUpQMAAACApSgdAAAAACxF6QAAAABgKUoHAAAAAEtROgAAAABYitIBAAAAwFKUDgAAAACWonQAAAAAsBSlAwAAAIClKB0AAAAALEXpAAAAAGApSgcAAAAAS1E6AAAAAFiK0gEAAADAUpQOAAAAAJaidAAAAACwFKUDAAAAgKUoHQAAAAAsRekAAAAAYClKBwAAAABLUToAAAAAWIrSAQAAAMBSlA4AAAAAlqJ0AAAAALCUI0rH1q1bNXz4cMXExMjlcmn9+vV2R0IAKC2VsrJc2rr1KmVluVRaaneiypETqD3mBGAvZgRqyxGl4/Tp0+rRo4defPFFu6MgQKxdK3XoIKWnN9b8+clKT2+sDh0urDsJOQFzMCcA+zAjYIbGdgeQpKFDh2ro0KF2x0CAWLtW+vnPJcPwXf/66wvrb74pjRljT7aLkRMwD3MCsAczAmZxxCMdgL9KS6XJkyse/KQf16ZMke0P+5ITABDomBEwkyMe6aiu4uJiFRcXe08XFhZKkkpKSlRSUmJXrMsqz+bkjJKzc2ZluXTwYNVXW8OQCgqkLVvOq3//So6SdYSc1nLydfRigZazPmFOWIuc5nJqTmaEtQItZ20FZOmYM2eOZs2aVWH93XffVXh4uA2JqicjI8PuCH5xYs6tW6+SlHzZ7TZt8uj06a+tD1QFctYNJ15HK+P0nGfOnLE7gumYE3WDnOZyWk5mRN1wek6zZoTLMCp70Mw+LpdL69at06hRo6rcprJ7sNq2batjx46padOmdZCyZkpKSpSRkaH09HS53W6741TJyTmzslxKT798V87IsP8RBHJax8nX0YsFSs7CwkJFR0fr5MmTjj6GlmNO2I+c5nJqTmaEtQIlp1kzIiAf6QgJCVFISEiFdbfb7ej/aeXIWXNpaVJs7IUXsFVWl12uC99PS2usoKC6z1eOnHXDidfRyjg9p5Oz1RRzom6Q01xOy8mMqBtOz2lWNke8kPzUqVPyeDzyeDySpH379snj8Sg/P9/eYHCcoCBpwYIL/3a5fL9XfvqFF2T7wY+cgLmYE0DdY0bATI4oHTk5OUpMTFRiYqIkaerUqUpMTNSTTz5pczI40ZgxF96iLybGdz021llv3UdOwDzMCcAezAiYxRFPrxowYIAc9tISONyYMdKgQVKzZhdO/+Mf5zV0qPMe3iUnYA7mBGAfZgTM4IhHOoCauPhg16eP4diDHzkBAIGOGYHaonQAAAAAsBSlAwAAAIClKB0AAAAALEXpAAAAAGApSgcAAAAAS1E6AAAAAFiK0gEAAADAUpQOAAAAAJaidAAAAACwFKUDAAAAgKUoHQAAAAAsRekAAAAAYClKBwAAAABLUToAAAAAWIrSAQAAAMBSlA4AAAAAlqJ0AAAAALAUpQMAAACApSgdAAAAACxF6QAAAABgKUoHAAAAAEtROgAAAABYitIBAAAAwFKUDgAAAACWonQAAAAAsBSlAwAAAIClKB0AAAAALEXpAAAAAGApSgcAAAAAS1E6AAAAAFiK0gEAAADAUpQOAAAAAJaidAAAAACwFKUDAAAAgKUoHQAAAAAsRekAAAAAYClKBwAAAABLUToAAAAAWIrSAQAAAMBSlA4AAAAAlqJ0AAAAALCUo0rHokWLFBcXp9DQUCUlJemDDz6wOxIAwCGYEaiO0lIpK8ulrVuvUlaWS6WldieqXKDkBGrLMaVj1apVmjJlih577DHt2LFDffv21dChQ5Wfn293NACAzZgRqI61a6UOHaT09MaaPz9Z6emN1aHDhXUnCZScgBkcUzrmz5+v++67TxMmTFCXLl30wgsvqG3btlq8eLHd0QAANmNGwF9r10o//7l08KDv+tdfX1h3yh/0gZITMEtjuwNI0rlz55Sbm6tHHnnEZ33w4MH66KOPbEoFpzMMQ2GuHyRJZT+UqCzYbXOiypX9IIW5yv8dGDkNwxGHBkASMwL+Ky2VJk+WDEOSfpwR5Vwu6eEp0vB0KSjIjoQXlJZKD0+WQiXJVfH7Tsl5MWYEassR15pjx46ptLRUrVq18llv1aqVjhw5UmH74uJiFRcXe0+fPHlSknTixAmVlJRYG7YWSkpKdObMGR0/flxutzP/8JQCJ2fR8TPKunqgJOl/+tkc5jKyrr7w30DJeeLQuyori7Q3zCUEynU0UHIWFRVJulDknai6M0JiTljNqTk//NClgwcv/GkTqjPKurryg66nV12mqtyKUElXX3obJ+S8GDPCXIGS06wZ4YjSUc7l8q37hmFUWJOkOXPmaNasWRXW4+LiLMsGNCjduC01REVFRWrWrJndMark74yQmBOQzkq6bq/dKeopZkSDVNsZ4YjSER0draCgoAr3WB09erTCPVuS9Oijj2rq1Kne02VlZTpx4oSioqKqHEBOUFhYqLZt26qgoEBNmza1O06VAiWnFDhZyWkucprLMAwVFRUpJibG7iiVqu6MkJgTViOnuchpLnKay6wZ4YjSERwcrKSkJGVkZGj06NHe9YyMDI0cObLC9iEhIQoJCfFZa968udUxTdO0aVNHX7nKBUpOKXCyktNc5DSPkx/hqO6MkJgTdYWc5iKnuchpHjNmhCNKhyRNnTpVd999t5KTk5WamqolS5YoPz9f999/v93RAAA2Y0YAQGBzTOn4xS9+oePHj+upp57S4cOH1a1bN73zzjtq37693dEAADZjRgBAYHNM6ZCkBx98UA8++KDdMSwTEhKiGTNmVHjI32kCJacUOFnJaS5yNkz1fUZIgXOdIae5yGkucjqTy3DqeyQCAAAAqBcc84nkAAAAAOonSgcAAAAAS1E6AAAAAFiK0mGT/fv367777lNcXJzCwsJ09dVXa8aMGTp37pzd0Sp45pln1Lt3b4WHhzvqfe4XLVqkuLg4hYaGKikpSR988IHdkSrYunWrhg8frpiYGLlcLq1fv97uSBXMmTNHKSkpioyMVMuWLTVq1Ch9+eWXdseqYPHixUpISPC+n3lqaqo2bdpkd6zLmjNnjlwul6ZMmWJ3FAQQZkTtMSPMESgzQgrMOdGQZgSlwyZffPGFysrK9PLLL2v37t16/vnn9dJLL2n69Ol2R6vg3Llzuv322/XAAw/YHcVr1apVmjJlih577DHt2LFDffv21dChQ5Wfn293NB+nT59Wjx499OKLL9odpUpZWVmaOHGitm3bpoyMDJ0/f16DBw/W6dOn7Y7mIzY2VnPnzlVOTo5ycnJ00003aeTIkdq9e7fd0aqUnZ2tJUuWKCEhwe4oCDDMiNphRpgnUGaEFHhzosHNCAOOMW/ePCMuLs7uGFVatmyZ0axZM7tjGIZhGNddd51x//33+6zFx8cbjzzyiE2JLk+SsW7dOrtjXNbRo0cNSUZWVpbdUS6rRYsWxtKlS+2OUamioiKjU6dORkZGhtG/f39j8uTJdkdCgGNG+I8ZYZ1AmhGG4dw50RBnBI90OMjJkyd1xRVX2B3D8c6dO6fc3FwNHjzYZ33w4MH66KOPbEpVf5w8eVKSHH1dLC0t1cqVK3X69GmlpqbaHadSEydO1LBhwzRo0CC7o6CeYEb4hxlhrUCYEZLz50RDnBGO+nDAhux//ud/9Oc//1nPPfec3VEc79ixYyotLVWrVq181lu1aqUjR47YlKp+MAxDU6dOVZ8+fdStWze741Swa9cupaam6uzZs4qIiNC6devUtWtXu2NVsHLlSm3fvl3Z2dl2R0E9wYzwHzPCOk6fEVJgzImGOiN4pMNkM2fOlMvluuRXTk6Oz88cOnRIN998s26//XZNmDDBsTmdxuVy+Zw2DKPCGqrnoYce0s6dO/XGG2/YHaVSnTt3lsfj0bZt2/TAAw9o3Lhx2rNnj92xfBQUFGjy5Mlavny5QkND7Y4Dh2FG1B1mhPmcPiMk58+JhjwjeKTDZA899JDGjh17yW06dOjg/fehQ4eUlpam1NRULVmyxOJ0P6puTieJjo5WUFBQhXusjh49WuGeLfhv0qRJeuutt7R161bFxsbaHadSwcHBuuaaayRJycnJys7O1oIFC/Tyyy/bnOxHubm5Onr0qJKSkrxrpaWl2rp1q1588UUVFxcrKCjIxoSwEzPCeswIawTCjJCcPyca8oygdJgsOjpa0dHRfm379ddfKy0tTUlJSVq2bJkaNaq7B56qk9NpgoODlZSUpIyMDI0ePdq7npGRoZEjR9qYLDAZhqFJkyZp3bp1yszMVFxcnN2R/GYYhoqLi+2O4WPgwIHatWuXz9r48eMVHx+vhx9+uN4OE/iHGWE9ZoS5AnlGSM6bEw15RlA6bHLo0CENGDBA7dq105/+9Cd9++233u+1bt3axmQV5efn68SJE8rPz1dpaak8Ho8k6ZprrlFERIQtmaZOnaq7775bycnJ3nsA8/Pzdf/999uSpyqnTp3S3r17vaf37dsnj8ejK664Qu3atbMx2Y8mTpyoFStWaMOGDYqMjPTeO9isWTOFhYXZnO5H06dP19ChQ9W2bVsVFRVp5cqVyszM1ObNm+2O5iMyMrLCc52bNGmiqKgoxz4HGs7DjKgdZoR5AmVGSIExJxr0jLDvjbMatmXLlhmSKv1ymnHjxlWac8uWLbbmWrhwodG+fXsjODjY6NWrlyPfvm/Lli2VXnbjxo2zO5pXVdfDZcuW2R3Nx7333uv9/33llVcaAwcONN599127Y/mlobwdIszDjKg9ZoQ5AmVGGEbgzomGMiNchmEY1tQZAAAAAODdqwAAAABYjNIBAAAAwFKUDgAAAACWonQAAAAAsBSlAwAAAIClKB0AAAAALEXpAAAAAGApSgcAAAAAS1E6AAAAAFiK0gEAAADAUpQOAAAAAJaidAAm279/v1wul9auXat+/fopLCxMSUlJ2r9/vzIzM3XdddcpPDxcaWlpOnHihN1xAQB1jDmBhqix3QGA+sbj8UiSFi1apNmzZysiIkKjRo3S3XffrYiICC1cuFCGYeiWW27Rq6++qv/6r/+yNzAAoE4xJ9AQUToAk+Xl5alFixZauXKloqOjJUlpaWl6//33tWfPHjVp0kSSlJKSoiNHjtgZFQBgA+YEGiKeXgWYzOPxaMSIEd5BIkn5+fm68847vYOkfC0uLs6OiAAAGzEn0BBROgCT5eXl6YYbbvBZ83g8uv76672nz549q6+++ko9e/as43QAALsxJ9AQUToAExUWFmr//v1KTEz0rh04cEAnTpzwWdu9e7dKS0vVo0cPO2ICAGzCnEBDRekATJSXl6dGjRopISHBu+bxeNS8eXN16NDBZ7uOHTsqMjLShpQAALswJ9BQUToAE+Xl5Sk+Pl5hYWHetR07dlS4pyovL4+HzAGgAWJOoKFyGYZh2B0CAAAAQP3FIx0AAAAALEXpAAAAAGApSgcAAAAAS1E6AAAAAFiK0gEAAADAUpQOAAAAAJaidAAAAACwFKUDAAAAgKUoHQAAAAAsRekAAAAAYClKBwAAAABLUToAAAAAWIrSAQAAAMBSlA4AAAAAlqJ0AAAAALAUpQMAAACApSgdAAAAACxF6QAAAABgKUoHAAAAAEtROlDBJ598otGjR6tdu3YKCQlRq1atlJqaqmnTpnm3ee211+RyubR//377gl6kOnlOnjypRo0a6YUXXrjkdvfcc49cLpdcLpe6detWo304yfr1673nx+VyKScnp1o/75TzvHTpUrlcLkVERNiaA6iv6vMMKN+uqq/MzMw6yXuxS82a2rrUcb+hzkKp9vMQNdPY7gBwlo0bN2rEiBEaMGCA5s2bpzZt2ujw4cPKycnRypUr9dxzz0mShg0bpo8//lht2rSxOXH15eTkyDAMXXfddZfdtnXr1lq3bp3Cw8Mr3UdKSopVMU3Xv39/ffzxx9q4caOefvrpav+8E87z119/rd/97neKiYnRyZMnbcsB1Ff1fQZcf/31atq0qVq2bKm//OUvcrvdPt/v2rWrLbmqmjW1danjfkOdhVLt5yFqhtIBH/PmzVNcXJz++c9/qnHjH68eY8eO1bx587ynr7zySl155ZV2RKy1nJwcud1u9erV67LbhoSE6IYbbqh0H40bN/ZrH07RokUL3XDDDfriiy9q9PNOOM/333+/+vXrpyuuuEJvvvmmbTmA+qq+z4AuXbpozZo1uuWWW7R06VK9/vrrdkeSVPWsqa1LHfcb6iyUaj8PUTM8vQo+jh8/rujoaJ9hU65Rox+vLlU9lL1hwwYlJCQoJCREHTt21IIFCzRz5ky5XC7vNuWnd+/erTvvvFPNmjVTq1atdO+991a493rv3r0aP368OnXqpPDwcF111VUaPny4du3aVePzmJ2dre7du2vbtm0aOHCgIiIi1Lp1az311FPV2ke3bt0UFhYmSTIMQ88//7xCQ0P1yCOPqLS0tMb5LmXw4MHq06eP3n33XfXp00fh4eHq0KGDVq1aJUlatWqVkpOTFR4erq5du2rLli2m/W67znO55cuXKysrS4sWLbL09wANWUOYAYMGDdKrr76qv/71r5o+fXqN93M5hw8fVkREhMaOHeuz/vbbb8vtduuxxx677D6sPOYzC1HnDOAiEyZMMCQZkyZNMrZt22acO3eu0u2WLVtmSDL27dvnXdu0aZPRqFEjY8CAAca6deuM1atXG9dff73RoUMH4+Kr2owZMwxJRufOnY0nn3zSyMjIMObPn2+EhIQY48eP9/k9WVlZxrRp04w333zTyMrKMtatW2eMGjXKCAsLM7744otL5qlK+/btjbZt2xqJiYnG66+/brz33nvG7bffbkgyMjMzvduNGzfOaN++fZX7+I//+A/DMAzj22+/NYYNG2ZERUUZ77zzzmV/f21ER0cbbdu2NVJSUow33njD2LRpk5GQkGAEBwcbU6ZMMQYMGGCsWbPGWL9+vdG+fXsjJiamwj7KL6vs7Oxq/e7qnueysjKjpKTEr6/L+eabb4yoqChj4cKFhmFc+H/TpEmTauUHcHkNYQaUe/rppw1J3uOKFWbNmmW4XC4jJyfHMAzD2LJlixEaGmpMmjTJu82lZo0Zx3zDqPy439BnoWHUfB6iZigd8HHs2DGjT58+hiRDkuF2u43evXsbc+bMMYqKirzbVXaAT0lJMdq2bWsUFxd714qKioyoqKhKB868efN8fveDDz5ohIaGGmVlZVXmO3/+vHHu3DmjU6dOxm9/+9tL5qnMt99+a0gyUlJSjLNnz3rXDx48aEgyFi1a5F2r6kBbvo9XXnnFyMrKMq666irjxhtvNAoKCi75u2tr//793uwXX8bLly83JBlDhw71uezmzp1rSDJOnDjhs5+aHGRrcp63bNnivR5d7uty/99uu+02o3fv3t7zR+kArFHfZ8BPDRkyxGjUqJHx2WefVevn/HX69GkjJibGGDhwoPHpp58akZGRxvjx433OY1WzxqxjvmFUPO4zCy+gdNQtnl4FH1FRUfrggw+UnZ2tuXPnauTIkfrqq6/06KOPqnv37jp27FilP3f69Gnl5ORo1KhRCg4O9q5HRERo+PDhlf7MiBEjfE4nJCTo7NmzOnr0qHft/Pnzmj17trp27arg4GA1btxYwcHB+ve//63PP/+82ucvOztbkvT0008rJCTEu378+HFJUkxMjN/7yMjI0MCBA3XXXXcpMzNTsbGxVf5MZmbmJd8x5eIvj8dT6T5yc3MlSX/4wx98LuPCwkJJ0ty5c32ewnDq1Cm53W5FRkZe9jxdTk3Oc1JSkrKzs/36utTlvmbNGv3jH//QK6+84nP+AJivvs+Ai23fvl2ZmZkaMWKErr322lrtqyrh4eF6+umn9d577yktLU1Dhw71+1hm5TGfWQg78EJyVCo5OVnJycmSpJKSEj388MN6/vnnNW/ePJ8XE5b77rvvZBiGWrVqVeF7la1JF4bbxcoPfD/88IN3berUqVq4cKEefvhh9e/fXy1atFCjRo00YcIEn+38lZOTo7CwMN10000+69u3b5ckJSYm+rWP0NBQvfPOO+rXr1+ll8dPde7cWa+88opfGdu1a1fp+vbt2xUSElIhe25urmJiYpSQkOCzvmPHDnXr1q3S52ZXV03Oc0REhHr27OnX/qvKeOrUKU2cOFGTJk1STEyMvv/+e0nSuXPnJEnff/+93G63mjRp4tfvAeCf+joDyhUWFuqOO+5Q69at9Ze//KXSbRYsWKAPP/xQbrdbb7/9trp06aINGzZo9uzZWr58uWJiYrRx40a1b9/+kr/rZz/7mSTJ5XLptddeU1BQkF8ZrTzmMwthB/4P4LLcbrdmzJih559/Xp999lml27Ro0UIul0vffPNNhe8dOXKkxr97+fLl+vWvf63Zs2f7rB87dkzNmzev9v5ycnLUo0ePCgefnJwcRUdHV3mQ++m2iYmJmjFjhm699VY9+uijmjNnziV/pk2bNpowYUK1814sNzdXPXr0qPAWjzk5Od4/Dn66/a233lqr33nx76juec7KylJaWppf+9+3b586dOhQYf3YsWP65ptv9Nxzz3nfqvNiLVq00MiRI7V+/Xq/fg+A6qtPM6DchAkTlJ+fr61bt6pFixaVbrNz5059+umnWrt2rf7yl7+od+/eGjhwoBYsWKD58+dr9OjReu211zRjxowqf4/H49Gtt96qG2+8Uf/617/0l7/8RRMnTvQro5XHfGYh7MDTq+Dj8OHDla6XP4xd1UOuTZo0UXJystavX++9F1q6cE/122+/XeM8LpfL56Ff6cL7yH/99dc12l92draSkpIqrOfm5la6fql9DBkyRK+88ormzp2rhQsX1ihPdWzfvr3CAfXs2bPavXt3hfXDhw/ryJEjfp+ny6nJeTbj6VWtW7fWli1bKnwNGTJEoaGh2rJlC++xDpiovs8ASVq4cKFWr16tOXPmXPJtanfu3KlZs2YpKSlJoaGhuvrqq3X77bdr0KBBaty4seLj4y/57kxffvmlhgwZotTUVG3ZskUjR47UzJkz/f6MISuP+cxC2IFHOuBjyJAhio2N1fDhwxUfH6+ysjJ5PB4999xzioiI0OTJk6v82aeeekrDhg3TkCFDNHnyZJWWluqPf/yjIiIidOLEiRrlufXWW/Xaa68pPj5eCQkJys3N1R//+MdLPme0KocPH9bhw4crHJTOnz+vvLw8TZ061e99lB/A7rnnHh08eFC/+c1v1Lp1a912223VzuWPgwcP6ujRoxWy5+Xl6fz58xXWy5/zWtm9PlVxuVzq379/hU/krel5joyMrNbvr0xoaKgGDBhQYb38KQqVfQ9AzdXnGSBJu3bt0rRp09S1a1f17t1b27Zt8/l+bGysYmNjVVZWpj179ujmm2/2fm/Pnj0+n8r++eef66677qr09+zfv1+DBg1S586dtWbNGrndbs2dO1fdunXT7Nmz9eyzz14yp5XHfGYh7ELpgI/HH39cGzZs0PPPP6/Dhw+ruLhYbdq00aBBg/Too4+qS5cuVf7szTffrDVr1ujJJ5/UL37xC7Vu3VoPPvigDh06pL/97W81yrNgwQK53W7NmTNHp06dUq9evbR27Vo9/vjj1d5X+YvefnqPx549e/TDDz/4dU9IZft4/PHHVVBQoF/96ldq2bKl+vbtW+1sl1PVgfNS6263W927d/dr/6dOnZKkSj9d2K7zDKDu1ecZIF04NhYXF2vPnj3q3bt3he/PmDFDM2fO1N69e72fWyFJxcXF2rt3r88xdefOnZo7d26FfRw+fFiDBg1Sy5Yt9fbbb3s/wyI+Pl733nuvFixYoAceeKDSp5RenFOy5pjPLIRt7H77LNRv586dM7p27Wqkp6fbHaXayt8msKSkxDh//rzdcWqt/HMzXn311QpvEbhx40bD5XIZO3futDEhgPomUGfA6tWrfTLn5uYanTp18p7+7rvvjJCQEL8+Z+hyrJw1lzruOyGfXcy4XFB9PNIBU913331KT09XmzZtdOTIEb300kv6/PPPtWDBAruj1ciBAwfkdrt17bXXVvkCykCxYcMGjR49utLvbdmyRWPHjuXeIAC1Ul9mwK5du9SjRw/v6by8PJ/Tu3btUpcuXUx7RySrZs2ljvvVUZ9moWTe5YLqcRmGYdgdAvXHHXfcoY8++kjffvut3G63evXqpenTp/s8LzZQ7N+/3/ue9GFhYZa9j3td+f7777V3717v6a5duyo8PNzGRADqm/o0A+qKlbPGjON+fZuFEvPQLpQOAAAAAJZy5FvmzpkzRy6XS1OmTLE7CgDAYZgRABB4HFc6srOztWTJkgqfKAkAADMCAAKTo0rHqVOn9Mtf/lKvvPJKlZ8QCgBomJgRABC4HPXuVRMnTtSwYcM0aNCgS37KcHFxsYqLi72ny8rKdOLECUVFRcnlctVFVACoNwzDUFFRkWJiYtSokaPui/Lh74yQmBMAYBazZoRjSsfKlSu1fft27wfOXMqcOXM0a9asOkgFAA1HQUFBjT/p2WrVmREScwIAzFbbGeGI0lFQUKDJkyfr3XffVWho6GW3f/TRRzV16lTv6ZMnT6pdu3bat2+fIiMjrYxaKyUlJdqyZYvS0tLkdrvtjlOlQMkpBU5WcpqLnOYqKipSXFycY4+f1Z0REnPCauQ0FznNRU5zmTUjHFE6cnNzdfToUSUlJXnXSktLtXXrVr344osqLi5WUFCQ93shISEKCQmpsJ8rrrhCTZs2rZPMNVFSUqLw8HBFRUU5+soVKDmlwMlKTnOR01zl2Zz6tKPqzgiJOWE1cpqLnOYip7nMmhGOKB0DBw7Url27fNbGjx+v+Ph4PfzwwxWGCQCg4WBGAEDgc0TpiIyMVLdu3XzWmjRpoqioqArrAICGhRkBAIHPuW9TAgAAAKBecMQjHZXJzMy0OwIAwKGYEQAQWHikAwAAAIClKB0AAAAALEXpAAAAAGApSgcAAAAAS1E6AAAAAFiK0gEAAADAUpQOAAAAAJaidAAAAACwFKUDAAAAgKUoHQAAAAAsRekAAAAAYClKBwAAAABLUToAAAAAWIrSAQAAAMBSlA4AAAAAlqJ0AAAAALAUpQMAAACApSgdAAAAACxF6QAAAABgKUoHAAAAAEtROgAAAABYitIBAAAAwFKUDgAAAACWonQAAAAAsBSlAwAAAIClKB0AAAAALEXpAAAAAGApSgcAAAAAS1E6AAAAAFiK0gEAAADAUpQOAAAAAJaidAAAAACwFKUDAAAAgKUoHQAAAAAsRekAAAAAYClKBwAAAABLUToAAAAAWIrSAQAAAMBSlA4AAAAAlqJ0AAAAALAUpQMAAACApSgdAAAAuKTSUikry6WtW69SVpZLpaV2J0KgcUTpWLx4sRISEtS0aVM1bdpUqamp2rRpk92xAAAOwIwA7LV2rdShg5Se3ljz5ycrPb2xOnS4sA74yxGlIzY2VnPnzlVOTo5ycnJ00003aeTIkdq9e7fd0QAANmNGAPZZu1b6+c+lgwd917/++sI6xQP+ckTpGD58uG655Rb97Gc/089+9jM988wzioiI0LZt2+yOBgCwGTMCsEdpqTR5smQYFb9XvjZliniqFfzS2O4AP1VaWqrVq1fr9OnTSk1NrXSb4uJiFRcXe08XFhZKkkpKSlRSUlInOWuiPJuTM0qBk1MKnKzkNBc5zeX0fBfzZ0ZIzAmrkdNcTs2ZleXSwYNV/6loGFJBgbRly3n1719JM7GJUy/Pnwq0nLXlMozK+mvd27Vrl1JTU3X27FlFRERoxYoVuuWWWyrddubMmZo1a1aF9RUrVig8PNzqqABQr5w5c0Z33XWXTp48qaZNm9odp1LVmREScwIww9atV2n+/OTLbjd1ao769fu6DhLBDmbNCMeUjnPnzik/P1/ff/+91qxZo6VLlyorK0tdu3atsG1l92C1bdtWx44dc+zAlC40xYyMDKWnp8vtdtsdp0qBklMKnKzkNBc5zVVYWKjo6GhHl47qzAiJOWE1cprLqTmzslxKT7/8k2IyMpz3SIcTL8+fCpScZs0Ixzy9Kjg4WNdcc40kKTk5WdnZ2VqwYIFefvnlCtuGhIQoJCSkwrrb7Xb0/7Ry5DRfoGQlp7nIaQ4nZytXnRkhMSfqCjnN5bScaWlSbOyFF41Xdhe1y3Xh+2lpjRUUVPf5Lsdpl2dVnJ7TrGyOeCF5ZQzD8LmXCgCAcswIwHpBQdKCBRf+7XL5fq/89AsvyJGFA87jiEc6pk+frqFDh6pt27YqKirSypUrlZmZqc2bN9sdDQBgM2YEYJ8xY6Q335R+85sLj3iUi429UDjGjLEtGgKMI0rHN998o7vvvluHDx9Ws2bNlJCQoM2bNys9Pd3uaAAAmzEjAHuNGSMNGiQ1a3bh9D/+cV5DhzrzKVVwLkeUjldffdXuCAAAh2JGAPa7uGD06WNQOFBtjn1NBwAAAID6gdIBAAAAwFKUDgAAAACWonQAAAAAsBSlAwAAAIClKB0AAAAALEXpAAAAAGApSgcAAAAAS1E6AAAAAFiK0gEAAADAUpQOAAAAAJaidAAAAACwFKUDAAAAgKUoHQAAAAAsRekAAAAAYClKBwAAAABLUToAAAAAWIrSAQAAAMBSlA4AAAAAlmrs74ZvvfVWtXeenp6usLCwav8cAAAAgPrD79IxatSoau3Y5XLp3//+tzp27FjdTAAAAADqkWo9verIkSMqKyvz6ys8PNyqzAAAAAACiN+lY9y4cdV6qtSvfvUrNW3atEahAAAAANQffj+9atmyZdXa8eLFi6sdBgAAAED943fpuNj333+vV199VUeOHFFcXJx69uypHj16qEmTJmbnAwAAABDgalQ6xowZo127diklJUWbNm3SV199pbKyMnXs2FE9e/bU3//+d7NzAgAAAAhQNSodn3zyibKyspScnCxJKi4u1u7du5WXl6e8vDxTAwIAAAAIbDUqHd26dVOjRj++Bj0kJES9evVSr169TAsGAAAAoH6o0SeSP/vss3riiSd09uxZs/MAAAAAqGdq9EhHXFycioqK1KVLF9155526/vrrlZiYqHbt2pmdDwAAAECAq9EjHbfddpsKCgqUlpamTz/9VPfdd5/i4uIUFRWlm266yeyMAAAAAAJYjR7p2LNnj7Zt26aEhATvWn5+vnbs2CGPx2NWNgAAAAD1QI1KR0pKik6dOuWz1q5dO7Vr104jR440JRgAAACA+qFGpWPKlCmaOXOmVq1apRYtWpidCQAQYN56661q/0x6errCwsIsSAMAcJoalY7bbrtNktSpUyeNGDFCN9xwgxITE5WQkKCQkBBTAwIAnG/UqFHV2t7lcunf//63OnbsaE0gAICj1Kh07Nu3Tx6PR3l5efJ4PHr22We1f/9+BQUFKT4+Xjt37jQ7JwDA4Y4cOaKWLVv6tW1kZKTFaQAATlKj0tG+fXu1b9/e5/UbRUVF8ng8FA4AaIDGjRtXradK/epXv1LTpk0tTAQAcJIalY7KREZGqm/fvurbt69ZuwQABIhly5ZVa/vFixdblAQA4EQ1+pwOAACq8s0339gdAQDgMJQOAICpbrvtNp0/f77S71W1DgCo3ygdAABTtWjRQpMmTaqwfvz4cQ0aNMiGRAAAu9W6dGzfvl3nzp0zIwsAoB7429/+pvfee09Lly71rn3++ee67rrrePE48BOlpVJWlktbt16lrCyXSkvtThTYuDydq9alIyUlRfv376/VPubMmaOUlBRFRkaqZcuWGjVqlL788svaRgMA2KB58+Zas2aNfv/73+uTTz7R5s2blZqaqttuu00bNmyo9v6YEaiv1q6VOnSQ0tMba/78ZKWnN1aHDhfWUX1cns5W69JhGEatQ2RlZWnixInatm2bMjIydP78eQ0ePFinT5+u9b4BANYbOXKkZsyYofXr12v//v3q3r27Fi5cqGHDhunnP/+5FixYoHnz5snlclV738wI1Edr10o//7l08KDv+tdfX1jnD+Xq4fJ0PtPeMrc2Nm/e7HN62bJlatmypXJzc9WvXz+bUgEA/NWpUyf961//0qJFi3T8+HE1b95cPXr0kGEY+uUvf6mePXuqpKREbre72vtmRqC+KS2VJk+WKrvf1jAkl0uaMkUaOVIKCqrzeAGHyzMwOKJ0/NTJkyclSVdccUWl3y8uLlZxcbH3dGFhoSSppKREJSUl1gesofJsTs4oBU5OKXCyktNc5DSXGfn+9Kc/ef998OBBeTweeTweRUVFeV/f0bhxY8XHxysvL69Wv+tyM0JiTliNnLWTleXSwYNV/wlmGFJBgbRly3n171/7Z5SY4cJF6P7ff5fISRdpIF6eknOvnz9lVj6XUcvnRzVq1EhffPGFfvazn5kSyDAMjRw5Ut99950++OCDSreZOXOmZs2aVWF9xYoVCg8PNyUHADQUZ86c0V133aWTJ09a9kLvU6dOaceOHdq5c6cmTpxY4/34MyMk5gScbevWqzR/fvJlt5s6NUf9+n1dB4ku7+zZII0de6skaeXKtxUa6pxXaAfi5RlIzJoRjisdEydO1MaNG/Xhhx8qNja20m0quwerbdu2OnbsmKPfGaWkpEQZGRlKT0+v0VMM6kqg5JQCJys5zUVOcxUWFio6OrpWA2Xnzp3q1q2bGjXy76WCu3fvVufOndW4cfUecPdnRkjMCauRs3ayslxKT7/8dT8jwzn3zJ8+LbVoceEyPHr0jJo35/KsLadeP3/KjBkhOezpVZMmTdJbb72lrVu3XnKYhISEKCQkpMK62+129P+0cuQ0X6BkJae5yGkOM7IlJibqyJEjuvLKK/3aPjU1VR6PRx07dvT7d/g7IyTmRF0hZ82kpUmxsRde5FzZXb8u14Xvp6U1dsxrEC6++Lg8zeW0y/OnzMrmiNJhGIYmTZqkdevWKTMzU3FxcXZHAgBUg2EYeuKJJ/x+6lJ1Pt+JGYH6JihIWrDgwrsquVy+fyiXv8HbCy/womd/cXkGhlqXjhkzZig6OrpW+5g4caJWrFihDRs2KDIyUkeOHJEkNWvWTGFhYbWNCACwWL9+/ar12Rmpqal+H9+ZEaiPxoyR3nxT+s1vLtxDXy429sIfyGPG2BYtIHF5Op8ppaO2Fi9eLEkaMGCAz/qyZct0zz331Hr/AABrZWZmev9dUFCgtm3bmrZvZgTqqzFjpEGDpGbNLpz+xz/Oa+hQZz4FKBBweTqbY55eBQCoH+Lj4zV16lQ9+uijprxTFDMC9dnFfxD36WPwB3ItcXk6V40+kfybb74xOwcAoJ7IyMjQu+++q2uuuUbLli2zOw4AwAFqVDpuu+02nT9/vtLvVbUOAGgYevfurU8++URz587Vk08+qcTERJ+nXwEAGp4alY4WLVpo0qRJFdaPHz+uQYMG1ToUACDw/frXv9ZXX32l4cOHa9iwYRo9erT27t1rdywAgA1qVDr+9re/6b333tPSpUu9a59//rmuu+46R3/oEgCgbhmGocGDB+s///M/9dZbb6lbt26aNm2aioqK7I4GAKhDNXohefPmzbVmzRr1799f3bt313fffaexY8fqP//zP/Xss8+anREAEEBeeuklZWdnKzs7W59//rmCgoKUkJCgiRMnqmfPnvrv//5vde3aVevWrVNycrLdcQEAdcDv0jFy5Ej17NlTiYmJ6tmzp7p3766FCxdq2LBhOnv2rBYuXKhx48ZZmRUAEACeeeYZ3XDDDRo3bpxuuOEGJScn+3w6+L333qvZs2frnnvu0WeffWZjUgBAXfG7dHTq1En/+te/tGjRIh0/flzNmzdXjx49ZBiGfvnLX6pnz54qKSlx9Me4AwCsV1BQcNlt7rvvPj3xxBN1kAYA4AR+l44//elP3n8fPHhQHo9HHo9HUVFR3td3NG7cWPHx8crLy7MkLACgfmjZsqXef/99u2MAAOpIjV7TERsbq9jYWN16663etVOnTmnHjh3auXOnaeEAAPWTy+VS//797Y4BAKgjpn0ieUREhPr27au+ffuatUsAAAAA9YDfb5m7c+dOlZWV+b3j3bt380GBAAAAAPwvHYmJiTp+/LjfO05NTVV+fn6NQgEAAACoP/x+epVhGHriiScUHh7u1/bnzp2rcSgAAAAA9YffpaNfv3768ssv/d5xamqqwsLCahQKAAAAQP3hd+nIzMy0MAYAAACA+qpG716VnZ2tRx55RN9++62uueYan08qb9u2rdkZAQAAAAQwv19IfrG7775bQUFBuv/++9WxY0dlZWXpnnvuUfv27RUVFWV2RgAAAAABrEaPdBQUFGjjxo26+uqrfdYPHDggj8djRi4AAAAA9USNSseNN96ogoKCCqWjffv2at++vSnBAAAAANQPfpeOkSNHqkePHurRo4fuv/9+PfXUU+revTtPpwIAAABwSX6Xjk6dOumjjz7S4sWLvR8S2LlzZ40cOVKpqalKTExU9+7dFRwcbFlYAAAAAIHH79Lxpz/9yfvvgwcPyuPxeL/mzp2rffv2KSgoSPHx8dq5c6clYQEAAAAEnhq9piM2NlaxsbG69dZbvWunTp3Sjh07KBwAAAAAfNSodFQmIiJCffv2Vd++fc3aJQAAAIB6oEaf0wEAAAAA/qJ0AAAAALAUpQMAAACApSgdAAAAACxF6QAAAABgKUoHAAAAAEtROgAAAABYitIBAAAAwFKUDgAAAACWonQAAAAAsBSlAwAAAIClKB0AAAAALEXpAAAAAGApSgcAAAAAS1E6AAAAAFiK0gEAAADAUpQOAAAAAJZyROnYunWrhg8frpiYGLlcLq1fv97uSECDU1oqZWW5tHXrVcrKcqm01O5ElSNnw8ScQHVxG4STnSsp1f99a6uWfPSZ/u9bW3WupP5fQR1ROk6fPq0ePXroxRdftDsK0CCtXSt16CClpzfW/PnJSk9vrA4dLqw7CTkbLuYEqoPbIJzs98vWKnx6B/3us0F6J/xx/e6zQQqf3kG/X1a/r6CN7Q4gSUOHDtXQoUPtjgE0SGvXSj//uWQYvutff31h/c03pTFj7Ml2MXI2bMwJ+IvbIJzs98vW6o8Hfi418b2Cljb5+sL6sjc1b3z9vII64pEOAPYoLZUmT644nKUf16ZMke1PSyAnAH9wG4STnSsp1fw9kyUZkusn33RduILO3zOl3j7VyhGPdFRXcXGxiouLvacLCwslSSUlJSopKbEr1mWVZ3NyRilwckqBk9WpObOyXDp4sOrDgGFIBQXSli3n1b9/JVO8jpDTWk67XpqBOWEtp+YMxNvghYvQ/b//LpHDLlIvctben9/aqtKIg1Vv4DJUGlGgP7+Vqd+M6Fd3wS7DrNt5QJaOOXPmaNasWRXW3333XYWHh9uQqHoyMjLsjuCXQMkpBU5Wp+XcuvUqScmX3W7TJo9On/7a+kBVIKe1zpw5Y3cE0zEn6obTcgbibfDs2SBJt0qS3n//fYWGOvNebnLW3vuffib5cfh5/9NtuqbxKesD+cmsGeEyjMoehLSPy+XSunXrNGrUqCq3qewerLZt2+rYsWNq2rRpHaSsmZKSEmVkZCg9PV1ut9vuOFUKlJxS4GR1as6sLJfS0y9/30NGhv2PIJDTOoWFhYqOjtbJkycdfQwtx5ywn1NzBuJt8PRpqUWLC5fh0aNn1Ly5cy7Pi5Gz9v7vW1v1u88GXXa7P3X7f456pMOsGRGQj3SEhIQoJCSkwrrb7XbUwa8q5DRfoGR1Ws60NCk29sILLCu7+8HluvD9tLTGCgqq+3zlyGktJ10nzcKcqBtOyxmIt8GLLz6nXZ4XI2ftTRoxQA9vi1Vpk6+9r+HwYbgUdDpWk0YMkNvtkCuozJsRjngh+alTp+TxeOTxeCRJ+/btk8fjUX5+vr3BgHouKEhasODCv10/eVFb+ekXXpDtw5mcYE7AH9wG4WTB7iBN7fq/V1DjJ1fQ/z09tesLCnZQ4TCTI0pHTk6OEhMTlZiYKEmaOnWqEhMT9eSTT9qcDKj/xoy58BaSMTG+67GxznprSXI2bMwJ+IvbIJxs3vgx+q/2b6rRGd8raNDpWP1X+/r7drmSQ55eNWDAADnspSVAgzJmjDRokNSs2YXT//jHeQ0d6pynH5QjZ8PFnEB1cBuEk80bP0a/+XaQ2i66cAWdefU/9OgvhtbbRzjKOeKRDgD2u3gY9+ljOHY4kxOAP7gNwsmCG/94hZwwpE+9LxwSpQMAAACAxSgdAAAAACxF6QAAAABgKUoHAAAAAEtROgAAAABYitIBAAAAwFKUDgAAAACWonQAAAAAsBSlAwAAAIClKB0AAAAALEXpAAAAAGApSgcAAAAAS1E6AAAAAFiK0gEAAADAUpQOAAAAAJaidAAAAACwFKUDAAAAgKUoHQAAAAAsRekAAAAAYClKBwAAAABLUToAAAAAWIrSAQAAAMBSlA4AAAAAlqJ0AAAAALAUpQMAAACApSgdAAAAACxF6QAAAABgKUoHAAAAAEtROgAAAABYitIBAAAAwFKUDgAAAACWonQAAAAAsBSlAwAAAIClKB0AAAAALEXpAAAAAGApSgcAAAAAS1E6AAAAAFiK0gEAAADAUpQOAAAAAJaidAAAAACwFKUDAAAAgKUcVToWLVqkuLg4hYaGKikpSR988IHdkQAADsGMAIDA5ZjSsWrVKk2ZMkWPPfaYduzYob59+2ro0KHKz8+3OxoAwGbMCAAIbI4pHfPnz9d9992nCRMmqEuXLnrhhRfUtm1bLV682O5oAACbMSMAILA1tjuAJJ07d065ubl65JFHfNYHDx6sjz76yKZUQMNiGIbCXD9Iksp+KFFZsNvmRJUr+0EKc5X/OzByGoYjDrUBixmBmuCYZi5ymqvs7Bnvvw3DsDFJ3XHEJDx27JhKS0vVqlUrn/VWrVrpyJEjFbYvLi5WcXGx9/TJkyclSSdOnFBJSYm1YWuhpKREZ86c0fHjx+V2O/NGIAVOTilwsgZCzqLjZ5R19UBJ0v/0sznMZWRdfeG/gZLzxKF3VVYWaW+YSygqKpLk3MFX3RkhMSesFgg5OaaZj5zmORNUJo2+8O8Thw4pLKjM3kCXYNaMcETpKOdyuXxOG4ZRYU2S5syZo1mzZlVYj4uLsywbANRYt8A4NhUVFalZs2Z2x6iSvzNCYk4ACABzL/ynx9xu9ubwU21nhCNKR3R0tIKCgircY3X06NEK92xJ0qOPPqqpU6d6T5eVlenEiROKioqqcgA5QWFhodq2bauCggI1bdrU7jhVCpScUuBkJae5yGkuwzBUVFSkmJgYu6NUqrozQmJOWI2c5iKnuchpLrNmhCNKR3BwsJKSkpSRkaHRo0d71zMyMjRy5MgK24eEhCgkJMRnrXnz5lbHNE3Tpk0dfeUqFyg5pcDJSk5zkdM8Tn6Eo7ozQmJO1BVymouc5iKnecyYEY4oHZI0depU3X333UpOTlZqaqqWLFmi/Px83X///XZHAwDYjBkBAIHNMaXjF7/4hY4fP66nnnpKhw8fVrdu3fTOO++offv2dkcDANiMGQEAgc0xpUOSHnzwQT344IN2x7BMSEiIZsyYUeEhf6cJlJxS4GQlp7nI2TDV9xkhBc51hpzmIqe5yOlMLsOp75EIAAAAoF5wzCeSAwAAAKifKB0AAAAALEXpAAAAAGApSodN9u/fr/vuu09xcXEKCwvT1VdfrRkzZujcuXN2R6vgmWeeUe/evRUeHu6o97lftGiR4uLiFBoaqqSkJH3wwQd2R6pg69atGj58uGJiYuRyubR+/Xq7I1UwZ84cpaSkKDIyUi1bttSoUaP05Zdf2h2rgsWLFyshIcH7fuapqanatGmT3bEua86cOXK5XJoyZYrdURBAmBG1x4wwR6DMCCkw50RDmhGUDpt88cUXKisr08svv6zdu3fr+eef10svvaTp06fbHa2Cc+fO6fbbb9cDDzxgdxSvVatWacqUKXrssce0Y8cO9e3bV0OHDlV+fr7d0XycPn1aPXr00Isvvmh3lCplZWVp4sSJ2rZtmzIyMnT+/HkNHjxYp0+ftjuaj9jYWM2dO1c5OTnKycnRTTfdpJEjR2r37t12R6tSdna2lixZooSEBLujIMAwI2qHGWGeQJkRUuDNiQY3Iww4xrx584y4uDi7Y1Rp2bJlRrNmzeyOYRiGYVx33XXG/fff77MWHx9vPPLIIzYlujxJxrp16+yOcVlHjx41JBlZWVl2R7msFi1aGEuXLrU7RqWKioqMTp06GRkZGUb//v2NyZMn2x0JAY4Z4T9mhHUCaUYYhnPnREOcETzS4SAnT57UFVdcYXcMxzt37pxyc3M1ePBgn/XBgwfro48+silV/XHy5ElJcvR1sbS0VCtXrtTp06eVmppqd5xKTZw4UcOGDdOgQYPsjoJ6ghnhH2aEtQJhRkjOnxMNcUY46sMBG7L/+Z//0Z///Gc999xzdkdxvGPHjqm0tFStWrXyWW/VqpWOHDliU6r6wTAMTZ06VX369FG3bt3sjlPBrl27lJqaqrNnzyoiIkLr1q1T165d7Y5VwcqVK7V9+3ZlZ2fbHQX1BDPCf8wI6zh9RkiBMSca6ozgkQ6TzZw5Uy6X65JfOTk5Pj9z6NAh3Xzzzbr99ts1YcIEx+Z0GpfL5XPaMIwKa6iehx56SDt37tQbb7xhd5RKde7cWR6PR9u2bdMDDzygcePGac+ePXbH8lFQUKDJkydr+fLlCg0NtTsOHIYZUXeYEeZz+oyQnD8nGvKM4JEOkz300EMaO3bsJbfp0KGD99+HDh1SWlqaUlNTtWTJEovT/ai6OZ0kOjpaQUFBFe6xOnr0aIV7tuC/SZMm6a233tLWrVsVGxtrd5xKBQcH65prrpEkJScnKzs7WwsWLNDLL79sc7If5ebm6ujRo0pKSvKulZaWauvWrXrxxRdVXFysoKAgGxPCTswI6zEjrBEIM0Jy/pxoyDOC0mGy6OhoRUdH+7Xt119/rbS0NCUlJWnZsmVq1KjuHniqTk6nCQ4OVlJSkjIyMjR69GjvekZGhkaOHGljssBkGIYmTZqkdevWKTMzU3FxcXZH8pthGCouLrY7ho+BAwdq165dPmvjx49XfHy8Hn744Xo7TOAfZoT1mBHmCuQZITlvTjTkGUHpsMmhQ4c0YMAAtWvXTn/605/07bffer/XunVrG5NVlJ+frxMnTig/P1+lpaXyeDySpGuuuUYRERG2ZJo6daruvvtuJScne+8BzM/P1/33329LnqqcOnVKe/fu9Z7et2+fPB6PrrjiCrVr187GZD+aOHGiVqxYoQ0bNigyMtJ772CzZs0UFhZmc7ofTZ8+XUOHDlXbtm1VVFSklStXKjMzU5s3b7Y7mo/IyMgKz3Vu0qSJoqKiHPscaDgPM6J2mBHmCZQZIQXGnGjQM8K+N85q2JYtW2ZIqvTLacaNG1dpzi1bttiaa+HChUb79u2N4OBgo1evXo58+74tW7ZUetmNGzfO7mheVV0Ply1bZnc0H/fee6/3//eVV15pDBw40Hj33XftjuWXhvJ2iDAPM6L2mBHmCJQZYRiBOycayoxwGYZhWFNnAAAAAIB3rwIAAABgMUoHAAAAAEtROgAAAABYitIBAAAAwFKUDgAAAACWonQAAAAAsBSlAwAAAIClKB0AAAAALEXpAAAAAGApSgcAAIBNpk2bpuHDh9sdA7AcpQMAAMAmHo9HPXv2tDsGYDlKB2Cy/fv3y+Vyae3aterXr5/CwsKUlJSk/fv3KzMzU9ddd53Cw8OVlpamEydO2B0XAGCjvLw8JSYm2h0DsBylAzCZx+ORJC1atEizZ8/Wxx9/rOPHj+vuu+/Ws88+q4ULFyozM1O7du3Sq6++am9YAIBtCgoKdPz4ce8jHd9//72GDx+u3r176/Dhw/aGA0zW2O4AQH2Tl5enFi1aaOXKlYqOjpYkpaWl6f3339eePXvUpEkTSVJKSoqOHDliZ1QAgI08Ho+aNWumuLg47dq1S2PGjFFaWprWrFmj4OBgu+MBpuKRDsBkHo9HI0aM8BYOScrPz9edd97pLRzla3FxcXZEBAA4gMfjUY8ePfTGG2+oX79++t3vfqclS5ZQOFAvUToAk+Xl5emGG27wWfN4PLr++uu9p8+ePauvvvqKFw8CQAPm8Xi0a9cuPfTQQ9q4caP+z//5P3ZHAixD6QBMVFhYqP379/u8KPDAgQM6ceKEz9ru3btVWlqqHj162BETAOAAHo9Ht912m86ePavvv//e7jiApSgdgIny8vLUqFEjJSQkeNc8Ho+aN2+uDh06+GzXsWNHRUZG2pASAGC3oqIi7du3Tw8++KAWLVqkO++8U7t377Y7FmAZXkgOmCgvL0/x8fEKCwvzru3YsaPCIxp5eXk8tQoAGjCPx6OgoCB17dpViYmJ2r17t4YPH65PP/3U5zWBQH3hMgzDsDsEAABAQ/Liiy/q5Zdf1q5duyRJZWVlGjFihAoLC/X//t//48XkqHcoHQAAAAAsxWs6AAAAAFiK0gEAAADAUpQOAAAAAJaidAAAAACwFKUDAAAAgKUoHQAAAAAsRekAAAAAYClKBwAAAABLUToAAAAAWIrSAQAAAMBSlA4AAAAAlqJ0AAAAALDU/wfEd0gpdGG8OwAAAABJRU5ErkJggg=="
class="
"
>
</div>

</div>

</div>

</div>

</div>
<div class="jp-Cell jp-MarkdownCell jp-Notebook-cell">
<div class="jp-Cell-inputWrapper">
<div class="jp-Collapser jp-InputCollapser jp-Cell-inputCollapser">
</div>
<div class="jp-InputArea jp-Cell-inputArea"><div class="jp-InputPrompt jp-InputArea-prompt">
</div><div class="jp-RenderedHTMLCommon jp-RenderedMarkdown jp-MarkdownOutput " data-mime-type="text/markdown">
<h2 id="%D0%AD%D1%84%D1%84%D0%B5%D0%BA%D1%82%D0%B8%D0%B2%D0%BD%D0%BE%D0%B5-%D0%B2%D1%8B%D1%87%D0%B8%D1%81%D0%BB%D0%B5%D0%BD%D0%B8%D0%B5-%D1%81%D0%B2%D0%B5%D1%80%D1%82%D0%BA%D0%B8-c-%D0%BF%D0%BE%D0%BC%D0%BE%D1%89%D1%8C%D1%8E-%D0%91%D0%9F%D0%A4">&#1069;&#1092;&#1092;&#1077;&#1082;&#1090;&#1080;&#1074;&#1085;&#1086;&#1077; &#1074;&#1099;&#1095;&#1080;&#1089;&#1083;&#1077;&#1085;&#1080;&#1077; &#1089;&#1074;&#1077;&#1088;&#1090;&#1082;&#1080; c &#1087;&#1086;&#1084;&#1086;&#1097;&#1100;&#1102; &#1041;&#1055;&#1060;<a class="anchor-link" href="#%D0%AD%D1%84%D1%84%D0%B5%D0%BA%D1%82%D0%B8%D0%B2%D0%BD%D0%BE%D0%B5-%D0%B2%D1%8B%D1%87%D0%B8%D1%81%D0%BB%D0%B5%D0%BD%D0%B8%D0%B5-%D1%81%D0%B2%D0%B5%D1%80%D1%82%D0%BA%D0%B8-c-%D0%BF%D0%BE%D0%BC%D0%BE%D1%89%D1%8C%D1%8E-%D0%91%D0%9F%D0%A4">&#182;</a></h2>
</div>
</div>
</div>
</div>
<div class="jp-Cell jp-MarkdownCell jp-Notebook-cell">
<div class="jp-Cell-inputWrapper">
<div class="jp-Collapser jp-InputCollapser jp-Cell-inputCollapser">
</div>
<div class="jp-InputArea jp-Cell-inputArea"><div class="jp-InputPrompt jp-InputArea-prompt">
</div><div class="jp-RenderedHTMLCommon jp-RenderedMarkdown jp-MarkdownOutput " data-mime-type="text/markdown">
<p>По свойствам ДПФ если $x[k] \overset{\text{ДПФ}}\longleftrightarrow  X[n]$ и $h[k] \overset{\text{ДПФ}}\longleftrightarrow  H[n]$, то 
$$\sum\limits_{m=0}^{N-1}{x[m]h{{[k-m]}_{N}}} \overset{\text{ДПФ}}\longleftrightarrow  X[n]H[n].$$</p>

</div>
</div>
</div>
</div>
<div class="jp-Cell jp-MarkdownCell jp-Notebook-cell">
<div class="jp-Cell-inputWrapper">
<div class="jp-Collapser jp-InputCollapser jp-Cell-inputCollapser">
</div>
<div class="jp-InputArea jp-Cell-inputArea"><div class="jp-InputPrompt jp-InputArea-prompt">
</div><div class="jp-RenderedHTMLCommon jp-RenderedMarkdown jp-MarkdownOutput " data-mime-type="text/markdown">
<p><img src="data:image/png;base64,iVBORw0KGgoAAAANSUhEUgAAAdIAAACkCAYAAAAjbK9eAAAgAElEQVR4Ae2dC3wdRfXHr08EEVBACYIiVVApqFQBkUdQiCCCRahUkAApUrFipUhseGhRBDVaLK1UWiJteVVKsCIvixFQUAvh1QIxgFhLDQoI1Iq11vzP//Ode8/N7GbvvZv7yr17z/l8kr27Ozs785vZOY85cyYlRoaAIWAIGAKGgCFQNAKpop+0Bw0BQ8AQMAQMAUNAjJFaJzAEDAFDwBAwBEpAwBhpCeDZo4aAIWAIGAKGgDFS6wOGgCFgCBgChkAJCBgjLQE8e9QQMAQMAUPAEDBGan2gOAQ29krnmJSkUilJNXVIz9rBQD6D/V3Swj3989L495rae2Rt4EkRWdsj7U3es6kJ0tW/PpzKzg0BQ8AQqAkEjJHWRDPUayGek572cRLFDNPMcpy09zwXWbn0/THS2r068n764qCs7emQJmOkeTCyW4aAITDaCBgjHe0WqOf3O82xSVq6+iSoj4rkZ6Trpb9rgqQKMkhjpPXcPazshkCjIFASI3355Zflv//9b6NgZfUMIbCxt1PGpJqls3dd6E4hRprWZFNjOqV347BHvQvGSD0w7KchYAjUKAIlMdIarZMVqyoIZLRKN/e5Udb1d0t7c5OkmqZI95oN+TXSzBxoU/tt0tc9eWgelfnUAHOtHiPt7++XAw44QJqamuRtb3ub7Lbbbu646667yvvf/37Za6+9ZJ999pEPf/jD8vWvf92lPeigg9x5c3OzHHnkkTJx4kQ59thj5eSTT5bjjz9eTjjhBDnllFPktNNOc8evfOUr8qUvfUnOPPNM+fKXv+z+vvCFL8iUKVOE46RJk+TEE090R/Ihv6OPPlrGjh0rO++8s+y4447yoQ99SCjTG97wBnnVq14lb33rW2WLLbaQ7bffXnbaaSfZdtttZZdddnHPcG277baTd7/73e5vjz32kE9/+tNy6KGHyqmnniodHR3uXeecc4785Cc/kdtuu02WLVsmv/3tb+Wee+6RRx55RFasWCFr1qyRf/3rX1XpVfYSQ6AeETBGWo+tVhNlzmiVLfOk99EF0ta2QPr6l0hrKj3vmc+0G5wfzTDLplbpXNYvQd22eoz0kksucQz9zW9+sxxyyCGOeX7kIx+RAw88UPbee2/HnHbYYQd5y1ve4pjawQcfLHvuuadsttlm2ec233xzeeUrXxkUDNTZqoTjpz71qex71Hlrm222ka222sq9C+YOQ910001l6623dtdh/mPGjJFXvOIVjtHqc8UcX/va18pNN91UE73OCmEI1CICxkhrsVXqoUzOa7dJWjrnykWts6R33WBAC83NSDfKgNNC8cR9Wdb1wYTnyPKBDRG1rh4jnTNnjmNKpUxVbNyYtlP/73//kxdffFH++te/Bv4ef/xx+fvf/y7/+Mc/ZP369bJ27drs37p169x1pkteeumlYVgMDoZnoYclibxAmf7v//5P/vnPf8oLL7zg3oeGiQb+0EMPSW9vr9M+77zzTrn11lvl2muvlblz58q3vvUtmTx5stNgYb7XXXddZP520RAwBMRCBFonKA6BNKNkicrh0tn7ooj4DHJ9gKkG36Dzo9Oka3GHNAdMucGUItVjpOeff75jpDAdoyEEYLpo2YsXLx66aL8MAUMggIBppAE47CQeAsrgUtLU1i1rnLKkpt4u6R/M42yUXX86Vo5rHV9gaYu+p/LrSJn3RPMyCiIwMDDgcFm4cGHwhp0ZAoZAFgEbObJQ2I/4CGSYpr98JcMgdU1pLtNu+np6ycxGF7Qh91rTamqkF1xwgTHSiA6AORgB40c/+lHEXbtkCBgCIGCM1PrByBEY7JOulqZAIIYw4wyfp18SNP9KiPkOL0j1NNLp06cbIx3eAPK3v/3N4XLllVdG3LVLhoAhAALGSK0fjByBgW5pTfmapDK88dK5pEtmLl0l0dqmzo/q+tEhc3DfmrtlVudi6VvnO9VovpU37Z5xxhnGSCN6wrPPPutwufTSSyPu2iVDwBAAAWOk1g9GiEAUc1NNs0Xau/vcEpZIjXSYBqp5NUlze7f0B5goxdL7lWek3/jGN2IzUhySvvOd77i1n/fdd5/zfL3//vvdOsyVK1eOEM/aTo73Mabdiy++uLYLaqUzBEYRAWOkowh+kl8dyUhHXOHqMdKpU6fGZqRUY7/99nPrNVlP+olPfELe8Y53COtIx48fP+Ja1vIDzz//vMPlm9/8Zi0X08pmCIwqAsZIRxX+5L683hgpEYfieu2yDpQACE899VSgAc877zyZN29e4FoSTsAFQcPIEDAEohEwRhqNi10tEYF6Y6Rf/OIXYzNSzJxEO/KJEHpEFXrmmWf8y3X/G6EBRnruuefWfV2sAoZApRAwRlopZBs83zQj9fYU9fYjLQjNKOxHSrxbAg8Uoueee87FvH344YcDSYlb+7Wvfc1dwzGHmL3EuCUeL0z3Yx/7mPznP/9x9x977DEh7u4nP/lJOeyww1ycXuZaffr1r38txxxzjIs6pNeJevSDH/xAPvvZz8q3v/1tvSxc593vfOc7ncn54x//uItapAluvPFGxwipI9GKiP0bl9Rrl1i8RvWBAEuWjKqLgDHS6uJtb6tRBGAyxKUtRN/73vfkqKOOCiRbunSpC2qvIQJvueUW+eAHPygEM4CICkQQfGjDhg3y3ve+VxYsWCBPP/20EPqPYPh+UHiu7b777vL6179e0JQhNEPyQDvkj3conX766S4mMO/TAAoEnIf+8Ic/uLnbz3zmM455ExyfssUlze+HP/xh3EcsnSHQcAgYI224JrcKRyHAbiyvfvWro24FrqH1+dojHrxonn4sWuYT8epVIoD8/Pnz3SmM2A9uwDzr5z//eU3qjj/+8Y8FrfJ973ufECiC2L0wb3Z+IUA9zFCpr69PCCr/xBNPuEtXXXVVYD4TTfXyyy/X5M4Z6qtf/Wr2vNCPP/7xj45xIywYGQKGQDQCxkijcbGrDYYAGunrXve6vLVme7Hw3CgmT7Y1U1JTKMtGIDRDdozRYPj77ruv22aNoPAwb3abIVi80r///W+3JVpXV5djkMQA/v73v+/MvzA1tk4jGD6EBozJmHyUWltbhbWfEJotZcNMTL6XXXaZM/8SwD4usZwHDdhn/nGftXSGQKMgYIy0UVra6pkXARgpptR8hJn16quvziaBObJ3aU9PT/baokWL3B6fegFvYD/gO7utsFQG5sQ86uc+9zk3x6np0VxZRoOmShr2F2VbN3aH4f1tbW2a1DFg5mCVSbObC4xViblRtFr2IH3Pe97jzL9q8tU0hY7sWEM5LrrookJJ7b4h0LAIGCNt2Ka3ivsI4Pzzmte8xr8U+I0DBxt4+8RG2DgMKcHQjjjiCMEhCfrzn//sNvfW+xxnzJjhNtZmqQyM+4477sjevuGGG+Ttb3+7/PKXv5Tbb7/dMTA2CcdJCa0V7ZKt15Rg0mzLBqEBwyx5Flq1apXbj5QjVOw2bDhGwUgtspGD0f4ZApEIGCONhMUujgSBJGw9xrwhDCOK8NDFQQczqxKMiXlMPwbtNddcIwcccID86U9/cl60W2yxhfz85z/XR9x8J6ZcGC1MGQ9aCK9bzLds1M2cJ8T+qJ2dne43/0466STnOKQXMCF/9KMfdac4IuHABNOFKBuBIlSLxKwLE77nnnv08dhHGDW4MG9rZAgYAtEIRI8c0WntqiEwDAGYKGbHWiSYwCmnnCLLli1zc4T5yohGCuOLIuYdmRt98skns7fxut1uu+2cIxAXwYE0OCzBeHbaaSc3N8k91pbC6Lh+0003CfOOBHSAAULMmzKPeu+997rzqH9oqscee2z2FmZc8tthhx1k0003dWtYdXkN4Qq5R93POecc5wGMx28xAg/7kZIX28wZGQKGQDQCxkijcbGrNYiAzgXGLRqa35ve9CbHCGAGe+65p9MU/TlNzQtPW5jbSAhvWiVMnzA7TKwwH59YQoJnrnrPUg9C7ynhDFSobggFLJ1RIj3MHAek7u5ut0uL3sOZiLnS/fff370Xz11l2pom7lE10iVLlsR9xNIZAg2HgDHShmvy3BVGe5kwYYL7Y92h/uaIVoZGxO+JEyfKcccdlx2kme/DC5WlGqw3ZOnHd7/7XbnwwgudyRKzJdcwNV5yySUujB4BBTBdciSOK9d5lj/MmpzPmjVLZs+e7cyKBCKYOXOmy480c+fOdfnx3rPPPlswzcIMTzjhBDn++ONd2XDkgbnBRMN/zIeiCeLxigMRDjmYVoshzJ7bbLONK2sxz9fyM7r7C21hZAgYAtEIGCONxqXhrq5fv955i0YxnPC1Sp8TGMF/BxGH/PNy/0Zr3WyzzZyHbDENr8y+mGdr/Rn1HqaORoaAIRCNgDHSaFwa8irmSeYK2VKMja4xCfIbjVPP0eAIMYepEo0PTZW5OIIEECaPtGeddZbzTkWrxJxJHtOmTXMOM2ig/EaLQ0tVTVW1Vhx6CPxOOq7xLH9orfpbj7yP35QND1a9rkc0VIIYRDFe5iQp51133eXMqtQDZlouwnsWrRnPXkywBGwIb7GGeRfTLKZg5lFxUsJLVteJ+mVhfpN1rNdee61Lv3z5csGTGMcinIn8yEj+c6X+xvMY/LAwGBkChkA0AsZIo3GxqwlAgDlMzLfKSAkqj9mXKD14yvoEAydCUTnod7/7nXsnjkc4HbHWlDKEQwvutdde2bJpGQm4wG/mVZUwa7NURtNEHTfZZBMXt9eft9XnSznqOlJM6EaGgCEQjYAx0mhc7GoCELj++usd8yGsHlquvwYzXD2CHeyxxx7hy0Wdo60TREEJbRQmHo4odOCBBwpz0f4aT5a0sBZVPWzxlmWe91e/+pXTQLmO5+8b3/hGdw7jJMIRDkvM+2KiLyfhqQzjZv7byBAwBKIRMEYajYtdTQACL730kjz44IOxaoJ5euzYsbHS5ku0YsUKtwSmv7/fJcPTljWomHd9wjSL9ulHGsIczFIWjZu7cOFCZ25evXp19lGYJswWLVUJ5nrqqac6RzC9Vq6jbuyNqd3IEDAEohEwRhqNi11tMATQSHOtIx0JFGiYflxaNGE8nX2CGaKNhrW8I4880pmeScucJ7F/mXP2CRM0u8X4JlyCQmy55ZaBJTD+M6X8Zh4WjRSPbiNDwBCIRsAYaTQudrXBECAqEPOMpRBOP4Tp82n8+PGBvUG5xzpW1qxqAAWuocHCsNBUIQ24QGxepb/85S9umQ0BJpTIg6AMLA2qBGkQfhy4jAwBQyAaAWOk0bjY1QZDgPWnaHWlEOtkzzzzzGwWzImGGSs3Ydr+ji1cwzTL+lwlnI223357F+Aej2giE8HoYbZ4G6tnMkHp/ef0+XIddfcX89otF6KWTxIRMEaaxFa1Oo0YARyE2I2lWLr55pudAxBaoxLaKPuP+sRSl1122UWYv1XCCYo9RX//+9/rJXckqhCxenFWYpkQjJ6lR8y3Ys6Fcf/iF78IPFPuE+ZwYd4sZTIyBAyBaASMkUbjYlcbDAE0RGLnFkOEIiQqkh/YnTWfeAv7HrnkzXsmTZoUeA2OQ2yHlo/QdIngVG1SZyOiSRkZAoZANALGSKNxsasNhgCMaueddy6q1jBG5il9ByBCFh566KGB/FhKguaJ9urTYYcdJg888IB/adhvTLjFxssdltkILhA7GI2U4BhGhoAhEI2AMdJoXOxqgyFw7rnnyo477hi71njeEqEJL1oYze677y5XXHGF/OxnP3PB5XEm4pru6IL3Lms/Cc6ga0QJPI+GWihY/sUXXzyMKccuaIkJn376aVc/IksZGQKGQDQCxkijcbGrDYYAy19w7oFBxiFC/xEDmMhFMEgiD+lOM5iIYa78EQwfIogCIRf9nWfwzGXeE0ejXER5cDQ68cQTcyWp6HWW4VAPW/5SUZgt8zpHwBhpnTegFb88COAJ+653vSt2ZkQSCjsH8TBzomhxxM3F3HvZZZfFzrMWE2LaJWLSaMzP1iIeViZDIAoBY6RRqNi1hkMAjXS//fYrW70J6Yep2PfOLVvmVcyIeV8EAryGjQwBQyAaAWOk0bjY1QZDAEa69957N1it41V32223FWL+GhkChkA0AsZIo3Gxqw2GAF62eM8aDUeAOVLb/WU4LnbFEFAEjJEqEnZsaATa29tHzTO2loHHsxhGaqbdWm4lK9toI2CMdLRbwN5fEwiwDIUACkbDEYCRsjzIyBAwBKIRMEYajYtdbTAEMO2yLtQoiADLb2Ckp59++rAoTcGUdmYINC4Cxkgbt+2t5h4CM2bMcJGN2LYMxxrmBDFnEhyevTi5f+GFF8pPf/pT6e7udrutcJ2IP8S8JTzg9OnTXYAG1lyyZnTq1KmOOZ9xxhnuN1ovDLutrc3FzIVxk2bKlClCrF/WkxJhifT8Jj/eT5k0SL1/7OjocJqify3qN/Uh6Dzbu3V1dbkjARao4/z582XWrFmyePFiF0xi6dKlLn7vDTfc4Na+8m4YKVGaCIVoZAgYAsMRMEY6HBO70oAIwGRgGPYXjcHWW28t9913XwP2DKuyIVAYAWOkhTGyFA2AAPt6su0ZO6488cQT7o+gCk899ZQLrkCQhb6+PsdM7rnnHheMgSPB6Vkzevvtt8sdd9whDz74oNx5553u96233ipodpzff//9bo/RFStWuDSPPvqoewe7waDp8ffss8/K448/LnvttZdj6GiRxNdlLSflI8rQyy+/7KIvUVZ+U95nnnnGBYFg5xn2NaXMDz/8sNx1112Chrlo0SK55ZZbnNaJ5nz55ZfLVVddJUuWLHFxf9FGr732Wlm4cKELIMFOL2jZxx13nLCDDaEO2Uxcwx02QHewKkYgoKEtI241/CVjpA3fBQyAWkMA5oVm7G/gPdplxHsXIcAoOQjAGP3N5QvVjO3+jKIRMEYajYtdNQRGDQHi88JI0S5riUwjqaXWqH5Z/N2Nqv/22n6jMdLabh8rXQMicMQRRzhGunLlygasvVU5DgLhfW7jPGNpKodAXTJS5pHqPYZp5ZrUcq53BCZOnOgYaW9vb71XxcpvCDQEAnXJSBuiZaySDYvAUUcd5Ripeck2bBewitcZAsZI66zBrLjJR2DBggWy6667Oo/a5NfWamgI1D8Cxkjrvw2tBglDgL0/N9lkExcQIWFVs+oYAolEwBhpIpvVKlXPCLB+E6/d888/v56rYWU3BBoGAWOkDdPUVtF6QYCwgcZI66W1rJyGgIgxUusFhkCNIUCAeBip7QFaYw1jxTEEciBQE4yUHSbyEfcLpcn3vN0zBOoJAQLWw0gJLG9kCBgCtY9AVRhpOSJiWFSV2u9MVsLyIHDsscc6RnrBBReUJ0PLxRBIEAKEqyQGdS1R3TDSWgLNymIIVBKBo48+2jHS2bNnV/I1lncdI4BiUW3lolaiKa1fv16ef/75mmq9qjDSmqqxFcYQqHEENCAD60mNDAFDoPYRMEZa+21kJWwwBNjkmznSSy+9tDI1H+yTrpYm9w7ek0o1SUtXnwzGettz0tM+zns2JamWLumP93CsN1giQ6DeEDBGWm8tZuVNPAITJkxwjIp9QQvTOuntbA4yNphja7cM8PAwppneuHvbXbYpnQFq3sZICzeTpUg0AsZIE928Vrl6RODEE090jHHOnDmxiz/Y3yUtqZQ0tS6QvnVh9XC99HfBnJukuWOZDGzMaKSlMkBjpLHbxxImGwFjpMluX6tdHSIwadIkx0g7Oztjln5Q1vZ0SFNqnLT3PBfxTMYc29QhPWsHh7RUY6QRWNklQ2DkCBgjHTlm9oQhUFEEzjjjDMdI468jDTHKcOnW9kh7U0qa2ntkLfdyapLB+c8xnb2yUTbIwPI50tqUklRTm3T1uRzSb8iZT7gAdm4IJBsBY6TJbl+rXR0iQNB6nIBix9oNM8pAndWs62mrBRhg2kxM+ielr+s86ViwXAbWdEtrKiVp5pp5QYF8AsWwE0MgwQgYI01w41rV6hMBjbU7a9asGBVQRpl2Ikp74Ub8VrMuOeZlgJn8mqZK15KLpKN7lQyKmo5D3r1584lRdEtiCCQEAWOkCWlIq0ZyEDj33HOdRnreeecVrpQyM59Rek9lnZDUrMs9fSZqjlTv7dsirTOXyzqXl5p8J0hX//qh3DVtVD5DqeyXIZB4BIyRJr6JrYL1hsCFF17oGOn06dMLFj2SUWafUm3VM+tyLw8D1PxSzTOlV71/c5mO8+STLYL9MAQaAAFjpA3QyFbF+kJg/vz5jpGec845BQr+ovR2Hi6pXN66yujC2qpeH6ZJRjFeNeuGtFFKljOfAsW224ZAwhAwRpqwBrXq1D8CqpEWNO1mNMVUmFFmIFDtMuutq9DkYoCR19Nm3WF5kFdken2JHQ2BxkHAGGnjtLXVtE4Q0DnSadOm5SmxaqMhT1p9YnCVdLeNdZrtMCaYgwGmGW/Iocgxa0zD/dLbdfWQuZf35MhHi2DHxkSA3VnKseNXPaFnjLSeWsvK2hAIsKE33rds8B1FG3s7ZYyLket552a10o0y0D3ZPR/w4NWQgWQYyQDVrBsy4Q6kl70MW0OaM5+oEtu1RkKg2rvS1AK2xkhroRWsDIaAhwARjWCCp512mne1jD8jGWkR+ZcrnyJebY8YArWEgDHSWmoNK4shICILFy50jLSws1GRcJWLAZYrnyKrYY8ZArWCgDHSWmkJK4chkEGAXV/QSE8++eTKYFIuBliufCpTS8vVEKgaAsZIqwa1vcgQiIfAjTfe6BjpxIkT4z0w0lTKALPzrCEHo7z5aXAGb3522DKavBnYTUMgcQgYI01ck1qF6h2BO+64wzHSI444ot6rYuU3BBoCAWOkDdHMVsl6QuDmm292jPRTn/pUPRXbymoIBBD4z3/+Ixs2bAhcS+qJMdKktqzVq24RmDdvnmOk+++/f93WwQpuCDTSMhhjpNbfDYEaQ0BDBB544IE1VjIrjiFgCEQhYIw0ChW7ZgiMIgI33HCD00g/9rGPuVKsWrVK/vSnPxVdooGBAVmxYkXB59EgGkmLKAiIJTAEYiJgjDQmUJbMEKgWAjfddJNjpMccc0xZXrl+/XohbFs+GhwclBdeeCFfErtnCBgCORAwRpoDGLtsCIwWAg888IC8733vk4JB60ergPZeQ8AQCCBgjDQAh50YAqOPwJo1a+QLX/iCzJ49e/QLYyUwBAyBgggYIy0IUf0ksDmu+mmrfCX9zW9+40y7zc3N+ZLZPUPAEKgRBIyR1khDWDEMAUXgsccec4z04x//uF6yoyFgCNQwAsZIa7hxrGiNicDKlSsdIx03blxjAmC1NgTqDIEyMFLdx3Ao9qa/kXB6s+D0Pf96Fie3cfDQs6lUaD/EbEL7kXwE8vel/PUflLU9HdKUjR+bklSdxoB96KGHHCP9yEc+kr/K1bxbg/F5/bElvfdq3LEjoq/YuFPN3pS4d5WPkWY3Fh6OUbrDj5HW7tXDb2avaOeO+zFkH7QfNYzA8E2oh/rB8HunyOyZx0gqT1+KV9VMYPU6ZaR//OMfHSOtbECGqA3AveD1uqF3VjDZVnbbbdvShRNlyKG2Gd4XEK4nS/fARhEZLmA5xrnjBNkn5ZU5XucIpdK8bdwJAVNHp+GNFMZJe89z2fIP9a2hsSd7kx9hZa6I8acKjDRuRzVGGmjcJJ2sWy6dzU0y3NrwovR2Hi6p5nbp6umXdTpgFtGRg3DVNyMl+AKM4j3veU/FAyQMrumWtiaYVpiRbJA13VOkKdUi7V090r/2UelqaaoYI3Xtp0y2qU26+tYGm1REshpo8wzpGdiQOTdGOgyohrtQ+HtPM9NwHw8DleFVRYw/VWCkmUqO6ZRehMucZIw0JzR1f0Pb1h/01kpf12Rp6VgmA4NaweI7suaQPhb+sILpa+ts9erVjpHibETg78qSCrp+22yQgZ4Z0tI6R5YPZIKOK5MLaZIjLlu+fDKaQeQUkGgfGtI20ozVL/eIS+Npu4UG2WLytmeqg0Ch7z3TxwvyoOLHn3iMdF2/9HTPk/bm8dLZ+6KIbJCB5XOk1UmyBcxx2Y/jNunrnuwGiPR8RkpSgYrph2Idujqdr8pvUfOJG4hholOlbebdHhOlPLk6sm+GzAykgwPSu6BdmjE9Ns+U3nVZbiwihT6sKtd9hK97/PHH3XdyyCGHyMaNeaXPEeYcnTyr6WXapr/7PGlt75Z+H9OcDDCDdcYEPKazVzb640NYu8yZj37/Q4wyWNrMezxtIZqRaj4Zv4vMGDM4cLfMbB0rqdRYae1aKeuymasgYeNOFpK6+1Hoe18t3a1jJFpA8yuba/zx00T/jsFI04VQ5tfUfrP09XRKe7Yz5n95urOrbTrTyZtapXMZpjyf9AMorUM/+eSTcsopp8hXv/pVFxnmG9/4hpx55pkydepU+c53viNf//rX5Ywzzsje/8pXvuIWv3d2dgppOZ8+fXr2Wa7pM1OmTJFzzjnHpeN6+I9INFwjDc+E73N+2mmnyfjx4+X444+XL37xi+5d5557rvDHMzzL+0lLPb785S/L6aefLieddJJ8/vOfl0mTJrlzjpwfe+yx7u+zn/2sy7e1tVXYfgtthvcceeSR7px3LVq0yAe8ur91AE21yLT2ydKW7T9+MeL0JfrHgPR2TpH27pXS74SzcJ8p9GH576y938uXL3eMtKWlpTqFC7RNa8hKkCmCpsmhkaa/c5jgk9LXdZ50LFguA2u6pTWVkjRzLZTPcEbpV16ZvT8YRjPS4Hua2pfJmr5F0t6xSHoHnnQDalCAN0bq41yfvwt8706Ij2O5yD/+5MMmBiPNPL5upXQ5ia5JmjuXe0ww38tVk2Cge1nW9S2QtjbPXBQoWXkY6Q9+8AM3CL3yla8MHLfYYgt5zWteI6973evcdRUM9Mj9LbfcUnbYYQd5y1veIptttplL++53v1u23XZbedOb3iS77LKLvAO3SjsAACAASURBVO1tb5OmpiZ585vfLG9/+9vdH9fe8Y53yFvf+laX5p3vfKeb39p+++1l5513dr/HjBkju+66q/tNWtJ84AMfkD322EP22WcfwUNz7NixstNOOwlpNT+O5EO5uE8eXNttt91k7733lj333NM9zznXKSNpyYe073rXu9zz1JN6jB7pgBXuP36J8vWlzL0xM2TJ4naZ3L1KBlWDzTqlaF4FPixNNsrH//3vf4ESfPe735XFixfLkiVLXB8l1u7TTz8tV1xxhfzrX/8KpC3vibZNKrfUnpeRartNla4lF0mHaxv9nkMDWI58lFHq9xh9DGqr+Rhp+t44mda1QM7rWCprMFgErCKKoNY9LIzp/fzHv//97zJ37lwnnCMcI8gi5BKZij+E3ba2Nif8nnXWWe4cARmBffLkyU5Y5v6XvvQl6ejocH8qWKMAIFCfffbZ7m/GjBnC39e+9jWXH4I9aRC2Tz75ZDnuuOPk4IMPFoTqadOmuXegNJA37+IPYR2B//zzz3dH8kLInjhxois7Qjvl4P63v/1t+d73vuf+ONdnTj31VPcM9SF/3oWiQnmoF0oM1771rW9l63PxxRcLgUaiN0XwlbXDM1ZPcE9/x01t3en2y9kU+b/3ofnR/rQglXWgUwVPM9Z+3CE9a30Ll97PfYzPSCPmKNLZ5nt5poJjpknX4g5pDphyw4XSD6+4Dq250dgwtkIUHsQKpQ/fz2VyIzh4LWxmSxByn2C0DE6l1tvPc0S/B9dIT0eLK4OvVQTziNGX9m2WlsmZDyvHoKwfYK0vfyGYvE8HHXSQwweBh7ZCmEPg4vdf//pXP2l5f8dpm5xY4wXUl3ZE2rdFWmeqkJ359sNOTJo2oNkqMwsyymwl9RnPrMu93Ix0KL/m1jkZs7+OLyHGnhXGiht3Zs2a5drHZ/wI2VtvvbVsvvnmTpBGmMVxDCF30003delf/epXiwrvr3/96+UVr3iFS+/n4/8mvX9OPjzDNVUa/Ptxf5fybNx3aLr99ttPXn755Wyzhn8Mb8/0XH1zoK+En+I8HyP1x5SNTplrbemQ7v7hzmyifSHUz6LeGL42Akaaq+P6BQ0O3rKxVzrHMFcxVo5rHS9N4Y8qUBrt6MV1aM3qoosuErRIoyACe+21l/vowoN3MFWFztb1SXf7ZOlYdpvMw/Mzp0AVoy81TZHuNRkHmIyGETAduirk+7AqVMcisg0LY2g2Ouj4x2222abg7i1FvD79iLM0TRhqm1yDiDKziEEtPQCG5qozbTNMaIrKR6/leLfmH85r+MCbQUHzSw3XboYvrVKmW9y4g8ZIW/3qV79ybRStcQ21DvdxIFu7Nj2QI/By7d///rc7cs5vjgjl//znP93Dfl/RtP67SAuTysWoeJ68fEGatFxHSHvkkUfk/vvvd8dHH31Ufvvb37o6sYHCU089JUw33HnnnbJs2TKnWd5zzz1y7733unTsVnTHHXcI1+666y75+c9/7qaRrrnmGndkWgqMsKDlKl+6kml+4X/Pg/0LpC1gAR3CcuhXvu9d50dvlr7lc6StbYH0+XP/Q5nk8dEIJIo8GQEjfVF6Z7ZJ875hF/jcg5/f0Tf2d0lLKofE6YpWHkaKqSOORhqJRoIvYmKmMz///PPVraUO1D1rZFAlx5wCVeG+NDStoP0lqk/l+7CqW/18b8Ny4Q+GDGg+A9XfEyZMyJdN0fecA07bFJm5fEAGZZ30djZLKtc3qsxpGCNVRuS3g7ZNBHMals+grOud6ZzGwowyXbGo/NN3/PHFF+EjGW/OeTLNP6KsMZBVRtrf3x8jdWMm6e7udv2a/XXzbuenfaO1WwaAanCVdE9uHxKcc8KX53tXga65WfZN5Zm6cHnnHn9yvjpzIzYjRTKY3PWA9HVN8BZKk0uul/vzo+tFtdPoj4V88nx8hWrh3cemzxZURkEEmI/FVFjZubbgO9OekhOkwzFR7mkbh81r+lzMvuSS50rLzTwflr6qBo60RdhCcOihhw5jpj/+8Y/LXNpBWdffLe0tk731mto2OQYbHeTCjDTyehr/yG99WPpMWxVi4BHaajQjzfSLgLCWqVtEHtnxK5A+Ptzf/OY3XXuhxRlFI3Drrbc6jHCCDE85BZ/IzJU6RoqANTcz3x5MNfws9/eenh/FU3u59MK7IvuA5phvTNE00cf8jNR1+nHS1tUt89rnSu+6jZkwbEifT0rfgrmydM1a6Y8sYKZyWTPeUGX71twtszoXh1Rs/ZCLkwy1eni9YkIwCiLwoQ99yDlbPfvss8EblThjaUp3p7Q2RbSlRszJLKoPvj5XRx7qO/1Z1SPz0bVcJEu66IcZc6/LMCp98E21cIY2CjP1tdKrrroqwEjf+MY3yosvsuSsPDQ40Cvdna3SFDWgZKT3VHjJCq8exgDT5YlkZi4fxoh+6e26Org0KZDPkDYabe7XoBCpyAEw8t2B/BWzdH9wHry9V0uXW8Kn96IYr94rfMRxB8uBMdLcWP3ud79zGB111FG5E7k7me92TKcsX71syEmswFO5BefgeJJmqs3S2RtcLzKUfTD90PXCv2Iw0iZJ+YOeRqlp1gnbHC/PzI8OSaXKKJukObxGzZVT70cMvoXrkU3R1dXVUKbd5557LtaifZbD8MFX1GlFMDx0ypisV5w/AGr7Ztb3aRo147gWzNGXMoOjP3eSHdiz/TDbBepGI6XEmLrC81/bbbddlpkeffTRfsVK+O17RgbXWIqo9SjUNj6zjWRQmfYKa3MqLOVjyIecJ+07h97na6Wah/YTd9SQgWkYohhp1DURrXt4DSn55KhDTKTb29tdW7Hszigagbvvvtth9LnPfS46QfZqZnqhaby0Tut00auyt/L+yCE4a5/VMSZr3n9I1gSWcGrmOcYfvZ3nmJ+R5nlw6FbxLx/Kg1860JbGSFkq0EimXZZHxNFYDjvsMOfll3eyP9ggo3BWrr6U48MahRoV80qWD+j8KOuba4J0UAqbdkdauHLlw4jh/C5yTRPELVhpjJSlKrTVwICb1Yv70oZKh5MSGB1++OEF6q3ff3SIyNwP5/jes4yzT9KGrEw6wl5293lLODVnfX9Fl7/oy8LH4l8ezKk8jJTJ/ze84Q3BrHOc/eMf/xA8zmhoNNnrr7/eeaERWSZphOs5nTn/HMVo17pcfSnHhzXa1Yv5ft3Ym/aqGSeWcjHAcuVTI4xUNdJVq1bFat3f//73bl1mofSY/Ht7e2PlWeuJtD+zxjU/8f1P83wqNLU6wgUtGEMWqnJ978WPP4nTSFlHyhquQsQARaADzGgnnHCCW3zMsyxsZgBjK6sk0Yc//GFXr7xec6Ne4eI7crDo5fqwgrlW64w22mSTTVxADX+5QrXeH/mecjHAcuVTI4yUVQKMF0yx5KKenh7BRI/vBgEPCIJA0BWWsShhKfrhD38oBDsgsAI+DQRu8OfPNW29HVkmA0b550jTzkVDEfNCtXRThRnTPmb/rO8N6cr1vRc//pSPkXpzGUPzoiEwok7VwSH7fGmmXaJysPg5DhG5g+gbPuHsQdi9pBFRV4jOFPYSra16Zjpyti/k8CCNLLRaNDyptVQzZOR7KnMR5slgjPR+5ZVXusX6NdUPlQFm22YkJtXMQJd9tjx7xaZNu157h+dqczZVRF+J/WwwU6ICwSRyTa+gWRJp7Cc/+Un2QdZlIuz7QhLhIJubm4WlIkS2Wrp0aTZ9vf+47777HEaf+cxnQlXJOJs1TZWu2+ZIezaYRygZp8lnpBGVHsVLSHxEFilEL730kguf5++ugdkTJvzwww9nH2eRMp7A5EsoLkzHaK6+BIrERRiuCy+80N2HQc+cOTObh/5g0n3lypV6mj1iSiZfn8nxAV5wwQUuBBcxcwnh9cQTT2SfYQ0i95l3YMkEIbjy0YknnuhM3rWtkearQXLvER0H6wgDcvjvta99rYuzzB6lRrWHALGz8zFSAjUcccQRAaZ52WWXBYR1ghwQ9YhvPomk2wIOdzZSgaZF2onNnPXIj0AhDiPNfj/+muaIvMKXwsqc72QXTpvjvAwaaY6cR+ny1Vdf7cxiheYCMaMgTfqEJLjjjjv6l1zAdx3cYKSf/OQnXf7qtPPnP//ZxczVIPl8WITvIuakT0ik5EOUD5+YByEuLlKrhhbE5ANDJ6YvMXiJ38mzMGoIc88nPvEJIeINcT0xmRBuTKOg+PnrbxgxeRgjVURG/0icVuLpav9igwEEIrSSSy+91G1kgDmQ+7Qvwpkv+I1+DawEWHpon1waKcIu0dZ8IsoYUYCUmFoijCBjUtg/g+VqCPYI0XgG+wI8zxMhiShEjz32mPv+fXMx9+kvCOiMVzyLXwiaMGNIrr5UaOzUcsc9EjUJjIgpXBx5c6StF0hn6xiX39AcaXG5lvOpxDFSmA2MrBBhZghH+YEhff/73w88SlB4Ql1pp2Mw8yPN8CH5DiF/+9vf5FWvetWwvA844ADX+ASeh+jIePwRSJ/yotEq4QCFhKofBcyW9YR8LBD7VbKcRTVYmDfzLvkIrZXB2F9qkS+93assAjibIEAxwGDCZYDLRYRnY6AlLX00PJjmes6uVx4BgtLTLhryL/zG/fffP+DRi+mezSR8sy5CNForDoGMBZj2lQg0T/76h/CMpz4EA/WXSpGGc6xtENY0HC/12VzHa6+91qVHI95qq63kwAMPdOf8Y+zjuTlz5mTHDsIAYkFjTGHTjeuuuy6bnjGLQPYf/OAHnSKA1/kNN9zg8mDuN6mUOEbKVmlM5OcjBi00NJ9ghgR297U6FhLDSJX5PPPMM26ekTkOiGfoSA8++KAsXLjQzYOgcdKRfPrFL37hnAfQIvlQYJQEI2dQnD9/vttlZsWKFe4RPg52cSHGJcRHARPFLAyhAcOU+SBhqHgaI+GqhuwSRfxTRl5uaTPiVQ1xqRQnENpaB0AGLs61jwFeVN5MCehASJ/8y1/+0hA413ol2eGFdlm3bvgifxhieCxgdyp/2gfBX6dlaHd2gsIiAWGhQvCGifGtExkIJsc3jBIAA2bcYQ4SrY85Vpb/KdFHGAsZx9asWeOmp7BwcU5+jEuU/Q9/+IN7hLGG6Ge33HKLZuE8jN///vdnhTeEf6xll1xyifzoRz9yz3MNorzvfe97XTkpFwoHTlYa2Sg85mZfkoAfI2akaEWYpGqVmH9gO7N8xBzmggULAknoDARb9ol5RWVoXMdMQwhCn4hswqDIgIjpl0FONUVNx9wAmLGFER0Xcx0aCYMnTgaXX365S4qkCaOloyuxPZHvNs5vOigfEXntu+++EidaEUyc9OGy6XvsWD0EmB6gLRigOGLSzUcMULvvvrtLy8DKMwhhtUxRwkAtl7fYsmFJoj2iGOm4ceOE+UGfEGj1G4QBstOPWrt++ctfOv8OnX7BOoZGC+MkDbu93H777S47xisYmRJMkzCgPqE16nQQeTBVhHaoxAoFf20njpcoE6ot807GGR0rsYxRVxXiMDVzrmMkmy6gWKgljbw00D3p8PVIKo2YkdY6EDgCsS1RLuIDZx9R7QyabrhHmQQYGOmQBrXT63PMaTCvyvwqnTssgWLq1eg07BNIh/r1r3/tHkfLhAGjBdPRkTiZ81SijDib6HwKS3LQTkmvA5XOq+ozuY4f/ehH3bv1I8mVrt6vxxEqRrOOtCF9gEGSRfyYwDhXYSpcNoQt5tDYR5d5U5yOGBB55oUXXggnr4lztKXwtEm4YJgRtQ/79/Rb8K/V8m817YYZKcyEKR7/e8PyQFsqwcTYg1YJpowwDmFhwow7e/Zsdw6TRbsEM/KGYfn4YRpG0FeCWeMZrGZgdmfBzKsWNxwkGScx/0K0B5t9/OxnP9MsnOYMI1fGTlxhhD8lfDd8ByKC0iMoMCfMdAUKA/VXBkxQmKRSxRmpb7KKC6JOjMdN76dDCkOry0WYSfzGJx0Slc/AuMbaLyQ2JToYc5E+wSTZsg1TLx2XAQ4PPJ+Y48DMQZ3YMJyPC0zouMyR6YeCeYXB0WfwaKOYgpTQkG+++WY9dVruIYcckj3P9wMmTf5Jp0IDeCXqjxCE6SwOYfpHkMM5BabPfBNrBlmaRD8hLyUGPV3/q85r9B3mw/MxX32+lo8M4GHLFt9QONQeAzHpfIZEvQpNZVSr7iochyMbYdb1LUmUB2aHwA1h2cO6oEyKc8yqTN1AWK8YL1R7ZU2pmoQxlfpjGI5I9Ad/7TtMVX056DOYY/3x69Of/rT4Y4fGDKYfkhd/jFUwQYj+CiPWKSjMwKSBIUOUX5/DAx2miWWNdiMIBfewiiWVanJkZQAJM+Abb7zRmR1geHi33XbbbZHmFOYIkOSiiGfR6Bi8lBiU6MCYhJVw5mCekrQqZeFdqdFIYIKYj3EAUW2RCXsYIx2HuQc+MJ5FcqQTIj1iVlFTD52azqVl4QPDdMN1JFPmPTEN+VInWiUfJ8ICczOY+3wzsJY/6qixdmH+RqUh4LcJOdE30Rgxg02bNs3twdjX1xdoO9KhHeBchtWC/s2gieDEnL0yTDQS+j/zVEwZsPEy/V0ZCQMv/ZB+hUbQaIQFBrzzOWeVigmOQzNmzHDfcaHY1LrXpr88CWGIMKXMIyrh00D/UIsWjOass85yt+kXTAkpo6RPoC2ihUL4VGC25Vk0Xyxg+GWABeMdWyT6TJLnGQN5J8QcLAxShT3WymMJ0zIzv4r2SnQ3GCLvoPysyVfiN2OaEoyXJYFKjK3cZ+ykb+NPoqQhApnGykfhMT9f2pHeY8xG0KiUABZgpEhRgKmAU1g6FeDw8fLhcw/GoB82jelL0QwyFJr7fPQqUdEJwgNQLjBIx7M0KHlxVHs8zMffLR7mQoeFoVE2tDjmHaIIM6yWR+9zTn38RsRNm6UxSFtqCtH0egxrPmilyqTo+OTBAKjzBfocR+qHFMnHoER+fEhooHR0NOKwxI6DABr1okWLnCDh46755DoiffKxoNHCfPlg+IDBhLkaPiow5B5eoji3YHqmHMwdL1682M3PIAxQBiRePuKf/vSnbvE411jig0DCB4wpCacJPPrQPsCED4rBAeGB+tKfwAH3fj5+2pkyYbKkPJSR+1xD00ey5Zz8YFTgR54IIQyuvAsBi/dSD7R8zlncjukUAYQ/zP/80T44e9Hn8U4k3bx581waTK/Uj3uY39jKjDkp1nzi0MaRZ1luhRAVtf0ZfZXr5EldKQPXOOf74NtSD0vaTT00GQTxsGYw1fknbVfanMEAjYQBVOvE/Bb1wUuStgAL2oZ5K37rt03fIQ3mN57lOcrFH/Np+ABQP+qEFQZcKC/1pH1xbqP9EBZh9vQdhEMc7xiQGSsoH98tzI5vayT9VOs5mke+efWopr0233xzZwWIWgNOJCLS+Lu/0Le5BrNCOyMvIlWBMQQe3MfxB82T8Yq0SrQB2h9CPlosadFCIY4IV3yrOl/OfUzMYE5/wsKhTA9BYMstt8xOOfFNUBbaXgnt1GeKfDOk0b7JGEZfgxiX6fdMSSgx9lEG1V7RnhHydUylj3AfYTEf8f1jpYnLJ/LlFb6HMEEZEGTxUWB8YJwpV98MMFLd/JkXYh5FI+N3rj80qFz3KnmdjkfZ1MQVfld4LWgY1HznDNR0VF+iype+Xu6pRor2zQAdxqyS5/o+OrG+h/kY2pFruP3jiEDcUgYe5oU1XdQRSwBmp6h71bxWbP9HQOADRlDy5zkR6nSZC/VQ702/jyGQwoTVFFfN+pbyLvoAUx+0t2rvTIsw74epG+EBLRt/AubXCILCcgnucR3rDB6t3GfQR+hgvpG0OF7hEQpTQzPCeUv/sCSRFk2fI/cRkgnth5bFGILZnN8wCARAhDZdvxuuM98PUywwOwR3+i1paFOfYB4IMAgdCBoIfj4hnFF2ls/xbn9KiHlGmB94IVCdffbZ2UcR8HgfOMI8EYT0HEFT1yUjwEHaT3gOwkpG+ilTprhzBFDOwUVJ60QwCYh6ksb/U+2Z+wig3AMb2pHfCKpKCOZc85fV6L3wke+hVEaqSh4CHYyfcxRBn79pXeAVjDsoCoz5MPNirB0BRqrmRn1JvR11cM2lkYYbLXyOJMlHi3SYa11Y+Jl6OEcyZNCK055IoqRD61fP4DjPaRoYAZov0aVUs9J2IQ0DIxI6wgrCEO/gA6TvMcAy4DJ4kE7zDB+R4tXjNXyvXOfKJP2yU05M+lFr8zR9vvfzPPfxvGSwQHvzrQ5oACwf0DzQIqMIhgtjIJ0KKfpMrR5p71otWznKFaWtRrVdoWtYLviGlBnoUZ9jXMIyoNYsGIU/rwwDx3Ki/Yp+hqaai2AcWHR0SR/p6F/0TZ9gMliOeDcWDSwNSowvWC6YaiAwDVYs3wkSYUIxhnEx98v3TT2ZwkJA4o/lOwhACDYwN4QdhAXM52jNaNkITwgyCCFcQ9hCw0S7RyBHG2f8L/a7YPzzp/m0joWOAUaKDRlTAhIeUhuVQVriqCakOEdMREgkFAiVGm8vPFqRrPR5TEuYmdTEhNONmqMwA2LC4I80NB6DCtKrNoge0V4wc+GoQadgjoqBvBiiU9IJw9JlqRJSMWUp5zN0dJUy+dAwlfJxUV+Ij4IPB9M0HxE4co80mIaQSPmA1VSHOZi+wj1MMXzICCF8vL4pHK2LfLjGfdLn+6i1zvoRgruPPYMKUqaajDQ9R5iQzj/pddJzjbrxXtJQDrQDjjpIqXZI3cEGEzrpwYXnwYNzyqWY8Q5MXvyRD31d+6QeYbjMZatkzwDDPcyk5KXlIS8kcdWCEEJIh9bBIBQmnkWDQAjht2KLeRzth/JTdn7TlzG5YmnBrIf5DdM7GhAmPK5hKqc90WgYLHlGTfuYwCgD/QbcMCnyXfI8AgGmdQZ/ykBevJtznucPUzDPYNJnioBpGK6hkelYwNjAoMkAyjUEJaZGGCDRQBlIGZfQ1JhbBFPGKAZeBlZ+H3TQQe43AhmaD6ZHAh8gQDLfhwUEDQ/hDUFZl6yh+flTRQhEXNM2zHWEGTDWsB6cNMrYwm010nMYkb8kZaTP12J6VinkwrEWr/vWgbh4Bhhp3IeqnY7BlLk5pAWYJJPW06dPd3M0DKw+MSfEAFYOgnEwuOHxiqQEw8bZh/myKMLMwoeM5ITHHH8wMAYBTFVhYqDB3MRaUCQq1l0xl8kfgwZaF04GSG0MJjrwh/OJc44bOwMJA69ReRGgPzAAIwUjlcMwwqY83gijQytlHh/mTd9FeIG5MSAzoDP3jOCCYImQyKAe/rARTNBckcqNyo8A3xmM3B/k+UZRLhD2aR8ldTZC0CiVEEgZXxhDkkQIUWCJpsi4jXKGooWfAdotfZ1xm76PsoXixXXm/FG0GFcxJfOdYaLWeXyeYUkYPgH88QxrXlG+SMszCLj8kZcKqH67oiEzrvMeeAzfaDFUF4yUiiE949zgayhRFUb6YUArB6GhkBdmDzWVoLHSaFEE84OJotXQIDggMM+FqRKtwCe0Erxz6WQwVLQCpH+kaMID8ryal9EAmbxn/qZYUq9QX6MqNi+eK9QOpeRd6WeLLTvPRT3LAEj/jEN8tEwfKNGn0ZLQcDR6lWqrMFg1tWvbw4DxKGUwwFJjVH4E0KzBl/lGsA4vbfHfqNsuqqONf6/U32j59CusPlgvsCTQ1+qN6NfgiUIwWsScsDJQlCMYOZaXUpQTvy51w0j9Quf7jaei7wGXL22he5iLscP7hDaha8H86wywzJ8xse4TUlY4NBYeqcwZ+Z5+PMOgypycuq1rPmjGDLaY34oljWzEQGw0eggQAhLtFQ9OBCWdE/WnE3zTNR7cDAD0LbRcBlIke675jkqjV6PkvZlvhGmIOMS3TVvoeso4z8RNo2u/lQFwxNyPyd4nhCzmGFmyB5PA/I15mLlEhAKfUAown7MEC2sY4xmmdTWzY1ZHK/SnaPzni/mNokDZfQGymHxKeYapBKxyfsCJUvILP1sXjBQtKjz5Ha6InuN9xZqpchDmXOaWlJAK8bKLWtKCGQHznE9oFjBAyuQTeeBN5xOMGE87XUTt38NU4S/O9u/F/c1EPJ25nB9I3HdbuiACeKAyRcGHTZsw4OUjnX/FNMV8H8/4EXLyPWv3KouAmnZ1TWY534YQzxwvAjbz61i76DthYZhpI/oEU17KEEnLNZYpKaF9YcrEMx4BAIsYXrw4+SFoM+fMkeAN6vWrz5ZyxKJGWUaTkVL+clnjorCoC0YaVfBc13DsQGorlTCtYtrxiQ4dlvC4j2aBJ2rYMQTzAQOf72CDUwJm1vBcJQ4ZmIDDTgusI8RRQiMg+eUZyW+Wv7CkyS/LSJ63tOVDAFOXLhNgIX6UYBZ+my5zYEBiDs33mgyntfPqIYBWR5tosJZyvRmHLcYDHMAgvlu8XNX877+HOXQsXL4Jmvm+sPCt85L+szh5+UtZuIdGG2V1858byW/WGIMRDDqplDhGiumsHM5GuFH7TA2NEY+6KGIBMp6DPpEeBuhrtNxnIh1vROZRMdWibbKWjY8EKdHXGBEKMOOxPq5UWz55gwseqEajjwADpDJTnFjCWoaWkAGUeXmEIAYjouFUUrLW99oxHgIakKFYJ5Vcb+F7ZVxRwiqRS0tkrCK9EmMP2h/ClxLCF9MI/vePPwnTDFjalJg6wB+jnKQBG/AyTyoljpEy6Q/zKYVgxpg/fCLGpC5i9q9rJ0Hq8gkGiqdYmJh7wQMQMx1aLNop5hucmujUDJZEUmHg5EiUmXIMnJiT0dRNkwm3yOidM/iqeRdTL44rLKnAqxHTP+f0C/oEc6SqnYxeie3NYQQIDkH7lJORwszw1vbnaVlPGY5yRVm4hie4RlXjGqZUxkAVynWOknHNJ1YHaAxnvY7XOcsdy0koDWDEuJdUShwjxQ2dQadYQmJjwp61rD7pWlX/Gr9xsw4vQ2A+F7NK3IEPLZWt3fDOCDZZCwAACH5JREFUw9EIMy4RR3xJMfzekZ6zcJmP0xjpSJGrbHqEJBwh/LWMDDr6hwMJYSPL2RcqW6PGyl29QcvJSFnioZGIQJNvFnNrFDG/7of3Iw0WL5aZKDEO0Z+YE0VAIz0MlGvMkeKsREhI1a7DTpCaT7FHVjzwLoTGpFLiGCmT/jj4FEuYSFj36RODGNpjlJck2kPYJZ34rHTaOMSCdib7mROpJLE0h/eolFrJd1neI0cAEy7LnzDj4jCCg1qcudORv8meKCcCurF3OedICULhjzWslWQuNkxYw7BY+F68eH9zzV/rioDOtA5jGMwSj14V1Pwjzkaseig3URfmcI2RlhvZCuaHM9BIGClMkoXxrBllzRaL4JmbZP6StZ0wRTzg0Bj9ZQlUgY+HoPnMSSghPWLCiKP58W7mMso5sa/lCB/x6OOjscE5jIydGwLFI6CMFHNqOQjHH8YaJb5XYsSGnYwYczDNMneqRFqc1xiz8hGR5wj0goNjeEzL91yx91i+x9jDXG4liTHct9z443Il30veidNIiSpD+K84REdCemM+kqg/NLYfE5Q5RV9i47fOU+B1y+4LYbMuEVEIV1aIkNLYTBwno2oQDJ81qrmcWqpRBnuHIZA0BFiHiaUnbJUqpp6qYWogFvKAqaIphglzLcE6fP8JmDCOa/lI5yujNkTI91wp99S0628KXkp+uZ7FIbNUp8xceRe6njhGimmC+aY4xJpNmCHbRKFd0inDUgyu5ZjcWAyPFKf3mUdAmwwvedGO7zsKRJWF51izFXZSikpbjmtoyQgCcdfjluOdlkd9IKB9uj5KW1ulxAmIZSowqGKJ2MU4+CDU43SGty0mfjRHhF/GGZbeKSEMs8aUgA1KjF3Mo7LsJR8xpxvlNJnvmVLvMRYy9jDWJpUSx0iRtOJ67RJAOxyJKFdDE/0Dp6B6Ix0k8Q5GgsXMYmQIGALlQUCddnwtciQ5M4Wk3vp8nzBHTLZobzBotYhhUVJC6CfcHpsGKKFAEBAmX8xfyoqSQXCHahLWt3IyUgQJHdeqWY9870ocI8XbNa5pNx8w4XuYges5mAHmZtNIw61q54ZAaQiwtpzvqtjwnQRLZz0nYwtzfD7BLLjOFFBUIBg/bZzfWMFYjRB+T5xnS0nD0pxyMtJaY6JgkzhGigmklOUvpXSYWn6W0GJ05kIm51quQ5LLNlpzO0nGtBp1U0bK9nOVIMYzHIjqmXStvUU2qqNWRCMdidduHVWtpKISrQRGGo60VFKm9nBZEMBUFd5LtSwZWyYVR4D1mnxX/qYD5Xwpy9VYvlLPxC42YMTOVkmlxGmk8+fPd0tYTMIPdlk17VZ6vWrwrXZmCCQbAQIc4N1fzoAM5UKsVsZA1rnCSIk7XitUbvNw4hgpux0QMque5zMr0dlY5I2jgR9KrBLvqZU8rf1rpSWSXQ62SWT5HFpXrVG5mUWx9UNbh5GOGTOm2CzK/ly5sUkcI8UjDS845i7YgZ39HFlfxe7pdHp2QGBjbu5pKC4m/IkecvHFF7vwfCxhwaOXHdjZN5I/7rORMhFn2JSbcxZDX3PNNXLFFVe491x33XUuMgj3cUPHg5hrhN/iSFqC1HPvyiuvdNeYA2FXd30PIQcpH/mzsJqlObjCcyR0IOHi+KNePEda6ocmTnlIy/s5Ui/S8k7mJwg2QfCJpBOeyY0iMCS9LWu9fnjywySeeeaZWi/qqJVPNVLW6ieV6p6RhiULIgr5gRRYl8X+pHT2JPwRyL7YerCWNLx9WxI7NksR/BBrSayj1ak2EMAng+9xq622chtQEEGMuNzEu+Vv/PjxMmnSJLclI0tWuMZuT0REIngCc6wI+YQaZUPtGTNmuGV2LLdDmF+4cKETlFXQJ/oagjjCO8oAwjRCOkI7AvT111/vNssgX9aLkgdCOgI1SgSbYCDQkx4hnuV/RE1aunSpE9xJywoFAtxzjXTUEWEcIZ93cETZIC/ukR+CuyomCPyckxfl471gFHdZYm207MhKUROMFGYYZogjq0YwNaH92AKN+UAGVI50FsJ4sc6KjkKMW4IhsJCa+2gxxKfEq5V4vTjlMNFPAAO8zvDK4zr3iWLC86RBEsWsw16Aq1evdr95B+lwEiBPdqThnSy8Zu0XUUkwd5AH7ujs2o5JmufYZYYg0oQN5ANBw6YupCOgPYEhOFJutEveTzkoE/Wj7pSVMj/yyCNy7733uv1Sgwgl+4y5oWLX9SUbGatduRHg2yewCxtmY7pk9xSinbGmEw2MgAq+4MvGEWxEgLCPSZhz/37Ub18xiLpfL9dqaY603P2gJhhpuStl+RkC1V4rZ4gbAvkQUCtJlEUIIR6BHaEYAVkFegRkYsfSlxGKYdrc44jQzR9KAM8hnBOFDU2V6Sc0Uf7QULnOtA9aJBov00FokZil+WOTBP6YDtPfekQzZms/guazrR+bcaBNk5a8SIcmTRo07JNOOsml4Tp7oOLkePDBBwsRoNCmk0rGSJPasg1er1qMflJrTYIVCKsGWIWpnBaicN6NfF4rnrSltIH1jeHoGSMdjoldMQQaBgE0JBsYG6a5raIVQsAYaYWAtWwNAUPAEDAEGgMBY6SN0c5WS0PAEDAEDIEKIWCMtELAWraGgCFgCBgCjYGAMdLGaGerZUIR2LhxY0JrZtUyBOoHAWOk9dNWVlJDYBgCxkiHQWIXDIGqI2CMtOqQ2wsNAUPAEDAEkoSAMdIktabVxRAwBAwBQ6DqCBgjrTrk9kJDwBAwBAyBJCFgjDRJrWl1MQQMAUPAEKg6AsZIqw65vdAQMAQMAUMgSQgYI01Sa1pdDAFDwBAwBKqOgDHSqkNuLzQEDAFDwBBIEgLGSJPUmlYXQ8AQMAQMgaojYIy06pDbCw0BQ8AQMASShMD/A+c2K05scU2wAAAAAElFTkSuQmCC" alt="image.png" /></p>

</div>
</div>
</div>
</div>
<div class="jp-Cell jp-MarkdownCell jp-Notebook-cell">
<div class="jp-Cell-inputWrapper">
<div class="jp-Collapser jp-InputCollapser jp-Cell-inputCollapser">
</div>
<div class="jp-InputArea jp-Cell-inputArea"><div class="jp-InputPrompt jp-InputArea-prompt">
</div><div class="jp-RenderedHTMLCommon jp-RenderedMarkdown jp-MarkdownOutput " data-mime-type="text/markdown">
<p>Последовательность отсчетов
$$y_п[k] = \sum\limits_{m=0}^{N-1}{x[m]h{{[k-m]}_{N}}}$$
является циклической сверткой последовательностей $x[k]$ и $h[k]$.</p>
<p>Пусть сигналы $x[k]$ и $h[k]$ начинаются с отсчета при $k=0$ и имеет длины $N_1$ и $N_2$ отсчетов соотвественно. Число отсчетов их линейной дискретной свертки не превышает $N_1+N_2-1$.</p>
<p>Если взять размерность ДПФ $N=N_1+N_2-1$, то один период циклической свертки этих последовательностей совпадает с их линейной сверткой. Тогда вычисление линейной свертки можно вести по следующему алгоритму:</p>
<ol>
<li><p>Найти $X[n]$ — ДПФ последовательности $x[k]$.</p>
</li>
<li><p>Найти $H[n]$ — ДПФ последовательности $h[k]$.</p>
</li>
<li><p>Вычислить $Y[n]=X[n]H[n]$.</p>
</li>
<li><p>Вычислить обратное ДПФ для  $Y[n]$.</p>
</li>
</ol>

</div>
</div>
</div>
</div>
<div class="jp-Cell jp-MarkdownCell jp-Notebook-cell">
<div class="jp-Cell-inputWrapper">
<div class="jp-Collapser jp-InputCollapser jp-Cell-inputCollapser">
</div>
<div class="jp-InputArea jp-Cell-inputArea"><div class="jp-InputPrompt jp-InputArea-prompt">
</div><div class="jp-RenderedHTMLCommon jp-RenderedMarkdown jp-MarkdownOutput " data-mime-type="text/markdown">
<h3 id="%D0%9F%D1%80%D0%B8%D0%BC%D0%B5%D1%80-3.-%D0%92%D1%8B%D1%87%D0%B8%D1%81%D0%BB%D0%B5%D0%BD%D0%B8%D0%B5-%D1%81%D0%B2%D0%B5%D1%80%D0%BA%D0%B8-%D1%81-%D0%BF%D0%BE%D0%BC%D0%BE%D1%89%D1%8C%D1%8E-%D0%91%D0%9F%D0%A4">&#1055;&#1088;&#1080;&#1084;&#1077;&#1088; 3. &#1042;&#1099;&#1095;&#1080;&#1089;&#1083;&#1077;&#1085;&#1080;&#1077; &#1089;&#1074;&#1077;&#1088;&#1082;&#1080; &#1089; &#1087;&#1086;&#1084;&#1086;&#1097;&#1100;&#1102; &#1041;&#1055;&#1060;<a class="anchor-link" href="#%D0%9F%D1%80%D0%B8%D0%BC%D0%B5%D1%80-3.-%D0%92%D1%8B%D1%87%D0%B8%D1%81%D0%BB%D0%B5%D0%BD%D0%B8%D0%B5-%D1%81%D0%B2%D0%B5%D1%80%D0%BA%D0%B8-%D1%81-%D0%BF%D0%BE%D0%BC%D0%BE%D1%89%D1%8C%D1%8E-%D0%91%D0%9F%D0%A4">&#182;</a></h3>
</div>
</div>
</div>
</div><div class="jp-Cell jp-CodeCell jp-Notebook-cell   ">
<div class="jp-Cell-inputWrapper">
<div class="jp-Collapser jp-InputCollapser jp-Cell-inputCollapser">
</div>
<div class="jp-InputArea jp-Cell-inputArea">
<div class="jp-InputPrompt jp-InputArea-prompt">In&nbsp;[23]:</div>
<div class="jp-CodeMirrorEditor jp-Editor jp-InputArea-editor" data-type="inline">
     <div class="CodeMirror cm-s-jupyter">
<div class=" highlight hl-ipython3"><pre><span></span><span class="n">x</span><span class="o">=</span><span class="n">np</span><span class="o">.</span><span class="n">array</span><span class="p">([</span><span class="o">-</span><span class="mi">2</span><span class="p">,</span> <span class="mi">1</span><span class="p">,</span> <span class="mi">2</span><span class="p">,</span> <span class="o">-</span><span class="mi">1</span><span class="p">])</span>
<span class="n">h</span><span class="o">=</span><span class="n">np</span><span class="o">.</span><span class="n">array</span><span class="p">([</span><span class="o">-</span><span class="mi">1</span><span class="p">,</span> <span class="mi">1</span><span class="p">,</span> <span class="mi">2</span><span class="p">])</span>
<span class="n">y</span><span class="o">=</span><span class="n">signal</span><span class="o">.</span><span class="n">convolve</span><span class="p">(</span><span class="n">x</span><span class="p">,</span> <span class="n">h</span><span class="p">)</span>
<span class="n">y</span>
</pre></div>

     </div>
</div>
</div>
</div>

<div class="jp-Cell-outputWrapper">
<div class="jp-Collapser jp-OutputCollapser jp-Cell-outputCollapser">
</div>


<div class="jp-OutputArea jp-Cell-outputArea">
<div class="jp-OutputArea-child jp-OutputArea-executeResult">
    
    <div class="jp-OutputPrompt jp-OutputArea-prompt">Out[23]:</div>




<div class="jp-RenderedText jp-OutputArea-output jp-OutputArea-executeResult" data-mime-type="text/plain">
<pre>array([ 2, -3, -5,  5,  3, -2])</pre>
</div>

</div>

</div>

</div>

</div><div class="jp-Cell jp-CodeCell jp-Notebook-cell   ">
<div class="jp-Cell-inputWrapper">
<div class="jp-Collapser jp-InputCollapser jp-Cell-inputCollapser">
</div>
<div class="jp-InputArea jp-Cell-inputArea">
<div class="jp-InputPrompt jp-InputArea-prompt">In&nbsp;[24]:</div>
<div class="jp-CodeMirrorEditor jp-Editor jp-InputArea-editor" data-type="inline">
     <div class="CodeMirror cm-s-jupyter">
<div class=" highlight hl-ipython3"><pre><span></span><span class="n">N</span> <span class="o">=</span> <span class="n">x</span><span class="o">.</span><span class="n">size</span> <span class="o">+</span> <span class="n">h</span><span class="o">.</span><span class="n">size</span> <span class="o">-</span><span class="mi">1</span>
<span class="n">N</span>
</pre></div>

     </div>
</div>
</div>
</div>

<div class="jp-Cell-outputWrapper">
<div class="jp-Collapser jp-OutputCollapser jp-Cell-outputCollapser">
</div>


<div class="jp-OutputArea jp-Cell-outputArea">
<div class="jp-OutputArea-child jp-OutputArea-executeResult">
    
    <div class="jp-OutputPrompt jp-OutputArea-prompt">Out[24]:</div>




<div class="jp-RenderedText jp-OutputArea-output jp-OutputArea-executeResult" data-mime-type="text/plain">
<pre>6</pre>
</div>

</div>

</div>

</div>

</div><div class="jp-Cell jp-CodeCell jp-Notebook-cell   ">
<div class="jp-Cell-inputWrapper">
<div class="jp-Collapser jp-InputCollapser jp-Cell-inputCollapser">
</div>
<div class="jp-InputArea jp-Cell-inputArea">
<div class="jp-InputPrompt jp-InputArea-prompt">In&nbsp;[25]:</div>
<div class="jp-CodeMirrorEditor jp-Editor jp-InputArea-editor" data-type="inline">
     <div class="CodeMirror cm-s-jupyter">
<div class=" highlight hl-ipython3"><pre><span></span><span class="n">X</span> <span class="o">=</span> <span class="n">np</span><span class="o">.</span><span class="n">fft</span><span class="o">.</span><span class="n">fft</span><span class="p">(</span><span class="n">x</span><span class="p">,</span> <span class="n">N</span><span class="p">)</span>
<span class="n">H</span> <span class="o">=</span> <span class="n">np</span><span class="o">.</span><span class="n">fft</span><span class="o">.</span><span class="n">fft</span><span class="p">(</span><span class="n">h</span><span class="p">,</span> <span class="n">N</span><span class="p">)</span>
<span class="n">Y</span> <span class="o">=</span> <span class="n">X</span> <span class="o">*</span> <span class="n">H</span>
<span class="n">y</span> <span class="o">=</span> <span class="n">np</span><span class="o">.</span><span class="n">fft</span><span class="o">.</span><span class="n">ifft</span><span class="p">(</span><span class="n">Y</span><span class="p">,</span> <span class="n">N</span><span class="p">)</span>
<span class="n">y</span>
</pre></div>

     </div>
</div>
</div>
</div>

<div class="jp-Cell-outputWrapper">
<div class="jp-Collapser jp-OutputCollapser jp-Cell-outputCollapser">
</div>


<div class="jp-OutputArea jp-Cell-outputArea">
<div class="jp-OutputArea-child jp-OutputArea-executeResult">
    
    <div class="jp-OutputPrompt jp-OutputArea-prompt">Out[25]:</div>




<div class="jp-RenderedText jp-OutputArea-output jp-OutputArea-executeResult" data-mime-type="text/plain">
<pre>array([ 2.-8.2173011e-33j, -3.+8.2173011e-33j, -5.-8.2173011e-33j,
        5.+8.2173011e-33j,  3.-8.2173011e-33j, -2.+8.2173011e-33j])</pre>
</div>

</div>

</div>

</div>

</div><div class="jp-Cell jp-CodeCell jp-Notebook-cell   ">
<div class="jp-Cell-inputWrapper">
<div class="jp-Collapser jp-InputCollapser jp-Cell-inputCollapser">
</div>
<div class="jp-InputArea jp-Cell-inputArea">
<div class="jp-InputPrompt jp-InputArea-prompt">In&nbsp;[26]:</div>
<div class="jp-CodeMirrorEditor jp-Editor jp-InputArea-editor" data-type="inline">
     <div class="CodeMirror cm-s-jupyter">
<div class=" highlight hl-ipython3"><pre><span></span><span class="n">y</span><span class="o">.</span><span class="n">real</span>
</pre></div>

     </div>
</div>
</div>
</div>

<div class="jp-Cell-outputWrapper">
<div class="jp-Collapser jp-OutputCollapser jp-Cell-outputCollapser">
</div>


<div class="jp-OutputArea jp-Cell-outputArea">
<div class="jp-OutputArea-child jp-OutputArea-executeResult">
    
    <div class="jp-OutputPrompt jp-OutputArea-prompt">Out[26]:</div>




<div class="jp-RenderedText jp-OutputArea-output jp-OutputArea-executeResult" data-mime-type="text/plain">
<pre>array([ 2., -3., -5.,  5.,  3., -2.])</pre>
</div>

</div>

</div>

</div>

</div>
<div class="jp-Cell jp-MarkdownCell jp-Notebook-cell">
<div class="jp-Cell-inputWrapper">
<div class="jp-Collapser jp-InputCollapser jp-Cell-inputCollapser">
</div>
<div class="jp-InputArea jp-Cell-inputArea"><div class="jp-InputPrompt jp-InputArea-prompt">
</div><div class="jp-RenderedHTMLCommon jp-RenderedMarkdown jp-MarkdownOutput " data-mime-type="text/markdown">
<p>Выбор <code>method='fft'</code> соотвествует эффективному вычислению свертки с помощью быстрого преобразования Фурье.</p>

</div>
</div>
</div>
</div><div class="jp-Cell jp-CodeCell jp-Notebook-cell   ">
<div class="jp-Cell-inputWrapper">
<div class="jp-Collapser jp-InputCollapser jp-Cell-inputCollapser">
</div>
<div class="jp-InputArea jp-Cell-inputArea">
<div class="jp-InputPrompt jp-InputArea-prompt">In&nbsp;[48]:</div>
<div class="jp-CodeMirrorEditor jp-Editor jp-InputArea-editor" data-type="inline">
     <div class="CodeMirror cm-s-jupyter">
<div class=" highlight hl-ipython3"><pre><span></span><span class="n">signal</span><span class="o">.</span><span class="n">convolve</span><span class="p">(</span><span class="n">x</span><span class="p">,</span> <span class="n">h</span><span class="p">,</span> <span class="n">method</span><span class="o">=</span><span class="s1">&#39;fft&#39;</span><span class="p">)</span>
</pre></div>

     </div>
</div>
</div>
</div>

<div class="jp-Cell-outputWrapper">
<div class="jp-Collapser jp-OutputCollapser jp-Cell-outputCollapser">
</div>


<div class="jp-OutputArea jp-Cell-outputArea">
<div class="jp-OutputArea-child jp-OutputArea-executeResult">
    
    <div class="jp-OutputPrompt jp-OutputArea-prompt">Out[48]:</div>




<div class="jp-RenderedText jp-OutputArea-output jp-OutputArea-executeResult" data-mime-type="text/plain">
<pre>array([ 2, -3, -5,  5,  3, -2])</pre>
</div>

</div>

</div>

</div>

</div>
<div class="jp-Cell jp-MarkdownCell jp-Notebook-cell">
<div class="jp-Cell-inputWrapper">
<div class="jp-Collapser jp-InputCollapser jp-Cell-inputCollapser">
</div>
<div class="jp-InputArea jp-Cell-inputArea"><div class="jp-InputPrompt jp-InputArea-prompt">
</div><div class="jp-RenderedHTMLCommon jp-RenderedMarkdown jp-MarkdownOutput " data-mime-type="text/markdown">
<h3 id="%D0%9F%D1%80%D0%B8%D0%BC%D0%B5%D1%80-4.-%D0%9F%D0%BE%D1%81%D0%BB%D0%B5%D0%B4%D0%BE%D0%B2%D0%B0%D1%82%D0%B5%D0%BB%D1%8C%D0%BD%D0%BE%D1%81%D1%82%D0%B8-%D0%B1%D0%BE%D0%BB%D1%8C%D1%88%D0%BE%D0%B9-%D0%B4%D0%BB%D0%B8%D1%82%D0%B5%D0%BB%D1%8C%D0%BD%D0%BE%D1%81%D1%82%D0%B8.">&#1055;&#1088;&#1080;&#1084;&#1077;&#1088; 4. &#1055;&#1086;&#1089;&#1083;&#1077;&#1076;&#1086;&#1074;&#1072;&#1090;&#1077;&#1083;&#1100;&#1085;&#1086;&#1089;&#1090;&#1080; &#1073;&#1086;&#1083;&#1100;&#1096;&#1086;&#1081; &#1076;&#1083;&#1080;&#1090;&#1077;&#1083;&#1100;&#1085;&#1086;&#1089;&#1090;&#1080;.<a class="anchor-link" href="#%D0%9F%D1%80%D0%B8%D0%BC%D0%B5%D1%80-4.-%D0%9F%D0%BE%D1%81%D0%BB%D0%B5%D0%B4%D0%BE%D0%B2%D0%B0%D1%82%D0%B5%D0%BB%D1%8C%D0%BD%D0%BE%D1%81%D1%82%D0%B8-%D0%B1%D0%BE%D0%BB%D1%8C%D1%88%D0%BE%D0%B9-%D0%B4%D0%BB%D0%B8%D1%82%D0%B5%D0%BB%D1%8C%D0%BD%D0%BE%D1%81%D1%82%D0%B8.">&#182;</a></h3>
</div>
</div>
</div>
</div><div class="jp-Cell jp-CodeCell jp-Notebook-cell   ">
<div class="jp-Cell-inputWrapper">
<div class="jp-Collapser jp-InputCollapser jp-Cell-inputCollapser">
</div>
<div class="jp-InputArea jp-Cell-inputArea">
<div class="jp-InputPrompt jp-InputArea-prompt">In&nbsp;[27]:</div>
<div class="jp-CodeMirrorEditor jp-Editor jp-InputArea-editor" data-type="inline">
     <div class="CodeMirror cm-s-jupyter">
<div class=" highlight hl-ipython3"><pre><span></span><span class="n">N</span><span class="o">=</span><span class="mi">2</span><span class="o">**</span><span class="mi">19</span>
<span class="n">x</span> <span class="o">=</span> <span class="n">np</span><span class="o">.</span><span class="n">random</span><span class="o">.</span><span class="n">normal</span><span class="p">(</span><span class="mi">0</span><span class="p">,</span> <span class="mf">0.1</span><span class="p">,</span> <span class="n">N</span><span class="p">)</span>
<span class="n">h</span> <span class="o">=</span> <span class="n">np</span><span class="o">.</span><span class="n">random</span><span class="o">.</span><span class="n">normal</span><span class="p">(</span><span class="mi">0</span><span class="p">,</span> <span class="mf">0.1</span><span class="p">,</span> <span class="n">N</span><span class="p">)</span>
<span class="n">N</span>
</pre></div>

     </div>
</div>
</div>
</div>

<div class="jp-Cell-outputWrapper">
<div class="jp-Collapser jp-OutputCollapser jp-Cell-outputCollapser">
</div>


<div class="jp-OutputArea jp-Cell-outputArea">
<div class="jp-OutputArea-child jp-OutputArea-executeResult">
    
    <div class="jp-OutputPrompt jp-OutputArea-prompt">Out[27]:</div>




<div class="jp-RenderedText jp-OutputArea-output jp-OutputArea-executeResult" data-mime-type="text/plain">
<pre>524288</pre>
</div>

</div>

</div>

</div>

</div><div class="jp-Cell jp-CodeCell jp-Notebook-cell   ">
<div class="jp-Cell-inputWrapper">
<div class="jp-Collapser jp-InputCollapser jp-Cell-inputCollapser">
</div>
<div class="jp-InputArea jp-Cell-inputArea">
<div class="jp-InputPrompt jp-InputArea-prompt">In&nbsp;[28]:</div>
<div class="jp-CodeMirrorEditor jp-Editor jp-InputArea-editor" data-type="inline">
     <div class="CodeMirror cm-s-jupyter">
<div class=" highlight hl-ipython3"><pre><span></span><span class="n">start</span><span class="o">=</span><span class="n">time</span><span class="o">.</span><span class="n">time</span><span class="p">()</span>
<span class="n">y</span><span class="o">=</span><span class="n">signal</span><span class="o">.</span><span class="n">convolve</span><span class="p">(</span><span class="n">x</span><span class="p">,</span> <span class="n">h</span><span class="p">,</span> <span class="n">method</span><span class="o">=</span><span class="s1">&#39;fft&#39;</span><span class="p">)</span>
<span class="n">time2</span><span class="o">=</span><span class="n">time</span><span class="o">.</span><span class="n">time</span><span class="p">()</span>
<span class="nb">print</span><span class="p">(</span><span class="n">time2</span><span class="o">-</span><span class="n">start</span><span class="p">,</span> <span class="s2">&quot;c&quot;</span><span class="p">)</span>
</pre></div>

     </div>
</div>
</div>
</div>

<div class="jp-Cell-outputWrapper">
<div class="jp-Collapser jp-OutputCollapser jp-Cell-outputCollapser">
</div>


<div class="jp-OutputArea jp-Cell-outputArea">
<div class="jp-OutputArea-child">
    
    <div class="jp-OutputPrompt jp-OutputArea-prompt"></div>


<div class="jp-RenderedText jp-OutputArea-output" data-mime-type="text/plain">
<pre>0.15632987022399902 c
</pre>
</div>
</div>

</div>

</div>

</div>
<div class="jp-Cell jp-MarkdownCell jp-Notebook-cell">
<div class="jp-Cell-inputWrapper">
<div class="jp-Collapser jp-InputCollapser jp-Cell-inputCollapser">
</div>
<div class="jp-InputArea jp-Cell-inputArea"><div class="jp-InputPrompt jp-InputArea-prompt">
</div><div class="jp-RenderedHTMLCommon jp-RenderedMarkdown jp-MarkdownOutput " data-mime-type="text/markdown">
<p>Сравним время работы программы для алгоритма с использованием БПФ и для прямого алгоритма вычисления свертки.</p>

</div>
</div>
</div>
</div><div class="jp-Cell jp-CodeCell jp-Notebook-cell   ">
<div class="jp-Cell-inputWrapper">
<div class="jp-Collapser jp-InputCollapser jp-Cell-inputCollapser">
</div>
<div class="jp-InputArea jp-Cell-inputArea">
<div class="jp-InputPrompt jp-InputArea-prompt">In&nbsp;[30]:</div>
<div class="jp-CodeMirrorEditor jp-Editor jp-InputArea-editor" data-type="inline">
     <div class="CodeMirror cm-s-jupyter">
<div class=" highlight hl-ipython3"><pre><span></span><span class="n">start</span><span class="o">=</span><span class="n">time</span><span class="o">.</span><span class="n">time</span><span class="p">()</span>
<span class="n">signal</span><span class="o">.</span><span class="n">convolve</span><span class="p">(</span><span class="n">x</span><span class="p">,</span> <span class="n">h</span><span class="p">,</span> <span class="n">method</span><span class="o">=</span><span class="s1">&#39;fft&#39;</span><span class="p">)</span>
<span class="n">time2</span><span class="o">=</span><span class="n">time</span><span class="o">.</span><span class="n">time</span><span class="p">()</span>
<span class="nb">print</span><span class="p">(</span><span class="n">time2</span><span class="o">-</span><span class="n">start</span><span class="p">,</span> <span class="s2">&quot;c&quot;</span><span class="p">)</span>
</pre></div>

     </div>
</div>
</div>
</div>

<div class="jp-Cell-outputWrapper">
<div class="jp-Collapser jp-OutputCollapser jp-Cell-outputCollapser">
</div>


<div class="jp-OutputArea jp-Cell-outputArea">
<div class="jp-OutputArea-child">
    
    <div class="jp-OutputPrompt jp-OutputArea-prompt"></div>


<div class="jp-RenderedText jp-OutputArea-output" data-mime-type="text/plain">
<pre>0.14681077003479004 c
</pre>
</div>
</div>

</div>

</div>

</div><div class="jp-Cell jp-CodeCell jp-Notebook-cell   ">
<div class="jp-Cell-inputWrapper">
<div class="jp-Collapser jp-InputCollapser jp-Cell-inputCollapser">
</div>
<div class="jp-InputArea jp-Cell-inputArea">
<div class="jp-InputPrompt jp-InputArea-prompt">In&nbsp;[31]:</div>
<div class="jp-CodeMirrorEditor jp-Editor jp-InputArea-editor" data-type="inline">
     <div class="CodeMirror cm-s-jupyter">
<div class=" highlight hl-ipython3"><pre><span></span><span class="n">start</span><span class="o">=</span><span class="n">time</span><span class="o">.</span><span class="n">time</span><span class="p">()</span>
<span class="n">signal</span><span class="o">.</span><span class="n">convolve</span><span class="p">(</span><span class="n">x</span><span class="p">,</span> <span class="n">h</span><span class="p">,</span> <span class="n">method</span><span class="o">=</span><span class="s1">&#39;direct&#39;</span><span class="p">)</span>
<span class="n">time2</span><span class="o">=</span><span class="n">time</span><span class="o">.</span><span class="n">time</span><span class="p">()</span>
<span class="nb">print</span><span class="p">(</span><span class="n">time2</span><span class="o">-</span><span class="n">start</span><span class="p">,</span> <span class="s2">&quot;c&quot;</span><span class="p">)</span>
</pre></div>

     </div>
</div>
</div>
</div>

<div class="jp-Cell-outputWrapper">
<div class="jp-Collapser jp-OutputCollapser jp-Cell-outputCollapser">
</div>


<div class="jp-OutputArea jp-Cell-outputArea">
<div class="jp-OutputArea-child">
    
    <div class="jp-OutputPrompt jp-OutputArea-prompt"></div>


<div class="jp-RenderedText jp-OutputArea-output" data-mime-type="text/plain">
<pre>14.661340475082397 c
</pre>
</div>
</div>

</div>

</div>

</div><div class="jp-Cell jp-CodeCell jp-Notebook-cell jp-mod-noOutputs  ">
<div class="jp-Cell-inputWrapper">
<div class="jp-Collapser jp-InputCollapser jp-Cell-inputCollapser">
</div>
<div class="jp-InputArea jp-Cell-inputArea">
<div class="jp-InputPrompt jp-InputArea-prompt">In&nbsp;[&nbsp;]:</div>
<div class="jp-CodeMirrorEditor jp-Editor jp-InputArea-editor" data-type="inline">
     <div class="CodeMirror cm-s-jupyter">
<div class=" highlight hl-ipython3"><pre><span></span> 
</pre></div>

     </div>
</div>
</div>
</div>

</div>
<div class="jp-Cell jp-MarkdownCell jp-Notebook-cell">
<div class="jp-Cell-inputWrapper">
<div class="jp-Collapser jp-InputCollapser jp-Cell-inputCollapser">
</div>
<div class="jp-InputArea jp-Cell-inputArea"><div class="jp-InputPrompt jp-InputArea-prompt">
</div><div class="jp-RenderedHTMLCommon jp-RenderedMarkdown jp-MarkdownOutput " data-mime-type="text/markdown">
<h2 id="%D0%A1%D0%B2%D0%BE%D0%B9%D1%81%D1%82%D0%B2%D0%B0-%D0%BB%D0%B8%D0%BD%D0%B5%D0%B9%D0%BD%D0%BE%D0%B9-%D0%B4%D0%B8%D1%81%D0%BA%D1%80%D0%B5%D1%82%D0%BD%D0%BE%D0%B9-%D1%81%D0%B2%D0%B5%D1%80%D1%82%D0%BA%D0%B8">&#1057;&#1074;&#1086;&#1081;&#1089;&#1090;&#1074;&#1072; &#1083;&#1080;&#1085;&#1077;&#1081;&#1085;&#1086;&#1081; &#1076;&#1080;&#1089;&#1082;&#1088;&#1077;&#1090;&#1085;&#1086;&#1081; &#1089;&#1074;&#1077;&#1088;&#1090;&#1082;&#1080;<a class="anchor-link" href="#%D0%A1%D0%B2%D0%BE%D0%B9%D1%81%D1%82%D0%B2%D0%B0-%D0%BB%D0%B8%D0%BD%D0%B5%D0%B9%D0%BD%D0%BE%D0%B9-%D0%B4%D0%B8%D1%81%D0%BA%D1%80%D0%B5%D1%82%D0%BD%D0%BE%D0%B9-%D1%81%D0%B2%D0%B5%D1%80%D1%82%D0%BA%D0%B8">&#182;</a></h2>
</div>
</div>
</div>
</div>
<div class="jp-Cell jp-MarkdownCell jp-Notebook-cell">
<div class="jp-Cell-inputWrapper">
<div class="jp-Collapser jp-InputCollapser jp-Cell-inputCollapser">
</div>
<div class="jp-InputArea jp-Cell-inputArea"><div class="jp-InputPrompt jp-InputArea-prompt">
</div><div class="jp-RenderedHTMLCommon jp-RenderedMarkdown jp-MarkdownOutput " data-mime-type="text/markdown">
<p>По теореме о свертке во временной области для ДВПФ если  $x[k]\overset{\text{ДВПФ}}\longleftrightarrow X(\nu)$ и  $h[k]\overset{\text{ДВПФ}}\longleftrightarrow H(\nu)$, то
\begin{equation}
\sum_{m=-\infty}^\infty x[m]h[k-m]\overset{\text{ДВПФ}}\longleftrightarrow  X(\nu)H(\nu).
\end{equation}
В левой части стоит дискретная свертка сигналов, в правой — произведение спектров.</p>

</div>
</div>
</div>
</div>
<div class="jp-Cell jp-MarkdownCell jp-Notebook-cell">
<div class="jp-Cell-inputWrapper">
<div class="jp-Collapser jp-InputCollapser jp-Cell-inputCollapser">
</div>
<div class="jp-InputArea jp-Cell-inputArea"><div class="jp-InputPrompt jp-InputArea-prompt">
</div><div class="jp-RenderedHTMLCommon jp-RenderedMarkdown jp-MarkdownOutput " data-mime-type="text/markdown">
<p>Из этой теоремы становится очевидным, что для абсолютно суммируемых поледовательностей линейная дискретная сверка будет обладать следующими свойствами:</p>

</div>
</div>
</div>
</div>
<div class="jp-Cell jp-MarkdownCell jp-Notebook-cell">
<div class="jp-Cell-inputWrapper">
<div class="jp-Collapser jp-InputCollapser jp-Cell-inputCollapser">
</div>
<div class="jp-InputArea jp-Cell-inputArea"><div class="jp-InputPrompt jp-InputArea-prompt">
</div><div class="jp-RenderedHTMLCommon jp-RenderedMarkdown jp-MarkdownOutput " data-mime-type="text/markdown">
<ul>
<li>линейность</li>
</ul>
<p>$ (\alpha x_1[k] + \beta x_2[k]) \otimes h[k] =
\alpha x_1[k]\otimes h[k] + \beta x_2[k] \otimes h[k]$</p>
<ul>
<li>коммунитативность</li>
</ul>
<p>$x[k] \otimes h[k] = h[k] \otimes x[k] $</p>
<ul>
<li>ассоциативность</li>
</ul>
<p>$(x[k] \otimes h_1[k] )\otimes h_2[k]  = x[k] \otimes (h_1[k] \otimes h_2[k])  $</p>

</div>
</div>
</div>
</div>
<div class="jp-Cell jp-MarkdownCell jp-Notebook-cell">
<div class="jp-Cell-inputWrapper">
<div class="jp-Collapser jp-InputCollapser jp-Cell-inputCollapser">
</div>
<div class="jp-InputArea jp-Cell-inputArea"><div class="jp-InputPrompt jp-InputArea-prompt">
</div><div class="jp-RenderedHTMLCommon jp-RenderedMarkdown jp-MarkdownOutput " data-mime-type="text/markdown">
<p><img src="data:image/png;base64,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" alt="image.png" /></p>

</div>
</div>
</div>
</div>
<div class="jp-Cell jp-MarkdownCell jp-Notebook-cell">
<div class="jp-Cell-inputWrapper">
<div class="jp-Collapser jp-InputCollapser jp-Cell-inputCollapser">
</div>
<div class="jp-InputArea jp-Cell-inputArea"><div class="jp-InputPrompt jp-InputArea-prompt">
</div><div class="jp-RenderedHTMLCommon jp-RenderedMarkdown jp-MarkdownOutput " data-mime-type="text/markdown">
<p>Из свойств свертки, в частности, следует, что с точности до разницы, связанной с конечным числом разрядов, при перестановке порядка следования фильтров выход системы не изменяется.</p>

</div>
</div>
</div>
</div><div class="jp-Cell jp-CodeCell jp-Notebook-cell jp-mod-noOutputs  ">
<div class="jp-Cell-inputWrapper">
<div class="jp-Collapser jp-InputCollapser jp-Cell-inputCollapser">
</div>
<div class="jp-InputArea jp-Cell-inputArea">
<div class="jp-InputPrompt jp-InputArea-prompt">In&nbsp;[&nbsp;]:</div>
<div class="jp-CodeMirrorEditor jp-Editor jp-InputArea-editor" data-type="inline">
     <div class="CodeMirror cm-s-jupyter">
<div class=" highlight hl-ipython3"><pre><span></span> 
</pre></div>

     </div>
</div>
</div>
</div>

</div>
</body>







</html>

  <!-- end block body safe notebook.html -->

  </div>


  
    <footer class="footer hidden-print">
      <div class="container">
        <div class="col-md-4">
          <p>
            This website does not host notebooks, it only renders notebooks
            available on other websites.
          </p>
        </div>

        <div class="col-md-4">
          <p>
            Delivered by <a href="http://www.fastly.com/">Fastly</a>,
            Rendered by <a href="https://ovhcloud.com">OVHcloud</a>
          </p>
          <p>
            nbviewer GitHub <a href="https://github.com/jupyter/nbviewer">repository</a>.
          </p>
        </div>

        <div class="col-md-4">
          
  
            
              <p>
                nbviewer version:
                <a href="https://github.com/jupyter/nbviewer/commit/8b013f79afa22d2ed627fa234783b66fde5690de">
                  8b013f7
                </a>
              </p>
            
          
  
  <p>
    nbconvert version: <a href="https://github.com/jupyter/nbconvert/releases/tag/7.2.3">
      7.2.3
    </a>
  </p>
  

          
  
  
  <p>
    Rendered
    <span class='date' data-date='Mon, 21 Oct 2024 16:31:23 UTC' title='Mon, 21 Oct 2024 16:31:23 UTC'>(Mon, 21 Oct 2024 16:31:23 UTC)</span>
  </p>
<style>
 /* I did not found other ways to override CSS for now */
div.reveal { font-size: 12px; } 
</style>
  

        </div>
      </div>
    </footer>
  

  <script src="/static/components/bootstrap/js/bootstrap.min.js"></script>
  <script src="/static/components/headroom.js/dist/headroom.min.js"></script>
  <script src="/static/components/headroom.js/dist/jQuery.headroom.min.js"></script>

  
  
  <script>
    $(function(){ $("#menubar").headroom({
      tolerance: 5,
      offset: 205,
      classes: {
        initial: "animated",
        pinned: "slideInDown",
        unpinned: "slideOutUp"
      }
    })});
  </script>


  
  <script>
    (function(i,s,o,g,r,a,m){i['GoogleAnalyticsObject']=r;i[r]=i[r]||function(){
      (i[r].q=i[r].q||[]).push(arguments)},i[r].l=1*new Date();a=s.createElement(o),
      m=s.getElementsByTagName(o)[0];a.async=1;a.src=g;m.parentNode.insertBefore(a,m)
    })(window,document,'script','https://www.google-analytics.com/analytics.js','ga');
    ga('create', 'UA-52617120-5', 'auto',
       {'storage': 'none'});
    ga('set', 'anonymizeIp', true);
    ga('send', 'pageview');
  </script>
  
  <script>
    require({
        paths: {
          moment: "/static/components/moment/min/moment.min.js"
        }
      }, ["moment"], function(moment){
      var date = $("footer .date"),
        m = moment(new Date(date.data('date'))),
        update = function(){ date.text(m.fromNow()); };
      setInterval(update, 61*1000);
      update();
      var w = $(window).scroll(function(event){
        $("body").toggleClass("scrolled", w.scrollTop() > 0);
      });
    });
  </script>

  <!--NEW RELIC Stop Perf Measurement-->
  
  <!--NEW RELIC End-->
</body>
</html>